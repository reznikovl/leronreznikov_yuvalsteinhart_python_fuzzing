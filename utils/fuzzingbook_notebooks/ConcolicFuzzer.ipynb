{
 "cells": [
  {
   "cell_type": "markdown",
   "metadata": {
    "slideshow": {
     "slide_type": "slide"
    }
   },
   "source": [
    "# Concolic Fuzzing\n",
    "\n",
    "In the [chapter on information flow](InformationFlow.ipynb), we have seen how one can use dynamic taints to produce more intelligent test cases than simply looking for program crashes. We have also seen how one can use the taints to update the grammar, and hence focus more on the dangerous methods. "
   ]
  },
  {
   "cell_type": "markdown",
   "metadata": {
    "slideshow": {
     "slide_type": "fragment"
    }
   },
   "source": [
    "While taints are helpful, uninterpreted strings is only one of the attack vectors. Can we say anything more about the properties of variables at any point in the execution? For example, can we say for sure that a function will always receive the buffers with the correct length?"
   ]
  },
  {
   "cell_type": "markdown",
   "metadata": {
    "slideshow": {
     "slide_type": "subslide"
    }
   },
   "source": [
    " _Concolic execution_ offers a solution here. The idea of _concolic execution_ over a function is as follows: We start with a sample input for the function, and execute the function under trace. At each point the execution passes through a conditional, we _save the conditional encountered_ in the form of _relations between symbolic variables._ Here, a _symbolic variable_ can be thought of as a sort of placeholder for the real variable, sort of like the x in solving for x in Algebra. The symbolic variables can be used to specify relations without actually solving them."
   ]
  },
  {
   "cell_type": "markdown",
   "metadata": {
    "slideshow": {
     "slide_type": "fragment"
    }
   },
   "source": [
    "With concolic execution, one can collect the constraints that an execution path encounters, and use it to answer questions about the program behavior at any point we prefer along the program execution path. We can further use concolic execution to enhance fuzzing."
   ]
  },
  {
   "cell_type": "markdown",
   "metadata": {
    "slideshow": {
     "slide_type": "subslide"
    }
   },
   "source": [
    "In this chapter, we explore in depth how to execute a Python function concolically, and how concolic execution can be used to enhance fuzzing."
   ]
  },
  {
   "cell_type": "code",
   "execution_count": 1,
   "metadata": {
    "execution": {
     "iopub.execute_input": "2022-01-05T17:28:00.161011Z",
     "iopub.status.busy": "2022-01-05T17:28:00.159565Z",
     "iopub.status.idle": "2022-01-05T17:28:00.383506Z",
     "shell.execute_reply": "2022-01-05T17:28:00.383943Z"
    },
    "slideshow": {
     "slide_type": "skip"
    }
   },
   "outputs": [
    {
     "data": {
      "text/html": [
       "\n",
       "        <iframe\n",
       "            width=\"640\"\n",
       "            height=\"360\"\n",
       "            src=\"https://www.youtube-nocookie.com/embed/5jBfa1njy18\"\n",
       "            frameborder=\"0\"\n",
       "            allowfullscreen\n",
       "        ></iframe>\n",
       "        "
      ],
      "text/plain": [
       "<IPython.lib.display.IFrame at 0x10e82c100>"
      ]
     },
     "execution_count": 1,
     "metadata": {},
     "output_type": "execute_result"
    }
   ],
   "source": [
    "from bookutils import YouTubeVideo\n",
    "YouTubeVideo('5jBfa1njy18')"
   ]
  },
  {
   "cell_type": "markdown",
   "metadata": {
    "button": false,
    "new_sheet": false,
    "run_control": {
     "read_only": false
    },
    "slideshow": {
     "slide_type": "subslide"
    }
   },
   "source": [
    "**Prerequisites**\n",
    "\n",
    "* You should have read the [chapter on coverage](Coverage.ipynb).\n",
    "* You should have read the [chapter on information flow](InformationFlow.ipynb).\n",
    "* A familiarity with the basic idea of [SMT solvers](https://en.wikipedia.org/wiki/Satisfiability_modulo_theories) would be useful."
   ]
  },
  {
   "cell_type": "code",
   "execution_count": 2,
   "metadata": {
    "execution": {
     "iopub.execute_input": "2022-01-05T17:28:00.391253Z",
     "iopub.status.busy": "2022-01-05T17:28:00.390323Z",
     "iopub.status.idle": "2022-01-05T17:28:00.392906Z",
     "shell.execute_reply": "2022-01-05T17:28:00.393513Z"
    },
    "slideshow": {
     "slide_type": "skip"
    }
   },
   "outputs": [],
   "source": [
    "import bookutils"
   ]
  },
  {
   "cell_type": "code",
   "execution_count": 3,
   "metadata": {
    "execution": {
     "iopub.execute_input": "2022-01-05T17:28:00.398396Z",
     "iopub.status.busy": "2022-01-05T17:28:00.397493Z",
     "iopub.status.idle": "2022-01-05T17:28:00.399606Z",
     "shell.execute_reply": "2022-01-05T17:28:00.400126Z"
    },
    "slideshow": {
     "slide_type": "skip"
    }
   },
   "outputs": [],
   "source": [
    "from typing import List, Callable, Dict, Tuple"
   ]
  },
  {
   "cell_type": "markdown",
   "metadata": {
    "slideshow": {
     "slide_type": "skip"
    }
   },
   "source": [
    "## Synopsis\n",
    "<!-- Automatically generated. Do not edit. -->\n",
    "\n",
    "To [use the code provided in this chapter](Importing.ipynb), write\n",
    "\n",
    "```python\n",
    ">>> from fuzzingbook.ConcolicFuzzer import <identifier>\n",
    "```\n",
    "\n",
    "and then make use of the following features.\n",
    "\n",
    "\n",
    "This chapter defines two main classes: `SimpleConcolicFuzzer` and `ConcolicGrammarFuzzer`. The `SimpleConcolicFuzzer` first uses a sample input to collect predicates encountered. The fuzzer then negates random predicates to generate new input constraints. These, when solved, produce inputs that explore paths that are close to the original path.\n",
    "\n",
    "### ConcolicTracer\n",
    "\n",
    "At the heart of both fuzzers lies the concept of a _concolic tracer_, capturing symbolic variables and path conditions as a program gets executed.\n",
    "\n",
    "`ConcolicTracer` is used in a `with` block; the syntax `tracer[function]` executes `function` within the `tracer` while capturing conditions. Here is an example for the `cgi_decode()` function:\n",
    "\n",
    "```python\n",
    ">>> with ConcolicTracer() as _:\n",
    ">>>     _[cgi_decode]('a%20d')\n",
    "```\n",
    "Once executed, we can retrieve the symbolic variables in the `decls` attribute. This is a mapping of symbolic variables to types.\n",
    "\n",
    "```python\n",
    ">>> _.decls\n",
    "{'cgi_decode_s_str_1': 'String'}\n",
    "```\n",
    "The extracted path conditions can be found in the `path` attribute:\n",
    "\n",
    "```python\n",
    ">>> _.path\n",
    "[Not(str.substr(cgi_decode_s_str_1, 0, 1) == \"+\"),\n",
    " Not(str.substr(cgi_decode_s_str_1, 0, 1) == \"%\"),\n",
    " Not(str.substr(cgi_decode_s_str_1, 1, 1) == \"+\"),\n",
    " str.substr(cgi_decode_s_str_1, 1, 1) == \"%\",\n",
    " Not(str.substr(cgi_decode_s_str_1, 2, 1) == \"0\"),\n",
    " Not(str.substr(cgi_decode_s_str_1, 2, 1) == \"1\"),\n",
    " str.substr(cgi_decode_s_str_1, 2, 1) == \"2\",\n",
    " str.substr(cgi_decode_s_str_1, 3, 1) == \"0\",\n",
    " Not(str.substr(cgi_decode_s_str_1, 4, 1) == \"+\"),\n",
    " Not(str.substr(cgi_decode_s_str_1, 4, 1) == \"%\")]\n",
    "```\n",
    "The `context` attribute holds a pair of `decls` and `path` attributes; this is useful for passing it into the `ConcolicTracer` constructor.\n",
    "\n",
    "```python\n",
    ">>> assert _.context == (_.decls, _.path)\n",
    "```\n",
    "We can solve these constraints to obtain a value for the function parameters that follow the same path as the original (traced) invocation:\n",
    "\n",
    "```python\n",
    ">>> _.zeval()\n",
    "('sat', {'s': ('\\\\x00%20', 'String')})\n",
    "```\n",
    "The `zeval()` function also allows to pass _alternate_ or _negated_ constraints. See the chapter for examples.\n",
    "\n",
    "![](PICS/ConcolicFuzzer-synopsis-1.svg)\n",
    "\n",
    "### SimpleConcolicFuzzer\n",
    "\n",
    "The constraints obtained from `ConcolicTracer` are added to the concolic fuzzer as follows:\n",
    "\n",
    "```python\n",
    ">>> scf = SimpleConcolicFuzzer()\n",
    ">>> scf.add_trace(_, 'a%20d')\n",
    "```\n",
    "The concolic fuzzer then uses the constraints added to guide its fuzzing as follows:\n",
    "\n",
    "```python\n",
    ">>> scf = SimpleConcolicFuzzer()\n",
    ">>> for i in range(20):\n",
    ">>>     v = scf.fuzz()\n",
    ">>>     if v is None:\n",
    ">>>         break\n",
    ">>>     print(repr(v))\n",
    ">>>     with ExpectError(print_traceback=False):\n",
    ">>>         with ConcolicTracer() as _:\n",
    ">>>             _[cgi_decode](v)\n",
    ">>>     scf.add_trace(_, v)\n",
    "' '\n",
    "'+\\\\x00'\n",
    "'++\\\\x00'\n",
    "'+++\\\\x00'\n",
    "'+\\\\x00%\\\\x00'\n",
    "\n",
    "ValueError: Invalid encoding (expected)\n",
    "ValueError: Invalid encoding (expected)\n",
    "\n",
    "'+\\\\x00\\\\x00%\\\\x00'\n",
    "'+\\\\x81\\\\x04\\\\x80!%C\\\\x00'\n",
    "\n",
    "ValueError: Invalid encoding (expected)\n",
    "\n",
    "'+\\\\x81\\\\x04\\\\x80!%8\\\\x00'\n",
    "\n",
    "ValueError: Invalid encoding (expected)\n",
    "\n",
    "'++%\\\\x00'\n",
    "\n",
    "ValueError: Invalid encoding (expected)\n",
    "\n",
    "'+\\\\x00\\\\x00\\\\x00\\\\x00\\\\x00\\\\x00\\\\x00\\\\x00\\\\x00\\\\x00+\\\\x00'\n",
    "'+\\\\x81\\\\x04\\\\x80!%6\\\\x00'\n",
    "\n",
    "ValueError: Invalid encoding (expected)\n",
    "ValueError: Invalid encoding (expected)\n",
    "\n",
    "'++\\\\x00\\\\x00%\\\\x00'\n",
    "'+++\\\\x00+\\\\x00'\n",
    "'+\\\\x81\\\\x04\\\\x80!%8\\\\x00'\n",
    "\n",
    "ValueError: Invalid encoding (expected)\n",
    "ValueError: Invalid encoding (expected)\n",
    "\n",
    "'+\\\\x81\\\\x04\\\\x80!%1\\\\x00'\n",
    "'+\\\\x81\\\\x04\\\\x80!%A\\\\x00'\n",
    "\n",
    "ValueError: Invalid encoding (expected)\n",
    "ValueError: Invalid encoding (expected)\n",
    "\n",
    "'+\\\\x81\\\\x04\\\\x80!%2\\\\x00'\n",
    "'++%\\\\x008\\\\x00'\n",
    "'++\\\\x00\\\\x00\\\\x00\\\\x00\\\\x00\\\\x00%\\\\x00'\n",
    "\n",
    "ValueError: Invalid encoding (expected)\n",
    "ValueError: Invalid encoding (expected)\n",
    "\n",
    "'+\\\\x81\\\\x04\\\\x80!%D\\\\x00'\n",
    "\n",
    "ValueError: Invalid encoding (expected)\n",
    "\n",
    "```\n",
    "We see how the additional inputs generated explore additional paths.\n",
    "\n",
    "![](PICS/ConcolicFuzzer-synopsis-2.svg)\n",
    "\n",
    "### ConcolicGrammarFuzzer\n",
    "\n",
    "The `SimpleConcolicFuzzer` simply explores all paths near the original path traversed by the sample input. It uses a simple mechanism to explore the paths that are near the paths that it knows about, and other than code paths, knows nothing about the input.\n",
    "\n",
    "The `ConcolicGrammarFuzzer` on the other hand, knows about the input grammar, and can collect feedback from the subject under fuzzing. It can lift some of the constraints encountered to the grammar, enabling deeper fuzzing. It is used as follows:\n",
    "\n",
    "```python\n",
    ">>> from InformationFlow import INVENTORY_GRAMMAR, SQLException\n",
    ">>> cgf = ConcolicGrammarFuzzer(INVENTORY_GRAMMAR)\n",
    ">>> cgf.prune_tokens(prune_tokens)\n",
    ">>> for i in range(10):\n",
    ">>>     query = cgf.fuzz()\n",
    ">>>     print(query)\n",
    ">>>     with ConcolicTracer() as _:\n",
    ">>>         with ExpectError(print_traceback=False):\n",
    ">>>             try:\n",
    ">>>                 res = _[db_select](query)\n",
    ">>>                 print(repr(res))\n",
    ">>>             except SQLException as e:\n",
    ">>>                 print(e)\n",
    ">>>         cgf.update_grammar(_)\n",
    ">>>         print()\n",
    "update h4 set J=y9z where a/T-P-k(S)<X*g+J/r*j\n",
    "Table ('h4') was not found\n",
    "\n",
    "select --1 from months where K74(h,x)<y+D+T*U+l(B)\n",
    "Invalid WHERE ('(K74(h,x)<y+D+T*U+l(B))')\n",
    "\n",
    "select j/./A,n,n from months where 3>K(R)-t/c-D\n",
    "Invalid WHERE ('(3>K(R)-t/c-D)')\n",
    "\n",
    "update months set e=O,a=W,W=t where (-4.52)==2.7\n",
    "Column ('e') was not found\n",
    "\n",
    "select S!=I from :x21 where I*Z>X==(g(S,B))\n",
    "Table (':x21') was not found\n",
    "\n",
    "update w85 set M=i,L=s where ((N+z-x/:+t))==c+.\n",
    "Table ('w85') was not found\n",
    "\n",
    "select r==C>u/h*x/Q,T,(a),w<Z from months\n",
    "Invalid WHERE ('(r==C>u/h*x/Q,T,(a),w<Z)')\n",
    "\n",
    "update vehicles set zN8=Zr8 where Q/M/b/K==.!=b\n",
    "Column ('zN8') was not found\n",
    "\n",
    "delete from vehicles where V!=x-e*_/e+L==N5rr(T4)\n",
    "Invalid WHERE ('V!=x-e*_/e+L==N5rr(T4)')\n",
    "\n",
    "delete from vehicles where ((j))/c-O/.*B+u>G(6.14)\n",
    "Invalid WHERE ('((j))/c-O/.*B+u>G(6.14)')\n",
    "\n",
    "\n",
    "```\n",
    "![](PICS/ConcolicFuzzer-synopsis-3.svg)\n",
    "\n"
   ]
  },
  {
   "cell_type": "markdown",
   "metadata": {
    "slideshow": {
     "slide_type": "slide"
    },
    "toc-hr-collapsed": false
   },
   "source": [
    "## Tracking Constraints"
   ]
  },
  {
   "cell_type": "markdown",
   "metadata": {
    "slideshow": {
     "slide_type": "fragment"
    }
   },
   "source": [
    "In the chapter on [information flow](InformationFlow), we have seen how dynamic taints can be used to direct fuzzing by indicating which part of input reached interesting places. However, dynamic taint tracking is limited in the information that it can propagate. For example, we might want to explore what happens when certain properties of the input changes."
   ]
  },
  {
   "cell_type": "markdown",
   "metadata": {
    "slideshow": {
     "slide_type": "fragment"
    }
   },
   "source": [
    "For example, say we have a function `factorial()` that returns the *factorial value* of its input."
   ]
  },
  {
   "cell_type": "code",
   "execution_count": 4,
   "metadata": {
    "execution": {
     "iopub.execute_input": "2022-01-05T17:28:00.406832Z",
     "iopub.status.busy": "2022-01-05T17:28:00.405258Z",
     "iopub.status.idle": "2022-01-05T17:28:00.408289Z",
     "shell.execute_reply": "2022-01-05T17:28:00.408931Z"
    },
    "slideshow": {
     "slide_type": "subslide"
    }
   },
   "outputs": [],
   "source": [
    "def factorial(n):\n",
    "    if n < 0:\n",
    "        return None\n",
    "\n",
    "    if n == 0:\n",
    "        return 1\n",
    "\n",
    "    if n == 1:\n",
    "        return 1\n",
    "\n",
    "    v = 1\n",
    "    while n != 0:\n",
    "        v = v * n\n",
    "        n = n - 1\n",
    "\n",
    "    return v"
   ]
  },
  {
   "cell_type": "markdown",
   "metadata": {
    "slideshow": {
     "slide_type": "subslide"
    }
   },
   "source": [
    "We exercise the function with a value of `5`."
   ]
  },
  {
   "cell_type": "code",
   "execution_count": 5,
   "metadata": {
    "execution": {
     "iopub.execute_input": "2022-01-05T17:28:00.414820Z",
     "iopub.status.busy": "2022-01-05T17:28:00.413843Z",
     "iopub.status.idle": "2022-01-05T17:28:00.417678Z",
     "shell.execute_reply": "2022-01-05T17:28:00.418158Z"
    },
    "slideshow": {
     "slide_type": "fragment"
    }
   },
   "outputs": [
    {
     "data": {
      "text/plain": [
       "120"
      ]
     },
     "execution_count": 5,
     "metadata": {},
     "output_type": "execute_result"
    }
   ],
   "source": [
    "factorial(5)"
   ]
  },
  {
   "cell_type": "markdown",
   "metadata": {
    "slideshow": {
     "slide_type": "fragment"
    }
   },
   "source": [
    "Is this sufficient to explore all the features of the function? How do we know? One way to verify that we have explored all features is to look at the _coverage obtained_. First we need to extend the `Coverage` class from the [chapter on coverage](Coverage.ipynb) to provide us with coverage arcs."
   ]
  },
  {
   "cell_type": "code",
   "execution_count": 6,
   "metadata": {
    "execution": {
     "iopub.execute_input": "2022-01-05T17:28:00.425088Z",
     "iopub.status.busy": "2022-01-05T17:28:00.424324Z",
     "iopub.status.idle": "2022-01-05T17:28:01.983518Z",
     "shell.execute_reply": "2022-01-05T17:28:01.984093Z"
    },
    "slideshow": {
     "slide_type": "skip"
    }
   },
   "outputs": [],
   "source": [
    "from Coverage import Coverage"
   ]
  },
  {
   "cell_type": "code",
   "execution_count": 7,
   "metadata": {
    "execution": {
     "iopub.execute_input": "2022-01-05T17:28:01.987924Z",
     "iopub.status.busy": "2022-01-05T17:28:01.987355Z",
     "iopub.status.idle": "2022-01-05T17:28:01.989144Z",
     "shell.execute_reply": "2022-01-05T17:28:01.989548Z"
    },
    "slideshow": {
     "slide_type": "skip"
    }
   },
   "outputs": [],
   "source": [
    "import inspect"
   ]
  },
  {
   "cell_type": "code",
   "execution_count": 8,
   "metadata": {
    "execution": {
     "iopub.execute_input": "2022-01-05T17:28:01.994995Z",
     "iopub.status.busy": "2022-01-05T17:28:01.994143Z",
     "iopub.status.idle": "2022-01-05T17:28:01.996043Z",
     "shell.execute_reply": "2022-01-05T17:28:01.996636Z"
    },
    "slideshow": {
     "slide_type": "subslide"
    }
   },
   "outputs": [],
   "source": [
    "class ArcCoverage(Coverage):\n",
    "    def traceit(self, frame, event, args):\n",
    "        if event != 'return':\n",
    "            f = inspect.getframeinfo(frame)\n",
    "            self._trace.append((f.function, f.lineno))\n",
    "        return self.traceit\n",
    "\n",
    "    def arcs(self):\n",
    "        t = [i for f, i in self._trace]\n",
    "        return list(zip(t, t[1:]))"
   ]
  },
  {
   "cell_type": "markdown",
   "metadata": {
    "slideshow": {
     "slide_type": "fragment"
    }
   },
   "source": [
    "Next, we use the `Tracer` to obtain the coverage arcs."
   ]
  },
  {
   "cell_type": "code",
   "execution_count": 9,
   "metadata": {
    "execution": {
     "iopub.execute_input": "2022-01-05T17:28:02.000840Z",
     "iopub.status.busy": "2022-01-05T17:28:01.999896Z",
     "iopub.status.idle": "2022-01-05T17:28:02.216448Z",
     "shell.execute_reply": "2022-01-05T17:28:02.216866Z"
    },
    "slideshow": {
     "slide_type": "fragment"
    }
   },
   "outputs": [],
   "source": [
    "with ArcCoverage() as cov:\n",
    "    factorial(5)"
   ]
  },
  {
   "cell_type": "markdown",
   "metadata": {
    "slideshow": {
     "slide_type": "fragment"
    }
   },
   "source": [
    "We can now use the coverage arcs to visualize the coverage obtained."
   ]
  },
  {
   "cell_type": "code",
   "execution_count": 10,
   "metadata": {
    "execution": {
     "iopub.execute_input": "2022-01-05T17:28:02.221090Z",
     "iopub.status.busy": "2022-01-05T17:28:02.220514Z",
     "iopub.status.idle": "2022-01-05T17:28:02.546848Z",
     "shell.execute_reply": "2022-01-05T17:28:02.547254Z"
    },
    "slideshow": {
     "slide_type": "skip"
    }
   },
   "outputs": [],
   "source": [
    "from ControlFlow import to_graph, gen_cfg"
   ]
  },
  {
   "cell_type": "code",
   "execution_count": 11,
   "metadata": {
    "execution": {
     "iopub.execute_input": "2022-01-05T17:28:02.555925Z",
     "iopub.status.busy": "2022-01-05T17:28:02.550176Z",
     "iopub.status.idle": "2022-01-05T17:28:03.048975Z",
     "shell.execute_reply": "2022-01-05T17:28:03.049363Z"
    },
    "slideshow": {
     "slide_type": "subslide"
    }
   },
   "outputs": [
    {
     "data": {
      "image/svg+xml": "<?xml version=\"1.0\" encoding=\"UTF-8\" standalone=\"no\"?>\n<!DOCTYPE svg PUBLIC \"-//W3C//DTD SVG 1.1//EN\"\n \"http://www.w3.org/Graphics/SVG/1.1/DTD/svg11.dtd\">\n<!-- Generated by graphviz version 2.50.0 (20211204.2007)\n -->\n<!-- Pages: 1 -->\n<svg width=\"419pt\" height=\"564pt\"\n viewBox=\"0.00 0.00 419.19 564.00\" xmlns=\"http://www.w3.org/2000/svg\" xmlns:xlink=\"http://www.w3.org/1999/xlink\">\n<g id=\"graph0\" class=\"graph\" transform=\"scale(1 1) rotate(0) translate(4 560)\">\n<polygon fill=\"white\" stroke=\"transparent\" points=\"-4,4 -4,-560 415.19,-560 415.19,4 -4,4\"/>\n<!-- 1 -->\n<g id=\"node1\" class=\"node\">\n<title>1</title>\n<ellipse fill=\"none\" stroke=\"black\" cx=\"100\" cy=\"-534\" rx=\"81.79\" ry=\"18\"/>\n<ellipse fill=\"none\" stroke=\"black\" cx=\"100\" cy=\"-534\" rx=\"85.79\" ry=\"22\"/>\n<text text-anchor=\"middle\" x=\"100\" y=\"-530.3\" font-family=\"Times,serif\" font-size=\"14.00\">1: enter: factorial(n)</text>\n</g>\n<!-- 3 -->\n<g id=\"node7\" class=\"node\">\n<title>3</title>\n<polygon fill=\"none\" stroke=\"black\" points=\"100,-476 30.29,-458 100,-440 169.71,-458 100,-476\"/>\n<text text-anchor=\"middle\" x=\"100\" y=\"-454.3\" font-family=\"Times,serif\" font-size=\"14.00\">2: if: n &lt; 0</text>\n</g>\n<!-- 1&#45;&gt;3 -->\n<g id=\"edge5\" class=\"edge\">\n<title>1&#45;&gt;3</title>\n<path fill=\"none\" stroke=\"green\" d=\"M100,-511.99C100,-504.06 100,-494.91 100,-486.48\"/>\n<polygon fill=\"green\" stroke=\"green\" points=\"103.5,-486.31 100,-476.31 96.5,-486.31 103.5,-486.31\"/>\n</g>\n<!-- 2 -->\n<g id=\"node2\" class=\"node\">\n<title>2</title>\n<ellipse fill=\"none\" stroke=\"black\" cx=\"143\" cy=\"-22\" rx=\"77.19\" ry=\"18\"/>\n<ellipse fill=\"none\" stroke=\"black\" cx=\"143\" cy=\"-22\" rx=\"81.19\" ry=\"22\"/>\n<text text-anchor=\"middle\" x=\"143\" y=\"-18.3\" font-family=\"Times,serif\" font-size=\"14.00\">1: exit: factorial(n)</text>\n</g>\n<!-- 4 -->\n<g id=\"node3\" class=\"node\">\n<title>4</title>\n<polygon fill=\"none\" stroke=\"black\" points=\"96,-188 0,-188 0,-152 96,-152 96,-188\"/>\n<text text-anchor=\"middle\" x=\"48\" y=\"-166.3\" font-family=\"Times,serif\" font-size=\"14.00\">3: return None</text>\n</g>\n<!-- 4&#45;&gt;2 -->\n<g id=\"edge1\" class=\"edge\">\n<title>4&#45;&gt;2</title>\n<path fill=\"none\" stroke=\"red\" d=\"M59.08,-151.97C74.87,-127.7 104.08,-82.81 123.53,-52.92\"/>\n<polygon fill=\"red\" stroke=\"red\" points=\"126.71,-54.45 129.23,-44.16 120.84,-50.64 126.71,-54.45\"/>\n</g>\n<!-- 6 -->\n<g id=\"node4\" class=\"node\">\n<title>6</title>\n<polygon fill=\"none\" stroke=\"black\" points=\"161,-332 87,-332 87,-296 161,-296 161,-332\"/>\n<text text-anchor=\"middle\" x=\"124\" y=\"-310.3\" font-family=\"Times,serif\" font-size=\"14.00\">6: return 1</text>\n</g>\n<!-- 6&#45;&gt;2 -->\n<g id=\"edge2\" class=\"edge\">\n<title>6&#45;&gt;2</title>\n<path fill=\"none\" stroke=\"red\" d=\"M125.13,-295.73C128.24,-248.22 136.97,-115.09 140.96,-54.16\"/>\n<polygon fill=\"red\" stroke=\"red\" points=\"144.46,-54.21 141.62,-44 137.48,-53.75 144.46,-54.21\"/>\n</g>\n<!-- 8 -->\n<g id=\"node5\" class=\"node\">\n<title>8</title>\n<polygon fill=\"none\" stroke=\"black\" points=\"232,-260 158,-260 158,-224 232,-224 232,-260\"/>\n<text text-anchor=\"middle\" x=\"195\" y=\"-238.3\" font-family=\"Times,serif\" font-size=\"14.00\">9: return 1</text>\n</g>\n<!-- 8&#45;&gt;2 -->\n<g id=\"edge3\" class=\"edge\">\n<title>8&#45;&gt;2</title>\n<path fill=\"none\" stroke=\"red\" d=\"M190.92,-223.89C182.17,-187.22 161.51,-100.59 150.39,-53.97\"/>\n<polygon fill=\"red\" stroke=\"red\" points=\"153.76,-53.03 148.04,-44.12 146.95,-54.66 153.76,-53.03\"/>\n</g>\n<!-- 13 -->\n<g id=\"node6\" class=\"node\">\n<title>13</title>\n<polygon fill=\"none\" stroke=\"black\" points=\"270,-116 190,-116 190,-80 270,-80 270,-116\"/>\n<text text-anchor=\"middle\" x=\"230\" y=\"-94.3\" font-family=\"Times,serif\" font-size=\"14.00\">16: return v</text>\n</g>\n<!-- 13&#45;&gt;2 -->\n<g id=\"edge4\" class=\"edge\">\n<title>13&#45;&gt;2</title>\n<path fill=\"none\" stroke=\"green\" d=\"M209.82,-79.84C199.38,-70.96 186.4,-59.91 174.66,-49.93\"/>\n<polygon fill=\"green\" stroke=\"green\" points=\"176.66,-47.03 166.77,-43.22 172.12,-52.37 176.66,-47.03\"/>\n</g>\n<!-- 3&#45;&gt;4 -->\n<g id=\"edge6\" class=\"edge\">\n<title>3&#45;&gt;4</title>\n<path fill=\"none\" stroke=\"red\" d=\"M88.42,-442.65C80.92,-432.49 71.69,-418.2 67,-404 43.41,-332.62 44.01,-242.55 46.15,-198.21\"/>\n<polygon fill=\"red\" stroke=\"red\" points=\"49.64,-198.39 46.69,-188.21 42.65,-198 49.64,-198.39\"/>\n</g>\n<!-- 5 -->\n<g id=\"node8\" class=\"node\">\n<title>5</title>\n<polygon fill=\"none\" stroke=\"black\" points=\"153,-404 75.58,-386 153,-368 230.42,-386 153,-404\"/>\n<text text-anchor=\"middle\" x=\"153\" y=\"-382.3\" font-family=\"Times,serif\" font-size=\"14.00\">5: if: n == 0</text>\n</g>\n<!-- 3&#45;&gt;5 -->\n<g id=\"edge7\" class=\"edge\">\n<title>3&#45;&gt;5</title>\n<path fill=\"none\" stroke=\"green\" d=\"M110.98,-442.5C118.16,-433.02 127.68,-420.44 135.85,-409.66\"/>\n<polygon fill=\"green\" stroke=\"green\" points=\"138.79,-411.57 142.03,-401.49 133.21,-407.35 138.79,-411.57\"/>\n</g>\n<!-- 5&#45;&gt;6 -->\n<g id=\"edge8\" class=\"edge\">\n<title>5&#45;&gt;6</title>\n<path fill=\"none\" stroke=\"red\" d=\"M146.56,-369.46C143.2,-361.33 138.98,-351.15 135.1,-341.79\"/>\n<polygon fill=\"red\" stroke=\"red\" points=\"138.29,-340.36 131.23,-332.46 131.83,-343.04 138.29,-340.36\"/>\n</g>\n<!-- 7 -->\n<g id=\"node9\" class=\"node\">\n<title>7</title>\n<polygon fill=\"none\" stroke=\"black\" points=\"256,-332 178.58,-314 256,-296 333.42,-314 256,-332\"/>\n<text text-anchor=\"middle\" x=\"256\" y=\"-310.3\" font-family=\"Times,serif\" font-size=\"14.00\">8: if: n == 1</text>\n</g>\n<!-- 5&#45;&gt;7 -->\n<g id=\"edge9\" class=\"edge\">\n<title>5&#45;&gt;7</title>\n<path fill=\"none\" stroke=\"green\" d=\"M171.89,-372.16C187.86,-361.31 210.94,-345.62 228.89,-333.43\"/>\n<polygon fill=\"green\" stroke=\"green\" points=\"230.92,-336.27 237.23,-327.76 226.99,-330.48 230.92,-336.27\"/>\n</g>\n<!-- 7&#45;&gt;8 -->\n<g id=\"edge10\" class=\"edge\">\n<title>7&#45;&gt;8</title>\n<path fill=\"none\" stroke=\"red\" d=\"M243.66,-298.83C235.89,-289.92 225.65,-278.17 216.57,-267.75\"/>\n<polygon fill=\"red\" stroke=\"red\" points=\"219.12,-265.35 209.91,-260.11 213.84,-269.95 219.12,-265.35\"/>\n</g>\n<!-- 9 -->\n<g id=\"node10\" class=\"node\">\n<title>9</title>\n<polygon fill=\"none\" stroke=\"black\" points=\"320.5,-260 253.5,-260 253.5,-224 320.5,-224 320.5,-260\"/>\n<text text-anchor=\"middle\" x=\"287\" y=\"-238.3\" font-family=\"Times,serif\" font-size=\"14.00\">11: v = 1</text>\n</g>\n<!-- 7&#45;&gt;9 -->\n<g id=\"edge11\" class=\"edge\">\n<title>7&#45;&gt;9</title>\n<path fill=\"none\" stroke=\"green\" d=\"M262.88,-297.46C266.48,-289.33 270.99,-279.15 275.14,-269.79\"/>\n<polygon fill=\"green\" stroke=\"green\" points=\"278.42,-271.02 279.27,-260.46 272.02,-268.19 278.42,-271.02\"/>\n</g>\n<!-- 10 -->\n<g id=\"node11\" class=\"node\">\n<title>10</title>\n<polygon fill=\"none\" stroke=\"black\" points=\"311,-188 210.62,-170 311,-152 411.38,-170 311,-188\"/>\n<text text-anchor=\"middle\" x=\"311\" y=\"-166.3\" font-family=\"Times,serif\" font-size=\"14.00\">12: while: n != 0</text>\n</g>\n<!-- 9&#45;&gt;10 -->\n<g id=\"edge12\" class=\"edge\">\n<title>9&#45;&gt;10</title>\n<path fill=\"none\" stroke=\"green\" d=\"M292.93,-223.7C295.72,-215.58 299.09,-205.74 302.17,-196.76\"/>\n<polygon fill=\"green\" stroke=\"green\" points=\"305.53,-197.74 305.46,-187.14 298.91,-195.47 305.53,-197.74\"/>\n</g>\n<!-- 10&#45;&gt;13 -->\n<g id=\"edge16\" class=\"edge\">\n<title>10&#45;&gt;13</title>\n<path fill=\"none\" stroke=\"green\" d=\"M294.61,-154.83C283.99,-145.66 269.9,-133.48 257.58,-122.84\"/>\n<polygon fill=\"green\" stroke=\"green\" points=\"259.66,-120 249.8,-116.11 255.08,-125.3 259.66,-120\"/>\n</g>\n<!-- 11 -->\n<g id=\"node13\" class=\"node\">\n<title>11</title>\n<polygon fill=\"none\" stroke=\"black\" points=\"376,-116 288,-116 288,-80 376,-80 376,-116\"/>\n<text text-anchor=\"middle\" x=\"332\" y=\"-94.3\" font-family=\"Times,serif\" font-size=\"14.00\">13: v = v * n</text>\n</g>\n<!-- 10&#45;&gt;11 -->\n<g id=\"edge14\" class=\"edge\">\n<title>10&#45;&gt;11</title>\n<path fill=\"none\" stroke=\"green\" d=\"M315.87,-152.76C318.27,-144.78 321.21,-134.95 323.93,-125.89\"/>\n<polygon fill=\"green\" stroke=\"green\" points=\"327.34,-126.71 326.86,-116.12 320.64,-124.7 327.34,-126.71\"/>\n</g>\n<!-- 12 -->\n<g id=\"node12\" class=\"node\">\n<title>12</title>\n<polygon fill=\"none\" stroke=\"black\" points=\"411,-40 325,-40 325,-4 411,-4 411,-40\"/>\n<text text-anchor=\"middle\" x=\"368\" y=\"-18.3\" font-family=\"Times,serif\" font-size=\"14.00\">14: n = n &#45; 1</text>\n</g>\n<!-- 12&#45;&gt;10 -->\n<g id=\"edge13\" class=\"edge\">\n<title>12&#45;&gt;10</title>\n<path fill=\"none\" stroke=\"green\" d=\"M377.28,-40.07C386.48,-59.47 397.53,-91.62 385,-116 377.05,-131.48 362.24,-143.45 347.95,-152.07\"/>\n<polygon fill=\"green\" stroke=\"green\" points=\"346.18,-149.04 339.18,-157 349.61,-155.15 346.18,-149.04\"/>\n</g>\n<!-- 11&#45;&gt;12 -->\n<g id=\"edge15\" class=\"edge\">\n<title>11&#45;&gt;12</title>\n<path fill=\"none\" stroke=\"green\" d=\"M340.35,-79.84C344.76,-70.78 350.26,-59.47 355.19,-49.32\"/>\n<polygon fill=\"green\" stroke=\"green\" points=\"358.47,-50.59 359.7,-40.07 352.17,-47.53 358.47,-50.59\"/>\n</g>\n</g>\n</svg>\n",
      "text/plain": [
       "<graphviz.graphs.Digraph at 0x10ed46be0>"
      ]
     },
     "execution_count": 11,
     "metadata": {},
     "output_type": "execute_result"
    }
   ],
   "source": [
    "to_graph(gen_cfg(inspect.getsource(factorial)), arcs=cov.arcs())"
   ]
  },
  {
   "cell_type": "markdown",
   "metadata": {
    "slideshow": {
     "slide_type": "fragment"
    }
   },
   "source": [
    "We see that the path `[1, 2, 5, 8, 11, 12, 13, 14]` is covered (green) but sub-paths such as  `[2, 3]`,  `[5, 6]` and `[8, 9]` are unexplored (red). What we need is the ability to generate inputs such that the `True` branch is taken at `2`. How do we do that?"
   ]
  },
  {
   "cell_type": "markdown",
   "metadata": {
    "slideshow": {
     "slide_type": "slide"
    },
    "toc-hr-collapsed": false
   },
   "source": [
    "## Concolic Execution\n",
    "\n",
    "One way to cover additional branches is to look at the execution path being taken, and collect the _conditional constraints_ that the path encounters. Then we can try to produce inputs that lead us to taking the non-traversed path."
   ]
  },
  {
   "cell_type": "markdown",
   "metadata": {
    "slideshow": {
     "slide_type": "fragment"
    }
   },
   "source": [
    "First, let us step through the function."
   ]
  },
  {
   "cell_type": "code",
   "execution_count": 12,
   "metadata": {
    "execution": {
     "iopub.execute_input": "2022-01-05T17:28:03.055124Z",
     "iopub.status.busy": "2022-01-05T17:28:03.054507Z",
     "iopub.status.idle": "2022-01-05T17:28:03.056865Z",
     "shell.execute_reply": "2022-01-05T17:28:03.057370Z"
    },
    "slideshow": {
     "slide_type": "fragment"
    }
   },
   "outputs": [],
   "source": [
    "lines = [i[1] for i in cov._trace if i[0] == 'factorial']\n",
    "src = {i + 1: s for i, s in enumerate(\n",
    "    inspect.getsource(factorial).split('\\n'))}"
   ]
  },
  {
   "cell_type": "markdown",
   "metadata": {
    "slideshow": {
     "slide_type": "fragment"
    }
   },
   "source": [
    "* The line (1) is simply the entry point of the function. We know that the input is `n`, which is an integer."
   ]
  },
  {
   "cell_type": "code",
   "execution_count": 13,
   "metadata": {
    "execution": {
     "iopub.execute_input": "2022-01-05T17:28:03.061289Z",
     "iopub.status.busy": "2022-01-05T17:28:03.060722Z",
     "iopub.status.idle": "2022-01-05T17:28:03.063044Z",
     "shell.execute_reply": "2022-01-05T17:28:03.063418Z"
    },
    "slideshow": {
     "slide_type": "fragment"
    }
   },
   "outputs": [
    {
     "data": {
      "text/plain": [
       "'def factorial(n):'"
      ]
     },
     "execution_count": 13,
     "metadata": {},
     "output_type": "execute_result"
    }
   ],
   "source": [
    "src[1]"
   ]
  },
  {
   "cell_type": "markdown",
   "metadata": {
    "slideshow": {
     "slide_type": "subslide"
    }
   },
   "source": [
    "* The line (2) is a predicate `n < 0`. Since the next line taken is line (5), we know that at this point in the execution path, the predicate was `false`."
   ]
  },
  {
   "cell_type": "code",
   "execution_count": 14,
   "metadata": {
    "execution": {
     "iopub.execute_input": "2022-01-05T17:28:03.067546Z",
     "iopub.status.busy": "2022-01-05T17:28:03.066623Z",
     "iopub.status.idle": "2022-01-05T17:28:03.069409Z",
     "shell.execute_reply": "2022-01-05T17:28:03.069782Z"
    },
    "slideshow": {
     "slide_type": "fragment"
    }
   },
   "outputs": [
    {
     "data": {
      "text/plain": [
       "('    if n < 0:', '        return None', '', '    if n == 0:')"
      ]
     },
     "execution_count": 14,
     "metadata": {},
     "output_type": "execute_result"
    }
   ],
   "source": [
    "src[2], src[3], src[4], src[5]"
   ]
  },
  {
   "cell_type": "markdown",
   "metadata": {
    "slideshow": {
     "slide_type": "fragment"
    }
   },
   "source": [
    "We notice that this is one of the predicates where the `true` branch was not taken. How do we generate a value that takes the `true` branch here? One way is to use symbolic variables to represent the input, encode the constraint, and use an *SMT Solver* to solve the negation of the constraint."
   ]
  },
  {
   "cell_type": "markdown",
   "metadata": {
    "slideshow": {
     "slide_type": "subslide"
    }
   },
   "source": [
    "As we mentioned in the introduction to the chapter, a symbolic variable can be thought of as a sort of placeholder for the real variable, sort of like the `x` in solving for `x` in Algebra. These variables can be used to encode constraints placed on the variables in the program. We identify what constraints the variable is supposed to obey, and finally produce a value that obeys all constraints imposed."
   ]
  },
  {
   "cell_type": "markdown",
   "metadata": {
    "slideshow": {
     "slide_type": "slide"
    }
   },
   "source": [
    "## Solving Constraints"
   ]
  },
  {
   "cell_type": "markdown",
   "metadata": {
    "slideshow": {
     "slide_type": "fragment"
    }
   },
   "source": [
    "To solve these constraints, one can use a _Satisfiability Modulo Theories_ (SMT) solver. An SMT solver is built on top of a _SATISFIABILITY_ (SAT) solver. A SAT solver is being used to check whether boolean formulas in first order logic (e.g `(a | b ) & (~a | ~b)`) can be satisfied using any assignments for the variables (e.g `a = true, b = false`). An SMT solver extends these SAT solvers to specific background theories -- for example, _theory of integers_, or _theory of strings_. That is, given a string constraint expressed as a formula with string variables (e.g `h + t == 'hello,world'`), an SMT solver that understands _theory of strings_ can be used to check if that constraint can be satisfied, and if satisfiable, provide an instantiation of concrete values for the variables used in the formula (e.g `h = 'hello,', t = 'world'`)."
   ]
  },
  {
   "cell_type": "markdown",
   "metadata": {
    "slideshow": {
     "slide_type": "fragment"
    }
   },
   "source": [
    "We use the SMT solver Z3 in this chapter."
   ]
  },
  {
   "cell_type": "code",
   "execution_count": 15,
   "metadata": {
    "execution": {
     "iopub.execute_input": "2022-01-05T17:28:03.073428Z",
     "iopub.status.busy": "2022-01-05T17:28:03.072852Z",
     "iopub.status.idle": "2022-01-05T17:28:03.096640Z",
     "shell.execute_reply": "2022-01-05T17:28:03.097039Z"
    },
    "slideshow": {
     "slide_type": "skip"
    }
   },
   "outputs": [],
   "source": [
    "import z3  # type: ignore"
   ]
  },
  {
   "cell_type": "code",
   "execution_count": 16,
   "metadata": {
    "execution": {
     "iopub.execute_input": "2022-01-05T17:28:03.101834Z",
     "iopub.status.busy": "2022-01-05T17:28:03.100853Z",
     "iopub.status.idle": "2022-01-05T17:28:03.103045Z",
     "shell.execute_reply": "2022-01-05T17:28:03.103563Z"
    },
    "slideshow": {
     "slide_type": "subslide"
    }
   },
   "outputs": [],
   "source": [
    "assert z3.get_version() >= (4, 8, 6, 0), \"Please check z3 version\"\n",
    "assert z3.get_version() <= (4, 8, 9, 0), \"Please check z3 version\""
   ]
  },
  {
   "cell_type": "markdown",
   "metadata": {
    "slideshow": {
     "slide_type": "fragment"
    }
   },
   "source": [
    "Let us set up Z3 first. To ensure that the string constraints we use in this chapter are successfully evaluated, we need to specify the `z3str3` solver. Further, we set the timeout for Z3 computations to 30 seconds."
   ]
  },
  {
   "cell_type": "code",
   "execution_count": 17,
   "metadata": {
    "execution": {
     "iopub.execute_input": "2022-01-05T17:28:03.107266Z",
     "iopub.status.busy": "2022-01-05T17:28:03.106654Z",
     "iopub.status.idle": "2022-01-05T17:28:03.109390Z",
     "shell.execute_reply": "2022-01-05T17:28:03.108997Z"
    },
    "slideshow": {
     "slide_type": "fragment"
    }
   },
   "outputs": [],
   "source": [
    "z3.set_option('smt.string_solver', 'z3str3')\n",
    "z3.set_option('timeout', 30 * 1000)  # milliseconds"
   ]
  },
  {
   "cell_type": "markdown",
   "metadata": {
    "slideshow": {
     "slide_type": "fragment"
    }
   },
   "source": [
    "To encode constraints, we need symbolic variables. Here, we make `zn` a placeholder for the Z3 symbolic integer variable `n`."
   ]
  },
  {
   "cell_type": "code",
   "execution_count": 18,
   "metadata": {
    "execution": {
     "iopub.execute_input": "2022-01-05T17:28:03.112958Z",
     "iopub.status.busy": "2022-01-05T17:28:03.112181Z",
     "iopub.status.idle": "2022-01-05T17:28:03.114753Z",
     "shell.execute_reply": "2022-01-05T17:28:03.115129Z"
    },
    "slideshow": {
     "slide_type": "fragment"
    }
   },
   "outputs": [],
   "source": [
    "zn = z3.Int('n')"
   ]
  },
  {
   "cell_type": "markdown",
   "metadata": {
    "slideshow": {
     "slide_type": "fragment"
    }
   },
   "source": [
    "Remember the constraint `(n < 0)` from line 2 in `factorial()`? We can now encode the constraint as follows. "
   ]
  },
  {
   "cell_type": "code",
   "execution_count": 19,
   "metadata": {
    "execution": {
     "iopub.execute_input": "2022-01-05T17:28:03.118160Z",
     "iopub.status.busy": "2022-01-05T17:28:03.117638Z",
     "iopub.status.idle": "2022-01-05T17:28:03.121517Z",
     "shell.execute_reply": "2022-01-05T17:28:03.121887Z"
    },
    "slideshow": {
     "slide_type": "fragment"
    }
   },
   "outputs": [
    {
     "data": {
      "text/html": [
       "n &lt; 0"
      ],
      "text/plain": [
       "n < 0"
      ]
     },
     "execution_count": 19,
     "metadata": {},
     "output_type": "execute_result"
    }
   ],
   "source": [
    "zn < 0"
   ]
  },
  {
   "cell_type": "markdown",
   "metadata": {
    "slideshow": {
     "slide_type": "subslide"
    }
   },
   "source": [
    "We previously traced `factorial(5)`. We saw that with input `5`, the execution took the `else` branch on the predicate `n < 0`. We can express this observation as follows."
   ]
  },
  {
   "cell_type": "code",
   "execution_count": 20,
   "metadata": {
    "execution": {
     "iopub.execute_input": "2022-01-05T17:28:03.125593Z",
     "iopub.status.busy": "2022-01-05T17:28:03.124896Z",
     "iopub.status.idle": "2022-01-05T17:28:03.128901Z",
     "shell.execute_reply": "2022-01-05T17:28:03.129276Z"
    },
    "slideshow": {
     "slide_type": "fragment"
    }
   },
   "outputs": [
    {
     "data": {
      "text/html": [
       "&not;(n &lt; 0)"
      ],
      "text/plain": [
       "Not(n < 0)"
      ]
     },
     "execution_count": 20,
     "metadata": {},
     "output_type": "execute_result"
    }
   ],
   "source": [
    "z3.Not(zn < 0)"
   ]
  },
  {
   "cell_type": "markdown",
   "metadata": {
    "slideshow": {
     "slide_type": "fragment"
    }
   },
   "source": [
    "Let us now solve constraints. The `z3.solve()` method checks if the constraints are satisfiable; if they are, it also provides values for variables such that the constraints are satisfied. For example, we can ask Z3 for an input that will take the `else` branch as follows:"
   ]
  },
  {
   "cell_type": "code",
   "execution_count": 21,
   "metadata": {
    "execution": {
     "iopub.execute_input": "2022-01-05T17:28:03.132490Z",
     "iopub.status.busy": "2022-01-05T17:28:03.131976Z",
     "iopub.status.idle": "2022-01-05T17:28:03.153679Z",
     "shell.execute_reply": "2022-01-05T17:28:03.154222Z"
    },
    "slideshow": {
     "slide_type": "fragment"
    }
   },
   "outputs": [
    {
     "name": "stdout",
     "output_type": "stream",
     "text": [
      "[n = 0]\n"
     ]
    }
   ],
   "source": [
    "z3.solve(z3.Not(zn < 0))"
   ]
  },
  {
   "cell_type": "markdown",
   "metadata": {
    "slideshow": {
     "slide_type": "fragment"
    }
   },
   "source": [
    "This is *a solution* (albeit a trivial one). SMT solvers can be used to solve much harder problems. For example, here is how one can solve a quadratic equation."
   ]
  },
  {
   "cell_type": "code",
   "execution_count": 22,
   "metadata": {
    "execution": {
     "iopub.execute_input": "2022-01-05T17:28:03.158596Z",
     "iopub.status.busy": "2022-01-05T17:28:03.158052Z",
     "iopub.status.idle": "2022-01-05T17:28:03.177461Z",
     "shell.execute_reply": "2022-01-05T17:28:03.177840Z"
    },
    "slideshow": {
     "slide_type": "subslide"
    }
   },
   "outputs": [
    {
     "name": "stdout",
     "output_type": "stream",
     "text": [
      "[x = 5]\n"
     ]
    }
   ],
   "source": [
    "x = z3.Real('x')\n",
    "eqn = (2 * x**2 - 11 * x + 5 == 0)\n",
    "z3.solve(eqn)"
   ]
  },
  {
   "cell_type": "markdown",
   "metadata": {
    "slideshow": {
     "slide_type": "fragment"
    }
   },
   "source": [
    "Again, this is _one solution_. We can ask z3 to give us another solution as follows."
   ]
  },
  {
   "cell_type": "code",
   "execution_count": 23,
   "metadata": {
    "execution": {
     "iopub.execute_input": "2022-01-05T17:28:03.181747Z",
     "iopub.status.busy": "2022-01-05T17:28:03.181201Z",
     "iopub.status.idle": "2022-01-05T17:28:03.200410Z",
     "shell.execute_reply": "2022-01-05T17:28:03.200917Z"
    },
    "slideshow": {
     "slide_type": "fragment"
    }
   },
   "outputs": [
    {
     "name": "stdout",
     "output_type": "stream",
     "text": [
      "[x = 1/2]\n"
     ]
    }
   ],
   "source": [
    "z3.solve(x != 5, eqn)"
   ]
  },
  {
   "cell_type": "markdown",
   "metadata": {
    "slideshow": {
     "slide_type": "fragment"
    }
   },
   "source": [
    "Indeed, both `x = 5` and `x = 1/2` are solutions to the quadratic equation $ 2x^2 -11x + 5 = 0 $"
   ]
  },
  {
   "cell_type": "markdown",
   "metadata": {
    "slideshow": {
     "slide_type": "fragment"
    }
   },
   "source": [
    "Similarly, we can ask *Z3* for an input that satisfies the constraint encoded in line 2 of `factorial()` so that we take the `if` branch."
   ]
  },
  {
   "cell_type": "code",
   "execution_count": 24,
   "metadata": {
    "execution": {
     "iopub.execute_input": "2022-01-05T17:28:03.205540Z",
     "iopub.status.busy": "2022-01-05T17:28:03.204984Z",
     "iopub.status.idle": "2022-01-05T17:28:03.224823Z",
     "shell.execute_reply": "2022-01-05T17:28:03.225352Z"
    },
    "slideshow": {
     "slide_type": "subslide"
    }
   },
   "outputs": [
    {
     "name": "stdout",
     "output_type": "stream",
     "text": [
      "[n = -1]\n"
     ]
    }
   ],
   "source": [
    "z3.solve(zn < 0)"
   ]
  },
  {
   "cell_type": "markdown",
   "metadata": {
    "slideshow": {
     "slide_type": "fragment"
    }
   },
   "source": [
    "That is, if one uses `-1` as an input to `factorial()`, it is guaranteed to take the `if` branch in line 2 during execution."
   ]
  },
  {
   "cell_type": "markdown",
   "metadata": {
    "slideshow": {
     "slide_type": "fragment"
    }
   },
   "source": [
    "Let us try using that with our coverage. Here, the `-1` is the solution from above."
   ]
  },
  {
   "cell_type": "code",
   "execution_count": 25,
   "metadata": {
    "execution": {
     "iopub.execute_input": "2022-01-05T17:28:03.232871Z",
     "iopub.status.busy": "2022-01-05T17:28:03.232330Z",
     "iopub.status.idle": "2022-01-05T17:28:03.277129Z",
     "shell.execute_reply": "2022-01-05T17:28:03.277531Z"
    },
    "slideshow": {
     "slide_type": "fragment"
    }
   },
   "outputs": [],
   "source": [
    "with cov as cov:\n",
    "    factorial(-1)"
   ]
  },
  {
   "cell_type": "code",
   "execution_count": 26,
   "metadata": {
    "execution": {
     "iopub.execute_input": "2022-01-05T17:28:03.289922Z",
     "iopub.status.busy": "2022-01-05T17:28:03.289391Z",
     "iopub.status.idle": "2022-01-05T17:28:03.712350Z",
     "shell.execute_reply": "2022-01-05T17:28:03.712944Z"
    },
    "slideshow": {
     "slide_type": "fragment"
    }
   },
   "outputs": [
    {
     "data": {
      "image/svg+xml": "<?xml version=\"1.0\" encoding=\"UTF-8\" standalone=\"no\"?>\n<!DOCTYPE svg PUBLIC \"-//W3C//DTD SVG 1.1//EN\"\n \"http://www.w3.org/Graphics/SVG/1.1/DTD/svg11.dtd\">\n<!-- Generated by graphviz version 2.50.0 (20211204.2007)\n -->\n<!-- Pages: 1 -->\n<svg width=\"419pt\" height=\"564pt\"\n viewBox=\"0.00 0.00 419.19 564.00\" xmlns=\"http://www.w3.org/2000/svg\" xmlns:xlink=\"http://www.w3.org/1999/xlink\">\n<g id=\"graph0\" class=\"graph\" transform=\"scale(1 1) rotate(0) translate(4 560)\">\n<polygon fill=\"white\" stroke=\"transparent\" points=\"-4,4 -4,-560 415.19,-560 415.19,4 -4,4\"/>\n<!-- 1 -->\n<g id=\"node1\" class=\"node\">\n<title>1</title>\n<ellipse fill=\"none\" stroke=\"black\" cx=\"100\" cy=\"-534\" rx=\"81.79\" ry=\"18\"/>\n<ellipse fill=\"none\" stroke=\"black\" cx=\"100\" cy=\"-534\" rx=\"85.79\" ry=\"22\"/>\n<text text-anchor=\"middle\" x=\"100\" y=\"-530.3\" font-family=\"Times,serif\" font-size=\"14.00\">1: enter: factorial(n)</text>\n</g>\n<!-- 3 -->\n<g id=\"node7\" class=\"node\">\n<title>3</title>\n<polygon fill=\"none\" stroke=\"black\" points=\"100,-476 30.29,-458 100,-440 169.71,-458 100,-476\"/>\n<text text-anchor=\"middle\" x=\"100\" y=\"-454.3\" font-family=\"Times,serif\" font-size=\"14.00\">2: if: n &lt; 0</text>\n</g>\n<!-- 1&#45;&gt;3 -->\n<g id=\"edge5\" class=\"edge\">\n<title>1&#45;&gt;3</title>\n<path fill=\"none\" stroke=\"green\" d=\"M100,-511.99C100,-504.06 100,-494.91 100,-486.48\"/>\n<polygon fill=\"green\" stroke=\"green\" points=\"103.5,-486.31 100,-476.31 96.5,-486.31 103.5,-486.31\"/>\n</g>\n<!-- 2 -->\n<g id=\"node2\" class=\"node\">\n<title>2</title>\n<ellipse fill=\"none\" stroke=\"black\" cx=\"143\" cy=\"-22\" rx=\"77.19\" ry=\"18\"/>\n<ellipse fill=\"none\" stroke=\"black\" cx=\"143\" cy=\"-22\" rx=\"81.19\" ry=\"22\"/>\n<text text-anchor=\"middle\" x=\"143\" y=\"-18.3\" font-family=\"Times,serif\" font-size=\"14.00\">1: exit: factorial(n)</text>\n</g>\n<!-- 4 -->\n<g id=\"node3\" class=\"node\">\n<title>4</title>\n<polygon fill=\"none\" stroke=\"black\" points=\"96,-188 0,-188 0,-152 96,-152 96,-188\"/>\n<text text-anchor=\"middle\" x=\"48\" y=\"-166.3\" font-family=\"Times,serif\" font-size=\"14.00\">3: return None</text>\n</g>\n<!-- 4&#45;&gt;2 -->\n<g id=\"edge1\" class=\"edge\">\n<title>4&#45;&gt;2</title>\n<path fill=\"none\" stroke=\"green\" d=\"M59.08,-151.97C74.87,-127.7 104.08,-82.81 123.53,-52.92\"/>\n<polygon fill=\"green\" stroke=\"green\" points=\"126.71,-54.45 129.23,-44.16 120.84,-50.64 126.71,-54.45\"/>\n</g>\n<!-- 6 -->\n<g id=\"node4\" class=\"node\">\n<title>6</title>\n<polygon fill=\"none\" stroke=\"black\" points=\"161,-332 87,-332 87,-296 161,-296 161,-332\"/>\n<text text-anchor=\"middle\" x=\"124\" y=\"-310.3\" font-family=\"Times,serif\" font-size=\"14.00\">6: return 1</text>\n</g>\n<!-- 6&#45;&gt;2 -->\n<g id=\"edge2\" class=\"edge\">\n<title>6&#45;&gt;2</title>\n<path fill=\"none\" stroke=\"red\" d=\"M125.13,-295.73C128.24,-248.22 136.97,-115.09 140.96,-54.16\"/>\n<polygon fill=\"red\" stroke=\"red\" points=\"144.46,-54.21 141.62,-44 137.48,-53.75 144.46,-54.21\"/>\n</g>\n<!-- 8 -->\n<g id=\"node5\" class=\"node\">\n<title>8</title>\n<polygon fill=\"none\" stroke=\"black\" points=\"232,-260 158,-260 158,-224 232,-224 232,-260\"/>\n<text text-anchor=\"middle\" x=\"195\" y=\"-238.3\" font-family=\"Times,serif\" font-size=\"14.00\">9: return 1</text>\n</g>\n<!-- 8&#45;&gt;2 -->\n<g id=\"edge3\" class=\"edge\">\n<title>8&#45;&gt;2</title>\n<path fill=\"none\" stroke=\"red\" d=\"M190.92,-223.89C182.17,-187.22 161.51,-100.59 150.39,-53.97\"/>\n<polygon fill=\"red\" stroke=\"red\" points=\"153.76,-53.03 148.04,-44.12 146.95,-54.66 153.76,-53.03\"/>\n</g>\n<!-- 13 -->\n<g id=\"node6\" class=\"node\">\n<title>13</title>\n<polygon fill=\"none\" stroke=\"black\" points=\"270,-116 190,-116 190,-80 270,-80 270,-116\"/>\n<text text-anchor=\"middle\" x=\"230\" y=\"-94.3\" font-family=\"Times,serif\" font-size=\"14.00\">16: return v</text>\n</g>\n<!-- 13&#45;&gt;2 -->\n<g id=\"edge4\" class=\"edge\">\n<title>13&#45;&gt;2</title>\n<path fill=\"none\" stroke=\"green\" d=\"M209.82,-79.84C199.38,-70.96 186.4,-59.91 174.66,-49.93\"/>\n<polygon fill=\"green\" stroke=\"green\" points=\"176.66,-47.03 166.77,-43.22 172.12,-52.37 176.66,-47.03\"/>\n</g>\n<!-- 3&#45;&gt;4 -->\n<g id=\"edge6\" class=\"edge\">\n<title>3&#45;&gt;4</title>\n<path fill=\"none\" stroke=\"green\" d=\"M88.42,-442.65C80.92,-432.49 71.69,-418.2 67,-404 43.41,-332.62 44.01,-242.55 46.15,-198.21\"/>\n<polygon fill=\"green\" stroke=\"green\" points=\"49.64,-198.39 46.69,-188.21 42.65,-198 49.64,-198.39\"/>\n</g>\n<!-- 5 -->\n<g id=\"node8\" class=\"node\">\n<title>5</title>\n<polygon fill=\"none\" stroke=\"black\" points=\"153,-404 75.58,-386 153,-368 230.42,-386 153,-404\"/>\n<text text-anchor=\"middle\" x=\"153\" y=\"-382.3\" font-family=\"Times,serif\" font-size=\"14.00\">5: if: n == 0</text>\n</g>\n<!-- 3&#45;&gt;5 -->\n<g id=\"edge7\" class=\"edge\">\n<title>3&#45;&gt;5</title>\n<path fill=\"none\" stroke=\"green\" d=\"M110.98,-442.5C118.16,-433.02 127.68,-420.44 135.85,-409.66\"/>\n<polygon fill=\"green\" stroke=\"green\" points=\"138.79,-411.57 142.03,-401.49 133.21,-407.35 138.79,-411.57\"/>\n</g>\n<!-- 5&#45;&gt;6 -->\n<g id=\"edge8\" class=\"edge\">\n<title>5&#45;&gt;6</title>\n<path fill=\"none\" stroke=\"red\" d=\"M146.56,-369.46C143.2,-361.33 138.98,-351.15 135.1,-341.79\"/>\n<polygon fill=\"red\" stroke=\"red\" points=\"138.29,-340.36 131.23,-332.46 131.83,-343.04 138.29,-340.36\"/>\n</g>\n<!-- 7 -->\n<g id=\"node9\" class=\"node\">\n<title>7</title>\n<polygon fill=\"none\" stroke=\"black\" points=\"256,-332 178.58,-314 256,-296 333.42,-314 256,-332\"/>\n<text text-anchor=\"middle\" x=\"256\" y=\"-310.3\" font-family=\"Times,serif\" font-size=\"14.00\">8: if: n == 1</text>\n</g>\n<!-- 5&#45;&gt;7 -->\n<g id=\"edge9\" class=\"edge\">\n<title>5&#45;&gt;7</title>\n<path fill=\"none\" stroke=\"green\" d=\"M171.89,-372.16C187.86,-361.31 210.94,-345.62 228.89,-333.43\"/>\n<polygon fill=\"green\" stroke=\"green\" points=\"230.92,-336.27 237.23,-327.76 226.99,-330.48 230.92,-336.27\"/>\n</g>\n<!-- 7&#45;&gt;8 -->\n<g id=\"edge10\" class=\"edge\">\n<title>7&#45;&gt;8</title>\n<path fill=\"none\" stroke=\"red\" d=\"M243.66,-298.83C235.89,-289.92 225.65,-278.17 216.57,-267.75\"/>\n<polygon fill=\"red\" stroke=\"red\" points=\"219.12,-265.35 209.91,-260.11 213.84,-269.95 219.12,-265.35\"/>\n</g>\n<!-- 9 -->\n<g id=\"node10\" class=\"node\">\n<title>9</title>\n<polygon fill=\"none\" stroke=\"black\" points=\"320.5,-260 253.5,-260 253.5,-224 320.5,-224 320.5,-260\"/>\n<text text-anchor=\"middle\" x=\"287\" y=\"-238.3\" font-family=\"Times,serif\" font-size=\"14.00\">11: v = 1</text>\n</g>\n<!-- 7&#45;&gt;9 -->\n<g id=\"edge11\" class=\"edge\">\n<title>7&#45;&gt;9</title>\n<path fill=\"none\" stroke=\"green\" d=\"M262.88,-297.46C266.48,-289.33 270.99,-279.15 275.14,-269.79\"/>\n<polygon fill=\"green\" stroke=\"green\" points=\"278.42,-271.02 279.27,-260.46 272.02,-268.19 278.42,-271.02\"/>\n</g>\n<!-- 10 -->\n<g id=\"node11\" class=\"node\">\n<title>10</title>\n<polygon fill=\"none\" stroke=\"black\" points=\"311,-188 210.62,-170 311,-152 411.38,-170 311,-188\"/>\n<text text-anchor=\"middle\" x=\"311\" y=\"-166.3\" font-family=\"Times,serif\" font-size=\"14.00\">12: while: n != 0</text>\n</g>\n<!-- 9&#45;&gt;10 -->\n<g id=\"edge12\" class=\"edge\">\n<title>9&#45;&gt;10</title>\n<path fill=\"none\" stroke=\"green\" d=\"M292.93,-223.7C295.72,-215.58 299.09,-205.74 302.17,-196.76\"/>\n<polygon fill=\"green\" stroke=\"green\" points=\"305.53,-197.74 305.46,-187.14 298.91,-195.47 305.53,-197.74\"/>\n</g>\n<!-- 10&#45;&gt;13 -->\n<g id=\"edge16\" class=\"edge\">\n<title>10&#45;&gt;13</title>\n<path fill=\"none\" stroke=\"green\" d=\"M294.61,-154.83C283.99,-145.66 269.9,-133.48 257.58,-122.84\"/>\n<polygon fill=\"green\" stroke=\"green\" points=\"259.66,-120 249.8,-116.11 255.08,-125.3 259.66,-120\"/>\n</g>\n<!-- 11 -->\n<g id=\"node13\" class=\"node\">\n<title>11</title>\n<polygon fill=\"none\" stroke=\"black\" points=\"376,-116 288,-116 288,-80 376,-80 376,-116\"/>\n<text text-anchor=\"middle\" x=\"332\" y=\"-94.3\" font-family=\"Times,serif\" font-size=\"14.00\">13: v = v * n</text>\n</g>\n<!-- 10&#45;&gt;11 -->\n<g id=\"edge14\" class=\"edge\">\n<title>10&#45;&gt;11</title>\n<path fill=\"none\" stroke=\"green\" d=\"M315.87,-152.76C318.27,-144.78 321.21,-134.95 323.93,-125.89\"/>\n<polygon fill=\"green\" stroke=\"green\" points=\"327.34,-126.71 326.86,-116.12 320.64,-124.7 327.34,-126.71\"/>\n</g>\n<!-- 12 -->\n<g id=\"node12\" class=\"node\">\n<title>12</title>\n<polygon fill=\"none\" stroke=\"black\" points=\"411,-40 325,-40 325,-4 411,-4 411,-40\"/>\n<text text-anchor=\"middle\" x=\"368\" y=\"-18.3\" font-family=\"Times,serif\" font-size=\"14.00\">14: n = n &#45; 1</text>\n</g>\n<!-- 12&#45;&gt;10 -->\n<g id=\"edge13\" class=\"edge\">\n<title>12&#45;&gt;10</title>\n<path fill=\"none\" stroke=\"green\" d=\"M377.28,-40.07C386.48,-59.47 397.53,-91.62 385,-116 377.05,-131.48 362.24,-143.45 347.95,-152.07\"/>\n<polygon fill=\"green\" stroke=\"green\" points=\"346.18,-149.04 339.18,-157 349.61,-155.15 346.18,-149.04\"/>\n</g>\n<!-- 11&#45;&gt;12 -->\n<g id=\"edge15\" class=\"edge\">\n<title>11&#45;&gt;12</title>\n<path fill=\"none\" stroke=\"green\" d=\"M340.35,-79.84C344.76,-70.78 350.26,-59.47 355.19,-49.32\"/>\n<polygon fill=\"green\" stroke=\"green\" points=\"358.47,-50.59 359.7,-40.07 352.17,-47.53 358.47,-50.59\"/>\n</g>\n</g>\n</svg>\n",
      "text/plain": [
       "<graphviz.graphs.Digraph at 0x167b94fa0>"
      ]
     },
     "execution_count": 26,
     "metadata": {},
     "output_type": "execute_result"
    }
   ],
   "source": [
    "to_graph(gen_cfg(inspect.getsource(factorial)), arcs=cov.arcs())"
   ]
  },
  {
   "cell_type": "markdown",
   "metadata": {
    "slideshow": {
     "slide_type": "subslide"
    }
   },
   "source": [
    "Ok, so we have managed to cover a little more of the graph. Let us continue with our original input of `factorial(5)`:\n",
    "* In line (5) we encounter a new predicate `n == 0`, for which we again took the false branch."
   ]
  },
  {
   "cell_type": "code",
   "execution_count": 27,
   "metadata": {
    "execution": {
     "iopub.execute_input": "2022-01-05T17:28:03.717857Z",
     "iopub.status.busy": "2022-01-05T17:28:03.717181Z",
     "iopub.status.idle": "2022-01-05T17:28:03.719797Z",
     "shell.execute_reply": "2022-01-05T17:28:03.720177Z"
    },
    "slideshow": {
     "slide_type": "fragment"
    }
   },
   "outputs": [
    {
     "data": {
      "text/plain": [
       "'    if n == 0:'"
      ]
     },
     "execution_count": 27,
     "metadata": {},
     "output_type": "execute_result"
    }
   ],
   "source": [
    "src[5]"
   ]
  },
  {
   "cell_type": "markdown",
   "metadata": {
    "slideshow": {
     "slide_type": "fragment"
    }
   },
   "source": [
    "The predicates required, to follow the path until this point are as follows."
   ]
  },
  {
   "cell_type": "code",
   "execution_count": 28,
   "metadata": {
    "execution": {
     "iopub.execute_input": "2022-01-05T17:28:03.723942Z",
     "iopub.status.busy": "2022-01-05T17:28:03.723419Z",
     "iopub.status.idle": "2022-01-05T17:28:03.725673Z",
     "shell.execute_reply": "2022-01-05T17:28:03.726060Z"
    },
    "slideshow": {
     "slide_type": "fragment"
    }
   },
   "outputs": [],
   "source": [
    "predicates = [z3.Not(zn < 0), z3.Not(zn == 0)]"
   ]
  },
  {
   "cell_type": "markdown",
   "metadata": {
    "slideshow": {
     "slide_type": "fragment"
    }
   },
   "source": [
    "* If we continue to line (8), we encounter another predicate, for which again, we took the `false` branch"
   ]
  },
  {
   "cell_type": "code",
   "execution_count": 29,
   "metadata": {
    "execution": {
     "iopub.execute_input": "2022-01-05T17:28:03.729411Z",
     "iopub.status.busy": "2022-01-05T17:28:03.728848Z",
     "iopub.status.idle": "2022-01-05T17:28:03.731100Z",
     "shell.execute_reply": "2022-01-05T17:28:03.731558Z"
    },
    "slideshow": {
     "slide_type": "fragment"
    }
   },
   "outputs": [
    {
     "data": {
      "text/plain": [
       "'    if n == 1:'"
      ]
     },
     "execution_count": 29,
     "metadata": {},
     "output_type": "execute_result"
    }
   ],
   "source": [
    "src[8]"
   ]
  },
  {
   "cell_type": "markdown",
   "metadata": {
    "slideshow": {
     "slide_type": "fragment"
    }
   },
   "source": [
    "The predicates encountered so far are as follows"
   ]
  },
  {
   "cell_type": "code",
   "execution_count": 30,
   "metadata": {
    "execution": {
     "iopub.execute_input": "2022-01-05T17:28:03.735373Z",
     "iopub.status.busy": "2022-01-05T17:28:03.734765Z",
     "iopub.status.idle": "2022-01-05T17:28:03.737134Z",
     "shell.execute_reply": "2022-01-05T17:28:03.737589Z"
    },
    "slideshow": {
     "slide_type": "subslide"
    }
   },
   "outputs": [],
   "source": [
    "predicates = [z3.Not(zn < 0), z3.Not(zn == 0), z3.Not(zn == 1)]"
   ]
  },
  {
   "cell_type": "markdown",
   "metadata": {
    "slideshow": {
     "slide_type": "fragment"
    }
   },
   "source": [
    "To take the branch at (6), we essentially have to obey the predicates until that point, but invert the last predicate."
   ]
  },
  {
   "cell_type": "code",
   "execution_count": 31,
   "metadata": {
    "execution": {
     "iopub.execute_input": "2022-01-05T17:28:03.741128Z",
     "iopub.status.busy": "2022-01-05T17:28:03.740602Z",
     "iopub.status.idle": "2022-01-05T17:28:03.758935Z",
     "shell.execute_reply": "2022-01-05T17:28:03.759312Z"
    },
    "slideshow": {
     "slide_type": "fragment"
    }
   },
   "outputs": [
    {
     "name": "stdout",
     "output_type": "stream",
     "text": [
      "[n = 1]\n"
     ]
    }
   ],
   "source": [
    "last = len(predicates) - 1\n",
    "z3.solve(predicates[0:-1] + [z3.Not(predicates[-1])])"
   ]
  },
  {
   "cell_type": "markdown",
   "metadata": {
    "slideshow": {
     "slide_type": "subslide"
    }
   },
   "source": [
    "What we are doing here is tracing the execution corresponding to a particular input `factorial(5)`, using concrete values, and along with it, keeping *symbolic shadow variables* that enable us to capture the constraints. As we mentioned in the introduction, this particular method of execution where one tracks concrete  execution using symbolic variables is called *Concolic Execution*.\n",
    "\n",
    "How do we automate this process? One method is to use a similar infrastructure as that of the chapter on [information flow](InformationFlow.ipynb), and use the Python inheritance to create _symbolic proxy objects_ that can track the concrete execution."
   ]
  },
  {
   "cell_type": "markdown",
   "metadata": {
    "slideshow": {
     "slide_type": "slide"
    },
    "tags": [],
    "toc-nb-collapsed": true
   },
   "source": [
    "## A Concolic Tracer\n",
    "\n",
    "Let us now define a class to _collect_ symbolic variables and path conditions during an execution. The idea is to have a `ConcolicTracer` class that is invoked in a `with` block. To execute a function while tracing its path conditions, we need to _transform_ its arguments, which we do by invoking functions through a `[]` item access.\n",
    "\n",
    "This is a typical usage of a `ConcolicTracer`:\n",
    "\n",
    "```python\n",
    "with ConcolicTracer as _:\n",
    "    _.[function](args, ...)\n",
    "```\n",
    "\n",
    "After execution, we can access the symbolic variables in the `decls` attribute:\n",
    "\n",
    "```python\n",
    "_.decls\n",
    "```\n",
    "\n",
    "whereas the `path` attribute lists the precondition paths encountered:\n",
    "\n",
    "```python\n",
    "_.path\n",
    "```\n",
    "\n",
    "The `context` attribute contains a pair of declarations and paths:\n",
    "\n",
    "```python\n",
    "_.context\n",
    "```\n",
    "\n",
    "If you read this for the first time, skip the implementation and head right to the examples."
   ]
  },
  {
   "cell_type": "markdown",
   "metadata": {
    "slideshow": {
     "slide_type": "subslide"
    },
    "tags": []
   },
   "source": [
    "### Excursion: Implementing ConcolicTracer"
   ]
  },
  {
   "cell_type": "markdown",
   "metadata": {
    "slideshow": {
     "slide_type": "fragment"
    }
   },
   "source": [
    "Let us now implement `ConcolicTracer`\n",
    " constructor of a  accepts a single `context` argument which contains the declarations for the symbolic variables seen so far, and path conditions seen so far. We only need this in case of nested contexts."
   ]
  },
  {
   "cell_type": "code",
   "execution_count": 32,
   "metadata": {
    "execution": {
     "iopub.execute_input": "2022-01-05T17:28:03.763625Z",
     "iopub.status.busy": "2022-01-05T17:28:03.763091Z",
     "iopub.status.idle": "2022-01-05T17:28:03.765244Z",
     "shell.execute_reply": "2022-01-05T17:28:03.764863Z"
    },
    "slideshow": {
     "slide_type": "fragment"
    }
   },
   "outputs": [],
   "source": [
    "class ConcolicTracer:\n",
    "    \"\"\"Trace function execution, tracking variables and path conditions\"\"\"\n",
    "\n",
    "    def __init__(self, context=None):\n",
    "        \"\"\"Constructor.\"\"\"\n",
    "        self.context = context if context is not None else ({}, [])\n",
    "        self.decls, self.path = self.context"
   ]
  },
  {
   "cell_type": "markdown",
   "metadata": {
    "slideshow": {
     "slide_type": "fragment"
    }
   },
   "source": [
    "We add the enter and exit methods for the `with` block."
   ]
  },
  {
   "cell_type": "code",
   "execution_count": 33,
   "metadata": {
    "execution": {
     "iopub.execute_input": "2022-01-05T17:28:03.768998Z",
     "iopub.status.busy": "2022-01-05T17:28:03.768456Z",
     "iopub.status.idle": "2022-01-05T17:28:03.770346Z",
     "shell.execute_reply": "2022-01-05T17:28:03.770711Z"
    },
    "slideshow": {
     "slide_type": "subslide"
    }
   },
   "outputs": [],
   "source": [
    "class ConcolicTracer(ConcolicTracer):\n",
    "    def __enter__(self):\n",
    "        return self\n",
    "\n",
    "    def __exit__(self, exc_type, exc_value, tb):\n",
    "        return"
   ]
  },
  {
   "cell_type": "markdown",
   "metadata": {
    "slideshow": {
     "slide_type": "fragment"
    }
   },
   "source": [
    "We use introspection to determine the arguments to the function, which is hooked into the `getitem()` method."
   ]
  },
  {
   "cell_type": "code",
   "execution_count": 34,
   "metadata": {
    "execution": {
     "iopub.execute_input": "2022-01-05T17:28:03.774535Z",
     "iopub.status.busy": "2022-01-05T17:28:03.774005Z",
     "iopub.status.idle": "2022-01-05T17:28:03.775666Z",
     "shell.execute_reply": "2022-01-05T17:28:03.776031Z"
    },
    "slideshow": {
     "slide_type": "fragment"
    }
   },
   "outputs": [],
   "source": [
    "class ConcolicTracer(ConcolicTracer):\n",
    "    def __getitem__(self, fn):\n",
    "        self.fn = fn\n",
    "        self.fn_args = {i: None for i in inspect.signature(fn).parameters}\n",
    "        return self"
   ]
  },
  {
   "cell_type": "markdown",
   "metadata": {
    "slideshow": {
     "slide_type": "fragment"
    }
   },
   "source": [
    "Finally, the function itself is invoked using the `call` method."
   ]
  },
  {
   "cell_type": "code",
   "execution_count": 35,
   "metadata": {
    "execution": {
     "iopub.execute_input": "2022-01-05T17:28:03.779463Z",
     "iopub.status.busy": "2022-01-05T17:28:03.778949Z",
     "iopub.status.idle": "2022-01-05T17:28:03.780580Z",
     "shell.execute_reply": "2022-01-05T17:28:03.781018Z"
    },
    "slideshow": {
     "slide_type": "subslide"
    }
   },
   "outputs": [],
   "source": [
    "class ConcolicTracer(ConcolicTracer):\n",
    "    def __call__(self, *args):\n",
    "        self.result = self.fn(*self.concolic(args))\n",
    "        return self.result"
   ]
  },
  {
   "cell_type": "markdown",
   "metadata": {
    "slideshow": {
     "slide_type": "fragment"
    }
   },
   "source": [
    "For now, we define `concolic()` as a transparent function. It will be modified to produce symbolic variables later."
   ]
  },
  {
   "cell_type": "code",
   "execution_count": 36,
   "metadata": {
    "execution": {
     "iopub.execute_input": "2022-01-05T17:28:03.784661Z",
     "iopub.status.busy": "2022-01-05T17:28:03.783755Z",
     "iopub.status.idle": "2022-01-05T17:28:03.786227Z",
     "shell.execute_reply": "2022-01-05T17:28:03.786604Z"
    },
    "slideshow": {
     "slide_type": "fragment"
    }
   },
   "outputs": [],
   "source": [
    "class ConcolicTracer(ConcolicTracer):\n",
    "    def concolic(self, args):\n",
    "        return args"
   ]
  },
  {
   "cell_type": "markdown",
   "metadata": {
    "slideshow": {
     "slide_type": "fragment"
    }
   },
   "source": [
    "We now have things in place for _tracing_ functions:"
   ]
  },
  {
   "cell_type": "code",
   "execution_count": 37,
   "metadata": {
    "execution": {
     "iopub.execute_input": "2022-01-05T17:28:03.790121Z",
     "iopub.status.busy": "2022-01-05T17:28:03.789593Z",
     "iopub.status.idle": "2022-01-05T17:28:03.791469Z",
     "shell.execute_reply": "2022-01-05T17:28:03.791911Z"
    },
    "slideshow": {
     "slide_type": "fragment"
    }
   },
   "outputs": [],
   "source": [
    "with ConcolicTracer() as _:\n",
    "    _[factorial](1)"
   ]
  },
  {
   "cell_type": "markdown",
   "metadata": {
    "slideshow": {
     "slide_type": "fragment"
    }
   },
   "source": [
    "And for retrieving results (but not actually _computing_ them):"
   ]
  },
  {
   "cell_type": "code",
   "execution_count": 38,
   "metadata": {
    "execution": {
     "iopub.execute_input": "2022-01-05T17:28:03.795650Z",
     "iopub.status.busy": "2022-01-05T17:28:03.795114Z",
     "iopub.status.idle": "2022-01-05T17:28:03.797496Z",
     "shell.execute_reply": "2022-01-05T17:28:03.797880Z"
    },
    "slideshow": {
     "slide_type": "fragment"
    }
   },
   "outputs": [
    {
     "data": {
      "text/plain": [
       "{}"
      ]
     },
     "execution_count": 38,
     "metadata": {},
     "output_type": "execute_result"
    }
   ],
   "source": [
    "_.decls"
   ]
  },
  {
   "cell_type": "code",
   "execution_count": 39,
   "metadata": {
    "execution": {
     "iopub.execute_input": "2022-01-05T17:28:03.801754Z",
     "iopub.status.busy": "2022-01-05T17:28:03.801038Z",
     "iopub.status.idle": "2022-01-05T17:28:03.804007Z",
     "shell.execute_reply": "2022-01-05T17:28:03.804401Z"
    },
    "slideshow": {
     "slide_type": "subslide"
    }
   },
   "outputs": [
    {
     "data": {
      "text/plain": [
       "[]"
      ]
     },
     "execution_count": 39,
     "metadata": {},
     "output_type": "execute_result"
    }
   ],
   "source": [
    "_.path"
   ]
  },
  {
   "cell_type": "markdown",
   "metadata": {
    "slideshow": {
     "slide_type": "fragment"
    }
   },
   "source": [
    "Both `decls` and `path` attributes will be set by concolic proxy objects, which we define next."
   ]
  },
  {
   "cell_type": "markdown",
   "metadata": {
    "slideshow": {
     "slide_type": "subslide"
    },
    "tags": [],
    "toc-hr-collapsed": true
   },
   "source": [
    "#### Concolic Proxy Objects\n",
    "\n",
    "We now define the concolic proxy objects that can be used for concolic tracing. First, we define the `zproxy_create()` method that given a class name, correctly creates an instance of that class, and the symbolic corresponding variable, and registers the symbolic variable in the context information `context`."
   ]
  },
  {
   "cell_type": "code",
   "execution_count": 40,
   "metadata": {
    "execution": {
     "iopub.execute_input": "2022-01-05T17:28:03.808887Z",
     "iopub.status.busy": "2022-01-05T17:28:03.808355Z",
     "iopub.status.idle": "2022-01-05T17:28:03.810122Z",
     "shell.execute_reply": "2022-01-05T17:28:03.810490Z"
    },
    "slideshow": {
     "slide_type": "fragment"
    }
   },
   "outputs": [],
   "source": [
    "def zproxy_create(cls, z_type, z3var, context, z_name, v=None):\n",
    "    z_value = cls(context, z3var(z_name), v)\n",
    "    context[0][z_name] = z_type  # add to decls\n",
    "    return z_value"
   ]
  },
  {
   "cell_type": "markdown",
   "metadata": {
    "slideshow": {
     "slide_type": "subslide"
    },
    "toc-hr-collapsed": false
   },
   "source": [
    "#### A Proxy Class for Booleans\n",
    "\n",
    "First, we define the `zbool` class which is used to track the predicates encountered. It is a wrapper class that contains both symbolic (`z`) as well as concrete (`v`) values. The concrete value is used to determine which path to take, and the symbolic value is used to collect the predicates encountered.\n",
    "\n",
    "The initialization is done in two parts. The first one is using `zproxy_create()` to correctly initialize and register the shadow symbolic variable corresponding to the passed argument. This is used exclusively when the symbolic variable needs to be initialized first. In all other cases, the constructor is called with the preexisting symbolic value."
   ]
  },
  {
   "cell_type": "code",
   "execution_count": 41,
   "metadata": {
    "execution": {
     "iopub.execute_input": "2022-01-05T17:28:03.814746Z",
     "iopub.status.busy": "2022-01-05T17:28:03.814221Z",
     "iopub.status.idle": "2022-01-05T17:28:03.816109Z",
     "shell.execute_reply": "2022-01-05T17:28:03.816484Z"
    },
    "slideshow": {
     "slide_type": "subslide"
    }
   },
   "outputs": [],
   "source": [
    "class zbool:\n",
    "    @classmethod\n",
    "    def create(cls, context, z_name, v):\n",
    "        return zproxy_create(cls, 'Bool', z3.Bool, context, z_name, v)\n",
    "\n",
    "    def __init__(self, context, z, v=None):\n",
    "        self.context = context\n",
    "        self.z = z\n",
    "        self.v = v\n",
    "        self.decl, self.path = self.context"
   ]
  },
  {
   "cell_type": "markdown",
   "metadata": {
    "slideshow": {
     "slide_type": "fragment"
    }
   },
   "source": [
    "Here is how it is used. We create a symbolic variable `my_bool_arg` with a value of `True` in the current context of the concolic tracer:"
   ]
  },
  {
   "cell_type": "code",
   "execution_count": 42,
   "metadata": {
    "execution": {
     "iopub.execute_input": "2022-01-05T17:28:03.819967Z",
     "iopub.status.busy": "2022-01-05T17:28:03.819391Z",
     "iopub.status.idle": "2022-01-05T17:28:03.821387Z",
     "shell.execute_reply": "2022-01-05T17:28:03.821764Z"
    },
    "slideshow": {
     "slide_type": "fragment"
    }
   },
   "outputs": [],
   "source": [
    "with ConcolicTracer() as _:\n",
    "    val = zbool.create(_.context, 'my_bool_arg', True)"
   ]
  },
  {
   "cell_type": "markdown",
   "metadata": {
    "slideshow": {
     "slide_type": "fragment"
    }
   },
   "source": [
    "We can now access the symbolic name in the `z` attribute:"
   ]
  },
  {
   "cell_type": "code",
   "execution_count": 43,
   "metadata": {
    "execution": {
     "iopub.execute_input": "2022-01-05T17:28:03.825492Z",
     "iopub.status.busy": "2022-01-05T17:28:03.824925Z",
     "iopub.status.idle": "2022-01-05T17:28:03.827789Z",
     "shell.execute_reply": "2022-01-05T17:28:03.827431Z"
    },
    "slideshow": {
     "slide_type": "subslide"
    }
   },
   "outputs": [
    {
     "data": {
      "text/html": [
       "my_bool_arg"
      ],
      "text/plain": [
       "my_bool_arg"
      ]
     },
     "execution_count": 43,
     "metadata": {},
     "output_type": "execute_result"
    }
   ],
   "source": [
    "val.z"
   ]
  },
  {
   "cell_type": "markdown",
   "metadata": {
    "slideshow": {
     "slide_type": "fragment"
    }
   },
   "source": [
    "The value is in the `v` attribute:"
   ]
  },
  {
   "cell_type": "code",
   "execution_count": 44,
   "metadata": {
    "execution": {
     "iopub.execute_input": "2022-01-05T17:28:03.831246Z",
     "iopub.status.busy": "2022-01-05T17:28:03.830650Z",
     "iopub.status.idle": "2022-01-05T17:28:03.832917Z",
     "shell.execute_reply": "2022-01-05T17:28:03.833286Z"
    },
    "slideshow": {
     "slide_type": "fragment"
    }
   },
   "outputs": [
    {
     "data": {
      "text/plain": [
       "True"
      ]
     },
     "execution_count": 44,
     "metadata": {},
     "output_type": "execute_result"
    }
   ],
   "source": [
    "val.v"
   ]
  },
  {
   "cell_type": "markdown",
   "metadata": {
    "slideshow": {
     "slide_type": "fragment"
    }
   },
   "source": [
    "Note that the context of the enclosing `ConcolicTracer()` is automatically updated (via `zproxy_create()`) to hold the variable declarations and types:"
   ]
  },
  {
   "cell_type": "code",
   "execution_count": 45,
   "metadata": {
    "execution": {
     "iopub.execute_input": "2022-01-05T17:28:03.836597Z",
     "iopub.status.busy": "2022-01-05T17:28:03.836057Z",
     "iopub.status.idle": "2022-01-05T17:28:03.838268Z",
     "shell.execute_reply": "2022-01-05T17:28:03.838643Z"
    },
    "slideshow": {
     "slide_type": "fragment"
    }
   },
   "outputs": [
    {
     "data": {
      "text/plain": [
       "({'my_bool_arg': 'Bool'}, [])"
      ]
     },
     "execution_count": 45,
     "metadata": {},
     "output_type": "execute_result"
    }
   ],
   "source": [
    "_.context"
   ]
  },
  {
   "cell_type": "markdown",
   "metadata": {
    "slideshow": {
     "slide_type": "fragment"
    }
   },
   "source": [
    "The context can also be reached through the `context` attribute; both point to the same data structure."
   ]
  },
  {
   "cell_type": "code",
   "execution_count": 46,
   "metadata": {
    "execution": {
     "iopub.execute_input": "2022-01-05T17:28:03.842061Z",
     "iopub.status.busy": "2022-01-05T17:28:03.841447Z",
     "iopub.status.idle": "2022-01-05T17:28:03.843756Z",
     "shell.execute_reply": "2022-01-05T17:28:03.844138Z"
    },
    "slideshow": {
     "slide_type": "fragment"
    }
   },
   "outputs": [
    {
     "data": {
      "text/plain": [
       "({'my_bool_arg': 'Bool'}, [])"
      ]
     },
     "execution_count": 46,
     "metadata": {},
     "output_type": "execute_result"
    }
   ],
   "source": [
    "val.context"
   ]
  },
  {
   "cell_type": "markdown",
   "metadata": {
    "slideshow": {
     "slide_type": "subslide"
    }
   },
   "source": [
    "##### Negation of Encoded formula\n",
    "\n",
    "The `zbool` class allows negation of its concrete and symbolic values."
   ]
  },
  {
   "cell_type": "code",
   "execution_count": 47,
   "metadata": {
    "execution": {
     "iopub.execute_input": "2022-01-05T17:28:03.847730Z",
     "iopub.status.busy": "2022-01-05T17:28:03.847204Z",
     "iopub.status.idle": "2022-01-05T17:28:03.848988Z",
     "shell.execute_reply": "2022-01-05T17:28:03.849361Z"
    },
    "slideshow": {
     "slide_type": "fragment"
    }
   },
   "outputs": [],
   "source": [
    "class zbool(zbool):\n",
    "    def __not__(self):\n",
    "        return zbool(self.context, z3.Not(self.z), not self.v)"
   ]
  },
  {
   "cell_type": "markdown",
   "metadata": {
    "slideshow": {
     "slide_type": "fragment"
    }
   },
   "source": [
    "Here is how it can be used."
   ]
  },
  {
   "cell_type": "code",
   "execution_count": 48,
   "metadata": {
    "execution": {
     "iopub.execute_input": "2022-01-05T17:28:03.853042Z",
     "iopub.status.busy": "2022-01-05T17:28:03.852394Z",
     "iopub.status.idle": "2022-01-05T17:28:03.855227Z",
     "shell.execute_reply": "2022-01-05T17:28:03.855621Z"
    },
    "slideshow": {
     "slide_type": "fragment"
    }
   },
   "outputs": [],
   "source": [
    "with ConcolicTracer() as _:\n",
    "    val = zbool.create(_.context, 'my_bool_arg', True).__not__()"
   ]
  },
  {
   "cell_type": "code",
   "execution_count": 49,
   "metadata": {
    "execution": {
     "iopub.execute_input": "2022-01-05T17:28:03.859212Z",
     "iopub.status.busy": "2022-01-05T17:28:03.858545Z",
     "iopub.status.idle": "2022-01-05T17:28:03.861429Z",
     "shell.execute_reply": "2022-01-05T17:28:03.861969Z"
    },
    "slideshow": {
     "slide_type": "fragment"
    }
   },
   "outputs": [
    {
     "data": {
      "text/html": [
       "&not;my_bool_arg"
      ],
      "text/plain": [
       "Not(my_bool_arg)"
      ]
     },
     "execution_count": 49,
     "metadata": {},
     "output_type": "execute_result"
    }
   ],
   "source": [
    "val.z"
   ]
  },
  {
   "cell_type": "code",
   "execution_count": 50,
   "metadata": {
    "execution": {
     "iopub.execute_input": "2022-01-05T17:28:03.865437Z",
     "iopub.status.busy": "2022-01-05T17:28:03.864814Z",
     "iopub.status.idle": "2022-01-05T17:28:03.867109Z",
     "shell.execute_reply": "2022-01-05T17:28:03.867545Z"
    },
    "slideshow": {
     "slide_type": "fragment"
    }
   },
   "outputs": [
    {
     "data": {
      "text/plain": [
       "False"
      ]
     },
     "execution_count": 50,
     "metadata": {},
     "output_type": "execute_result"
    }
   ],
   "source": [
    "val.v"
   ]
  },
  {
   "cell_type": "code",
   "execution_count": 51,
   "metadata": {
    "execution": {
     "iopub.execute_input": "2022-01-05T17:28:03.870920Z",
     "iopub.status.busy": "2022-01-05T17:28:03.870309Z",
     "iopub.status.idle": "2022-01-05T17:28:03.872869Z",
     "shell.execute_reply": "2022-01-05T17:28:03.873264Z"
    },
    "slideshow": {
     "slide_type": "subslide"
    }
   },
   "outputs": [
    {
     "data": {
      "text/plain": [
       "({'my_bool_arg': 'Bool'}, [])"
      ]
     },
     "execution_count": 51,
     "metadata": {},
     "output_type": "execute_result"
    }
   ],
   "source": [
    "_.context"
   ]
  },
  {
   "cell_type": "markdown",
   "metadata": {
    "slideshow": {
     "slide_type": "subslide"
    }
   },
   "source": [
    "##### Registering Predicates on Conditionals\n",
    "\n",
    "The `zbool` class is being used to track Boolean conditions that arise during program execution. It tracks such conditions by registering the corresponding symbolic expressions in the context as soon as it is evaluated. On evaluation, the `__bool__()` method is called; so we can hook into this one:"
   ]
  },
  {
   "cell_type": "code",
   "execution_count": 52,
   "metadata": {
    "execution": {
     "iopub.execute_input": "2022-01-05T17:28:03.877391Z",
     "iopub.status.busy": "2022-01-05T17:28:03.876785Z",
     "iopub.status.idle": "2022-01-05T17:28:03.878353Z",
     "shell.execute_reply": "2022-01-05T17:28:03.878731Z"
    },
    "slideshow": {
     "slide_type": "fragment"
    }
   },
   "outputs": [],
   "source": [
    "class zbool(zbool):\n",
    "    def __bool__(self):\n",
    "        r, pred = (True, self.z) if self.v else (False, z3.Not(self.z))\n",
    "        self.path.append(pred)\n",
    "        return r"
   ]
  },
  {
   "cell_type": "markdown",
   "metadata": {
    "slideshow": {
     "slide_type": "fragment"
    }
   },
   "source": [
    "The `zbool` class can be used to keep track of Boolean values and conditions encountered during the execution. For example, we can encode the conditions encountered by Line 6 in `factorial()` as follows:"
   ]
  },
  {
   "cell_type": "markdown",
   "metadata": {
    "slideshow": {
     "slide_type": "subslide"
    }
   },
   "source": [
    "First, we define the concrete value (`ca`), and its shadow symbolic variable (`za`)."
   ]
  },
  {
   "cell_type": "code",
   "execution_count": 53,
   "metadata": {
    "execution": {
     "iopub.execute_input": "2022-01-05T17:28:03.882198Z",
     "iopub.status.busy": "2022-01-05T17:28:03.881553Z",
     "iopub.status.idle": "2022-01-05T17:28:03.883655Z",
     "shell.execute_reply": "2022-01-05T17:28:03.884084Z"
    },
    "slideshow": {
     "slide_type": "fragment"
    }
   },
   "outputs": [],
   "source": [
    "ca = 5\n",
    "za = z3.Int('a')"
   ]
  },
  {
   "cell_type": "markdown",
   "metadata": {
    "slideshow": {
     "slide_type": "fragment"
    }
   },
   "source": [
    "Then, we wrap it in `zbool`, and use it in a conditional, forcing the conditional to be registered in the context."
   ]
  },
  {
   "cell_type": "code",
   "execution_count": 54,
   "metadata": {
    "execution": {
     "iopub.execute_input": "2022-01-05T17:28:03.888519Z",
     "iopub.status.busy": "2022-01-05T17:28:03.887757Z",
     "iopub.status.idle": "2022-01-05T17:28:03.890406Z",
     "shell.execute_reply": "2022-01-05T17:28:03.890849Z"
    },
    "slideshow": {
     "slide_type": "fragment"
    }
   },
   "outputs": [
    {
     "name": "stdout",
     "output_type": "stream",
     "text": [
      "success\n"
     ]
    }
   ],
   "source": [
    "with ConcolicTracer() as _:\n",
    "    if zbool(_.context, za == z3.IntVal(5), ca == 5):\n",
    "        print('success')"
   ]
  },
  {
   "cell_type": "markdown",
   "metadata": {
    "slideshow": {
     "slide_type": "fragment"
    }
   },
   "source": [
    "We can retrieve the registered conditional as follows."
   ]
  },
  {
   "cell_type": "code",
   "execution_count": 55,
   "metadata": {
    "execution": {
     "iopub.execute_input": "2022-01-05T17:28:03.894939Z",
     "iopub.status.busy": "2022-01-05T17:28:03.894238Z",
     "iopub.status.idle": "2022-01-05T17:28:03.897646Z",
     "shell.execute_reply": "2022-01-05T17:28:03.898130Z"
    },
    "slideshow": {
     "slide_type": "fragment"
    }
   },
   "outputs": [
    {
     "data": {
      "text/plain": [
       "[5 == a]"
      ]
     },
     "execution_count": 55,
     "metadata": {},
     "output_type": "execute_result"
    }
   ],
   "source": [
    "_.path"
   ]
  },
  {
   "cell_type": "markdown",
   "metadata": {
    "slideshow": {
     "slide_type": "subslide"
    },
    "toc-hr-collapsed": false
   },
   "source": [
    "#### A Proxy Class for Integers"
   ]
  },
  {
   "cell_type": "markdown",
   "metadata": {
    "slideshow": {
     "slide_type": "fragment"
    }
   },
   "source": [
    "Next, we define a symbolic wrapper `zint` for `int`.\n",
    "This class keeps track of the `int` variables used and the predicates encountered in `context`. Finally, it also keeps the concrete value so that it can be used to determine the path to take. As the `zint` extends the primitive `int` class, we have to define a _new_ method to open it for extension."
   ]
  },
  {
   "cell_type": "code",
   "execution_count": 56,
   "metadata": {
    "execution": {
     "iopub.execute_input": "2022-01-05T17:28:03.902572Z",
     "iopub.status.busy": "2022-01-05T17:28:03.901939Z",
     "iopub.status.idle": "2022-01-05T17:28:03.903542Z",
     "shell.execute_reply": "2022-01-05T17:28:03.903923Z"
    },
    "slideshow": {
     "slide_type": "fragment"
    }
   },
   "outputs": [],
   "source": [
    "class zint(int):\n",
    "    def __new__(cls, context, zn, v, *args, **kw):\n",
    "        return int.__new__(cls, v, *args, **kw)"
   ]
  },
  {
   "cell_type": "markdown",
   "metadata": {
    "slideshow": {
     "slide_type": "fragment"
    }
   },
   "source": [
    "As in the case of `zbool`, the initialization takes place in two parts. The first using `create()` if a new symbolic argument is being registered, and then the usual initialization."
   ]
  },
  {
   "cell_type": "code",
   "execution_count": 57,
   "metadata": {
    "execution": {
     "iopub.execute_input": "2022-01-05T17:28:03.908188Z",
     "iopub.status.busy": "2022-01-05T17:28:03.907605Z",
     "iopub.status.idle": "2022-01-05T17:28:03.909348Z",
     "shell.execute_reply": "2022-01-05T17:28:03.909816Z"
    },
    "slideshow": {
     "slide_type": "subslide"
    }
   },
   "outputs": [],
   "source": [
    "class zint(zint):\n",
    "    @classmethod\n",
    "    def create(cls, context, zn, v=None):\n",
    "        return zproxy_create(cls, 'Int', z3.Int, context, zn, v)\n",
    "\n",
    "    def __init__(self, context, z, v=None):\n",
    "        self.z, self.v = z, v\n",
    "        self.context = context"
   ]
  },
  {
   "cell_type": "markdown",
   "metadata": {
    "slideshow": {
     "slide_type": "fragment"
    }
   },
   "source": [
    "The `int` value of a `zint` object is its concrete value."
   ]
  },
  {
   "cell_type": "code",
   "execution_count": 58,
   "metadata": {
    "execution": {
     "iopub.execute_input": "2022-01-05T17:28:03.913583Z",
     "iopub.status.busy": "2022-01-05T17:28:03.913003Z",
     "iopub.status.idle": "2022-01-05T17:28:03.914778Z",
     "shell.execute_reply": "2022-01-05T17:28:03.915214Z"
    },
    "slideshow": {
     "slide_type": "fragment"
    }
   },
   "outputs": [],
   "source": [
    "class zint(zint):\n",
    "    def __int__(self):\n",
    "        return self.v\n",
    "\n",
    "    def __pos__(self):\n",
    "        return self.v"
   ]
  },
  {
   "cell_type": "markdown",
   "metadata": {
    "slideshow": {
     "slide_type": "subslide"
    }
   },
   "source": [
    "Using these proxies is as follows."
   ]
  },
  {
   "cell_type": "code",
   "execution_count": 59,
   "metadata": {
    "execution": {
     "iopub.execute_input": "2022-01-05T17:28:03.918357Z",
     "iopub.status.busy": "2022-01-05T17:28:03.917769Z",
     "iopub.status.idle": "2022-01-05T17:28:03.919703Z",
     "shell.execute_reply": "2022-01-05T17:28:03.920074Z"
    },
    "slideshow": {
     "slide_type": "fragment"
    }
   },
   "outputs": [],
   "source": [
    "with ConcolicTracer() as _:\n",
    "    val = zint.create(_.context, 'int_arg', 0)"
   ]
  },
  {
   "cell_type": "code",
   "execution_count": 60,
   "metadata": {
    "execution": {
     "iopub.execute_input": "2022-01-05T17:28:03.923177Z",
     "iopub.status.busy": "2022-01-05T17:28:03.922660Z",
     "iopub.status.idle": "2022-01-05T17:28:03.925395Z",
     "shell.execute_reply": "2022-01-05T17:28:03.925925Z"
    },
    "slideshow": {
     "slide_type": "fragment"
    }
   },
   "outputs": [
    {
     "data": {
      "text/html": [
       "int_arg"
      ],
      "text/plain": [
       "int_arg"
      ]
     },
     "execution_count": 60,
     "metadata": {},
     "output_type": "execute_result"
    }
   ],
   "source": [
    "val.z"
   ]
  },
  {
   "cell_type": "code",
   "execution_count": 61,
   "metadata": {
    "execution": {
     "iopub.execute_input": "2022-01-05T17:28:03.929100Z",
     "iopub.status.busy": "2022-01-05T17:28:03.928552Z",
     "iopub.status.idle": "2022-01-05T17:28:03.930750Z",
     "shell.execute_reply": "2022-01-05T17:28:03.931173Z"
    },
    "slideshow": {
     "slide_type": "fragment"
    }
   },
   "outputs": [
    {
     "data": {
      "text/plain": [
       "0"
      ]
     },
     "execution_count": 61,
     "metadata": {},
     "output_type": "execute_result"
    }
   ],
   "source": [
    "val.v"
   ]
  },
  {
   "cell_type": "code",
   "execution_count": 62,
   "metadata": {
    "execution": {
     "iopub.execute_input": "2022-01-05T17:28:03.934456Z",
     "iopub.status.busy": "2022-01-05T17:28:03.933885Z",
     "iopub.status.idle": "2022-01-05T17:28:03.936261Z",
     "shell.execute_reply": "2022-01-05T17:28:03.936634Z"
    },
    "slideshow": {
     "slide_type": "fragment"
    }
   },
   "outputs": [
    {
     "data": {
      "text/plain": [
       "({'int_arg': 'Int'}, [])"
      ]
     },
     "execution_count": 62,
     "metadata": {},
     "output_type": "execute_result"
    }
   ],
   "source": [
    "_.context"
   ]
  },
  {
   "cell_type": "markdown",
   "metadata": {
    "slideshow": {
     "slide_type": "fragment"
    }
   },
   "source": [
    "The `zint` class is often used to do arithmetic with, or compare to other `int`s. These `int`s can be either a variable or a constant value. We define a helper method `_zv()` that checks what kind of `int` a given value is, and produces the correct symbolic equivalent."
   ]
  },
  {
   "cell_type": "code",
   "execution_count": 63,
   "metadata": {
    "execution": {
     "iopub.execute_input": "2022-01-05T17:28:03.940293Z",
     "iopub.status.busy": "2022-01-05T17:28:03.939735Z",
     "iopub.status.idle": "2022-01-05T17:28:03.941603Z",
     "shell.execute_reply": "2022-01-05T17:28:03.942005Z"
    },
    "slideshow": {
     "slide_type": "subslide"
    }
   },
   "outputs": [],
   "source": [
    "class zint(zint):\n",
    "    def _zv(self, o):\n",
    "        return (o.z, o.v) if isinstance(o, zint) else (z3.IntVal(o), o)"
   ]
  },
  {
   "cell_type": "markdown",
   "metadata": {
    "slideshow": {
     "slide_type": "fragment"
    }
   },
   "source": [
    "It can be used as follows"
   ]
  },
  {
   "cell_type": "code",
   "execution_count": 64,
   "metadata": {
    "execution": {
     "iopub.execute_input": "2022-01-05T17:28:03.945949Z",
     "iopub.status.busy": "2022-01-05T17:28:03.945301Z",
     "iopub.status.idle": "2022-01-05T17:28:03.947292Z",
     "shell.execute_reply": "2022-01-05T17:28:03.947740Z"
    },
    "slideshow": {
     "slide_type": "fragment"
    }
   },
   "outputs": [],
   "source": [
    "with ConcolicTracer() as _:\n",
    "    val = zint.create(_.context, 'int_arg', 0)"
   ]
  },
  {
   "cell_type": "code",
   "execution_count": 65,
   "metadata": {
    "execution": {
     "iopub.execute_input": "2022-01-05T17:28:03.952050Z",
     "iopub.status.busy": "2022-01-05T17:28:03.951295Z",
     "iopub.status.idle": "2022-01-05T17:28:03.954675Z",
     "shell.execute_reply": "2022-01-05T17:28:03.955132Z"
    },
    "slideshow": {
     "slide_type": "fragment"
    }
   },
   "outputs": [
    {
     "data": {
      "text/plain": [
       "(0, 0)"
      ]
     },
     "execution_count": 65,
     "metadata": {},
     "output_type": "execute_result"
    }
   ],
   "source": [
    "val._zv(0)"
   ]
  },
  {
   "cell_type": "code",
   "execution_count": 66,
   "metadata": {
    "execution": {
     "iopub.execute_input": "2022-01-05T17:28:03.958907Z",
     "iopub.status.busy": "2022-01-05T17:28:03.958289Z",
     "iopub.status.idle": "2022-01-05T17:28:03.961220Z",
     "shell.execute_reply": "2022-01-05T17:28:03.961798Z"
    },
    "slideshow": {
     "slide_type": "fragment"
    }
   },
   "outputs": [
    {
     "data": {
      "text/plain": [
       "(int_arg, 0)"
      ]
     },
     "execution_count": 66,
     "metadata": {},
     "output_type": "execute_result"
    }
   ],
   "source": [
    "val._zv(val)"
   ]
  },
  {
   "cell_type": "markdown",
   "metadata": {
    "slideshow": {
     "slide_type": "subslide"
    }
   },
   "source": [
    "##### Equality between Integers\n",
    "\n",
    "Two integers can be compared for equality using _ne_ and _eq_."
   ]
  },
  {
   "cell_type": "code",
   "execution_count": 67,
   "metadata": {
    "execution": {
     "iopub.execute_input": "2022-01-05T17:28:03.966543Z",
     "iopub.status.busy": "2022-01-05T17:28:03.965791Z",
     "iopub.status.idle": "2022-01-05T17:28:03.967504Z",
     "shell.execute_reply": "2022-01-05T17:28:03.967883Z"
    },
    "slideshow": {
     "slide_type": "fragment"
    }
   },
   "outputs": [],
   "source": [
    "class zint(zint):\n",
    "    def __ne__(self, other):\n",
    "        z, v = self._zv(other)\n",
    "        return zbool(self.context, self.z != z, self.v != v)\n",
    "\n",
    "    def __eq__(self, other):\n",
    "        z, v = self._zv(other)\n",
    "        return zbool(self.context, self.z == z, self.v == v)"
   ]
  },
  {
   "cell_type": "markdown",
   "metadata": {
    "slideshow": {
     "slide_type": "fragment"
    }
   },
   "source": [
    " We also define _req_ using _eq_ in case the int being compared is on the left hand side."
   ]
  },
  {
   "cell_type": "code",
   "execution_count": 68,
   "metadata": {
    "execution": {
     "iopub.execute_input": "2022-01-05T17:28:03.971660Z",
     "iopub.status.busy": "2022-01-05T17:28:03.971009Z",
     "iopub.status.idle": "2022-01-05T17:28:03.972919Z",
     "shell.execute_reply": "2022-01-05T17:28:03.973319Z"
    },
    "slideshow": {
     "slide_type": "subslide"
    }
   },
   "outputs": [],
   "source": [
    "class zint(zint):\n",
    "    def __req__(self, other):\n",
    "        return self.__eq__(other)"
   ]
  },
  {
   "cell_type": "markdown",
   "metadata": {
    "slideshow": {
     "slide_type": "fragment"
    }
   },
   "source": [
    "It can be used as follows."
   ]
  },
  {
   "cell_type": "code",
   "execution_count": 69,
   "metadata": {
    "execution": {
     "iopub.execute_input": "2022-01-05T17:28:03.977580Z",
     "iopub.status.busy": "2022-01-05T17:28:03.976992Z",
     "iopub.status.idle": "2022-01-05T17:28:03.981379Z",
     "shell.execute_reply": "2022-01-05T17:28:03.981751Z"
    },
    "slideshow": {
     "slide_type": "fragment"
    }
   },
   "outputs": [
    {
     "name": "stdout",
     "output_type": "stream",
     "text": [
      "int_a == int_b int_a != int_b 0 != int_b\n"
     ]
    }
   ],
   "source": [
    "with ConcolicTracer() as _:\n",
    "    ia = zint.create(_.context, 'int_a', 0)\n",
    "    ib = zint.create(_.context, 'int_b', 0)\n",
    "    v1 = ia == ib\n",
    "    v2 = ia != ib\n",
    "    v3 = 0 != ib\n",
    "    print(v1.z, v2.z, v3.z)"
   ]
  },
  {
   "cell_type": "markdown",
   "metadata": {
    "slideshow": {
     "slide_type": "subslide"
    }
   },
   "source": [
    "##### Comparisons between Integers\n",
    "\n",
    "Integers can also be compared for ordering, and the methods for this are defined below."
   ]
  },
  {
   "cell_type": "code",
   "execution_count": 70,
   "metadata": {
    "execution": {
     "iopub.execute_input": "2022-01-05T17:28:03.986005Z",
     "iopub.status.busy": "2022-01-05T17:28:03.985416Z",
     "iopub.status.idle": "2022-01-05T17:28:03.987025Z",
     "shell.execute_reply": "2022-01-05T17:28:03.987461Z"
    },
    "slideshow": {
     "slide_type": "fragment"
    }
   },
   "outputs": [],
   "source": [
    "class zint(zint):\n",
    "    def __lt__(self, other):\n",
    "        z, v = self._zv(other)\n",
    "        return zbool(self.context, self.z < z, self.v < v)\n",
    "\n",
    "    def __gt__(self, other):\n",
    "        z, v = self._zv(other)\n",
    "        return zbool(self.context, self.z > z, self.v > v)"
   ]
  },
  {
   "cell_type": "markdown",
   "metadata": {
    "slideshow": {
     "slide_type": "fragment"
    }
   },
   "source": [
    "We use the comparisons and equality operators to provide the other missing operators."
   ]
  },
  {
   "cell_type": "code",
   "execution_count": 71,
   "metadata": {
    "execution": {
     "iopub.execute_input": "2022-01-05T17:28:03.992151Z",
     "iopub.status.busy": "2022-01-05T17:28:03.991632Z",
     "iopub.status.idle": "2022-01-05T17:28:03.993310Z",
     "shell.execute_reply": "2022-01-05T17:28:03.993743Z"
    },
    "slideshow": {
     "slide_type": "subslide"
    }
   },
   "outputs": [],
   "source": [
    "class zint(zint):\n",
    "    def __le__(self, other):\n",
    "        z, v = self._zv(other)\n",
    "        return zbool(self.context, z3.Or(self.z < z, self.z == z),\n",
    "                     self.v < v or self.v == v)\n",
    "\n",
    "    def __ge__(self, other):\n",
    "        z, v = self._zv(other)\n",
    "        return zbool(self.context, z3.Or(self.z > z, self.z == z),\n",
    "                     self.v > v or self.v == v)"
   ]
  },
  {
   "cell_type": "markdown",
   "metadata": {
    "slideshow": {
     "slide_type": "fragment"
    }
   },
   "source": [
    "These functions can be used as follows."
   ]
  },
  {
   "cell_type": "code",
   "execution_count": 72,
   "metadata": {
    "execution": {
     "iopub.execute_input": "2022-01-05T17:28:03.997956Z",
     "iopub.status.busy": "2022-01-05T17:28:03.997138Z",
     "iopub.status.idle": "2022-01-05T17:28:04.004673Z",
     "shell.execute_reply": "2022-01-05T17:28:04.005060Z"
    },
    "slideshow": {
     "slide_type": "subslide"
    }
   },
   "outputs": [
    {
     "name": "stdout",
     "output_type": "stream",
     "text": [
      "int_a > int_b int_a < int_b\n",
      "Or(int_a > int_b, int_a == int_b) Or(int_a < int_b, int_a == int_b)\n"
     ]
    }
   ],
   "source": [
    "with ConcolicTracer() as _:\n",
    "    ia = zint.create(_.context, 'int_a', 0)\n",
    "    ib = zint.create(_.context, 'int_b', 1)\n",
    "    v1 = ia > ib\n",
    "    v2 = ia < ib\n",
    "    print(v1.z, v2.z)\n",
    "    v3 = ia >= ib\n",
    "    v4 = ia <= ib\n",
    "    print(v3.z, v4.z)"
   ]
  },
  {
   "cell_type": "markdown",
   "metadata": {
    "slideshow": {
     "slide_type": "subslide"
    }
   },
   "source": [
    "##### Binary Operators for Integers\n",
    "\n",
    "We implement relevant arithmetic operators for integers as described in the [Python documentation](https://docs.python.org/3/reference/datamodel.html#object.__add__). (The commented out operators are not directly available for `z3.ArithRef`. They need to be implemented separately if needed. See the exercises for how it can be done.)"
   ]
  },
  {
   "cell_type": "code",
   "execution_count": 73,
   "metadata": {
    "execution": {
     "iopub.execute_input": "2022-01-05T17:28:04.009915Z",
     "iopub.status.busy": "2022-01-05T17:28:04.009367Z",
     "iopub.status.idle": "2022-01-05T17:28:04.011547Z",
     "shell.execute_reply": "2022-01-05T17:28:04.012057Z"
    },
    "slideshow": {
     "slide_type": "subslide"
    }
   },
   "outputs": [],
   "source": [
    "INT_BINARY_OPS = [\n",
    "    '__add__',\n",
    "    '__sub__',\n",
    "    '__mul__',\n",
    "    '__truediv__',\n",
    "    # '__div__',\n",
    "    '__mod__',\n",
    "    # '__divmod__',\n",
    "    '__pow__',\n",
    "    # '__lshift__',\n",
    "    # '__rshift__',\n",
    "    # '__and__',\n",
    "    # '__xor__',\n",
    "    # '__or__',\n",
    "    '__radd__',\n",
    "    '__rsub__',\n",
    "    '__rmul__',\n",
    "    '__rtruediv__',\n",
    "    # '__rdiv__',\n",
    "    '__rmod__',\n",
    "    # '__rdivmod__',\n",
    "    '__rpow__',\n",
    "    # '__rlshift__',\n",
    "    # '__rrshift__',\n",
    "    # '__rand__',\n",
    "    # '__rxor__',\n",
    "    # '__ror__',\n",
    "]"
   ]
  },
  {
   "cell_type": "code",
   "execution_count": 74,
   "metadata": {
    "execution": {
     "iopub.execute_input": "2022-01-05T17:28:04.016901Z",
     "iopub.status.busy": "2022-01-05T17:28:04.016370Z",
     "iopub.status.idle": "2022-01-05T17:28:04.018368Z",
     "shell.execute_reply": "2022-01-05T17:28:04.017888Z"
    },
    "slideshow": {
     "slide_type": "subslide"
    }
   },
   "outputs": [],
   "source": [
    "def make_int_binary_wrapper(fname, fun, zfun):  # type: ignore\n",
    "    def proxy(self, other):\n",
    "        z, v = self._zv(other)\n",
    "        z_ = zfun(self.z, z)\n",
    "        v_ = fun(self.v, v)\n",
    "        if isinstance(v_, float):\n",
    "            # we do not implement float results yet.\n",
    "            assert round(v_) == v_\n",
    "            v_ = round(v_)\n",
    "        return zint(self.context, z_, v_)\n",
    "\n",
    "    return proxy"
   ]
  },
  {
   "cell_type": "code",
   "execution_count": 75,
   "metadata": {
    "execution": {
     "iopub.execute_input": "2022-01-05T17:28:04.022410Z",
     "iopub.status.busy": "2022-01-05T17:28:04.021735Z",
     "iopub.status.idle": "2022-01-05T17:28:04.023710Z",
     "shell.execute_reply": "2022-01-05T17:28:04.024098Z"
    },
    "slideshow": {
     "slide_type": "fragment"
    }
   },
   "outputs": [],
   "source": [
    "INITIALIZER_LIST: List[Callable] = []"
   ]
  },
  {
   "cell_type": "code",
   "execution_count": 76,
   "metadata": {
    "execution": {
     "iopub.execute_input": "2022-01-05T17:28:04.027638Z",
     "iopub.status.busy": "2022-01-05T17:28:04.026840Z",
     "iopub.status.idle": "2022-01-05T17:28:04.028715Z",
     "shell.execute_reply": "2022-01-05T17:28:04.029141Z"
    },
    "slideshow": {
     "slide_type": "subslide"
    }
   },
   "outputs": [],
   "source": [
    "def initialize():\n",
    "    for fn in INITIALIZER_LIST:\n",
    "        fn()"
   ]
  },
  {
   "cell_type": "code",
   "execution_count": 77,
   "metadata": {
    "execution": {
     "iopub.execute_input": "2022-01-05T17:28:04.032848Z",
     "iopub.status.busy": "2022-01-05T17:28:04.032228Z",
     "iopub.status.idle": "2022-01-05T17:28:04.033903Z",
     "shell.execute_reply": "2022-01-05T17:28:04.034276Z"
    },
    "slideshow": {
     "slide_type": "fragment"
    }
   },
   "outputs": [],
   "source": [
    "def init_concolic_1():\n",
    "    for fname in INT_BINARY_OPS:\n",
    "        fun = getattr(int, fname)\n",
    "        zfun = getattr(z3.ArithRef, fname)\n",
    "        setattr(zint, fname, make_int_binary_wrapper(fname, fun, zfun))"
   ]
  },
  {
   "cell_type": "code",
   "execution_count": 78,
   "metadata": {
    "execution": {
     "iopub.execute_input": "2022-01-05T17:28:04.040391Z",
     "iopub.status.busy": "2022-01-05T17:28:04.039108Z",
     "iopub.status.idle": "2022-01-05T17:28:04.042268Z",
     "shell.execute_reply": "2022-01-05T17:28:04.042830Z"
    },
    "slideshow": {
     "slide_type": "fragment"
    }
   },
   "outputs": [],
   "source": [
    "INITIALIZER_LIST.append(init_concolic_1)"
   ]
  },
  {
   "cell_type": "code",
   "execution_count": 79,
   "metadata": {
    "execution": {
     "iopub.execute_input": "2022-01-05T17:28:04.046831Z",
     "iopub.status.busy": "2022-01-05T17:28:04.046233Z",
     "iopub.status.idle": "2022-01-05T17:28:04.048130Z",
     "shell.execute_reply": "2022-01-05T17:28:04.048584Z"
    },
    "slideshow": {
     "slide_type": "fragment"
    }
   },
   "outputs": [],
   "source": [
    "init_concolic_1()"
   ]
  },
  {
   "cell_type": "code",
   "execution_count": 80,
   "metadata": {
    "execution": {
     "iopub.execute_input": "2022-01-05T17:28:04.053615Z",
     "iopub.status.busy": "2022-01-05T17:28:04.052713Z",
     "iopub.status.idle": "2022-01-05T17:28:04.062261Z",
     "shell.execute_reply": "2022-01-05T17:28:04.062647Z"
    },
    "slideshow": {
     "slide_type": "subslide"
    }
   },
   "outputs": [
    {
     "name": "stdout",
     "output_type": "stream",
     "text": [
      "int_a + int_b\n",
      "int_a + 10\n",
      "11 + int_b\n",
      "int_a - int_b\n",
      "int_a*int_b\n",
      "int_a/int_b\n",
      "int_a**int_b\n"
     ]
    }
   ],
   "source": [
    "with ConcolicTracer() as _:\n",
    "    ia = zint.create(_.context, 'int_a', 0)\n",
    "    ib = zint.create(_.context, 'int_b', 1)\n",
    "    print((ia + ib).z)\n",
    "    print((ia + 10).z)\n",
    "    print((11 + ib).z)\n",
    "    print((ia - ib).z)\n",
    "    print((ia * ib).z)\n",
    "    print((ia / ib).z)\n",
    "    print((ia ** ib).z)"
   ]
  },
  {
   "cell_type": "markdown",
   "metadata": {
    "slideshow": {
     "slide_type": "subslide"
    }
   },
   "source": [
    "##### Integer Unary Operators\n",
    "\n",
    "We also implement the relevant unary operators as below."
   ]
  },
  {
   "cell_type": "code",
   "execution_count": 81,
   "metadata": {
    "execution": {
     "iopub.execute_input": "2022-01-05T17:28:04.066248Z",
     "iopub.status.busy": "2022-01-05T17:28:04.065715Z",
     "iopub.status.idle": "2022-01-05T17:28:04.067549Z",
     "shell.execute_reply": "2022-01-05T17:28:04.067993Z"
    },
    "slideshow": {
     "slide_type": "fragment"
    }
   },
   "outputs": [],
   "source": [
    "INT_UNARY_OPS = [\n",
    "    '__neg__',\n",
    "    '__pos__',\n",
    "    # '__abs__',\n",
    "    # '__invert__',\n",
    "    # '__round__',\n",
    "    # '__ceil__',\n",
    "    # '__floor__',\n",
    "    # '__trunc__',\n",
    "]"
   ]
  },
  {
   "cell_type": "code",
   "execution_count": 82,
   "metadata": {
    "execution": {
     "iopub.execute_input": "2022-01-05T17:28:04.071604Z",
     "iopub.status.busy": "2022-01-05T17:28:04.071065Z",
     "iopub.status.idle": "2022-01-05T17:28:04.072729Z",
     "shell.execute_reply": "2022-01-05T17:28:04.073597Z"
    },
    "slideshow": {
     "slide_type": "subslide"
    }
   },
   "outputs": [],
   "source": [
    "def make_int_unary_wrapper(fname, fun, zfun):\n",
    "    def proxy(self):\n",
    "        return zint(self.context, zfun(self.z), fun(self.v))\n",
    "\n",
    "    return proxy"
   ]
  },
  {
   "cell_type": "code",
   "execution_count": 83,
   "metadata": {
    "execution": {
     "iopub.execute_input": "2022-01-05T17:28:04.081862Z",
     "iopub.status.busy": "2022-01-05T17:28:04.081134Z",
     "iopub.status.idle": "2022-01-05T17:28:04.083435Z",
     "shell.execute_reply": "2022-01-05T17:28:04.083957Z"
    },
    "slideshow": {
     "slide_type": "fragment"
    }
   },
   "outputs": [],
   "source": [
    "def init_concolic_2():\n",
    "    for fname in INT_UNARY_OPS:\n",
    "        fun = getattr(int, fname)\n",
    "        zfun = getattr(z3.ArithRef, fname)\n",
    "        setattr(zint, fname, make_int_unary_wrapper(fname, fun, zfun))"
   ]
  },
  {
   "cell_type": "code",
   "execution_count": 84,
   "metadata": {
    "execution": {
     "iopub.execute_input": "2022-01-05T17:28:04.091142Z",
     "iopub.status.busy": "2022-01-05T17:28:04.089209Z",
     "iopub.status.idle": "2022-01-05T17:28:04.095108Z",
     "shell.execute_reply": "2022-01-05T17:28:04.096777Z"
    },
    "slideshow": {
     "slide_type": "fragment"
    }
   },
   "outputs": [],
   "source": [
    "INITIALIZER_LIST.append(init_concolic_2)"
   ]
  },
  {
   "cell_type": "code",
   "execution_count": 85,
   "metadata": {
    "execution": {
     "iopub.execute_input": "2022-01-05T17:28:04.102748Z",
     "iopub.status.busy": "2022-01-05T17:28:04.101986Z",
     "iopub.status.idle": "2022-01-05T17:28:04.104438Z",
     "shell.execute_reply": "2022-01-05T17:28:04.105433Z"
    },
    "slideshow": {
     "slide_type": "fragment"
    }
   },
   "outputs": [],
   "source": [
    "init_concolic_2()"
   ]
  },
  {
   "cell_type": "markdown",
   "metadata": {
    "slideshow": {
     "slide_type": "fragment"
    }
   },
   "source": [
    "We can use the unary operators we defined above as follows:"
   ]
  },
  {
   "cell_type": "code",
   "execution_count": 86,
   "metadata": {
    "execution": {
     "iopub.execute_input": "2022-01-05T17:28:04.116809Z",
     "iopub.status.busy": "2022-01-05T17:28:04.115685Z",
     "iopub.status.idle": "2022-01-05T17:28:04.120932Z",
     "shell.execute_reply": "2022-01-05T17:28:04.120475Z"
    },
    "slideshow": {
     "slide_type": "subslide"
    }
   },
   "outputs": [
    {
     "name": "stdout",
     "output_type": "stream",
     "text": [
      "-int_a\n",
      "int_a\n"
     ]
    }
   ],
   "source": [
    "with ConcolicTracer() as _:\n",
    "    ia = zint.create(_.context, 'int_a', 0)\n",
    "    print((-ia).z)\n",
    "    print((+ia).z)"
   ]
  },
  {
   "cell_type": "markdown",
   "metadata": {
    "slideshow": {
     "slide_type": "subslide"
    }
   },
   "source": [
    "##### Using an Integer in a Boolean Context\n",
    "\n",
    "An integer may be converted to a boolean context in conditionals or as part of boolean predicates such as `or`, `and` and `not`. In these cases, the `__bool__()` method gets called. Unfortunately, this method requires a primitive boolean value. Hence, we force the current integer formula to a boolean predicate and register it in the current context."
   ]
  },
  {
   "cell_type": "code",
   "execution_count": 87,
   "metadata": {
    "execution": {
     "iopub.execute_input": "2022-01-05T17:28:04.130279Z",
     "iopub.status.busy": "2022-01-05T17:28:04.128584Z",
     "iopub.status.idle": "2022-01-05T17:28:04.131936Z",
     "shell.execute_reply": "2022-01-05T17:28:04.132630Z"
    },
    "slideshow": {
     "slide_type": "fragment"
    }
   },
   "outputs": [],
   "source": [
    "class zint(zint):\n",
    "    def __bool__(self):\n",
    "        # return zbool(self.context, self.z, self.v) <-- not allowed\n",
    "        # force registering boolean condition\n",
    "        if self != 0:\n",
    "            return True\n",
    "        return False"
   ]
  },
  {
   "cell_type": "markdown",
   "metadata": {
    "slideshow": {
     "slide_type": "subslide"
    }
   },
   "source": [
    "It is used as follows"
   ]
  },
  {
   "cell_type": "code",
   "execution_count": 88,
   "metadata": {
    "execution": {
     "iopub.execute_input": "2022-01-05T17:28:04.138012Z",
     "iopub.status.busy": "2022-01-05T17:28:04.137169Z",
     "iopub.status.idle": "2022-01-05T17:28:04.141549Z",
     "shell.execute_reply": "2022-01-05T17:28:04.142595Z"
    },
    "slideshow": {
     "slide_type": "fragment"
    }
   },
   "outputs": [],
   "source": [
    "with ConcolicTracer() as _:\n",
    "    za = zint.create(_.context, 'int_a', 1)\n",
    "    zb = zint.create(_.context, 'int_b', 0)\n",
    "    if za and zb:\n",
    "        print(1)"
   ]
  },
  {
   "cell_type": "code",
   "execution_count": 89,
   "metadata": {
    "execution": {
     "iopub.execute_input": "2022-01-05T17:28:04.151779Z",
     "iopub.status.busy": "2022-01-05T17:28:04.150767Z",
     "iopub.status.idle": "2022-01-05T17:28:04.157608Z",
     "shell.execute_reply": "2022-01-05T17:28:04.159186Z"
    },
    "slideshow": {
     "slide_type": "fragment"
    }
   },
   "outputs": [
    {
     "data": {
      "text/plain": [
       "({'int_a': 'Int', 'int_b': 'Int'}, [0 != int_a, Not(0 != int_b)])"
      ]
     },
     "execution_count": 89,
     "metadata": {},
     "output_type": "execute_result"
    }
   ],
   "source": [
    "_.context"
   ]
  },
  {
   "cell_type": "markdown",
   "metadata": {
    "slideshow": {
     "slide_type": "subslide"
    },
    "toc-hr-collapsed": true
   },
   "source": [
    "#### Remaining Methods of the  ConcolicTracer\n",
    "\n",
    "We now complete some of the methods of the `ConcolicTracer`."
   ]
  },
  {
   "cell_type": "markdown",
   "metadata": {
    "slideshow": {
     "slide_type": "subslide"
    }
   },
   "source": [
    "##### Translating to the SMT Expression Format\n",
    "\n",
    "Given that we are using an SMT Solver z3, it is often useful to retrieve the corresponding SMT expression for a symbolic expression. This can be used as an argument to `z3` or other SMT solvers.\n",
    "\n",
    "The format of the SMT expression ([SMT-LIB](http://smtlib.github.io/jSMTLIB/SMTLIBTutorial.pdf)) is as follows:\n",
    "\n",
    "* Variables declarations in [S-EXP](https://en.wikipedia.org/wiki/S-expression) format.\n",
    "  E.g. The following declares a symbolic integer variable `x`\n",
    "```\n",
    "(declare-const x Int)\n",
    "```\n",
    " This declares a `bit vector` `b` of length `8`\n",
    "```\n",
    "(declare-const b (_ BitVec 8))\n",
    "```\n",
    " This declares a symbolic real variable `r`\n",
    "```\n",
    "(declare-const x Real)\n",
    "```\n",
    " This declares a symbolic string variable `s`\n",
    "```\n",
    "(declare-const s String)\n",
    "```\n",
    "\n",
    "The declared variables can be used in logical formulas that are encoded in *S-EXP* format. For example, here is a logical formula.\n",
    "\n",
    "```\n",
    "(assert\n",
    "    (and\n",
    "        (= a b)\n",
    "        (= a c)\n",
    "        (! b c)))\n",
    "```\n",
    "Here is another example, using string variables.\n",
    "\n",
    "```\n",
    "(or (< 0 (str.indexof (str.substr my_str1 7 19) \" where \" 0))\n",
    "    (= (str.indexof (str.substr my_str1 7 19) \" where \" 0) 0))\n",
    "```\n"
   ]
  },
  {
   "cell_type": "code",
   "execution_count": 90,
   "metadata": {
    "execution": {
     "iopub.execute_input": "2022-01-05T17:28:04.174001Z",
     "iopub.status.busy": "2022-01-05T17:28:04.172692Z",
     "iopub.status.idle": "2022-01-05T17:28:04.176745Z",
     "shell.execute_reply": "2022-01-05T17:28:04.179166Z"
    },
    "slideshow": {
     "slide_type": "subslide"
    }
   },
   "outputs": [],
   "source": [
    "class ConcolicTracer(ConcolicTracer):\n",
    "    def smt_expr(self, show_decl=False, simplify=False, path=[]):\n",
    "        r = []\n",
    "        if show_decl:\n",
    "            for decl in self.decls:\n",
    "                v = self.decls[decl]\n",
    "                v = '(_ BitVec 8)' if v == 'BitVec' else v\n",
    "                r.append(\"(declare-const %s %s)\" % (decl, v))\n",
    "        path = path if path else self.path\n",
    "        if path:\n",
    "            path = z3.And(path)\n",
    "            if show_decl:\n",
    "                if simplify:\n",
    "                    return '\\n'.join([\n",
    "                        *r,\n",
    "                        \"(assert %s)\" % z3.simplify(path).sexpr()\n",
    "                    ])\n",
    "                else:\n",
    "                    return '\\n'.join(\n",
    "                        [*r, \"(assert %s)\" % path.sexpr()])\n",
    "            else:\n",
    "                return z3.simplify(path).sexpr()\n",
    "        else:\n",
    "            return ''"
   ]
  },
  {
   "cell_type": "markdown",
   "metadata": {
    "slideshow": {
     "slide_type": "subslide"
    }
   },
   "source": [
    "To see how to use `smt_expr()`, let us consider an example. The `triangle()` function is used to determine if the given sides to a triangle result in an `equilateral` triangle, an `isosceles` triangle, or a `scalene` triangle. It is implemented as follows."
   ]
  },
  {
   "cell_type": "code",
   "execution_count": 91,
   "metadata": {
    "execution": {
     "iopub.execute_input": "2022-01-05T17:28:04.187169Z",
     "iopub.status.busy": "2022-01-05T17:28:04.186225Z",
     "iopub.status.idle": "2022-01-05T17:28:04.188792Z",
     "shell.execute_reply": "2022-01-05T17:28:04.190594Z"
    },
    "slideshow": {
     "slide_type": "subslide"
    }
   },
   "outputs": [],
   "source": [
    "def triangle(a, b, c):\n",
    "    if a == b:\n",
    "        if b == c:\n",
    "            return 'equilateral'\n",
    "        else:\n",
    "            return 'isosceles'\n",
    "    else:\n",
    "        if b == c:\n",
    "            return 'isosceles'\n",
    "        else:\n",
    "            if a == c:\n",
    "                return 'isosceles'\n",
    "            else:\n",
    "                return 'scalene'"
   ]
  },
  {
   "cell_type": "code",
   "execution_count": 92,
   "metadata": {
    "execution": {
     "iopub.execute_input": "2022-01-05T17:28:04.201844Z",
     "iopub.status.busy": "2022-01-05T17:28:04.200583Z",
     "iopub.status.idle": "2022-01-05T17:28:04.205791Z",
     "shell.execute_reply": "2022-01-05T17:28:04.206367Z"
    },
    "slideshow": {
     "slide_type": "subslide"
    }
   },
   "outputs": [
    {
     "data": {
      "text/plain": [
       "'isosceles'"
      ]
     },
     "execution_count": 92,
     "metadata": {},
     "output_type": "execute_result"
    }
   ],
   "source": [
    "triangle(1, 2, 1)"
   ]
  },
  {
   "cell_type": "markdown",
   "metadata": {
    "slideshow": {
     "slide_type": "fragment"
    }
   },
   "source": [
    "To translate make it run under `ConcolicTracer`, we first define the arguments. The triangle being defined has sides `1, 1, 1`. i.e. it is an `equilateral` triangle."
   ]
  },
  {
   "cell_type": "code",
   "execution_count": 93,
   "metadata": {
    "execution": {
     "iopub.execute_input": "2022-01-05T17:28:04.216663Z",
     "iopub.status.busy": "2022-01-05T17:28:04.214731Z",
     "iopub.status.idle": "2022-01-05T17:28:04.221951Z",
     "shell.execute_reply": "2022-01-05T17:28:04.221470Z"
    },
    "slideshow": {
     "slide_type": "fragment"
    }
   },
   "outputs": [
    {
     "name": "stdout",
     "output_type": "stream",
     "text": [
      "({'int_a': 'Int', 'int_b': 'Int', 'int_c': 'Int'}, [int_a == int_b, int_b == int_c])\n"
     ]
    }
   ],
   "source": [
    "with ConcolicTracer() as _:\n",
    "    za = zint.create(_.context, 'int_a', 1)\n",
    "    zb = zint.create(_.context, 'int_b', 1)\n",
    "    zc = zint.create(_.context, 'int_c', 1)\n",
    "    triangle(za, zb, zc)\n",
    "print(_.context)"
   ]
  },
  {
   "cell_type": "markdown",
   "metadata": {
    "slideshow": {
     "slide_type": "fragment"
    }
   },
   "source": [
    "We can now call `smt_expr()` to retrieve the SMT expression as below."
   ]
  },
  {
   "cell_type": "code",
   "execution_count": 94,
   "metadata": {
    "execution": {
     "iopub.execute_input": "2022-01-05T17:28:04.226517Z",
     "iopub.status.busy": "2022-01-05T17:28:04.225865Z",
     "iopub.status.idle": "2022-01-05T17:28:04.230487Z",
     "shell.execute_reply": "2022-01-05T17:28:04.232465Z"
    },
    "slideshow": {
     "slide_type": "subslide"
    }
   },
   "outputs": [
    {
     "name": "stdout",
     "output_type": "stream",
     "text": [
      "(declare-const int_a Int)\n",
      "(declare-const int_b Int)\n",
      "(declare-const int_c Int)\n",
      "(assert (and (= int_a int_b) (= int_b int_c)))\n"
     ]
    }
   ],
   "source": [
    "print(_.smt_expr(show_decl=True))"
   ]
  },
  {
   "cell_type": "markdown",
   "metadata": {
    "slideshow": {
     "slide_type": "fragment"
    }
   },
   "source": [
    "The collected predicates can also be solved directly using the Python z3 API."
   ]
  },
  {
   "cell_type": "code",
   "execution_count": 95,
   "metadata": {
    "execution": {
     "iopub.execute_input": "2022-01-05T17:28:04.238269Z",
     "iopub.status.busy": "2022-01-05T17:28:04.237410Z",
     "iopub.status.idle": "2022-01-05T17:28:04.267239Z",
     "shell.execute_reply": "2022-01-05T17:28:04.267631Z"
    },
    "slideshow": {
     "slide_type": "fragment"
    }
   },
   "outputs": [
    {
     "name": "stdout",
     "output_type": "stream",
     "text": [
      "[int_c = 0, int_a = 0, int_b = 0]\n"
     ]
    }
   ],
   "source": [
    "z3.solve(_.path)"
   ]
  },
  {
   "cell_type": "markdown",
   "metadata": {
    "slideshow": {
     "slide_type": "subslide"
    }
   },
   "source": [
    "##### Generating Fresh Names\n",
    "While using the proxy classes, we often will have to generate new symbolic variables, with names that have not been used before. For this, we define `fresh_name()` that always generates unique integers for names."
   ]
  },
  {
   "cell_type": "code",
   "execution_count": 96,
   "metadata": {
    "execution": {
     "iopub.execute_input": "2022-01-05T17:28:04.273747Z",
     "iopub.status.busy": "2022-01-05T17:28:04.272073Z",
     "iopub.status.idle": "2022-01-05T17:28:04.276325Z",
     "shell.execute_reply": "2022-01-05T17:28:04.277287Z"
    },
    "slideshow": {
     "slide_type": "fragment"
    }
   },
   "outputs": [],
   "source": [
    "COUNTER = 0"
   ]
  },
  {
   "cell_type": "code",
   "execution_count": 97,
   "metadata": {
    "execution": {
     "iopub.execute_input": "2022-01-05T17:28:04.282330Z",
     "iopub.status.busy": "2022-01-05T17:28:04.281554Z",
     "iopub.status.idle": "2022-01-05T17:28:04.283313Z",
     "shell.execute_reply": "2022-01-05T17:28:04.283796Z"
    },
    "slideshow": {
     "slide_type": "fragment"
    }
   },
   "outputs": [],
   "source": [
    "def fresh_name():\n",
    "    global COUNTER\n",
    "    COUNTER += 1\n",
    "    return COUNTER"
   ]
  },
  {
   "cell_type": "markdown",
   "metadata": {
    "slideshow": {
     "slide_type": "fragment"
    }
   },
   "source": [
    "It can be used as follows:"
   ]
  },
  {
   "cell_type": "code",
   "execution_count": 98,
   "metadata": {
    "execution": {
     "iopub.execute_input": "2022-01-05T17:28:04.288278Z",
     "iopub.status.busy": "2022-01-05T17:28:04.287560Z",
     "iopub.status.idle": "2022-01-05T17:28:04.294227Z",
     "shell.execute_reply": "2022-01-05T17:28:04.295137Z"
    },
    "slideshow": {
     "slide_type": "fragment"
    }
   },
   "outputs": [
    {
     "data": {
      "text/plain": [
       "1"
      ]
     },
     "execution_count": 98,
     "metadata": {},
     "output_type": "execute_result"
    }
   ],
   "source": [
    "fresh_name()"
   ]
  },
  {
   "cell_type": "code",
   "execution_count": 99,
   "metadata": {
    "execution": {
     "iopub.execute_input": "2022-01-05T17:28:04.300204Z",
     "iopub.status.busy": "2022-01-05T17:28:04.299227Z",
     "iopub.status.idle": "2022-01-05T17:28:04.301575Z",
     "shell.execute_reply": "2022-01-05T17:28:04.302493Z"
    },
    "slideshow": {
     "slide_type": "subslide"
    }
   },
   "outputs": [],
   "source": [
    "def reset_counter():\n",
    "    global COUNTER\n",
    "    COUNTER = 0"
   ]
  },
  {
   "cell_type": "code",
   "execution_count": 100,
   "metadata": {
    "execution": {
     "iopub.execute_input": "2022-01-05T17:28:04.311436Z",
     "iopub.status.busy": "2022-01-05T17:28:04.310647Z",
     "iopub.status.idle": "2022-01-05T17:28:04.312582Z",
     "shell.execute_reply": "2022-01-05T17:28:04.313001Z"
    },
    "slideshow": {
     "slide_type": "fragment"
    }
   },
   "outputs": [],
   "source": [
    "class ConcolicTracer(ConcolicTracer):\n",
    "    def __enter__(self):\n",
    "        reset_counter()\n",
    "        return self\n",
    "\n",
    "    def __exit__(self, exc_type, exc_value, tb):\n",
    "        return"
   ]
  },
  {
   "cell_type": "markdown",
   "metadata": {
    "slideshow": {
     "slide_type": "subslide"
    }
   },
   "source": [
    " ##### Translating Arguments to Concolic Proxies\n",
    " \n",
    "We had previously defined `concolic()` as a transparent function. We now provide the full implementation of this function. It inspects a given function's parameters, and infers the parameter types from the concrete arguments passed in. It then uses this information to instantiate the correct proxy classes for each argument."
   ]
  },
  {
   "cell_type": "code",
   "execution_count": 101,
   "metadata": {
    "execution": {
     "iopub.execute_input": "2022-01-05T17:28:04.319010Z",
     "iopub.status.busy": "2022-01-05T17:28:04.318142Z",
     "iopub.status.idle": "2022-01-05T17:28:04.324050Z",
     "shell.execute_reply": "2022-01-05T17:28:04.322249Z"
    },
    "slideshow": {
     "slide_type": "subslide"
    }
   },
   "outputs": [],
   "source": [
    "class ConcolicTracer(ConcolicTracer):\n",
    "    def concolic(self, args):\n",
    "        my_args = []\n",
    "        for name, arg in zip(self.fn_args, args):\n",
    "            t = type(arg).__name__\n",
    "            zwrap = globals()['z' + t]\n",
    "            vname = \"%s_%s_%s_%s\" % (self.fn.__name__, name, t, fresh_name())\n",
    "            my_args.append(zwrap.create(self.context, vname, arg))\n",
    "            self.fn_args[name] = vname\n",
    "        return my_args"
   ]
  },
  {
   "cell_type": "markdown",
   "metadata": {
    "slideshow": {
     "slide_type": "fragment"
    }
   },
   "source": [
    "This is how it gets used:"
   ]
  },
  {
   "cell_type": "code",
   "execution_count": 102,
   "metadata": {
    "execution": {
     "iopub.execute_input": "2022-01-05T17:28:04.329760Z",
     "iopub.status.busy": "2022-01-05T17:28:04.329167Z",
     "iopub.status.idle": "2022-01-05T17:28:04.333514Z",
     "shell.execute_reply": "2022-01-05T17:28:04.333922Z"
    },
    "slideshow": {
     "slide_type": "fragment"
    }
   },
   "outputs": [],
   "source": [
    "with ConcolicTracer() as _:\n",
    "    _[factorial](5)"
   ]
  },
  {
   "cell_type": "markdown",
   "metadata": {
    "slideshow": {
     "slide_type": "subslide"
    }
   },
   "source": [
    "With the new `concolic()` method, the arguments to the factorial are correctly associated with symbolic variables, which allows us to retrieve the predicates encountered."
   ]
  },
  {
   "cell_type": "code",
   "execution_count": 103,
   "metadata": {
    "execution": {
     "iopub.execute_input": "2022-01-05T17:28:04.342955Z",
     "iopub.status.busy": "2022-01-05T17:28:04.342209Z",
     "iopub.status.idle": "2022-01-05T17:28:04.377550Z",
     "shell.execute_reply": "2022-01-05T17:28:04.378015Z"
    },
    "slideshow": {
     "slide_type": "fragment"
    }
   },
   "outputs": [
    {
     "data": {
      "text/plain": [
       "({'factorial_n_int_1': 'Int'},\n",
       " [Not(0 > factorial_n_int_1),\n",
       "  Not(0 == factorial_n_int_1),\n",
       "  Not(1 == factorial_n_int_1),\n",
       "  0 != factorial_n_int_1,\n",
       "  0 != factorial_n_int_1 - 1,\n",
       "  0 != factorial_n_int_1 - 1 - 1,\n",
       "  0 != factorial_n_int_1 - 1 - 1 - 1,\n",
       "  0 != factorial_n_int_1 - 1 - 1 - 1 - 1,\n",
       "  Not(0 != factorial_n_int_1 - 1 - 1 - 1 - 1 - 1)])"
      ]
     },
     "execution_count": 103,
     "metadata": {},
     "output_type": "execute_result"
    }
   ],
   "source": [
    "_.context"
   ]
  },
  {
   "cell_type": "markdown",
   "metadata": {
    "slideshow": {
     "slide_type": "subslide"
    }
   },
   "source": [
    "As before, we can also print out the SMT expression which can be passed directly to command line SMT solvers."
   ]
  },
  {
   "cell_type": "code",
   "execution_count": 104,
   "metadata": {
    "execution": {
     "iopub.execute_input": "2022-01-05T17:28:04.383079Z",
     "iopub.status.busy": "2022-01-05T17:28:04.382481Z",
     "iopub.status.idle": "2022-01-05T17:28:04.385592Z",
     "shell.execute_reply": "2022-01-05T17:28:04.386001Z"
    },
    "slideshow": {
     "slide_type": "subslide"
    }
   },
   "outputs": [
    {
     "name": "stdout",
     "output_type": "stream",
     "text": [
      "(declare-const factorial_n_int_1 Int)\n",
      "(assert (let ((a!1 (distinct 0 (- (- (- factorial_n_int_1 1) 1) 1)))\n",
      "      (a!2 (- (- (- (- factorial_n_int_1 1) 1) 1) 1)))\n",
      "  (and (not (> 0 factorial_n_int_1))\n",
      "       (not (= 0 factorial_n_int_1))\n",
      "       (not (= 1 factorial_n_int_1))\n",
      "       (distinct 0 factorial_n_int_1)\n",
      "       (distinct 0 (- factorial_n_int_1 1))\n",
      "       (distinct 0 (- (- factorial_n_int_1 1) 1))\n",
      "       a!1\n",
      "       (distinct 0 a!2)\n",
      "       (not (distinct 0 (- a!2 1))))))\n"
     ]
    }
   ],
   "source": [
    "print(_.smt_expr(show_decl=True))"
   ]
  },
  {
   "cell_type": "markdown",
   "metadata": {
    "slideshow": {
     "slide_type": "subslide"
    }
   },
   "source": [
    "We next define methods to evaluate the SMT expression both in Python and from command line."
   ]
  },
  {
   "cell_type": "markdown",
   "metadata": {
    "slideshow": {
     "slide_type": "subslide"
    }
   },
   "source": [
    "##### Evaluating the Concolic Expressions\n",
    "\n",
    "We define `zeval()` to solve the predicates in a context, and return results. It has two modes. The `python` mode uses `z3` Python API to solve and return the results. If the `python` mode is false, it writes the SMT expression to a file, and invokes the command line `z3` for a solution."
   ]
  },
  {
   "cell_type": "code",
   "execution_count": 105,
   "metadata": {
    "execution": {
     "iopub.execute_input": "2022-01-05T17:28:04.398603Z",
     "iopub.status.busy": "2022-01-05T17:28:04.397696Z",
     "iopub.status.idle": "2022-01-05T17:28:04.399871Z",
     "shell.execute_reply": "2022-01-05T17:28:04.400365Z"
    },
    "slideshow": {
     "slide_type": "subslide"
    }
   },
   "outputs": [],
   "source": [
    "class ConcolicTracer(ConcolicTracer):\n",
    "    def zeval(self, predicates=None, *,python=False, log=False):\n",
    "        \"\"\"Evaluate `predicates` in current context.\n",
    "        - If `python` is set, use the z3 Python API; otherwise use z3 standalone.\n",
    "        - If `log` is set, show input to z3.\n",
    "        Return a pair (`result`, `solution`) where\n",
    "        - `result` is either `'sat'` (satisfiable); then \n",
    "           solution` is a mapping of variables to (value, type) pairs; or\n",
    "        - `result` is not `'sat'`, indicating an error; then `solution` is `None`\n",
    "        \"\"\"\n",
    "        if predicates is None:\n",
    "            path = self.path\n",
    "        else:\n",
    "            path = list(self.path)\n",
    "            for i in sorted(predicates):\n",
    "                if len(path) > i:\n",
    "                    path[i] = predicates[i]\n",
    "                else:\n",
    "                    path.append(predicates[i])\n",
    "        if log:\n",
    "            print('Predicates in path:')\n",
    "            for i,p in enumerate(path):\n",
    "                print(i, p)\n",
    "            print()\n",
    "\n",
    "        r, sol = (zeval_py if python else zeval_smt)(path, self, log)\n",
    "        if r == 'sat':\n",
    "            return r, {k: sol.get(self.fn_args[k], None) for k in self.fn_args}\n",
    "        else:\n",
    "            return r, None"
   ]
  },
  {
   "cell_type": "markdown",
   "metadata": {
    "slideshow": {
     "slide_type": "subslide"
    }
   },
   "source": [
    "##### Using the Python API\n",
    "\n",
    "Given a set of predicates that the function encountered, and the tracer under which the function was executed, the `zeval_py()` function first declares the relevant symbolic variables, and uses the `z3.Solver()`to provide a set of inputs that would trace the same path through the function."
   ]
  },
  {
   "cell_type": "code",
   "execution_count": 106,
   "metadata": {
    "execution": {
     "iopub.execute_input": "2022-01-05T17:28:04.409914Z",
     "iopub.status.busy": "2022-01-05T17:28:04.409170Z",
     "iopub.status.idle": "2022-01-05T17:28:04.412604Z",
     "shell.execute_reply": "2022-01-05T17:28:04.411867Z"
    },
    "slideshow": {
     "slide_type": "subslide"
    }
   },
   "outputs": [],
   "source": [
    "def zeval_py(path, cc, log):\n",
    "    for decl in cc.decls:\n",
    "        if cc.decls[decl] == 'BitVec':\n",
    "            v = \"z3.%s('%s', 8)\" % (cc.decls[decl], decl)\n",
    "        else:\n",
    "            v = \"z3.%s('%s')\" % (cc.decls[decl], decl)\n",
    "        exec(v)\n",
    "    s = z3.Solver()\n",
    "    s.add(z3.And(path))\n",
    "    if s.check() == z3.unsat:\n",
    "        return 'No Solutions', {}\n",
    "    elif s.check() == z3.unknown:\n",
    "        return 'Gave up', None\n",
    "    assert s.check() == z3.sat\n",
    "    m = s.model()\n",
    "    return 'sat', {d.name(): m[d] for d in m.decls()}"
   ]
  },
  {
   "cell_type": "markdown",
   "metadata": {
    "slideshow": {
     "slide_type": "subslide"
    }
   },
   "source": [
    "It can be used as follows:"
   ]
  },
  {
   "cell_type": "code",
   "execution_count": 107,
   "metadata": {
    "execution": {
     "iopub.execute_input": "2022-01-05T17:28:04.417073Z",
     "iopub.status.busy": "2022-01-05T17:28:04.416391Z",
     "iopub.status.idle": "2022-01-05T17:28:04.424168Z",
     "shell.execute_reply": "2022-01-05T17:28:04.425091Z"
    },
    "slideshow": {
     "slide_type": "fragment"
    }
   },
   "outputs": [],
   "source": [
    "with ConcolicTracer() as _:\n",
    "    _[factorial](5)"
   ]
  },
  {
   "cell_type": "code",
   "execution_count": 108,
   "metadata": {
    "execution": {
     "iopub.execute_input": "2022-01-05T17:28:04.431577Z",
     "iopub.status.busy": "2022-01-05T17:28:04.430579Z",
     "iopub.status.idle": "2022-01-05T17:28:04.498231Z",
     "shell.execute_reply": "2022-01-05T17:28:04.499304Z"
    },
    "slideshow": {
     "slide_type": "fragment"
    }
   },
   "outputs": [
    {
     "data": {
      "text/plain": [
       "('sat', {'n': 5})"
      ]
     },
     "execution_count": 108,
     "metadata": {},
     "output_type": "execute_result"
    }
   ],
   "source": [
    "_.zeval(python=True)"
   ]
  },
  {
   "cell_type": "markdown",
   "metadata": {
    "slideshow": {
     "slide_type": "fragment"
    }
   },
   "source": [
    "That is, given the set of constraints, the assignment `n == 5` conforms to all constraints."
   ]
  },
  {
   "cell_type": "markdown",
   "metadata": {
    "slideshow": {
     "slide_type": "subslide"
    }
   },
   "source": [
    "##### Using the Command Line\n",
    "\n",
    "The `zeval_smt()` function writes the SMT expression to the file system, and calls the `z3` SMT solver command line to solve it. The result of SMT expression is again an `sexpr`. Hence, we first define `parse_sexp()` to parse and return the correct values."
   ]
  },
  {
   "cell_type": "code",
   "execution_count": 109,
   "metadata": {
    "execution": {
     "iopub.execute_input": "2022-01-05T17:28:04.506742Z",
     "iopub.status.busy": "2022-01-05T17:28:04.505705Z",
     "iopub.status.idle": "2022-01-05T17:28:04.508492Z",
     "shell.execute_reply": "2022-01-05T17:28:04.509248Z"
    },
    "slideshow": {
     "slide_type": "skip"
    }
   },
   "outputs": [],
   "source": [
    "import re"
   ]
  },
  {
   "cell_type": "code",
   "execution_count": 110,
   "metadata": {
    "execution": {
     "iopub.execute_input": "2022-01-05T17:28:04.515713Z",
     "iopub.status.busy": "2022-01-05T17:28:04.514439Z",
     "iopub.status.idle": "2022-01-05T17:28:04.517713Z",
     "shell.execute_reply": "2022-01-05T17:28:04.516963Z"
    },
    "slideshow": {
     "slide_type": "skip"
    }
   },
   "outputs": [],
   "source": [
    "import subprocess"
   ]
  },
  {
   "cell_type": "code",
   "execution_count": 111,
   "metadata": {
    "execution": {
     "iopub.execute_input": "2022-01-05T17:28:04.528511Z",
     "iopub.status.busy": "2022-01-05T17:28:04.527455Z",
     "iopub.status.idle": "2022-01-05T17:28:04.530400Z",
     "shell.execute_reply": "2022-01-05T17:28:04.531186Z"
    },
    "slideshow": {
     "slide_type": "fragment"
    }
   },
   "outputs": [],
   "source": [
    "SEXPR_TOKEN = r'''(?mx)\n",
    "    \\s*(?:\n",
    "        (?P<bra>\\()|\n",
    "        (?P<ket>\\))|\n",
    "        (?P<token>[^\"()\\s]+)|\n",
    "        (?P<string>\"[^\"]*\")\n",
    "       )'''"
   ]
  },
  {
   "cell_type": "code",
   "execution_count": 112,
   "metadata": {
    "execution": {
     "iopub.execute_input": "2022-01-05T17:28:04.545377Z",
     "iopub.status.busy": "2022-01-05T17:28:04.543965Z",
     "iopub.status.idle": "2022-01-05T17:28:04.547394Z",
     "shell.execute_reply": "2022-01-05T17:28:04.548597Z"
    },
    "slideshow": {
     "slide_type": "subslide"
    }
   },
   "outputs": [],
   "source": [
    "def parse_sexp(sexp):\n",
    "    stack, res = [], []\n",
    "    for elements in re.finditer(SEXPR_TOKEN, sexp):\n",
    "        kind, value = [(t, v) for t, v in elements.groupdict().items() if v][0]\n",
    "        if kind == 'bra':\n",
    "            stack.append(res)\n",
    "            res = []\n",
    "        elif kind == 'ket':\n",
    "            last, res = res, stack.pop(-1)\n",
    "            res.append(last)\n",
    "        elif kind == 'token':\n",
    "            res.append(value)\n",
    "        elif kind == 'string':\n",
    "            res.append(value[1:-1])\n",
    "        else:\n",
    "            assert False\n",
    "    return res"
   ]
  },
  {
   "cell_type": "markdown",
   "metadata": {
    "slideshow": {
     "slide_type": "subslide"
    }
   },
   "source": [
    "The `parse_sexp()` function can be used as follows"
   ]
  },
  {
   "cell_type": "code",
   "execution_count": 113,
   "metadata": {
    "execution": {
     "iopub.execute_input": "2022-01-05T17:28:04.557201Z",
     "iopub.status.busy": "2022-01-05T17:28:04.555238Z",
     "iopub.status.idle": "2022-01-05T17:28:04.562624Z",
     "shell.execute_reply": "2022-01-05T17:28:04.563085Z"
    },
    "slideshow": {
     "slide_type": "fragment"
    }
   },
   "outputs": [
    {
     "data": {
      "text/plain": [
       "['abcd', ['hello', '123', ['world', 'hello world']]]"
      ]
     },
     "execution_count": 113,
     "metadata": {},
     "output_type": "execute_result"
    }
   ],
   "source": [
    "parse_sexp('abcd (hello 123 (world \"hello world\"))')"
   ]
  },
  {
   "cell_type": "markdown",
   "metadata": {
    "slideshow": {
     "slide_type": "fragment"
    }
   },
   "source": [
    "We now define `zeval_smt()` which uses the `z3` command line directly, and uses `parse_sexp()` to parse and return the solutions to function arguments if any."
   ]
  },
  {
   "cell_type": "code",
   "execution_count": 114,
   "metadata": {
    "execution": {
     "iopub.execute_input": "2022-01-05T17:28:04.567553Z",
     "iopub.status.busy": "2022-01-05T17:28:04.566777Z",
     "iopub.status.idle": "2022-01-05T17:28:04.569084Z",
     "shell.execute_reply": "2022-01-05T17:28:04.569764Z"
    },
    "slideshow": {
     "slide_type": "skip"
    }
   },
   "outputs": [],
   "source": [
    "import tempfile\n",
    "import os"
   ]
  },
  {
   "cell_type": "code",
   "execution_count": 115,
   "metadata": {
    "execution": {
     "iopub.execute_input": "2022-01-05T17:28:04.583647Z",
     "iopub.status.busy": "2022-01-05T17:28:04.582879Z",
     "iopub.status.idle": "2022-01-05T17:28:04.584687Z",
     "shell.execute_reply": "2022-01-05T17:28:04.585284Z"
    },
    "slideshow": {
     "slide_type": "subslide"
    }
   },
   "outputs": [],
   "source": [
    "def zeval_smt(path, cc, log):\n",
    "    s = cc.smt_expr(True, True, path)\n",
    "\n",
    "    with tempfile.NamedTemporaryFile(mode='w', suffix='.smt', delete=False) as f:\n",
    "        f.write(s)\n",
    "        f.write(\"\\n(check-sat)\")\n",
    "        f.write(\"\\n(get-model)\")\n",
    "        f.flush()\n",
    "\n",
    "        if log: \n",
    "            print(s, '(check-sat)', '(get-model)', sep='\\n')\n",
    "\n",
    "    output = subprocess.getoutput(\"z3 -t:60 \" + f.name)\n",
    "    \n",
    "    os.remove(f.name)\n",
    "\n",
    "    if log:\n",
    "        print(output)\n",
    "\n",
    "    o = parse_sexp(output)\n",
    "    if not o:\n",
    "        return 'Gave up', None\n",
    "\n",
    "    kind = o[0]\n",
    "    if kind == 'unknown':\n",
    "        return 'Gave up', None\n",
    "    elif kind == 'unsat':\n",
    "        return 'No Solutions', {}\n",
    "\n",
    "    assert kind == 'sat'\n",
    "    assert o[1][0] == 'model'\n",
    "    return 'sat', {i[1]: (i[-1], i[-2]) for i in o[1][1:]}"
   ]
  },
  {
   "cell_type": "markdown",
   "metadata": {
    "slideshow": {
     "slide_type": "subslide"
    }
   },
   "source": [
    "We can now use `zeval()` as follows."
   ]
  },
  {
   "cell_type": "code",
   "execution_count": 116,
   "metadata": {
    "execution": {
     "iopub.execute_input": "2022-01-05T17:28:04.595622Z",
     "iopub.status.busy": "2022-01-05T17:28:04.594355Z",
     "iopub.status.idle": "2022-01-05T17:28:04.601896Z",
     "shell.execute_reply": "2022-01-05T17:28:04.602822Z"
    },
    "slideshow": {
     "slide_type": "fragment"
    }
   },
   "outputs": [],
   "source": [
    "with ConcolicTracer() as _:\n",
    "    _[factorial](5)"
   ]
  },
  {
   "cell_type": "code",
   "execution_count": 117,
   "metadata": {
    "execution": {
     "iopub.execute_input": "2022-01-05T17:28:04.613820Z",
     "iopub.status.busy": "2022-01-05T17:28:04.611750Z",
     "iopub.status.idle": "2022-01-05T17:28:04.758773Z",
     "shell.execute_reply": "2022-01-05T17:28:04.759265Z"
    },
    "slideshow": {
     "slide_type": "subslide"
    }
   },
   "outputs": [
    {
     "name": "stdout",
     "output_type": "stream",
     "text": [
      "Predicates in path:\n",
      "0 Not(0 > factorial_n_int_1)\n",
      "1 Not(0 == factorial_n_int_1)\n",
      "2 Not(1 == factorial_n_int_1)\n",
      "3 0 != factorial_n_int_1\n",
      "4 0 != factorial_n_int_1 - 1\n",
      "5 0 != factorial_n_int_1 - 1 - 1\n",
      "6 0 != factorial_n_int_1 - 1 - 1 - 1\n",
      "7 0 != factorial_n_int_1 - 1 - 1 - 1 - 1\n",
      "8 Not(0 != factorial_n_int_1 - 1 - 1 - 1 - 1 - 1)\n",
      "\n",
      "(declare-const factorial_n_int_1 Int)\n",
      "(assert (and (<= 0 factorial_n_int_1)\n",
      "     (not (= 0 factorial_n_int_1))\n",
      "     (not (= 1 factorial_n_int_1))\n",
      "     (not (= 2 factorial_n_int_1))\n",
      "     (not (= 3 factorial_n_int_1))\n",
      "     (not (= 4 factorial_n_int_1))\n",
      "     (= 5 factorial_n_int_1)))\n",
      "(check-sat)\n",
      "(get-model)\n",
      "sat\n",
      "(model \n",
      "  (define-fun factorial_n_int_1 () Int\n",
      "    5)\n",
      ")\n"
     ]
    },
    {
     "data": {
      "text/plain": [
       "('sat', {'n': ('5', 'Int')})"
      ]
     },
     "execution_count": 117,
     "metadata": {},
     "output_type": "execute_result"
    }
   ],
   "source": [
    "_.zeval(log=True)"
   ]
  },
  {
   "cell_type": "markdown",
   "metadata": {
    "slideshow": {
     "slide_type": "subslide"
    }
   },
   "source": [
    "Indeed, we get similar results (`n == 5`)  from using the command line as from using the Python API."
   ]
  },
  {
   "cell_type": "markdown",
   "metadata": {
    "slideshow": {
     "slide_type": "subslide"
    },
    "toc-hr-collapsed": true
   },
   "source": [
    "#### A Proxy Class for Strings\n",
    "\n",
    "Here, we define the proxy string class `zstr`. First we define our initialization routines. Since `str` is a primitive type, we define `new` to extend it."
   ]
  },
  {
   "cell_type": "code",
   "execution_count": 118,
   "metadata": {
    "execution": {
     "iopub.execute_input": "2022-01-05T17:28:04.764104Z",
     "iopub.status.busy": "2022-01-05T17:28:04.763567Z",
     "iopub.status.idle": "2022-01-05T17:28:04.765498Z",
     "shell.execute_reply": "2022-01-05T17:28:04.765872Z"
    },
    "slideshow": {
     "slide_type": "fragment"
    }
   },
   "outputs": [],
   "source": [
    "class zstr(str):\n",
    "    def __new__(cls, context, zn, v):\n",
    "        return str.__new__(cls, v)"
   ]
  },
  {
   "cell_type": "markdown",
   "metadata": {
    "slideshow": {
     "slide_type": "fragment"
    }
   },
   "source": [
    "As before, initialization proceeds with `create()` and the constructor."
   ]
  },
  {
   "cell_type": "code",
   "execution_count": 119,
   "metadata": {
    "execution": {
     "iopub.execute_input": "2022-01-05T17:28:04.770376Z",
     "iopub.status.busy": "2022-01-05T17:28:04.769836Z",
     "iopub.status.idle": "2022-01-05T17:28:04.771512Z",
     "shell.execute_reply": "2022-01-05T17:28:04.771884Z"
    },
    "slideshow": {
     "slide_type": "subslide"
    }
   },
   "outputs": [],
   "source": [
    "class zstr(zstr):\n",
    "    @classmethod\n",
    "    def create(cls, context, zn, v=None):\n",
    "        return zproxy_create(cls, 'String', z3.String, context, zn, v)\n",
    "\n",
    "    def __init__(self, context, z, v=None):\n",
    "        self.context, self.z, self.v = context, z, v\n",
    "        self._len = zint(context, z3.Length(z), len(v))\n",
    "        #self.context[1].append(z3.Length(z) == z3.IntVal(len(v)))"
   ]
  },
  {
   "cell_type": "markdown",
   "metadata": {
    "slideshow": {
     "slide_type": "fragment"
    }
   },
   "source": [
    "We also define `_zv()` helper to help us with methods that accept another string"
   ]
  },
  {
   "cell_type": "code",
   "execution_count": 120,
   "metadata": {
    "execution": {
     "iopub.execute_input": "2022-01-05T17:28:04.775628Z",
     "iopub.status.busy": "2022-01-05T17:28:04.775117Z",
     "iopub.status.idle": "2022-01-05T17:28:04.776724Z",
     "shell.execute_reply": "2022-01-05T17:28:04.777101Z"
    },
    "slideshow": {
     "slide_type": "fragment"
    }
   },
   "outputs": [],
   "source": [
    "class zstr(zstr):\n",
    "    def _zv(self, o):\n",
    "        return (o.z, o.v) if isinstance(o, zstr) else (z3.StringVal(o), o)"
   ]
  },
  {
   "cell_type": "markdown",
   "metadata": {
    "slideshow": {
     "slide_type": "subslide"
    }
   },
   "source": [
    "##### Retrieving Ordinal Value\n",
    "We define `zord` that given a symbolic one character long string, obtains the `ord()` for that. It returns two values. The first one is the variable that corresponds to `ord()`, and second is the predicate that links the variable to the passed in single character string."
   ]
  },
  {
   "cell_type": "code",
   "execution_count": 121,
   "metadata": {
    "execution": {
     "iopub.execute_input": "2022-01-05T17:28:04.781392Z",
     "iopub.status.busy": "2022-01-05T17:28:04.780613Z",
     "iopub.status.idle": "2022-01-05T17:28:04.782747Z",
     "shell.execute_reply": "2022-01-05T17:28:04.783133Z"
    },
    "slideshow": {
     "slide_type": "fragment"
    }
   },
   "outputs": [],
   "source": [
    "def zord(context, c):\n",
    "    bn = \"bitvec_%d\" % fresh_name()\n",
    "    v = z3.BitVec(bn, 8)\n",
    "    context[0][bn] = 'BitVec'\n",
    "    z = (z3.Unit(v) == c)\n",
    "    context[1].append(z)\n",
    "    return v"
   ]
  },
  {
   "cell_type": "markdown",
   "metadata": {
    "slideshow": {
     "slide_type": "fragment"
    }
   },
   "source": [
    "We use it as follows"
   ]
  },
  {
   "cell_type": "code",
   "execution_count": 122,
   "metadata": {
    "execution": {
     "iopub.execute_input": "2022-01-05T17:28:04.790579Z",
     "iopub.status.busy": "2022-01-05T17:28:04.788617Z",
     "iopub.status.idle": "2022-01-05T17:28:04.794181Z",
     "shell.execute_reply": "2022-01-05T17:28:04.793695Z"
    },
    "slideshow": {
     "slide_type": "fragment"
    }
   },
   "outputs": [],
   "source": [
    "zc = z3.String('arg_%d' % fresh_name())"
   ]
  },
  {
   "cell_type": "code",
   "execution_count": 123,
   "metadata": {
    "execution": {
     "iopub.execute_input": "2022-01-05T17:28:04.799430Z",
     "iopub.status.busy": "2022-01-05T17:28:04.798603Z",
     "iopub.status.idle": "2022-01-05T17:28:04.802700Z",
     "shell.execute_reply": "2022-01-05T17:28:04.803386Z"
    },
    "slideshow": {
     "slide_type": "subslide"
    }
   },
   "outputs": [],
   "source": [
    "with ConcolicTracer() as _:\n",
    "    zi = zord(_.context, zc)"
   ]
  },
  {
   "cell_type": "markdown",
   "metadata": {
    "slideshow": {
     "slide_type": "fragment"
    }
   },
   "source": [
    "The symbolic bitvector is in `zi`. It is linked to the passed in argument in `context`"
   ]
  },
  {
   "cell_type": "code",
   "execution_count": 124,
   "metadata": {
    "execution": {
     "iopub.execute_input": "2022-01-05T17:28:04.811803Z",
     "iopub.status.busy": "2022-01-05T17:28:04.808754Z",
     "iopub.status.idle": "2022-01-05T17:28:04.815546Z",
     "shell.execute_reply": "2022-01-05T17:28:04.816143Z"
    },
    "slideshow": {
     "slide_type": "fragment"
    }
   },
   "outputs": [
    {
     "data": {
      "text/plain": [
       "({'bitvec_1': 'BitVec'}, [Unit(bitvec_1) == arg_2])"
      ]
     },
     "execution_count": 124,
     "metadata": {},
     "output_type": "execute_result"
    }
   ],
   "source": [
    "_.context"
   ]
  },
  {
   "cell_type": "markdown",
   "metadata": {
    "slideshow": {
     "slide_type": "fragment"
    }
   },
   "source": [
    "We can specify what the result of `ord()` should be, and call `z3.solve()` to provide us with a solution that will provide the required result."
   ]
  },
  {
   "cell_type": "code",
   "execution_count": 125,
   "metadata": {
    "execution": {
     "iopub.execute_input": "2022-01-05T17:28:04.820643Z",
     "iopub.status.busy": "2022-01-05T17:28:04.820123Z",
     "iopub.status.idle": "2022-01-05T17:28:04.848485Z",
     "shell.execute_reply": "2022-01-05T17:28:04.848879Z"
    },
    "slideshow": {
     "slide_type": "fragment"
    }
   },
   "outputs": [
    {
     "name": "stdout",
     "output_type": "stream",
     "text": [
      "[bitvec_1 = 65, arg_2 = \"A\"]\n"
     ]
    }
   ],
   "source": [
    "z3.solve(_.path + [zi == 65])"
   ]
  },
  {
   "cell_type": "markdown",
   "metadata": {
    "slideshow": {
     "slide_type": "subslide"
    }
   },
   "source": [
    "##### Translating an Ordinal Value to ASCII\n",
    "Similarly, we can convert the ASCII value back to a single character string using `zchr()`"
   ]
  },
  {
   "cell_type": "code",
   "execution_count": 126,
   "metadata": {
    "execution": {
     "iopub.execute_input": "2022-01-05T17:28:04.853626Z",
     "iopub.status.busy": "2022-01-05T17:28:04.853080Z",
     "iopub.status.idle": "2022-01-05T17:28:04.855177Z",
     "shell.execute_reply": "2022-01-05T17:28:04.855620Z"
    },
    "slideshow": {
     "slide_type": "fragment"
    }
   },
   "outputs": [],
   "source": [
    "def zchr(context, i):\n",
    "    sn = 'string_%d' % fresh_name()\n",
    "    s = z3.String(sn)\n",
    "    context[0][sn] = 'String'\n",
    "    z = z3.And([s == z3.Unit(i), z3.Length(s) == 1])\n",
    "    context[1].append(z)\n",
    "    return s"
   ]
  },
  {
   "cell_type": "markdown",
   "metadata": {
    "slideshow": {
     "slide_type": "fragment"
    }
   },
   "source": [
    "For using it, we first define a bitvector that is 8 bits long."
   ]
  },
  {
   "cell_type": "code",
   "execution_count": 127,
   "metadata": {
    "execution": {
     "iopub.execute_input": "2022-01-05T17:28:04.859474Z",
     "iopub.status.busy": "2022-01-05T17:28:04.858866Z",
     "iopub.status.idle": "2022-01-05T17:28:04.860791Z",
     "shell.execute_reply": "2022-01-05T17:28:04.861163Z"
    },
    "slideshow": {
     "slide_type": "fragment"
    }
   },
   "outputs": [],
   "source": [
    "i = z3.BitVec('bv_%d' % fresh_name(), 8)"
   ]
  },
  {
   "cell_type": "markdown",
   "metadata": {
    "slideshow": {
     "slide_type": "fragment"
    }
   },
   "source": [
    "We can now retrieve the `chr()` representation as below."
   ]
  },
  {
   "cell_type": "code",
   "execution_count": 128,
   "metadata": {
    "execution": {
     "iopub.execute_input": "2022-01-05T17:28:04.864559Z",
     "iopub.status.busy": "2022-01-05T17:28:04.863967Z",
     "iopub.status.idle": "2022-01-05T17:28:04.866233Z",
     "shell.execute_reply": "2022-01-05T17:28:04.866598Z"
    },
    "slideshow": {
     "slide_type": "fragment"
    }
   },
   "outputs": [],
   "source": [
    "with ConcolicTracer() as _:\n",
    "    zc = zchr(_.context, i)"
   ]
  },
  {
   "cell_type": "code",
   "execution_count": 129,
   "metadata": {
    "execution": {
     "iopub.execute_input": "2022-01-05T17:28:04.870244Z",
     "iopub.status.busy": "2022-01-05T17:28:04.869649Z",
     "iopub.status.idle": "2022-01-05T17:28:04.873315Z",
     "shell.execute_reply": "2022-01-05T17:28:04.873742Z"
    },
    "slideshow": {
     "slide_type": "subslide"
    }
   },
   "outputs": [
    {
     "data": {
      "text/plain": [
       "({'string_1': 'String'}, [And(string_1 == Unit(bv_2), Length(string_1) == 1)])"
      ]
     },
     "execution_count": 129,
     "metadata": {},
     "output_type": "execute_result"
    }
   ],
   "source": [
    "_.context"
   ]
  },
  {
   "cell_type": "markdown",
   "metadata": {
    "slideshow": {
     "slide_type": "fragment"
    }
   },
   "source": [
    "As before, we can specify what the end result of calling `chr()` should be to get the original argument."
   ]
  },
  {
   "cell_type": "code",
   "execution_count": 130,
   "metadata": {
    "execution": {
     "iopub.execute_input": "2022-01-05T17:28:04.877278Z",
     "iopub.status.busy": "2022-01-05T17:28:04.876758Z",
     "iopub.status.idle": "2022-01-05T17:28:04.895221Z",
     "shell.execute_reply": "2022-01-05T17:28:04.895611Z"
    },
    "slideshow": {
     "slide_type": "fragment"
    }
   },
   "outputs": [
    {
     "name": "stdout",
     "output_type": "stream",
     "text": [
      "[string_1 = \"a\", bv_2 = 97]\n"
     ]
    }
   ],
   "source": [
    "z3.solve(_.path + [zc == z3.StringVal('a')])"
   ]
  },
  {
   "cell_type": "markdown",
   "metadata": {
    "slideshow": {
     "slide_type": "subslide"
    }
   },
   "source": [
    "##### Equality between Strings\n",
    "\n",
    "The equality of `zstr` is defined similar to that of `zint`"
   ]
  },
  {
   "cell_type": "code",
   "execution_count": 131,
   "metadata": {
    "execution": {
     "iopub.execute_input": "2022-01-05T17:28:04.900237Z",
     "iopub.status.busy": "2022-01-05T17:28:04.899658Z",
     "iopub.status.idle": "2022-01-05T17:28:04.901320Z",
     "shell.execute_reply": "2022-01-05T17:28:04.901700Z"
    },
    "slideshow": {
     "slide_type": "fragment"
    }
   },
   "outputs": [],
   "source": [
    "class zstr(zstr):\n",
    "    def __eq__(self, other):\n",
    "        z, v = self._zv(other)\n",
    "        return zbool(self.context, self.z == z, self.v == v)\n",
    "\n",
    "    def __req__(self, other):\n",
    "        return self.__eq__(other)"
   ]
  },
  {
   "cell_type": "markdown",
   "metadata": {
    "slideshow": {
     "slide_type": "fragment"
    }
   },
   "source": [
    "The `zstr` class is used as follows."
   ]
  },
  {
   "cell_type": "code",
   "execution_count": 132,
   "metadata": {
    "execution": {
     "iopub.execute_input": "2022-01-05T17:28:04.905163Z",
     "iopub.status.busy": "2022-01-05T17:28:04.904597Z",
     "iopub.status.idle": "2022-01-05T17:28:04.906407Z",
     "shell.execute_reply": "2022-01-05T17:28:04.906861Z"
    },
    "slideshow": {
     "slide_type": "subslide"
    }
   },
   "outputs": [],
   "source": [
    "def tstr1(s):\n",
    "    if s == 'h':\n",
    "        return True\n",
    "    else:\n",
    "        return False"
   ]
  },
  {
   "cell_type": "code",
   "execution_count": 133,
   "metadata": {
    "execution": {
     "iopub.execute_input": "2022-01-05T17:28:04.910367Z",
     "iopub.status.busy": "2022-01-05T17:28:04.909800Z",
     "iopub.status.idle": "2022-01-05T17:28:04.911919Z",
     "shell.execute_reply": "2022-01-05T17:28:04.912387Z"
    },
    "slideshow": {
     "slide_type": "fragment"
    }
   },
   "outputs": [],
   "source": [
    "with ConcolicTracer() as _:\n",
    "    r = _[tstr1]('h')"
   ]
  },
  {
   "cell_type": "code",
   "execution_count": 134,
   "metadata": {
    "execution": {
     "iopub.execute_input": "2022-01-05T17:28:04.915511Z",
     "iopub.status.busy": "2022-01-05T17:28:04.914921Z",
     "iopub.status.idle": "2022-01-05T17:28:04.950506Z",
     "shell.execute_reply": "2022-01-05T17:28:04.951040Z"
    },
    "slideshow": {
     "slide_type": "fragment"
    }
   },
   "outputs": [
    {
     "data": {
      "text/plain": [
       "('sat', {'s': ('h', 'String')})"
      ]
     },
     "execution_count": 134,
     "metadata": {},
     "output_type": "execute_result"
    }
   ],
   "source": [
    "_.zeval()"
   ]
  },
  {
   "cell_type": "markdown",
   "metadata": {
    "slideshow": {
     "slide_type": "fragment"
    }
   },
   "source": [
    "It works even if we have more than one character."
   ]
  },
  {
   "cell_type": "code",
   "execution_count": 135,
   "metadata": {
    "execution": {
     "iopub.execute_input": "2022-01-05T17:28:04.955439Z",
     "iopub.status.busy": "2022-01-05T17:28:04.954911Z",
     "iopub.status.idle": "2022-01-05T17:28:04.956757Z",
     "shell.execute_reply": "2022-01-05T17:28:04.957128Z"
    },
    "slideshow": {
     "slide_type": "fragment"
    }
   },
   "outputs": [],
   "source": [
    "def tstr1(s):  # type: ignore\n",
    "    if s == 'hello world':\n",
    "        return True\n",
    "    else:\n",
    "        return False"
   ]
  },
  {
   "cell_type": "code",
   "execution_count": 136,
   "metadata": {
    "execution": {
     "iopub.execute_input": "2022-01-05T17:28:04.961014Z",
     "iopub.status.busy": "2022-01-05T17:28:04.960441Z",
     "iopub.status.idle": "2022-01-05T17:28:04.962532Z",
     "shell.execute_reply": "2022-01-05T17:28:04.962963Z"
    },
    "slideshow": {
     "slide_type": "subslide"
    }
   },
   "outputs": [],
   "source": [
    "with ConcolicTracer() as _:\n",
    "    r = _[tstr1]('hello world')"
   ]
  },
  {
   "cell_type": "code",
   "execution_count": 137,
   "metadata": {
    "execution": {
     "iopub.execute_input": "2022-01-05T17:28:04.966920Z",
     "iopub.status.busy": "2022-01-05T17:28:04.966347Z",
     "iopub.status.idle": "2022-01-05T17:28:04.969290Z",
     "shell.execute_reply": "2022-01-05T17:28:04.969655Z"
    },
    "slideshow": {
     "slide_type": "fragment"
    }
   },
   "outputs": [
    {
     "data": {
      "text/plain": [
       "({'tstr1_s_str_1': 'String'}, [tstr1_s_str_1 == \"hello world\"])"
      ]
     },
     "execution_count": 137,
     "metadata": {},
     "output_type": "execute_result"
    }
   ],
   "source": [
    "_.context"
   ]
  },
  {
   "cell_type": "code",
   "execution_count": 138,
   "metadata": {
    "execution": {
     "iopub.execute_input": "2022-01-05T17:28:04.972574Z",
     "iopub.status.busy": "2022-01-05T17:28:04.972061Z",
     "iopub.status.idle": "2022-01-05T17:28:05.006148Z",
     "shell.execute_reply": "2022-01-05T17:28:05.007037Z"
    },
    "slideshow": {
     "slide_type": "fragment"
    }
   },
   "outputs": [
    {
     "data": {
      "text/plain": [
       "('sat', {'s': ('hello world', 'String')})"
      ]
     },
     "execution_count": 138,
     "metadata": {},
     "output_type": "execute_result"
    }
   ],
   "source": [
    "_.zeval()"
   ]
  },
  {
   "cell_type": "markdown",
   "metadata": {
    "slideshow": {
     "slide_type": "subslide"
    }
   },
   "source": [
    "##### Concatenation of Strings\n",
    "What if we need to concatenate two strings? We need additional helpers to accomplish that."
   ]
  },
  {
   "cell_type": "code",
   "execution_count": 139,
   "metadata": {
    "execution": {
     "iopub.execute_input": "2022-01-05T17:28:05.013310Z",
     "iopub.status.busy": "2022-01-05T17:28:05.012503Z",
     "iopub.status.idle": "2022-01-05T17:28:05.014905Z",
     "shell.execute_reply": "2022-01-05T17:28:05.015282Z"
    },
    "slideshow": {
     "slide_type": "fragment"
    }
   },
   "outputs": [],
   "source": [
    "class zstr(zstr):\n",
    "    def __add__(self, other):\n",
    "        z, v = self._zv(other)\n",
    "        return zstr(self.context, self.z + z, self.v + v)\n",
    "\n",
    "    def __radd__(self, other):\n",
    "        return self.__add__(other)"
   ]
  },
  {
   "cell_type": "markdown",
   "metadata": {
    "slideshow": {
     "slide_type": "fragment"
    }
   },
   "source": [
    "Here is how it can be used. First, we create the wrapped arguments"
   ]
  },
  {
   "cell_type": "code",
   "execution_count": 140,
   "metadata": {
    "execution": {
     "iopub.execute_input": "2022-01-05T17:28:05.022269Z",
     "iopub.status.busy": "2022-01-05T17:28:05.020504Z",
     "iopub.status.idle": "2022-01-05T17:28:05.025646Z",
     "shell.execute_reply": "2022-01-05T17:28:05.026097Z"
    },
    "slideshow": {
     "slide_type": "subslide"
    }
   },
   "outputs": [
    {
     "name": "stdout",
     "output_type": "stream",
     "text": [
      "hello world\n"
     ]
    }
   ],
   "source": [
    "with ConcolicTracer() as _:\n",
    "    v1, v2 = [zstr.create(_.context, 'arg_%d' % fresh_name(), s)\n",
    "              for s in ['hello', 'world']]\n",
    "    if (v1 + ' ' + v2) == 'hello world':\n",
    "        print('hello world')"
   ]
  },
  {
   "cell_type": "markdown",
   "metadata": {
    "slideshow": {
     "slide_type": "fragment"
    }
   },
   "source": [
    "The addition of symbolic variables is preserved in `context`"
   ]
  },
  {
   "cell_type": "code",
   "execution_count": 141,
   "metadata": {
    "execution": {
     "iopub.execute_input": "2022-01-05T17:28:05.030375Z",
     "iopub.status.busy": "2022-01-05T17:28:05.029853Z",
     "iopub.status.idle": "2022-01-05T17:28:05.034192Z",
     "shell.execute_reply": "2022-01-05T17:28:05.033833Z"
    },
    "slideshow": {
     "slide_type": "fragment"
    }
   },
   "outputs": [
    {
     "data": {
      "text/plain": [
       "({'arg_1': 'String', 'arg_2': 'String'},\n",
       " [Concat(Concat(arg_1, \" \"), arg_2) == \"hello world\"])"
      ]
     },
     "execution_count": 141,
     "metadata": {},
     "output_type": "execute_result"
    }
   ],
   "source": [
    "_.context"
   ]
  },
  {
   "cell_type": "markdown",
   "metadata": {
    "slideshow": {
     "slide_type": "subslide"
    }
   },
   "source": [
    "##### Producing Substrings\n",
    "Similarly, accessing substrings also require extra help."
   ]
  },
  {
   "cell_type": "code",
   "execution_count": 142,
   "metadata": {
    "execution": {
     "iopub.execute_input": "2022-01-05T17:28:05.040431Z",
     "iopub.status.busy": "2022-01-05T17:28:05.039822Z",
     "iopub.status.idle": "2022-01-05T17:28:05.041490Z",
     "shell.execute_reply": "2022-01-05T17:28:05.041862Z"
    },
    "slideshow": {
     "slide_type": "subslide"
    }
   },
   "outputs": [],
   "source": [
    "class zstr(zstr):\n",
    "    def __getitem__(self, idx):\n",
    "        if isinstance(idx, slice):\n",
    "            start, stop, step = idx.indices(len(self.v))\n",
    "            assert step == 1  # for now\n",
    "            assert stop >= start  # for now\n",
    "            rz = z3.SubString(self.z, start, stop - start)\n",
    "            rv = self.v[idx]\n",
    "        elif isinstance(idx, int):\n",
    "            rz = z3.SubString(self.z, idx, 1)\n",
    "            rv = self.v[idx]\n",
    "        else:\n",
    "            assert False  # for now\n",
    "        return zstr(self.context, rz, rv)\n",
    "\n",
    "    def __iter__(self):\n",
    "        return zstr_iterator(self.context, self)"
   ]
  },
  {
   "cell_type": "markdown",
   "metadata": {
    "slideshow": {
     "slide_type": "subslide"
    }
   },
   "source": [
    "##### An Iterator Class for Strings\n",
    "\n",
    "We define the iterator as follows."
   ]
  },
  {
   "cell_type": "code",
   "execution_count": 143,
   "metadata": {
    "execution": {
     "iopub.execute_input": "2022-01-05T17:28:05.048796Z",
     "iopub.status.busy": "2022-01-05T17:28:05.048148Z",
     "iopub.status.idle": "2022-01-05T17:28:05.050005Z",
     "shell.execute_reply": "2022-01-05T17:28:05.050501Z"
    },
    "slideshow": {
     "slide_type": "subslide"
    }
   },
   "outputs": [],
   "source": [
    "class zstr_iterator():\n",
    "    def __init__(self, context, zstr):\n",
    "        self.context = context\n",
    "        self._zstr = zstr\n",
    "        self._str_idx = 0\n",
    "        self._str_max = zstr._len  # intz is not an _int_\n",
    "\n",
    "    def __next__(self):\n",
    "        if self._str_idx == self._str_max:  # intz#eq\n",
    "            raise StopIteration\n",
    "        c = self._zstr[self._str_idx]\n",
    "        self._str_idx += 1\n",
    "        return c\n",
    "\n",
    "    def __len__(self):\n",
    "        return self._len"
   ]
  },
  {
   "cell_type": "markdown",
   "metadata": {
    "slideshow": {
     "slide_type": "subslide"
    }
   },
   "source": [
    "Here is how it can be used."
   ]
  },
  {
   "cell_type": "code",
   "execution_count": 144,
   "metadata": {
    "execution": {
     "iopub.execute_input": "2022-01-05T17:28:05.055335Z",
     "iopub.status.busy": "2022-01-05T17:28:05.054052Z",
     "iopub.status.idle": "2022-01-05T17:28:05.058296Z",
     "shell.execute_reply": "2022-01-05T17:28:05.059572Z"
    },
    "slideshow": {
     "slide_type": "fragment"
    }
   },
   "outputs": [],
   "source": [
    "def tstr2(s):\n",
    "    if s[0] == 'h' and s[1] == 'e' and s[3] == 'l':\n",
    "        return True\n",
    "    else:\n",
    "        return False"
   ]
  },
  {
   "cell_type": "code",
   "execution_count": 145,
   "metadata": {
    "execution": {
     "iopub.execute_input": "2022-01-05T17:28:05.065588Z",
     "iopub.status.busy": "2022-01-05T17:28:05.064891Z",
     "iopub.status.idle": "2022-01-05T17:28:05.067212Z",
     "shell.execute_reply": "2022-01-05T17:28:05.067796Z"
    },
    "slideshow": {
     "slide_type": "fragment"
    }
   },
   "outputs": [],
   "source": [
    "with ConcolicTracer() as _:\n",
    "    r = _[tstr2]('hello')"
   ]
  },
  {
   "cell_type": "markdown",
   "metadata": {
    "slideshow": {
     "slide_type": "fragment"
    }
   },
   "source": [
    "Again, the context shows predicates encountered."
   ]
  },
  {
   "cell_type": "code",
   "execution_count": 146,
   "metadata": {
    "execution": {
     "iopub.execute_input": "2022-01-05T17:28:05.071412Z",
     "iopub.status.busy": "2022-01-05T17:28:05.070685Z",
     "iopub.status.idle": "2022-01-05T17:28:05.075144Z",
     "shell.execute_reply": "2022-01-05T17:28:05.075506Z"
    },
    "slideshow": {
     "slide_type": "fragment"
    }
   },
   "outputs": [
    {
     "data": {
      "text/plain": [
       "({'tstr2_s_str_1': 'String'},\n",
       " [str.substr(tstr2_s_str_1, 0, 1) == \"h\",\n",
       "  str.substr(tstr2_s_str_1, 1, 1) == \"e\",\n",
       "  str.substr(tstr2_s_str_1, 3, 1) == \"l\"])"
      ]
     },
     "execution_count": 146,
     "metadata": {},
     "output_type": "execute_result"
    }
   ],
   "source": [
    "_.context"
   ]
  },
  {
   "cell_type": "markdown",
   "metadata": {
    "slideshow": {
     "slide_type": "subslide"
    }
   },
   "source": [
    "The function `zeval()` returns a solution for the predicate. Note that the value returned is not exactly the argument that we passed in. This is a consequence of the predicates we have. That is, we have no constraints on what the character value on `s[2]` should be."
   ]
  },
  {
   "cell_type": "code",
   "execution_count": 147,
   "metadata": {
    "execution": {
     "iopub.execute_input": "2022-01-05T17:28:05.078669Z",
     "iopub.status.busy": "2022-01-05T17:28:05.078143Z",
     "iopub.status.idle": "2022-01-05T17:28:05.134546Z",
     "shell.execute_reply": "2022-01-05T17:28:05.135009Z"
    },
    "slideshow": {
     "slide_type": "fragment"
    }
   },
   "outputs": [
    {
     "data": {
      "text/plain": [
       "('sat', {'s': ('he\\\\x00l\\\\x00', 'String')})"
      ]
     },
     "execution_count": 147,
     "metadata": {},
     "output_type": "execute_result"
    }
   ],
   "source": [
    "_.zeval()"
   ]
  },
  {
   "cell_type": "markdown",
   "metadata": {
    "slideshow": {
     "slide_type": "subslide"
    }
   },
   "source": [
    "##### Translating to Upper and Lower Equivalents\n",
    "\n",
    "A major complication is supporting `upper()` and `lower()` methods. We use the previously defined `zchr()` and `zord()` functions to accomplish this."
   ]
  },
  {
   "cell_type": "code",
   "execution_count": 148,
   "metadata": {
    "execution": {
     "iopub.execute_input": "2022-01-05T17:28:05.148641Z",
     "iopub.status.busy": "2022-01-05T17:28:05.147745Z",
     "iopub.status.idle": "2022-01-05T17:28:05.150141Z",
     "shell.execute_reply": "2022-01-05T17:28:05.150564Z"
    },
    "slideshow": {
     "slide_type": "subslide"
    }
   },
   "outputs": [],
   "source": [
    "class zstr(zstr):\n",
    "    def upper(self):\n",
    "        empty = ''\n",
    "        ne = 'empty_%d' % fresh_name()\n",
    "        result = zstr.create(self.context, ne, empty)\n",
    "        self.context[1].append(z3.StringVal(empty) == result.z)\n",
    "        cdiff = (ord('a') - ord('A'))\n",
    "        for i in self:\n",
    "            oz = zord(self.context, i.z)\n",
    "            uz = zchr(self.context, oz - cdiff)\n",
    "            rz = z3.And([oz >= ord('a'), oz <= ord('z')])\n",
    "            ov = ord(i.v)\n",
    "            uv = chr(ov - cdiff)\n",
    "            rv = ov >= ord('a') and ov <= ord('z')\n",
    "            if zbool(self.context, rz, rv):\n",
    "                i = zstr(self.context, uz, uv)\n",
    "            else:\n",
    "                i = zstr(self.context, i.z, i.v)\n",
    "            result += i\n",
    "        return result"
   ]
  },
  {
   "cell_type": "markdown",
   "metadata": {
    "slideshow": {
     "slide_type": "subslide"
    }
   },
   "source": [
    "The `lower()` function is similar to `upper()` except that the character ranges are switched, and the lowercase is above uppercase. Hence, we add the difference to the ordinal to make a character to lowercase."
   ]
  },
  {
   "cell_type": "code",
   "execution_count": 149,
   "metadata": {
    "execution": {
     "iopub.execute_input": "2022-01-05T17:28:05.158804Z",
     "iopub.status.busy": "2022-01-05T17:28:05.158265Z",
     "iopub.status.idle": "2022-01-05T17:28:05.160317Z",
     "shell.execute_reply": "2022-01-05T17:28:05.160755Z"
    },
    "slideshow": {
     "slide_type": "subslide"
    }
   },
   "outputs": [],
   "source": [
    "class zstr(zstr):\n",
    "    def lower(self):\n",
    "        empty = ''\n",
    "        ne = 'empty_%d' % fresh_name()\n",
    "        result = zstr.create(self.context, ne, empty)\n",
    "        self.context[1].append(z3.StringVal(empty) == result.z)\n",
    "        cdiff = (ord('a') - ord('A'))\n",
    "        for i in self:\n",
    "            oz = zord(self.context, i.z)\n",
    "            uz = zchr(self.context, oz + cdiff)\n",
    "            rz = z3.And([oz >= ord('A'), oz <= ord('Z')])\n",
    "            ov = ord(i.v)\n",
    "            uv = chr(ov + cdiff)\n",
    "            rv = ov >= ord('A') and ov <= ord('Z')\n",
    "            if zbool(self.context, rz, rv):\n",
    "                i = zstr(self.context, uz, uv)\n",
    "            else:\n",
    "                i = zstr(self.context, i.z, i.v)\n",
    "            result += i\n",
    "        return result"
   ]
  },
  {
   "cell_type": "markdown",
   "metadata": {
    "slideshow": {
     "slide_type": "subslide"
    }
   },
   "source": [
    "Here is how it is used."
   ]
  },
  {
   "cell_type": "code",
   "execution_count": 150,
   "metadata": {
    "execution": {
     "iopub.execute_input": "2022-01-05T17:28:05.164538Z",
     "iopub.status.busy": "2022-01-05T17:28:05.163923Z",
     "iopub.status.idle": "2022-01-05T17:28:05.165513Z",
     "shell.execute_reply": "2022-01-05T17:28:05.166090Z"
    },
    "slideshow": {
     "slide_type": "fragment"
    }
   },
   "outputs": [],
   "source": [
    "def tstr3(s):\n",
    "    if s.upper() == 'H':\n",
    "        return True\n",
    "    else:\n",
    "        return False"
   ]
  },
  {
   "cell_type": "code",
   "execution_count": 151,
   "metadata": {
    "execution": {
     "iopub.execute_input": "2022-01-05T17:28:05.171973Z",
     "iopub.status.busy": "2022-01-05T17:28:05.170409Z",
     "iopub.status.idle": "2022-01-05T17:28:05.178140Z",
     "shell.execute_reply": "2022-01-05T17:28:05.178739Z"
    },
    "slideshow": {
     "slide_type": "fragment"
    }
   },
   "outputs": [],
   "source": [
    "with ConcolicTracer() as _:\n",
    "    r = _[tstr3]('h')"
   ]
  },
  {
   "cell_type": "markdown",
   "metadata": {
    "slideshow": {
     "slide_type": "fragment"
    }
   },
   "source": [
    "Again, we use `zeval()` to solve the collected constraints, and verify that our constraints are correct. "
   ]
  },
  {
   "cell_type": "code",
   "execution_count": 152,
   "metadata": {
    "execution": {
     "iopub.execute_input": "2022-01-05T17:28:05.182947Z",
     "iopub.status.busy": "2022-01-05T17:28:05.182255Z",
     "iopub.status.idle": "2022-01-05T17:28:05.234475Z",
     "shell.execute_reply": "2022-01-05T17:28:05.235102Z"
    },
    "slideshow": {
     "slide_type": "fragment"
    }
   },
   "outputs": [
    {
     "data": {
      "text/plain": [
       "('sat', {'s': ('h', 'String')})"
      ]
     },
     "execution_count": 152,
     "metadata": {},
     "output_type": "execute_result"
    }
   ],
   "source": [
    "_.zeval()"
   ]
  },
  {
   "cell_type": "markdown",
   "metadata": {
    "slideshow": {
     "slide_type": "fragment"
    }
   },
   "source": [
    "Here is a larger example using `upper()`"
   ]
  },
  {
   "cell_type": "code",
   "execution_count": 153,
   "metadata": {
    "execution": {
     "iopub.execute_input": "2022-01-05T17:28:05.244790Z",
     "iopub.status.busy": "2022-01-05T17:28:05.243818Z",
     "iopub.status.idle": "2022-01-05T17:28:05.246155Z",
     "shell.execute_reply": "2022-01-05T17:28:05.246591Z"
    },
    "slideshow": {
     "slide_type": "subslide"
    }
   },
   "outputs": [],
   "source": [
    "def tstr4(s):\n",
    "    if s.lower() == 'hello world':\n",
    "        return True\n",
    "    else:\n",
    "        return False"
   ]
  },
  {
   "cell_type": "code",
   "execution_count": 154,
   "metadata": {
    "execution": {
     "iopub.execute_input": "2022-01-05T17:28:05.251278Z",
     "iopub.status.busy": "2022-01-05T17:28:05.250541Z",
     "iopub.status.idle": "2022-01-05T17:28:05.269872Z",
     "shell.execute_reply": "2022-01-05T17:28:05.271092Z"
    },
    "slideshow": {
     "slide_type": "fragment"
    }
   },
   "outputs": [],
   "source": [
    "with ConcolicTracer() as _:\n",
    "    r = _[tstr4]('Hello World')"
   ]
  },
  {
   "cell_type": "code",
   "execution_count": 155,
   "metadata": {
    "execution": {
     "iopub.execute_input": "2022-01-05T17:28:05.278503Z",
     "iopub.status.busy": "2022-01-05T17:28:05.277757Z",
     "iopub.status.idle": "2022-01-05T17:28:05.407405Z",
     "shell.execute_reply": "2022-01-05T17:28:05.408659Z"
    },
    "slideshow": {
     "slide_type": "fragment"
    }
   },
   "outputs": [
    {
     "data": {
      "text/plain": [
       "('Gave up', None)"
      ]
     },
     "execution_count": 155,
     "metadata": {},
     "output_type": "execute_result"
    }
   ],
   "source": [
    "_.zeval()"
   ]
  },
  {
   "cell_type": "markdown",
   "metadata": {
    "slideshow": {
     "slide_type": "fragment"
    }
   },
   "source": [
    "Again, we obtain the right input value."
   ]
  },
  {
   "cell_type": "markdown",
   "metadata": {
    "slideshow": {
     "slide_type": "subslide"
    }
   },
   "source": [
    "##### Checking for String Prefixes\n",
    "We define `startswith()`."
   ]
  },
  {
   "cell_type": "code",
   "execution_count": 156,
   "metadata": {
    "execution": {
     "iopub.execute_input": "2022-01-05T17:28:05.419871Z",
     "iopub.status.busy": "2022-01-05T17:28:05.418992Z",
     "iopub.status.idle": "2022-01-05T17:28:05.421330Z",
     "shell.execute_reply": "2022-01-05T17:28:05.421764Z"
    },
    "slideshow": {
     "slide_type": "subslide"
    }
   },
   "outputs": [],
   "source": [
    "class zstr(zstr):\n",
    "    def startswith(self, other, beg=0, end=None):\n",
    "        assert end is None  # for now\n",
    "        assert isinstance(beg, int)  # for now\n",
    "        zb = z3.IntVal(beg)\n",
    "\n",
    "        others = other if isinstance(other, tuple) else (other, )\n",
    "\n",
    "        last = False\n",
    "        for o in others:\n",
    "            z, v = self._zv(o)\n",
    "            r = z3.IndexOf(self.z, z, zb)\n",
    "            last = zbool(self.context, r == zb, self.v.startswith(v))\n",
    "            if last:\n",
    "                return last\n",
    "        return last"
   ]
  },
  {
   "cell_type": "markdown",
   "metadata": {
    "slideshow": {
     "slide_type": "subslide"
    }
   },
   "source": [
    "An example."
   ]
  },
  {
   "cell_type": "code",
   "execution_count": 157,
   "metadata": {
    "execution": {
     "iopub.execute_input": "2022-01-05T17:28:05.426450Z",
     "iopub.status.busy": "2022-01-05T17:28:05.425821Z",
     "iopub.status.idle": "2022-01-05T17:28:05.428400Z",
     "shell.execute_reply": "2022-01-05T17:28:05.428872Z"
    },
    "slideshow": {
     "slide_type": "fragment"
    }
   },
   "outputs": [],
   "source": [
    "def tstr5(s):\n",
    "    if s.startswith('hello'):\n",
    "        return True\n",
    "    else:\n",
    "        return False"
   ]
  },
  {
   "cell_type": "code",
   "execution_count": 158,
   "metadata": {
    "execution": {
     "iopub.execute_input": "2022-01-05T17:28:05.432898Z",
     "iopub.status.busy": "2022-01-05T17:28:05.432329Z",
     "iopub.status.idle": "2022-01-05T17:28:05.435237Z",
     "shell.execute_reply": "2022-01-05T17:28:05.435761Z"
    },
    "slideshow": {
     "slide_type": "fragment"
    }
   },
   "outputs": [],
   "source": [
    "with ConcolicTracer() as _:\n",
    "    r = _[tstr5]('hello world')"
   ]
  },
  {
   "cell_type": "code",
   "execution_count": 159,
   "metadata": {
    "execution": {
     "iopub.execute_input": "2022-01-05T17:28:05.443440Z",
     "iopub.status.busy": "2022-01-05T17:28:05.442178Z",
     "iopub.status.idle": "2022-01-05T17:28:05.484404Z",
     "shell.execute_reply": "2022-01-05T17:28:05.483994Z"
    },
    "slideshow": {
     "slide_type": "fragment"
    }
   },
   "outputs": [
    {
     "data": {
      "text/plain": [
       "('sat', {'s': ('hello', 'String')})"
      ]
     },
     "execution_count": 159,
     "metadata": {},
     "output_type": "execute_result"
    }
   ],
   "source": [
    "_.zeval()"
   ]
  },
  {
   "cell_type": "code",
   "execution_count": 160,
   "metadata": {
    "execution": {
     "iopub.execute_input": "2022-01-05T17:28:05.488826Z",
     "iopub.status.busy": "2022-01-05T17:28:05.488286Z",
     "iopub.status.idle": "2022-01-05T17:28:05.490715Z",
     "shell.execute_reply": "2022-01-05T17:28:05.491106Z"
    },
    "slideshow": {
     "slide_type": "fragment"
    }
   },
   "outputs": [],
   "source": [
    "with ConcolicTracer() as _:\n",
    "    r = _[tstr5]('my world')"
   ]
  },
  {
   "cell_type": "code",
   "execution_count": 161,
   "metadata": {
    "execution": {
     "iopub.execute_input": "2022-01-05T17:28:05.494528Z",
     "iopub.status.busy": "2022-01-05T17:28:05.493988Z",
     "iopub.status.idle": "2022-01-05T17:28:05.535610Z",
     "shell.execute_reply": "2022-01-05T17:28:05.536827Z"
    },
    "slideshow": {
     "slide_type": "fragment"
    }
   },
   "outputs": [
    {
     "data": {
      "text/plain": [
       "('sat', {'s': ('', 'String')})"
      ]
     },
     "execution_count": 161,
     "metadata": {},
     "output_type": "execute_result"
    }
   ],
   "source": [
    "_.zeval()"
   ]
  },
  {
   "cell_type": "markdown",
   "metadata": {
    "slideshow": {
     "slide_type": "subslide"
    }
   },
   "source": [
    "As before, the predicates only ensure that the `startswith()` returned a true value. Hence, our solution reflects that."
   ]
  },
  {
   "cell_type": "markdown",
   "metadata": {
    "slideshow": {
     "slide_type": "subslide"
    }
   },
   "source": [
    "##### Finding Substrings\n",
    "We also define `find()`"
   ]
  },
  {
   "cell_type": "code",
   "execution_count": 162,
   "metadata": {
    "execution": {
     "iopub.execute_input": "2022-01-05T17:28:05.542472Z",
     "iopub.status.busy": "2022-01-05T17:28:05.541953Z",
     "iopub.status.idle": "2022-01-05T17:28:05.543797Z",
     "shell.execute_reply": "2022-01-05T17:28:05.544240Z"
    },
    "slideshow": {
     "slide_type": "fragment"
    }
   },
   "outputs": [],
   "source": [
    "class zstr(zstr):\n",
    "    def find(self, other, beg=0, end=None):\n",
    "        assert end is None  # for now\n",
    "        assert isinstance(beg, int)  # for now\n",
    "        zb = z3.IntVal(beg)\n",
    "        z, v = self._zv(other)\n",
    "        zi = z3.IndexOf(self.z, z, zb)\n",
    "        vi = self.v.find(v, beg, end)\n",
    "        return zint(self.context, zi, vi)"
   ]
  },
  {
   "cell_type": "markdown",
   "metadata": {
    "slideshow": {
     "slide_type": "fragment"
    }
   },
   "source": [
    "An example."
   ]
  },
  {
   "cell_type": "code",
   "execution_count": 163,
   "metadata": {
    "execution": {
     "iopub.execute_input": "2022-01-05T17:28:05.549512Z",
     "iopub.status.busy": "2022-01-05T17:28:05.548759Z",
     "iopub.status.idle": "2022-01-05T17:28:05.550954Z",
     "shell.execute_reply": "2022-01-05T17:28:05.550498Z"
    },
    "slideshow": {
     "slide_type": "subslide"
    }
   },
   "outputs": [],
   "source": [
    "def tstr6(s):\n",
    "    if s.find('world') != -1:\n",
    "        return True\n",
    "    else:\n",
    "        return False"
   ]
  },
  {
   "cell_type": "code",
   "execution_count": 164,
   "metadata": {
    "execution": {
     "iopub.execute_input": "2022-01-05T17:28:05.555584Z",
     "iopub.status.busy": "2022-01-05T17:28:05.554887Z",
     "iopub.status.idle": "2022-01-05T17:28:05.558204Z",
     "shell.execute_reply": "2022-01-05T17:28:05.557709Z"
    },
    "slideshow": {
     "slide_type": "fragment"
    }
   },
   "outputs": [],
   "source": [
    "with ConcolicTracer() as _:\n",
    "    r = _[tstr6]('hello world')"
   ]
  },
  {
   "cell_type": "code",
   "execution_count": 165,
   "metadata": {
    "execution": {
     "iopub.execute_input": "2022-01-05T17:28:05.561740Z",
     "iopub.status.busy": "2022-01-05T17:28:05.561216Z",
     "iopub.status.idle": "2022-01-05T17:28:05.600695Z",
     "shell.execute_reply": "2022-01-05T17:28:05.600288Z"
    },
    "slideshow": {
     "slide_type": "fragment"
    }
   },
   "outputs": [
    {
     "data": {
      "text/plain": [
       "('sat', {'s': ('world', 'String')})"
      ]
     },
     "execution_count": 165,
     "metadata": {},
     "output_type": "execute_result"
    }
   ],
   "source": [
    "_.zeval()"
   ]
  },
  {
   "cell_type": "markdown",
   "metadata": {
    "slideshow": {
     "slide_type": "fragment"
    }
   },
   "source": [
    "As before, the predicates only ensure that the `find()` returned a value greater than -1. Hence, our solution reflects that."
   ]
  },
  {
   "cell_type": "markdown",
   "metadata": {
    "slideshow": {
     "slide_type": "subslide"
    }
   },
   "source": [
    "##### Remove Space from Ends"
   ]
  },
  {
   "cell_type": "markdown",
   "metadata": {
    "slideshow": {
     "slide_type": "fragment"
    }
   },
   "source": [
    "We next implement `strip()`."
   ]
  },
  {
   "cell_type": "code",
   "execution_count": 166,
   "metadata": {
    "execution": {
     "iopub.execute_input": "2022-01-05T17:28:05.605971Z",
     "iopub.status.busy": "2022-01-05T17:28:05.605424Z",
     "iopub.status.idle": "2022-01-05T17:28:05.607663Z",
     "shell.execute_reply": "2022-01-05T17:28:05.607267Z"
    },
    "slideshow": {
     "slide_type": "skip"
    }
   },
   "outputs": [],
   "source": [
    "import string"
   ]
  },
  {
   "cell_type": "code",
   "execution_count": 167,
   "metadata": {
    "execution": {
     "iopub.execute_input": "2022-01-05T17:28:05.613978Z",
     "iopub.status.busy": "2022-01-05T17:28:05.613463Z",
     "iopub.status.idle": "2022-01-05T17:28:05.615209Z",
     "shell.execute_reply": "2022-01-05T17:28:05.615743Z"
    },
    "slideshow": {
     "slide_type": "subslide"
    }
   },
   "outputs": [],
   "source": [
    "class zstr(zstr):\n",
    "    def rstrip(self, chars=None):\n",
    "        if chars is None:\n",
    "            chars = string.whitespace\n",
    "        if self._len == 0:\n",
    "            return self\n",
    "        else:\n",
    "            last_idx = self._len - 1\n",
    "            cz = z3.SubString(self.z, last_idx.z, 1)\n",
    "            cv = self.v[-1]\n",
    "            zcheck_space = z3.Or([cz == z3.StringVal(char) for char in chars])\n",
    "            vcheck_space = any(cv == char for char in chars)\n",
    "            if zbool(self.context, zcheck_space, vcheck_space):\n",
    "                return zstr(self.context, z3.SubString(self.z, 0, last_idx.z),\n",
    "                            self.v[0:-1]).rstrip(chars)\n",
    "            else:\n",
    "                return self"
   ]
  },
  {
   "cell_type": "code",
   "execution_count": 168,
   "metadata": {
    "execution": {
     "iopub.execute_input": "2022-01-05T17:28:05.619464Z",
     "iopub.status.busy": "2022-01-05T17:28:05.618879Z",
     "iopub.status.idle": "2022-01-05T17:28:05.620602Z",
     "shell.execute_reply": "2022-01-05T17:28:05.621000Z"
    },
    "slideshow": {
     "slide_type": "subslide"
    }
   },
   "outputs": [],
   "source": [
    "def tstr7(s):\n",
    "    if s.rstrip(' ') == 'a b':\n",
    "        return True\n",
    "    else:\n",
    "        return False"
   ]
  },
  {
   "cell_type": "code",
   "execution_count": 169,
   "metadata": {
    "execution": {
     "iopub.execute_input": "2022-01-05T17:28:05.624608Z",
     "iopub.status.busy": "2022-01-05T17:28:05.624097Z",
     "iopub.status.idle": "2022-01-05T17:28:05.628295Z",
     "shell.execute_reply": "2022-01-05T17:28:05.628732Z"
    },
    "slideshow": {
     "slide_type": "fragment"
    }
   },
   "outputs": [
    {
     "name": "stdout",
     "output_type": "stream",
     "text": [
      "True\n"
     ]
    }
   ],
   "source": [
    "with ConcolicTracer() as _:\n",
    "    r = _[tstr7]('a b   ')\n",
    "    print(r)"
   ]
  },
  {
   "cell_type": "code",
   "execution_count": 170,
   "metadata": {
    "execution": {
     "iopub.execute_input": "2022-01-05T17:28:05.631785Z",
     "iopub.status.busy": "2022-01-05T17:28:05.631272Z",
     "iopub.status.idle": "2022-01-05T17:28:05.673278Z",
     "shell.execute_reply": "2022-01-05T17:28:05.673751Z"
    },
    "slideshow": {
     "slide_type": "fragment"
    }
   },
   "outputs": [
    {
     "data": {
      "text/plain": [
       "('sat', {'s': ('a b   ', 'String')})"
      ]
     },
     "execution_count": 170,
     "metadata": {},
     "output_type": "execute_result"
    }
   ],
   "source": [
    "_.zeval()"
   ]
  },
  {
   "cell_type": "code",
   "execution_count": 171,
   "metadata": {
    "execution": {
     "iopub.execute_input": "2022-01-05T17:28:05.680518Z",
     "iopub.status.busy": "2022-01-05T17:28:05.679567Z",
     "iopub.status.idle": "2022-01-05T17:28:05.681321Z",
     "shell.execute_reply": "2022-01-05T17:28:05.681690Z"
    },
    "slideshow": {
     "slide_type": "subslide"
    }
   },
   "outputs": [],
   "source": [
    "class zstr(zstr):\n",
    "    def lstrip(self, chars=None):\n",
    "        if chars is None:\n",
    "            chars = string.whitespace\n",
    "        if self._len == 0:\n",
    "            return self\n",
    "        else:\n",
    "            first_idx = 0\n",
    "            cz = z3.SubString(self.z, 0, 1)\n",
    "            cv = self.v[0]\n",
    "            zcheck_space = z3.Or([cz == z3.StringVal(char) for char in chars])\n",
    "            vcheck_space = any(cv == char for char in chars)\n",
    "            if zbool(self.context, zcheck_space, vcheck_space):\n",
    "                return zstr(self.context, z3.SubString(\n",
    "                    self.z, 1, self._len.z), self.v[1:]).lstrip(chars)\n",
    "            else:\n",
    "                return self"
   ]
  },
  {
   "cell_type": "code",
   "execution_count": 172,
   "metadata": {
    "execution": {
     "iopub.execute_input": "2022-01-05T17:28:05.685170Z",
     "iopub.status.busy": "2022-01-05T17:28:05.684596Z",
     "iopub.status.idle": "2022-01-05T17:28:05.686408Z",
     "shell.execute_reply": "2022-01-05T17:28:05.687008Z"
    },
    "slideshow": {
     "slide_type": "subslide"
    }
   },
   "outputs": [],
   "source": [
    "def tstr8(s):\n",
    "    if s.lstrip(' ') == 'a b':\n",
    "        return True\n",
    "    else:\n",
    "        return False"
   ]
  },
  {
   "cell_type": "code",
   "execution_count": 173,
   "metadata": {
    "execution": {
     "iopub.execute_input": "2022-01-05T17:28:05.690314Z",
     "iopub.status.busy": "2022-01-05T17:28:05.689803Z",
     "iopub.status.idle": "2022-01-05T17:28:05.694865Z",
     "shell.execute_reply": "2022-01-05T17:28:05.694263Z"
    },
    "slideshow": {
     "slide_type": "fragment"
    }
   },
   "outputs": [
    {
     "name": "stdout",
     "output_type": "stream",
     "text": [
      "True\n"
     ]
    }
   ],
   "source": [
    "with ConcolicTracer() as _:\n",
    "    r = _[tstr8]('   a b')\n",
    "    print(r)"
   ]
  },
  {
   "cell_type": "code",
   "execution_count": 174,
   "metadata": {
    "execution": {
     "iopub.execute_input": "2022-01-05T17:28:05.698904Z",
     "iopub.status.busy": "2022-01-05T17:28:05.698058Z",
     "iopub.status.idle": "2022-01-05T17:28:05.742409Z",
     "shell.execute_reply": "2022-01-05T17:28:05.742858Z"
    },
    "slideshow": {
     "slide_type": "fragment"
    }
   },
   "outputs": [
    {
     "data": {
      "text/plain": [
       "('sat', {'s': ('   a b', 'String')})"
      ]
     },
     "execution_count": 174,
     "metadata": {},
     "output_type": "execute_result"
    }
   ],
   "source": [
    "_.zeval()"
   ]
  },
  {
   "cell_type": "code",
   "execution_count": 175,
   "metadata": {
    "execution": {
     "iopub.execute_input": "2022-01-05T17:28:05.747386Z",
     "iopub.status.busy": "2022-01-05T17:28:05.746851Z",
     "iopub.status.idle": "2022-01-05T17:28:05.748710Z",
     "shell.execute_reply": "2022-01-05T17:28:05.749074Z"
    },
    "slideshow": {
     "slide_type": "fragment"
    }
   },
   "outputs": [],
   "source": [
    "class zstr(zstr):\n",
    "    def strip(self, chars=None):\n",
    "        return self.lstrip(chars).rstrip(chars)"
   ]
  },
  {
   "cell_type": "markdown",
   "metadata": {
    "slideshow": {
     "slide_type": "subslide"
    }
   },
   "source": [
    "Example usage."
   ]
  },
  {
   "cell_type": "code",
   "execution_count": 176,
   "metadata": {
    "execution": {
     "iopub.execute_input": "2022-01-05T17:28:05.753243Z",
     "iopub.status.busy": "2022-01-05T17:28:05.752557Z",
     "iopub.status.idle": "2022-01-05T17:28:05.756926Z",
     "shell.execute_reply": "2022-01-05T17:28:05.758403Z"
    },
    "slideshow": {
     "slide_type": "fragment"
    }
   },
   "outputs": [],
   "source": [
    "def tstr9(s):\n",
    "    if s.strip() == 'a b':\n",
    "        return True\n",
    "    else:\n",
    "        return False"
   ]
  },
  {
   "cell_type": "code",
   "execution_count": 177,
   "metadata": {
    "execution": {
     "iopub.execute_input": "2022-01-05T17:28:05.764543Z",
     "iopub.status.busy": "2022-01-05T17:28:05.763801Z",
     "iopub.status.idle": "2022-01-05T17:28:05.777779Z",
     "shell.execute_reply": "2022-01-05T17:28:05.778238Z"
    },
    "slideshow": {
     "slide_type": "fragment"
    }
   },
   "outputs": [
    {
     "name": "stdout",
     "output_type": "stream",
     "text": [
      "True\n"
     ]
    }
   ],
   "source": [
    "with ConcolicTracer() as _:\n",
    "    r = _[tstr9]('    a b  ')\n",
    "    print(r)"
   ]
  },
  {
   "cell_type": "code",
   "execution_count": 178,
   "metadata": {
    "execution": {
     "iopub.execute_input": "2022-01-05T17:28:05.781654Z",
     "iopub.status.busy": "2022-01-05T17:28:05.781142Z",
     "iopub.status.idle": "2022-01-05T17:28:05.856344Z",
     "shell.execute_reply": "2022-01-05T17:28:05.857182Z"
    },
    "slideshow": {
     "slide_type": "fragment"
    }
   },
   "outputs": [
    {
     "data": {
      "text/plain": [
       "('sat', {'s': ('\\\\f\\\\n \\\\ra b\\\\n\\\\f', 'String')})"
      ]
     },
     "execution_count": 178,
     "metadata": {},
     "output_type": "execute_result"
    }
   ],
   "source": [
    "_.zeval()"
   ]
  },
  {
   "cell_type": "markdown",
   "metadata": {
    "slideshow": {
     "slide_type": "fragment"
    }
   },
   "source": [
    "The `strip()` has generated the right constraints. "
   ]
  },
  {
   "cell_type": "markdown",
   "metadata": {
    "slideshow": {
     "slide_type": "subslide"
    }
   },
   "source": [
    "##### Splitting Strings\n",
    "\n",
    "We implement string `split()` as follows."
   ]
  },
  {
   "cell_type": "code",
   "execution_count": 179,
   "metadata": {
    "execution": {
     "iopub.execute_input": "2022-01-05T17:28:05.865616Z",
     "iopub.status.busy": "2022-01-05T17:28:05.864890Z",
     "iopub.status.idle": "2022-01-05T17:28:05.866963Z",
     "shell.execute_reply": "2022-01-05T17:28:05.867348Z"
    },
    "slideshow": {
     "slide_type": "subslide"
    }
   },
   "outputs": [],
   "source": [
    "class zstr(zstr):\n",
    "    def split(self, sep=None, maxsplit=-1):\n",
    "        assert sep is not None  # default space based split is complicated\n",
    "        assert maxsplit == -1  # for now.\n",
    "        zsep = z3.StringVal(sep)\n",
    "        zl = z3.Length(zsep)\n",
    "        # zi would be the length of prefix\n",
    "        zi = z3.IndexOf(self.z, zsep, z3.IntVal(0))\n",
    "        # Z3Bug: There is a bug in the `z3.IndexOf` method which returns\n",
    "        # `z3.SeqRef` instead of `z3.ArithRef`. So we need to fix it.\n",
    "        zi = z3.ArithRef(zi.ast, zi.ctx)\n",
    "\n",
    "        vi = self.v.find(sep)\n",
    "        if zbool(self.context, zi >= z3.IntVal(0), vi >= 0):\n",
    "            zprefix = z3.SubString(self.z, z3.IntVal(0), zi)\n",
    "            zmid = z3.SubString(self.z, zi, zl)\n",
    "            zsuffix = z3.SubString(self.z, zi + zl,\n",
    "                                   z3.Length(self.z))\n",
    "            return [zstr(self.context, zprefix, self.v[0:vi])] + zstr(\n",
    "                self.context, zsuffix, self.v[vi + len(sep):]).split(\n",
    "                    sep, maxsplit)\n",
    "        else:\n",
    "            return [self]"
   ]
  },
  {
   "cell_type": "code",
   "execution_count": 180,
   "metadata": {
    "execution": {
     "iopub.execute_input": "2022-01-05T17:28:05.874600Z",
     "iopub.status.busy": "2022-01-05T17:28:05.872450Z",
     "iopub.status.idle": "2022-01-05T17:28:05.877425Z",
     "shell.execute_reply": "2022-01-05T17:28:05.878084Z"
    },
    "slideshow": {
     "slide_type": "subslide"
    }
   },
   "outputs": [],
   "source": [
    "def tstr10(s):\n",
    "    if s.split(',') == ['a', 'b', 'c']:\n",
    "        return True\n",
    "    else:\n",
    "        return False"
   ]
  },
  {
   "cell_type": "code",
   "execution_count": 181,
   "metadata": {
    "execution": {
     "iopub.execute_input": "2022-01-05T17:28:05.883228Z",
     "iopub.status.busy": "2022-01-05T17:28:05.882655Z",
     "iopub.status.idle": "2022-01-05T17:28:05.886460Z",
     "shell.execute_reply": "2022-01-05T17:28:05.886892Z"
    },
    "slideshow": {
     "slide_type": "fragment"
    }
   },
   "outputs": [
    {
     "name": "stdout",
     "output_type": "stream",
     "text": [
      "True\n"
     ]
    }
   ],
   "source": [
    "with ConcolicTracer() as _:\n",
    "    r = _[tstr10]('a,b,c')\n",
    "    print(r)"
   ]
  },
  {
   "cell_type": "code",
   "execution_count": 182,
   "metadata": {
    "execution": {
     "iopub.execute_input": "2022-01-05T17:28:05.894192Z",
     "iopub.status.busy": "2022-01-05T17:28:05.893124Z",
     "iopub.status.idle": "2022-01-05T17:28:05.968525Z",
     "shell.execute_reply": "2022-01-05T17:28:05.969010Z"
    },
    "slideshow": {
     "slide_type": "fragment"
    }
   },
   "outputs": [
    {
     "data": {
      "text/plain": [
       "('sat', {'s': ('a,b,c', 'String')})"
      ]
     },
     "execution_count": 182,
     "metadata": {},
     "output_type": "execute_result"
    }
   ],
   "source": [
    "_.zeval()"
   ]
  },
  {
   "cell_type": "markdown",
   "metadata": {
    "slideshow": {
     "slide_type": "subslide"
    }
   },
   "source": [
    "##### Trip Wire\n",
    "\n",
    "For easier debugging, we abort any calls to methods in `str` that are not overridden by `zstr`."
   ]
  },
  {
   "cell_type": "code",
   "execution_count": 183,
   "metadata": {
    "execution": {
     "iopub.execute_input": "2022-01-05T17:28:05.974345Z",
     "iopub.status.busy": "2022-01-05T17:28:05.973546Z",
     "iopub.status.idle": "2022-01-05T17:28:05.976631Z",
     "shell.execute_reply": "2022-01-05T17:28:05.977154Z"
    },
    "slideshow": {
     "slide_type": "fragment"
    }
   },
   "outputs": [],
   "source": [
    "def make_str_abort_wrapper(fun):\n",
    "    def proxy(*args, **kwargs):\n",
    "        raise Exception('%s Not implemented in `zstr`' % fun.__name__)\n",
    "    return proxy"
   ]
  },
  {
   "cell_type": "code",
   "execution_count": 184,
   "metadata": {
    "execution": {
     "iopub.execute_input": "2022-01-05T17:28:05.984522Z",
     "iopub.status.busy": "2022-01-05T17:28:05.983966Z",
     "iopub.status.idle": "2022-01-05T17:28:05.985734Z",
     "shell.execute_reply": "2022-01-05T17:28:05.986289Z"
    },
    "slideshow": {
     "slide_type": "subslide"
    }
   },
   "outputs": [],
   "source": [
    "def init_concolic_3():\n",
    "    strmembers = inspect.getmembers(zstr, callable)\n",
    "    zstrmembers = {m[0] for m in strmembers if len(\n",
    "        m) == 2 and 'zstr' in m[1].__qualname__}\n",
    "    for name, fn in inspect.getmembers(str, callable):\n",
    "        # Omitted 'splitlines' as this is needed for formatting output in\n",
    "        # IPython/Jupyter\n",
    "        if name not in zstrmembers and name not in [\n",
    "            'splitlines',\n",
    "            '__class__',\n",
    "            '__contains__',\n",
    "            '__delattr__',\n",
    "            '__dir__',\n",
    "            '__format__',\n",
    "            '__ge__',\n",
    "            '__getattribute__',\n",
    "            '__getnewargs__',\n",
    "            '__gt__',\n",
    "            '__hash__',\n",
    "            '__le__',\n",
    "            '__len__',\n",
    "            '__lt__',\n",
    "            '__mod__',\n",
    "            '__mul__',\n",
    "            '__ne__',\n",
    "            '__reduce__',\n",
    "            '__reduce_ex__',\n",
    "            '__repr__',\n",
    "            '__rmod__',\n",
    "            '__rmul__',\n",
    "            '__setattr__',\n",
    "            '__sizeof__',\n",
    "                '__str__']:\n",
    "            setattr(zstr, name, make_str_abort_wrapper(fn))"
   ]
  },
  {
   "cell_type": "code",
   "execution_count": 185,
   "metadata": {
    "execution": {
     "iopub.execute_input": "2022-01-05T17:28:05.993673Z",
     "iopub.status.busy": "2022-01-05T17:28:05.991006Z",
     "iopub.status.idle": "2022-01-05T17:28:05.995345Z",
     "shell.execute_reply": "2022-01-05T17:28:05.996454Z"
    },
    "slideshow": {
     "slide_type": "subslide"
    }
   },
   "outputs": [],
   "source": [
    "INITIALIZER_LIST.append(init_concolic_3)"
   ]
  },
  {
   "cell_type": "code",
   "execution_count": 186,
   "metadata": {
    "execution": {
     "iopub.execute_input": "2022-01-05T17:28:06.004838Z",
     "iopub.status.busy": "2022-01-05T17:28:06.003042Z",
     "iopub.status.idle": "2022-01-05T17:28:06.006601Z",
     "shell.execute_reply": "2022-01-05T17:28:06.007375Z"
    },
    "slideshow": {
     "slide_type": "fragment"
    },
    "tags": []
   },
   "outputs": [],
   "source": [
    "init_concolic_3()"
   ]
  },
  {
   "cell_type": "markdown",
   "metadata": {
    "slideshow": {
     "slide_type": "subslide"
    }
   },
   "source": [
    "### End of Excursion"
   ]
  },
  {
   "cell_type": "markdown",
   "metadata": {
    "slideshow": {
     "slide_type": "subslide"
    }
   },
   "source": [
    "### Example: Triangle\n",
    "\n",
    "We previously showed how to run `triangle()` under `ConcolicTracer`."
   ]
  },
  {
   "cell_type": "code",
   "execution_count": 187,
   "metadata": {
    "execution": {
     "iopub.execute_input": "2022-01-05T17:28:06.017528Z",
     "iopub.status.busy": "2022-01-05T17:28:06.015778Z",
     "iopub.status.idle": "2022-01-05T17:28:06.022365Z",
     "shell.execute_reply": "2022-01-05T17:28:06.023274Z"
    },
    "slideshow": {
     "slide_type": "fragment"
    }
   },
   "outputs": [
    {
     "name": "stdout",
     "output_type": "stream",
     "text": [
      "scalene\n"
     ]
    }
   ],
   "source": [
    "with ConcolicTracer() as _:\n",
    "    print(_[triangle](1, 2, 3))"
   ]
  },
  {
   "cell_type": "markdown",
   "metadata": {
    "slideshow": {
     "slide_type": "fragment"
    }
   },
   "source": [
    "The symbolic variables are as follows:"
   ]
  },
  {
   "cell_type": "code",
   "execution_count": 188,
   "metadata": {
    "execution": {
     "iopub.execute_input": "2022-01-05T17:28:06.031717Z",
     "iopub.status.busy": "2022-01-05T17:28:06.028970Z",
     "iopub.status.idle": "2022-01-05T17:28:06.035282Z",
     "shell.execute_reply": "2022-01-05T17:28:06.035724Z"
    },
    "slideshow": {
     "slide_type": "fragment"
    },
    "tags": []
   },
   "outputs": [
    {
     "data": {
      "text/plain": [
       "{'triangle_a_int_1': 'Int',\n",
       " 'triangle_b_int_2': 'Int',\n",
       " 'triangle_c_int_3': 'Int'}"
      ]
     },
     "execution_count": 188,
     "metadata": {},
     "output_type": "execute_result"
    }
   ],
   "source": [
    "_.decls"
   ]
  },
  {
   "cell_type": "markdown",
   "metadata": {
    "slideshow": {
     "slide_type": "fragment"
    }
   },
   "source": [
    "The predicates are as follows:"
   ]
  },
  {
   "cell_type": "code",
   "execution_count": 189,
   "metadata": {
    "execution": {
     "iopub.execute_input": "2022-01-05T17:28:06.041642Z",
     "iopub.status.busy": "2022-01-05T17:28:06.040592Z",
     "iopub.status.idle": "2022-01-05T17:28:06.048661Z",
     "shell.execute_reply": "2022-01-05T17:28:06.049451Z"
    },
    "slideshow": {
     "slide_type": "subslide"
    }
   },
   "outputs": [
    {
     "data": {
      "text/plain": [
       "[Not(triangle_a_int_1 == triangle_b_int_2),\n",
       " Not(triangle_b_int_2 == triangle_c_int_3),\n",
       " Not(triangle_a_int_1 == triangle_c_int_3)]"
      ]
     },
     "execution_count": 189,
     "metadata": {},
     "output_type": "execute_result"
    }
   ],
   "source": [
    "_.path"
   ]
  },
  {
   "cell_type": "markdown",
   "metadata": {
    "slideshow": {
     "slide_type": "fragment"
    }
   },
   "source": [
    "Using `zeval()`, we solve these path conditions and obtain a solution. We find that Z3 gives us three distinct integer values:"
   ]
  },
  {
   "cell_type": "code",
   "execution_count": 190,
   "metadata": {
    "execution": {
     "iopub.execute_input": "2022-01-05T17:28:06.056580Z",
     "iopub.status.busy": "2022-01-05T17:28:06.055649Z",
     "iopub.status.idle": "2022-01-05T17:28:06.114611Z",
     "shell.execute_reply": "2022-01-05T17:28:06.115663Z"
    },
    "slideshow": {
     "slide_type": "fragment"
    }
   },
   "outputs": [
    {
     "data": {
      "text/plain": [
       "('sat',\n",
       " {'a': ('0', 'Int'), 'b': (['-', '2'], 'Int'), 'c': (['-', '1'], 'Int')})"
      ]
     },
     "execution_count": 190,
     "metadata": {},
     "output_type": "execute_result"
    }
   ],
   "source": [
    "_.zeval()"
   ]
  },
  {
   "cell_type": "markdown",
   "metadata": {
    "slideshow": {
     "slide_type": "fragment"
    }
   },
   "source": [
    "(Note that some of the values may be negative. Indeed, `triangle()` works with negative length values, too, even if real triangles only have positive lengths.)"
   ]
  },
  {
   "cell_type": "markdown",
   "metadata": {
    "slideshow": {
     "slide_type": "fragment"
    }
   },
   "source": [
    "If we invoke `triangle()` with these very values, we take the _exact same path_ as the original input:"
   ]
  },
  {
   "cell_type": "code",
   "execution_count": 191,
   "metadata": {
    "execution": {
     "iopub.execute_input": "2022-01-05T17:28:06.121104Z",
     "iopub.status.busy": "2022-01-05T17:28:06.120423Z",
     "iopub.status.idle": "2022-01-05T17:28:06.125637Z",
     "shell.execute_reply": "2022-01-05T17:28:06.126839Z"
    },
    "slideshow": {
     "slide_type": "subslide"
    }
   },
   "outputs": [
    {
     "data": {
      "text/plain": [
       "'scalene'"
      ]
     },
     "execution_count": 191,
     "metadata": {},
     "output_type": "execute_result"
    }
   ],
   "source": [
    "triangle(0, -2, -1)"
   ]
  },
  {
   "cell_type": "markdown",
   "metadata": {
    "slideshow": {
     "slide_type": "fragment"
    }
   },
   "source": [
    "We can have z3 _negate_ individual conditions – and thus take different paths.\n",
    "First, we retrieve the symbolic variables."
   ]
  },
  {
   "cell_type": "code",
   "execution_count": 192,
   "metadata": {
    "execution": {
     "iopub.execute_input": "2022-01-05T17:28:06.133343Z",
     "iopub.status.busy": "2022-01-05T17:28:06.132603Z",
     "iopub.status.idle": "2022-01-05T17:28:06.135706Z",
     "shell.execute_reply": "2022-01-05T17:28:06.136135Z"
    },
    "slideshow": {
     "slide_type": "fragment"
    }
   },
   "outputs": [],
   "source": [
    "za, zb, zc = [z3.Int(s) for s in _.decls.keys()]"
   ]
  },
  {
   "cell_type": "code",
   "execution_count": 193,
   "metadata": {
    "execution": {
     "iopub.execute_input": "2022-01-05T17:28:06.143252Z",
     "iopub.status.busy": "2022-01-05T17:28:06.141546Z",
     "iopub.status.idle": "2022-01-05T17:28:06.149408Z",
     "shell.execute_reply": "2022-01-05T17:28:06.149861Z"
    },
    "slideshow": {
     "slide_type": "fragment"
    }
   },
   "outputs": [
    {
     "data": {
      "text/plain": [
       "(triangle_a_int_1, triangle_b_int_2, triangle_c_int_3)"
      ]
     },
     "execution_count": 193,
     "metadata": {},
     "output_type": "execute_result"
    }
   ],
   "source": [
    "za, zb, zc"
   ]
  },
  {
   "cell_type": "markdown",
   "metadata": {
    "slideshow": {
     "slide_type": "fragment"
    }
   },
   "source": [
    "Then, we pass a negated predicate to `zeval()`. The key (here: `1`) determines which predicate the new predicate will replace."
   ]
  },
  {
   "cell_type": "code",
   "execution_count": 194,
   "metadata": {
    "execution": {
     "iopub.execute_input": "2022-01-05T17:28:06.155231Z",
     "iopub.status.busy": "2022-01-05T17:28:06.153921Z",
     "iopub.status.idle": "2022-01-05T17:28:06.219591Z",
     "shell.execute_reply": "2022-01-05T17:28:06.220258Z"
    },
    "slideshow": {
     "slide_type": "fragment"
    }
   },
   "outputs": [
    {
     "data": {
      "text/plain": [
       "('sat', {'a': ('1', 'Int'), 'b': ('0', 'Int'), 'c': ('0', 'Int')})"
      ]
     },
     "execution_count": 194,
     "metadata": {},
     "output_type": "execute_result"
    }
   ],
   "source": [
    "_.zeval({1: zb == zc})"
   ]
  },
  {
   "cell_type": "code",
   "execution_count": 195,
   "metadata": {
    "execution": {
     "iopub.execute_input": "2022-01-05T17:28:06.225647Z",
     "iopub.status.busy": "2022-01-05T17:28:06.224954Z",
     "iopub.status.idle": "2022-01-05T17:28:06.227666Z",
     "shell.execute_reply": "2022-01-05T17:28:06.228148Z"
    },
    "slideshow": {
     "slide_type": "fragment"
    }
   },
   "outputs": [
    {
     "data": {
      "text/plain": [
       "'isosceles'"
      ]
     },
     "execution_count": 195,
     "metadata": {},
     "output_type": "execute_result"
    }
   ],
   "source": [
    "triangle(1, 0, 1)"
   ]
  },
  {
   "cell_type": "markdown",
   "metadata": {
    "slideshow": {
     "slide_type": "subslide"
    }
   },
   "source": [
    "The updated predicate returns `isosceles` as expected. By negating further conditions, we can systematically explore all branches in `triangle()`."
   ]
  },
  {
   "cell_type": "markdown",
   "metadata": {
    "slideshow": {
     "slide_type": "subslide"
    }
   },
   "source": [
    "### Example: Decoding CGI Strings"
   ]
  },
  {
   "cell_type": "markdown",
   "metadata": {
    "slideshow": {
     "slide_type": "fragment"
    }
   },
   "source": [
    "Let us apply `ConcolicTracer` on our example program `cgi_decode()` from the [chapter on coverage](Coverage.ipynb). Note that we need to rewrite its code slightly, as the hash lookups in `hex_values` can not be used for transferring constraints yet."
   ]
  },
  {
   "cell_type": "code",
   "execution_count": 196,
   "metadata": {
    "execution": {
     "iopub.execute_input": "2022-01-05T17:28:06.236317Z",
     "iopub.status.busy": "2022-01-05T17:28:06.235772Z",
     "iopub.status.idle": "2022-01-05T17:28:06.237464Z",
     "shell.execute_reply": "2022-01-05T17:28:06.237900Z"
    },
    "slideshow": {
     "slide_type": "subslide"
    }
   },
   "outputs": [],
   "source": [
    "def cgi_decode(s):\n",
    "    \"\"\"Decode the CGI-encoded string `s`:\n",
    "       * replace \"+\" by \" \"\n",
    "       * replace \"%xx\" by the character with hex number xx.\n",
    "       Return the decoded string.  Raise `ValueError` for invalid inputs.\"\"\"\n",
    "\n",
    "    # Mapping of hex digits to their integer values\n",
    "    hex_values = {\n",
    "        '0': 0, '1': 1, '2': 2, '3': 3, '4': 4,\n",
    "        '5': 5, '6': 6, '7': 7, '8': 8, '9': 9,\n",
    "        'a': 10, 'b': 11, 'c': 12, 'd': 13, 'e': 14, 'f': 15,\n",
    "        'A': 10, 'B': 11, 'C': 12, 'D': 13, 'E': 14, 'F': 15,\n",
    "    }\n",
    "\n",
    "    t = ''\n",
    "    i = 0\n",
    "    while i < len(s):\n",
    "        c = s[i]\n",
    "        if c == '+':\n",
    "            t += ' '\n",
    "        elif c == '%':\n",
    "            digit_high, digit_low = s[i + 1], s[i + 2]\n",
    "            i = i + 2\n",
    "            found = 0\n",
    "            v = 0\n",
    "            for key in hex_values:\n",
    "                if key == digit_high:\n",
    "                    found = found + 1\n",
    "                    v = hex_values[key] * 16\n",
    "                    break\n",
    "            for key in hex_values:\n",
    "                if key == digit_low:\n",
    "                    found = found + 1\n",
    "                    v = v + hex_values[key]\n",
    "                    break\n",
    "            if found == 2:\n",
    "                if v >= 128:\n",
    "                    # z3.StringVal(urllib.parse.unquote('%80')) <-- bug in z3\n",
    "                    raise ValueError(\"Invalid encoding\")\n",
    "                t = t + chr(v)\n",
    "            else:\n",
    "                raise ValueError(\"Invalid encoding\")\n",
    "        else:\n",
    "            t = t + c\n",
    "        i = i + 1\n",
    "    return t"
   ]
  },
  {
   "cell_type": "code",
   "execution_count": 197,
   "metadata": {
    "execution": {
     "iopub.execute_input": "2022-01-05T17:28:06.241114Z",
     "iopub.status.busy": "2022-01-05T17:28:06.240605Z",
     "iopub.status.idle": "2022-01-05T17:28:06.244920Z",
     "shell.execute_reply": "2022-01-05T17:28:06.245312Z"
    },
    "slideshow": {
     "slide_type": "subslide"
    }
   },
   "outputs": [],
   "source": [
    "with ConcolicTracer() as _:\n",
    "    _[cgi_decode]('a%20d')"
   ]
  },
  {
   "cell_type": "markdown",
   "metadata": {
    "slideshow": {
     "slide_type": "fragment"
    }
   },
   "source": [
    "Once executed, we can retrieve the symbolic variables in the `decls` attribute. This is a mapping of symbolic variables to types."
   ]
  },
  {
   "cell_type": "code",
   "execution_count": 198,
   "metadata": {
    "execution": {
     "iopub.execute_input": "2022-01-05T17:28:06.248959Z",
     "iopub.status.busy": "2022-01-05T17:28:06.248379Z",
     "iopub.status.idle": "2022-01-05T17:28:06.250874Z",
     "shell.execute_reply": "2022-01-05T17:28:06.251350Z"
    },
    "slideshow": {
     "slide_type": "fragment"
    }
   },
   "outputs": [
    {
     "data": {
      "text/plain": [
       "{'cgi_decode_s_str_1': 'String'}"
      ]
     },
     "execution_count": 198,
     "metadata": {},
     "output_type": "execute_result"
    }
   ],
   "source": [
    "_.decls"
   ]
  },
  {
   "cell_type": "markdown",
   "metadata": {
    "slideshow": {
     "slide_type": "fragment"
    }
   },
   "source": [
    "The extracted path conditions can be found in the `path` attribute:"
   ]
  },
  {
   "cell_type": "code",
   "execution_count": 199,
   "metadata": {
    "execution": {
     "iopub.execute_input": "2022-01-05T17:28:06.256003Z",
     "iopub.status.busy": "2022-01-05T17:28:06.255356Z",
     "iopub.status.idle": "2022-01-05T17:28:06.263943Z",
     "shell.execute_reply": "2022-01-05T17:28:06.264408Z"
    },
    "slideshow": {
     "slide_type": "subslide"
    }
   },
   "outputs": [
    {
     "data": {
      "text/plain": [
       "[Not(str.substr(cgi_decode_s_str_1, 0, 1) == \"+\"),\n",
       " Not(str.substr(cgi_decode_s_str_1, 0, 1) == \"%\"),\n",
       " Not(str.substr(cgi_decode_s_str_1, 1, 1) == \"+\"),\n",
       " str.substr(cgi_decode_s_str_1, 1, 1) == \"%\",\n",
       " Not(str.substr(cgi_decode_s_str_1, 2, 1) == \"0\"),\n",
       " Not(str.substr(cgi_decode_s_str_1, 2, 1) == \"1\"),\n",
       " str.substr(cgi_decode_s_str_1, 2, 1) == \"2\",\n",
       " str.substr(cgi_decode_s_str_1, 3, 1) == \"0\",\n",
       " Not(str.substr(cgi_decode_s_str_1, 4, 1) == \"+\"),\n",
       " Not(str.substr(cgi_decode_s_str_1, 4, 1) == \"%\")]"
      ]
     },
     "execution_count": 199,
     "metadata": {},
     "output_type": "execute_result"
    }
   ],
   "source": [
    "_.path"
   ]
  },
  {
   "cell_type": "markdown",
   "metadata": {
    "slideshow": {
     "slide_type": "fragment"
    }
   },
   "source": [
    "The `context` attribute holds a pair of `decls` and `path` attributes; this is useful for passing it into the `ConcolicTracer` constructor."
   ]
  },
  {
   "cell_type": "code",
   "execution_count": 200,
   "metadata": {
    "execution": {
     "iopub.execute_input": "2022-01-05T17:28:06.268023Z",
     "iopub.status.busy": "2022-01-05T17:28:06.267434Z",
     "iopub.status.idle": "2022-01-05T17:28:06.269122Z",
     "shell.execute_reply": "2022-01-05T17:28:06.269487Z"
    },
    "slideshow": {
     "slide_type": "fragment"
    }
   },
   "outputs": [],
   "source": [
    "assert _.context == (_.decls, _.path)"
   ]
  },
  {
   "cell_type": "markdown",
   "metadata": {
    "slideshow": {
     "slide_type": "subslide"
    }
   },
   "source": [
    "We can solve these constraints to obtain a value for the function parameters that follow the same path as the original (traced) invocation:"
   ]
  },
  {
   "cell_type": "code",
   "execution_count": 201,
   "metadata": {
    "execution": {
     "iopub.execute_input": "2022-01-05T17:28:06.272674Z",
     "iopub.status.busy": "2022-01-05T17:28:06.272126Z",
     "iopub.status.idle": "2022-01-05T17:28:06.325382Z",
     "shell.execute_reply": "2022-01-05T17:28:06.325924Z"
    },
    "slideshow": {
     "slide_type": "fragment"
    }
   },
   "outputs": [
    {
     "data": {
      "text/plain": [
       "('sat', {'s': ('\\\\x00%20\\\\x00\\\\x00', 'String')})"
      ]
     },
     "execution_count": 201,
     "metadata": {},
     "output_type": "execute_result"
    }
   ],
   "source": [
    "_.zeval()"
   ]
  },
  {
   "cell_type": "markdown",
   "metadata": {
    "slideshow": {
     "slide_type": "fragment"
    }
   },
   "source": [
    "_Negating_ some of these constraints will yield different paths taken, and thus greater code coverage. This is what our concolic fuzzers (see later) do. Let us go and negate the first constraint, namely that the first character should _not_ be a `+` character:"
   ]
  },
  {
   "cell_type": "code",
   "execution_count": 202,
   "metadata": {
    "execution": {
     "iopub.execute_input": "2022-01-05T17:28:06.330425Z",
     "iopub.status.busy": "2022-01-05T17:28:06.329834Z",
     "iopub.status.idle": "2022-01-05T17:28:06.334189Z",
     "shell.execute_reply": "2022-01-05T17:28:06.334558Z"
    },
    "slideshow": {
     "slide_type": "fragment"
    }
   },
   "outputs": [
    {
     "data": {
      "text/html": [
       "&not;(str.substr(cgi_decode_s_str_1, 0, 1) = \"+\")"
      ],
      "text/plain": [
       "Not(str.substr(cgi_decode_s_str_1, 0, 1) == \"+\")"
      ]
     },
     "execution_count": 202,
     "metadata": {},
     "output_type": "execute_result"
    }
   ],
   "source": [
    "_.path[0]"
   ]
  },
  {
   "cell_type": "markdown",
   "metadata": {
    "slideshow": {
     "slide_type": "fragment"
    }
   },
   "source": [
    "To compute the negated string, we have to construct it via z3 primitives:"
   ]
  },
  {
   "cell_type": "code",
   "execution_count": 203,
   "metadata": {
    "execution": {
     "iopub.execute_input": "2022-01-05T17:28:06.338059Z",
     "iopub.status.busy": "2022-01-05T17:28:06.337499Z",
     "iopub.status.idle": "2022-01-05T17:28:06.339448Z",
     "shell.execute_reply": "2022-01-05T17:28:06.339834Z"
    },
    "slideshow": {
     "slide_type": "fragment"
    }
   },
   "outputs": [],
   "source": [
    "zs = z3.String('cgi_decode_s_str_1')"
   ]
  },
  {
   "cell_type": "code",
   "execution_count": 204,
   "metadata": {
    "execution": {
     "iopub.execute_input": "2022-01-05T17:28:06.343146Z",
     "iopub.status.busy": "2022-01-05T17:28:06.342613Z",
     "iopub.status.idle": "2022-01-05T17:28:06.347254Z",
     "shell.execute_reply": "2022-01-05T17:28:06.347691Z"
    },
    "slideshow": {
     "slide_type": "fragment"
    }
   },
   "outputs": [
    {
     "data": {
      "text/html": [
       "str.substr(cgi_decode_s_str_1, 0, 1) = \"a\""
      ],
      "text/plain": [
       "str.substr(cgi_decode_s_str_1, 0, 1) == \"a\""
      ]
     },
     "execution_count": 204,
     "metadata": {},
     "output_type": "execute_result"
    }
   ],
   "source": [
    "z3.SubString(zs, 0, 1) == z3.StringVal('a')"
   ]
  },
  {
   "cell_type": "markdown",
   "metadata": {
    "slideshow": {
     "slide_type": "subslide"
    }
   },
   "source": [
    "Invoking `zeval()` with the path condition to be changed obtains a new input that satisfies the negated predicate:"
   ]
  },
  {
   "cell_type": "code",
   "execution_count": 205,
   "metadata": {
    "execution": {
     "iopub.execute_input": "2022-01-05T17:28:06.351378Z",
     "iopub.status.busy": "2022-01-05T17:28:06.350696Z",
     "iopub.status.idle": "2022-01-05T17:28:06.409491Z",
     "shell.execute_reply": "2022-01-05T17:28:06.410085Z"
    },
    "slideshow": {
     "slide_type": "fragment"
    }
   },
   "outputs": [],
   "source": [
    "(result, new_vars) = _.zeval({0: z3.SubString(zs, 0, 1) == z3.StringVal('+')})\n",
    "assert result == 'sat'"
   ]
  },
  {
   "cell_type": "code",
   "execution_count": 206,
   "metadata": {
    "execution": {
     "iopub.execute_input": "2022-01-05T17:28:06.414982Z",
     "iopub.status.busy": "2022-01-05T17:28:06.414359Z",
     "iopub.status.idle": "2022-01-05T17:28:06.416802Z",
     "shell.execute_reply": "2022-01-05T17:28:06.417168Z"
    },
    "slideshow": {
     "slide_type": "fragment"
    }
   },
   "outputs": [
    {
     "data": {
      "text/plain": [
       "{'s': ('+%20\\\\x00', 'String')}"
      ]
     },
     "execution_count": 206,
     "metadata": {},
     "output_type": "execute_result"
    }
   ],
   "source": [
    "new_vars"
   ]
  },
  {
   "cell_type": "code",
   "execution_count": 207,
   "metadata": {
    "execution": {
     "iopub.execute_input": "2022-01-05T17:28:06.420981Z",
     "iopub.status.busy": "2022-01-05T17:28:06.420224Z",
     "iopub.status.idle": "2022-01-05T17:28:06.422670Z",
     "shell.execute_reply": "2022-01-05T17:28:06.422212Z"
    },
    "slideshow": {
     "slide_type": "fragment"
    }
   },
   "outputs": [],
   "source": [
    "(new_s, new_s_type) = new_vars['s']"
   ]
  },
  {
   "cell_type": "code",
   "execution_count": 208,
   "metadata": {
    "execution": {
     "iopub.execute_input": "2022-01-05T17:28:06.426052Z",
     "iopub.status.busy": "2022-01-05T17:28:06.425481Z",
     "iopub.status.idle": "2022-01-05T17:28:06.427746Z",
     "shell.execute_reply": "2022-01-05T17:28:06.428109Z"
    },
    "slideshow": {
     "slide_type": "fragment"
    }
   },
   "outputs": [
    {
     "data": {
      "text/plain": [
       "'+%20\\\\x00'"
      ]
     },
     "execution_count": 208,
     "metadata": {},
     "output_type": "execute_result"
    }
   ],
   "source": [
    "new_s"
   ]
  },
  {
   "cell_type": "markdown",
   "metadata": {
    "slideshow": {
     "slide_type": "fragment"
    }
   },
   "source": [
    "We can validate that `new_s` indeed takes the new path by re-running the tracer with `new_s` as input:"
   ]
  },
  {
   "cell_type": "code",
   "execution_count": 209,
   "metadata": {
    "execution": {
     "iopub.execute_input": "2022-01-05T17:28:06.431990Z",
     "iopub.status.busy": "2022-01-05T17:28:06.431449Z",
     "iopub.status.idle": "2022-01-05T17:28:06.437676Z",
     "shell.execute_reply": "2022-01-05T17:28:06.438236Z"
    },
    "slideshow": {
     "slide_type": "fragment"
    }
   },
   "outputs": [],
   "source": [
    "with ConcolicTracer() as _:\n",
    "    _[cgi_decode](new_s)"
   ]
  },
  {
   "cell_type": "code",
   "execution_count": 210,
   "metadata": {
    "execution": {
     "iopub.execute_input": "2022-01-05T17:28:06.443025Z",
     "iopub.status.busy": "2022-01-05T17:28:06.442167Z",
     "iopub.status.idle": "2022-01-05T17:28:06.458818Z",
     "shell.execute_reply": "2022-01-05T17:28:06.459670Z"
    },
    "slideshow": {
     "slide_type": "subslide"
    }
   },
   "outputs": [
    {
     "data": {
      "text/plain": [
       "[str.substr(cgi_decode_s_str_1, 0, 1) == \"+\",\n",
       " Not(str.substr(cgi_decode_s_str_1, 1, 1) == \"+\"),\n",
       " str.substr(cgi_decode_s_str_1, 1, 1) == \"%\",\n",
       " Not(str.substr(cgi_decode_s_str_1, 2, 1) == \"0\"),\n",
       " Not(str.substr(cgi_decode_s_str_1, 2, 1) == \"1\"),\n",
       " str.substr(cgi_decode_s_str_1, 2, 1) == \"2\",\n",
       " str.substr(cgi_decode_s_str_1, 3, 1) == \"0\",\n",
       " Not(str.substr(cgi_decode_s_str_1, 4, 1) == \"+\"),\n",
       " Not(str.substr(cgi_decode_s_str_1, 4, 1) == \"%\"),\n",
       " Not(str.substr(cgi_decode_s_str_1, 5, 1) == \"+\"),\n",
       " Not(str.substr(cgi_decode_s_str_1, 5, 1) == \"%\"),\n",
       " Not(str.substr(cgi_decode_s_str_1, 6, 1) == \"+\"),\n",
       " Not(str.substr(cgi_decode_s_str_1, 6, 1) == \"%\"),\n",
       " Not(str.substr(cgi_decode_s_str_1, 7, 1) == \"+\"),\n",
       " Not(str.substr(cgi_decode_s_str_1, 7, 1) == \"%\")]"
      ]
     },
     "execution_count": 210,
     "metadata": {},
     "output_type": "execute_result"
    }
   ],
   "source": [
    "_.path"
   ]
  },
  {
   "cell_type": "markdown",
   "metadata": {
    "slideshow": {
     "slide_type": "subslide"
    }
   },
   "source": [
    "By negating further conditions, we can explore more and more code."
   ]
  },
  {
   "cell_type": "markdown",
   "metadata": {
    "slideshow": {
     "slide_type": "subslide"
    }
   },
   "source": [
    "### Example: Round\n",
    "\n",
    "Here is a function that gives you the nearest ten's multiplier"
   ]
  },
  {
   "cell_type": "code",
   "execution_count": 211,
   "metadata": {
    "execution": {
     "iopub.execute_input": "2022-01-05T17:28:06.465559Z",
     "iopub.status.busy": "2022-01-05T17:28:06.464506Z",
     "iopub.status.idle": "2022-01-05T17:28:06.466713Z",
     "shell.execute_reply": "2022-01-05T17:28:06.467153Z"
    },
    "slideshow": {
     "slide_type": "fragment"
    }
   },
   "outputs": [],
   "source": [
    "def round10(r):\n",
    "    while r % 10 != 0:\n",
    "        r += 1\n",
    "    return r"
   ]
  },
  {
   "cell_type": "markdown",
   "metadata": {
    "slideshow": {
     "slide_type": "fragment"
    }
   },
   "source": [
    "As before, we execute the function under the `ConcolicTracer` context."
   ]
  },
  {
   "cell_type": "code",
   "execution_count": 212,
   "metadata": {
    "execution": {
     "iopub.execute_input": "2022-01-05T17:28:06.472010Z",
     "iopub.status.busy": "2022-01-05T17:28:06.471145Z",
     "iopub.status.idle": "2022-01-05T17:28:06.476830Z",
     "shell.execute_reply": "2022-01-05T17:28:06.477206Z"
    },
    "slideshow": {
     "slide_type": "fragment"
    }
   },
   "outputs": [],
   "source": [
    "with ConcolicTracer() as _:\n",
    "    r = _[round10](1)"
   ]
  },
  {
   "cell_type": "markdown",
   "metadata": {
    "slideshow": {
     "slide_type": "fragment"
    }
   },
   "source": [
    "We verify that we were able to capture all the predicates:"
   ]
  },
  {
   "cell_type": "code",
   "execution_count": 213,
   "metadata": {
    "execution": {
     "iopub.execute_input": "2022-01-05T17:28:06.480972Z",
     "iopub.status.busy": "2022-01-05T17:28:06.480393Z",
     "iopub.status.idle": "2022-01-05T17:28:06.710144Z",
     "shell.execute_reply": "2022-01-05T17:28:06.710687Z"
    },
    "slideshow": {
     "slide_type": "subslide"
    }
   },
   "outputs": [
    {
     "data": {
      "text/plain": [
       "({'round10_r_int_1': 'Int'},\n",
       " [0 != round10_r_int_1%10,\n",
       "  0 != (round10_r_int_1 + 1)%10,\n",
       "  0 != (round10_r_int_1 + 1 + 1)%10,\n",
       "  0 != (round10_r_int_1 + 1 + 1 + 1)%10,\n",
       "  0 != (round10_r_int_1 + 1 + 1 + 1 + 1)%10,\n",
       "  0 != (round10_r_int_1 + 1 + 1 + 1 + 1 + 1)%10,\n",
       "  0 != (round10_r_int_1 + 1 + 1 + 1 + 1 + 1 + 1)%10,\n",
       "  0 != (round10_r_int_1 + 1 + 1 + 1 + 1 + 1 + 1 + 1)%10,\n",
       "  0 != (round10_r_int_1 + 1 + 1 + 1 + 1 + 1 + 1 + 1 + 1)%10,\n",
       "  Not(0 !=\n",
       "      (round10_r_int_1 + 1 + 1 + 1 + 1 + 1 + 1 + 1 + 1 + 1)%10)])"
      ]
     },
     "execution_count": 213,
     "metadata": {},
     "output_type": "execute_result"
    }
   ],
   "source": [
    "_.context"
   ]
  },
  {
   "cell_type": "markdown",
   "metadata": {
    "slideshow": {
     "slide_type": "fragment"
    }
   },
   "source": [
    "We use `zeval()` to obtain more inputs that take the same path."
   ]
  },
  {
   "cell_type": "code",
   "execution_count": 214,
   "metadata": {
    "execution": {
     "iopub.execute_input": "2022-01-05T17:28:06.714966Z",
     "iopub.status.busy": "2022-01-05T17:28:06.714050Z",
     "iopub.status.idle": "2022-01-05T17:28:06.751503Z",
     "shell.execute_reply": "2022-01-05T17:28:06.751932Z"
    },
    "slideshow": {
     "slide_type": "subslide"
    }
   },
   "outputs": [
    {
     "data": {
      "text/plain": [
       "('sat', {'r': (['-', '9'], 'Int')})"
      ]
     },
     "execution_count": 214,
     "metadata": {},
     "output_type": "execute_result"
    }
   ],
   "source": [
    "_.zeval()"
   ]
  },
  {
   "cell_type": "markdown",
   "metadata": {
    "slideshow": {
     "slide_type": "subslide"
    }
   },
   "source": [
    "### Example: Absolute Maximum\n",
    "\n",
    "Do our concolic proxies work across functions? Say we have a function `max_value()` as below."
   ]
  },
  {
   "cell_type": "code",
   "execution_count": 215,
   "metadata": {
    "execution": {
     "iopub.execute_input": "2022-01-05T17:28:06.756492Z",
     "iopub.status.busy": "2022-01-05T17:28:06.755969Z",
     "iopub.status.idle": "2022-01-05T17:28:06.757938Z",
     "shell.execute_reply": "2022-01-05T17:28:06.758329Z"
    },
    "slideshow": {
     "slide_type": "fragment"
    }
   },
   "outputs": [],
   "source": [
    "def abs_value(a):\n",
    "    if a > 0:\n",
    "        return a\n",
    "    else:\n",
    "        return -a"
   ]
  },
  {
   "cell_type": "markdown",
   "metadata": {
    "slideshow": {
     "slide_type": "fragment"
    }
   },
   "source": [
    "It is called by another function `abs_max()`"
   ]
  },
  {
   "cell_type": "code",
   "execution_count": 216,
   "metadata": {
    "execution": {
     "iopub.execute_input": "2022-01-05T17:28:06.762707Z",
     "iopub.status.busy": "2022-01-05T17:28:06.762166Z",
     "iopub.status.idle": "2022-01-05T17:28:06.763816Z",
     "shell.execute_reply": "2022-01-05T17:28:06.764252Z"
    },
    "slideshow": {
     "slide_type": "subslide"
    }
   },
   "outputs": [],
   "source": [
    "def abs_max(a, b):\n",
    "    a1 = abs_value(a)\n",
    "    b1 = abs_value(b)\n",
    "    if a1 > b1:\n",
    "        c = a1\n",
    "    else:\n",
    "        c = b1\n",
    "    return c"
   ]
  },
  {
   "cell_type": "markdown",
   "metadata": {
    "slideshow": {
     "slide_type": "fragment"
    }
   },
   "source": [
    "Using the `Concolic()` context on `abs_max()`."
   ]
  },
  {
   "cell_type": "code",
   "execution_count": 217,
   "metadata": {
    "execution": {
     "iopub.execute_input": "2022-01-05T17:28:06.767936Z",
     "iopub.status.busy": "2022-01-05T17:28:06.767414Z",
     "iopub.status.idle": "2022-01-05T17:28:06.769755Z",
     "shell.execute_reply": "2022-01-05T17:28:06.770139Z"
    },
    "slideshow": {
     "slide_type": "fragment"
    }
   },
   "outputs": [],
   "source": [
    "with ConcolicTracer() as _:\n",
    "    _[abs_max](2, 1)"
   ]
  },
  {
   "cell_type": "markdown",
   "metadata": {
    "slideshow": {
     "slide_type": "fragment"
    }
   },
   "source": [
    "As expected, we have the predicates across functions."
   ]
  },
  {
   "cell_type": "code",
   "execution_count": 218,
   "metadata": {
    "execution": {
     "iopub.execute_input": "2022-01-05T17:28:06.774004Z",
     "iopub.status.busy": "2022-01-05T17:28:06.773499Z",
     "iopub.status.idle": "2022-01-05T17:28:06.777070Z",
     "shell.execute_reply": "2022-01-05T17:28:06.777648Z"
    },
    "slideshow": {
     "slide_type": "fragment"
    }
   },
   "outputs": [
    {
     "data": {
      "text/plain": [
       "({'abs_max_a_int_1': 'Int', 'abs_max_b_int_2': 'Int'},\n",
       " [0 < abs_max_a_int_1, 0 < abs_max_b_int_2, abs_max_a_int_1 > abs_max_b_int_2])"
      ]
     },
     "execution_count": 218,
     "metadata": {},
     "output_type": "execute_result"
    }
   ],
   "source": [
    "_.context"
   ]
  },
  {
   "cell_type": "code",
   "execution_count": 219,
   "metadata": {
    "execution": {
     "iopub.execute_input": "2022-01-05T17:28:06.780803Z",
     "iopub.status.busy": "2022-01-05T17:28:06.780294Z",
     "iopub.status.idle": "2022-01-05T17:28:06.817222Z",
     "shell.execute_reply": "2022-01-05T17:28:06.817654Z"
    },
    "slideshow": {
     "slide_type": "subslide"
    }
   },
   "outputs": [
    {
     "data": {
      "text/plain": [
       "('sat', {'a': ('2', 'Int'), 'b': ('1', 'Int')})"
      ]
     },
     "execution_count": 219,
     "metadata": {},
     "output_type": "execute_result"
    }
   ],
   "source": [
    "_.zeval()"
   ]
  },
  {
   "cell_type": "markdown",
   "metadata": {
    "slideshow": {
     "slide_type": "fragment"
    }
   },
   "source": [
    "Solving the predicates works as expected."
   ]
  },
  {
   "cell_type": "markdown",
   "metadata": {
    "slideshow": {
     "slide_type": "fragment"
    }
   },
   "source": [
    "Using negative numbers as arguments so that a different branch is taken in `abs_value()`"
   ]
  },
  {
   "cell_type": "code",
   "execution_count": 220,
   "metadata": {
    "execution": {
     "iopub.execute_input": "2022-01-05T17:28:06.823988Z",
     "iopub.status.busy": "2022-01-05T17:28:06.823463Z",
     "iopub.status.idle": "2022-01-05T17:28:06.825603Z",
     "shell.execute_reply": "2022-01-05T17:28:06.826045Z"
    },
    "slideshow": {
     "slide_type": "fragment"
    }
   },
   "outputs": [],
   "source": [
    "with ConcolicTracer() as _:\n",
    "    _[abs_max](-2, -1)"
   ]
  },
  {
   "cell_type": "code",
   "execution_count": 221,
   "metadata": {
    "execution": {
     "iopub.execute_input": "2022-01-05T17:28:06.830296Z",
     "iopub.status.busy": "2022-01-05T17:28:06.829641Z",
     "iopub.status.idle": "2022-01-05T17:28:06.834405Z",
     "shell.execute_reply": "2022-01-05T17:28:06.834780Z"
    },
    "slideshow": {
     "slide_type": "fragment"
    }
   },
   "outputs": [
    {
     "data": {
      "text/plain": [
       "({'abs_max_a_int_1': 'Int', 'abs_max_b_int_2': 'Int'},\n",
       " [Not(0 < abs_max_a_int_1),\n",
       "  Not(0 < abs_max_b_int_2),\n",
       "  -abs_max_a_int_1 > -abs_max_b_int_2])"
      ]
     },
     "execution_count": 221,
     "metadata": {},
     "output_type": "execute_result"
    }
   ],
   "source": [
    "_.context"
   ]
  },
  {
   "cell_type": "code",
   "execution_count": 222,
   "metadata": {
    "execution": {
     "iopub.execute_input": "2022-01-05T17:28:06.837949Z",
     "iopub.status.busy": "2022-01-05T17:28:06.837433Z",
     "iopub.status.idle": "2022-01-05T17:28:06.872160Z",
     "shell.execute_reply": "2022-01-05T17:28:06.872529Z"
    },
    "slideshow": {
     "slide_type": "fragment"
    }
   },
   "outputs": [
    {
     "data": {
      "text/plain": [
       "('sat', {'a': (['-', '1'], 'Int'), 'b': ('0', 'Int')})"
      ]
     },
     "execution_count": 222,
     "metadata": {},
     "output_type": "execute_result"
    }
   ],
   "source": [
    "_.zeval()"
   ]
  },
  {
   "cell_type": "markdown",
   "metadata": {
    "slideshow": {
     "slide_type": "subslide"
    }
   },
   "source": [
    "The solution reflects our predicates. (We used `a > 0` in `abs_value()`)."
   ]
  },
  {
   "cell_type": "markdown",
   "metadata": {
    "slideshow": {
     "slide_type": "subslide"
    }
   },
   "source": [
    "### Example: Binomial Coefficient\n",
    "\n",
    "For a larger example that uses different kinds of variables, say we want to compute the binomial coefficient by the following formulas\n",
    "\n",
    "$$ \n",
    "^nP_k=\\frac{n!}{(n-k)!}\n",
    "$$\n",
    "\n",
    "$$\n",
    "\\binom nk=\\,^nC_k=\\frac{^nP_k}{k!}\n",
    "$$\n"
   ]
  },
  {
   "cell_type": "markdown",
   "metadata": {
    "slideshow": {
     "slide_type": "subslide"
    }
   },
   "source": [
    "we define the functions as follows."
   ]
  },
  {
   "cell_type": "code",
   "execution_count": 223,
   "metadata": {
    "execution": {
     "iopub.execute_input": "2022-01-05T17:28:06.876936Z",
     "iopub.status.busy": "2022-01-05T17:28:06.876394Z",
     "iopub.status.idle": "2022-01-05T17:28:06.878183Z",
     "shell.execute_reply": "2022-01-05T17:28:06.878725Z"
    },
    "slideshow": {
     "slide_type": "fragment"
    }
   },
   "outputs": [],
   "source": [
    "def factorial(n):  # type: ignore\n",
    "    v = 1\n",
    "    while n != 0:\n",
    "        v *= n\n",
    "        n -= 1\n",
    "\n",
    "    return v"
   ]
  },
  {
   "cell_type": "code",
   "execution_count": 224,
   "metadata": {
    "execution": {
     "iopub.execute_input": "2022-01-05T17:28:06.881873Z",
     "iopub.status.busy": "2022-01-05T17:28:06.881369Z",
     "iopub.status.idle": "2022-01-05T17:28:06.883063Z",
     "shell.execute_reply": "2022-01-05T17:28:06.883429Z"
    },
    "slideshow": {
     "slide_type": "fragment"
    }
   },
   "outputs": [],
   "source": [
    "def permutation(n, k):\n",
    "    return factorial(n) / factorial(n - k)"
   ]
  },
  {
   "cell_type": "code",
   "execution_count": 225,
   "metadata": {
    "execution": {
     "iopub.execute_input": "2022-01-05T17:28:06.886602Z",
     "iopub.status.busy": "2022-01-05T17:28:06.886079Z",
     "iopub.status.idle": "2022-01-05T17:28:06.887725Z",
     "shell.execute_reply": "2022-01-05T17:28:06.888158Z"
    },
    "slideshow": {
     "slide_type": "fragment"
    }
   },
   "outputs": [],
   "source": [
    "def combination(n, k):\n",
    "    return permutation(n, k) / factorial(k)"
   ]
  },
  {
   "cell_type": "code",
   "execution_count": 226,
   "metadata": {
    "execution": {
     "iopub.execute_input": "2022-01-05T17:28:06.891381Z",
     "iopub.status.busy": "2022-01-05T17:28:06.890868Z",
     "iopub.status.idle": "2022-01-05T17:28:06.892540Z",
     "shell.execute_reply": "2022-01-05T17:28:06.892902Z"
    },
    "slideshow": {
     "slide_type": "subslide"
    }
   },
   "outputs": [],
   "source": [
    "def binomial(n, k):\n",
    "    if n < 0 or k < 0 or n < k:\n",
    "        raise Exception('Invalid values')\n",
    "    return combination(n, k)"
   ]
  },
  {
   "cell_type": "markdown",
   "metadata": {
    "slideshow": {
     "slide_type": "fragment"
    }
   },
   "source": [
    "As before, we run the function under `ConcolicTracer`."
   ]
  },
  {
   "cell_type": "code",
   "execution_count": 227,
   "metadata": {
    "execution": {
     "iopub.execute_input": "2022-01-05T17:28:06.896796Z",
     "iopub.status.busy": "2022-01-05T17:28:06.896162Z",
     "iopub.status.idle": "2022-01-05T17:28:06.901331Z",
     "shell.execute_reply": "2022-01-05T17:28:06.901772Z"
    },
    "slideshow": {
     "slide_type": "fragment"
    }
   },
   "outputs": [],
   "source": [
    "with ConcolicTracer() as _:\n",
    "    v = _[binomial](4, 2)"
   ]
  },
  {
   "cell_type": "markdown",
   "metadata": {
    "slideshow": {
     "slide_type": "fragment"
    }
   },
   "source": [
    "Then call `zeval()` to evaluate."
   ]
  },
  {
   "cell_type": "code",
   "execution_count": 228,
   "metadata": {
    "execution": {
     "iopub.execute_input": "2022-01-05T17:28:06.905556Z",
     "iopub.status.busy": "2022-01-05T17:28:06.904769Z",
     "iopub.status.idle": "2022-01-05T17:28:06.939495Z",
     "shell.execute_reply": "2022-01-05T17:28:06.940107Z"
    },
    "slideshow": {
     "slide_type": "fragment"
    }
   },
   "outputs": [
    {
     "data": {
      "text/plain": [
       "('sat', {'n': ('4', 'Int'), 'k': ('2', 'Int')})"
      ]
     },
     "execution_count": 228,
     "metadata": {},
     "output_type": "execute_result"
    }
   ],
   "source": [
    "_.zeval()"
   ]
  },
  {
   "cell_type": "raw",
   "metadata": {
    "slideshow": {
     "slide_type": "skip"
    }
   },
   "source": [
    "The values returned are same as the input values as expected."
   ]
  },
  {
   "cell_type": "markdown",
   "metadata": {
    "slideshow": {
     "slide_type": "subslide"
    }
   },
   "source": [
    "### Example: Database"
   ]
  },
  {
   "cell_type": "markdown",
   "metadata": {
    "slideshow": {
     "slide_type": "fragment"
    },
    "toc-hr-collapsed": true
   },
   "source": [
    "For a larger example using the Concolic String class `zstr`, we use the DB class from the [chapter on information flow](InformationFlow.ipynb)."
   ]
  },
  {
   "cell_type": "code",
   "execution_count": 229,
   "metadata": {
    "execution": {
     "iopub.execute_input": "2022-01-05T17:28:06.944929Z",
     "iopub.status.busy": "2022-01-05T17:28:06.944238Z",
     "iopub.status.idle": "2022-01-05T17:28:08.998338Z",
     "shell.execute_reply": "2022-01-05T17:28:08.998709Z"
    },
    "slideshow": {
     "slide_type": "skip"
    }
   },
   "outputs": [],
   "source": [
    "from InformationFlow import DB, sample_db, update_inventory"
   ]
  },
  {
   "cell_type": "markdown",
   "metadata": {
    "slideshow": {
     "slide_type": "fragment"
    }
   },
   "source": [
    "We first populate our database."
   ]
  },
  {
   "cell_type": "code",
   "execution_count": 230,
   "metadata": {
    "execution": {
     "iopub.execute_input": "2022-01-05T17:28:09.002798Z",
     "iopub.status.busy": "2022-01-05T17:28:09.002080Z",
     "iopub.status.idle": "2022-01-05T17:28:10.691552Z",
     "shell.execute_reply": "2022-01-05T17:28:10.692164Z"
    },
    "slideshow": {
     "slide_type": "skip"
    }
   },
   "outputs": [],
   "source": [
    "from GrammarMiner import VEHICLES  # minor dependency"
   ]
  },
  {
   "cell_type": "code",
   "execution_count": 231,
   "metadata": {
    "execution": {
     "iopub.execute_input": "2022-01-05T17:28:10.698834Z",
     "iopub.status.busy": "2022-01-05T17:28:10.697998Z",
     "iopub.status.idle": "2022-01-05T17:28:10.700175Z",
     "shell.execute_reply": "2022-01-05T17:28:10.700756Z"
    },
    "slideshow": {
     "slide_type": "fragment"
    }
   },
   "outputs": [],
   "source": [
    "db = sample_db()\n",
    "for V in VEHICLES:\n",
    "    update_inventory(db, V)"
   ]
  },
  {
   "cell_type": "code",
   "execution_count": 232,
   "metadata": {
    "execution": {
     "iopub.execute_input": "2022-01-05T17:28:10.706821Z",
     "iopub.status.busy": "2022-01-05T17:28:10.706033Z",
     "iopub.status.idle": "2022-01-05T17:28:10.709938Z",
     "shell.execute_reply": "2022-01-05T17:28:10.710586Z"
    },
    "slideshow": {
     "slide_type": "fragment"
    }
   },
   "outputs": [
    {
     "data": {
      "text/plain": [
       "{'inventory': ({'year': int, 'kind': str, 'company': str, 'model': str},\n",
       "  [{'year': 1997, 'kind': 'van', 'company': 'Ford', 'model': 'E350'},\n",
       "   {'year': 2000, 'kind': 'car', 'company': 'Mercury', 'model': 'Cougar'},\n",
       "   {'year': 1999, 'kind': 'car', 'company': 'Chevy', 'model': 'Venture'}])}"
      ]
     },
     "execution_count": 232,
     "metadata": {},
     "output_type": "execute_result"
    }
   ],
   "source": [
    "db.db"
   ]
  },
  {
   "cell_type": "markdown",
   "metadata": {
    "slideshow": {
     "slide_type": "subslide"
    }
   },
   "source": [
    "We are now ready to fuzz our `DB` class. Hash functions are difficult to handle directly (because they rely on internal C functions). Hence we modify `table()` slightly."
   ]
  },
  {
   "cell_type": "code",
   "execution_count": 233,
   "metadata": {
    "execution": {
     "iopub.execute_input": "2022-01-05T17:28:10.717510Z",
     "iopub.status.busy": "2022-01-05T17:28:10.716668Z",
     "iopub.status.idle": "2022-01-05T17:28:10.718654Z",
     "shell.execute_reply": "2022-01-05T17:28:10.719122Z"
    },
    "slideshow": {
     "slide_type": "fragment"
    }
   },
   "outputs": [],
   "source": [
    "class ConcolicDB(DB):\n",
    "    def table(self, t_name):\n",
    "        for k, v in self.db:\n",
    "            if t_name == k:\n",
    "                return v\n",
    "        raise SQLException('Table (%s) was not found' % repr(t_name))\n",
    "\n",
    "    def column(self, decl, c_name):\n",
    "        for k in decl:\n",
    "            if c_name == k:\n",
    "                return decl[k]\n",
    "        raise SQLException('Column (%s) was not found' % repr(c_name))"
   ]
  },
  {
   "cell_type": "markdown",
   "metadata": {
    "slideshow": {
     "slide_type": "subslide"
    }
   },
   "source": [
    "To make it easy, we define a single function `db_select()` that directly invokes `db.sql()`."
   ]
  },
  {
   "cell_type": "code",
   "execution_count": 234,
   "metadata": {
    "execution": {
     "iopub.execute_input": "2022-01-05T17:28:10.725141Z",
     "iopub.status.busy": "2022-01-05T17:28:10.724154Z",
     "iopub.status.idle": "2022-01-05T17:28:10.726404Z",
     "shell.execute_reply": "2022-01-05T17:28:10.726957Z"
    },
    "slideshow": {
     "slide_type": "fragment"
    }
   },
   "outputs": [],
   "source": [
    "def db_select(s):\n",
    "    my_db = ConcolicDB()\n",
    "    my_db.db = [(k, v) for (k, v) in db.db.items()]\n",
    "    r = my_db.sql(s)\n",
    "    return r"
   ]
  },
  {
   "cell_type": "markdown",
   "metadata": {
    "slideshow": {
     "slide_type": "fragment"
    }
   },
   "source": [
    "We now want to run SQL statements under our `ConcolicTracer`, and collect predicates obtained."
   ]
  },
  {
   "cell_type": "code",
   "execution_count": 235,
   "metadata": {
    "execution": {
     "iopub.execute_input": "2022-01-05T17:28:10.730945Z",
     "iopub.status.busy": "2022-01-05T17:28:10.730350Z",
     "iopub.status.idle": "2022-01-05T17:28:10.735742Z",
     "shell.execute_reply": "2022-01-05T17:28:10.736154Z"
    },
    "slideshow": {
     "slide_type": "fragment"
    }
   },
   "outputs": [],
   "source": [
    "with ConcolicTracer() as _:\n",
    "    _[db_select]('select kind from inventory')"
   ]
  },
  {
   "cell_type": "markdown",
   "metadata": {
    "slideshow": {
     "slide_type": "fragment"
    }
   },
   "source": [
    "The predicates encountered during the execution are as follows:"
   ]
  },
  {
   "cell_type": "code",
   "execution_count": 236,
   "metadata": {
    "execution": {
     "iopub.execute_input": "2022-01-05T17:28:10.740344Z",
     "iopub.status.busy": "2022-01-05T17:28:10.739616Z",
     "iopub.status.idle": "2022-01-05T17:28:10.756701Z",
     "shell.execute_reply": "2022-01-05T17:28:10.757177Z"
    },
    "slideshow": {
     "slide_type": "subslide"
    }
   },
   "outputs": [
    {
     "data": {
      "text/plain": [
       "[0 == IndexOf(db_select_s_str_1, \"select \", 0),\n",
       " 0 == IndexOf(db_select_s_str_1, \"select \", 0),\n",
       " Not(0 >\n",
       "     IndexOf(str.substr(db_select_s_str_1, 7, 19),\n",
       "             \" from \",\n",
       "             0)),\n",
       " Not(19 <\n",
       "     IndexOf(str.substr(db_select_s_str_1, 7, 19),\n",
       "             \" from \",\n",
       "             0)),\n",
       " Or(0 <\n",
       "    IndexOf(str.substr(db_select_s_str_1, 7, 19),\n",
       "            \" from \",\n",
       "            0),\n",
       "    0 ==\n",
       "    IndexOf(str.substr(db_select_s_str_1, 7, 19),\n",
       "            \" from \",\n",
       "            0)),\n",
       " Not(Or(0 <\n",
       "        IndexOf(str.substr(db_select_s_str_1, 7, 19),\n",
       "                \" where \",\n",
       "                0),\n",
       "        0 ==\n",
       "        IndexOf(str.substr(db_select_s_str_1, 7, 19),\n",
       "                \" where \",\n",
       "                0))),\n",
       " Not(19 <\n",
       "     IndexOf(str.substr(db_select_s_str_1, 7, 19),\n",
       "             \" from \",\n",
       "             0) +\n",
       "     6),\n",
       " Or(19 >\n",
       "    IndexOf(str.substr(db_select_s_str_1, 7, 19),\n",
       "            \" from \",\n",
       "            0) +\n",
       "    6,\n",
       "    19 ==\n",
       "    IndexOf(str.substr(db_select_s_str_1, 7, 19),\n",
       "            \" from \",\n",
       "            0) +\n",
       "    6),\n",
       " str.substr(str.substr(db_select_s_str_1, 7, 19), 10, 9) ==\n",
       " \"inventory\"]"
      ]
     },
     "execution_count": 236,
     "metadata": {},
     "output_type": "execute_result"
    }
   ],
   "source": [
    "_.path"
   ]
  },
  {
   "cell_type": "markdown",
   "metadata": {
    "slideshow": {
     "slide_type": "subslide"
    }
   },
   "source": [
    "We can use `zeval()` as before to solve the constraints."
   ]
  },
  {
   "cell_type": "code",
   "execution_count": 237,
   "metadata": {
    "execution": {
     "iopub.execute_input": "2022-01-05T17:28:10.761272Z",
     "iopub.status.busy": "2022-01-05T17:28:10.760756Z",
     "iopub.status.idle": "2022-01-05T17:28:10.863580Z",
     "shell.execute_reply": "2022-01-05T17:28:10.863980Z"
    },
    "slideshow": {
     "slide_type": "fragment"
    }
   },
   "outputs": [
    {
     "data": {
      "text/plain": [
       "('Gave up', None)"
      ]
     },
     "execution_count": 237,
     "metadata": {},
     "output_type": "execute_result"
    }
   ],
   "source": [
    "_.zeval()"
   ]
  },
  {
   "cell_type": "markdown",
   "metadata": {
    "slideshow": {
     "slide_type": "slide"
    },
    "tags": []
   },
   "source": [
    "## Fuzzing with Constraints\n",
    "\n",
    "The `SimpleConcolicFuzzer` class starts with a sample input generated by some other fuzzer. It then runs the function being tested under `ConcolicTracer`, and collects the path predicates. It then negates random predicates within the path and solves it with Z3 to produce a new output that is guaranteed to take a different path than the original."
   ]
  },
  {
   "cell_type": "markdown",
   "metadata": {
    "slideshow": {
     "slide_type": "fragment"
    }
   },
   "source": [
    "As with `ConcolicTracer`, above, please first look at the examples before digging into the implementation."
   ]
  },
  {
   "cell_type": "markdown",
   "metadata": {
    "slideshow": {
     "slide_type": "subslide"
    }
   },
   "source": [
    "### Excursion: Implementing SimpleConcolicFuzzer"
   ]
  },
  {
   "cell_type": "markdown",
   "metadata": {
    "slideshow": {
     "slide_type": "fragment"
    }
   },
   "source": [
    "First, we import the `Fuzzer` interface, and an example program `hang_if_no_space()`"
   ]
  },
  {
   "cell_type": "code",
   "execution_count": 238,
   "metadata": {
    "execution": {
     "iopub.execute_input": "2022-01-05T17:28:10.868693Z",
     "iopub.status.busy": "2022-01-05T17:28:10.868154Z",
     "iopub.status.idle": "2022-01-05T17:28:10.870047Z",
     "shell.execute_reply": "2022-01-05T17:28:10.870417Z"
    },
    "slideshow": {
     "slide_type": "skip"
    }
   },
   "outputs": [],
   "source": [
    "from Fuzzer import Fuzzer, hang_if_no_space"
   ]
  },
  {
   "cell_type": "code",
   "execution_count": 239,
   "metadata": {
    "execution": {
     "iopub.execute_input": "2022-01-05T17:28:10.874407Z",
     "iopub.status.busy": "2022-01-05T17:28:10.873772Z",
     "iopub.status.idle": "2022-01-05T17:28:10.875812Z",
     "shell.execute_reply": "2022-01-05T17:28:10.876453Z"
    },
    "slideshow": {
     "slide_type": "skip"
    }
   },
   "outputs": [],
   "source": [
    "from ExpectError import ExpectTimeout, ExpectError"
   ]
  },
  {
   "cell_type": "code",
   "execution_count": 240,
   "metadata": {
    "execution": {
     "iopub.execute_input": "2022-01-05T17:28:10.879800Z",
     "iopub.status.busy": "2022-01-05T17:28:10.879226Z",
     "iopub.status.idle": "2022-01-05T17:28:10.880755Z",
     "shell.execute_reply": "2022-01-05T17:28:10.881214Z"
    },
    "slideshow": {
     "slide_type": "skip"
    }
   },
   "outputs": [],
   "source": [
    "import random"
   ]
  },
  {
   "cell_type": "markdown",
   "metadata": {
    "slideshow": {
     "slide_type": "subslide"
    }
   },
   "source": [
    "#### Representing Decisions"
   ]
  },
  {
   "cell_type": "markdown",
   "metadata": {
    "slideshow": {
     "slide_type": "fragment"
    }
   },
   "source": [
    "To make the fuzzer work, we need a way to represent decisions made during trace. We keep this in a _binary tree_ where each node represents a decision made, and each leaf represents a complete path. A node in the binary tree is represented by the `TraceNode` class.\n",
    "\n",
    "When a new node is added, it represents a decision taken by the parent on some predicate. This predicate is supplied as `smt_val`, which is `True` for this child to be reached. Since the predicate is actually present in the parent node, we also carry a member `smt` which will be updated by the first child to be added."
   ]
  },
  {
   "cell_type": "code",
   "execution_count": 241,
   "metadata": {
    "execution": {
     "iopub.execute_input": "2022-01-05T17:28:10.887594Z",
     "iopub.status.busy": "2022-01-05T17:28:10.887007Z",
     "iopub.status.idle": "2022-01-05T17:28:10.888632Z",
     "shell.execute_reply": "2022-01-05T17:28:10.889006Z"
    },
    "slideshow": {
     "slide_type": "subslide"
    }
   },
   "outputs": [],
   "source": [
    "class TraceNode:\n",
    "    def __init__(self, smt_val, parent, info):\n",
    "        # This is the smt that lead to this node\n",
    "        self._smt_val = z3.simplify(smt_val) if smt_val is not None else None\n",
    "\n",
    "        # This is the predicate that this node might perform at a future point\n",
    "        self.smt = None\n",
    "        self.info = info\n",
    "        self.parent = parent\n",
    "        self.children = {}\n",
    "        self.path = None\n",
    "        self.tree = None\n",
    "        self._pattern = None\n",
    "        self.log = True\n",
    "\n",
    "    def no(self): return self.children.get(self.tree.no_bit)\n",
    "\n",
    "    def yes(self): return self.children.get(self.tree.yes_bit)\n",
    "\n",
    "    def get_children(self): return (self.no(), self.yes())\n",
    "\n",
    "    def __str__(self):\n",
    "        return 'TraceNode[%s]' % ','.join(self.children.keys())"
   ]
  },
  {
   "cell_type": "markdown",
   "metadata": {
    "slideshow": {
     "slide_type": "subslide"
    }
   },
   "source": [
    "We add a `PlausibleChild` class to track the leaf nodes."
   ]
  },
  {
   "cell_type": "code",
   "execution_count": 242,
   "metadata": {
    "execution": {
     "iopub.execute_input": "2022-01-05T17:28:10.893024Z",
     "iopub.status.busy": "2022-01-05T17:28:10.892518Z",
     "iopub.status.idle": "2022-01-05T17:28:10.894567Z",
     "shell.execute_reply": "2022-01-05T17:28:10.894938Z"
    },
    "slideshow": {
     "slide_type": "fragment"
    }
   },
   "outputs": [],
   "source": [
    "class PlausibleChild:\n",
    "    def __init__(self, parent, cond, tree):\n",
    "        self.parent = parent\n",
    "        self.cond = cond\n",
    "        self.tree = tree\n",
    "        self._smt_val = None\n",
    "\n",
    "    def __repr__(self):\n",
    "        return 'PlausibleChild[%s]' % (self.parent.pattern() + ':' + self.cond)"
   ]
  },
  {
   "cell_type": "markdown",
   "metadata": {
    "slideshow": {
     "slide_type": "fragment"
    }
   },
   "source": [
    "When the leaf nodes are used to generate new paths, we expect its sibling `TraceNode` to have been already explored. Hence, we make use of the sibling's values for context `cc`, and the `smt_val` from the parent."
   ]
  },
  {
   "cell_type": "code",
   "execution_count": 243,
   "metadata": {
    "execution": {
     "iopub.execute_input": "2022-01-05T17:28:10.900680Z",
     "iopub.status.busy": "2022-01-05T17:28:10.899916Z",
     "iopub.status.idle": "2022-01-05T17:28:10.901659Z",
     "shell.execute_reply": "2022-01-05T17:28:10.902097Z"
    },
    "slideshow": {
     "slide_type": "subslide"
    }
   },
   "outputs": [],
   "source": [
    "class PlausibleChild(PlausibleChild):\n",
    "    def smt_val(self):\n",
    "        if self._smt_val is not None:\n",
    "            return self._smt_val\n",
    "        # if the parent has other children, then that child would have updatd the parent's smt\n",
    "        # Hence, we can use that child's smt_value's opposite as our value.\n",
    "        assert self.parent.smt is not None\n",
    "        if self.cond == self.tree.no_bit:\n",
    "            self._smt_val = z3.Not(self.parent.smt)\n",
    "        else:\n",
    "            self._smt_val = self.parent.smt\n",
    "        return self._smt_val\n",
    "\n",
    "    def cc(self):\n",
    "        if self.parent.info.get('cc') is not None:\n",
    "            return self.parent.info['cc']\n",
    "        # if there is a plausible child node, it means that there can\n",
    "        # be at most one child.\n",
    "        sibilings = list(self.parent.children.values())\n",
    "        assert len(sibilings) == 1\n",
    "        # We expect at the other child to have cc\n",
    "        return sibilings[0].info['cc']"
   ]
  },
  {
   "cell_type": "markdown",
   "metadata": {
    "slideshow": {
     "slide_type": "subslide"
    }
   },
   "source": [
    "The `PlausibleChild` instance is used to generate new paths to explore using `path_expression()`."
   ]
  },
  {
   "cell_type": "code",
   "execution_count": 244,
   "metadata": {
    "execution": {
     "iopub.execute_input": "2022-01-05T17:28:10.906324Z",
     "iopub.status.busy": "2022-01-05T17:28:10.905812Z",
     "iopub.status.idle": "2022-01-05T17:28:10.907625Z",
     "shell.execute_reply": "2022-01-05T17:28:10.907992Z"
    },
    "slideshow": {
     "slide_type": "fragment"
    }
   },
   "outputs": [],
   "source": [
    "class PlausibleChild(PlausibleChild):\n",
    "    def path_expression(self):\n",
    "        path_to_root = self.parent.get_path_to_root()\n",
    "        assert path_to_root[0]._smt_val is None\n",
    "        return [i._smt_val for i in path_to_root[1:]] + [self.smt_val()]"
   ]
  },
  {
   "cell_type": "markdown",
   "metadata": {
    "slideshow": {
     "slide_type": "fragment"
    }
   },
   "source": [
    "The `TraceTree` class helps us keep track of the binary tree. In the beginning, the root is a sentinel `TraceNode` instance, and simply have two plausible children as leaves. As soon as the first trace is added, one of the plausible children will become a true child."
   ]
  },
  {
   "cell_type": "code",
   "execution_count": 245,
   "metadata": {
    "execution": {
     "iopub.execute_input": "2022-01-05T17:28:10.912710Z",
     "iopub.status.busy": "2022-01-05T17:28:10.912170Z",
     "iopub.status.idle": "2022-01-05T17:28:10.913725Z",
     "shell.execute_reply": "2022-01-05T17:28:10.914090Z"
    },
    "slideshow": {
     "slide_type": "subslide"
    }
   },
   "outputs": [],
   "source": [
    "class TraceTree:\n",
    "    def __init__(self):\n",
    "        self.root = TraceNode(smt_val=None, parent=None, info={'num': 0})\n",
    "        self.root.tree = self\n",
    "        self.leaves = {}\n",
    "        self.no_bit, self.yes_bit = '0', '1'\n",
    "\n",
    "        pprefix = ':'\n",
    "        for bit in [self.no_bit, self.yes_bit]:\n",
    "            self.leaves[pprefix + bit] = PlausibleChild(self.root, bit, self)\n",
    "        self.completed_paths = {}"
   ]
  },
  {
   "cell_type": "markdown",
   "metadata": {
    "slideshow": {
     "slide_type": "fragment"
    }
   },
   "source": [
    "The `add_trace()` method of the `TraceTree` provides a way for new traces to be added. It is kept separate from the initialization as we might want to add more than one trace from the same function."
   ]
  },
  {
   "cell_type": "code",
   "execution_count": 246,
   "metadata": {
    "execution": {
     "iopub.execute_input": "2022-01-05T17:28:10.918886Z",
     "iopub.status.busy": "2022-01-05T17:28:10.918231Z",
     "iopub.status.idle": "2022-01-05T17:28:10.919877Z",
     "shell.execute_reply": "2022-01-05T17:28:10.920313Z"
    },
    "slideshow": {
     "slide_type": "subslide"
    }
   },
   "outputs": [],
   "source": [
    "class TraceTree(TraceTree):\n",
    "    def add_trace(self, tracer, string):\n",
    "        last = self.root\n",
    "        i = 0\n",
    "        for i, elt in enumerate(tracer.path):\n",
    "            last = last.add_child(elt=elt, i=i + 1, cc=tracer, string=string)\n",
    "        last.add_child(elt=z3.BoolVal(True), i=i + 1, cc=tracer, string=string)"
   ]
  },
  {
   "cell_type": "markdown",
   "metadata": {
    "slideshow": {
     "slide_type": "fragment"
    }
   },
   "source": [
    "To make `add_trace()` work, we need a little more infrastructure, that we define below.\n",
    "\n",
    "The `bit()` method translates a predicate to a bit that corresponds to the decision taken at each predicate. If the `if` branch is taken, the result is `1`, while `else` branch is indicated by `0`. The pattern indicates the bit-pattern of decisions required to reach the leaf from the root."
   ]
  },
  {
   "cell_type": "code",
   "execution_count": 247,
   "metadata": {
    "execution": {
     "iopub.execute_input": "2022-01-05T17:28:10.925385Z",
     "iopub.status.busy": "2022-01-05T17:28:10.924870Z",
     "iopub.status.idle": "2022-01-05T17:28:10.926513Z",
     "shell.execute_reply": "2022-01-05T17:28:10.926943Z"
    },
    "slideshow": {
     "slide_type": "subslide"
    }
   },
   "outputs": [],
   "source": [
    "class TraceNode(TraceNode):\n",
    "    def bit(self):\n",
    "        if self._smt_val is None:\n",
    "            return None\n",
    "        return self.tree.no_bit if self._smt_val.decl(\n",
    "        ).name() == 'not' else self.tree.yes_bit\n",
    "\n",
    "    def pattern(self):\n",
    "        if self._pattern is not None:\n",
    "            return self._pattern\n",
    "        path = self.get_path_to_root()\n",
    "        assert path[0]._smt_val is None\n",
    "        assert path[0].parent is None\n",
    "\n",
    "        self._pattern = ''.join([p.bit() for p in path[1:]])\n",
    "        return self._pattern"
   ]
  },
  {
   "cell_type": "markdown",
   "metadata": {
    "slideshow": {
     "slide_type": "subslide"
    }
   },
   "source": [
    "Each node knows how to add a new child, and get the path to root, which is cached.\n",
    "\n",
    "When we add a child to the root node, it means that there was a decision in the current node, and the child is the result of the decision. Hence, to get the decision being made, we simplify the `smt` expression, and check if it starts with `not`. If it does not start with a `not`, we interpret that as the current decision in the node. If it starts with `not`, then we interpret that `not(smt)` was the expression being evaluated in the current node.\n",
    "\n",
    "We know the first decision made only after going through the program at least once. As soon as the program is traversed, we update the parent with the decision that resulted in the current child."
   ]
  },
  {
   "cell_type": "code",
   "execution_count": 248,
   "metadata": {
    "execution": {
     "iopub.execute_input": "2022-01-05T17:28:10.935861Z",
     "iopub.status.busy": "2022-01-05T17:28:10.935283Z",
     "iopub.status.idle": "2022-01-05T17:28:10.936940Z",
     "shell.execute_reply": "2022-01-05T17:28:10.937516Z"
    },
    "slideshow": {
     "slide_type": "subslide"
    }
   },
   "outputs": [],
   "source": [
    "class TraceNode(TraceNode):\n",
    "    def add_child(self, elt, i, cc, string):\n",
    "        if elt == z3.BoolVal(True):\n",
    "            # No more exploration here. Simply unregister the leaves of *this*\n",
    "            # node and possibly register them in completed nodes, and exit\n",
    "            for bit in [self.tree.no_bit, self.tree.yes_bit]:\n",
    "                child_leaf = self.pattern() + ':' + bit\n",
    "                if child_leaf in self.tree.leaves:\n",
    "                    del self.tree.leaves[child_leaf]\n",
    "            self.tree.completed_paths[self.pattern()] = self\n",
    "            return None\n",
    "\n",
    "        child_node = TraceNode(smt_val=elt,\n",
    "                               parent=self,\n",
    "                               info={'num': i, 'cc': cc, 'string': string})\n",
    "        child_node.tree = self.tree\n",
    "\n",
    "        # bit represents the path that child took from this node.\n",
    "        bit = child_node.bit()\n",
    "\n",
    "        # first we update our smt decision\n",
    "        if bit == self.tree.yes_bit:  # yes, which means the smt can be used as is\n",
    "            if self.smt is not None:\n",
    "                assert self.smt == child_node._smt_val\n",
    "            else:\n",
    "                self.smt = child_node._smt_val\n",
    "        # no, which means we have to negate it to get the decision.\n",
    "        elif bit == self.tree.no_bit:\n",
    "            smt_ = z3.simplify(z3.Not(child_node._smt_val))\n",
    "            if self.smt is not None:\n",
    "                assert smt_ == self.smt\n",
    "            else:\n",
    "                self.smt = smt_\n",
    "        else:\n",
    "            assert False\n",
    "\n",
    "        if bit in self.children:\n",
    "            #    if self.log:\n",
    "            #print(elt, child_node.bit(), i, string)\n",
    "            #print(i,'overwriting', bit,'=>',self.children[bit],'with',child_node)\n",
    "            child_node = self.children[bit]\n",
    "            #self.children[bit] = child_node\n",
    "            #child_node.children = old.children\n",
    "        else:\n",
    "            self.children[bit] = child_node\n",
    "\n",
    "        # At this point, we have to unregister any leaves that correspond to this child from tree,\n",
    "        # and add the plausible children of this child as leaves to be explored. Note that\n",
    "        # if it is the end (z3.True), we do not have any more children.\n",
    "        child_leaf = self.pattern() + ':' + bit\n",
    "        if child_leaf in self.tree.leaves:\n",
    "            del self.tree.leaves[child_leaf]\n",
    "\n",
    "        pprefix = child_node.pattern() + ':'\n",
    "\n",
    "        # Plausible children.\n",
    "        for bit in [self.tree.no_bit, self.tree.yes_bit]:\n",
    "            self.tree.leaves[pprefix +\n",
    "                             bit] = PlausibleChild(child_node, bit, self.tree)\n",
    "        return child_node"
   ]
  },
  {
   "cell_type": "markdown",
   "metadata": {
    "slideshow": {
     "slide_type": "subslide"
    }
   },
   "source": [
    "The path to root from any node is computed once and cached."
   ]
  },
  {
   "cell_type": "code",
   "execution_count": 249,
   "metadata": {
    "execution": {
     "iopub.execute_input": "2022-01-05T17:28:10.941548Z",
     "iopub.status.busy": "2022-01-05T17:28:10.941039Z",
     "iopub.status.idle": "2022-01-05T17:28:10.942770Z",
     "shell.execute_reply": "2022-01-05T17:28:10.943137Z"
    },
    "slideshow": {
     "slide_type": "fragment"
    }
   },
   "outputs": [],
   "source": [
    "class TraceNode(TraceNode):\n",
    "    def get_path_to_root(self):\n",
    "        if self.path is not None:\n",
    "            return self.path\n",
    "        parent_path = []\n",
    "        if self.parent is not None:\n",
    "            parent_path = self.parent.get_path_to_root()\n",
    "        self.path = parent_path + [self]\n",
    "        return self.path"
   ]
  },
  {
   "cell_type": "markdown",
   "metadata": {
    "slideshow": {
     "slide_type": "subslide"
    }
   },
   "source": [
    "#### The SimpleConcolicFuzzer class"
   ]
  },
  {
   "cell_type": "markdown",
   "metadata": {
    "slideshow": {
     "slide_type": "fragment"
    }
   },
   "source": [
    "The `SimpleConcolicFuzzer` is defined with the `Fuzzer` interface. "
   ]
  },
  {
   "cell_type": "code",
   "execution_count": 250,
   "metadata": {
    "execution": {
     "iopub.execute_input": "2022-01-05T17:28:10.946971Z",
     "iopub.status.busy": "2022-01-05T17:28:10.946378Z",
     "iopub.status.idle": "2022-01-05T17:28:10.949009Z",
     "shell.execute_reply": "2022-01-05T17:28:10.948501Z"
    },
    "slideshow": {
     "slide_type": "fragment"
    }
   },
   "outputs": [],
   "source": [
    "class SimpleConcolicFuzzer(Fuzzer):\n",
    "    def __init__(self):\n",
    "        self.ct = TraceTree()\n",
    "        self.max_tries = 1000\n",
    "        self.last = None\n",
    "        self.last_idx = None"
   ]
  },
  {
   "cell_type": "markdown",
   "metadata": {
    "slideshow": {
     "slide_type": "fragment"
    }
   },
   "source": [
    "The `add_trace()` method we defined earlier is used as follows. First, we use a random string to generate the concolic trace."
   ]
  },
  {
   "cell_type": "code",
   "execution_count": 251,
   "metadata": {
    "execution": {
     "iopub.execute_input": "2022-01-05T17:28:10.953639Z",
     "iopub.status.busy": "2022-01-05T17:28:10.952966Z",
     "iopub.status.idle": "2022-01-05T17:28:10.956370Z",
     "shell.execute_reply": "2022-01-05T17:28:10.956741Z"
    },
    "slideshow": {
     "slide_type": "fragment"
    }
   },
   "outputs": [],
   "source": [
    "with ExpectTimeout(2):\n",
    "    with ConcolicTracer() as _:\n",
    "        _[hang_if_no_space]('ab d')"
   ]
  },
  {
   "cell_type": "markdown",
   "metadata": {
    "slideshow": {
     "slide_type": "fragment"
    }
   },
   "source": [
    "Next, we initialize and add this trace to the fuzzer."
   ]
  },
  {
   "cell_type": "code",
   "execution_count": 252,
   "metadata": {
    "execution": {
     "iopub.execute_input": "2022-01-05T17:28:10.961260Z",
     "iopub.status.busy": "2022-01-05T17:28:10.959828Z",
     "iopub.status.idle": "2022-01-05T17:28:10.964880Z",
     "shell.execute_reply": "2022-01-05T17:28:10.965313Z"
    },
    "slideshow": {
     "slide_type": "subslide"
    }
   },
   "outputs": [
    {
     "data": {
      "text/plain": [
       "[Not(str.substr(hang_if_no_space_s_str_1, 0, 1) == \" \"),\n",
       " Not(str.substr(hang_if_no_space_s_str_1, 1, 1) == \" \"),\n",
       " str.substr(hang_if_no_space_s_str_1, 2, 1) == \" \"]"
      ]
     },
     "execution_count": 252,
     "metadata": {},
     "output_type": "execute_result"
    }
   ],
   "source": [
    "_.path"
   ]
  },
  {
   "cell_type": "code",
   "execution_count": 253,
   "metadata": {
    "execution": {
     "iopub.execute_input": "2022-01-05T17:28:10.969398Z",
     "iopub.status.busy": "2022-01-05T17:28:10.968756Z",
     "iopub.status.idle": "2022-01-05T17:28:10.972180Z",
     "shell.execute_reply": "2022-01-05T17:28:10.972565Z"
    },
    "slideshow": {
     "slide_type": "fragment"
    }
   },
   "outputs": [],
   "source": [
    "scf = SimpleConcolicFuzzer()\n",
    "scf.ct.add_trace(_, 'ab d')"
   ]
  },
  {
   "cell_type": "markdown",
   "metadata": {
    "slideshow": {
     "slide_type": "fragment"
    }
   },
   "source": [
    "The path we added above can be obtained from the `TraceTree` as below."
   ]
  },
  {
   "cell_type": "code",
   "execution_count": 254,
   "metadata": {
    "execution": {
     "iopub.execute_input": "2022-01-05T17:28:10.976836Z",
     "iopub.status.busy": "2022-01-05T17:28:10.976169Z",
     "iopub.status.idle": "2022-01-05T17:28:10.980596Z",
     "shell.execute_reply": "2022-01-05T17:28:10.980982Z"
    },
    "slideshow": {
     "slide_type": "fragment"
    }
   },
   "outputs": [
    {
     "data": {
      "text/plain": [
       "[None,\n",
       " Not(str.substr(hang_if_no_space_s_str_1, 0, 1) == \" \"),\n",
       " Not(str.substr(hang_if_no_space_s_str_1, 1, 1) == \" \"),\n",
       " str.substr(hang_if_no_space_s_str_1, 2, 1) == \" \"]"
      ]
     },
     "execution_count": 254,
     "metadata": {},
     "output_type": "execute_result"
    }
   ],
   "source": [
    "[i._smt_val for i in scf.ct.root.get_children()[0].get_children()[\n",
    "    0].get_children()[1].get_path_to_root()]"
   ]
  },
  {
   "cell_type": "markdown",
   "metadata": {
    "slideshow": {
     "slide_type": "fragment"
    }
   },
   "source": [
    "Below are the registered leaves that we can explore at this moment."
   ]
  },
  {
   "cell_type": "code",
   "execution_count": 255,
   "metadata": {
    "execution": {
     "iopub.execute_input": "2022-01-05T17:28:10.984453Z",
     "iopub.status.busy": "2022-01-05T17:28:10.983869Z",
     "iopub.status.idle": "2022-01-05T17:28:10.986032Z",
     "shell.execute_reply": "2022-01-05T17:28:10.986609Z"
    },
    "slideshow": {
     "slide_type": "subslide"
    }
   },
   "outputs": [
    {
     "name": "stdout",
     "output_type": "stream",
     "text": [
      ":1 \t PlausibleChild[:1]\n",
      "0:1 \t PlausibleChild[0:1]\n",
      "00:0 \t PlausibleChild[00:0]\n"
     ]
    }
   ],
   "source": [
    "for key in scf.ct.leaves:\n",
    "    print(key, '\\t', scf.ct.leaves[key])"
   ]
  },
  {
   "cell_type": "markdown",
   "metadata": {
    "slideshow": {
     "slide_type": "fragment"
    }
   },
   "source": [
    "Next, we need a way to visualize the constructed tree."
   ]
  },
  {
   "cell_type": "code",
   "execution_count": 256,
   "metadata": {
    "execution": {
     "iopub.execute_input": "2022-01-05T17:28:10.989754Z",
     "iopub.status.busy": "2022-01-05T17:28:10.989154Z",
     "iopub.status.idle": "2022-01-05T17:28:10.990558Z",
     "shell.execute_reply": "2022-01-05T17:28:10.991072Z"
    },
    "slideshow": {
     "slide_type": "skip"
    }
   },
   "outputs": [],
   "source": [
    "from GrammarFuzzer import display_tree"
   ]
  },
  {
   "cell_type": "code",
   "execution_count": 257,
   "metadata": {
    "execution": {
     "iopub.execute_input": "2022-01-05T17:28:10.993898Z",
     "iopub.status.busy": "2022-01-05T17:28:10.993394Z",
     "iopub.status.idle": "2022-01-05T17:28:10.995071Z",
     "shell.execute_reply": "2022-01-05T17:28:10.995433Z"
    },
    "slideshow": {
     "slide_type": "fragment"
    }
   },
   "outputs": [],
   "source": [
    "TREE_NODES = {}"
   ]
  },
  {
   "cell_type": "code",
   "execution_count": 258,
   "metadata": {
    "execution": {
     "iopub.execute_input": "2022-01-05T17:28:11.000599Z",
     "iopub.status.busy": "2022-01-05T17:28:10.999781Z",
     "iopub.status.idle": "2022-01-05T17:28:11.001850Z",
     "shell.execute_reply": "2022-01-05T17:28:11.002493Z"
    },
    "slideshow": {
     "slide_type": "subslide"
    }
   },
   "outputs": [],
   "source": [
    "def my_extract_node(tnode, id):\n",
    "    key, node, parent = tnode\n",
    "    if node is None:\n",
    "        # return '? (%s:%s)' % (parent.pattern(), key) , [], ''\n",
    "        return '?', [], ''\n",
    "    if node.smt is None:\n",
    "        return '* %s' % node.info.get('string', ''), [], ''\n",
    "\n",
    "    no, yes = node.get_children()\n",
    "    num = str(node.info.get('num'))\n",
    "    children = [('0', no, node), ('1', yes, node)]\n",
    "    TREE_NODES[id] = 0\n",
    "    return \"(%s) %s\" % (num, str(node.smt)), children, ''"
   ]
  },
  {
   "cell_type": "code",
   "execution_count": 259,
   "metadata": {
    "execution": {
     "iopub.execute_input": "2022-01-05T17:28:11.007864Z",
     "iopub.status.busy": "2022-01-05T17:28:11.007141Z",
     "iopub.status.idle": "2022-01-05T17:28:11.008956Z",
     "shell.execute_reply": "2022-01-05T17:28:11.009323Z"
    },
    "slideshow": {
     "slide_type": "subslide"
    }
   },
   "outputs": [],
   "source": [
    "def my_edge_attr(dot, start_node, stop_node):\n",
    "    # the edges are always drawn '0:NO' first.\n",
    "    if TREE_NODES[start_node] == 0:\n",
    "        color, label = 'red', '0'\n",
    "        TREE_NODES[start_node] = 1\n",
    "    else:\n",
    "        color, label = 'blue', '1'\n",
    "        TREE_NODES[start_node] = 2\n",
    "    dot.edge(repr(start_node), repr(stop_node), color=color, label=label)"
   ]
  },
  {
   "cell_type": "code",
   "execution_count": 260,
   "metadata": {
    "execution": {
     "iopub.execute_input": "2022-01-05T17:28:11.012898Z",
     "iopub.status.busy": "2022-01-05T17:28:11.012332Z",
     "iopub.status.idle": "2022-01-05T17:28:11.013932Z",
     "shell.execute_reply": "2022-01-05T17:28:11.014295Z"
    },
    "slideshow": {
     "slide_type": "fragment"
    }
   },
   "outputs": [],
   "source": [
    "def display_trace_tree(root):\n",
    "    TREE_NODES.clear()\n",
    "    return display_tree(\n",
    "        ('', root, None), extract_node=my_extract_node, edge_attr=my_edge_attr)"
   ]
  },
  {
   "cell_type": "code",
   "execution_count": 261,
   "metadata": {
    "execution": {
     "iopub.execute_input": "2022-01-05T17:28:11.017919Z",
     "iopub.status.busy": "2022-01-05T17:28:11.017361Z",
     "iopub.status.idle": "2022-01-05T17:28:11.466396Z",
     "shell.execute_reply": "2022-01-05T17:28:11.466841Z"
    },
    "slideshow": {
     "slide_type": "fragment"
    }
   },
   "outputs": [
    {
     "data": {
      "image/svg+xml": "<?xml version=\"1.0\" encoding=\"UTF-8\" standalone=\"no\"?>\n<!DOCTYPE svg PUBLIC \"-//W3C//DTD SVG 1.1//EN\"\n \"http://www.w3.org/Graphics/SVG/1.1/DTD/svg11.dtd\">\n<!-- Generated by graphviz version 2.50.0 (20211204.2007)\n -->\n<!-- Pages: 1 -->\n<svg width=\"466pt\" height=\"221pt\"\n viewBox=\"0.00 0.00 466.00 221.00\" xmlns=\"http://www.w3.org/2000/svg\" xmlns:xlink=\"http://www.w3.org/1999/xlink\">\n<g id=\"graph0\" class=\"graph\" transform=\"scale(1 1) rotate(0) translate(4 217)\">\n<polygon fill=\"white\" stroke=\"transparent\" points=\"-4,4 -4,-217 462,-217 462,4 -4,4\"/>\n<!-- 0 -->\n<g id=\"node1\" class=\"node\">\n<title>0</title>\n<text text-anchor=\"middle\" x=\"313\" y=\"-201.8\" font-family=\"Times,serif\" font-size=\"14.00\">(0) str.substr(hang_if_no_space_s_str_1, 0, 1) == &quot; &quot;</text>\n</g>\n<!-- 1 -->\n<g id=\"node2\" class=\"node\">\n<title>1</title>\n<text text-anchor=\"middle\" x=\"229\" y=\"-135.8\" font-family=\"Times,serif\" font-size=\"14.00\">(1) str.substr(hang_if_no_space_s_str_1, 1, 1) == &quot; &quot;</text>\n</g>\n<!-- 0&#45;&gt;1 -->\n<g id=\"edge1\" class=\"edge\">\n<title>0&#45;&gt;1</title>\n<path fill=\"none\" stroke=\"red\" d=\"M304.33,-197.89C290.62,-187.45 263.7,-166.93 246.03,-153.47\"/>\n<polygon fill=\"red\" stroke=\"red\" points=\"247.83,-150.44 237.75,-147.17 243.58,-156.01 247.83,-150.44\"/>\n<text text-anchor=\"middle\" x=\"282.5\" y=\"-168.8\" font-family=\"Times,serif\" font-size=\"14.00\">0</text>\n</g>\n<!-- 6 -->\n<g id=\"node7\" class=\"node\">\n<title>6</title>\n<text text-anchor=\"middle\" x=\"396\" y=\"-135.8\" font-family=\"Times,serif\" font-size=\"14.00\">?</text>\n</g>\n<!-- 0&#45;&gt;6 -->\n<g id=\"edge6\" class=\"edge\">\n<title>0&#45;&gt;6</title>\n<path fill=\"none\" stroke=\"blue\" d=\"M321.57,-197.89C336.53,-186.36 367.41,-162.54 384.32,-149.51\"/>\n<polygon fill=\"blue\" stroke=\"blue\" points=\"386.65,-152.13 392.43,-143.26 382.37,-146.59 386.65,-152.13\"/>\n<text text-anchor=\"middle\" x=\"365.5\" y=\"-168.8\" font-family=\"Times,serif\" font-size=\"14.00\">1</text>\n</g>\n<!-- 2 -->\n<g id=\"node3\" class=\"node\">\n<title>2</title>\n<text text-anchor=\"middle\" x=\"145\" y=\"-69.8\" font-family=\"Times,serif\" font-size=\"14.00\">(2) str.substr(hang_if_no_space_s_str_1, 2, 1) == &quot; &quot;</text>\n</g>\n<!-- 1&#45;&gt;2 -->\n<g id=\"edge2\" class=\"edge\">\n<title>1&#45;&gt;2</title>\n<path fill=\"none\" stroke=\"red\" d=\"M220.33,-131.89C206.62,-121.45 179.7,-100.93 162.03,-87.47\"/>\n<polygon fill=\"red\" stroke=\"red\" points=\"163.83,-84.44 153.75,-81.17 159.58,-90.01 163.83,-84.44\"/>\n<text text-anchor=\"middle\" x=\"198.5\" y=\"-102.8\" font-family=\"Times,serif\" font-size=\"14.00\">0</text>\n</g>\n<!-- 5 -->\n<g id=\"node6\" class=\"node\">\n<title>5</title>\n<text text-anchor=\"middle\" x=\"312\" y=\"-69.8\" font-family=\"Times,serif\" font-size=\"14.00\">?</text>\n</g>\n<!-- 1&#45;&gt;5 -->\n<g id=\"edge5\" class=\"edge\">\n<title>1&#45;&gt;5</title>\n<path fill=\"none\" stroke=\"blue\" d=\"M237.57,-131.89C252.53,-120.36 283.41,-96.54 300.32,-83.51\"/>\n<polygon fill=\"blue\" stroke=\"blue\" points=\"302.65,-86.13 308.43,-77.26 298.37,-80.59 302.65,-86.13\"/>\n<text text-anchor=\"middle\" x=\"281.5\" y=\"-102.8\" font-family=\"Times,serif\" font-size=\"14.00\">1</text>\n</g>\n<!-- 3 -->\n<g id=\"node4\" class=\"node\">\n<title>3</title>\n<text text-anchor=\"middle\" x=\"126\" y=\"-3.8\" font-family=\"Times,serif\" font-size=\"14.00\">?</text>\n</g>\n<!-- 2&#45;&gt;3 -->\n<g id=\"edge3\" class=\"edge\">\n<title>2&#45;&gt;3</title>\n<path fill=\"none\" stroke=\"red\" d=\"M142.29,-65.7C140.39,-60.82 137.87,-54.06 136,-48 133.7,-40.55 131.52,-32.19 129.79,-25.09\"/>\n<polygon fill=\"red\" stroke=\"red\" points=\"133.18,-24.2 127.49,-15.27 126.37,-25.8 133.18,-24.2\"/>\n<text text-anchor=\"middle\" x=\"139.5\" y=\"-36.8\" font-family=\"Times,serif\" font-size=\"14.00\">0</text>\n</g>\n<!-- 4 -->\n<g id=\"node5\" class=\"node\">\n<title>4</title>\n<text text-anchor=\"middle\" x=\"165\" y=\"-3.8\" font-family=\"Times,serif\" font-size=\"14.00\">* ab d</text>\n</g>\n<!-- 2&#45;&gt;4 -->\n<g id=\"edge4\" class=\"edge\">\n<title>2&#45;&gt;4</title>\n<path fill=\"none\" stroke=\"blue\" d=\"M147.14,-65.65C150.16,-55.98 155.78,-38.02 159.9,-24.81\"/>\n<polygon fill=\"blue\" stroke=\"blue\" points=\"163.29,-25.7 162.93,-15.11 156.61,-23.61 163.29,-25.7\"/>\n<text text-anchor=\"middle\" x=\"160.5\" y=\"-36.8\" font-family=\"Times,serif\" font-size=\"14.00\">1</text>\n</g>\n</g>\n</svg>\n",
      "text/plain": [
       "<graphviz.graphs.Digraph at 0x167e718e0>"
      ]
     },
     "execution_count": 261,
     "metadata": {},
     "output_type": "execute_result"
    }
   ],
   "source": [
    "display_trace_tree(scf.ct.root)"
   ]
  },
  {
   "cell_type": "markdown",
   "metadata": {
    "slideshow": {
     "slide_type": "subslide"
    }
   },
   "source": [
    "For example, the pattern `00:0` corresponds to the following predicates."
   ]
  },
  {
   "cell_type": "code",
   "execution_count": 262,
   "metadata": {
    "execution": {
     "iopub.execute_input": "2022-01-05T17:28:11.471419Z",
     "iopub.status.busy": "2022-01-05T17:28:11.470811Z",
     "iopub.status.idle": "2022-01-05T17:28:11.473870Z",
     "shell.execute_reply": "2022-01-05T17:28:11.474810Z"
    },
    "slideshow": {
     "slide_type": "fragment"
    }
   },
   "outputs": [
    {
     "data": {
      "text/plain": [
       "PlausibleChild[00:0]"
      ]
     },
     "execution_count": 262,
     "metadata": {},
     "output_type": "execute_result"
    }
   ],
   "source": [
    "scf.ct.leaves['00:0']"
   ]
  },
  {
   "cell_type": "code",
   "execution_count": 263,
   "metadata": {
    "execution": {
     "iopub.execute_input": "2022-01-05T17:28:11.478865Z",
     "iopub.status.busy": "2022-01-05T17:28:11.478279Z",
     "iopub.status.idle": "2022-01-05T17:28:11.483845Z",
     "shell.execute_reply": "2022-01-05T17:28:11.484338Z"
    },
    "slideshow": {
     "slide_type": "fragment"
    }
   },
   "outputs": [
    {
     "data": {
      "text/plain": [
       "[Not(str.substr(hang_if_no_space_s_str_1, 0, 1) == \" \"),\n",
       " Not(str.substr(hang_if_no_space_s_str_1, 1, 1) == \" \"),\n",
       " Not(str.substr(hang_if_no_space_s_str_1, 2, 1) == \" \")]"
      ]
     },
     "execution_count": 263,
     "metadata": {},
     "output_type": "execute_result"
    }
   ],
   "source": [
    "scf.ct.leaves['00:0'].path_expression()"
   ]
  },
  {
   "cell_type": "markdown",
   "metadata": {
    "slideshow": {
     "slide_type": "fragment"
    }
   },
   "source": [
    "Similarly the pattern `:1` corresponds to the following predicates."
   ]
  },
  {
   "cell_type": "code",
   "execution_count": 264,
   "metadata": {
    "execution": {
     "iopub.execute_input": "2022-01-05T17:28:11.488040Z",
     "iopub.status.busy": "2022-01-05T17:28:11.487527Z",
     "iopub.status.idle": "2022-01-05T17:28:11.489709Z",
     "shell.execute_reply": "2022-01-05T17:28:11.490071Z"
    },
    "slideshow": {
     "slide_type": "fragment"
    }
   },
   "outputs": [
    {
     "data": {
      "text/plain": [
       "PlausibleChild[:1]"
      ]
     },
     "execution_count": 264,
     "metadata": {},
     "output_type": "execute_result"
    }
   ],
   "source": [
    "scf.ct.leaves[':1']"
   ]
  },
  {
   "cell_type": "code",
   "execution_count": 265,
   "metadata": {
    "execution": {
     "iopub.execute_input": "2022-01-05T17:28:11.493376Z",
     "iopub.status.busy": "2022-01-05T17:28:11.492856Z",
     "iopub.status.idle": "2022-01-05T17:28:11.496294Z",
     "shell.execute_reply": "2022-01-05T17:28:11.496677Z"
    },
    "slideshow": {
     "slide_type": "fragment"
    }
   },
   "outputs": [
    {
     "data": {
      "text/plain": [
       "[str.substr(hang_if_no_space_s_str_1, 0, 1) == \" \"]"
      ]
     },
     "execution_count": 265,
     "metadata": {},
     "output_type": "execute_result"
    }
   ],
   "source": [
    "scf.ct.leaves[':1'].path_expression()"
   ]
  },
  {
   "cell_type": "markdown",
   "metadata": {
    "slideshow": {
     "slide_type": "subslide"
    }
   },
   "source": [
    "We can now generate the next input to be generated by looking for the a leaf that is incompletely explored. The idea is to collect all leaf nodes, and choose one at random."
   ]
  },
  {
   "cell_type": "code",
   "execution_count": 266,
   "metadata": {
    "execution": {
     "iopub.execute_input": "2022-01-05T17:28:11.500980Z",
     "iopub.status.busy": "2022-01-05T17:28:11.500461Z",
     "iopub.status.idle": "2022-01-05T17:28:11.502275Z",
     "shell.execute_reply": "2022-01-05T17:28:11.502649Z"
    },
    "slideshow": {
     "slide_type": "fragment"
    }
   },
   "outputs": [],
   "source": [
    "class SimpleConcolicFuzzer(SimpleConcolicFuzzer):\n",
    "    def add_trace(self, trace, s):\n",
    "        self.ct.add_trace(trace, s)\n",
    "\n",
    "    def next_choice(self):\n",
    "        #lst = sorted(list(self.ct.leaves.keys()), key=len)\n",
    "        c = random.choice(list(self.ct.leaves.keys()))\n",
    "        #c = lst[0]\n",
    "        return self.ct.leaves[c]"
   ]
  },
  {
   "cell_type": "markdown",
   "metadata": {
    "slideshow": {
     "slide_type": "fragment"
    }
   },
   "source": [
    "We use the `next_choice()` as follows."
   ]
  },
  {
   "cell_type": "code",
   "execution_count": 267,
   "metadata": {
    "execution": {
     "iopub.execute_input": "2022-01-05T17:28:11.506419Z",
     "iopub.status.busy": "2022-01-05T17:28:11.505827Z",
     "iopub.status.idle": "2022-01-05T17:28:11.509830Z",
     "shell.execute_reply": "2022-01-05T17:28:11.510202Z"
    },
    "slideshow": {
     "slide_type": "subslide"
    }
   },
   "outputs": [],
   "source": [
    "scf = SimpleConcolicFuzzer()\n",
    "scf.add_trace(_, 'ab d')\n",
    "node = scf.next_choice()"
   ]
  },
  {
   "cell_type": "code",
   "execution_count": 268,
   "metadata": {
    "execution": {
     "iopub.execute_input": "2022-01-05T17:28:11.513614Z",
     "iopub.status.busy": "2022-01-05T17:28:11.513076Z",
     "iopub.status.idle": "2022-01-05T17:28:11.515308Z",
     "shell.execute_reply": "2022-01-05T17:28:11.515673Z"
    },
    "slideshow": {
     "slide_type": "fragment"
    }
   },
   "outputs": [
    {
     "data": {
      "text/plain": [
       "PlausibleChild[00:0]"
      ]
     },
     "execution_count": 268,
     "metadata": {},
     "output_type": "execute_result"
    }
   ],
   "source": [
    "node"
   ]
  },
  {
   "cell_type": "code",
   "execution_count": 269,
   "metadata": {
    "execution": {
     "iopub.execute_input": "2022-01-05T17:28:11.519027Z",
     "iopub.status.busy": "2022-01-05T17:28:11.518516Z",
     "iopub.status.idle": "2022-01-05T17:28:11.523151Z",
     "shell.execute_reply": "2022-01-05T17:28:11.523515Z"
    },
    "slideshow": {
     "slide_type": "fragment"
    }
   },
   "outputs": [
    {
     "data": {
      "text/plain": [
       "[Not(str.substr(hang_if_no_space_s_str_1, 0, 1) == \" \"),\n",
       " Not(str.substr(hang_if_no_space_s_str_1, 1, 1) == \" \"),\n",
       " Not(str.substr(hang_if_no_space_s_str_1, 2, 1) == \" \")]"
      ]
     },
     "execution_count": 269,
     "metadata": {},
     "output_type": "execute_result"
    }
   ],
   "source": [
    "node.path_expression()"
   ]
  },
  {
   "cell_type": "markdown",
   "metadata": {
    "slideshow": {
     "slide_type": "fragment"
    }
   },
   "source": [
    "We get the next choice for exploration, and expand the path expression, and return it together with a context using `get_newpath()`"
   ]
  },
  {
   "cell_type": "code",
   "execution_count": 270,
   "metadata": {
    "execution": {
     "iopub.execute_input": "2022-01-05T17:28:11.527196Z",
     "iopub.status.busy": "2022-01-05T17:28:11.526685Z",
     "iopub.status.idle": "2022-01-05T17:28:11.528513Z",
     "shell.execute_reply": "2022-01-05T17:28:11.528889Z"
    },
    "slideshow": {
     "slide_type": "subslide"
    }
   },
   "outputs": [],
   "source": [
    "class SimpleConcolicFuzzer(SimpleConcolicFuzzer):\n",
    "    def get_newpath(self):\n",
    "        node = self.next_choice()\n",
    "        path = node.path_expression()\n",
    "        return path, node.cc()"
   ]
  },
  {
   "cell_type": "code",
   "execution_count": 271,
   "metadata": {
    "execution": {
     "iopub.execute_input": "2022-01-05T17:28:11.532445Z",
     "iopub.status.busy": "2022-01-05T17:28:11.531933Z",
     "iopub.status.idle": "2022-01-05T17:28:11.536729Z",
     "shell.execute_reply": "2022-01-05T17:28:11.537094Z"
    },
    "slideshow": {
     "slide_type": "fragment"
    }
   },
   "outputs": [
    {
     "data": {
      "text/plain": [
       "[str.substr(hang_if_no_space_s_str_1, 0, 1) == \" \"]"
      ]
     },
     "execution_count": 271,
     "metadata": {},
     "output_type": "execute_result"
    }
   ],
   "source": [
    "scf = SimpleConcolicFuzzer()\n",
    "scf.add_trace(_, 'abcd')\n",
    "path, cc = scf.get_newpath()\n",
    "path"
   ]
  },
  {
   "cell_type": "markdown",
   "metadata": {
    "slideshow": {
     "slide_type": "subslide"
    }
   },
   "source": [
    "#### The fuzzing method\n",
    "\n",
    "The `fuzz()` method simply generates new lists of predicates, and solves them to produce new inputs."
   ]
  },
  {
   "cell_type": "code",
   "execution_count": 272,
   "metadata": {
    "execution": {
     "iopub.execute_input": "2022-01-05T17:28:11.542782Z",
     "iopub.status.busy": "2022-01-05T17:28:11.542260Z",
     "iopub.status.idle": "2022-01-05T17:28:11.543911Z",
     "shell.execute_reply": "2022-01-05T17:28:11.544283Z"
    },
    "slideshow": {
     "slide_type": "subslide"
    }
   },
   "outputs": [],
   "source": [
    "class SimpleConcolicFuzzer(SimpleConcolicFuzzer):\n",
    "    def fuzz(self):\n",
    "        if self.ct.root.children == {}:\n",
    "            # a random value to generate comparisons. This would be\n",
    "            # the initial value around which we explore with concolic\n",
    "            # fuzzing.\n",
    "            return ' '\n",
    "        for i in range(self.max_tries):\n",
    "            path, last = self.get_newpath()\n",
    "            s, v = zeval_smt(path, last, log=False)\n",
    "            if s != 'sat':\n",
    "                # raise Exception(\"Unexpected UNSAT\")\n",
    "                continue\n",
    "\n",
    "            val = list(v.values())[0]\n",
    "            elt, typ = val\n",
    "\n",
    "            # make sure that we do not retry the tried paths\n",
    "            # The tracer we add here is incomplete. This gets updated when\n",
    "            # the add_trace is called from the concolic fuzzer context.\n",
    "            # self.add_trace(ConcolicTracer((last.decls, path)), elt)\n",
    "            if typ == 'Int':\n",
    "                if len(elt) == 2 and elt[0] == '-':  # negative numbers are [-, x]\n",
    "                    return -1*int(elt[1])\n",
    "                return int(elt)\n",
    "            elif typ == 'String':\n",
    "                return elt\n",
    "            return elt\n",
    "        return None"
   ]
  },
  {
   "cell_type": "markdown",
   "metadata": {
    "slideshow": {
     "slide_type": "subslide"
    }
   },
   "source": [
    "### End of Excursion"
   ]
  },
  {
   "cell_type": "markdown",
   "metadata": {
    "slideshow": {
     "slide_type": "fragment"
    }
   },
   "source": [
    "To illustrate `SimpleConcolicFuzzer`, let us apply it on our example program `cgi_decode()` from the `Coverage` chapter. Note that we cannot use it directly as the hash lookups in `hex_values` can not be used for transferring constraints yet."
   ]
  },
  {
   "cell_type": "code",
   "execution_count": 273,
   "metadata": {
    "execution": {
     "iopub.execute_input": "2022-01-05T17:28:11.547767Z",
     "iopub.status.busy": "2022-01-05T17:28:11.547259Z",
     "iopub.status.idle": "2022-01-05T17:28:11.550657Z",
     "shell.execute_reply": "2022-01-05T17:28:11.551022Z"
    },
    "slideshow": {
     "slide_type": "fragment"
    }
   },
   "outputs": [],
   "source": [
    "with ConcolicTracer() as _:\n",
    "    _[cgi_decode]('a+c')"
   ]
  },
  {
   "cell_type": "code",
   "execution_count": 274,
   "metadata": {
    "execution": {
     "iopub.execute_input": "2022-01-05T17:28:11.554273Z",
     "iopub.status.busy": "2022-01-05T17:28:11.553760Z",
     "iopub.status.idle": "2022-01-05T17:28:11.557779Z",
     "shell.execute_reply": "2022-01-05T17:28:11.558147Z"
    },
    "slideshow": {
     "slide_type": "fragment"
    }
   },
   "outputs": [],
   "source": [
    "scf = SimpleConcolicFuzzer()\n",
    "scf.add_trace(_, 'a+c')"
   ]
  },
  {
   "cell_type": "markdown",
   "metadata": {
    "slideshow": {
     "slide_type": "fragment"
    }
   },
   "source": [
    "The _trace tree_ shows the path conditions encountered so far. Any blue edge towards a \"?\" implies that there is a path not yet taken."
   ]
  },
  {
   "cell_type": "code",
   "execution_count": 275,
   "metadata": {
    "execution": {
     "iopub.execute_input": "2022-01-05T17:28:11.561675Z",
     "iopub.status.busy": "2022-01-05T17:28:11.561023Z",
     "iopub.status.idle": "2022-01-05T17:28:11.995565Z",
     "shell.execute_reply": "2022-01-05T17:28:11.996105Z"
    },
    "slideshow": {
     "slide_type": "fragment"
    }
   },
   "outputs": [
    {
     "data": {
      "image/svg+xml": "<?xml version=\"1.0\" encoding=\"UTF-8\" standalone=\"no\"?>\n<!DOCTYPE svg PUBLIC \"-//W3C//DTD SVG 1.1//EN\"\n \"http://www.w3.org/Graphics/SVG/1.1/DTD/svg11.dtd\">\n<!-- Generated by graphviz version 2.50.0 (20211204.2007)\n -->\n<!-- Pages: 1 -->\n<svg width=\"419pt\" height=\"353pt\"\n viewBox=\"0.00 0.00 419.00 353.00\" xmlns=\"http://www.w3.org/2000/svg\" xmlns:xlink=\"http://www.w3.org/1999/xlink\">\n<g id=\"graph0\" class=\"graph\" transform=\"scale(1 1) rotate(0) translate(4 349)\">\n<polygon fill=\"white\" stroke=\"transparent\" points=\"-4,4 -4,-349 415,-349 415,4 -4,4\"/>\n<!-- 0 -->\n<g id=\"node1\" class=\"node\">\n<title>0</title>\n<text text-anchor=\"middle\" x=\"282\" y=\"-333.8\" font-family=\"Times,serif\" font-size=\"14.00\">(0) str.substr(cgi_decode_s_str_1, 0, 1) == &quot;+&quot;</text>\n</g>\n<!-- 1 -->\n<g id=\"node2\" class=\"node\">\n<title>1</title>\n<text text-anchor=\"middle\" x=\"205\" y=\"-267.8\" font-family=\"Times,serif\" font-size=\"14.00\">(1) str.substr(cgi_decode_s_str_1, 0, 1) == &quot;%&quot;</text>\n</g>\n<!-- 0&#45;&gt;1 -->\n<g id=\"edge1\" class=\"edge\">\n<title>0&#45;&gt;1</title>\n<path fill=\"none\" stroke=\"red\" d=\"M274.05,-329.89C261.6,-319.54 237.26,-299.31 221.06,-285.85\"/>\n<polygon fill=\"red\" stroke=\"red\" points=\"222.95,-282.87 213.02,-279.17 218.48,-288.25 222.95,-282.87\"/>\n<text text-anchor=\"middle\" x=\"254.5\" y=\"-300.8\" font-family=\"Times,serif\" font-size=\"14.00\">0</text>\n</g>\n<!-- 10 -->\n<g id=\"node11\" class=\"node\">\n<title>10</title>\n<text text-anchor=\"middle\" x=\"358\" y=\"-267.8\" font-family=\"Times,serif\" font-size=\"14.00\">?</text>\n</g>\n<!-- 0&#45;&gt;10 -->\n<g id=\"edge10\" class=\"edge\">\n<title>0&#45;&gt;10</title>\n<path fill=\"none\" stroke=\"blue\" d=\"M289.85,-329.89C303.29,-318.57 330.78,-295.42 346.43,-282.24\"/>\n<polygon fill=\"blue\" stroke=\"blue\" points=\"349.01,-284.64 354.41,-275.52 344.51,-279.29 349.01,-284.64\"/>\n<text text-anchor=\"middle\" x=\"330.5\" y=\"-300.8\" font-family=\"Times,serif\" font-size=\"14.00\">1</text>\n</g>\n<!-- 2 -->\n<g id=\"node3\" class=\"node\">\n<title>2</title>\n<text text-anchor=\"middle\" x=\"129\" y=\"-201.8\" font-family=\"Times,serif\" font-size=\"14.00\">(2) str.substr(cgi_decode_s_str_1, 1, 1) == &quot;+&quot;</text>\n</g>\n<!-- 1&#45;&gt;2 -->\n<g id=\"edge2\" class=\"edge\">\n<title>1&#45;&gt;2</title>\n<path fill=\"none\" stroke=\"red\" d=\"M197.15,-263.89C184.87,-253.54 160.84,-233.31 144.85,-219.85\"/>\n<polygon fill=\"red\" stroke=\"red\" points=\"146.82,-216.93 136.92,-213.17 142.31,-222.29 146.82,-216.93\"/>\n<text text-anchor=\"middle\" x=\"177.5\" y=\"-234.8\" font-family=\"Times,serif\" font-size=\"14.00\">0</text>\n</g>\n<!-- 9 -->\n<g id=\"node10\" class=\"node\">\n<title>9</title>\n<text text-anchor=\"middle\" x=\"280\" y=\"-201.8\" font-family=\"Times,serif\" font-size=\"14.00\">?</text>\n</g>\n<!-- 1&#45;&gt;9 -->\n<g id=\"edge9\" class=\"edge\">\n<title>1&#45;&gt;9</title>\n<path fill=\"none\" stroke=\"blue\" d=\"M212.74,-263.89C226.01,-252.57 253.14,-229.42 268.58,-216.24\"/>\n<polygon fill=\"blue\" stroke=\"blue\" points=\"271.12,-218.68 276.46,-209.52 266.58,-213.35 271.12,-218.68\"/>\n<text text-anchor=\"middle\" x=\"253.5\" y=\"-234.8\" font-family=\"Times,serif\" font-size=\"14.00\">1</text>\n</g>\n<!-- 3 -->\n<g id=\"node4\" class=\"node\">\n<title>3</title>\n<text text-anchor=\"middle\" x=\"114\" y=\"-135.8\" font-family=\"Times,serif\" font-size=\"14.00\">?</text>\n</g>\n<!-- 2&#45;&gt;3 -->\n<g id=\"edge3\" class=\"edge\">\n<title>2&#45;&gt;3</title>\n<path fill=\"none\" stroke=\"red\" d=\"M127.39,-197.65C125.15,-188.07 121,-170.38 117.91,-157.2\"/>\n<polygon fill=\"red\" stroke=\"red\" points=\"121.24,-156.05 115.55,-147.11 114.42,-157.64 121.24,-156.05\"/>\n<text text-anchor=\"middle\" x=\"126.5\" y=\"-168.8\" font-family=\"Times,serif\" font-size=\"14.00\">0</text>\n</g>\n<!-- 4 -->\n<g id=\"node5\" class=\"node\">\n<title>4</title>\n<text text-anchor=\"middle\" x=\"265\" y=\"-135.8\" font-family=\"Times,serif\" font-size=\"14.00\">(3) str.substr(cgi_decode_s_str_1, 2, 1) == &quot;+&quot;</text>\n</g>\n<!-- 2&#45;&gt;4 -->\n<g id=\"edge4\" class=\"edge\">\n<title>2&#45;&gt;4</title>\n<path fill=\"none\" stroke=\"blue\" d=\"M143.04,-197.89C166.35,-186.92 213.28,-164.84 241.64,-151.49\"/>\n<polygon fill=\"blue\" stroke=\"blue\" points=\"243.27,-154.59 250.83,-147.17 240.29,-148.26 243.27,-154.59\"/>\n<text text-anchor=\"middle\" x=\"213.5\" y=\"-168.8\" font-family=\"Times,serif\" font-size=\"14.00\">1</text>\n</g>\n<!-- 5 -->\n<g id=\"node6\" class=\"node\">\n<title>5</title>\n<text text-anchor=\"middle\" x=\"157\" y=\"-69.8\" font-family=\"Times,serif\" font-size=\"14.00\">(4) str.substr(cgi_decode_s_str_1, 2, 1) == &quot;%&quot;</text>\n</g>\n<!-- 4&#45;&gt;5 -->\n<g id=\"edge5\" class=\"edge\">\n<title>4&#45;&gt;5</title>\n<path fill=\"none\" stroke=\"red\" d=\"M253.85,-131.89C235.74,-121.16 199.69,-99.8 177.05,-86.38\"/>\n<polygon fill=\"red\" stroke=\"red\" points=\"178.64,-83.26 168.25,-81.17 175.07,-89.28 178.64,-83.26\"/>\n<text text-anchor=\"middle\" x=\"224.5\" y=\"-102.8\" font-family=\"Times,serif\" font-size=\"14.00\">0</text>\n</g>\n<!-- 8 -->\n<g id=\"node9\" class=\"node\">\n<title>8</title>\n<text text-anchor=\"middle\" x=\"310\" y=\"-69.8\" font-family=\"Times,serif\" font-size=\"14.00\">?</text>\n</g>\n<!-- 4&#45;&gt;8 -->\n<g id=\"edge8\" class=\"edge\">\n<title>4&#45;&gt;8</title>\n<path fill=\"none\" stroke=\"blue\" d=\"M269.82,-131.65C277.11,-121.27 291.12,-101.36 300.51,-88\"/>\n<polygon fill=\"blue\" stroke=\"blue\" points=\"303.49,-89.85 306.37,-79.66 297.76,-85.82 303.49,-89.85\"/>\n<text text-anchor=\"middle\" x=\"295.5\" y=\"-102.8\" font-family=\"Times,serif\" font-size=\"14.00\">1</text>\n</g>\n<!-- 6 -->\n<g id=\"node7\" class=\"node\">\n<title>6</title>\n<text text-anchor=\"middle\" x=\"139\" y=\"-3.8\" font-family=\"Times,serif\" font-size=\"14.00\">* a+c</text>\n</g>\n<!-- 5&#45;&gt;6 -->\n<g id=\"edge6\" class=\"edge\">\n<title>5&#45;&gt;6</title>\n<path fill=\"none\" stroke=\"red\" d=\"M153.85,-65.76C151.68,-60.91 148.86,-54.16 147,-48 144.74,-40.53 142.93,-32.07 141.61,-24.9\"/>\n<polygon fill=\"red\" stroke=\"red\" points=\"145.06,-24.3 139.94,-15.02 138.16,-25.47 145.06,-24.3\"/>\n<text text-anchor=\"middle\" x=\"150.5\" y=\"-36.8\" font-family=\"Times,serif\" font-size=\"14.00\">0</text>\n</g>\n<!-- 7 -->\n<g id=\"node8\" class=\"node\">\n<title>7</title>\n<text text-anchor=\"middle\" x=\"176\" y=\"-3.8\" font-family=\"Times,serif\" font-size=\"14.00\">?</text>\n</g>\n<!-- 5&#45;&gt;7 -->\n<g id=\"edge7\" class=\"edge\">\n<title>5&#45;&gt;7</title>\n<path fill=\"none\" stroke=\"blue\" d=\"M159.03,-65.65C161.91,-55.98 167.24,-38.02 171.16,-24.81\"/>\n<polygon fill=\"blue\" stroke=\"blue\" points=\"174.55,-25.69 174.04,-15.11 167.84,-23.7 174.55,-25.69\"/>\n<text text-anchor=\"middle\" x=\"172.5\" y=\"-36.8\" font-family=\"Times,serif\" font-size=\"14.00\">1</text>\n</g>\n</g>\n</svg>\n",
      "text/plain": [
       "<graphviz.graphs.Digraph at 0x167ce0bb0>"
      ]
     },
     "execution_count": 275,
     "metadata": {},
     "output_type": "execute_result"
    }
   ],
   "source": [
    "display_trace_tree(scf.ct.root)"
   ]
  },
  {
   "cell_type": "markdown",
   "metadata": {
    "slideshow": {
     "slide_type": "fragment"
    }
   },
   "source": [
    "So, we fuzz to get a new path that is not empty."
   ]
  },
  {
   "cell_type": "code",
   "execution_count": 276,
   "metadata": {
    "execution": {
     "iopub.execute_input": "2022-01-05T17:28:12.002312Z",
     "iopub.status.busy": "2022-01-05T17:28:12.001365Z",
     "iopub.status.idle": "2022-01-05T17:28:12.071788Z",
     "shell.execute_reply": "2022-01-05T17:28:12.072326Z"
    },
    "slideshow": {
     "slide_type": "subslide"
    }
   },
   "outputs": [
    {
     "name": "stdout",
     "output_type": "stream",
     "text": [
      "+\\x00\n"
     ]
    }
   ],
   "source": [
    "v = scf.fuzz()\n",
    "while not v:\n",
    "    v = scf.fuzz()\n",
    "print(v)"
   ]
  },
  {
   "cell_type": "markdown",
   "metadata": {
    "slideshow": {
     "slide_type": "fragment"
    }
   },
   "source": [
    "We can now obtain the new trace as before."
   ]
  },
  {
   "cell_type": "code",
   "execution_count": 277,
   "metadata": {
    "execution": {
     "iopub.execute_input": "2022-01-05T17:28:12.077419Z",
     "iopub.status.busy": "2022-01-05T17:28:12.076882Z",
     "iopub.status.idle": "2022-01-05T17:28:12.080720Z",
     "shell.execute_reply": "2022-01-05T17:28:12.081160Z"
    },
    "slideshow": {
     "slide_type": "fragment"
    }
   },
   "outputs": [],
   "source": [
    "with ExpectError():\n",
    "    with ConcolicTracer() as _:\n",
    "        _[cgi_decode](v)"
   ]
  },
  {
   "cell_type": "markdown",
   "metadata": {
    "slideshow": {
     "slide_type": "fragment"
    }
   },
   "source": [
    "The new trace is added to our fuzzer using `add_trace()`"
   ]
  },
  {
   "cell_type": "code",
   "execution_count": 278,
   "metadata": {
    "execution": {
     "iopub.execute_input": "2022-01-05T17:28:12.085383Z",
     "iopub.status.busy": "2022-01-05T17:28:12.084784Z",
     "iopub.status.idle": "2022-01-05T17:28:12.091266Z",
     "shell.execute_reply": "2022-01-05T17:28:12.091742Z"
    },
    "slideshow": {
     "slide_type": "fragment"
    }
   },
   "outputs": [],
   "source": [
    "scf.add_trace(_, v)"
   ]
  },
  {
   "cell_type": "markdown",
   "metadata": {
    "slideshow": {
     "slide_type": "fragment"
    }
   },
   "source": [
    "The updated binary tree is as follows. Note the difference between the child nodes of `Root` node."
   ]
  },
  {
   "cell_type": "code",
   "execution_count": 279,
   "metadata": {
    "execution": {
     "iopub.execute_input": "2022-01-05T17:28:12.095884Z",
     "iopub.status.busy": "2022-01-05T17:28:12.094647Z",
     "iopub.status.idle": "2022-01-05T17:28:12.539097Z",
     "shell.execute_reply": "2022-01-05T17:28:12.539724Z"
    },
    "slideshow": {
     "slide_type": "subslide"
    }
   },
   "outputs": [
    {
     "data": {
      "image/svg+xml": "<?xml version=\"1.0\" encoding=\"UTF-8\" standalone=\"no\"?>\n<!DOCTYPE svg PUBLIC \"-//W3C//DTD SVG 1.1//EN\"\n \"http://www.w3.org/Graphics/SVG/1.1/DTD/svg11.dtd\">\n<!-- Generated by graphviz version 2.50.0 (20211204.2007)\n -->\n<!-- Pages: 1 -->\n<svg width=\"851pt\" height=\"617pt\"\n viewBox=\"0.00 0.00 850.50 617.00\" xmlns=\"http://www.w3.org/2000/svg\" xmlns:xlink=\"http://www.w3.org/1999/xlink\">\n<g id=\"graph0\" class=\"graph\" transform=\"scale(1 1) rotate(0) translate(4 613)\">\n<polygon fill=\"white\" stroke=\"transparent\" points=\"-4,4 -4,-613 846.5,-613 846.5,4 -4,4\"/>\n<!-- 0 -->\n<g id=\"node1\" class=\"node\">\n<title>0</title>\n<text text-anchor=\"middle\" x=\"559\" y=\"-597.8\" font-family=\"Times,serif\" font-size=\"14.00\">(0) str.substr(cgi_decode_s_str_1, 0, 1) == &quot;+&quot;</text>\n</g>\n<!-- 1 -->\n<g id=\"node2\" class=\"node\">\n<title>1</title>\n<text text-anchor=\"middle\" x=\"420\" y=\"-531.8\" font-family=\"Times,serif\" font-size=\"14.00\">(1) str.substr(cgi_decode_s_str_1, 0, 1) == &quot;%&quot;</text>\n</g>\n<!-- 0&#45;&gt;1 -->\n<g id=\"edge1\" class=\"edge\">\n<title>0&#45;&gt;1</title>\n<path fill=\"none\" stroke=\"red\" d=\"M544.65,-593.89C520.82,-582.92 472.86,-560.84 443.87,-547.49\"/>\n<polygon fill=\"red\" stroke=\"red\" points=\"445.03,-544.17 434.48,-543.17 442.1,-550.53 445.03,-544.17\"/>\n<text text-anchor=\"middle\" x=\"505.5\" y=\"-564.8\" font-family=\"Times,serif\" font-size=\"14.00\">0</text>\n</g>\n<!-- 10 -->\n<g id=\"node11\" class=\"node\">\n<title>10</title>\n<text text-anchor=\"middle\" x=\"698\" y=\"-531.8\" font-family=\"Times,serif\" font-size=\"14.00\">(1) str.substr(cgi_decode_s_str_1, 1, 1) == &quot;+&quot;</text>\n</g>\n<!-- 0&#45;&gt;10 -->\n<g id=\"edge10\" class=\"edge\">\n<title>0&#45;&gt;10</title>\n<path fill=\"none\" stroke=\"blue\" d=\"M573.35,-593.89C597.18,-582.92 645.14,-560.84 674.13,-547.49\"/>\n<polygon fill=\"blue\" stroke=\"blue\" points=\"675.9,-550.53 683.52,-543.17 672.97,-544.17 675.9,-550.53\"/>\n<text text-anchor=\"middle\" x=\"644.5\" y=\"-564.8\" font-family=\"Times,serif\" font-size=\"14.00\">1</text>\n</g>\n<!-- 2 -->\n<g id=\"node3\" class=\"node\">\n<title>2</title>\n<text text-anchor=\"middle\" x=\"284\" y=\"-465.8\" font-family=\"Times,serif\" font-size=\"14.00\">(2) str.substr(cgi_decode_s_str_1, 1, 1) == &quot;+&quot;</text>\n</g>\n<!-- 1&#45;&gt;2 -->\n<g id=\"edge2\" class=\"edge\">\n<title>1&#45;&gt;2</title>\n<path fill=\"none\" stroke=\"red\" d=\"M405.96,-527.89C382.65,-516.92 335.72,-494.84 307.36,-481.49\"/>\n<polygon fill=\"red\" stroke=\"red\" points=\"308.71,-478.26 298.17,-477.17 305.73,-484.59 308.71,-478.26\"/>\n<text text-anchor=\"middle\" x=\"368.5\" y=\"-498.8\" font-family=\"Times,serif\" font-size=\"14.00\">0</text>\n</g>\n<!-- 9 -->\n<g id=\"node10\" class=\"node\">\n<title>9</title>\n<text text-anchor=\"middle\" x=\"435\" y=\"-465.8\" font-family=\"Times,serif\" font-size=\"14.00\">?</text>\n</g>\n<!-- 1&#45;&gt;9 -->\n<g id=\"edge9\" class=\"edge\">\n<title>1&#45;&gt;9</title>\n<path fill=\"none\" stroke=\"blue\" d=\"M421.61,-527.65C423.85,-518.07 428,-500.38 431.09,-487.2\"/>\n<polygon fill=\"blue\" stroke=\"blue\" points=\"434.58,-487.64 433.45,-477.11 427.76,-486.05 434.58,-487.64\"/>\n<text text-anchor=\"middle\" x=\"432.5\" y=\"-498.8\" font-family=\"Times,serif\" font-size=\"14.00\">1</text>\n</g>\n<!-- 3 -->\n<g id=\"node4\" class=\"node\">\n<title>3</title>\n<text text-anchor=\"middle\" x=\"205\" y=\"-399.8\" font-family=\"Times,serif\" font-size=\"14.00\">?</text>\n</g>\n<!-- 2&#45;&gt;3 -->\n<g id=\"edge3\" class=\"edge\">\n<title>2&#45;&gt;3</title>\n<path fill=\"none\" stroke=\"red\" d=\"M275.84,-461.89C261.74,-450.47 232.75,-426.98 216.57,-413.87\"/>\n<polygon fill=\"red\" stroke=\"red\" points=\"218.71,-411.1 208.73,-407.52 214.3,-416.54 218.71,-411.1\"/>\n<text text-anchor=\"middle\" x=\"255.5\" y=\"-432.8\" font-family=\"Times,serif\" font-size=\"14.00\">0</text>\n</g>\n<!-- 4 -->\n<g id=\"node5\" class=\"node\">\n<title>4</title>\n<text text-anchor=\"middle\" x=\"356\" y=\"-399.8\" font-family=\"Times,serif\" font-size=\"14.00\">(3) str.substr(cgi_decode_s_str_1, 2, 1) == &quot;+&quot;</text>\n</g>\n<!-- 2&#45;&gt;4 -->\n<g id=\"edge4\" class=\"edge\">\n<title>2&#45;&gt;4</title>\n<path fill=\"none\" stroke=\"blue\" d=\"M291.43,-461.89C303.08,-451.54 325.84,-431.31 340.99,-417.85\"/>\n<polygon fill=\"blue\" stroke=\"blue\" points=\"343.35,-420.43 348.5,-411.17 338.7,-415.2 343.35,-420.43\"/>\n<text text-anchor=\"middle\" x=\"330.5\" y=\"-432.8\" font-family=\"Times,serif\" font-size=\"14.00\">1</text>\n</g>\n<!-- 5 -->\n<g id=\"node6\" class=\"node\">\n<title>5</title>\n<text text-anchor=\"middle\" x=\"208\" y=\"-333.8\" font-family=\"Times,serif\" font-size=\"14.00\">(4) str.substr(cgi_decode_s_str_1, 2, 1) == &quot;%&quot;</text>\n</g>\n<!-- 4&#45;&gt;5 -->\n<g id=\"edge5\" class=\"edge\">\n<title>4&#45;&gt;5</title>\n<path fill=\"none\" stroke=\"red\" d=\"M340.72,-395.89C315.13,-384.83 263.39,-362.45 232.62,-349.14\"/>\n<polygon fill=\"red\" stroke=\"red\" points=\"233.99,-345.92 223.42,-345.17 231.21,-352.35 233.99,-345.92\"/>\n<text text-anchor=\"middle\" x=\"299.5\" y=\"-366.8\" font-family=\"Times,serif\" font-size=\"14.00\">0</text>\n</g>\n<!-- 8 -->\n<g id=\"node9\" class=\"node\">\n<title>8</title>\n<text text-anchor=\"middle\" x=\"361\" y=\"-333.8\" font-family=\"Times,serif\" font-size=\"14.00\">?</text>\n</g>\n<!-- 4&#45;&gt;8 -->\n<g id=\"edge8\" class=\"edge\">\n<title>4&#45;&gt;8</title>\n<path fill=\"none\" stroke=\"blue\" d=\"M356.54,-395.65C357.28,-386.07 358.67,-368.38 359.7,-355.2\"/>\n<polygon fill=\"blue\" stroke=\"blue\" points=\"363.19,-355.35 360.48,-345.11 356.22,-354.81 363.19,-355.35\"/>\n<text text-anchor=\"middle\" x=\"362.5\" y=\"-366.8\" font-family=\"Times,serif\" font-size=\"14.00\">1</text>\n</g>\n<!-- 6 -->\n<g id=\"node7\" class=\"node\">\n<title>6</title>\n<text text-anchor=\"middle\" x=\"194\" y=\"-267.8\" font-family=\"Times,serif\" font-size=\"14.00\">* a+c</text>\n</g>\n<!-- 5&#45;&gt;6 -->\n<g id=\"edge6\" class=\"edge\">\n<title>5&#45;&gt;6</title>\n<path fill=\"none\" stroke=\"red\" d=\"M206.24,-329.65C205.01,-324.75 203.34,-317.98 202,-312 200.34,-304.56 198.64,-296.3 197.24,-289.27\"/>\n<polygon fill=\"red\" stroke=\"red\" points=\"200.63,-288.37 195.28,-279.23 193.76,-289.71 200.63,-288.37\"/>\n<text text-anchor=\"middle\" x=\"205.5\" y=\"-300.8\" font-family=\"Times,serif\" font-size=\"14.00\">0</text>\n</g>\n<!-- 7 -->\n<g id=\"node8\" class=\"node\">\n<title>7</title>\n<text text-anchor=\"middle\" x=\"231\" y=\"-267.8\" font-family=\"Times,serif\" font-size=\"14.00\">?</text>\n</g>\n<!-- 5&#45;&gt;7 -->\n<g id=\"edge7\" class=\"edge\">\n<title>5&#45;&gt;7</title>\n<path fill=\"none\" stroke=\"blue\" d=\"M210.46,-329.65C213.94,-319.98 220.39,-302.02 225.14,-288.81\"/>\n<polygon fill=\"blue\" stroke=\"blue\" points=\"228.54,-289.7 228.63,-279.11 221.95,-287.34 228.54,-289.7\"/>\n<text text-anchor=\"middle\" x=\"225.5\" y=\"-300.8\" font-family=\"Times,serif\" font-size=\"14.00\">1</text>\n</g>\n<!-- 11 -->\n<g id=\"node12\" class=\"node\">\n<title>11</title>\n<text text-anchor=\"middle\" x=\"686\" y=\"-465.8\" font-family=\"Times,serif\" font-size=\"14.00\">(2) str.substr(cgi_decode_s_str_1, 1, 1) == &quot;%&quot;</text>\n</g>\n<!-- 10&#45;&gt;11 -->\n<g id=\"edge11\" class=\"edge\">\n<title>10&#45;&gt;11</title>\n<path fill=\"none\" stroke=\"red\" d=\"M696.72,-527.65C694.92,-518.07 691.6,-500.38 689.13,-487.2\"/>\n<polygon fill=\"red\" stroke=\"red\" points=\"692.52,-486.29 687.24,-477.11 685.64,-487.58 692.52,-486.29\"/>\n<text text-anchor=\"middle\" x=\"697.5\" y=\"-498.8\" font-family=\"Times,serif\" font-size=\"14.00\">0</text>\n</g>\n<!-- 26 -->\n<g id=\"node27\" class=\"node\">\n<title>26</title>\n<text text-anchor=\"middle\" x=\"839\" y=\"-465.8\" font-family=\"Times,serif\" font-size=\"14.00\">?</text>\n</g>\n<!-- 10&#45;&gt;26 -->\n<g id=\"edge26\" class=\"edge\">\n<title>10&#45;&gt;26</title>\n<path fill=\"none\" stroke=\"blue\" d=\"M713.07,-527.97C737.09,-517.51 785.5,-496.21 826,-477 826.1,-476.95 826.19,-476.91 826.29,-476.86\"/>\n<polygon fill=\"blue\" stroke=\"blue\" points=\"827.74,-480.05 835.15,-472.48 824.64,-473.77 827.74,-480.05\"/>\n<text text-anchor=\"middle\" x=\"787.5\" y=\"-498.8\" font-family=\"Times,serif\" font-size=\"14.00\">1</text>\n</g>\n<!-- 12 -->\n<g id=\"node13\" class=\"node\">\n<title>12</title>\n<text text-anchor=\"middle\" x=\"658\" y=\"-399.8\" font-family=\"Times,serif\" font-size=\"14.00\">(3) str.substr(cgi_decode_s_str_1, 2, 1) == &quot;+&quot;</text>\n</g>\n<!-- 11&#45;&gt;12 -->\n<g id=\"edge12\" class=\"edge\">\n<title>11&#45;&gt;12</title>\n<path fill=\"none\" stroke=\"red\" d=\"M683,-461.65C678.73,-451.88 670.76,-433.66 664.96,-420.41\"/>\n<polygon fill=\"red\" stroke=\"red\" points=\"668.11,-418.87 660.89,-411.11 661.69,-421.67 668.11,-418.87\"/>\n<text text-anchor=\"middle\" x=\"678.5\" y=\"-432.8\" font-family=\"Times,serif\" font-size=\"14.00\">0</text>\n</g>\n<!-- 25 -->\n<g id=\"node26\" class=\"node\">\n<title>25</title>\n<text text-anchor=\"middle\" x=\"809\" y=\"-399.8\" font-family=\"Times,serif\" font-size=\"14.00\">?</text>\n</g>\n<!-- 11&#45;&gt;25 -->\n<g id=\"edge25\" class=\"edge\">\n<title>11&#45;&gt;25</title>\n<path fill=\"none\" stroke=\"blue\" d=\"M698.7,-461.89C722.23,-449.65 772.34,-423.57 796.05,-411.24\"/>\n<polygon fill=\"blue\" stroke=\"blue\" points=\"797.87,-414.24 805.12,-406.52 794.64,-408.03 797.87,-414.24\"/>\n<text text-anchor=\"middle\" x=\"762.5\" y=\"-432.8\" font-family=\"Times,serif\" font-size=\"14.00\">1</text>\n</g>\n<!-- 13 -->\n<g id=\"node14\" class=\"node\">\n<title>13</title>\n<text text-anchor=\"middle\" x=\"530\" y=\"-333.8\" font-family=\"Times,serif\" font-size=\"14.00\">(4) str.substr(cgi_decode_s_str_1, 2, 1) == &quot;%&quot;</text>\n</g>\n<!-- 12&#45;&gt;13 -->\n<g id=\"edge13\" class=\"edge\">\n<title>12&#45;&gt;13</title>\n<path fill=\"none\" stroke=\"red\" d=\"M644.78,-395.89C622.94,-384.97 579.06,-363.03 552.33,-349.67\"/>\n<polygon fill=\"red\" stroke=\"red\" points=\"553.85,-346.51 543.34,-345.17 550.72,-352.77 553.85,-346.51\"/>\n<text text-anchor=\"middle\" x=\"609.5\" y=\"-366.8\" font-family=\"Times,serif\" font-size=\"14.00\">0</text>\n</g>\n<!-- 24 -->\n<g id=\"node25\" class=\"node\">\n<title>24</title>\n<text text-anchor=\"middle\" x=\"683\" y=\"-333.8\" font-family=\"Times,serif\" font-size=\"14.00\">?</text>\n</g>\n<!-- 12&#45;&gt;24 -->\n<g id=\"edge24\" class=\"edge\">\n<title>12&#45;&gt;24</title>\n<path fill=\"none\" stroke=\"blue\" d=\"M660.68,-395.65C664.45,-385.98 671.47,-368.02 676.63,-354.81\"/>\n<polygon fill=\"blue\" stroke=\"blue\" points=\"680.04,-355.7 680.42,-345.11 673.52,-353.15 680.04,-355.7\"/>\n<text text-anchor=\"middle\" x=\"676.5\" y=\"-366.8\" font-family=\"Times,serif\" font-size=\"14.00\">1</text>\n</g>\n<!-- 14 -->\n<g id=\"node15\" class=\"node\">\n<title>14</title>\n<text text-anchor=\"middle\" x=\"392\" y=\"-267.8\" font-family=\"Times,serif\" font-size=\"14.00\">(5) str.substr(cgi_decode_s_str_1, 3, 1) == &quot;+&quot;</text>\n</g>\n<!-- 13&#45;&gt;14 -->\n<g id=\"edge14\" class=\"edge\">\n<title>13&#45;&gt;14</title>\n<path fill=\"none\" stroke=\"red\" d=\"M515.75,-329.89C492.1,-318.92 444.48,-296.84 415.7,-283.49\"/>\n<polygon fill=\"red\" stroke=\"red\" points=\"416.92,-280.2 406.38,-279.17 413.98,-286.55 416.92,-280.2\"/>\n<text text-anchor=\"middle\" x=\"477.5\" y=\"-300.8\" font-family=\"Times,serif\" font-size=\"14.00\">0</text>\n</g>\n<!-- 23 -->\n<g id=\"node24\" class=\"node\">\n<title>23</title>\n<text text-anchor=\"middle\" x=\"543\" y=\"-267.8\" font-family=\"Times,serif\" font-size=\"14.00\">?</text>\n</g>\n<!-- 13&#45;&gt;23 -->\n<g id=\"edge23\" class=\"edge\">\n<title>13&#45;&gt;23</title>\n<path fill=\"none\" stroke=\"blue\" d=\"M531.39,-329.65C533.34,-320.07 536.93,-302.38 539.61,-289.2\"/>\n<polygon fill=\"blue\" stroke=\"blue\" points=\"543.1,-289.6 541.66,-279.11 536.24,-288.21 543.1,-289.6\"/>\n<text text-anchor=\"middle\" x=\"541.5\" y=\"-300.8\" font-family=\"Times,serif\" font-size=\"14.00\">1</text>\n</g>\n<!-- 15 -->\n<g id=\"node16\" class=\"node\">\n<title>15</title>\n<text text-anchor=\"middle\" x=\"284\" y=\"-201.8\" font-family=\"Times,serif\" font-size=\"14.00\">(6) str.substr(cgi_decode_s_str_1, 3, 1) == &quot;%&quot;</text>\n</g>\n<!-- 14&#45;&gt;15 -->\n<g id=\"edge15\" class=\"edge\">\n<title>14&#45;&gt;15</title>\n<path fill=\"none\" stroke=\"red\" d=\"M380.85,-263.89C362.74,-253.16 326.69,-231.8 304.05,-218.38\"/>\n<polygon fill=\"red\" stroke=\"red\" points=\"305.64,-215.26 295.25,-213.17 302.07,-221.28 305.64,-215.26\"/>\n<text text-anchor=\"middle\" x=\"351.5\" y=\"-234.8\" font-family=\"Times,serif\" font-size=\"14.00\">0</text>\n</g>\n<!-- 22 -->\n<g id=\"node23\" class=\"node\">\n<title>22</title>\n<text text-anchor=\"middle\" x=\"437\" y=\"-201.8\" font-family=\"Times,serif\" font-size=\"14.00\">?</text>\n</g>\n<!-- 14&#45;&gt;22 -->\n<g id=\"edge22\" class=\"edge\">\n<title>14&#45;&gt;22</title>\n<path fill=\"none\" stroke=\"blue\" d=\"M396.82,-263.65C404.11,-253.27 418.12,-233.36 427.51,-220\"/>\n<polygon fill=\"blue\" stroke=\"blue\" points=\"430.49,-221.85 433.37,-211.66 424.76,-217.82 430.49,-221.85\"/>\n<text text-anchor=\"middle\" x=\"422.5\" y=\"-234.8\" font-family=\"Times,serif\" font-size=\"14.00\">1</text>\n</g>\n<!-- 16 -->\n<g id=\"node17\" class=\"node\">\n<title>16</title>\n<text text-anchor=\"middle\" x=\"208\" y=\"-135.8\" font-family=\"Times,serif\" font-size=\"14.00\">(7) str.substr(cgi_decode_s_str_1, 4, 1) == &quot;+&quot;</text>\n</g>\n<!-- 15&#45;&gt;16 -->\n<g id=\"edge16\" class=\"edge\">\n<title>15&#45;&gt;16</title>\n<path fill=\"none\" stroke=\"red\" d=\"M276.15,-197.89C263.87,-187.54 239.84,-167.31 223.85,-153.85\"/>\n<polygon fill=\"red\" stroke=\"red\" points=\"225.82,-150.93 215.92,-147.17 221.31,-156.29 225.82,-150.93\"/>\n<text text-anchor=\"middle\" x=\"256.5\" y=\"-168.8\" font-family=\"Times,serif\" font-size=\"14.00\">0</text>\n</g>\n<!-- 21 -->\n<g id=\"node22\" class=\"node\">\n<title>21</title>\n<text text-anchor=\"middle\" x=\"359\" y=\"-135.8\" font-family=\"Times,serif\" font-size=\"14.00\">?</text>\n</g>\n<!-- 15&#45;&gt;21 -->\n<g id=\"edge21\" class=\"edge\">\n<title>15&#45;&gt;21</title>\n<path fill=\"none\" stroke=\"blue\" d=\"M291.74,-197.89C305.01,-186.57 332.14,-163.42 347.58,-150.24\"/>\n<polygon fill=\"blue\" stroke=\"blue\" points=\"350.12,-152.68 355.46,-143.52 345.58,-147.35 350.12,-152.68\"/>\n<text text-anchor=\"middle\" x=\"332.5\" y=\"-168.8\" font-family=\"Times,serif\" font-size=\"14.00\">1</text>\n</g>\n<!-- 17 -->\n<g id=\"node18\" class=\"node\">\n<title>17</title>\n<text text-anchor=\"middle\" x=\"131\" y=\"-69.8\" font-family=\"Times,serif\" font-size=\"14.00\">(8) str.substr(cgi_decode_s_str_1, 4, 1) == &quot;%&quot;</text>\n</g>\n<!-- 16&#45;&gt;17 -->\n<g id=\"edge17\" class=\"edge\">\n<title>16&#45;&gt;17</title>\n<path fill=\"none\" stroke=\"red\" d=\"M200.05,-131.89C187.6,-121.54 163.26,-101.31 147.06,-87.85\"/>\n<polygon fill=\"red\" stroke=\"red\" points=\"148.95,-84.87 139.02,-81.17 144.48,-90.25 148.95,-84.87\"/>\n<text text-anchor=\"middle\" x=\"180.5\" y=\"-102.8\" font-family=\"Times,serif\" font-size=\"14.00\">0</text>\n</g>\n<!-- 20 -->\n<g id=\"node21\" class=\"node\">\n<title>20</title>\n<text text-anchor=\"middle\" x=\"284\" y=\"-69.8\" font-family=\"Times,serif\" font-size=\"14.00\">?</text>\n</g>\n<!-- 16&#45;&gt;20 -->\n<g id=\"edge20\" class=\"edge\">\n<title>16&#45;&gt;20</title>\n<path fill=\"none\" stroke=\"blue\" d=\"M215.85,-131.89C229.29,-120.57 256.78,-97.42 272.43,-84.24\"/>\n<polygon fill=\"blue\" stroke=\"blue\" points=\"275.01,-86.64 280.41,-77.52 270.51,-81.29 275.01,-86.64\"/>\n<text text-anchor=\"middle\" x=\"256.5\" y=\"-102.8\" font-family=\"Times,serif\" font-size=\"14.00\">1</text>\n</g>\n<!-- 18 -->\n<g id=\"node19\" class=\"node\">\n<title>18</title>\n<text text-anchor=\"middle\" x=\"110\" y=\"-3.8\" font-family=\"Times,serif\" font-size=\"14.00\">* +\\x00</text>\n</g>\n<!-- 17&#45;&gt;18 -->\n<g id=\"edge18\" class=\"edge\">\n<title>17&#45;&gt;18</title>\n<path fill=\"none\" stroke=\"red\" d=\"M128.75,-65.65C125.58,-55.98 119.69,-38.02 115.35,-24.81\"/>\n<polygon fill=\"red\" stroke=\"red\" points=\"118.61,-23.52 112.17,-15.11 111.96,-25.7 118.61,-23.52\"/>\n<text text-anchor=\"middle\" x=\"126.5\" y=\"-36.8\" font-family=\"Times,serif\" font-size=\"14.00\">0</text>\n</g>\n<!-- 19 -->\n<g id=\"node20\" class=\"node\">\n<title>19</title>\n<text text-anchor=\"middle\" x=\"153\" y=\"-3.8\" font-family=\"Times,serif\" font-size=\"14.00\">?</text>\n</g>\n<!-- 17&#45;&gt;19 -->\n<g id=\"edge19\" class=\"edge\">\n<title>17&#45;&gt;19</title>\n<path fill=\"none\" stroke=\"blue\" d=\"M133.35,-65.65C136.68,-55.98 142.85,-38.02 147.4,-24.81\"/>\n<polygon fill=\"blue\" stroke=\"blue\" points=\"150.79,-25.7 150.73,-15.11 144.17,-23.43 150.79,-25.7\"/>\n<text text-anchor=\"middle\" x=\"147.5\" y=\"-36.8\" font-family=\"Times,serif\" font-size=\"14.00\">1</text>\n</g>\n</g>\n</svg>\n",
      "text/plain": [
       "<graphviz.graphs.Digraph at 0x167c45310>"
      ]
     },
     "execution_count": 279,
     "metadata": {},
     "output_type": "execute_result"
    }
   ],
   "source": [
    "display_trace_tree(scf.ct.root)"
   ]
  },
  {
   "cell_type": "markdown",
   "metadata": {
    "slideshow": {
     "slide_type": "fragment"
    }
   },
   "source": [
    "A complete fuzzer run is as follows:"
   ]
  },
  {
   "cell_type": "code",
   "execution_count": 280,
   "metadata": {
    "execution": {
     "iopub.execute_input": "2022-01-05T17:28:12.546750Z",
     "iopub.status.busy": "2022-01-05T17:28:12.545937Z",
     "iopub.status.idle": "2022-01-05T17:28:13.294328Z",
     "shell.execute_reply": "2022-01-05T17:28:13.294768Z"
    },
    "slideshow": {
     "slide_type": "subslide"
    }
   },
   "outputs": [
    {
     "name": "stdout",
     "output_type": "stream",
     "text": [
      "' '\n",
      "'+\\\\x00'\n",
      "'%\\\\x00'\n"
     ]
    },
    {
     "name": "stderr",
     "output_type": "stream",
     "text": [
      "ValueError: Invalid encoding (expected)\n",
      "ValueError: Invalid encoding (expected)\n",
      "ValueError: Invalid encoding (expected)\n"
     ]
    },
    {
     "name": "stdout",
     "output_type": "stream",
     "text": [
      "'%\\\\x005\\\\x00'\n",
      "'%\\\\x00A\\\\x00'\n",
      "'%\\\\x00d\\\\x00'\n"
     ]
    },
    {
     "name": "stderr",
     "output_type": "stream",
     "text": [
      "ValueError: Invalid encoding (expected)\n",
      "ValueError: Invalid encoding (expected)\n",
      "ValueError: Invalid encoding (expected)\n"
     ]
    },
    {
     "name": "stdout",
     "output_type": "stream",
     "text": [
      "'%\\\\x009\\\\x00'\n",
      "'%1\\\\x00'\n",
      "'+\\\\x00\\\\x00\\\\x00%\\\\x00'\n",
      "'%1b\\\\x00'\n"
     ]
    },
    {
     "name": "stderr",
     "output_type": "stream",
     "text": [
      "ValueError: Invalid encoding (expected)\n"
     ]
    }
   ],
   "source": [
    "scf = SimpleConcolicFuzzer()\n",
    "for i in range(10):\n",
    "    v = scf.fuzz()\n",
    "    print(repr(v))\n",
    "    if v is None:\n",
    "        continue\n",
    "    with ConcolicTracer() as _:\n",
    "        with ExpectError(print_traceback=False):\n",
    "            # z3.StringVal(urllib.parse.unquote('%80')) <-- bug in z3\n",
    "            _[cgi_decode](v)\n",
    "    scf.add_trace(_, v)"
   ]
  },
  {
   "cell_type": "code",
   "execution_count": 281,
   "metadata": {
    "execution": {
     "iopub.execute_input": "2022-01-05T17:28:13.300898Z",
     "iopub.status.busy": "2022-01-05T17:28:13.299050Z",
     "iopub.status.idle": "2022-01-05T17:28:13.958433Z",
     "shell.execute_reply": "2022-01-05T17:28:13.958878Z"
    },
    "slideshow": {
     "slide_type": "subslide"
    }
   },
   "outputs": [
    {
     "data": {
      "image/svg+xml": "<?xml version=\"1.0\" encoding=\"UTF-8\" standalone=\"no\"?>\n<!DOCTYPE svg PUBLIC \"-//W3C//DTD SVG 1.1//EN\"\n \"http://www.w3.org/Graphics/SVG/1.1/DTD/svg11.dtd\">\n<!-- Generated by graphviz version 2.50.0 (20211204.2007)\n -->\n<!-- Pages: 1 -->\n<svg width=\"6891pt\" height=\"4709pt\"\n viewBox=\"0.00 0.00 6891.00 4709.00\" xmlns=\"http://www.w3.org/2000/svg\" xmlns:xlink=\"http://www.w3.org/1999/xlink\">\n<g id=\"graph0\" class=\"graph\" transform=\"scale(1 1) rotate(0) translate(4 4705)\">\n<polygon fill=\"white\" stroke=\"transparent\" points=\"-4,4 -4,-4705 6887,-4705 6887,4 -4,4\"/>\n<!-- 0 -->\n<g id=\"node1\" class=\"node\">\n<title>0</title>\n<text text-anchor=\"middle\" x=\"6588.5\" y=\"-4689.8\" font-family=\"Times,serif\" font-size=\"14.00\">(0) str.substr(cgi_decode_s_str_1, 0, 1) == &quot;+&quot;</text>\n</g>\n<!-- 1 -->\n<g id=\"node2\" class=\"node\">\n<title>1</title>\n<text text-anchor=\"middle\" x=\"6449.5\" y=\"-4623.8\" font-family=\"Times,serif\" font-size=\"14.00\">(1) str.substr(cgi_decode_s_str_1, 0, 1) == &quot;%&quot;</text>\n</g>\n<!-- 0&#45;&gt;1 -->\n<g id=\"edge1\" class=\"edge\">\n<title>0&#45;&gt;1</title>\n<path fill=\"none\" stroke=\"red\" d=\"M6574.15,-4685.89C6550.32,-4674.92 6502.36,-4652.84 6473.37,-4639.49\"/>\n<polygon fill=\"red\" stroke=\"red\" points=\"6474.53,-4636.17 6463.98,-4635.17 6471.6,-4642.53 6474.53,-4636.17\"/>\n<text text-anchor=\"middle\" x=\"6535\" y=\"-4656.8\" font-family=\"Times,serif\" font-size=\"14.00\">0</text>\n</g>\n<!-- 152 -->\n<g id=\"node153\" class=\"node\">\n<title>152</title>\n<text text-anchor=\"middle\" x=\"6727.5\" y=\"-4623.8\" font-family=\"Times,serif\" font-size=\"14.00\">(1) str.substr(cgi_decode_s_str_1, 1, 1) == &quot;+&quot;</text>\n</g>\n<!-- 0&#45;&gt;152 -->\n<g id=\"edge152\" class=\"edge\">\n<title>0&#45;&gt;152</title>\n<path fill=\"none\" stroke=\"blue\" d=\"M6602.85,-4685.89C6626.68,-4674.92 6674.64,-4652.84 6703.63,-4639.49\"/>\n<polygon fill=\"blue\" stroke=\"blue\" points=\"6705.4,-4642.53 6713.02,-4635.17 6702.47,-4636.17 6705.4,-4642.53\"/>\n<text text-anchor=\"middle\" x=\"6674\" y=\"-4656.8\" font-family=\"Times,serif\" font-size=\"14.00\">1</text>\n</g>\n<!-- 2 -->\n<g id=\"node3\" class=\"node\">\n<title>2</title>\n<text text-anchor=\"middle\" x=\"6295.5\" y=\"-4557.8\" font-family=\"Times,serif\" font-size=\"14.00\">* &#160;</text>\n</g>\n<!-- 1&#45;&gt;2 -->\n<g id=\"edge2\" class=\"edge\">\n<title>1&#45;&gt;2</title>\n<path fill=\"none\" stroke=\"red\" d=\"M6433.6,-4619.89C6404.44,-4607.77 6342.66,-4582.1 6312.62,-4569.62\"/>\n<polygon fill=\"red\" stroke=\"red\" points=\"6313.69,-4566.27 6303.11,-4565.66 6311,-4572.73 6313.69,-4566.27\"/>\n<text text-anchor=\"middle\" x=\"6390\" y=\"-4590.8\" font-family=\"Times,serif\" font-size=\"14.00\">0</text>\n</g>\n<!-- 3 -->\n<g id=\"node4\" class=\"node\">\n<title>3</title>\n<text text-anchor=\"middle\" x=\"6449.5\" y=\"-4557.8\" font-family=\"Times,serif\" font-size=\"14.00\">(2) str.substr(cgi_decode_s_str_1, 1, 1) == &quot;0&quot;</text>\n</g>\n<!-- 1&#45;&gt;3 -->\n<g id=\"edge3\" class=\"edge\">\n<title>1&#45;&gt;3</title>\n<path fill=\"none\" stroke=\"blue\" d=\"M6449.5,-4619.65C6449.5,-4610.07 6449.5,-4592.38 6449.5,-4579.2\"/>\n<polygon fill=\"blue\" stroke=\"blue\" points=\"6453,-4579.11 6449.5,-4569.11 6446,-4579.11 6453,-4579.11\"/>\n<text text-anchor=\"middle\" x=\"6453\" y=\"-4590.8\" font-family=\"Times,serif\" font-size=\"14.00\">1</text>\n</g>\n<!-- 4 -->\n<g id=\"node5\" class=\"node\">\n<title>4</title>\n<text text-anchor=\"middle\" x=\"6321.5\" y=\"-4491.8\" font-family=\"Times,serif\" font-size=\"14.00\">(3) str.substr(cgi_decode_s_str_1, 1, 1) == &quot;1&quot;</text>\n</g>\n<!-- 3&#45;&gt;4 -->\n<g id=\"edge4\" class=\"edge\">\n<title>3&#45;&gt;4</title>\n<path fill=\"none\" stroke=\"red\" d=\"M6436.28,-4553.89C6414.44,-4542.97 6370.56,-4521.03 6343.83,-4507.67\"/>\n<polygon fill=\"red\" stroke=\"red\" points=\"6345.35,-4504.51 6334.84,-4503.17 6342.22,-4510.77 6345.35,-4504.51\"/>\n<text text-anchor=\"middle\" x=\"6401\" y=\"-4524.8\" font-family=\"Times,serif\" font-size=\"14.00\">0</text>\n</g>\n<!-- 151 -->\n<g id=\"node152\" class=\"node\">\n<title>151</title>\n<text text-anchor=\"middle\" x=\"6471.5\" y=\"-4491.8\" font-family=\"Times,serif\" font-size=\"14.00\">?</text>\n</g>\n<!-- 3&#45;&gt;151 -->\n<g id=\"edge151\" class=\"edge\">\n<title>3&#45;&gt;151</title>\n<path fill=\"none\" stroke=\"blue\" d=\"M6451.85,-4553.65C6455.18,-4543.98 6461.35,-4526.02 6465.9,-4512.81\"/>\n<polygon fill=\"blue\" stroke=\"blue\" points=\"6469.29,-4513.7 6469.23,-4503.11 6462.67,-4511.43 6469.29,-4513.7\"/>\n<text text-anchor=\"middle\" x=\"6466\" y=\"-4524.8\" font-family=\"Times,serif\" font-size=\"14.00\">1</text>\n</g>\n<!-- 5 -->\n<g id=\"node6\" class=\"node\">\n<title>5</title>\n<text text-anchor=\"middle\" x=\"6053.5\" y=\"-4425.8\" font-family=\"Times,serif\" font-size=\"14.00\">(4) str.substr(cgi_decode_s_str_1, 1, 1) == &quot;2&quot;</text>\n</g>\n<!-- 4&#45;&gt;5 -->\n<g id=\"edge5\" class=\"edge\">\n<title>4&#45;&gt;5</title>\n<path fill=\"none\" stroke=\"red\" d=\"M6293.83,-4487.89C6245.46,-4476.34 6145.49,-4452.47 6090.97,-4439.45\"/>\n<polygon fill=\"red\" stroke=\"red\" points=\"6091.56,-4435.99 6081.02,-4437.07 6089.93,-4442.8 6091.56,-4435.99\"/>\n<text text-anchor=\"middle\" x=\"6216\" y=\"-4458.8\" font-family=\"Times,serif\" font-size=\"14.00\">0</text>\n</g>\n<!-- 90 -->\n<g id=\"node91\" class=\"node\">\n<title>90</title>\n<text text-anchor=\"middle\" x=\"6327.5\" y=\"-4425.8\" font-family=\"Times,serif\" font-size=\"14.00\">(4) str.substr(cgi_decode_s_str_1, 2, 1) == &quot;0&quot;</text>\n</g>\n<!-- 4&#45;&gt;90 -->\n<g id=\"edge90\" class=\"edge\">\n<title>4&#45;&gt;90</title>\n<path fill=\"none\" stroke=\"blue\" d=\"M6322.14,-4487.65C6323.04,-4478.07 6324.7,-4460.38 6325.93,-4447.2\"/>\n<polygon fill=\"blue\" stroke=\"blue\" points=\"6329.43,-4447.39 6326.88,-4437.11 6322.46,-4446.74 6329.43,-4447.39\"/>\n<text text-anchor=\"middle\" x=\"6329\" y=\"-4458.8\" font-family=\"Times,serif\" font-size=\"14.00\">1</text>\n</g>\n<!-- 6 -->\n<g id=\"node7\" class=\"node\">\n<title>6</title>\n<text text-anchor=\"middle\" x=\"5914.5\" y=\"-4359.8\" font-family=\"Times,serif\" font-size=\"14.00\">(5) str.substr(cgi_decode_s_str_1, 1, 1) == &quot;3&quot;</text>\n</g>\n<!-- 5&#45;&gt;6 -->\n<g id=\"edge6\" class=\"edge\">\n<title>5&#45;&gt;6</title>\n<path fill=\"none\" stroke=\"red\" d=\"M6039.15,-4421.89C6015.32,-4410.92 5967.36,-4388.84 5938.37,-4375.49\"/>\n<polygon fill=\"red\" stroke=\"red\" points=\"5939.53,-4372.17 5928.98,-4371.17 5936.6,-4378.53 5939.53,-4372.17\"/>\n<text text-anchor=\"middle\" x=\"6000\" y=\"-4392.8\" font-family=\"Times,serif\" font-size=\"14.00\">0</text>\n</g>\n<!-- 89 -->\n<g id=\"node90\" class=\"node\">\n<title>89</title>\n<text text-anchor=\"middle\" x=\"6064.5\" y=\"-4359.8\" font-family=\"Times,serif\" font-size=\"14.00\">?</text>\n</g>\n<!-- 5&#45;&gt;89 -->\n<g id=\"edge89\" class=\"edge\">\n<title>5&#45;&gt;89</title>\n<path fill=\"none\" stroke=\"blue\" d=\"M6054.68,-4421.65C6056.32,-4412.07 6059.36,-4394.38 6061.63,-4381.2\"/>\n<polygon fill=\"blue\" stroke=\"blue\" points=\"6065.12,-4381.56 6063.36,-4371.11 6058.22,-4380.37 6065.12,-4381.56\"/>\n<text text-anchor=\"middle\" x=\"6064\" y=\"-4392.8\" font-family=\"Times,serif\" font-size=\"14.00\">1</text>\n</g>\n<!-- 7 -->\n<g id=\"node8\" class=\"node\">\n<title>7</title>\n<text text-anchor=\"middle\" x=\"5804.5\" y=\"-4293.8\" font-family=\"Times,serif\" font-size=\"14.00\">(6) str.substr(cgi_decode_s_str_1, 1, 1) == &quot;4&quot;</text>\n</g>\n<!-- 6&#45;&gt;7 -->\n<g id=\"edge7\" class=\"edge\">\n<title>6&#45;&gt;7</title>\n<path fill=\"none\" stroke=\"red\" d=\"M5903.14,-4355.89C5884.62,-4345.11 5847.65,-4323.61 5824.61,-4310.2\"/>\n<polygon fill=\"red\" stroke=\"red\" points=\"5826.36,-4307.17 5815.96,-4305.17 5822.84,-4313.22 5826.36,-4307.17\"/>\n<text text-anchor=\"middle\" x=\"5873\" y=\"-4326.8\" font-family=\"Times,serif\" font-size=\"14.00\">0</text>\n</g>\n<!-- 88 -->\n<g id=\"node89\" class=\"node\">\n<title>88</title>\n<text text-anchor=\"middle\" x=\"5954.5\" y=\"-4293.8\" font-family=\"Times,serif\" font-size=\"14.00\">?</text>\n</g>\n<!-- 6&#45;&gt;88 -->\n<g id=\"edge88\" class=\"edge\">\n<title>6&#45;&gt;88</title>\n<path fill=\"none\" stroke=\"blue\" d=\"M5918.78,-4355.65C5925.08,-4345.58 5936.99,-4326.52 5945.32,-4313.2\"/>\n<polygon fill=\"blue\" stroke=\"blue\" points=\"5948.5,-4314.7 5950.84,-4304.36 5942.57,-4310.99 5948.5,-4314.7\"/>\n<text text-anchor=\"middle\" x=\"5942\" y=\"-4326.8\" font-family=\"Times,serif\" font-size=\"14.00\">1</text>\n</g>\n<!-- 8 -->\n<g id=\"node9\" class=\"node\">\n<title>8</title>\n<text text-anchor=\"middle\" x=\"5714.5\" y=\"-4227.8\" font-family=\"Times,serif\" font-size=\"14.00\">(7) str.substr(cgi_decode_s_str_1, 1, 1) == &quot;5&quot;</text>\n</g>\n<!-- 7&#45;&gt;8 -->\n<g id=\"edge8\" class=\"edge\">\n<title>7&#45;&gt;8</title>\n<path fill=\"none\" stroke=\"red\" d=\"M5795.21,-4289.89C5780.39,-4279.35 5751.14,-4258.56 5732.23,-4245.1\"/>\n<polygon fill=\"red\" stroke=\"red\" points=\"5734.05,-4242.11 5723.88,-4239.17 5730,-4247.82 5734.05,-4242.11\"/>\n<text text-anchor=\"middle\" x=\"5772\" y=\"-4260.8\" font-family=\"Times,serif\" font-size=\"14.00\">0</text>\n</g>\n<!-- 87 -->\n<g id=\"node88\" class=\"node\">\n<title>87</title>\n<text text-anchor=\"middle\" x=\"5864.5\" y=\"-4227.8\" font-family=\"Times,serif\" font-size=\"14.00\">?</text>\n</g>\n<!-- 7&#45;&gt;87 -->\n<g id=\"edge87\" class=\"edge\">\n<title>7&#45;&gt;87</title>\n<path fill=\"none\" stroke=\"blue\" d=\"M5810.92,-4289.65C5821.24,-4278.65 5841.6,-4256.92 5854.04,-4243.66\"/>\n<polygon fill=\"blue\" stroke=\"blue\" points=\"5856.6,-4246.05 5860.88,-4236.36 5851.49,-4241.26 5856.6,-4246.05\"/>\n<text text-anchor=\"middle\" x=\"5844\" y=\"-4260.8\" font-family=\"Times,serif\" font-size=\"14.00\">1</text>\n</g>\n<!-- 9 -->\n<g id=\"node10\" class=\"node\">\n<title>9</title>\n<text text-anchor=\"middle\" x=\"5605.5\" y=\"-4161.8\" font-family=\"Times,serif\" font-size=\"14.00\">(8) str.substr(cgi_decode_s_str_1, 1, 1) == &quot;6&quot;</text>\n</g>\n<!-- 8&#45;&gt;9 -->\n<g id=\"edge9\" class=\"edge\">\n<title>8&#45;&gt;9</title>\n<path fill=\"none\" stroke=\"red\" d=\"M5703.25,-4223.89C5684.97,-4213.16 5648.59,-4191.8 5625.73,-4178.38\"/>\n<polygon fill=\"red\" stroke=\"red\" points=\"5627.25,-4175.21 5616.86,-4173.17 5623.71,-4181.25 5627.25,-4175.21\"/>\n<text text-anchor=\"middle\" x=\"5674\" y=\"-4194.8\" font-family=\"Times,serif\" font-size=\"14.00\">0</text>\n</g>\n<!-- 86 -->\n<g id=\"node87\" class=\"node\">\n<title>86</title>\n<text text-anchor=\"middle\" x=\"5755.5\" y=\"-4161.8\" font-family=\"Times,serif\" font-size=\"14.00\">?</text>\n</g>\n<!-- 8&#45;&gt;86 -->\n<g id=\"edge86\" class=\"edge\">\n<title>8&#45;&gt;86</title>\n<path fill=\"none\" stroke=\"blue\" d=\"M5718.89,-4223.65C5725.41,-4213.48 5737.8,-4194.13 5746.35,-4180.79\"/>\n<polygon fill=\"blue\" stroke=\"blue\" points=\"5749.53,-4182.31 5751.97,-4172.01 5743.63,-4178.54 5749.53,-4182.31\"/>\n<text text-anchor=\"middle\" x=\"5743\" y=\"-4194.8\" font-family=\"Times,serif\" font-size=\"14.00\">1</text>\n</g>\n<!-- 10 -->\n<g id=\"node11\" class=\"node\">\n<title>10</title>\n<text text-anchor=\"middle\" x=\"5466.5\" y=\"-4095.8\" font-family=\"Times,serif\" font-size=\"14.00\">(9) str.substr(cgi_decode_s_str_1, 1, 1) == &quot;7&quot;</text>\n</g>\n<!-- 9&#45;&gt;10 -->\n<g id=\"edge10\" class=\"edge\">\n<title>9&#45;&gt;10</title>\n<path fill=\"none\" stroke=\"red\" d=\"M5591.15,-4157.89C5567.32,-4146.92 5519.36,-4124.84 5490.37,-4111.49\"/>\n<polygon fill=\"red\" stroke=\"red\" points=\"5491.53,-4108.17 5480.98,-4107.17 5488.6,-4114.53 5491.53,-4108.17\"/>\n<text text-anchor=\"middle\" x=\"5552\" y=\"-4128.8\" font-family=\"Times,serif\" font-size=\"14.00\">0</text>\n</g>\n<!-- 85 -->\n<g id=\"node86\" class=\"node\">\n<title>85</title>\n<text text-anchor=\"middle\" x=\"5616.5\" y=\"-4095.8\" font-family=\"Times,serif\" font-size=\"14.00\">?</text>\n</g>\n<!-- 9&#45;&gt;85 -->\n<g id=\"edge85\" class=\"edge\">\n<title>9&#45;&gt;85</title>\n<path fill=\"none\" stroke=\"blue\" d=\"M5606.68,-4157.65C5608.32,-4148.07 5611.36,-4130.38 5613.63,-4117.2\"/>\n<polygon fill=\"blue\" stroke=\"blue\" points=\"5617.12,-4117.56 5615.36,-4107.11 5610.22,-4116.37 5617.12,-4117.56\"/>\n<text text-anchor=\"middle\" x=\"5616\" y=\"-4128.8\" font-family=\"Times,serif\" font-size=\"14.00\">1</text>\n</g>\n<!-- 11 -->\n<g id=\"node12\" class=\"node\">\n<title>11</title>\n<text text-anchor=\"middle\" x=\"5400.5\" y=\"-4029.8\" font-family=\"Times,serif\" font-size=\"14.00\">(10) str.substr(cgi_decode_s_str_1, 1, 1) == &quot;8&quot;</text>\n</g>\n<!-- 10&#45;&gt;11 -->\n<g id=\"edge11\" class=\"edge\">\n<title>10&#45;&gt;11</title>\n<path fill=\"none\" stroke=\"red\" d=\"M5459.44,-4091.65C5448.76,-4081.3 5428.31,-4061.46 5414.53,-4048.1\"/>\n<polygon fill=\"red\" stroke=\"red\" points=\"5416.93,-4045.56 5407.31,-4041.11 5412.06,-4050.58 5416.93,-4045.56\"/>\n<text text-anchor=\"middle\" x=\"5443\" y=\"-4062.8\" font-family=\"Times,serif\" font-size=\"14.00\">0</text>\n</g>\n<!-- 84 -->\n<g id=\"node85\" class=\"node\">\n<title>84</title>\n<text text-anchor=\"middle\" x=\"5553.5\" y=\"-4029.8\" font-family=\"Times,serif\" font-size=\"14.00\">?</text>\n</g>\n<!-- 10&#45;&gt;84 -->\n<g id=\"edge84\" class=\"edge\">\n<title>10&#45;&gt;84</title>\n<path fill=\"none\" stroke=\"blue\" d=\"M5475.48,-4091.89C5491.23,-4080.3 5523.84,-4056.32 5541.5,-4043.33\"/>\n<polygon fill=\"blue\" stroke=\"blue\" points=\"5543.77,-4046 5549.75,-4037.26 5539.63,-4040.36 5543.77,-4046\"/>\n<text text-anchor=\"middle\" x=\"5522\" y=\"-4062.8\" font-family=\"Times,serif\" font-size=\"14.00\">1</text>\n</g>\n<!-- 12 -->\n<g id=\"node13\" class=\"node\">\n<title>12</title>\n<text text-anchor=\"middle\" x=\"5262.5\" y=\"-3963.8\" font-family=\"Times,serif\" font-size=\"14.00\">(11) str.substr(cgi_decode_s_str_1, 1, 1) == &quot;9&quot;</text>\n</g>\n<!-- 11&#45;&gt;12 -->\n<g id=\"edge12\" class=\"edge\">\n<title>11&#45;&gt;12</title>\n<path fill=\"none\" stroke=\"red\" d=\"M5386.25,-4025.89C5362.6,-4014.92 5314.98,-3992.84 5286.2,-3979.49\"/>\n<polygon fill=\"red\" stroke=\"red\" points=\"5287.42,-3976.2 5276.88,-3975.17 5284.48,-3982.55 5287.42,-3976.2\"/>\n<text text-anchor=\"middle\" x=\"5348\" y=\"-3996.8\" font-family=\"Times,serif\" font-size=\"14.00\">0</text>\n</g>\n<!-- 83 -->\n<g id=\"node84\" class=\"node\">\n<title>83</title>\n<text text-anchor=\"middle\" x=\"5415.5\" y=\"-3963.8\" font-family=\"Times,serif\" font-size=\"14.00\">?</text>\n</g>\n<!-- 11&#45;&gt;83 -->\n<g id=\"edge83\" class=\"edge\">\n<title>11&#45;&gt;83</title>\n<path fill=\"none\" stroke=\"blue\" d=\"M5402.11,-4025.65C5404.35,-4016.07 5408.5,-3998.38 5411.59,-3985.2\"/>\n<polygon fill=\"blue\" stroke=\"blue\" points=\"5415.08,-3985.64 5413.95,-3975.11 5408.26,-3984.05 5415.08,-3985.64\"/>\n<text text-anchor=\"middle\" x=\"5413\" y=\"-3996.8\" font-family=\"Times,serif\" font-size=\"14.00\">1</text>\n</g>\n<!-- 13 -->\n<g id=\"node14\" class=\"node\">\n<title>13</title>\n<text text-anchor=\"middle\" x=\"5116.5\" y=\"-3897.8\" font-family=\"Times,serif\" font-size=\"14.00\">(12) str.substr(cgi_decode_s_str_1, 1, 1) == &quot;a&quot;</text>\n</g>\n<!-- 12&#45;&gt;13 -->\n<g id=\"edge13\" class=\"edge\">\n<title>12&#45;&gt;13</title>\n<path fill=\"none\" stroke=\"red\" d=\"M5247.43,-3959.89C5222.29,-3948.87 5171.58,-3926.65 5141.18,-3913.32\"/>\n<polygon fill=\"red\" stroke=\"red\" points=\"5142.28,-3909.98 5131.71,-3909.17 5139.46,-3916.39 5142.28,-3909.98\"/>\n<text text-anchor=\"middle\" x=\"5207\" y=\"-3930.8\" font-family=\"Times,serif\" font-size=\"14.00\">0</text>\n</g>\n<!-- 82 -->\n<g id=\"node83\" class=\"node\">\n<title>82</title>\n<text text-anchor=\"middle\" x=\"5269.5\" y=\"-3897.8\" font-family=\"Times,serif\" font-size=\"14.00\">?</text>\n</g>\n<!-- 12&#45;&gt;82 -->\n<g id=\"edge82\" class=\"edge\">\n<title>12&#45;&gt;82</title>\n<path fill=\"none\" stroke=\"blue\" d=\"M5263.25,-3959.65C5264.3,-3950.07 5266.23,-3932.38 5267.67,-3919.2\"/>\n<polygon fill=\"blue\" stroke=\"blue\" points=\"5271.17,-3919.43 5268.78,-3909.11 5264.21,-3918.67 5271.17,-3919.43\"/>\n<text text-anchor=\"middle\" x=\"5271\" y=\"-3930.8\" font-family=\"Times,serif\" font-size=\"14.00\">1</text>\n</g>\n<!-- 14 -->\n<g id=\"node15\" class=\"node\">\n<title>14</title>\n<text text-anchor=\"middle\" x=\"5011.5\" y=\"-3831.8\" font-family=\"Times,serif\" font-size=\"14.00\">(13) str.substr(cgi_decode_s_str_1, 1, 1) == &quot;b&quot;</text>\n</g>\n<!-- 13&#45;&gt;14 -->\n<g id=\"edge14\" class=\"edge\">\n<title>13&#45;&gt;14</title>\n<path fill=\"none\" stroke=\"red\" d=\"M5105.66,-3893.89C5088.05,-3883.16 5053,-3861.8 5030.99,-3848.38\"/>\n<polygon fill=\"red\" stroke=\"red\" points=\"5032.8,-3845.38 5022.44,-3843.17 5029.16,-3851.36 5032.8,-3845.38\"/>\n<text text-anchor=\"middle\" x=\"5077\" y=\"-3864.8\" font-family=\"Times,serif\" font-size=\"14.00\">0</text>\n</g>\n<!-- 81 -->\n<g id=\"node82\" class=\"node\">\n<title>81</title>\n<text text-anchor=\"middle\" x=\"5164.5\" y=\"-3831.8\" font-family=\"Times,serif\" font-size=\"14.00\">?</text>\n</g>\n<!-- 13&#45;&gt;81 -->\n<g id=\"edge81\" class=\"edge\">\n<title>13&#45;&gt;81</title>\n<path fill=\"none\" stroke=\"blue\" d=\"M5121.64,-3893.65C5129.5,-3883.17 5144.66,-3862.96 5154.68,-3849.6\"/>\n<polygon fill=\"blue\" stroke=\"blue\" points=\"5157.69,-3851.42 5160.89,-3841.32 5152.09,-3847.22 5157.69,-3851.42\"/>\n<text text-anchor=\"middle\" x=\"5149\" y=\"-3864.8\" font-family=\"Times,serif\" font-size=\"14.00\">1</text>\n</g>\n<!-- 15 -->\n<g id=\"node16\" class=\"node\">\n<title>15</title>\n<text text-anchor=\"middle\" x=\"4873.5\" y=\"-3765.8\" font-family=\"Times,serif\" font-size=\"14.00\">(14) str.substr(cgi_decode_s_str_1, 1, 1) == &quot;c&quot;</text>\n</g>\n<!-- 14&#45;&gt;15 -->\n<g id=\"edge15\" class=\"edge\">\n<title>14&#45;&gt;15</title>\n<path fill=\"none\" stroke=\"red\" d=\"M4997.25,-3827.89C4973.6,-3816.92 4925.98,-3794.84 4897.2,-3781.49\"/>\n<polygon fill=\"red\" stroke=\"red\" points=\"4898.42,-3778.2 4887.88,-3777.17 4895.48,-3784.55 4898.42,-3778.2\"/>\n<text text-anchor=\"middle\" x=\"4959\" y=\"-3798.8\" font-family=\"Times,serif\" font-size=\"14.00\">0</text>\n</g>\n<!-- 80 -->\n<g id=\"node81\" class=\"node\">\n<title>80</title>\n<text text-anchor=\"middle\" x=\"5026.5\" y=\"-3765.8\" font-family=\"Times,serif\" font-size=\"14.00\">?</text>\n</g>\n<!-- 14&#45;&gt;80 -->\n<g id=\"edge80\" class=\"edge\">\n<title>14&#45;&gt;80</title>\n<path fill=\"none\" stroke=\"blue\" d=\"M5013.11,-3827.65C5015.35,-3818.07 5019.5,-3800.38 5022.59,-3787.2\"/>\n<polygon fill=\"blue\" stroke=\"blue\" points=\"5026.08,-3787.64 5024.95,-3777.11 5019.26,-3786.05 5026.08,-3787.64\"/>\n<text text-anchor=\"middle\" x=\"5024\" y=\"-3798.8\" font-family=\"Times,serif\" font-size=\"14.00\">1</text>\n</g>\n<!-- 16 -->\n<g id=\"node17\" class=\"node\">\n<title>16</title>\n<text text-anchor=\"middle\" x=\"4723.5\" y=\"-3699.8\" font-family=\"Times,serif\" font-size=\"14.00\">(15) str.substr(cgi_decode_s_str_1, 1, 1) == &quot;d&quot;</text>\n</g>\n<!-- 15&#45;&gt;16 -->\n<g id=\"edge16\" class=\"edge\">\n<title>15&#45;&gt;16</title>\n<path fill=\"none\" stroke=\"red\" d=\"M4858.01,-3761.89C4832.08,-3750.83 4779.64,-3728.45 4748.45,-3715.14\"/>\n<polygon fill=\"red\" stroke=\"red\" points=\"4749.7,-3711.87 4739.13,-3711.17 4746.95,-3718.31 4749.7,-3711.87\"/>\n<text text-anchor=\"middle\" x=\"4816\" y=\"-3732.8\" font-family=\"Times,serif\" font-size=\"14.00\">0</text>\n</g>\n<!-- 79 -->\n<g id=\"node80\" class=\"node\">\n<title>79</title>\n<text text-anchor=\"middle\" x=\"4876.5\" y=\"-3699.8\" font-family=\"Times,serif\" font-size=\"14.00\">?</text>\n</g>\n<!-- 15&#45;&gt;79 -->\n<g id=\"edge79\" class=\"edge\">\n<title>15&#45;&gt;79</title>\n<path fill=\"none\" stroke=\"blue\" d=\"M4873.82,-3761.65C4874.27,-3752.07 4875.1,-3734.38 4875.72,-3721.2\"/>\n<polygon fill=\"blue\" stroke=\"blue\" points=\"4879.22,-3721.26 4876.19,-3711.11 4872.23,-3720.93 4879.22,-3721.26\"/>\n<text text-anchor=\"middle\" x=\"4879\" y=\"-3732.8\" font-family=\"Times,serif\" font-size=\"14.00\">1</text>\n</g>\n<!-- 17 -->\n<g id=\"node18\" class=\"node\">\n<title>17</title>\n<text text-anchor=\"middle\" x=\"4576.5\" y=\"-3633.8\" font-family=\"Times,serif\" font-size=\"14.00\">(16) str.substr(cgi_decode_s_str_1, 1, 1) == &quot;e&quot;</text>\n</g>\n<!-- 16&#45;&gt;17 -->\n<g id=\"edge17\" class=\"edge\">\n<title>16&#45;&gt;17</title>\n<path fill=\"none\" stroke=\"red\" d=\"M4708.32,-3695.89C4683.01,-3684.87 4631.96,-3662.65 4601.35,-3649.32\"/>\n<polygon fill=\"red\" stroke=\"red\" points=\"4602.38,-3645.95 4591.82,-3645.17 4599.59,-3652.37 4602.38,-3645.95\"/>\n<text text-anchor=\"middle\" x=\"4667\" y=\"-3666.8\" font-family=\"Times,serif\" font-size=\"14.00\">0</text>\n</g>\n<!-- 78 -->\n<g id=\"node79\" class=\"node\">\n<title>78</title>\n<text text-anchor=\"middle\" x=\"4729.5\" y=\"-3633.8\" font-family=\"Times,serif\" font-size=\"14.00\">?</text>\n</g>\n<!-- 16&#45;&gt;78 -->\n<g id=\"edge78\" class=\"edge\">\n<title>16&#45;&gt;78</title>\n<path fill=\"none\" stroke=\"blue\" d=\"M4724.14,-3695.65C4725.04,-3686.07 4726.7,-3668.38 4727.93,-3655.2\"/>\n<polygon fill=\"blue\" stroke=\"blue\" points=\"4731.43,-3655.39 4728.88,-3645.11 4724.46,-3654.74 4731.43,-3655.39\"/>\n<text text-anchor=\"middle\" x=\"4731\" y=\"-3666.8\" font-family=\"Times,serif\" font-size=\"14.00\">1</text>\n</g>\n<!-- 18 -->\n<g id=\"node19\" class=\"node\">\n<title>18</title>\n<text text-anchor=\"middle\" x=\"4435.5\" y=\"-3567.8\" font-family=\"Times,serif\" font-size=\"14.00\">(17) str.substr(cgi_decode_s_str_1, 1, 1) == &quot;f&quot;</text>\n</g>\n<!-- 17&#45;&gt;18 -->\n<g id=\"edge18\" class=\"edge\">\n<title>17&#45;&gt;18</title>\n<path fill=\"none\" stroke=\"red\" d=\"M4561.94,-3629.89C4537.67,-3618.87 4488.7,-3596.65 4459.33,-3583.32\"/>\n<polygon fill=\"red\" stroke=\"red\" points=\"4460.74,-3580.11 4450.19,-3579.17 4457.85,-3586.49 4460.74,-3580.11\"/>\n<text text-anchor=\"middle\" x=\"4523\" y=\"-3600.8\" font-family=\"Times,serif\" font-size=\"14.00\">0</text>\n</g>\n<!-- 77 -->\n<g id=\"node78\" class=\"node\">\n<title>77</title>\n<text text-anchor=\"middle\" x=\"4587.5\" y=\"-3567.8\" font-family=\"Times,serif\" font-size=\"14.00\">?</text>\n</g>\n<!-- 17&#45;&gt;77 -->\n<g id=\"edge77\" class=\"edge\">\n<title>17&#45;&gt;77</title>\n<path fill=\"none\" stroke=\"blue\" d=\"M4577.68,-3629.65C4579.32,-3620.07 4582.36,-3602.38 4584.63,-3589.2\"/>\n<polygon fill=\"blue\" stroke=\"blue\" points=\"4588.12,-3589.56 4586.36,-3579.11 4581.22,-3588.37 4588.12,-3589.56\"/>\n<text text-anchor=\"middle\" x=\"4587\" y=\"-3600.8\" font-family=\"Times,serif\" font-size=\"14.00\">1</text>\n</g>\n<!-- 19 -->\n<g id=\"node20\" class=\"node\">\n<title>19</title>\n<text text-anchor=\"middle\" x=\"4307.5\" y=\"-3501.8\" font-family=\"Times,serif\" font-size=\"14.00\">(18) str.substr(cgi_decode_s_str_1, 1, 1) == &quot;A&quot;</text>\n</g>\n<!-- 18&#45;&gt;19 -->\n<g id=\"edge19\" class=\"edge\">\n<title>18&#45;&gt;19</title>\n<path fill=\"none\" stroke=\"red\" d=\"M4422.28,-3563.89C4400.44,-3552.97 4356.56,-3531.03 4329.83,-3517.67\"/>\n<polygon fill=\"red\" stroke=\"red\" points=\"4331.35,-3514.51 4320.84,-3513.17 4328.22,-3520.77 4331.35,-3514.51\"/>\n<text text-anchor=\"middle\" x=\"4387\" y=\"-3534.8\" font-family=\"Times,serif\" font-size=\"14.00\">0</text>\n</g>\n<!-- 76 -->\n<g id=\"node77\" class=\"node\">\n<title>76</title>\n<text text-anchor=\"middle\" x=\"4462.5\" y=\"-3501.8\" font-family=\"Times,serif\" font-size=\"14.00\">?</text>\n</g>\n<!-- 18&#45;&gt;76 -->\n<g id=\"edge76\" class=\"edge\">\n<title>18&#45;&gt;76</title>\n<path fill=\"none\" stroke=\"blue\" d=\"M4438.39,-3563.65C4442.51,-3553.88 4450.2,-3535.66 4455.79,-3522.41\"/>\n<polygon fill=\"blue\" stroke=\"blue\" points=\"4459.05,-3523.68 4459.71,-3513.11 4452.6,-3520.96 4459.05,-3523.68\"/>\n<text text-anchor=\"middle\" x=\"4455\" y=\"-3534.8\" font-family=\"Times,serif\" font-size=\"14.00\">1</text>\n</g>\n<!-- 20 -->\n<g id=\"node21\" class=\"node\">\n<title>20</title>\n<text text-anchor=\"middle\" x=\"4162.5\" y=\"-3435.8\" font-family=\"Times,serif\" font-size=\"14.00\">(19) str.substr(cgi_decode_s_str_1, 1, 1) == &quot;B&quot;</text>\n</g>\n<!-- 19&#45;&gt;20 -->\n<g id=\"edge20\" class=\"edge\">\n<title>19&#45;&gt;20</title>\n<path fill=\"none\" stroke=\"red\" d=\"M4292.53,-3497.89C4267.57,-3486.87 4217.21,-3464.65 4187.01,-3451.32\"/>\n<polygon fill=\"red\" stroke=\"red\" points=\"4188.17,-3448 4177.61,-3447.17 4185.34,-3454.41 4188.17,-3448\"/>\n<text text-anchor=\"middle\" x=\"4252\" y=\"-3468.8\" font-family=\"Times,serif\" font-size=\"14.00\">0</text>\n</g>\n<!-- 75 -->\n<g id=\"node76\" class=\"node\">\n<title>75</title>\n<text text-anchor=\"middle\" x=\"4316.5\" y=\"-3435.8\" font-family=\"Times,serif\" font-size=\"14.00\">?</text>\n</g>\n<!-- 19&#45;&gt;75 -->\n<g id=\"edge75\" class=\"edge\">\n<title>19&#45;&gt;75</title>\n<path fill=\"none\" stroke=\"blue\" d=\"M4308.46,-3497.65C4309.81,-3488.07 4312.3,-3470.38 4314.15,-3457.2\"/>\n<polygon fill=\"blue\" stroke=\"blue\" points=\"4317.64,-3457.5 4315.57,-3447.11 4310.71,-3456.52 4317.64,-3457.5\"/>\n<text text-anchor=\"middle\" x=\"4317\" y=\"-3468.8\" font-family=\"Times,serif\" font-size=\"14.00\">1</text>\n</g>\n<!-- 21 -->\n<g id=\"node22\" class=\"node\">\n<title>21</title>\n<text text-anchor=\"middle\" x=\"4030.5\" y=\"-3369.8\" font-family=\"Times,serif\" font-size=\"14.00\">(20) str.substr(cgi_decode_s_str_1, 1, 1) == &quot;C&quot;</text>\n</g>\n<!-- 20&#45;&gt;21 -->\n<g id=\"edge21\" class=\"edge\">\n<title>20&#45;&gt;21</title>\n<path fill=\"none\" stroke=\"red\" d=\"M4148.87,-3431.89C4126.34,-3420.97 4081.1,-3399.03 4053.53,-3385.67\"/>\n<polygon fill=\"red\" stroke=\"red\" points=\"4054.78,-3382.38 4044.25,-3381.17 4051.72,-3388.68 4054.78,-3382.38\"/>\n<text text-anchor=\"middle\" x=\"4112\" y=\"-3402.8\" font-family=\"Times,serif\" font-size=\"14.00\">0</text>\n</g>\n<!-- 74 -->\n<g id=\"node75\" class=\"node\">\n<title>74</title>\n<text text-anchor=\"middle\" x=\"4184.5\" y=\"-3369.8\" font-family=\"Times,serif\" font-size=\"14.00\">?</text>\n</g>\n<!-- 20&#45;&gt;74 -->\n<g id=\"edge74\" class=\"edge\">\n<title>20&#45;&gt;74</title>\n<path fill=\"none\" stroke=\"blue\" d=\"M4164.85,-3431.65C4168.18,-3421.98 4174.35,-3404.02 4178.9,-3390.81\"/>\n<polygon fill=\"blue\" stroke=\"blue\" points=\"4182.29,-3391.7 4182.23,-3381.11 4175.67,-3389.43 4182.29,-3391.7\"/>\n<text text-anchor=\"middle\" x=\"4179\" y=\"-3402.8\" font-family=\"Times,serif\" font-size=\"14.00\">1</text>\n</g>\n<!-- 22 -->\n<g id=\"node23\" class=\"node\">\n<title>22</title>\n<text text-anchor=\"middle\" x=\"3958.5\" y=\"-3303.8\" font-family=\"Times,serif\" font-size=\"14.00\">(21) str.substr(cgi_decode_s_str_1, 1, 1) == &quot;D&quot;</text>\n</g>\n<!-- 21&#45;&gt;22 -->\n<g id=\"edge22\" class=\"edge\">\n<title>21&#45;&gt;22</title>\n<path fill=\"none\" stroke=\"red\" d=\"M4023.07,-3365.89C4011.42,-3355.54 3988.66,-3335.31 3973.51,-3321.85\"/>\n<polygon fill=\"red\" stroke=\"red\" points=\"3975.8,-3319.2 3966,-3315.17 3971.15,-3324.43 3975.8,-3319.2\"/>\n<text text-anchor=\"middle\" x=\"4005\" y=\"-3336.8\" font-family=\"Times,serif\" font-size=\"14.00\">0</text>\n</g>\n<!-- 73 -->\n<g id=\"node74\" class=\"node\">\n<title>73</title>\n<text text-anchor=\"middle\" x=\"4113.5\" y=\"-3303.8\" font-family=\"Times,serif\" font-size=\"14.00\">?</text>\n</g>\n<!-- 21&#45;&gt;73 -->\n<g id=\"edge73\" class=\"edge\">\n<title>21&#45;&gt;73</title>\n<path fill=\"none\" stroke=\"blue\" d=\"M4039.07,-3365.89C4054.03,-3354.36 4084.91,-3330.54 4101.82,-3317.51\"/>\n<polygon fill=\"blue\" stroke=\"blue\" points=\"4104.15,-3320.13 4109.93,-3311.26 4099.87,-3314.59 4104.15,-3320.13\"/>\n<text text-anchor=\"middle\" x=\"4083\" y=\"-3336.8\" font-family=\"Times,serif\" font-size=\"14.00\">1</text>\n</g>\n<!-- 23 -->\n<g id=\"node24\" class=\"node\">\n<title>23</title>\n<text text-anchor=\"middle\" x=\"3849.5\" y=\"-3237.8\" font-family=\"Times,serif\" font-size=\"14.00\">(22) str.substr(cgi_decode_s_str_1, 1, 1) == &quot;E&quot;</text>\n</g>\n<!-- 22&#45;&gt;23 -->\n<g id=\"edge23\" class=\"edge\">\n<title>22&#45;&gt;23</title>\n<path fill=\"none\" stroke=\"red\" d=\"M3947.25,-3299.89C3928.97,-3289.16 3892.59,-3267.8 3869.73,-3254.38\"/>\n<polygon fill=\"red\" stroke=\"red\" points=\"3871.25,-3251.21 3860.86,-3249.17 3867.71,-3257.25 3871.25,-3251.21\"/>\n<text text-anchor=\"middle\" x=\"3918\" y=\"-3270.8\" font-family=\"Times,serif\" font-size=\"14.00\">0</text>\n</g>\n<!-- 72 -->\n<g id=\"node73\" class=\"node\">\n<title>72</title>\n<text text-anchor=\"middle\" x=\"4003.5\" y=\"-3237.8\" font-family=\"Times,serif\" font-size=\"14.00\">?</text>\n</g>\n<!-- 22&#45;&gt;72 -->\n<g id=\"edge72\" class=\"edge\">\n<title>22&#45;&gt;72</title>\n<path fill=\"none\" stroke=\"blue\" d=\"M3963.32,-3299.65C3970.61,-3289.27 3984.62,-3269.36 3994.01,-3256\"/>\n<polygon fill=\"blue\" stroke=\"blue\" points=\"3996.99,-3257.85 3999.87,-3247.66 3991.26,-3253.82 3996.99,-3257.85\"/>\n<text text-anchor=\"middle\" x=\"3989\" y=\"-3270.8\" font-family=\"Times,serif\" font-size=\"14.00\">1</text>\n</g>\n<!-- 24 -->\n<g id=\"node25\" class=\"node\">\n<title>24</title>\n<text text-anchor=\"middle\" x=\"3710.5\" y=\"-3171.8\" font-family=\"Times,serif\" font-size=\"14.00\">(23) str.substr(cgi_decode_s_str_1, 1, 1) == &quot;F&quot;</text>\n</g>\n<!-- 23&#45;&gt;24 -->\n<g id=\"edge24\" class=\"edge\">\n<title>23&#45;&gt;24</title>\n<path fill=\"none\" stroke=\"red\" d=\"M3835.15,-3233.89C3811.32,-3222.92 3763.36,-3200.84 3734.37,-3187.49\"/>\n<polygon fill=\"red\" stroke=\"red\" points=\"3735.53,-3184.17 3724.98,-3183.17 3732.6,-3190.53 3735.53,-3184.17\"/>\n<text text-anchor=\"middle\" x=\"3796\" y=\"-3204.8\" font-family=\"Times,serif\" font-size=\"14.00\">0</text>\n</g>\n<!-- 71 -->\n<g id=\"node72\" class=\"node\">\n<title>71</title>\n<text text-anchor=\"middle\" x=\"3864.5\" y=\"-3171.8\" font-family=\"Times,serif\" font-size=\"14.00\">?</text>\n</g>\n<!-- 23&#45;&gt;71 -->\n<g id=\"edge71\" class=\"edge\">\n<title>23&#45;&gt;71</title>\n<path fill=\"none\" stroke=\"blue\" d=\"M3851.11,-3233.65C3853.35,-3224.07 3857.5,-3206.38 3860.59,-3193.2\"/>\n<polygon fill=\"blue\" stroke=\"blue\" points=\"3864.08,-3193.64 3862.95,-3183.11 3857.26,-3192.05 3864.08,-3193.64\"/>\n<text text-anchor=\"middle\" x=\"3862\" y=\"-3204.8\" font-family=\"Times,serif\" font-size=\"14.00\">1</text>\n</g>\n<!-- 25 -->\n<g id=\"node26\" class=\"node\">\n<title>25</title>\n<text text-anchor=\"middle\" x=\"3707.5\" y=\"-3105.8\" font-family=\"Times,serif\" font-size=\"14.00\">(24) str.substr(cgi_decode_s_str_1, 2, 1) == &quot;0&quot;</text>\n</g>\n<!-- 24&#45;&gt;25 -->\n<g id=\"edge25\" class=\"edge\">\n<title>24&#45;&gt;25</title>\n<path fill=\"none\" stroke=\"red\" d=\"M3710.18,-3167.65C3709.73,-3158.07 3708.9,-3140.38 3708.28,-3127.2\"/>\n<polygon fill=\"red\" stroke=\"red\" points=\"3711.77,-3126.93 3707.81,-3117.11 3704.78,-3127.26 3711.77,-3126.93\"/>\n<text text-anchor=\"middle\" x=\"3713\" y=\"-3138.8\" font-family=\"Times,serif\" font-size=\"14.00\">0</text>\n</g>\n<!-- 70 -->\n<g id=\"node71\" class=\"node\">\n<title>70</title>\n<text text-anchor=\"middle\" x=\"3860.5\" y=\"-3105.8\" font-family=\"Times,serif\" font-size=\"14.00\">?</text>\n</g>\n<!-- 24&#45;&gt;70 -->\n<g id=\"edge70\" class=\"edge\">\n<title>24&#45;&gt;70</title>\n<path fill=\"none\" stroke=\"blue\" d=\"M3727.1,-3167.95C3753.03,-3157.62 3804.6,-3136.7 3847.5,-3117 3847.6,-3116.96 3847.7,-3116.91 3847.79,-3116.86\"/>\n<polygon fill=\"blue\" stroke=\"blue\" points=\"3849.24,-3120.06 3856.66,-3112.5 3846.15,-3113.77 3849.24,-3120.06\"/>\n<text text-anchor=\"middle\" x=\"3810\" y=\"-3138.8\" font-family=\"Times,serif\" font-size=\"14.00\">1</text>\n</g>\n<!-- 26 -->\n<g id=\"node27\" class=\"node\">\n<title>26</title>\n<text text-anchor=\"middle\" x=\"3705.5\" y=\"-3039.8\" font-family=\"Times,serif\" font-size=\"14.00\">(25) str.substr(cgi_decode_s_str_1, 2, 1) == &quot;1&quot;</text>\n</g>\n<!-- 25&#45;&gt;26 -->\n<g id=\"edge26\" class=\"edge\">\n<title>25&#45;&gt;26</title>\n<path fill=\"none\" stroke=\"red\" d=\"M3707.29,-3101.65C3706.99,-3092.07 3706.43,-3074.38 3706.02,-3061.2\"/>\n<polygon fill=\"red\" stroke=\"red\" points=\"3709.52,-3060.99 3705.71,-3051.11 3702.52,-3061.21 3709.52,-3060.99\"/>\n<text text-anchor=\"middle\" x=\"3711\" y=\"-3072.8\" font-family=\"Times,serif\" font-size=\"14.00\">0</text>\n</g>\n<!-- 69 -->\n<g id=\"node70\" class=\"node\">\n<title>69</title>\n<text text-anchor=\"middle\" x=\"3858.5\" y=\"-3039.8\" font-family=\"Times,serif\" font-size=\"14.00\">?</text>\n</g>\n<!-- 25&#45;&gt;69 -->\n<g id=\"edge69\" class=\"edge\">\n<title>25&#45;&gt;69</title>\n<path fill=\"none\" stroke=\"blue\" d=\"M3724.23,-3101.96C3750.35,-3091.66 3802.31,-3070.77 3845.5,-3051 3845.6,-3050.96 3845.7,-3050.91 3845.79,-3050.87\"/>\n<polygon fill=\"blue\" stroke=\"blue\" points=\"3847.24,-3054.06 3854.67,-3046.5 3844.15,-3047.77 3847.24,-3054.06\"/>\n<text text-anchor=\"middle\" x=\"3808\" y=\"-3072.8\" font-family=\"Times,serif\" font-size=\"14.00\">1</text>\n</g>\n<!-- 27 -->\n<g id=\"node28\" class=\"node\">\n<title>27</title>\n<text text-anchor=\"middle\" x=\"3705.5\" y=\"-2973.8\" font-family=\"Times,serif\" font-size=\"14.00\">(26) str.substr(cgi_decode_s_str_1, 2, 1) == &quot;2&quot;</text>\n</g>\n<!-- 26&#45;&gt;27 -->\n<g id=\"edge27\" class=\"edge\">\n<title>26&#45;&gt;27</title>\n<path fill=\"none\" stroke=\"red\" d=\"M3705.5,-3035.65C3705.5,-3026.07 3705.5,-3008.38 3705.5,-2995.2\"/>\n<polygon fill=\"red\" stroke=\"red\" points=\"3709,-2995.11 3705.5,-2985.11 3702,-2995.11 3709,-2995.11\"/>\n<text text-anchor=\"middle\" x=\"3709\" y=\"-3006.8\" font-family=\"Times,serif\" font-size=\"14.00\">0</text>\n</g>\n<!-- 68 -->\n<g id=\"node69\" class=\"node\">\n<title>68</title>\n<text text-anchor=\"middle\" x=\"3858.5\" y=\"-2973.8\" font-family=\"Times,serif\" font-size=\"14.00\">?</text>\n</g>\n<!-- 26&#45;&gt;68 -->\n<g id=\"edge68\" class=\"edge\">\n<title>26&#45;&gt;68</title>\n<path fill=\"none\" stroke=\"blue\" d=\"M3722.48,-3035.99C3749,-3025.73 3801.73,-3004.9 3845.5,-2985 3845.6,-2984.96 3845.7,-2984.91 3845.79,-2984.87\"/>\n<polygon fill=\"blue\" stroke=\"blue\" points=\"3847.23,-2988.06 3854.67,-2980.51 3844.15,-2981.77 3847.23,-2988.06\"/>\n<text text-anchor=\"middle\" x=\"3808\" y=\"-3006.8\" font-family=\"Times,serif\" font-size=\"14.00\">1</text>\n</g>\n<!-- 28 -->\n<g id=\"node29\" class=\"node\">\n<title>28</title>\n<text text-anchor=\"middle\" x=\"3705.5\" y=\"-2907.8\" font-family=\"Times,serif\" font-size=\"14.00\">(27) str.substr(cgi_decode_s_str_1, 2, 1) == &quot;3&quot;</text>\n</g>\n<!-- 27&#45;&gt;28 -->\n<g id=\"edge28\" class=\"edge\">\n<title>27&#45;&gt;28</title>\n<path fill=\"none\" stroke=\"red\" d=\"M3705.5,-2969.65C3705.5,-2960.07 3705.5,-2942.38 3705.5,-2929.2\"/>\n<polygon fill=\"red\" stroke=\"red\" points=\"3709,-2929.11 3705.5,-2919.11 3702,-2929.11 3709,-2929.11\"/>\n<text text-anchor=\"middle\" x=\"3709\" y=\"-2940.8\" font-family=\"Times,serif\" font-size=\"14.00\">0</text>\n</g>\n<!-- 67 -->\n<g id=\"node68\" class=\"node\">\n<title>67</title>\n<text text-anchor=\"middle\" x=\"3858.5\" y=\"-2907.8\" font-family=\"Times,serif\" font-size=\"14.00\">?</text>\n</g>\n<!-- 27&#45;&gt;67 -->\n<g id=\"edge67\" class=\"edge\">\n<title>27&#45;&gt;67</title>\n<path fill=\"none\" stroke=\"blue\" d=\"M3722.48,-2969.99C3749,-2959.73 3801.73,-2938.9 3845.5,-2919 3845.6,-2918.96 3845.7,-2918.91 3845.79,-2918.87\"/>\n<polygon fill=\"blue\" stroke=\"blue\" points=\"3847.23,-2922.06 3854.67,-2914.51 3844.15,-2915.77 3847.23,-2922.06\"/>\n<text text-anchor=\"middle\" x=\"3808\" y=\"-2940.8\" font-family=\"Times,serif\" font-size=\"14.00\">1</text>\n</g>\n<!-- 29 -->\n<g id=\"node30\" class=\"node\">\n<title>29</title>\n<text text-anchor=\"middle\" x=\"3705.5\" y=\"-2841.8\" font-family=\"Times,serif\" font-size=\"14.00\">(28) str.substr(cgi_decode_s_str_1, 2, 1) == &quot;4&quot;</text>\n</g>\n<!-- 28&#45;&gt;29 -->\n<g id=\"edge29\" class=\"edge\">\n<title>28&#45;&gt;29</title>\n<path fill=\"none\" stroke=\"red\" d=\"M3705.5,-2903.65C3705.5,-2894.07 3705.5,-2876.38 3705.5,-2863.2\"/>\n<polygon fill=\"red\" stroke=\"red\" points=\"3709,-2863.11 3705.5,-2853.11 3702,-2863.11 3709,-2863.11\"/>\n<text text-anchor=\"middle\" x=\"3709\" y=\"-2874.8\" font-family=\"Times,serif\" font-size=\"14.00\">0</text>\n</g>\n<!-- 66 -->\n<g id=\"node67\" class=\"node\">\n<title>66</title>\n<text text-anchor=\"middle\" x=\"3858.5\" y=\"-2841.8\" font-family=\"Times,serif\" font-size=\"14.00\">?</text>\n</g>\n<!-- 28&#45;&gt;66 -->\n<g id=\"edge66\" class=\"edge\">\n<title>28&#45;&gt;66</title>\n<path fill=\"none\" stroke=\"blue\" d=\"M3722.48,-2903.99C3749,-2893.73 3801.73,-2872.9 3845.5,-2853 3845.6,-2852.96 3845.7,-2852.91 3845.79,-2852.87\"/>\n<polygon fill=\"blue\" stroke=\"blue\" points=\"3847.23,-2856.06 3854.67,-2848.51 3844.15,-2849.77 3847.23,-2856.06\"/>\n<text text-anchor=\"middle\" x=\"3808\" y=\"-2874.8\" font-family=\"Times,serif\" font-size=\"14.00\">1</text>\n</g>\n<!-- 30 -->\n<g id=\"node31\" class=\"node\">\n<title>30</title>\n<text text-anchor=\"middle\" x=\"3701.5\" y=\"-2775.8\" font-family=\"Times,serif\" font-size=\"14.00\">(29) str.substr(cgi_decode_s_str_1, 2, 1) == &quot;5&quot;</text>\n</g>\n<!-- 29&#45;&gt;30 -->\n<g id=\"edge30\" class=\"edge\">\n<title>29&#45;&gt;30</title>\n<path fill=\"none\" stroke=\"red\" d=\"M3705.07,-2837.65C3704.47,-2828.07 3703.37,-2810.38 3702.54,-2797.2\"/>\n<polygon fill=\"red\" stroke=\"red\" points=\"3706.03,-2796.87 3701.91,-2787.11 3699.04,-2797.31 3706.03,-2796.87\"/>\n<text text-anchor=\"middle\" x=\"3708\" y=\"-2808.8\" font-family=\"Times,serif\" font-size=\"14.00\">0</text>\n</g>\n<!-- 65 -->\n<g id=\"node66\" class=\"node\">\n<title>65</title>\n<text text-anchor=\"middle\" x=\"3854.5\" y=\"-2775.8\" font-family=\"Times,serif\" font-size=\"14.00\">?</text>\n</g>\n<!-- 29&#45;&gt;65 -->\n<g id=\"edge65\" class=\"edge\">\n<title>29&#45;&gt;65</title>\n<path fill=\"none\" stroke=\"blue\" d=\"M3721.98,-2837.93C3747.71,-2827.58 3798.89,-2806.63 3841.5,-2787 3841.6,-2786.96 3841.7,-2786.91 3841.79,-2786.86\"/>\n<polygon fill=\"blue\" stroke=\"blue\" points=\"3843.24,-2790.06 3850.66,-2782.5 3840.15,-2783.77 3843.24,-2790.06\"/>\n<text text-anchor=\"middle\" x=\"3805\" y=\"-2808.8\" font-family=\"Times,serif\" font-size=\"14.00\">1</text>\n</g>\n<!-- 31 -->\n<g id=\"node32\" class=\"node\">\n<title>31</title>\n<text text-anchor=\"middle\" x=\"3594.5\" y=\"-2709.8\" font-family=\"Times,serif\" font-size=\"14.00\">(30) str.substr(cgi_decode_s_str_1, 2, 1) == &quot;6&quot;</text>\n</g>\n<!-- 30&#45;&gt;31 -->\n<g id=\"edge31\" class=\"edge\">\n<title>30&#45;&gt;31</title>\n<path fill=\"none\" stroke=\"red\" d=\"M3690.45,-2771.89C3672.51,-2761.16 3636.79,-2739.8 3614.36,-2726.38\"/>\n<polygon fill=\"red\" stroke=\"red\" points=\"3616.03,-2723.3 3605.65,-2721.17 3612.43,-2729.3 3616.03,-2723.3\"/>\n<text text-anchor=\"middle\" x=\"3662\" y=\"-2742.8\" font-family=\"Times,serif\" font-size=\"14.00\">0</text>\n</g>\n<!-- 64 -->\n<g id=\"node65\" class=\"node\">\n<title>64</title>\n<text text-anchor=\"middle\" x=\"3747.5\" y=\"-2709.8\" font-family=\"Times,serif\" font-size=\"14.00\">?</text>\n</g>\n<!-- 30&#45;&gt;64 -->\n<g id=\"edge64\" class=\"edge\">\n<title>30&#45;&gt;64</title>\n<path fill=\"none\" stroke=\"blue\" d=\"M3706.42,-2771.65C3713.88,-2761.27 3728.2,-2741.36 3737.8,-2728\"/>\n<polygon fill=\"blue\" stroke=\"blue\" points=\"3740.8,-2729.82 3743.79,-2719.66 3735.12,-2725.73 3740.8,-2729.82\"/>\n<text text-anchor=\"middle\" x=\"3733\" y=\"-2742.8\" font-family=\"Times,serif\" font-size=\"14.00\">1</text>\n</g>\n<!-- 32 -->\n<g id=\"node33\" class=\"node\">\n<title>32</title>\n<text text-anchor=\"middle\" x=\"3489.5\" y=\"-2643.8\" font-family=\"Times,serif\" font-size=\"14.00\">(31) str.substr(cgi_decode_s_str_1, 2, 1) == &quot;7&quot;</text>\n</g>\n<!-- 31&#45;&gt;32 -->\n<g id=\"edge32\" class=\"edge\">\n<title>31&#45;&gt;32</title>\n<path fill=\"none\" stroke=\"red\" d=\"M3583.66,-2705.89C3566.05,-2695.16 3531,-2673.8 3508.99,-2660.38\"/>\n<polygon fill=\"red\" stroke=\"red\" points=\"3510.8,-2657.38 3500.44,-2655.17 3507.16,-2663.36 3510.8,-2657.38\"/>\n<text text-anchor=\"middle\" x=\"3555\" y=\"-2676.8\" font-family=\"Times,serif\" font-size=\"14.00\">0</text>\n</g>\n<!-- 63 -->\n<g id=\"node64\" class=\"node\">\n<title>63</title>\n<text text-anchor=\"middle\" x=\"3642.5\" y=\"-2643.8\" font-family=\"Times,serif\" font-size=\"14.00\">?</text>\n</g>\n<!-- 31&#45;&gt;63 -->\n<g id=\"edge63\" class=\"edge\">\n<title>31&#45;&gt;63</title>\n<path fill=\"none\" stroke=\"blue\" d=\"M3599.64,-2705.65C3607.5,-2695.17 3622.66,-2674.96 3632.68,-2661.6\"/>\n<polygon fill=\"blue\" stroke=\"blue\" points=\"3635.69,-2663.42 3638.89,-2653.32 3630.09,-2659.22 3635.69,-2663.42\"/>\n<text text-anchor=\"middle\" x=\"3627\" y=\"-2676.8\" font-family=\"Times,serif\" font-size=\"14.00\">1</text>\n</g>\n<!-- 33 -->\n<g id=\"node34\" class=\"node\">\n<title>33</title>\n<text text-anchor=\"middle\" x=\"3350.5\" y=\"-2577.8\" font-family=\"Times,serif\" font-size=\"14.00\">(32) str.substr(cgi_decode_s_str_1, 2, 1) == &quot;8&quot;</text>\n</g>\n<!-- 32&#45;&gt;33 -->\n<g id=\"edge33\" class=\"edge\">\n<title>32&#45;&gt;33</title>\n<path fill=\"none\" stroke=\"red\" d=\"M3475.15,-2639.89C3451.32,-2628.92 3403.36,-2606.84 3374.37,-2593.49\"/>\n<polygon fill=\"red\" stroke=\"red\" points=\"3375.53,-2590.17 3364.98,-2589.17 3372.6,-2596.53 3375.53,-2590.17\"/>\n<text text-anchor=\"middle\" x=\"3436\" y=\"-2610.8\" font-family=\"Times,serif\" font-size=\"14.00\">0</text>\n</g>\n<!-- 62 -->\n<g id=\"node63\" class=\"node\">\n<title>62</title>\n<text text-anchor=\"middle\" x=\"3503.5\" y=\"-2577.8\" font-family=\"Times,serif\" font-size=\"14.00\">?</text>\n</g>\n<!-- 32&#45;&gt;62 -->\n<g id=\"edge62\" class=\"edge\">\n<title>32&#45;&gt;62</title>\n<path fill=\"none\" stroke=\"blue\" d=\"M3491,-2639.65C3493.09,-2630.07 3496.96,-2612.38 3499.85,-2599.2\"/>\n<polygon fill=\"blue\" stroke=\"blue\" points=\"3503.34,-2599.63 3502.05,-2589.11 3496.5,-2598.13 3503.34,-2599.63\"/>\n<text text-anchor=\"middle\" x=\"3502\" y=\"-2610.8\" font-family=\"Times,serif\" font-size=\"14.00\">1</text>\n</g>\n<!-- 34 -->\n<g id=\"node35\" class=\"node\">\n<title>34</title>\n<text text-anchor=\"middle\" x=\"3205.5\" y=\"-2511.8\" font-family=\"Times,serif\" font-size=\"14.00\">(33) str.substr(cgi_decode_s_str_1, 2, 1) == &quot;9&quot;</text>\n</g>\n<!-- 33&#45;&gt;34 -->\n<g id=\"edge34\" class=\"edge\">\n<title>33&#45;&gt;34</title>\n<path fill=\"none\" stroke=\"red\" d=\"M3335.53,-2573.89C3310.57,-2562.87 3260.21,-2540.65 3230.01,-2527.32\"/>\n<polygon fill=\"red\" stroke=\"red\" points=\"3231.17,-2524 3220.61,-2523.17 3228.34,-2530.41 3231.17,-2524\"/>\n<text text-anchor=\"middle\" x=\"3295\" y=\"-2544.8\" font-family=\"Times,serif\" font-size=\"14.00\">0</text>\n</g>\n<!-- 61 -->\n<g id=\"node62\" class=\"node\">\n<title>61</title>\n<text text-anchor=\"middle\" x=\"3358.5\" y=\"-2511.8\" font-family=\"Times,serif\" font-size=\"14.00\">?</text>\n</g>\n<!-- 33&#45;&gt;61 -->\n<g id=\"edge61\" class=\"edge\">\n<title>33&#45;&gt;61</title>\n<path fill=\"none\" stroke=\"blue\" d=\"M3351.36,-2573.65C3352.55,-2564.07 3354.77,-2546.38 3356.41,-2533.2\"/>\n<polygon fill=\"blue\" stroke=\"blue\" points=\"3359.91,-2533.47 3357.67,-2523.11 3352.96,-2532.6 3359.91,-2533.47\"/>\n<text text-anchor=\"middle\" x=\"3359\" y=\"-2544.8\" font-family=\"Times,serif\" font-size=\"14.00\">1</text>\n</g>\n<!-- 35 -->\n<g id=\"node36\" class=\"node\">\n<title>35</title>\n<text text-anchor=\"middle\" x=\"3128.5\" y=\"-2445.8\" font-family=\"Times,serif\" font-size=\"14.00\">(34) str.substr(cgi_decode_s_str_1, 2, 1) == &quot;a&quot;</text>\n</g>\n<!-- 34&#45;&gt;35 -->\n<g id=\"edge35\" class=\"edge\">\n<title>34&#45;&gt;35</title>\n<path fill=\"none\" stroke=\"red\" d=\"M3197.55,-2507.89C3185.1,-2497.54 3160.76,-2477.31 3144.56,-2463.85\"/>\n<polygon fill=\"red\" stroke=\"red\" points=\"3146.45,-2460.87 3136.52,-2457.17 3141.98,-2466.25 3146.45,-2460.87\"/>\n<text text-anchor=\"middle\" x=\"3178\" y=\"-2478.8\" font-family=\"Times,serif\" font-size=\"14.00\">0</text>\n</g>\n<!-- 60 -->\n<g id=\"node61\" class=\"node\">\n<title>60</title>\n<text text-anchor=\"middle\" x=\"3281.5\" y=\"-2445.8\" font-family=\"Times,serif\" font-size=\"14.00\">?</text>\n</g>\n<!-- 34&#45;&gt;60 -->\n<g id=\"edge60\" class=\"edge\">\n<title>34&#45;&gt;60</title>\n<path fill=\"none\" stroke=\"blue\" d=\"M3213.35,-2507.89C3226.79,-2496.57 3254.28,-2473.42 3269.93,-2460.24\"/>\n<polygon fill=\"blue\" stroke=\"blue\" points=\"3272.51,-2462.64 3277.91,-2453.52 3268.01,-2457.29 3272.51,-2462.64\"/>\n<text text-anchor=\"middle\" x=\"3254\" y=\"-2478.8\" font-family=\"Times,serif\" font-size=\"14.00\">1</text>\n</g>\n<!-- 36 -->\n<g id=\"node37\" class=\"node\">\n<title>36</title>\n<text text-anchor=\"middle\" x=\"3021.5\" y=\"-2379.8\" font-family=\"Times,serif\" font-size=\"14.00\">(35) str.substr(cgi_decode_s_str_1, 2, 1) == &quot;b&quot;</text>\n</g>\n<!-- 35&#45;&gt;36 -->\n<g id=\"edge36\" class=\"edge\">\n<title>35&#45;&gt;36</title>\n<path fill=\"none\" stroke=\"red\" d=\"M3117.45,-2441.89C3099.51,-2431.16 3063.79,-2409.8 3041.36,-2396.38\"/>\n<polygon fill=\"red\" stroke=\"red\" points=\"3043.03,-2393.3 3032.65,-2391.17 3039.43,-2399.3 3043.03,-2393.3\"/>\n<text text-anchor=\"middle\" x=\"3089\" y=\"-2412.8\" font-family=\"Times,serif\" font-size=\"14.00\">0</text>\n</g>\n<!-- 59 -->\n<g id=\"node60\" class=\"node\">\n<title>59</title>\n<text text-anchor=\"middle\" x=\"3174.5\" y=\"-2379.8\" font-family=\"Times,serif\" font-size=\"14.00\">?</text>\n</g>\n<!-- 35&#45;&gt;59 -->\n<g id=\"edge59\" class=\"edge\">\n<title>35&#45;&gt;59</title>\n<path fill=\"none\" stroke=\"blue\" d=\"M3133.42,-2441.65C3140.88,-2431.27 3155.2,-2411.36 3164.8,-2398\"/>\n<polygon fill=\"blue\" stroke=\"blue\" points=\"3167.8,-2399.82 3170.79,-2389.66 3162.12,-2395.73 3167.8,-2399.82\"/>\n<text text-anchor=\"middle\" x=\"3160\" y=\"-2412.8\" font-family=\"Times,serif\" font-size=\"14.00\">1</text>\n</g>\n<!-- 37 -->\n<g id=\"node38\" class=\"node\">\n<title>37</title>\n<text text-anchor=\"middle\" x=\"2913.5\" y=\"-2313.8\" font-family=\"Times,serif\" font-size=\"14.00\">(36) str.substr(cgi_decode_s_str_1, 2, 1) == &quot;c&quot;</text>\n</g>\n<!-- 36&#45;&gt;37 -->\n<g id=\"edge37\" class=\"edge\">\n<title>36&#45;&gt;37</title>\n<path fill=\"none\" stroke=\"red\" d=\"M3010.35,-2375.89C2992.24,-2365.16 2956.19,-2343.8 2933.55,-2330.38\"/>\n<polygon fill=\"red\" stroke=\"red\" points=\"2935.14,-2327.26 2924.75,-2325.17 2931.57,-2333.28 2935.14,-2327.26\"/>\n<text text-anchor=\"middle\" x=\"2981\" y=\"-2346.8\" font-family=\"Times,serif\" font-size=\"14.00\">0</text>\n</g>\n<!-- 58 -->\n<g id=\"node59\" class=\"node\">\n<title>58</title>\n<text text-anchor=\"middle\" x=\"3066.5\" y=\"-2313.8\" font-family=\"Times,serif\" font-size=\"14.00\">?</text>\n</g>\n<!-- 36&#45;&gt;58 -->\n<g id=\"edge58\" class=\"edge\">\n<title>36&#45;&gt;58</title>\n<path fill=\"none\" stroke=\"blue\" d=\"M3026.32,-2375.65C3033.61,-2365.27 3047.62,-2345.36 3057.01,-2332\"/>\n<polygon fill=\"blue\" stroke=\"blue\" points=\"3059.99,-2333.85 3062.87,-2323.66 3054.26,-2329.82 3059.99,-2333.85\"/>\n<text text-anchor=\"middle\" x=\"3052\" y=\"-2346.8\" font-family=\"Times,serif\" font-size=\"14.00\">1</text>\n</g>\n<!-- 38 -->\n<g id=\"node39\" class=\"node\">\n<title>38</title>\n<text text-anchor=\"middle\" x=\"2801.5\" y=\"-2247.8\" font-family=\"Times,serif\" font-size=\"14.00\">(37) str.substr(cgi_decode_s_str_1, 2, 1) == &quot;d&quot;</text>\n</g>\n<!-- 37&#45;&gt;38 -->\n<g id=\"edge38\" class=\"edge\">\n<title>37&#45;&gt;38</title>\n<path fill=\"none\" stroke=\"red\" d=\"M2901.94,-2309.89C2883.07,-2299.11 2845.44,-2277.61 2821.97,-2264.2\"/>\n<polygon fill=\"red\" stroke=\"red\" points=\"2823.59,-2261.09 2813.17,-2259.17 2820.11,-2267.17 2823.59,-2261.09\"/>\n<text text-anchor=\"middle\" x=\"2872\" y=\"-2280.8\" font-family=\"Times,serif\" font-size=\"14.00\">0</text>\n</g>\n<!-- 57 -->\n<g id=\"node58\" class=\"node\">\n<title>57</title>\n<text text-anchor=\"middle\" x=\"2954.5\" y=\"-2247.8\" font-family=\"Times,serif\" font-size=\"14.00\">?</text>\n</g>\n<!-- 37&#45;&gt;57 -->\n<g id=\"edge57\" class=\"edge\">\n<title>37&#45;&gt;57</title>\n<path fill=\"none\" stroke=\"blue\" d=\"M2917.89,-2309.65C2924.41,-2299.48 2936.8,-2280.13 2945.35,-2266.79\"/>\n<polygon fill=\"blue\" stroke=\"blue\" points=\"2948.53,-2268.31 2950.97,-2258.01 2942.63,-2264.54 2948.53,-2268.31\"/>\n<text text-anchor=\"middle\" x=\"2942\" y=\"-2280.8\" font-family=\"Times,serif\" font-size=\"14.00\">1</text>\n</g>\n<!-- 39 -->\n<g id=\"node40\" class=\"node\">\n<title>39</title>\n<text text-anchor=\"middle\" x=\"2663.5\" y=\"-2181.8\" font-family=\"Times,serif\" font-size=\"14.00\">(38) str.substr(cgi_decode_s_str_1, 2, 1) == &quot;e&quot;</text>\n</g>\n<!-- 38&#45;&gt;39 -->\n<g id=\"edge39\" class=\"edge\">\n<title>38&#45;&gt;39</title>\n<path fill=\"none\" stroke=\"red\" d=\"M2787.25,-2243.89C2763.6,-2232.92 2715.98,-2210.84 2687.2,-2197.49\"/>\n<polygon fill=\"red\" stroke=\"red\" points=\"2688.42,-2194.2 2677.88,-2193.17 2685.48,-2200.55 2688.42,-2194.2\"/>\n<text text-anchor=\"middle\" x=\"2749\" y=\"-2214.8\" font-family=\"Times,serif\" font-size=\"14.00\">0</text>\n</g>\n<!-- 56 -->\n<g id=\"node57\" class=\"node\">\n<title>56</title>\n<text text-anchor=\"middle\" x=\"2816.5\" y=\"-2181.8\" font-family=\"Times,serif\" font-size=\"14.00\">?</text>\n</g>\n<!-- 38&#45;&gt;56 -->\n<g id=\"edge56\" class=\"edge\">\n<title>38&#45;&gt;56</title>\n<path fill=\"none\" stroke=\"blue\" d=\"M2803.11,-2243.65C2805.35,-2234.07 2809.5,-2216.38 2812.59,-2203.2\"/>\n<polygon fill=\"blue\" stroke=\"blue\" points=\"2816.08,-2203.64 2814.95,-2193.11 2809.26,-2202.05 2816.08,-2203.64\"/>\n<text text-anchor=\"middle\" x=\"2814\" y=\"-2214.8\" font-family=\"Times,serif\" font-size=\"14.00\">1</text>\n</g>\n<!-- 40 -->\n<g id=\"node41\" class=\"node\">\n<title>40</title>\n<text text-anchor=\"middle\" x=\"2525.5\" y=\"-2115.8\" font-family=\"Times,serif\" font-size=\"14.00\">(39) str.substr(cgi_decode_s_str_1, 2, 1) == &quot;f&quot;</text>\n</g>\n<!-- 39&#45;&gt;40 -->\n<g id=\"edge40\" class=\"edge\">\n<title>39&#45;&gt;40</title>\n<path fill=\"none\" stroke=\"red\" d=\"M2649.25,-2177.89C2625.6,-2166.92 2577.98,-2144.84 2549.2,-2131.49\"/>\n<polygon fill=\"red\" stroke=\"red\" points=\"2550.42,-2128.2 2539.88,-2127.17 2547.48,-2134.55 2550.42,-2128.2\"/>\n<text text-anchor=\"middle\" x=\"2611\" y=\"-2148.8\" font-family=\"Times,serif\" font-size=\"14.00\">0</text>\n</g>\n<!-- 55 -->\n<g id=\"node56\" class=\"node\">\n<title>55</title>\n<text text-anchor=\"middle\" x=\"2677.5\" y=\"-2115.8\" font-family=\"Times,serif\" font-size=\"14.00\">?</text>\n</g>\n<!-- 39&#45;&gt;55 -->\n<g id=\"edge55\" class=\"edge\">\n<title>39&#45;&gt;55</title>\n<path fill=\"none\" stroke=\"blue\" d=\"M2665,-2177.65C2667.09,-2168.07 2670.96,-2150.38 2673.85,-2137.2\"/>\n<polygon fill=\"blue\" stroke=\"blue\" points=\"2677.34,-2137.63 2676.05,-2127.11 2670.5,-2136.13 2677.34,-2137.63\"/>\n<text text-anchor=\"middle\" x=\"2676\" y=\"-2148.8\" font-family=\"Times,serif\" font-size=\"14.00\">1</text>\n</g>\n<!-- 41 -->\n<g id=\"node42\" class=\"node\">\n<title>41</title>\n<text text-anchor=\"middle\" x=\"2447.5\" y=\"-2049.8\" font-family=\"Times,serif\" font-size=\"14.00\">(40) str.substr(cgi_decode_s_str_1, 2, 1) == &quot;A&quot;</text>\n</g>\n<!-- 40&#45;&gt;41 -->\n<g id=\"edge41\" class=\"edge\">\n<title>40&#45;&gt;41</title>\n<path fill=\"none\" stroke=\"red\" d=\"M2517.45,-2111.89C2504.84,-2101.54 2480.17,-2081.31 2463.77,-2067.85\"/>\n<polygon fill=\"red\" stroke=\"red\" points=\"2465.58,-2064.81 2455.63,-2061.17 2461.14,-2070.22 2465.58,-2064.81\"/>\n<text text-anchor=\"middle\" x=\"2497\" y=\"-2082.8\" font-family=\"Times,serif\" font-size=\"14.00\">0</text>\n</g>\n<!-- 54 -->\n<g id=\"node55\" class=\"node\">\n<title>54</title>\n<text text-anchor=\"middle\" x=\"2602.5\" y=\"-2049.8\" font-family=\"Times,serif\" font-size=\"14.00\">?</text>\n</g>\n<!-- 40&#45;&gt;54 -->\n<g id=\"edge54\" class=\"edge\">\n<title>40&#45;&gt;54</title>\n<path fill=\"none\" stroke=\"blue\" d=\"M2533.45,-2111.89C2547.07,-2100.57 2574.92,-2077.42 2590.78,-2064.24\"/>\n<polygon fill=\"blue\" stroke=\"blue\" points=\"2593.41,-2066.61 2598.86,-2057.52 2588.93,-2061.22 2593.41,-2066.61\"/>\n<text text-anchor=\"middle\" x=\"2575\" y=\"-2082.8\" font-family=\"Times,serif\" font-size=\"14.00\">1</text>\n</g>\n<!-- 42 -->\n<g id=\"node43\" class=\"node\">\n<title>42</title>\n<text text-anchor=\"middle\" x=\"2365.5\" y=\"-1983.8\" font-family=\"Times,serif\" font-size=\"14.00\">(41) str.substr(cgi_decode_s_str_1, 2, 1) == &quot;B&quot;</text>\n</g>\n<!-- 41&#45;&gt;42 -->\n<g id=\"edge42\" class=\"edge\">\n<title>41&#45;&gt;42</title>\n<path fill=\"none\" stroke=\"red\" d=\"M2439.03,-2045.89C2425.65,-2035.45 2399.37,-2014.93 2382.12,-2001.47\"/>\n<polygon fill=\"red\" stroke=\"red\" points=\"2384.08,-1998.56 2374.04,-1995.17 2379.77,-2004.08 2384.08,-1998.56\"/>\n<text text-anchor=\"middle\" x=\"2418\" y=\"-2016.8\" font-family=\"Times,serif\" font-size=\"14.00\">0</text>\n</g>\n<!-- 53 -->\n<g id=\"node54\" class=\"node\">\n<title>53</title>\n<text text-anchor=\"middle\" x=\"2519.5\" y=\"-1983.8\" font-family=\"Times,serif\" font-size=\"14.00\">?</text>\n</g>\n<!-- 41&#45;&gt;53 -->\n<g id=\"edge53\" class=\"edge\">\n<title>41&#45;&gt;53</title>\n<path fill=\"none\" stroke=\"blue\" d=\"M2454.93,-2045.89C2467.55,-2034.68 2493.23,-2011.85 2508.12,-1998.62\"/>\n<polygon fill=\"blue\" stroke=\"blue\" points=\"2510.63,-2001.06 2515.78,-1991.8 2505.98,-1995.83 2510.63,-2001.06\"/>\n<text text-anchor=\"middle\" x=\"2494\" y=\"-2016.8\" font-family=\"Times,serif\" font-size=\"14.00\">1</text>\n</g>\n<!-- 43 -->\n<g id=\"node44\" class=\"node\">\n<title>43</title>\n<text text-anchor=\"middle\" x=\"2238.5\" y=\"-1917.8\" font-family=\"Times,serif\" font-size=\"14.00\">(42) str.substr(cgi_decode_s_str_1, 2, 1) == &quot;C&quot;</text>\n</g>\n<!-- 42&#45;&gt;43 -->\n<g id=\"edge43\" class=\"edge\">\n<title>42&#45;&gt;43</title>\n<path fill=\"none\" stroke=\"red\" d=\"M2352.39,-1979.89C2330.81,-1969.02 2287.56,-1947.22 2261.01,-1933.84\"/>\n<polygon fill=\"red\" stroke=\"red\" points=\"2262.24,-1930.54 2251.73,-1929.17 2259.09,-1936.79 2262.24,-1930.54\"/>\n<text text-anchor=\"middle\" x=\"2317\" y=\"-1950.8\" font-family=\"Times,serif\" font-size=\"14.00\">0</text>\n</g>\n<!-- 52 -->\n<g id=\"node53\" class=\"node\">\n<title>52</title>\n<text text-anchor=\"middle\" x=\"2392.5\" y=\"-1917.8\" font-family=\"Times,serif\" font-size=\"14.00\">?</text>\n</g>\n<!-- 42&#45;&gt;52 -->\n<g id=\"edge52\" class=\"edge\">\n<title>42&#45;&gt;52</title>\n<path fill=\"none\" stroke=\"blue\" d=\"M2368.39,-1979.65C2372.51,-1969.88 2380.2,-1951.66 2385.79,-1938.41\"/>\n<polygon fill=\"blue\" stroke=\"blue\" points=\"2389.05,-1939.68 2389.71,-1929.11 2382.6,-1936.96 2389.05,-1939.68\"/>\n<text text-anchor=\"middle\" x=\"2385\" y=\"-1950.8\" font-family=\"Times,serif\" font-size=\"14.00\">1</text>\n</g>\n<!-- 44 -->\n<g id=\"node45\" class=\"node\">\n<title>44</title>\n<text text-anchor=\"middle\" x=\"2162.5\" y=\"-1851.8\" font-family=\"Times,serif\" font-size=\"14.00\">(43) str.substr(cgi_decode_s_str_1, 2, 1) == &quot;D&quot;</text>\n</g>\n<!-- 43&#45;&gt;44 -->\n<g id=\"edge44\" class=\"edge\">\n<title>43&#45;&gt;44</title>\n<path fill=\"none\" stroke=\"red\" d=\"M2230.65,-1913.89C2218.37,-1903.54 2194.34,-1883.31 2178.35,-1869.85\"/>\n<polygon fill=\"red\" stroke=\"red\" points=\"2180.32,-1866.93 2170.42,-1863.17 2175.81,-1872.29 2180.32,-1866.93\"/>\n<text text-anchor=\"middle\" x=\"2211\" y=\"-1884.8\" font-family=\"Times,serif\" font-size=\"14.00\">0</text>\n</g>\n<!-- 51 -->\n<g id=\"node52\" class=\"node\">\n<title>51</title>\n<text text-anchor=\"middle\" x=\"2317.5\" y=\"-1851.8\" font-family=\"Times,serif\" font-size=\"14.00\">?</text>\n</g>\n<!-- 43&#45;&gt;51 -->\n<g id=\"edge51\" class=\"edge\">\n<title>43&#45;&gt;51</title>\n<path fill=\"none\" stroke=\"blue\" d=\"M2246.66,-1913.89C2260.76,-1902.47 2289.75,-1878.98 2305.93,-1865.87\"/>\n<polygon fill=\"blue\" stroke=\"blue\" points=\"2308.2,-1868.54 2313.77,-1859.52 2303.79,-1863.1 2308.2,-1868.54\"/>\n<text text-anchor=\"middle\" x=\"2289\" y=\"-1884.8\" font-family=\"Times,serif\" font-size=\"14.00\">1</text>\n</g>\n<!-- 45 -->\n<g id=\"node46\" class=\"node\">\n<title>45</title>\n<text text-anchor=\"middle\" x=\"2023.5\" y=\"-1785.8\" font-family=\"Times,serif\" font-size=\"14.00\">(44) str.substr(cgi_decode_s_str_1, 2, 1) == &quot;E&quot;</text>\n</g>\n<!-- 44&#45;&gt;45 -->\n<g id=\"edge45\" class=\"edge\">\n<title>44&#45;&gt;45</title>\n<path fill=\"none\" stroke=\"red\" d=\"M2148.15,-1847.89C2124.32,-1836.92 2076.36,-1814.84 2047.37,-1801.49\"/>\n<polygon fill=\"red\" stroke=\"red\" points=\"2048.53,-1798.17 2037.98,-1797.17 2045.6,-1804.53 2048.53,-1798.17\"/>\n<text text-anchor=\"middle\" x=\"2109\" y=\"-1818.8\" font-family=\"Times,serif\" font-size=\"14.00\">0</text>\n</g>\n<!-- 50 -->\n<g id=\"node51\" class=\"node\">\n<title>50</title>\n<text text-anchor=\"middle\" x=\"2177.5\" y=\"-1785.8\" font-family=\"Times,serif\" font-size=\"14.00\">?</text>\n</g>\n<!-- 44&#45;&gt;50 -->\n<g id=\"edge50\" class=\"edge\">\n<title>44&#45;&gt;50</title>\n<path fill=\"none\" stroke=\"blue\" d=\"M2164.11,-1847.65C2166.35,-1838.07 2170.5,-1820.38 2173.59,-1807.2\"/>\n<polygon fill=\"blue\" stroke=\"blue\" points=\"2177.08,-1807.64 2175.95,-1797.11 2170.26,-1806.05 2177.08,-1807.64\"/>\n<text text-anchor=\"middle\" x=\"2175\" y=\"-1818.8\" font-family=\"Times,serif\" font-size=\"14.00\">1</text>\n</g>\n<!-- 46 -->\n<g id=\"node47\" class=\"node\">\n<title>46</title>\n<text text-anchor=\"middle\" x=\"1946.5\" y=\"-1719.8\" font-family=\"Times,serif\" font-size=\"14.00\">(45) str.substr(cgi_decode_s_str_1, 2, 1) == &quot;F&quot;</text>\n</g>\n<!-- 45&#45;&gt;46 -->\n<g id=\"edge46\" class=\"edge\">\n<title>45&#45;&gt;46</title>\n<path fill=\"none\" stroke=\"red\" d=\"M2015.55,-1781.89C2003.1,-1771.54 1978.76,-1751.31 1962.56,-1737.85\"/>\n<polygon fill=\"red\" stroke=\"red\" points=\"1964.45,-1734.87 1954.52,-1731.17 1959.98,-1740.25 1964.45,-1734.87\"/>\n<text text-anchor=\"middle\" x=\"1996\" y=\"-1752.8\" font-family=\"Times,serif\" font-size=\"14.00\">0</text>\n</g>\n<!-- 49 -->\n<g id=\"node50\" class=\"node\">\n<title>49</title>\n<text text-anchor=\"middle\" x=\"2100.5\" y=\"-1719.8\" font-family=\"Times,serif\" font-size=\"14.00\">?</text>\n</g>\n<!-- 45&#45;&gt;49 -->\n<g id=\"edge49\" class=\"edge\">\n<title>45&#45;&gt;49</title>\n<path fill=\"none\" stroke=\"blue\" d=\"M2031.45,-1781.89C2045.07,-1770.57 2072.92,-1747.42 2088.78,-1734.24\"/>\n<polygon fill=\"blue\" stroke=\"blue\" points=\"2091.41,-1736.61 2096.86,-1727.52 2086.93,-1731.22 2091.41,-1736.61\"/>\n<text text-anchor=\"middle\" x=\"2073\" y=\"-1752.8\" font-family=\"Times,serif\" font-size=\"14.00\">1</text>\n</g>\n<!-- 47 -->\n<g id=\"node48\" class=\"node\">\n<title>47</title>\n<text text-anchor=\"middle\" x=\"1937.5\" y=\"-1653.8\" font-family=\"Times,serif\" font-size=\"14.00\">* %\\x00</text>\n</g>\n<!-- 46&#45;&gt;47 -->\n<g id=\"edge47\" class=\"edge\">\n<title>46&#45;&gt;47</title>\n<path fill=\"none\" stroke=\"red\" d=\"M1945.54,-1715.65C1944.19,-1706.07 1941.7,-1688.38 1939.85,-1675.2\"/>\n<polygon fill=\"red\" stroke=\"red\" points=\"1943.29,-1674.52 1938.43,-1665.11 1936.36,-1675.5 1943.29,-1674.52\"/>\n<text text-anchor=\"middle\" x=\"1947\" y=\"-1686.8\" font-family=\"Times,serif\" font-size=\"14.00\">0</text>\n</g>\n<!-- 48 -->\n<g id=\"node49\" class=\"node\">\n<title>48</title>\n<text text-anchor=\"middle\" x=\"1982.5\" y=\"-1653.8\" font-family=\"Times,serif\" font-size=\"14.00\">?</text>\n</g>\n<!-- 46&#45;&gt;48 -->\n<g id=\"edge48\" class=\"edge\">\n<title>46&#45;&gt;48</title>\n<path fill=\"none\" stroke=\"blue\" d=\"M1950.35,-1715.65C1955.96,-1705.68 1966.52,-1686.91 1974,-1673.6\"/>\n<polygon fill=\"blue\" stroke=\"blue\" points=\"1977.14,-1675.16 1978.99,-1664.73 1971.04,-1671.73 1977.14,-1675.16\"/>\n<text text-anchor=\"middle\" x=\"1972\" y=\"-1686.8\" font-family=\"Times,serif\" font-size=\"14.00\">1</text>\n</g>\n<!-- 91 -->\n<g id=\"node92\" class=\"node\">\n<title>91</title>\n<text text-anchor=\"middle\" x=\"6214.5\" y=\"-4359.8\" font-family=\"Times,serif\" font-size=\"14.00\">(5) str.substr(cgi_decode_s_str_1, 2, 1) == &quot;1&quot;</text>\n</g>\n<!-- 90&#45;&gt;91 -->\n<g id=\"edge91\" class=\"edge\">\n<title>90&#45;&gt;91</title>\n<path fill=\"none\" stroke=\"red\" d=\"M6315.83,-4421.89C6296.8,-4411.11 6258.83,-4389.61 6235.16,-4376.2\"/>\n<polygon fill=\"red\" stroke=\"red\" points=\"6236.7,-4373.05 6226.27,-4371.17 6233.25,-4379.14 6236.7,-4373.05\"/>\n<text text-anchor=\"middle\" x=\"6285\" y=\"-4392.8\" font-family=\"Times,serif\" font-size=\"14.00\">0</text>\n</g>\n<!-- 150 -->\n<g id=\"node151\" class=\"node\">\n<title>150</title>\n<text text-anchor=\"middle\" x=\"6364.5\" y=\"-4359.8\" font-family=\"Times,serif\" font-size=\"14.00\">?</text>\n</g>\n<!-- 90&#45;&gt;150 -->\n<g id=\"edge150\" class=\"edge\">\n<title>90&#45;&gt;150</title>\n<path fill=\"none\" stroke=\"blue\" d=\"M6331.46,-4421.65C6337.22,-4411.68 6348.08,-4392.91 6355.77,-4379.6\"/>\n<polygon fill=\"blue\" stroke=\"blue\" points=\"6358.92,-4381.14 6360.9,-4370.73 6352.86,-4377.64 6358.92,-4381.14\"/>\n<text text-anchor=\"middle\" x=\"6353\" y=\"-4392.8\" font-family=\"Times,serif\" font-size=\"14.00\">1</text>\n</g>\n<!-- 92 -->\n<g id=\"node93\" class=\"node\">\n<title>92</title>\n<text text-anchor=\"middle\" x=\"6143.5\" y=\"-4293.8\" font-family=\"Times,serif\" font-size=\"14.00\">(6) str.substr(cgi_decode_s_str_1, 2, 1) == &quot;2&quot;</text>\n</g>\n<!-- 91&#45;&gt;92 -->\n<g id=\"edge92\" class=\"edge\">\n<title>91&#45;&gt;92</title>\n<path fill=\"none\" stroke=\"red\" d=\"M6207.17,-4355.89C6195.8,-4345.64 6173.66,-4325.68 6158.72,-4312.22\"/>\n<polygon fill=\"red\" stroke=\"red\" points=\"6160.67,-4309.26 6150.9,-4305.17 6155.98,-4314.46 6160.67,-4309.26\"/>\n<text text-anchor=\"middle\" x=\"6189\" y=\"-4326.8\" font-family=\"Times,serif\" font-size=\"14.00\">0</text>\n</g>\n<!-- 149 -->\n<g id=\"node150\" class=\"node\">\n<title>149</title>\n<text text-anchor=\"middle\" x=\"6293.5\" y=\"-4293.8\" font-family=\"Times,serif\" font-size=\"14.00\">?</text>\n</g>\n<!-- 91&#45;&gt;149 -->\n<g id=\"edge149\" class=\"edge\">\n<title>91&#45;&gt;149</title>\n<path fill=\"none\" stroke=\"blue\" d=\"M6222.66,-4355.89C6236.76,-4344.47 6265.75,-4320.98 6281.93,-4307.87\"/>\n<polygon fill=\"blue\" stroke=\"blue\" points=\"6284.2,-4310.54 6289.77,-4301.52 6279.79,-4305.1 6284.2,-4310.54\"/>\n<text text-anchor=\"middle\" x=\"6265\" y=\"-4326.8\" font-family=\"Times,serif\" font-size=\"14.00\">1</text>\n</g>\n<!-- 93 -->\n<g id=\"node94\" class=\"node\">\n<title>93</title>\n<text text-anchor=\"middle\" x=\"6021.5\" y=\"-4227.8\" font-family=\"Times,serif\" font-size=\"14.00\">(7) str.substr(cgi_decode_s_str_1, 2, 1) == &quot;3&quot;</text>\n</g>\n<!-- 92&#45;&gt;93 -->\n<g id=\"edge93\" class=\"edge\">\n<title>92&#45;&gt;93</title>\n<path fill=\"none\" stroke=\"red\" d=\"M6130.9,-4289.89C6110.17,-4279.02 6068.63,-4257.22 6043.12,-4243.84\"/>\n<polygon fill=\"red\" stroke=\"red\" points=\"6044.69,-4240.71 6034.21,-4239.17 6041.44,-4246.91 6044.69,-4240.71\"/>\n<text text-anchor=\"middle\" x=\"6097\" y=\"-4260.8\" font-family=\"Times,serif\" font-size=\"14.00\">0</text>\n</g>\n<!-- 148 -->\n<g id=\"node149\" class=\"node\">\n<title>148</title>\n<text text-anchor=\"middle\" x=\"6171.5\" y=\"-4227.8\" font-family=\"Times,serif\" font-size=\"14.00\">?</text>\n</g>\n<!-- 92&#45;&gt;148 -->\n<g id=\"edge148\" class=\"edge\">\n<title>92&#45;&gt;148</title>\n<path fill=\"none\" stroke=\"blue\" d=\"M6146.5,-4289.65C6150.77,-4279.88 6158.74,-4261.66 6164.54,-4248.41\"/>\n<polygon fill=\"blue\" stroke=\"blue\" points=\"6167.81,-4249.67 6168.61,-4239.11 6161.39,-4246.87 6167.81,-4249.67\"/>\n<text text-anchor=\"middle\" x=\"6164\" y=\"-4260.8\" font-family=\"Times,serif\" font-size=\"14.00\">1</text>\n</g>\n<!-- 94 -->\n<g id=\"node95\" class=\"node\">\n<title>94</title>\n<text text-anchor=\"middle\" x=\"5905.5\" y=\"-4161.8\" font-family=\"Times,serif\" font-size=\"14.00\">(8) str.substr(cgi_decode_s_str_1, 2, 1) == &quot;4&quot;</text>\n</g>\n<!-- 93&#45;&gt;94 -->\n<g id=\"edge94\" class=\"edge\">\n<title>93&#45;&gt;94</title>\n<path fill=\"none\" stroke=\"red\" d=\"M6009.52,-4223.89C5989.9,-4213.07 5950.66,-4191.42 5926.38,-4178.02\"/>\n<polygon fill=\"red\" stroke=\"red\" points=\"5928.03,-4174.93 5917.59,-4173.17 5924.65,-4181.06 5928.03,-4174.93\"/>\n<text text-anchor=\"middle\" x=\"5978\" y=\"-4194.8\" font-family=\"Times,serif\" font-size=\"14.00\">0</text>\n</g>\n<!-- 147 -->\n<g id=\"node148\" class=\"node\">\n<title>147</title>\n<text text-anchor=\"middle\" x=\"6055.5\" y=\"-4161.8\" font-family=\"Times,serif\" font-size=\"14.00\">?</text>\n</g>\n<!-- 93&#45;&gt;147 -->\n<g id=\"edge147\" class=\"edge\">\n<title>93&#45;&gt;147</title>\n<path fill=\"none\" stroke=\"blue\" d=\"M6025.14,-4223.65C6030.38,-4213.78 6040.2,-4195.3 6047.26,-4182.02\"/>\n<polygon fill=\"blue\" stroke=\"blue\" points=\"6050.39,-4183.58 6051.99,-4173.11 6044.21,-4180.3 6050.39,-4183.58\"/>\n<text text-anchor=\"middle\" x=\"6046\" y=\"-4194.8\" font-family=\"Times,serif\" font-size=\"14.00\">1</text>\n</g>\n<!-- 95 -->\n<g id=\"node96\" class=\"node\">\n<title>95</title>\n<text text-anchor=\"middle\" x=\"5767.5\" y=\"-4095.8\" font-family=\"Times,serif\" font-size=\"14.00\">(9) str.substr(cgi_decode_s_str_1, 2, 1) == &quot;5&quot;</text>\n</g>\n<!-- 94&#45;&gt;95 -->\n<g id=\"edge95\" class=\"edge\">\n<title>94&#45;&gt;95</title>\n<path fill=\"none\" stroke=\"red\" d=\"M5891.25,-4157.89C5867.6,-4146.92 5819.98,-4124.84 5791.2,-4111.49\"/>\n<polygon fill=\"red\" stroke=\"red\" points=\"5792.42,-4108.2 5781.88,-4107.17 5789.48,-4114.55 5792.42,-4108.2\"/>\n<text text-anchor=\"middle\" x=\"5853\" y=\"-4128.8\" font-family=\"Times,serif\" font-size=\"14.00\">0</text>\n</g>\n<!-- 146 -->\n<g id=\"node147\" class=\"node\">\n<title>146</title>\n<text text-anchor=\"middle\" x=\"5917.5\" y=\"-4095.8\" font-family=\"Times,serif\" font-size=\"14.00\">?</text>\n</g>\n<!-- 94&#45;&gt;146 -->\n<g id=\"edge146\" class=\"edge\">\n<title>94&#45;&gt;146</title>\n<path fill=\"none\" stroke=\"blue\" d=\"M5906.78,-4157.65C5908.58,-4148.07 5911.9,-4130.38 5914.37,-4117.2\"/>\n<polygon fill=\"blue\" stroke=\"blue\" points=\"5917.86,-4117.58 5916.26,-4107.11 5910.98,-4116.29 5917.86,-4117.58\"/>\n<text text-anchor=\"middle\" x=\"5917\" y=\"-4128.8\" font-family=\"Times,serif\" font-size=\"14.00\">1</text>\n</g>\n<!-- 96 -->\n<g id=\"node97\" class=\"node\">\n<title>96</title>\n<text text-anchor=\"middle\" x=\"5716.5\" y=\"-4029.8\" font-family=\"Times,serif\" font-size=\"14.00\">(10) str.substr(cgi_decode_s_str_1, 2, 1) == &quot;6&quot;</text>\n</g>\n<!-- 95&#45;&gt;96 -->\n<g id=\"edge96\" class=\"edge\">\n<title>95&#45;&gt;96</title>\n<path fill=\"none\" stroke=\"red\" d=\"M5762.04,-4091.65C5754.02,-4081.59 5738.87,-4062.57 5728.25,-4049.24\"/>\n<polygon fill=\"red\" stroke=\"red\" points=\"5730.74,-4046.75 5721.77,-4041.11 5725.26,-4051.11 5730.74,-4046.75\"/>\n<text text-anchor=\"middle\" x=\"5751\" y=\"-4062.8\" font-family=\"Times,serif\" font-size=\"14.00\">0</text>\n</g>\n<!-- 145 -->\n<g id=\"node146\" class=\"node\">\n<title>145</title>\n<text text-anchor=\"middle\" x=\"5869.5\" y=\"-4029.8\" font-family=\"Times,serif\" font-size=\"14.00\">?</text>\n</g>\n<!-- 95&#45;&gt;145 -->\n<g id=\"edge145\" class=\"edge\">\n<title>95&#45;&gt;145</title>\n<path fill=\"none\" stroke=\"blue\" d=\"M5778.03,-4091.89C5797.1,-4079.93 5837.25,-4054.74 5857.41,-4042.09\"/>\n<polygon fill=\"blue\" stroke=\"blue\" points=\"5859.3,-4045.03 5865.91,-4036.75 5855.58,-4039.1 5859.3,-4045.03\"/>\n<text text-anchor=\"middle\" x=\"5832\" y=\"-4062.8\" font-family=\"Times,serif\" font-size=\"14.00\">1</text>\n</g>\n<!-- 97 -->\n<g id=\"node98\" class=\"node\">\n<title>97</title>\n<text text-anchor=\"middle\" x=\"5576.5\" y=\"-3963.8\" font-family=\"Times,serif\" font-size=\"14.00\">(11) str.substr(cgi_decode_s_str_1, 2, 1) == &quot;7&quot;</text>\n</g>\n<!-- 96&#45;&gt;97 -->\n<g id=\"edge97\" class=\"edge\">\n<title>96&#45;&gt;97</title>\n<path fill=\"none\" stroke=\"red\" d=\"M5702.04,-4025.89C5678.05,-4014.92 5629.74,-3992.84 5600.55,-3979.49\"/>\n<polygon fill=\"red\" stroke=\"red\" points=\"5601.64,-3976.14 5591.09,-3975.17 5598.73,-3982.51 5601.64,-3976.14\"/>\n<text text-anchor=\"middle\" x=\"5663\" y=\"-3996.8\" font-family=\"Times,serif\" font-size=\"14.00\">0</text>\n</g>\n<!-- 144 -->\n<g id=\"node145\" class=\"node\">\n<title>144</title>\n<text text-anchor=\"middle\" x=\"5729.5\" y=\"-3963.8\" font-family=\"Times,serif\" font-size=\"14.00\">?</text>\n</g>\n<!-- 96&#45;&gt;144 -->\n<g id=\"edge144\" class=\"edge\">\n<title>96&#45;&gt;144</title>\n<path fill=\"none\" stroke=\"blue\" d=\"M5717.89,-4025.65C5719.84,-4016.07 5723.43,-3998.38 5726.11,-3985.2\"/>\n<polygon fill=\"blue\" stroke=\"blue\" points=\"5729.6,-3985.6 5728.16,-3975.11 5722.74,-3984.21 5729.6,-3985.6\"/>\n<text text-anchor=\"middle\" x=\"5728\" y=\"-3996.8\" font-family=\"Times,serif\" font-size=\"14.00\">1</text>\n</g>\n<!-- 98 -->\n<g id=\"node99\" class=\"node\">\n<title>98</title>\n<text text-anchor=\"middle\" x=\"5453.5\" y=\"-3897.8\" font-family=\"Times,serif\" font-size=\"14.00\">(12) str.substr(cgi_decode_s_str_1, 2, 1) == &quot;8&quot;</text>\n</g>\n<!-- 97&#45;&gt;98 -->\n<g id=\"edge98\" class=\"edge\">\n<title>97&#45;&gt;98</title>\n<path fill=\"none\" stroke=\"red\" d=\"M5563.8,-3959.89C5542.9,-3949.02 5501.02,-3927.22 5475.3,-3913.84\"/>\n<polygon fill=\"red\" stroke=\"red\" points=\"5476.8,-3910.68 5466.32,-3909.17 5473.57,-3916.89 5476.8,-3910.68\"/>\n<text text-anchor=\"middle\" x=\"5530\" y=\"-3930.8\" font-family=\"Times,serif\" font-size=\"14.00\">0</text>\n</g>\n<!-- 143 -->\n<g id=\"node144\" class=\"node\">\n<title>143</title>\n<text text-anchor=\"middle\" x=\"5606.5\" y=\"-3897.8\" font-family=\"Times,serif\" font-size=\"14.00\">?</text>\n</g>\n<!-- 97&#45;&gt;143 -->\n<g id=\"edge143\" class=\"edge\">\n<title>97&#45;&gt;143</title>\n<path fill=\"none\" stroke=\"blue\" d=\"M5579.71,-3959.65C5584.29,-3949.88 5592.83,-3931.66 5599.04,-3918.41\"/>\n<polygon fill=\"blue\" stroke=\"blue\" points=\"5602.33,-3919.65 5603.4,-3909.11 5595.99,-3916.68 5602.33,-3919.65\"/>\n<text text-anchor=\"middle\" x=\"5598\" y=\"-3930.8\" font-family=\"Times,serif\" font-size=\"14.00\">1</text>\n</g>\n<!-- 99 -->\n<g id=\"node100\" class=\"node\">\n<title>99</title>\n<text text-anchor=\"middle\" x=\"5324.5\" y=\"-3831.8\" font-family=\"Times,serif\" font-size=\"14.00\">(13) str.substr(cgi_decode_s_str_1, 2, 1) == &quot;9&quot;</text>\n</g>\n<!-- 98&#45;&gt;99 -->\n<g id=\"edge99\" class=\"edge\">\n<title>98&#45;&gt;99</title>\n<path fill=\"none\" stroke=\"red\" d=\"M5440.18,-3893.89C5418.16,-3882.97 5373.95,-3861.03 5347.01,-3847.67\"/>\n<polygon fill=\"red\" stroke=\"red\" points=\"5348.45,-3844.48 5337.94,-3843.17 5345.34,-3850.75 5348.45,-3844.48\"/>\n<text text-anchor=\"middle\" x=\"5405\" y=\"-3864.8\" font-family=\"Times,serif\" font-size=\"14.00\">0</text>\n</g>\n<!-- 142 -->\n<g id=\"node143\" class=\"node\">\n<title>142</title>\n<text text-anchor=\"middle\" x=\"5477.5\" y=\"-3831.8\" font-family=\"Times,serif\" font-size=\"14.00\">?</text>\n</g>\n<!-- 98&#45;&gt;142 -->\n<g id=\"edge142\" class=\"edge\">\n<title>98&#45;&gt;142</title>\n<path fill=\"none\" stroke=\"blue\" d=\"M5456.07,-3893.65C5459.7,-3883.98 5466.43,-3866.02 5471.39,-3852.81\"/>\n<polygon fill=\"blue\" stroke=\"blue\" points=\"5474.79,-3853.7 5475.02,-3843.11 5468.23,-3851.24 5474.79,-3853.7\"/>\n<text text-anchor=\"middle\" x=\"5472\" y=\"-3864.8\" font-family=\"Times,serif\" font-size=\"14.00\">1</text>\n</g>\n<!-- 100 -->\n<g id=\"node101\" class=\"node\">\n<title>100</title>\n<text text-anchor=\"middle\" x=\"5202.5\" y=\"-3765.8\" font-family=\"Times,serif\" font-size=\"14.00\">(14) str.substr(cgi_decode_s_str_1, 2, 1) == &quot;a&quot;</text>\n</g>\n<!-- 99&#45;&gt;100 -->\n<g id=\"edge100\" class=\"edge\">\n<title>99&#45;&gt;100</title>\n<path fill=\"none\" stroke=\"red\" d=\"M5311.9,-3827.89C5291.17,-3817.02 5249.63,-3795.22 5224.12,-3781.84\"/>\n<polygon fill=\"red\" stroke=\"red\" points=\"5225.69,-3778.71 5215.21,-3777.17 5222.44,-3784.91 5225.69,-3778.71\"/>\n<text text-anchor=\"middle\" x=\"5278\" y=\"-3798.8\" font-family=\"Times,serif\" font-size=\"14.00\">0</text>\n</g>\n<!-- 141 -->\n<g id=\"node142\" class=\"node\">\n<title>141</title>\n<text text-anchor=\"middle\" x=\"5355.5\" y=\"-3765.8\" font-family=\"Times,serif\" font-size=\"14.00\">?</text>\n</g>\n<!-- 99&#45;&gt;141 -->\n<g id=\"edge141\" class=\"edge\">\n<title>99&#45;&gt;141</title>\n<path fill=\"none\" stroke=\"blue\" d=\"M5327.82,-3827.65C5332.55,-3817.88 5341.38,-3799.66 5347.79,-3786.41\"/>\n<polygon fill=\"blue\" stroke=\"blue\" points=\"5351.09,-3787.63 5352.3,-3777.11 5344.79,-3784.58 5351.09,-3787.63\"/>\n<text text-anchor=\"middle\" x=\"5347\" y=\"-3798.8\" font-family=\"Times,serif\" font-size=\"14.00\">1</text>\n</g>\n<!-- 101 -->\n<g id=\"node102\" class=\"node\">\n<title>101</title>\n<text text-anchor=\"middle\" x=\"5073.5\" y=\"-3699.8\" font-family=\"Times,serif\" font-size=\"14.00\">(15) str.substr(cgi_decode_s_str_1, 2, 1) == &quot;b&quot;</text>\n</g>\n<!-- 100&#45;&gt;101 -->\n<g id=\"edge101\" class=\"edge\">\n<title>100&#45;&gt;101</title>\n<path fill=\"none\" stroke=\"red\" d=\"M5189.18,-3761.89C5167.16,-3750.97 5122.95,-3729.03 5096.01,-3715.67\"/>\n<polygon fill=\"red\" stroke=\"red\" points=\"5097.45,-3712.48 5086.94,-3711.17 5094.34,-3718.75 5097.45,-3712.48\"/>\n<text text-anchor=\"middle\" x=\"5154\" y=\"-3732.8\" font-family=\"Times,serif\" font-size=\"14.00\">0</text>\n</g>\n<!-- 140 -->\n<g id=\"node141\" class=\"node\">\n<title>140</title>\n<text text-anchor=\"middle\" x=\"5226.5\" y=\"-3699.8\" font-family=\"Times,serif\" font-size=\"14.00\">?</text>\n</g>\n<!-- 100&#45;&gt;140 -->\n<g id=\"edge140\" class=\"edge\">\n<title>100&#45;&gt;140</title>\n<path fill=\"none\" stroke=\"blue\" d=\"M5205.07,-3761.65C5208.7,-3751.98 5215.43,-3734.02 5220.39,-3720.81\"/>\n<polygon fill=\"blue\" stroke=\"blue\" points=\"5223.79,-3721.7 5224.02,-3711.11 5217.23,-3719.24 5223.79,-3721.7\"/>\n<text text-anchor=\"middle\" x=\"5221\" y=\"-3732.8\" font-family=\"Times,serif\" font-size=\"14.00\">1</text>\n</g>\n<!-- 102 -->\n<g id=\"node103\" class=\"node\">\n<title>102</title>\n<text text-anchor=\"middle\" x=\"4888.5\" y=\"-3633.8\" font-family=\"Times,serif\" font-size=\"14.00\">(16) str.substr(cgi_decode_s_str_1, 2, 1) == &quot;c&quot;</text>\n</g>\n<!-- 101&#45;&gt;102 -->\n<g id=\"edge102\" class=\"edge\">\n<title>101&#45;&gt;102</title>\n<path fill=\"none\" stroke=\"red\" d=\"M5054.4,-3695.89C5021.77,-3684.6 4955.14,-3661.55 4917,-3648.36\"/>\n<polygon fill=\"red\" stroke=\"red\" points=\"4918.09,-3645.03 4907.5,-3645.07 4915.8,-3651.65 4918.09,-3645.03\"/>\n<text text-anchor=\"middle\" x=\"5002\" y=\"-3666.8\" font-family=\"Times,serif\" font-size=\"14.00\">0</text>\n</g>\n<!-- 123 -->\n<g id=\"node124\" class=\"node\">\n<title>123</title>\n<text text-anchor=\"middle\" x=\"5170.5\" y=\"-3633.8\" font-family=\"Times,serif\" font-size=\"14.00\">(16) str.substr(cgi_decode_s_str_1, 3, 1) == &quot;+&quot;</text>\n</g>\n<!-- 101&#45;&gt;123 -->\n<g id=\"edge123\" class=\"edge\">\n<title>101&#45;&gt;123</title>\n<path fill=\"none\" stroke=\"blue\" d=\"M5083.52,-3695.89C5099.63,-3685.26 5131.58,-3664.18 5151.95,-3650.74\"/>\n<polygon fill=\"blue\" stroke=\"blue\" points=\"5153.97,-3653.6 5160.39,-3645.17 5150.12,-3647.75 5153.97,-3653.6\"/>\n<text text-anchor=\"middle\" x=\"5135\" y=\"-3666.8\" font-family=\"Times,serif\" font-size=\"14.00\">1</text>\n</g>\n<!-- 103 -->\n<g id=\"node104\" class=\"node\">\n<title>103</title>\n<text text-anchor=\"middle\" x=\"4740.5\" y=\"-3567.8\" font-family=\"Times,serif\" font-size=\"14.00\">(17) str.substr(cgi_decode_s_str_1, 2, 1) == &quot;d&quot;</text>\n</g>\n<!-- 102&#45;&gt;103 -->\n<g id=\"edge103\" class=\"edge\">\n<title>102&#45;&gt;103</title>\n<path fill=\"none\" stroke=\"red\" d=\"M4873.22,-3629.89C4847.63,-3618.83 4795.89,-3596.45 4765.12,-3583.14\"/>\n<polygon fill=\"red\" stroke=\"red\" points=\"4766.49,-3579.92 4755.92,-3579.17 4763.71,-3586.35 4766.49,-3579.92\"/>\n<text text-anchor=\"middle\" x=\"4832\" y=\"-3600.8\" font-family=\"Times,serif\" font-size=\"14.00\">0</text>\n</g>\n<!-- 122 -->\n<g id=\"node123\" class=\"node\">\n<title>122</title>\n<text text-anchor=\"middle\" x=\"4893.5\" y=\"-3567.8\" font-family=\"Times,serif\" font-size=\"14.00\">?</text>\n</g>\n<!-- 102&#45;&gt;122 -->\n<g id=\"edge122\" class=\"edge\">\n<title>102&#45;&gt;122</title>\n<path fill=\"none\" stroke=\"blue\" d=\"M4889.04,-3629.65C4889.78,-3620.07 4891.17,-3602.38 4892.2,-3589.2\"/>\n<polygon fill=\"blue\" stroke=\"blue\" points=\"4895.69,-3589.35 4892.98,-3579.11 4888.72,-3588.81 4895.69,-3589.35\"/>\n<text text-anchor=\"middle\" x=\"4895\" y=\"-3600.8\" font-family=\"Times,serif\" font-size=\"14.00\">1</text>\n</g>\n<!-- 104 -->\n<g id=\"node105\" class=\"node\">\n<title>104</title>\n<text text-anchor=\"middle\" x=\"4617.5\" y=\"-3501.8\" font-family=\"Times,serif\" font-size=\"14.00\">(18) str.substr(cgi_decode_s_str_1, 2, 1) == &quot;e&quot;</text>\n</g>\n<!-- 103&#45;&gt;104 -->\n<g id=\"edge104\" class=\"edge\">\n<title>103&#45;&gt;104</title>\n<path fill=\"none\" stroke=\"red\" d=\"M4727.8,-3563.89C4706.9,-3553.02 4665.02,-3531.22 4639.3,-3517.84\"/>\n<polygon fill=\"red\" stroke=\"red\" points=\"4640.8,-3514.68 4630.32,-3513.17 4637.57,-3520.89 4640.8,-3514.68\"/>\n<text text-anchor=\"middle\" x=\"4694\" y=\"-3534.8\" font-family=\"Times,serif\" font-size=\"14.00\">0</text>\n</g>\n<!-- 121 -->\n<g id=\"node122\" class=\"node\">\n<title>121</title>\n<text text-anchor=\"middle\" x=\"4770.5\" y=\"-3501.8\" font-family=\"Times,serif\" font-size=\"14.00\">?</text>\n</g>\n<!-- 103&#45;&gt;121 -->\n<g id=\"edge121\" class=\"edge\">\n<title>103&#45;&gt;121</title>\n<path fill=\"none\" stroke=\"blue\" d=\"M4743.71,-3563.65C4748.29,-3553.88 4756.83,-3535.66 4763.04,-3522.41\"/>\n<polygon fill=\"blue\" stroke=\"blue\" points=\"4766.33,-3523.65 4767.4,-3513.11 4759.99,-3520.68 4766.33,-3523.65\"/>\n<text text-anchor=\"middle\" x=\"4762\" y=\"-3534.8\" font-family=\"Times,serif\" font-size=\"14.00\">1</text>\n</g>\n<!-- 105 -->\n<g id=\"node106\" class=\"node\">\n<title>105</title>\n<text text-anchor=\"middle\" x=\"4470.5\" y=\"-3435.8\" font-family=\"Times,serif\" font-size=\"14.00\">(19) str.substr(cgi_decode_s_str_1, 2, 1) == &quot;f&quot;</text>\n</g>\n<!-- 104&#45;&gt;105 -->\n<g id=\"edge105\" class=\"edge\">\n<title>104&#45;&gt;105</title>\n<path fill=\"none\" stroke=\"red\" d=\"M4602.32,-3497.89C4577.01,-3486.87 4525.96,-3464.65 4495.35,-3451.32\"/>\n<polygon fill=\"red\" stroke=\"red\" points=\"4496.38,-3447.95 4485.82,-3447.17 4493.59,-3454.37 4496.38,-3447.95\"/>\n<text text-anchor=\"middle\" x=\"4561\" y=\"-3468.8\" font-family=\"Times,serif\" font-size=\"14.00\">0</text>\n</g>\n<!-- 120 -->\n<g id=\"node121\" class=\"node\">\n<title>120</title>\n<text text-anchor=\"middle\" x=\"4622.5\" y=\"-3435.8\" font-family=\"Times,serif\" font-size=\"14.00\">?</text>\n</g>\n<!-- 104&#45;&gt;120 -->\n<g id=\"edge120\" class=\"edge\">\n<title>104&#45;&gt;120</title>\n<path fill=\"none\" stroke=\"blue\" d=\"M4618.04,-3497.65C4618.78,-3488.07 4620.17,-3470.38 4621.2,-3457.2\"/>\n<polygon fill=\"blue\" stroke=\"blue\" points=\"4624.69,-3457.35 4621.98,-3447.11 4617.72,-3456.81 4624.69,-3457.35\"/>\n<text text-anchor=\"middle\" x=\"4624\" y=\"-3468.8\" font-family=\"Times,serif\" font-size=\"14.00\">1</text>\n</g>\n<!-- 106 -->\n<g id=\"node107\" class=\"node\">\n<title>106</title>\n<text text-anchor=\"middle\" x=\"4384.5\" y=\"-3369.8\" font-family=\"Times,serif\" font-size=\"14.00\">(20) str.substr(cgi_decode_s_str_1, 2, 1) == &quot;A&quot;</text>\n</g>\n<!-- 105&#45;&gt;106 -->\n<g id=\"edge106\" class=\"edge\">\n<title>105&#45;&gt;106</title>\n<path fill=\"none\" stroke=\"red\" d=\"M4461.62,-3431.89C4447.59,-3421.45 4420.02,-3400.93 4401.93,-3387.47\"/>\n<polygon fill=\"red\" stroke=\"red\" points=\"4403.57,-3384.33 4393.46,-3381.17 4399.39,-3389.95 4403.57,-3384.33\"/>\n<text text-anchor=\"middle\" x=\"4439\" y=\"-3402.8\" font-family=\"Times,serif\" font-size=\"14.00\">0</text>\n</g>\n<!-- 119 -->\n<g id=\"node120\" class=\"node\">\n<title>119</title>\n<text text-anchor=\"middle\" x=\"4539.5\" y=\"-3369.8\" font-family=\"Times,serif\" font-size=\"14.00\">?</text>\n</g>\n<!-- 105&#45;&gt;119 -->\n<g id=\"edge119\" class=\"edge\">\n<title>105&#45;&gt;119</title>\n<path fill=\"none\" stroke=\"blue\" d=\"M4477.62,-3431.89C4489.71,-3420.68 4514.32,-3397.85 4528.59,-3384.62\"/>\n<polygon fill=\"blue\" stroke=\"blue\" points=\"4530.99,-3387.17 4535.94,-3377.8 4526.23,-3382.04 4530.99,-3387.17\"/>\n<text text-anchor=\"middle\" x=\"4515\" y=\"-3402.8\" font-family=\"Times,serif\" font-size=\"14.00\">1</text>\n</g>\n<!-- 107 -->\n<g id=\"node108\" class=\"node\">\n<title>107</title>\n<text text-anchor=\"middle\" x=\"4281.5\" y=\"-3303.8\" font-family=\"Times,serif\" font-size=\"14.00\">(21) str.substr(cgi_decode_s_str_1, 2, 1) == &quot;B&quot;</text>\n</g>\n<!-- 106&#45;&gt;107 -->\n<g id=\"edge107\" class=\"edge\">\n<title>106&#45;&gt;107</title>\n<path fill=\"none\" stroke=\"red\" d=\"M4373.87,-3365.89C4356.67,-3355.21 4322.52,-3333.99 4300.91,-3320.56\"/>\n<polygon fill=\"red\" stroke=\"red\" points=\"4302.57,-3317.47 4292.23,-3315.17 4298.88,-3323.42 4302.57,-3317.47\"/>\n<text text-anchor=\"middle\" x=\"4346\" y=\"-3336.8\" font-family=\"Times,serif\" font-size=\"14.00\">0</text>\n</g>\n<!-- 118 -->\n<g id=\"node119\" class=\"node\">\n<title>118</title>\n<text text-anchor=\"middle\" x=\"4435.5\" y=\"-3303.8\" font-family=\"Times,serif\" font-size=\"14.00\">?</text>\n</g>\n<!-- 106&#45;&gt;118 -->\n<g id=\"edge118\" class=\"edge\">\n<title>106&#45;&gt;118</title>\n<path fill=\"none\" stroke=\"blue\" d=\"M4389.96,-3365.65C4398.48,-3354.96 4415.06,-3334.16 4425.69,-3320.81\"/>\n<polygon fill=\"blue\" stroke=\"blue\" points=\"4428.43,-3322.99 4431.92,-3312.99 4422.95,-3318.63 4428.43,-3322.99\"/>\n<text text-anchor=\"middle\" x=\"4419\" y=\"-3336.8\" font-family=\"Times,serif\" font-size=\"14.00\">1</text>\n</g>\n<!-- 108 -->\n<g id=\"node109\" class=\"node\">\n<title>108</title>\n<text text-anchor=\"middle\" x=\"4164.5\" y=\"-3237.8\" font-family=\"Times,serif\" font-size=\"14.00\">(22) str.substr(cgi_decode_s_str_1, 2, 1) == &quot;C&quot;</text>\n</g>\n<!-- 107&#45;&gt;108 -->\n<g id=\"edge108\" class=\"edge\">\n<title>107&#45;&gt;108</title>\n<path fill=\"none\" stroke=\"red\" d=\"M4269.42,-3299.89C4249.63,-3289.07 4210.05,-3267.42 4185.56,-3254.02\"/>\n<polygon fill=\"red\" stroke=\"red\" points=\"4187.14,-3250.9 4176.69,-3249.17 4183.78,-3257.04 4187.14,-3250.9\"/>\n<text text-anchor=\"middle\" x=\"4237\" y=\"-3270.8\" font-family=\"Times,serif\" font-size=\"14.00\">0</text>\n</g>\n<!-- 117 -->\n<g id=\"node118\" class=\"node\">\n<title>117</title>\n<text text-anchor=\"middle\" x=\"4318.5\" y=\"-3237.8\" font-family=\"Times,serif\" font-size=\"14.00\">?</text>\n</g>\n<!-- 107&#45;&gt;117 -->\n<g id=\"edge117\" class=\"edge\">\n<title>107&#45;&gt;117</title>\n<path fill=\"none\" stroke=\"blue\" d=\"M4285.46,-3299.65C4291.22,-3289.68 4302.08,-3270.91 4309.77,-3257.6\"/>\n<polygon fill=\"blue\" stroke=\"blue\" points=\"4312.92,-3259.14 4314.9,-3248.73 4306.86,-3255.64 4312.92,-3259.14\"/>\n<text text-anchor=\"middle\" x=\"4307\" y=\"-3270.8\" font-family=\"Times,serif\" font-size=\"14.00\">1</text>\n</g>\n<!-- 109 -->\n<g id=\"node110\" class=\"node\">\n<title>109</title>\n<text text-anchor=\"middle\" x=\"4019.5\" y=\"-3171.8\" font-family=\"Times,serif\" font-size=\"14.00\">(23) str.substr(cgi_decode_s_str_1, 2, 1) == &quot;D&quot;</text>\n</g>\n<!-- 108&#45;&gt;109 -->\n<g id=\"edge109\" class=\"edge\">\n<title>108&#45;&gt;109</title>\n<path fill=\"none\" stroke=\"red\" d=\"M4149.53,-3233.89C4124.57,-3222.87 4074.21,-3200.65 4044.01,-3187.32\"/>\n<polygon fill=\"red\" stroke=\"red\" points=\"4045.17,-3184 4034.61,-3183.17 4042.34,-3190.41 4045.17,-3184\"/>\n<text text-anchor=\"middle\" x=\"4109\" y=\"-3204.8\" font-family=\"Times,serif\" font-size=\"14.00\">0</text>\n</g>\n<!-- 116 -->\n<g id=\"node117\" class=\"node\">\n<title>116</title>\n<text text-anchor=\"middle\" x=\"4174.5\" y=\"-3171.8\" font-family=\"Times,serif\" font-size=\"14.00\">?</text>\n</g>\n<!-- 108&#45;&gt;116 -->\n<g id=\"edge116\" class=\"edge\">\n<title>108&#45;&gt;116</title>\n<path fill=\"none\" stroke=\"blue\" d=\"M4165.57,-3233.65C4167.07,-3224.07 4169.83,-3206.38 4171.89,-3193.2\"/>\n<polygon fill=\"blue\" stroke=\"blue\" points=\"4175.38,-3193.53 4173.47,-3183.11 4168.47,-3192.45 4175.38,-3193.53\"/>\n<text text-anchor=\"middle\" x=\"4174\" y=\"-3204.8\" font-family=\"Times,serif\" font-size=\"14.00\">1</text>\n</g>\n<!-- 110 -->\n<g id=\"node111\" class=\"node\">\n<title>110</title>\n<text text-anchor=\"middle\" x=\"4015.5\" y=\"-3105.8\" font-family=\"Times,serif\" font-size=\"14.00\">(24) str.substr(cgi_decode_s_str_1, 2, 1) == &quot;E&quot;</text>\n</g>\n<!-- 109&#45;&gt;110 -->\n<g id=\"edge110\" class=\"edge\">\n<title>109&#45;&gt;110</title>\n<path fill=\"none\" stroke=\"red\" d=\"M4019.07,-3167.65C4018.47,-3158.07 4017.37,-3140.38 4016.54,-3127.2\"/>\n<polygon fill=\"red\" stroke=\"red\" points=\"4020.03,-3126.87 4015.91,-3117.11 4013.04,-3127.31 4020.03,-3126.87\"/>\n<text text-anchor=\"middle\" x=\"4022\" y=\"-3138.8\" font-family=\"Times,serif\" font-size=\"14.00\">0</text>\n</g>\n<!-- 115 -->\n<g id=\"node116\" class=\"node\">\n<title>115</title>\n<text text-anchor=\"middle\" x=\"4169.5\" y=\"-3105.8\" font-family=\"Times,serif\" font-size=\"14.00\">?</text>\n</g>\n<!-- 109&#45;&gt;115 -->\n<g id=\"edge115\" class=\"edge\">\n<title>109&#45;&gt;115</title>\n<path fill=\"none\" stroke=\"blue\" d=\"M4036.1,-3167.95C4062.03,-3157.62 4113.6,-3136.7 4156.5,-3117 4156.6,-3116.96 4156.7,-3116.91 4156.79,-3116.86\"/>\n<polygon fill=\"blue\" stroke=\"blue\" points=\"4158.24,-3120.06 4165.66,-3112.5 4155.15,-3113.77 4158.24,-3120.06\"/>\n<text text-anchor=\"middle\" x=\"4119\" y=\"-3138.8\" font-family=\"Times,serif\" font-size=\"14.00\">1</text>\n</g>\n<!-- 111 -->\n<g id=\"node112\" class=\"node\">\n<title>111</title>\n<text text-anchor=\"middle\" x=\"4013.5\" y=\"-3039.8\" font-family=\"Times,serif\" font-size=\"14.00\">(25) str.substr(cgi_decode_s_str_1, 2, 1) == &quot;F&quot;</text>\n</g>\n<!-- 110&#45;&gt;111 -->\n<g id=\"edge111\" class=\"edge\">\n<title>110&#45;&gt;111</title>\n<path fill=\"none\" stroke=\"red\" d=\"M4015.29,-3101.65C4014.99,-3092.07 4014.43,-3074.38 4014.02,-3061.2\"/>\n<polygon fill=\"red\" stroke=\"red\" points=\"4017.52,-3060.99 4013.71,-3051.11 4010.52,-3061.21 4017.52,-3060.99\"/>\n<text text-anchor=\"middle\" x=\"4019\" y=\"-3072.8\" font-family=\"Times,serif\" font-size=\"14.00\">0</text>\n</g>\n<!-- 114 -->\n<g id=\"node115\" class=\"node\">\n<title>114</title>\n<text text-anchor=\"middle\" x=\"4167.5\" y=\"-3039.8\" font-family=\"Times,serif\" font-size=\"14.00\">?</text>\n</g>\n<!-- 110&#45;&gt;114 -->\n<g id=\"edge114\" class=\"edge\">\n<title>110&#45;&gt;114</title>\n<path fill=\"none\" stroke=\"blue\" d=\"M4032.36,-3101.98C4058.67,-3091.69 4111.02,-3070.83 4154.5,-3051 4154.6,-3050.96 4154.7,-3050.91 4154.79,-3050.87\"/>\n<polygon fill=\"blue\" stroke=\"blue\" points=\"4156.23,-3054.06 4163.67,-3046.51 4153.15,-3047.77 4156.23,-3054.06\"/>\n<text text-anchor=\"middle\" x=\"4117\" y=\"-3072.8\" font-family=\"Times,serif\" font-size=\"14.00\">1</text>\n</g>\n<!-- 112 -->\n<g id=\"node113\" class=\"node\">\n<title>112</title>\n<text text-anchor=\"middle\" x=\"3978.5\" y=\"-2973.8\" font-family=\"Times,serif\" font-size=\"14.00\">* %1\\x00</text>\n</g>\n<!-- 111&#45;&gt;112 -->\n<g id=\"edge112\" class=\"edge\">\n<title>111&#45;&gt;112</title>\n<path fill=\"none\" stroke=\"red\" d=\"M4009.75,-3035.65C4004.36,-3025.78 3994.25,-3007.3 3986.99,-2994.02\"/>\n<polygon fill=\"red\" stroke=\"red\" points=\"3989.98,-2992.2 3982.11,-2985.11 3983.84,-2995.56 3989.98,-2992.2\"/>\n<text text-anchor=\"middle\" x=\"4003\" y=\"-3006.8\" font-family=\"Times,serif\" font-size=\"14.00\">0</text>\n</g>\n<!-- 113 -->\n<g id=\"node114\" class=\"node\">\n<title>113</title>\n<text text-anchor=\"middle\" x=\"4027.5\" y=\"-2973.8\" font-family=\"Times,serif\" font-size=\"14.00\">?</text>\n</g>\n<!-- 111&#45;&gt;113 -->\n<g id=\"edge113\" class=\"edge\">\n<title>111&#45;&gt;113</title>\n<path fill=\"none\" stroke=\"blue\" d=\"M4015,-3035.65C4017.09,-3026.07 4020.96,-3008.38 4023.85,-2995.2\"/>\n<polygon fill=\"blue\" stroke=\"blue\" points=\"4027.34,-2995.63 4026.05,-2985.11 4020.5,-2994.13 4027.34,-2995.63\"/>\n<text text-anchor=\"middle\" x=\"4026\" y=\"-3006.8\" font-family=\"Times,serif\" font-size=\"14.00\">1</text>\n</g>\n<!-- 124 -->\n<g id=\"node125\" class=\"node\">\n<title>124</title>\n<text text-anchor=\"middle\" x=\"5049.5\" y=\"-3567.8\" font-family=\"Times,serif\" font-size=\"14.00\">(17) str.substr(cgi_decode_s_str_1, 3, 1) == &quot;%&quot;</text>\n</g>\n<!-- 123&#45;&gt;124 -->\n<g id=\"edge124\" class=\"edge\">\n<title>123&#45;&gt;124</title>\n<path fill=\"none\" stroke=\"red\" d=\"M5158.01,-3629.89C5137.45,-3619.02 5096.24,-3597.22 5070.95,-3583.84\"/>\n<polygon fill=\"red\" stroke=\"red\" points=\"5072.58,-3580.75 5062.11,-3579.17 5069.31,-3586.94 5072.58,-3580.75\"/>\n<text text-anchor=\"middle\" x=\"5125\" y=\"-3600.8\" font-family=\"Times,serif\" font-size=\"14.00\">0</text>\n</g>\n<!-- 139 -->\n<g id=\"node140\" class=\"node\">\n<title>139</title>\n<text text-anchor=\"middle\" x=\"5205.5\" y=\"-3567.8\" font-family=\"Times,serif\" font-size=\"14.00\">?</text>\n</g>\n<!-- 123&#45;&gt;139 -->\n<g id=\"edge139\" class=\"edge\">\n<title>123&#45;&gt;139</title>\n<path fill=\"none\" stroke=\"blue\" d=\"M5174.25,-3629.65C5179.64,-3619.78 5189.75,-3601.3 5197.01,-3588.02\"/>\n<polygon fill=\"blue\" stroke=\"blue\" points=\"5200.16,-3589.56 5201.89,-3579.11 5194.02,-3586.2 5200.16,-3589.56\"/>\n<text text-anchor=\"middle\" x=\"5195\" y=\"-3600.8\" font-family=\"Times,serif\" font-size=\"14.00\">1</text>\n</g>\n<!-- 125 -->\n<g id=\"node126\" class=\"node\">\n<title>125</title>\n<text text-anchor=\"middle\" x=\"4925.5\" y=\"-3501.8\" font-family=\"Times,serif\" font-size=\"14.00\">(18) str.substr(cgi_decode_s_str_1, 4, 1) == &quot;+&quot;</text>\n</g>\n<!-- 124&#45;&gt;125 -->\n<g id=\"edge125\" class=\"edge\">\n<title>124&#45;&gt;125</title>\n<path fill=\"none\" stroke=\"red\" d=\"M5036.7,-3563.89C5015.63,-3553.02 4973.4,-3531.22 4947.48,-3517.84\"/>\n<polygon fill=\"red\" stroke=\"red\" points=\"4948.91,-3514.64 4938.42,-3513.17 4945.7,-3520.86 4948.91,-3514.64\"/>\n<text text-anchor=\"middle\" x=\"5003\" y=\"-3534.8\" font-family=\"Times,serif\" font-size=\"14.00\">0</text>\n</g>\n<!-- 138 -->\n<g id=\"node139\" class=\"node\">\n<title>138</title>\n<text text-anchor=\"middle\" x=\"5079.5\" y=\"-3501.8\" font-family=\"Times,serif\" font-size=\"14.00\">?</text>\n</g>\n<!-- 124&#45;&gt;138 -->\n<g id=\"edge138\" class=\"edge\">\n<title>124&#45;&gt;138</title>\n<path fill=\"none\" stroke=\"blue\" d=\"M5052.71,-3563.65C5057.29,-3553.88 5065.83,-3535.66 5072.04,-3522.41\"/>\n<polygon fill=\"blue\" stroke=\"blue\" points=\"5075.33,-3523.65 5076.4,-3513.11 5068.99,-3520.68 5075.33,-3523.65\"/>\n<text text-anchor=\"middle\" x=\"5071\" y=\"-3534.8\" font-family=\"Times,serif\" font-size=\"14.00\">1</text>\n</g>\n<!-- 126 -->\n<g id=\"node127\" class=\"node\">\n<title>126</title>\n<text text-anchor=\"middle\" x=\"4783.5\" y=\"-3435.8\" font-family=\"Times,serif\" font-size=\"14.00\">(19) str.substr(cgi_decode_s_str_1, 4, 1) == &quot;%&quot;</text>\n</g>\n<!-- 125&#45;&gt;126 -->\n<g id=\"edge126\" class=\"edge\">\n<title>125&#45;&gt;126</title>\n<path fill=\"none\" stroke=\"red\" d=\"M4910.84,-3497.89C4886.39,-3486.87 4837.07,-3464.65 4807.5,-3451.32\"/>\n<polygon fill=\"red\" stroke=\"red\" points=\"4808.85,-3448.09 4798.29,-3447.17 4805.97,-3454.47 4808.85,-3448.09\"/>\n<text text-anchor=\"middle\" x=\"4871\" y=\"-3468.8\" font-family=\"Times,serif\" font-size=\"14.00\">0</text>\n</g>\n<!-- 137 -->\n<g id=\"node138\" class=\"node\">\n<title>137</title>\n<text text-anchor=\"middle\" x=\"4939.5\" y=\"-3435.8\" font-family=\"Times,serif\" font-size=\"14.00\">?</text>\n</g>\n<!-- 125&#45;&gt;137 -->\n<g id=\"edge137\" class=\"edge\">\n<title>125&#45;&gt;137</title>\n<path fill=\"none\" stroke=\"blue\" d=\"M4927,-3497.65C4929.09,-3488.07 4932.96,-3470.38 4935.85,-3457.2\"/>\n<polygon fill=\"blue\" stroke=\"blue\" points=\"4939.34,-3457.63 4938.05,-3447.11 4932.5,-3456.13 4939.34,-3457.63\"/>\n<text text-anchor=\"middle\" x=\"4938\" y=\"-3468.8\" font-family=\"Times,serif\" font-size=\"14.00\">1</text>\n</g>\n<!-- 127 -->\n<g id=\"node128\" class=\"node\">\n<title>127</title>\n<text text-anchor=\"middle\" x=\"4729.5\" y=\"-3369.8\" font-family=\"Times,serif\" font-size=\"14.00\">(20) str.substr(cgi_decode_s_str_1, 5, 1) == &quot;+&quot;</text>\n</g>\n<!-- 126&#45;&gt;127 -->\n<g id=\"edge127\" class=\"edge\">\n<title>126&#45;&gt;127</title>\n<path fill=\"none\" stroke=\"red\" d=\"M4777.72,-3431.65C4769.15,-3421.49 4752.87,-3402.2 4741.62,-3388.86\"/>\n<polygon fill=\"red\" stroke=\"red\" points=\"4744.2,-3386.49 4735.08,-3381.11 4738.85,-3391.01 4744.2,-3386.49\"/>\n<text text-anchor=\"middle\" x=\"4765\" y=\"-3402.8\" font-family=\"Times,serif\" font-size=\"14.00\">0</text>\n</g>\n<!-- 136 -->\n<g id=\"node137\" class=\"node\">\n<title>136</title>\n<text text-anchor=\"middle\" x=\"4883.5\" y=\"-3369.8\" font-family=\"Times,serif\" font-size=\"14.00\">?</text>\n</g>\n<!-- 126&#45;&gt;136 -->\n<g id=\"edge136\" class=\"edge\">\n<title>126&#45;&gt;136</title>\n<path fill=\"none\" stroke=\"blue\" d=\"M4793.83,-3431.89C4812.44,-3419.98 4851.52,-3394.97 4871.37,-3382.26\"/>\n<polygon fill=\"blue\" stroke=\"blue\" points=\"4873.45,-3385.09 4879.98,-3376.75 4869.67,-3379.19 4873.45,-3385.09\"/>\n<text text-anchor=\"middle\" x=\"4846\" y=\"-3402.8\" font-family=\"Times,serif\" font-size=\"14.00\">1</text>\n</g>\n<!-- 128 -->\n<g id=\"node129\" class=\"node\">\n<title>128</title>\n<text text-anchor=\"middle\" x=\"4613.5\" y=\"-3303.8\" font-family=\"Times,serif\" font-size=\"14.00\">(21) str.substr(cgi_decode_s_str_1, 5, 1) == &quot;%&quot;</text>\n</g>\n<!-- 127&#45;&gt;128 -->\n<g id=\"edge128\" class=\"edge\">\n<title>127&#45;&gt;128</title>\n<path fill=\"none\" stroke=\"red\" d=\"M4717.52,-3365.89C4697.9,-3355.07 4658.66,-3333.42 4634.38,-3320.02\"/>\n<polygon fill=\"red\" stroke=\"red\" points=\"4636.03,-3316.93 4625.59,-3315.17 4632.65,-3323.06 4636.03,-3316.93\"/>\n<text text-anchor=\"middle\" x=\"4686\" y=\"-3336.8\" font-family=\"Times,serif\" font-size=\"14.00\">0</text>\n</g>\n<!-- 135 -->\n<g id=\"node136\" class=\"node\">\n<title>135</title>\n<text text-anchor=\"middle\" x=\"4769.5\" y=\"-3303.8\" font-family=\"Times,serif\" font-size=\"14.00\">?</text>\n</g>\n<!-- 127&#45;&gt;135 -->\n<g id=\"edge135\" class=\"edge\">\n<title>127&#45;&gt;135</title>\n<path fill=\"none\" stroke=\"blue\" d=\"M4733.78,-3365.65C4740.08,-3355.58 4751.99,-3336.52 4760.32,-3323.2\"/>\n<polygon fill=\"blue\" stroke=\"blue\" points=\"4763.5,-3324.7 4765.84,-3314.36 4757.57,-3320.99 4763.5,-3324.7\"/>\n<text text-anchor=\"middle\" x=\"4757\" y=\"-3336.8\" font-family=\"Times,serif\" font-size=\"14.00\">1</text>\n</g>\n<!-- 129 -->\n<g id=\"node130\" class=\"node\">\n<title>129</title>\n<text text-anchor=\"middle\" x=\"4479.5\" y=\"-3237.8\" font-family=\"Times,serif\" font-size=\"14.00\">(22) str.substr(cgi_decode_s_str_1, 6, 1) == &quot;+&quot;</text>\n</g>\n<!-- 128&#45;&gt;129 -->\n<g id=\"edge129\" class=\"edge\">\n<title>128&#45;&gt;129</title>\n<path fill=\"none\" stroke=\"red\" d=\"M4599.66,-3299.89C4576.69,-3288.92 4530.46,-3266.84 4502.51,-3253.49\"/>\n<polygon fill=\"red\" stroke=\"red\" points=\"4503.99,-3250.32 4493.46,-3249.17 4500.98,-3256.64 4503.99,-3250.32\"/>\n<text text-anchor=\"middle\" x=\"4563\" y=\"-3270.8\" font-family=\"Times,serif\" font-size=\"14.00\">0</text>\n</g>\n<!-- 134 -->\n<g id=\"node135\" class=\"node\">\n<title>134</title>\n<text text-anchor=\"middle\" x=\"4633.5\" y=\"-3237.8\" font-family=\"Times,serif\" font-size=\"14.00\">?</text>\n</g>\n<!-- 128&#45;&gt;134 -->\n<g id=\"edge134\" class=\"edge\">\n<title>128&#45;&gt;134</title>\n<path fill=\"none\" stroke=\"blue\" d=\"M4615.64,-3299.65C4618.66,-3289.98 4624.28,-3272.02 4628.4,-3258.81\"/>\n<polygon fill=\"blue\" stroke=\"blue\" points=\"4631.79,-3259.7 4631.43,-3249.11 4625.11,-3257.61 4631.79,-3259.7\"/>\n<text text-anchor=\"middle\" x=\"4629\" y=\"-3270.8\" font-family=\"Times,serif\" font-size=\"14.00\">1</text>\n</g>\n<!-- 130 -->\n<g id=\"node131\" class=\"node\">\n<title>130</title>\n<text text-anchor=\"middle\" x=\"4330.5\" y=\"-3171.8\" font-family=\"Times,serif\" font-size=\"14.00\">(23) str.substr(cgi_decode_s_str_1, 6, 1) == &quot;%&quot;</text>\n</g>\n<!-- 129&#45;&gt;130 -->\n<g id=\"edge130\" class=\"edge\">\n<title>129&#45;&gt;130</title>\n<path fill=\"none\" stroke=\"red\" d=\"M4464.12,-3233.89C4438.35,-3222.83 4386.26,-3200.45 4355.28,-3187.14\"/>\n<polygon fill=\"red\" stroke=\"red\" points=\"4356.59,-3183.9 4346.02,-3183.17 4353.83,-3190.33 4356.59,-3183.9\"/>\n<text text-anchor=\"middle\" x=\"4422\" y=\"-3204.8\" font-family=\"Times,serif\" font-size=\"14.00\">0</text>\n</g>\n<!-- 133 -->\n<g id=\"node134\" class=\"node\">\n<title>133</title>\n<text text-anchor=\"middle\" x=\"4486.5\" y=\"-3171.8\" font-family=\"Times,serif\" font-size=\"14.00\">?</text>\n</g>\n<!-- 129&#45;&gt;133 -->\n<g id=\"edge133\" class=\"edge\">\n<title>129&#45;&gt;133</title>\n<path fill=\"none\" stroke=\"blue\" d=\"M4480.25,-3233.65C4481.3,-3224.07 4483.23,-3206.38 4484.67,-3193.2\"/>\n<polygon fill=\"blue\" stroke=\"blue\" points=\"4488.17,-3193.43 4485.78,-3183.11 4481.21,-3192.67 4488.17,-3193.43\"/>\n<text text-anchor=\"middle\" x=\"4488\" y=\"-3204.8\" font-family=\"Times,serif\" font-size=\"14.00\">1</text>\n</g>\n<!-- 131 -->\n<g id=\"node132\" class=\"node\">\n<title>131</title>\n<text text-anchor=\"middle\" x=\"4285.5\" y=\"-3105.8\" font-family=\"Times,serif\" font-size=\"14.00\">* %1b\\x00</text>\n</g>\n<!-- 130&#45;&gt;131 -->\n<g id=\"edge131\" class=\"edge\">\n<title>130&#45;&gt;131</title>\n<path fill=\"none\" stroke=\"red\" d=\"M4325.68,-3167.65C4318.68,-3157.69 4305.49,-3138.93 4296.14,-3125.63\"/>\n<polygon fill=\"red\" stroke=\"red\" points=\"4298.76,-3123.28 4290.15,-3117.11 4293.03,-3127.3 4298.76,-3123.28\"/>\n<text text-anchor=\"middle\" x=\"4316\" y=\"-3138.8\" font-family=\"Times,serif\" font-size=\"14.00\">0</text>\n</g>\n<!-- 132 -->\n<g id=\"node133\" class=\"node\">\n<title>132</title>\n<text text-anchor=\"middle\" x=\"4337.5\" y=\"-3105.8\" font-family=\"Times,serif\" font-size=\"14.00\">?</text>\n</g>\n<!-- 130&#45;&gt;132 -->\n<g id=\"edge132\" class=\"edge\">\n<title>130&#45;&gt;132</title>\n<path fill=\"none\" stroke=\"blue\" d=\"M4331.25,-3167.65C4332.3,-3158.07 4334.23,-3140.38 4335.67,-3127.2\"/>\n<polygon fill=\"blue\" stroke=\"blue\" points=\"4339.17,-3127.43 4336.78,-3117.11 4332.21,-3126.67 4339.17,-3127.43\"/>\n<text text-anchor=\"middle\" x=\"4339\" y=\"-3138.8\" font-family=\"Times,serif\" font-size=\"14.00\">1</text>\n</g>\n<!-- 153 -->\n<g id=\"node154\" class=\"node\">\n<title>153</title>\n<text text-anchor=\"middle\" x=\"6726.5\" y=\"-4557.8\" font-family=\"Times,serif\" font-size=\"14.00\">(2) str.substr(cgi_decode_s_str_1, 1, 1) == &quot;%&quot;</text>\n</g>\n<!-- 152&#45;&gt;153 -->\n<g id=\"edge153\" class=\"edge\">\n<title>152&#45;&gt;153</title>\n<path fill=\"none\" stroke=\"red\" d=\"M6727.39,-4619.65C6727.24,-4610.07 6726.97,-4592.38 6726.76,-4579.2\"/>\n<polygon fill=\"red\" stroke=\"red\" points=\"6730.26,-4579.05 6726.6,-4569.11 6723.26,-4579.16 6730.26,-4579.05\"/>\n<text text-anchor=\"middle\" x=\"6731\" y=\"-4590.8\" font-family=\"Times,serif\" font-size=\"14.00\">0</text>\n</g>\n<!-- 292 -->\n<g id=\"node293\" class=\"node\">\n<title>292</title>\n<text text-anchor=\"middle\" x=\"6879.5\" y=\"-4557.8\" font-family=\"Times,serif\" font-size=\"14.00\">?</text>\n</g>\n<!-- 152&#45;&gt;292 -->\n<g id=\"edge292\" class=\"edge\">\n<title>152&#45;&gt;292</title>\n<path fill=\"none\" stroke=\"blue\" d=\"M6744.36,-4619.98C6770.67,-4609.69 6823.02,-4588.83 6866.5,-4569 6866.6,-4568.96 6866.7,-4568.91 6866.79,-4568.87\"/>\n<polygon fill=\"blue\" stroke=\"blue\" points=\"6868.23,-4572.06 6875.67,-4564.51 6865.15,-4565.77 6868.23,-4572.06\"/>\n<text text-anchor=\"middle\" x=\"6829\" y=\"-4590.8\" font-family=\"Times,serif\" font-size=\"14.00\">1</text>\n</g>\n<!-- 154 -->\n<g id=\"node155\" class=\"node\">\n<title>154</title>\n<text text-anchor=\"middle\" x=\"6723.5\" y=\"-4491.8\" font-family=\"Times,serif\" font-size=\"14.00\">(3) str.substr(cgi_decode_s_str_1, 2, 1) == &quot;+&quot;</text>\n</g>\n<!-- 153&#45;&gt;154 -->\n<g id=\"edge154\" class=\"edge\">\n<title>153&#45;&gt;154</title>\n<path fill=\"none\" stroke=\"red\" d=\"M6726.18,-4553.65C6725.73,-4544.07 6724.9,-4526.38 6724.28,-4513.2\"/>\n<polygon fill=\"red\" stroke=\"red\" points=\"6727.77,-4512.93 6723.81,-4503.11 6720.78,-4513.26 6727.77,-4512.93\"/>\n<text text-anchor=\"middle\" x=\"6729\" y=\"-4524.8\" font-family=\"Times,serif\" font-size=\"14.00\">0</text>\n</g>\n<!-- 291 -->\n<g id=\"node292\" class=\"node\">\n<title>291</title>\n<text text-anchor=\"middle\" x=\"6874.5\" y=\"-4491.8\" font-family=\"Times,serif\" font-size=\"14.00\">?</text>\n</g>\n<!-- 153&#45;&gt;291 -->\n<g id=\"edge291\" class=\"edge\">\n<title>153&#45;&gt;291</title>\n<path fill=\"none\" stroke=\"blue\" d=\"M6742.85,-4553.91C6768.38,-4543.54 6819.19,-4522.57 6861.5,-4503 6861.6,-4502.95 6861.7,-4502.91 6861.79,-4502.86\"/>\n<polygon fill=\"blue\" stroke=\"blue\" points=\"6863.24,-4506.05 6870.66,-4498.5 6860.14,-4499.77 6863.24,-4506.05\"/>\n<text text-anchor=\"middle\" x=\"6825\" y=\"-4524.8\" font-family=\"Times,serif\" font-size=\"14.00\">1</text>\n</g>\n<!-- 155 -->\n<g id=\"node156\" class=\"node\">\n<title>155</title>\n<text text-anchor=\"middle\" x=\"6654.5\" y=\"-4425.8\" font-family=\"Times,serif\" font-size=\"14.00\">(4) str.substr(cgi_decode_s_str_1, 2, 1) == &quot;%&quot;</text>\n</g>\n<!-- 154&#45;&gt;155 -->\n<g id=\"edge155\" class=\"edge\">\n<title>154&#45;&gt;155</title>\n<path fill=\"none\" stroke=\"red\" d=\"M6716.38,-4487.89C6705.32,-4477.64 6683.81,-4457.68 6669.29,-4444.22\"/>\n<polygon fill=\"red\" stroke=\"red\" points=\"6671.4,-4441.4 6661.69,-4437.17 6666.64,-4446.53 6671.4,-4441.4\"/>\n<text text-anchor=\"middle\" x=\"6699\" y=\"-4458.8\" font-family=\"Times,serif\" font-size=\"14.00\">0</text>\n</g>\n<!-- 290 -->\n<g id=\"node291\" class=\"node\">\n<title>290</title>\n<text text-anchor=\"middle\" x=\"6807.5\" y=\"-4425.8\" font-family=\"Times,serif\" font-size=\"14.00\">?</text>\n</g>\n<!-- 154&#45;&gt;290 -->\n<g id=\"edge290\" class=\"edge\">\n<title>154&#45;&gt;290</title>\n<path fill=\"none\" stroke=\"blue\" d=\"M6732.17,-4487.89C6747.31,-4476.36 6778.57,-4452.54 6795.68,-4439.51\"/>\n<polygon fill=\"blue\" stroke=\"blue\" points=\"6798.05,-4442.1 6803.88,-4433.26 6793.81,-4436.53 6798.05,-4442.1\"/>\n<text text-anchor=\"middle\" x=\"6777\" y=\"-4458.8\" font-family=\"Times,serif\" font-size=\"14.00\">1</text>\n</g>\n<!-- 156 -->\n<g id=\"node157\" class=\"node\">\n<title>156</title>\n<text text-anchor=\"middle\" x=\"6542.5\" y=\"-4359.8\" font-family=\"Times,serif\" font-size=\"14.00\">(5) str.substr(cgi_decode_s_str_1, 3, 1) == &quot;+&quot;</text>\n</g>\n<!-- 155&#45;&gt;156 -->\n<g id=\"edge156\" class=\"edge\">\n<title>155&#45;&gt;156</title>\n<path fill=\"none\" stroke=\"red\" d=\"M6642.94,-4421.89C6624.07,-4411.11 6586.44,-4389.61 6562.97,-4376.2\"/>\n<polygon fill=\"red\" stroke=\"red\" points=\"6564.59,-4373.09 6554.17,-4371.17 6561.11,-4379.17 6564.59,-4373.09\"/>\n<text text-anchor=\"middle\" x=\"6613\" y=\"-4392.8\" font-family=\"Times,serif\" font-size=\"14.00\">0</text>\n</g>\n<!-- 289 -->\n<g id=\"node290\" class=\"node\">\n<title>289</title>\n<text text-anchor=\"middle\" x=\"6693.5\" y=\"-4359.8\" font-family=\"Times,serif\" font-size=\"14.00\">?</text>\n</g>\n<!-- 155&#45;&gt;289 -->\n<g id=\"edge289\" class=\"edge\">\n<title>155&#45;&gt;289</title>\n<path fill=\"none\" stroke=\"blue\" d=\"M6658.67,-4421.65C6664.81,-4411.58 6676.42,-4392.52 6684.55,-4379.2\"/>\n<polygon fill=\"blue\" stroke=\"blue\" points=\"6687.71,-4380.72 6689.93,-4370.36 6681.73,-4377.08 6687.71,-4380.72\"/>\n<text text-anchor=\"middle\" x=\"6681\" y=\"-4392.8\" font-family=\"Times,serif\" font-size=\"14.00\">1</text>\n</g>\n<!-- 157 -->\n<g id=\"node158\" class=\"node\">\n<title>157</title>\n<text text-anchor=\"middle\" x=\"6486.5\" y=\"-4293.8\" font-family=\"Times,serif\" font-size=\"14.00\">(6) str.substr(cgi_decode_s_str_1, 3, 1) == &quot;%&quot;</text>\n</g>\n<!-- 156&#45;&gt;157 -->\n<g id=\"edge157\" class=\"edge\">\n<title>156&#45;&gt;157</title>\n<path fill=\"none\" stroke=\"red\" d=\"M6536.51,-4355.65C6527.62,-4345.49 6510.74,-4326.2 6499.07,-4312.86\"/>\n<polygon fill=\"red\" stroke=\"red\" points=\"6501.5,-4310.33 6492.28,-4305.11 6496.23,-4314.94 6501.5,-4310.33\"/>\n<text text-anchor=\"middle\" x=\"6524\" y=\"-4326.8\" font-family=\"Times,serif\" font-size=\"14.00\">0</text>\n</g>\n<!-- 288 -->\n<g id=\"node289\" class=\"node\">\n<title>288</title>\n<text text-anchor=\"middle\" x=\"6639.5\" y=\"-4293.8\" font-family=\"Times,serif\" font-size=\"14.00\">?</text>\n</g>\n<!-- 156&#45;&gt;288 -->\n<g id=\"edge288\" class=\"edge\">\n<title>156&#45;&gt;288</title>\n<path fill=\"none\" stroke=\"blue\" d=\"M6552.52,-4355.89C6570.4,-4344.09 6607.79,-4319.42 6627.21,-4306.61\"/>\n<polygon fill=\"blue\" stroke=\"blue\" points=\"6629.29,-4309.43 6635.71,-4301 6625.44,-4303.58 6629.29,-4309.43\"/>\n<text text-anchor=\"middle\" x=\"6604\" y=\"-4326.8\" font-family=\"Times,serif\" font-size=\"14.00\">1</text>\n</g>\n<!-- 158 -->\n<g id=\"node159\" class=\"node\">\n<title>158</title>\n<text text-anchor=\"middle\" x=\"6358.5\" y=\"-4227.8\" font-family=\"Times,serif\" font-size=\"14.00\">(7) str.substr(cgi_decode_s_str_1, 4, 1) == &quot;+&quot;</text>\n</g>\n<!-- 157&#45;&gt;158 -->\n<g id=\"edge158\" class=\"edge\">\n<title>157&#45;&gt;158</title>\n<path fill=\"none\" stroke=\"red\" d=\"M6473.28,-4289.89C6451.44,-4278.97 6407.56,-4257.03 6380.83,-4243.67\"/>\n<polygon fill=\"red\" stroke=\"red\" points=\"6382.35,-4240.51 6371.84,-4239.17 6379.22,-4246.77 6382.35,-4240.51\"/>\n<text text-anchor=\"middle\" x=\"6438\" y=\"-4260.8\" font-family=\"Times,serif\" font-size=\"14.00\">0</text>\n</g>\n<!-- 287 -->\n<g id=\"node288\" class=\"node\">\n<title>287</title>\n<text text-anchor=\"middle\" x=\"6509.5\" y=\"-4227.8\" font-family=\"Times,serif\" font-size=\"14.00\">?</text>\n</g>\n<!-- 157&#45;&gt;287 -->\n<g id=\"edge287\" class=\"edge\">\n<title>157&#45;&gt;287</title>\n<path fill=\"none\" stroke=\"blue\" d=\"M6488.96,-4289.65C6492.44,-4279.98 6498.89,-4262.02 6503.64,-4248.81\"/>\n<polygon fill=\"blue\" stroke=\"blue\" points=\"6507.04,-4249.7 6507.13,-4239.11 6500.45,-4247.34 6507.04,-4249.7\"/>\n<text text-anchor=\"middle\" x=\"6504\" y=\"-4260.8\" font-family=\"Times,serif\" font-size=\"14.00\">1</text>\n</g>\n<!-- 159 -->\n<g id=\"node160\" class=\"node\">\n<title>159</title>\n<text text-anchor=\"middle\" x=\"6214.5\" y=\"-4161.8\" font-family=\"Times,serif\" font-size=\"14.00\">(8) str.substr(cgi_decode_s_str_1, 4, 1) == &quot;%&quot;</text>\n</g>\n<!-- 158&#45;&gt;159 -->\n<g id=\"edge159\" class=\"edge\">\n<title>158&#45;&gt;159</title>\n<path fill=\"none\" stroke=\"red\" d=\"M6343.63,-4223.89C6318.84,-4212.87 6268.83,-4190.65 6238.84,-4177.32\"/>\n<polygon fill=\"red\" stroke=\"red\" points=\"6240.06,-4174.03 6229.5,-4173.17 6237.22,-4180.43 6240.06,-4174.03\"/>\n<text text-anchor=\"middle\" x=\"6303\" y=\"-4194.8\" font-family=\"Times,serif\" font-size=\"14.00\">0</text>\n</g>\n<!-- 286 -->\n<g id=\"node287\" class=\"node\">\n<title>286</title>\n<text text-anchor=\"middle\" x=\"6367.5\" y=\"-4161.8\" font-family=\"Times,serif\" font-size=\"14.00\">?</text>\n</g>\n<!-- 158&#45;&gt;286 -->\n<g id=\"edge286\" class=\"edge\">\n<title>158&#45;&gt;286</title>\n<path fill=\"none\" stroke=\"blue\" d=\"M6359.46,-4223.65C6360.81,-4214.07 6363.3,-4196.38 6365.15,-4183.2\"/>\n<polygon fill=\"blue\" stroke=\"blue\" points=\"6368.64,-4183.5 6366.57,-4173.11 6361.71,-4182.52 6368.64,-4183.5\"/>\n<text text-anchor=\"middle\" x=\"6368\" y=\"-4194.8\" font-family=\"Times,serif\" font-size=\"14.00\">1</text>\n</g>\n<!-- 160 -->\n<g id=\"node161\" class=\"node\">\n<title>160</title>\n<text text-anchor=\"middle\" x=\"6080.5\" y=\"-4095.8\" font-family=\"Times,serif\" font-size=\"14.00\">(9) str.substr(cgi_decode_s_str_1, 5, 1) == &quot;+&quot;</text>\n</g>\n<!-- 159&#45;&gt;160 -->\n<g id=\"edge160\" class=\"edge\">\n<title>159&#45;&gt;160</title>\n<path fill=\"none\" stroke=\"red\" d=\"M6200.66,-4157.89C6177.69,-4146.92 6131.46,-4124.84 6103.51,-4111.49\"/>\n<polygon fill=\"red\" stroke=\"red\" points=\"6104.99,-4108.32 6094.46,-4107.17 6101.98,-4114.64 6104.99,-4108.32\"/>\n<text text-anchor=\"middle\" x=\"6164\" y=\"-4128.8\" font-family=\"Times,serif\" font-size=\"14.00\">0</text>\n</g>\n<!-- 285 -->\n<g id=\"node286\" class=\"node\">\n<title>285</title>\n<text text-anchor=\"middle\" x=\"6231.5\" y=\"-4095.8\" font-family=\"Times,serif\" font-size=\"14.00\">?</text>\n</g>\n<!-- 159&#45;&gt;285 -->\n<g id=\"edge285\" class=\"edge\">\n<title>159&#45;&gt;285</title>\n<path fill=\"none\" stroke=\"blue\" d=\"M6216.32,-4157.65C6218.89,-4147.98 6223.66,-4130.02 6227.17,-4116.81\"/>\n<polygon fill=\"blue\" stroke=\"blue\" points=\"6230.56,-4117.67 6229.74,-4107.11 6223.79,-4115.87 6230.56,-4117.67\"/>\n<text text-anchor=\"middle\" x=\"6229\" y=\"-4128.8\" font-family=\"Times,serif\" font-size=\"14.00\">1</text>\n</g>\n<!-- 161 -->\n<g id=\"node162\" class=\"node\">\n<title>161</title>\n<text text-anchor=\"middle\" x=\"6030.5\" y=\"-4029.8\" font-family=\"Times,serif\" font-size=\"14.00\">(10) str.substr(cgi_decode_s_str_1, 5, 1) == &quot;%&quot;</text>\n</g>\n<!-- 160&#45;&gt;161 -->\n<g id=\"edge161\" class=\"edge\">\n<title>160&#45;&gt;161</title>\n<path fill=\"none\" stroke=\"red\" d=\"M6075.15,-4091.65C6067.29,-4081.59 6052.43,-4062.57 6042.02,-4049.24\"/>\n<polygon fill=\"red\" stroke=\"red\" points=\"6044.58,-4046.83 6035.66,-4041.11 6039.06,-4051.14 6044.58,-4046.83\"/>\n<text text-anchor=\"middle\" x=\"6064\" y=\"-4062.8\" font-family=\"Times,serif\" font-size=\"14.00\">0</text>\n</g>\n<!-- 284 -->\n<g id=\"node285\" class=\"node\">\n<title>284</title>\n<text text-anchor=\"middle\" x=\"6186.5\" y=\"-4029.8\" font-family=\"Times,serif\" font-size=\"14.00\">?</text>\n</g>\n<!-- 160&#45;&gt;284 -->\n<g id=\"edge284\" class=\"edge\">\n<title>160&#45;&gt;284</title>\n<path fill=\"none\" stroke=\"blue\" d=\"M6091.44,-4091.89C6111.26,-4079.93 6152.98,-4054.74 6173.93,-4042.09\"/>\n<polygon fill=\"blue\" stroke=\"blue\" points=\"6176.02,-4044.92 6182.77,-4036.75 6172.4,-4038.92 6176.02,-4044.92\"/>\n<text text-anchor=\"middle\" x=\"6147\" y=\"-4062.8\" font-family=\"Times,serif\" font-size=\"14.00\">1</text>\n</g>\n<!-- 162 -->\n<g id=\"node163\" class=\"node\">\n<title>162</title>\n<text text-anchor=\"middle\" x=\"5885.5\" y=\"-3963.8\" font-family=\"Times,serif\" font-size=\"14.00\">(11) str.substr(cgi_decode_s_str_1, 6, 1) == &quot;+&quot;</text>\n</g>\n<!-- 161&#45;&gt;162 -->\n<g id=\"edge162\" class=\"edge\">\n<title>161&#45;&gt;162</title>\n<path fill=\"none\" stroke=\"red\" d=\"M6015.53,-4025.89C5990.57,-4014.87 5940.21,-3992.65 5910.01,-3979.32\"/>\n<polygon fill=\"red\" stroke=\"red\" points=\"5911.17,-3976 5900.61,-3975.17 5908.34,-3982.41 5911.17,-3976\"/>\n<text text-anchor=\"middle\" x=\"5975\" y=\"-3996.8\" font-family=\"Times,serif\" font-size=\"14.00\">0</text>\n</g>\n<!-- 283 -->\n<g id=\"node284\" class=\"node\">\n<title>283</title>\n<text text-anchor=\"middle\" x=\"6039.5\" y=\"-3963.8\" font-family=\"Times,serif\" font-size=\"14.00\">?</text>\n</g>\n<!-- 161&#45;&gt;283 -->\n<g id=\"edge283\" class=\"edge\">\n<title>161&#45;&gt;283</title>\n<path fill=\"none\" stroke=\"blue\" d=\"M6031.46,-4025.65C6032.81,-4016.07 6035.3,-3998.38 6037.15,-3985.2\"/>\n<polygon fill=\"blue\" stroke=\"blue\" points=\"6040.64,-3985.5 6038.57,-3975.11 6033.71,-3984.52 6040.64,-3985.5\"/>\n<text text-anchor=\"middle\" x=\"6040\" y=\"-3996.8\" font-family=\"Times,serif\" font-size=\"14.00\">1</text>\n</g>\n<!-- 163 -->\n<g id=\"node164\" class=\"node\">\n<title>163</title>\n<text text-anchor=\"middle\" x=\"5777.5\" y=\"-3897.8\" font-family=\"Times,serif\" font-size=\"14.00\">(12) str.substr(cgi_decode_s_str_1, 6, 1) == &quot;%&quot;</text>\n</g>\n<!-- 162&#45;&gt;163 -->\n<g id=\"edge163\" class=\"edge\">\n<title>162&#45;&gt;163</title>\n<path fill=\"none\" stroke=\"red\" d=\"M5874.35,-3959.89C5856.24,-3949.16 5820.19,-3927.8 5797.55,-3914.38\"/>\n<polygon fill=\"red\" stroke=\"red\" points=\"5799.14,-3911.26 5788.75,-3909.17 5795.57,-3917.28 5799.14,-3911.26\"/>\n<text text-anchor=\"middle\" x=\"5845\" y=\"-3930.8\" font-family=\"Times,serif\" font-size=\"14.00\">0</text>\n</g>\n<!-- 282 -->\n<g id=\"node283\" class=\"node\">\n<title>282</title>\n<text text-anchor=\"middle\" x=\"5933.5\" y=\"-3897.8\" font-family=\"Times,serif\" font-size=\"14.00\">?</text>\n</g>\n<!-- 162&#45;&gt;282 -->\n<g id=\"edge282\" class=\"edge\">\n<title>162&#45;&gt;282</title>\n<path fill=\"none\" stroke=\"blue\" d=\"M5890.64,-3959.65C5898.5,-3949.17 5913.66,-3928.96 5923.68,-3915.6\"/>\n<polygon fill=\"blue\" stroke=\"blue\" points=\"5926.69,-3917.42 5929.89,-3907.32 5921.09,-3913.22 5926.69,-3917.42\"/>\n<text text-anchor=\"middle\" x=\"5918\" y=\"-3930.8\" font-family=\"Times,serif\" font-size=\"14.00\">1</text>\n</g>\n<!-- 164 -->\n<g id=\"node165\" class=\"node\">\n<title>164</title>\n<text text-anchor=\"middle\" x=\"5631.5\" y=\"-3831.8\" font-family=\"Times,serif\" font-size=\"14.00\">(13) str.substr(cgi_decode_s_str_1, 7, 1) == &quot;+&quot;</text>\n</g>\n<!-- 163&#45;&gt;164 -->\n<g id=\"edge164\" class=\"edge\">\n<title>163&#45;&gt;164</title>\n<path fill=\"none\" stroke=\"red\" d=\"M5762.43,-3893.89C5737.29,-3882.87 5686.58,-3860.65 5656.18,-3847.32\"/>\n<polygon fill=\"red\" stroke=\"red\" points=\"5657.28,-3843.98 5646.71,-3843.17 5654.46,-3850.39 5657.28,-3843.98\"/>\n<text text-anchor=\"middle\" x=\"5722\" y=\"-3864.8\" font-family=\"Times,serif\" font-size=\"14.00\">0</text>\n</g>\n<!-- 281 -->\n<g id=\"node282\" class=\"node\">\n<title>281</title>\n<text text-anchor=\"middle\" x=\"5785.5\" y=\"-3831.8\" font-family=\"Times,serif\" font-size=\"14.00\">?</text>\n</g>\n<!-- 163&#45;&gt;281 -->\n<g id=\"edge281\" class=\"edge\">\n<title>163&#45;&gt;281</title>\n<path fill=\"none\" stroke=\"blue\" d=\"M5778.36,-3893.65C5779.55,-3884.07 5781.77,-3866.38 5783.41,-3853.2\"/>\n<polygon fill=\"blue\" stroke=\"blue\" points=\"5786.91,-3853.47 5784.67,-3843.11 5779.96,-3852.6 5786.91,-3853.47\"/>\n<text text-anchor=\"middle\" x=\"5786\" y=\"-3864.8\" font-family=\"Times,serif\" font-size=\"14.00\">1</text>\n</g>\n<!-- 165 -->\n<g id=\"node166\" class=\"node\">\n<title>165</title>\n<text text-anchor=\"middle\" x=\"5572.5\" y=\"-3765.8\" font-family=\"Times,serif\" font-size=\"14.00\">(14) str.substr(cgi_decode_s_str_1, 7, 1) == &quot;%&quot;</text>\n</g>\n<!-- 164&#45;&gt;165 -->\n<g id=\"edge165\" class=\"edge\">\n<title>164&#45;&gt;165</title>\n<path fill=\"none\" stroke=\"red\" d=\"M5625.19,-3827.65C5615.73,-3817.4 5597.7,-3797.83 5585.39,-3784.48\"/>\n<polygon fill=\"red\" stroke=\"red\" points=\"5587.94,-3782.09 5578.59,-3777.11 5582.8,-3786.83 5587.94,-3782.09\"/>\n<text text-anchor=\"middle\" x=\"5611\" y=\"-3798.8\" font-family=\"Times,serif\" font-size=\"14.00\">0</text>\n</g>\n<!-- 280 -->\n<g id=\"node281\" class=\"node\">\n<title>280</title>\n<text text-anchor=\"middle\" x=\"5728.5\" y=\"-3765.8\" font-family=\"Times,serif\" font-size=\"14.00\">?</text>\n</g>\n<!-- 164&#45;&gt;280 -->\n<g id=\"edge280\" class=\"edge\">\n<title>164&#45;&gt;280</title>\n<path fill=\"none\" stroke=\"blue\" d=\"M5641.52,-3827.89C5659.4,-3816.09 5696.79,-3791.42 5716.21,-3778.61\"/>\n<polygon fill=\"blue\" stroke=\"blue\" points=\"5718.29,-3781.43 5724.71,-3773 5714.44,-3775.58 5718.29,-3781.43\"/>\n<text text-anchor=\"middle\" x=\"5693\" y=\"-3798.8\" font-family=\"Times,serif\" font-size=\"14.00\">1</text>\n</g>\n<!-- 166 -->\n<g id=\"node167\" class=\"node\">\n<title>166</title>\n<text text-anchor=\"middle\" x=\"5508.5\" y=\"-3699.8\" font-family=\"Times,serif\" font-size=\"14.00\">(15) str.substr(cgi_decode_s_str_1, 8, 1) == &quot;+&quot;</text>\n</g>\n<!-- 165&#45;&gt;166 -->\n<g id=\"edge166\" class=\"edge\">\n<title>165&#45;&gt;166</title>\n<path fill=\"none\" stroke=\"red\" d=\"M5565.65,-3761.65C5555.4,-3751.4 5535.83,-3731.83 5522.48,-3718.48\"/>\n<polygon fill=\"red\" stroke=\"red\" points=\"5524.65,-3715.7 5515.11,-3711.11 5519.7,-3720.65 5524.65,-3715.7\"/>\n<text text-anchor=\"middle\" x=\"5550\" y=\"-3732.8\" font-family=\"Times,serif\" font-size=\"14.00\">0</text>\n</g>\n<!-- 279 -->\n<g id=\"node280\" class=\"node\">\n<title>279</title>\n<text text-anchor=\"middle\" x=\"5662.5\" y=\"-3699.8\" font-family=\"Times,serif\" font-size=\"14.00\">?</text>\n</g>\n<!-- 165&#45;&gt;279 -->\n<g id=\"edge279\" class=\"edge\">\n<title>165&#45;&gt;279</title>\n<path fill=\"none\" stroke=\"blue\" d=\"M5581.79,-3761.89C5598.24,-3750.2 5632.44,-3725.88 5650.59,-3712.97\"/>\n<polygon fill=\"blue\" stroke=\"blue\" points=\"5652.87,-3715.65 5658.99,-3707 5648.81,-3709.94 5652.87,-3715.65\"/>\n<text text-anchor=\"middle\" x=\"5630\" y=\"-3732.8\" font-family=\"Times,serif\" font-size=\"14.00\">1</text>\n</g>\n<!-- 167 -->\n<g id=\"node168\" class=\"node\">\n<title>167</title>\n<text text-anchor=\"middle\" x=\"5479.5\" y=\"-3633.8\" font-family=\"Times,serif\" font-size=\"14.00\">(16) str.substr(cgi_decode_s_str_1, 8, 1) == &quot;%&quot;</text>\n</g>\n<!-- 166&#45;&gt;167 -->\n<g id=\"edge167\" class=\"edge\">\n<title>166&#45;&gt;167</title>\n<path fill=\"none\" stroke=\"red\" d=\"M5505.4,-3695.65C5500.97,-3685.88 5492.71,-3667.66 5486.71,-3654.41\"/>\n<polygon fill=\"red\" stroke=\"red\" points=\"5489.81,-3652.77 5482.49,-3645.11 5483.43,-3655.66 5489.81,-3652.77\"/>\n<text text-anchor=\"middle\" x=\"5501\" y=\"-3666.8\" font-family=\"Times,serif\" font-size=\"14.00\">0</text>\n</g>\n<!-- 278 -->\n<g id=\"node279\" class=\"node\">\n<title>278</title>\n<text text-anchor=\"middle\" x=\"5635.5\" y=\"-3633.8\" font-family=\"Times,serif\" font-size=\"14.00\">?</text>\n</g>\n<!-- 166&#45;&gt;278 -->\n<g id=\"edge278\" class=\"edge\">\n<title>166&#45;&gt;278</title>\n<path fill=\"none\" stroke=\"blue\" d=\"M5521.61,-3695.89C5546.12,-3683.54 5598.59,-3657.1 5622.79,-3644.91\"/>\n<polygon fill=\"blue\" stroke=\"blue\" points=\"5624.58,-3647.92 5631.94,-3640.3 5621.43,-3641.67 5624.58,-3647.92\"/>\n<text text-anchor=\"middle\" x=\"5587\" y=\"-3666.8\" font-family=\"Times,serif\" font-size=\"14.00\">1</text>\n</g>\n<!-- 168 -->\n<g id=\"node169\" class=\"node\">\n<title>168</title>\n<text text-anchor=\"middle\" x=\"5364.5\" y=\"-3567.8\" font-family=\"Times,serif\" font-size=\"14.00\">(17) str.substr(cgi_decode_s_str_1, 9, 1) == &quot;+&quot;</text>\n</g>\n<!-- 167&#45;&gt;168 -->\n<g id=\"edge168\" class=\"edge\">\n<title>167&#45;&gt;168</title>\n<path fill=\"none\" stroke=\"red\" d=\"M5467.63,-3629.89C5448.26,-3619.11 5409.61,-3597.61 5385.52,-3584.2\"/>\n<polygon fill=\"red\" stroke=\"red\" points=\"5386.92,-3580.97 5376.48,-3579.17 5383.52,-3587.09 5386.92,-3580.97\"/>\n<text text-anchor=\"middle\" x=\"5436\" y=\"-3600.8\" font-family=\"Times,serif\" font-size=\"14.00\">0</text>\n</g>\n<!-- 277 -->\n<g id=\"node278\" class=\"node\">\n<title>277</title>\n<text text-anchor=\"middle\" x=\"5518.5\" y=\"-3567.8\" font-family=\"Times,serif\" font-size=\"14.00\">?</text>\n</g>\n<!-- 167&#45;&gt;277 -->\n<g id=\"edge277\" class=\"edge\">\n<title>167&#45;&gt;277</title>\n<path fill=\"none\" stroke=\"blue\" d=\"M5483.67,-3629.65C5489.81,-3619.58 5501.42,-3600.52 5509.55,-3587.2\"/>\n<polygon fill=\"blue\" stroke=\"blue\" points=\"5512.71,-3588.72 5514.93,-3578.36 5506.73,-3585.08 5512.71,-3588.72\"/>\n<text text-anchor=\"middle\" x=\"5506\" y=\"-3600.8\" font-family=\"Times,serif\" font-size=\"14.00\">1</text>\n</g>\n<!-- 169 -->\n<g id=\"node170\" class=\"node\">\n<title>169</title>\n<text text-anchor=\"middle\" x=\"5236.5\" y=\"-3501.8\" font-family=\"Times,serif\" font-size=\"14.00\">(18) str.substr(cgi_decode_s_str_1, 9, 1) == &quot;%&quot;</text>\n</g>\n<!-- 168&#45;&gt;169 -->\n<g id=\"edge169\" class=\"edge\">\n<title>168&#45;&gt;169</title>\n<path fill=\"none\" stroke=\"red\" d=\"M5351.28,-3563.89C5329.44,-3552.97 5285.56,-3531.03 5258.83,-3517.67\"/>\n<polygon fill=\"red\" stroke=\"red\" points=\"5260.35,-3514.51 5249.84,-3513.17 5257.22,-3520.77 5260.35,-3514.51\"/>\n<text text-anchor=\"middle\" x=\"5316\" y=\"-3534.8\" font-family=\"Times,serif\" font-size=\"14.00\">0</text>\n</g>\n<!-- 276 -->\n<g id=\"node277\" class=\"node\">\n<title>276</title>\n<text text-anchor=\"middle\" x=\"5392.5\" y=\"-3501.8\" font-family=\"Times,serif\" font-size=\"14.00\">?</text>\n</g>\n<!-- 168&#45;&gt;276 -->\n<g id=\"edge276\" class=\"edge\">\n<title>168&#45;&gt;276</title>\n<path fill=\"none\" stroke=\"blue\" d=\"M5367.5,-3563.65C5371.77,-3553.88 5379.74,-3535.66 5385.54,-3522.41\"/>\n<polygon fill=\"blue\" stroke=\"blue\" points=\"5388.81,-3523.67 5389.61,-3513.11 5382.39,-3520.87 5388.81,-3523.67\"/>\n<text text-anchor=\"middle\" x=\"5385\" y=\"-3534.8\" font-family=\"Times,serif\" font-size=\"14.00\">1</text>\n</g>\n<!-- 170 -->\n<g id=\"node171\" class=\"node\">\n<title>170</title>\n<text text-anchor=\"middle\" x=\"5100.5\" y=\"-3435.8\" font-family=\"Times,serif\" font-size=\"14.00\">(19) str.substr(cgi_decode_s_str_1, 10, 1) == &quot;+&quot;</text>\n</g>\n<!-- 169&#45;&gt;170 -->\n<g id=\"edge170\" class=\"edge\">\n<title>169&#45;&gt;170</title>\n<path fill=\"none\" stroke=\"red\" d=\"M5222.46,-3497.89C5199.15,-3486.92 5152.22,-3464.84 5123.86,-3451.49\"/>\n<polygon fill=\"red\" stroke=\"red\" points=\"5125.21,-3448.26 5114.67,-3447.17 5122.23,-3454.59 5125.21,-3448.26\"/>\n<text text-anchor=\"middle\" x=\"5185\" y=\"-3468.8\" font-family=\"Times,serif\" font-size=\"14.00\">0</text>\n</g>\n<!-- 275 -->\n<g id=\"node276\" class=\"node\">\n<title>275</title>\n<text text-anchor=\"middle\" x=\"5257.5\" y=\"-3435.8\" font-family=\"Times,serif\" font-size=\"14.00\">?</text>\n</g>\n<!-- 169&#45;&gt;275 -->\n<g id=\"edge275\" class=\"edge\">\n<title>169&#45;&gt;275</title>\n<path fill=\"none\" stroke=\"blue\" d=\"M5238.75,-3497.65C5241.92,-3487.98 5247.81,-3470.02 5252.15,-3456.81\"/>\n<polygon fill=\"blue\" stroke=\"blue\" points=\"5255.54,-3457.7 5255.33,-3447.11 5248.89,-3455.52 5255.54,-3457.7\"/>\n<text text-anchor=\"middle\" x=\"5253\" y=\"-3468.8\" font-family=\"Times,serif\" font-size=\"14.00\">1</text>\n</g>\n<!-- 171 -->\n<g id=\"node172\" class=\"node\">\n<title>171</title>\n<text text-anchor=\"middle\" x=\"5042.5\" y=\"-3369.8\" font-family=\"Times,serif\" font-size=\"14.00\">(20) str.substr(cgi_decode_s_str_1, 10, 1) == &quot;%&quot;</text>\n</g>\n<!-- 170&#45;&gt;171 -->\n<g id=\"edge171\" class=\"edge\">\n<title>170&#45;&gt;171</title>\n<path fill=\"none\" stroke=\"red\" d=\"M5094.29,-3431.65C5085.09,-3421.49 5067.6,-3402.2 5055.51,-3388.86\"/>\n<polygon fill=\"red\" stroke=\"red\" points=\"5057.8,-3386.17 5048.49,-3381.11 5052.61,-3390.87 5057.8,-3386.17\"/>\n<text text-anchor=\"middle\" x=\"5081\" y=\"-3402.8\" font-family=\"Times,serif\" font-size=\"14.00\">0</text>\n</g>\n<!-- 274 -->\n<g id=\"node275\" class=\"node\">\n<title>274</title>\n<text text-anchor=\"middle\" x=\"5201.5\" y=\"-3369.8\" font-family=\"Times,serif\" font-size=\"14.00\">?</text>\n</g>\n<!-- 170&#45;&gt;274 -->\n<g id=\"edge274\" class=\"edge\">\n<title>170&#45;&gt;274</title>\n<path fill=\"none\" stroke=\"blue\" d=\"M5110.93,-3431.89C5129.73,-3419.98 5169.2,-3394.97 5189.25,-3382.26\"/>\n<polygon fill=\"blue\" stroke=\"blue\" points=\"5191.37,-3385.06 5197.95,-3376.75 5187.63,-3379.15 5191.37,-3385.06\"/>\n<text text-anchor=\"middle\" x=\"5164\" y=\"-3402.8\" font-family=\"Times,serif\" font-size=\"14.00\">1</text>\n</g>\n<!-- 172 -->\n<g id=\"node173\" class=\"node\">\n<title>172</title>\n<text text-anchor=\"middle\" x=\"4934.5\" y=\"-3303.8\" font-family=\"Times,serif\" font-size=\"14.00\">(21) str.substr(cgi_decode_s_str_1, 11, 1) == &quot;+&quot;</text>\n</g>\n<!-- 171&#45;&gt;172 -->\n<g id=\"edge172\" class=\"edge\">\n<title>171&#45;&gt;172</title>\n<path fill=\"none\" stroke=\"red\" d=\"M5031.35,-3365.89C5013.24,-3355.16 4977.19,-3333.8 4954.55,-3320.38\"/>\n<polygon fill=\"red\" stroke=\"red\" points=\"4956.14,-3317.26 4945.75,-3315.17 4952.57,-3323.28 4956.14,-3317.26\"/>\n<text text-anchor=\"middle\" x=\"5002\" y=\"-3336.8\" font-family=\"Times,serif\" font-size=\"14.00\">0</text>\n</g>\n<!-- 273 -->\n<g id=\"node274\" class=\"node\">\n<title>273</title>\n<text text-anchor=\"middle\" x=\"5091.5\" y=\"-3303.8\" font-family=\"Times,serif\" font-size=\"14.00\">?</text>\n</g>\n<!-- 171&#45;&gt;273 -->\n<g id=\"edge273\" class=\"edge\">\n<title>171&#45;&gt;273</title>\n<path fill=\"none\" stroke=\"blue\" d=\"M5047.74,-3365.65C5055.77,-3355.17 5071.24,-3334.96 5081.47,-3321.6\"/>\n<polygon fill=\"blue\" stroke=\"blue\" points=\"5084.51,-3323.38 5087.81,-3313.32 5078.95,-3319.13 5084.51,-3323.38\"/>\n<text text-anchor=\"middle\" x=\"5075\" y=\"-3336.8\" font-family=\"Times,serif\" font-size=\"14.00\">1</text>\n</g>\n<!-- 173 -->\n<g id=\"node174\" class=\"node\">\n<title>173</title>\n<text text-anchor=\"middle\" x=\"4797.5\" y=\"-3237.8\" font-family=\"Times,serif\" font-size=\"14.00\">(22) str.substr(cgi_decode_s_str_1, 11, 1) == &quot;%&quot;</text>\n</g>\n<!-- 172&#45;&gt;173 -->\n<g id=\"edge173\" class=\"edge\">\n<title>172&#45;&gt;173</title>\n<path fill=\"none\" stroke=\"red\" d=\"M4920.35,-3299.89C4896.87,-3288.92 4849.6,-3266.84 4821.03,-3253.49\"/>\n<polygon fill=\"red\" stroke=\"red\" points=\"4822.32,-3250.23 4811.77,-3249.17 4819.35,-3256.57 4822.32,-3250.23\"/>\n<text text-anchor=\"middle\" x=\"4882\" y=\"-3270.8\" font-family=\"Times,serif\" font-size=\"14.00\">0</text>\n</g>\n<!-- 272 -->\n<g id=\"node273\" class=\"node\">\n<title>272</title>\n<text text-anchor=\"middle\" x=\"4956.5\" y=\"-3237.8\" font-family=\"Times,serif\" font-size=\"14.00\">?</text>\n</g>\n<!-- 172&#45;&gt;272 -->\n<g id=\"edge272\" class=\"edge\">\n<title>172&#45;&gt;272</title>\n<path fill=\"none\" stroke=\"blue\" d=\"M4936.85,-3299.65C4940.18,-3289.98 4946.35,-3272.02 4950.9,-3258.81\"/>\n<polygon fill=\"blue\" stroke=\"blue\" points=\"4954.29,-3259.7 4954.23,-3249.11 4947.67,-3257.43 4954.29,-3259.7\"/>\n<text text-anchor=\"middle\" x=\"4951\" y=\"-3270.8\" font-family=\"Times,serif\" font-size=\"14.00\">1</text>\n</g>\n<!-- 174 -->\n<g id=\"node175\" class=\"node\">\n<title>174</title>\n<text text-anchor=\"middle\" x=\"4650.5\" y=\"-3171.8\" font-family=\"Times,serif\" font-size=\"14.00\">(23) str.substr(cgi_decode_s_str_1, 12, 1) == &quot;+&quot;</text>\n</g>\n<!-- 173&#45;&gt;174 -->\n<g id=\"edge174\" class=\"edge\">\n<title>173&#45;&gt;174</title>\n<path fill=\"none\" stroke=\"red\" d=\"M4782.32,-3233.89C4757.01,-3222.87 4705.96,-3200.65 4675.35,-3187.32\"/>\n<polygon fill=\"red\" stroke=\"red\" points=\"4676.38,-3183.95 4665.82,-3183.17 4673.59,-3190.37 4676.38,-3183.95\"/>\n<text text-anchor=\"middle\" x=\"4741\" y=\"-3204.8\" font-family=\"Times,serif\" font-size=\"14.00\">0</text>\n</g>\n<!-- 271 -->\n<g id=\"node272\" class=\"node\">\n<title>271</title>\n<text text-anchor=\"middle\" x=\"4807.5\" y=\"-3171.8\" font-family=\"Times,serif\" font-size=\"14.00\">?</text>\n</g>\n<!-- 173&#45;&gt;271 -->\n<g id=\"edge271\" class=\"edge\">\n<title>173&#45;&gt;271</title>\n<path fill=\"none\" stroke=\"blue\" d=\"M4798.57,-3233.65C4800.07,-3224.07 4802.83,-3206.38 4804.89,-3193.2\"/>\n<polygon fill=\"blue\" stroke=\"blue\" points=\"4808.38,-3193.53 4806.47,-3183.11 4801.47,-3192.45 4808.38,-3193.53\"/>\n<text text-anchor=\"middle\" x=\"4807\" y=\"-3204.8\" font-family=\"Times,serif\" font-size=\"14.00\">1</text>\n</g>\n<!-- 175 -->\n<g id=\"node176\" class=\"node\">\n<title>175</title>\n<text text-anchor=\"middle\" x=\"4496.5\" y=\"-3105.8\" font-family=\"Times,serif\" font-size=\"14.00\">(24) str.substr(cgi_decode_s_str_1, 12, 1) == &quot;%&quot;</text>\n</g>\n<!-- 174&#45;&gt;175 -->\n<g id=\"edge175\" class=\"edge\">\n<title>174&#45;&gt;175</title>\n<path fill=\"none\" stroke=\"red\" d=\"M4634.6,-3167.89C4607.97,-3156.83 4554.13,-3134.45 4522.11,-3121.14\"/>\n<polygon fill=\"red\" stroke=\"red\" points=\"4523.12,-3117.77 4512.54,-3117.17 4520.44,-3124.24 4523.12,-3117.77\"/>\n<text text-anchor=\"middle\" x=\"4591\" y=\"-3138.8\" font-family=\"Times,serif\" font-size=\"14.00\">0</text>\n</g>\n<!-- 270 -->\n<g id=\"node271\" class=\"node\">\n<title>270</title>\n<text text-anchor=\"middle\" x=\"4655.5\" y=\"-3105.8\" font-family=\"Times,serif\" font-size=\"14.00\">?</text>\n</g>\n<!-- 174&#45;&gt;270 -->\n<g id=\"edge270\" class=\"edge\">\n<title>174&#45;&gt;270</title>\n<path fill=\"none\" stroke=\"blue\" d=\"M4651.04,-3167.65C4651.78,-3158.07 4653.17,-3140.38 4654.2,-3127.2\"/>\n<polygon fill=\"blue\" stroke=\"blue\" points=\"4657.69,-3127.35 4654.98,-3117.11 4650.72,-3126.81 4657.69,-3127.35\"/>\n<text text-anchor=\"middle\" x=\"4657\" y=\"-3138.8\" font-family=\"Times,serif\" font-size=\"14.00\">1</text>\n</g>\n<!-- 176 -->\n<g id=\"node177\" class=\"node\">\n<title>176</title>\n<text text-anchor=\"middle\" x=\"4343.5\" y=\"-3039.8\" font-family=\"Times,serif\" font-size=\"14.00\">(25) str.substr(cgi_decode_s_str_1, 13, 1) == &quot;+&quot;</text>\n</g>\n<!-- 175&#45;&gt;176 -->\n<g id=\"edge176\" class=\"edge\">\n<title>175&#45;&gt;176</title>\n<path fill=\"none\" stroke=\"red\" d=\"M4480.7,-3101.89C4454.25,-3090.83 4400.76,-3068.45 4368.95,-3055.14\"/>\n<polygon fill=\"red\" stroke=\"red\" points=\"4370.02,-3051.8 4359.44,-3051.17 4367.32,-3058.26 4370.02,-3051.8\"/>\n<text text-anchor=\"middle\" x=\"4438\" y=\"-3072.8\" font-family=\"Times,serif\" font-size=\"14.00\">0</text>\n</g>\n<!-- 269 -->\n<g id=\"node270\" class=\"node\">\n<title>269</title>\n<text text-anchor=\"middle\" x=\"4500.5\" y=\"-3039.8\" font-family=\"Times,serif\" font-size=\"14.00\">?</text>\n</g>\n<!-- 175&#45;&gt;269 -->\n<g id=\"edge269\" class=\"edge\">\n<title>175&#45;&gt;269</title>\n<path fill=\"none\" stroke=\"blue\" d=\"M4496.93,-3101.65C4497.53,-3092.07 4498.63,-3074.38 4499.46,-3061.2\"/>\n<polygon fill=\"blue\" stroke=\"blue\" points=\"4502.96,-3061.31 4500.09,-3051.11 4495.97,-3060.87 4502.96,-3061.31\"/>\n<text text-anchor=\"middle\" x=\"4503\" y=\"-3072.8\" font-family=\"Times,serif\" font-size=\"14.00\">1</text>\n</g>\n<!-- 177 -->\n<g id=\"node178\" class=\"node\">\n<title>177</title>\n<text text-anchor=\"middle\" x=\"4186.5\" y=\"-2973.8\" font-family=\"Times,serif\" font-size=\"14.00\">(26) str.substr(cgi_decode_s_str_1, 13, 1) == &quot;%&quot;</text>\n</g>\n<!-- 176&#45;&gt;177 -->\n<g id=\"edge177\" class=\"edge\">\n<title>176&#45;&gt;177</title>\n<path fill=\"none\" stroke=\"red\" d=\"M4327.29,-3035.89C4300.03,-3024.78 4244.78,-3002.26 4212.19,-2988.97\"/>\n<polygon fill=\"red\" stroke=\"red\" points=\"4213.44,-2985.7 4202.86,-2985.17 4210.8,-2992.18 4213.44,-2985.7\"/>\n<text text-anchor=\"middle\" x=\"4283\" y=\"-3006.8\" font-family=\"Times,serif\" font-size=\"14.00\">0</text>\n</g>\n<!-- 268 -->\n<g id=\"node269\" class=\"node\">\n<title>268</title>\n<text text-anchor=\"middle\" x=\"4345.5\" y=\"-2973.8\" font-family=\"Times,serif\" font-size=\"14.00\">?</text>\n</g>\n<!-- 176&#45;&gt;268 -->\n<g id=\"edge268\" class=\"edge\">\n<title>176&#45;&gt;268</title>\n<path fill=\"none\" stroke=\"blue\" d=\"M4343.71,-3035.65C4344.01,-3026.07 4344.57,-3008.38 4344.98,-2995.2\"/>\n<polygon fill=\"blue\" stroke=\"blue\" points=\"4348.48,-2995.21 4345.29,-2985.11 4341.48,-2994.99 4348.48,-2995.21\"/>\n<text text-anchor=\"middle\" x=\"4349\" y=\"-3006.8\" font-family=\"Times,serif\" font-size=\"14.00\">1</text>\n</g>\n<!-- 178 -->\n<g id=\"node179\" class=\"node\">\n<title>178</title>\n<text text-anchor=\"middle\" x=\"4149.5\" y=\"-2907.8\" font-family=\"Times,serif\" font-size=\"14.00\">?</text>\n</g>\n<!-- 177&#45;&gt;178 -->\n<g id=\"edge178\" class=\"edge\">\n<title>177&#45;&gt;178</title>\n<path fill=\"none\" stroke=\"red\" d=\"M4179.2,-2969.77C4174.5,-2965.14 4168.55,-2958.64 4164.5,-2952 4160.14,-2944.85 4156.68,-2936.21 4154.19,-2928.84\"/>\n<polygon fill=\"red\" stroke=\"red\" points=\"4157.53,-2927.8 4151.24,-2919.27 4150.85,-2929.86 4157.53,-2927.8\"/>\n<text text-anchor=\"middle\" x=\"4168\" y=\"-2940.8\" font-family=\"Times,serif\" font-size=\"14.00\">0</text>\n</g>\n<!-- 179 -->\n<g id=\"node180\" class=\"node\">\n<title>179</title>\n<text text-anchor=\"middle\" x=\"4306.5\" y=\"-2907.8\" font-family=\"Times,serif\" font-size=\"14.00\">(27) str.substr(cgi_decode_s_str_1, 14, 1) == &quot;0&quot;</text>\n</g>\n<!-- 177&#45;&gt;179 -->\n<g id=\"edge179\" class=\"edge\">\n<title>177&#45;&gt;179</title>\n<path fill=\"none\" stroke=\"blue\" d=\"M4198.89,-2969.89C4219.19,-2959.07 4259.78,-2937.42 4284.9,-2924.02\"/>\n<polygon fill=\"blue\" stroke=\"blue\" points=\"4286.82,-2926.96 4294,-2919.17 4283.53,-2920.79 4286.82,-2926.96\"/>\n<text text-anchor=\"middle\" x=\"4261\" y=\"-2940.8\" font-family=\"Times,serif\" font-size=\"14.00\">1</text>\n</g>\n<!-- 180 -->\n<g id=\"node181\" class=\"node\">\n<title>180</title>\n<text text-anchor=\"middle\" x=\"4168.5\" y=\"-2841.8\" font-family=\"Times,serif\" font-size=\"14.00\">(28) str.substr(cgi_decode_s_str_1, 14, 1) == &quot;1&quot;</text>\n</g>\n<!-- 179&#45;&gt;180 -->\n<g id=\"edge180\" class=\"edge\">\n<title>179&#45;&gt;180</title>\n<path fill=\"none\" stroke=\"red\" d=\"M4292.25,-2903.89C4268.6,-2892.92 4220.98,-2870.84 4192.2,-2857.49\"/>\n<polygon fill=\"red\" stroke=\"red\" points=\"4193.42,-2854.2 4182.88,-2853.17 4190.48,-2860.55 4193.42,-2854.2\"/>\n<text text-anchor=\"middle\" x=\"4254\" y=\"-2874.8\" font-family=\"Times,serif\" font-size=\"14.00\">0</text>\n</g>\n<!-- 267 -->\n<g id=\"node268\" class=\"node\">\n<title>267</title>\n<text text-anchor=\"middle\" x=\"4325.5\" y=\"-2841.8\" font-family=\"Times,serif\" font-size=\"14.00\">?</text>\n</g>\n<!-- 179&#45;&gt;267 -->\n<g id=\"edge267\" class=\"edge\">\n<title>179&#45;&gt;267</title>\n<path fill=\"none\" stroke=\"blue\" d=\"M4308.53,-2903.65C4311.41,-2893.98 4316.74,-2876.02 4320.66,-2862.81\"/>\n<polygon fill=\"blue\" stroke=\"blue\" points=\"4324.05,-2863.69 4323.54,-2853.11 4317.34,-2861.7 4324.05,-2863.69\"/>\n<text text-anchor=\"middle\" x=\"4322\" y=\"-2874.8\" font-family=\"Times,serif\" font-size=\"14.00\">1</text>\n</g>\n<!-- 181 -->\n<g id=\"node182\" class=\"node\">\n<title>181</title>\n<text text-anchor=\"middle\" x=\"4036.5\" y=\"-2775.8\" font-family=\"Times,serif\" font-size=\"14.00\">(29) str.substr(cgi_decode_s_str_1, 14, 1) == &quot;2&quot;</text>\n</g>\n<!-- 180&#45;&gt;181 -->\n<g id=\"edge181\" class=\"edge\">\n<title>180&#45;&gt;181</title>\n<path fill=\"none\" stroke=\"red\" d=\"M4154.87,-2837.89C4132.34,-2826.97 4087.1,-2805.03 4059.53,-2791.67\"/>\n<polygon fill=\"red\" stroke=\"red\" points=\"4060.78,-2788.38 4050.25,-2787.17 4057.72,-2794.68 4060.78,-2788.38\"/>\n<text text-anchor=\"middle\" x=\"4118\" y=\"-2808.8\" font-family=\"Times,serif\" font-size=\"14.00\">0</text>\n</g>\n<!-- 266 -->\n<g id=\"node267\" class=\"node\">\n<title>266</title>\n<text text-anchor=\"middle\" x=\"4193.5\" y=\"-2775.8\" font-family=\"Times,serif\" font-size=\"14.00\">?</text>\n</g>\n<!-- 180&#45;&gt;266 -->\n<g id=\"edge266\" class=\"edge\">\n<title>180&#45;&gt;266</title>\n<path fill=\"none\" stroke=\"blue\" d=\"M4171.18,-2837.65C4174.95,-2827.98 4181.97,-2810.02 4187.13,-2796.81\"/>\n<polygon fill=\"blue\" stroke=\"blue\" points=\"4190.54,-2797.7 4190.92,-2787.11 4184.02,-2795.15 4190.54,-2797.7\"/>\n<text text-anchor=\"middle\" x=\"4187\" y=\"-2808.8\" font-family=\"Times,serif\" font-size=\"14.00\">1</text>\n</g>\n<!-- 182 -->\n<g id=\"node183\" class=\"node\">\n<title>182</title>\n<text text-anchor=\"middle\" x=\"3936.5\" y=\"-2709.8\" font-family=\"Times,serif\" font-size=\"14.00\">(30) str.substr(cgi_decode_s_str_1, 14, 1) == &quot;3&quot;</text>\n</g>\n<!-- 181&#45;&gt;182 -->\n<g id=\"edge182\" class=\"edge\">\n<title>181&#45;&gt;182</title>\n<path fill=\"none\" stroke=\"red\" d=\"M4026.17,-2771.89C4009.48,-2761.21 3976.33,-2739.99 3955.34,-2726.56\"/>\n<polygon fill=\"red\" stroke=\"red\" points=\"3957.23,-2723.61 3946.92,-2721.17 3953.45,-2729.51 3957.23,-2723.61\"/>\n<text text-anchor=\"middle\" x=\"3999\" y=\"-2742.8\" font-family=\"Times,serif\" font-size=\"14.00\">0</text>\n</g>\n<!-- 265 -->\n<g id=\"node266\" class=\"node\">\n<title>265</title>\n<text text-anchor=\"middle\" x=\"4093.5\" y=\"-2709.8\" font-family=\"Times,serif\" font-size=\"14.00\">?</text>\n</g>\n<!-- 181&#45;&gt;265 -->\n<g id=\"edge265\" class=\"edge\">\n<title>181&#45;&gt;265</title>\n<path fill=\"none\" stroke=\"blue\" d=\"M4042.6,-2771.65C4052.21,-2760.86 4071.01,-2739.75 4082.88,-2726.42\"/>\n<polygon fill=\"blue\" stroke=\"blue\" points=\"4085.75,-2728.46 4089.79,-2718.67 4080.52,-2723.81 4085.75,-2728.46\"/>\n<text text-anchor=\"middle\" x=\"4074\" y=\"-2742.8\" font-family=\"Times,serif\" font-size=\"14.00\">1</text>\n</g>\n<!-- 183 -->\n<g id=\"node184\" class=\"node\">\n<title>183</title>\n<text text-anchor=\"middle\" x=\"3802.5\" y=\"-2643.8\" font-family=\"Times,serif\" font-size=\"14.00\">(31) str.substr(cgi_decode_s_str_1, 14, 1) == &quot;4&quot;</text>\n</g>\n<!-- 182&#45;&gt;183 -->\n<g id=\"edge183\" class=\"edge\">\n<title>182&#45;&gt;183</title>\n<path fill=\"none\" stroke=\"red\" d=\"M3922.66,-2705.89C3899.69,-2694.92 3853.46,-2672.84 3825.51,-2659.49\"/>\n<polygon fill=\"red\" stroke=\"red\" points=\"3826.99,-2656.32 3816.46,-2655.17 3823.98,-2662.64 3826.99,-2656.32\"/>\n<text text-anchor=\"middle\" x=\"3886\" y=\"-2676.8\" font-family=\"Times,serif\" font-size=\"14.00\">0</text>\n</g>\n<!-- 264 -->\n<g id=\"node265\" class=\"node\">\n<title>264</title>\n<text text-anchor=\"middle\" x=\"3959.5\" y=\"-2643.8\" font-family=\"Times,serif\" font-size=\"14.00\">?</text>\n</g>\n<!-- 182&#45;&gt;264 -->\n<g id=\"edge264\" class=\"edge\">\n<title>182&#45;&gt;264</title>\n<path fill=\"none\" stroke=\"blue\" d=\"M3938.96,-2705.65C3942.44,-2695.98 3948.89,-2678.02 3953.64,-2664.81\"/>\n<polygon fill=\"blue\" stroke=\"blue\" points=\"3957.04,-2665.7 3957.13,-2655.11 3950.45,-2663.34 3957.04,-2665.7\"/>\n<text text-anchor=\"middle\" x=\"3954\" y=\"-2676.8\" font-family=\"Times,serif\" font-size=\"14.00\">1</text>\n</g>\n<!-- 184 -->\n<g id=\"node185\" class=\"node\">\n<title>184</title>\n<text text-anchor=\"middle\" x=\"3662.5\" y=\"-2577.8\" font-family=\"Times,serif\" font-size=\"14.00\">(32) str.substr(cgi_decode_s_str_1, 14, 1) == &quot;5&quot;</text>\n</g>\n<!-- 183&#45;&gt;184 -->\n<g id=\"edge184\" class=\"edge\">\n<title>183&#45;&gt;184</title>\n<path fill=\"none\" stroke=\"red\" d=\"M3788.04,-2639.89C3764.05,-2628.92 3715.74,-2606.84 3686.55,-2593.49\"/>\n<polygon fill=\"red\" stroke=\"red\" points=\"3687.64,-2590.14 3677.09,-2589.17 3684.73,-2596.51 3687.64,-2590.14\"/>\n<text text-anchor=\"middle\" x=\"3749\" y=\"-2610.8\" font-family=\"Times,serif\" font-size=\"14.00\">0</text>\n</g>\n<!-- 263 -->\n<g id=\"node264\" class=\"node\">\n<title>263</title>\n<text text-anchor=\"middle\" x=\"3819.5\" y=\"-2577.8\" font-family=\"Times,serif\" font-size=\"14.00\">?</text>\n</g>\n<!-- 183&#45;&gt;263 -->\n<g id=\"edge263\" class=\"edge\">\n<title>183&#45;&gt;263</title>\n<path fill=\"none\" stroke=\"blue\" d=\"M3804.32,-2639.65C3806.89,-2629.98 3811.66,-2612.02 3815.17,-2598.81\"/>\n<polygon fill=\"blue\" stroke=\"blue\" points=\"3818.56,-2599.67 3817.74,-2589.11 3811.79,-2597.87 3818.56,-2599.67\"/>\n<text text-anchor=\"middle\" x=\"3817\" y=\"-2610.8\" font-family=\"Times,serif\" font-size=\"14.00\">1</text>\n</g>\n<!-- 185 -->\n<g id=\"node186\" class=\"node\">\n<title>185</title>\n<text text-anchor=\"middle\" x=\"3522.5\" y=\"-2511.8\" font-family=\"Times,serif\" font-size=\"14.00\">(33) str.substr(cgi_decode_s_str_1, 14, 1) == &quot;6&quot;</text>\n</g>\n<!-- 184&#45;&gt;185 -->\n<g id=\"edge185\" class=\"edge\">\n<title>184&#45;&gt;185</title>\n<path fill=\"none\" stroke=\"red\" d=\"M3648.04,-2573.89C3624.05,-2562.92 3575.74,-2540.84 3546.55,-2527.49\"/>\n<polygon fill=\"red\" stroke=\"red\" points=\"3547.64,-2524.14 3537.09,-2523.17 3544.73,-2530.51 3547.64,-2524.14\"/>\n<text text-anchor=\"middle\" x=\"3609\" y=\"-2544.8\" font-family=\"Times,serif\" font-size=\"14.00\">0</text>\n</g>\n<!-- 262 -->\n<g id=\"node263\" class=\"node\">\n<title>262</title>\n<text text-anchor=\"middle\" x=\"3679.5\" y=\"-2511.8\" font-family=\"Times,serif\" font-size=\"14.00\">?</text>\n</g>\n<!-- 184&#45;&gt;262 -->\n<g id=\"edge262\" class=\"edge\">\n<title>184&#45;&gt;262</title>\n<path fill=\"none\" stroke=\"blue\" d=\"M3664.32,-2573.65C3666.89,-2563.98 3671.66,-2546.02 3675.17,-2532.81\"/>\n<polygon fill=\"blue\" stroke=\"blue\" points=\"3678.56,-2533.67 3677.74,-2523.11 3671.79,-2531.87 3678.56,-2533.67\"/>\n<text text-anchor=\"middle\" x=\"3677\" y=\"-2544.8\" font-family=\"Times,serif\" font-size=\"14.00\">1</text>\n</g>\n<!-- 186 -->\n<g id=\"node187\" class=\"node\">\n<title>186</title>\n<text text-anchor=\"middle\" x=\"3453.5\" y=\"-2445.8\" font-family=\"Times,serif\" font-size=\"14.00\">(34) str.substr(cgi_decode_s_str_1, 14, 1) == &quot;7&quot;</text>\n</g>\n<!-- 185&#45;&gt;186 -->\n<g id=\"edge186\" class=\"edge\">\n<title>185&#45;&gt;186</title>\n<path fill=\"none\" stroke=\"red\" d=\"M3515.38,-2507.89C3504.32,-2497.64 3482.81,-2477.68 3468.29,-2464.22\"/>\n<polygon fill=\"red\" stroke=\"red\" points=\"3470.4,-2461.4 3460.69,-2457.17 3465.64,-2466.53 3470.4,-2461.4\"/>\n<text text-anchor=\"middle\" x=\"3498\" y=\"-2478.8\" font-family=\"Times,serif\" font-size=\"14.00\">0</text>\n</g>\n<!-- 261 -->\n<g id=\"node262\" class=\"node\">\n<title>261</title>\n<text text-anchor=\"middle\" x=\"3610.5\" y=\"-2445.8\" font-family=\"Times,serif\" font-size=\"14.00\">?</text>\n</g>\n<!-- 185&#45;&gt;261 -->\n<g id=\"edge261\" class=\"edge\">\n<title>185&#45;&gt;261</title>\n<path fill=\"none\" stroke=\"blue\" d=\"M3531.59,-2507.89C3547.59,-2496.25 3580.8,-2472.1 3598.61,-2459.15\"/>\n<polygon fill=\"blue\" stroke=\"blue\" points=\"3600.68,-2461.97 3606.71,-2453.26 3596.57,-2456.31 3600.68,-2461.97\"/>\n<text text-anchor=\"middle\" x=\"3578\" y=\"-2478.8\" font-family=\"Times,serif\" font-size=\"14.00\">1</text>\n</g>\n<!-- 187 -->\n<g id=\"node188\" class=\"node\">\n<title>187</title>\n<text text-anchor=\"middle\" x=\"3383.5\" y=\"-2379.8\" font-family=\"Times,serif\" font-size=\"14.00\">(35) str.substr(cgi_decode_s_str_1, 14, 1) == &quot;8&quot;</text>\n</g>\n<!-- 186&#45;&gt;187 -->\n<g id=\"edge187\" class=\"edge\">\n<title>186&#45;&gt;187</title>\n<path fill=\"none\" stroke=\"red\" d=\"M3446.27,-2441.89C3435.06,-2431.64 3413.23,-2411.68 3398.51,-2398.22\"/>\n<polygon fill=\"red\" stroke=\"red\" points=\"3400.54,-2395.33 3390.79,-2391.17 3395.81,-2400.5 3400.54,-2395.33\"/>\n<text text-anchor=\"middle\" x=\"3429\" y=\"-2412.8\" font-family=\"Times,serif\" font-size=\"14.00\">0</text>\n</g>\n<!-- 260 -->\n<g id=\"node261\" class=\"node\">\n<title>260</title>\n<text text-anchor=\"middle\" x=\"3540.5\" y=\"-2379.8\" font-family=\"Times,serif\" font-size=\"14.00\">?</text>\n</g>\n<!-- 186&#45;&gt;260 -->\n<g id=\"edge260\" class=\"edge\">\n<title>186&#45;&gt;260</title>\n<path fill=\"none\" stroke=\"blue\" d=\"M3462.48,-2441.89C3478.23,-2430.3 3510.84,-2406.32 3528.5,-2393.33\"/>\n<polygon fill=\"blue\" stroke=\"blue\" points=\"3530.77,-2396 3536.75,-2387.26 3526.63,-2390.36 3530.77,-2396\"/>\n<text text-anchor=\"middle\" x=\"3509\" y=\"-2412.8\" font-family=\"Times,serif\" font-size=\"14.00\">1</text>\n</g>\n<!-- 188 -->\n<g id=\"node189\" class=\"node\">\n<title>188</title>\n<text text-anchor=\"middle\" x=\"3258.5\" y=\"-2313.8\" font-family=\"Times,serif\" font-size=\"14.00\">(36) str.substr(cgi_decode_s_str_1, 14, 1) == &quot;9&quot;</text>\n</g>\n<!-- 187&#45;&gt;188 -->\n<g id=\"edge188\" class=\"edge\">\n<title>187&#45;&gt;188</title>\n<path fill=\"none\" stroke=\"red\" d=\"M3370.59,-2375.89C3349.35,-2365.02 3306.79,-2343.22 3280.66,-2329.84\"/>\n<polygon fill=\"red\" stroke=\"red\" points=\"3282.02,-2326.61 3271.52,-2325.17 3278.83,-2332.84 3282.02,-2326.61\"/>\n<text text-anchor=\"middle\" x=\"3336\" y=\"-2346.8\" font-family=\"Times,serif\" font-size=\"14.00\">0</text>\n</g>\n<!-- 259 -->\n<g id=\"node260\" class=\"node\">\n<title>259</title>\n<text text-anchor=\"middle\" x=\"3415.5\" y=\"-2313.8\" font-family=\"Times,serif\" font-size=\"14.00\">?</text>\n</g>\n<!-- 187&#45;&gt;259 -->\n<g id=\"edge259\" class=\"edge\">\n<title>187&#45;&gt;259</title>\n<path fill=\"none\" stroke=\"blue\" d=\"M3386.92,-2375.65C3391.81,-2365.88 3400.92,-2347.66 3407.54,-2334.41\"/>\n<polygon fill=\"blue\" stroke=\"blue\" points=\"3410.85,-2335.62 3412.2,-2325.11 3404.59,-2332.49 3410.85,-2335.62\"/>\n<text text-anchor=\"middle\" x=\"3406\" y=\"-2346.8\" font-family=\"Times,serif\" font-size=\"14.00\">1</text>\n</g>\n<!-- 189 -->\n<g id=\"node190\" class=\"node\">\n<title>189</title>\n<text text-anchor=\"middle\" x=\"3124.5\" y=\"-2247.8\" font-family=\"Times,serif\" font-size=\"14.00\">(37) str.substr(cgi_decode_s_str_1, 14, 1) == &quot;a&quot;</text>\n</g>\n<!-- 188&#45;&gt;189 -->\n<g id=\"edge189\" class=\"edge\">\n<title>188&#45;&gt;189</title>\n<path fill=\"none\" stroke=\"red\" d=\"M3244.66,-2309.89C3221.69,-2298.92 3175.46,-2276.84 3147.51,-2263.49\"/>\n<polygon fill=\"red\" stroke=\"red\" points=\"3148.99,-2260.32 3138.46,-2259.17 3145.98,-2266.64 3148.99,-2260.32\"/>\n<text text-anchor=\"middle\" x=\"3208\" y=\"-2280.8\" font-family=\"Times,serif\" font-size=\"14.00\">0</text>\n</g>\n<!-- 258 -->\n<g id=\"node259\" class=\"node\">\n<title>258</title>\n<text text-anchor=\"middle\" x=\"3280.5\" y=\"-2247.8\" font-family=\"Times,serif\" font-size=\"14.00\">?</text>\n</g>\n<!-- 188&#45;&gt;258 -->\n<g id=\"edge258\" class=\"edge\">\n<title>188&#45;&gt;258</title>\n<path fill=\"none\" stroke=\"blue\" d=\"M3260.85,-2309.65C3264.18,-2299.98 3270.35,-2282.02 3274.9,-2268.81\"/>\n<polygon fill=\"blue\" stroke=\"blue\" points=\"3278.29,-2269.7 3278.23,-2259.11 3271.67,-2267.43 3278.29,-2269.7\"/>\n<text text-anchor=\"middle\" x=\"3275\" y=\"-2280.8\" font-family=\"Times,serif\" font-size=\"14.00\">1</text>\n</g>\n<!-- 190 -->\n<g id=\"node191\" class=\"node\">\n<title>190</title>\n<text text-anchor=\"middle\" x=\"2981.5\" y=\"-2181.8\" font-family=\"Times,serif\" font-size=\"14.00\">(38) str.substr(cgi_decode_s_str_1, 14, 1) == &quot;b&quot;</text>\n</g>\n<!-- 189&#45;&gt;190 -->\n<g id=\"edge190\" class=\"edge\">\n<title>189&#45;&gt;190</title>\n<path fill=\"none\" stroke=\"red\" d=\"M3109.74,-2243.89C3085.12,-2232.87 3035.45,-2210.65 3005.67,-2197.32\"/>\n<polygon fill=\"red\" stroke=\"red\" points=\"3006.96,-2194.06 2996.4,-2193.17 3004.1,-2200.45 3006.96,-2194.06\"/>\n<text text-anchor=\"middle\" x=\"3070\" y=\"-2214.8\" font-family=\"Times,serif\" font-size=\"14.00\">0</text>\n</g>\n<!-- 257 -->\n<g id=\"node258\" class=\"node\">\n<title>257</title>\n<text text-anchor=\"middle\" x=\"3138.5\" y=\"-2181.8\" font-family=\"Times,serif\" font-size=\"14.00\">?</text>\n</g>\n<!-- 189&#45;&gt;257 -->\n<g id=\"edge257\" class=\"edge\">\n<title>189&#45;&gt;257</title>\n<path fill=\"none\" stroke=\"blue\" d=\"M3126,-2243.65C3128.09,-2234.07 3131.96,-2216.38 3134.85,-2203.2\"/>\n<polygon fill=\"blue\" stroke=\"blue\" points=\"3138.34,-2203.63 3137.05,-2193.11 3131.5,-2202.13 3138.34,-2203.63\"/>\n<text text-anchor=\"middle\" x=\"3137\" y=\"-2214.8\" font-family=\"Times,serif\" font-size=\"14.00\">1</text>\n</g>\n<!-- 191 -->\n<g id=\"node192\" class=\"node\">\n<title>191</title>\n<text text-anchor=\"middle\" x=\"2843.5\" y=\"-2115.8\" font-family=\"Times,serif\" font-size=\"14.00\">(39) str.substr(cgi_decode_s_str_1, 14, 1) == &quot;c&quot;</text>\n</g>\n<!-- 190&#45;&gt;191 -->\n<g id=\"edge191\" class=\"edge\">\n<title>190&#45;&gt;191</title>\n<path fill=\"none\" stroke=\"red\" d=\"M2967.25,-2177.89C2943.6,-2166.92 2895.98,-2144.84 2867.2,-2131.49\"/>\n<polygon fill=\"red\" stroke=\"red\" points=\"2868.42,-2128.2 2857.88,-2127.17 2865.48,-2134.55 2868.42,-2128.2\"/>\n<text text-anchor=\"middle\" x=\"2929\" y=\"-2148.8\" font-family=\"Times,serif\" font-size=\"14.00\">0</text>\n</g>\n<!-- 256 -->\n<g id=\"node257\" class=\"node\">\n<title>256</title>\n<text text-anchor=\"middle\" x=\"2999.5\" y=\"-2115.8\" font-family=\"Times,serif\" font-size=\"14.00\">?</text>\n</g>\n<!-- 190&#45;&gt;256 -->\n<g id=\"edge256\" class=\"edge\">\n<title>190&#45;&gt;256</title>\n<path fill=\"none\" stroke=\"blue\" d=\"M2983.43,-2177.65C2986.15,-2167.98 2991.2,-2150.02 2994.91,-2136.81\"/>\n<polygon fill=\"blue\" stroke=\"blue\" points=\"2998.3,-2137.68 2997.64,-2127.11 2991.56,-2135.79 2998.3,-2137.68\"/>\n<text text-anchor=\"middle\" x=\"2996\" y=\"-2148.8\" font-family=\"Times,serif\" font-size=\"14.00\">1</text>\n</g>\n<!-- 192 -->\n<g id=\"node193\" class=\"node\">\n<title>192</title>\n<text text-anchor=\"middle\" x=\"2796.5\" y=\"-2049.8\" font-family=\"Times,serif\" font-size=\"14.00\">(40) str.substr(cgi_decode_s_str_1, 14, 1) == &quot;d&quot;</text>\n</g>\n<!-- 191&#45;&gt;192 -->\n<g id=\"edge192\" class=\"edge\">\n<title>191&#45;&gt;192</title>\n<path fill=\"none\" stroke=\"red\" d=\"M2838.47,-2111.65C2831.08,-2101.59 2817.11,-2082.57 2807.33,-2069.24\"/>\n<polygon fill=\"red\" stroke=\"red\" points=\"2810.09,-2067.1 2801.35,-2061.11 2804.45,-2071.24 2810.09,-2067.1\"/>\n<text text-anchor=\"middle\" x=\"2828\" y=\"-2082.8\" font-family=\"Times,serif\" font-size=\"14.00\">0</text>\n</g>\n<!-- 255 -->\n<g id=\"node256\" class=\"node\">\n<title>255</title>\n<text text-anchor=\"middle\" x=\"2953.5\" y=\"-2049.8\" font-family=\"Times,serif\" font-size=\"14.00\">?</text>\n</g>\n<!-- 191&#45;&gt;255 -->\n<g id=\"edge255\" class=\"edge\">\n<title>191&#45;&gt;255</title>\n<path fill=\"none\" stroke=\"blue\" d=\"M2854.86,-2111.89C2875.52,-2099.87 2919.11,-2074.51 2940.76,-2061.91\"/>\n<polygon fill=\"blue\" stroke=\"blue\" points=\"2942.75,-2064.81 2949.63,-2056.75 2939.23,-2058.76 2942.75,-2064.81\"/>\n<text text-anchor=\"middle\" x=\"2912\" y=\"-2082.8\" font-family=\"Times,serif\" font-size=\"14.00\">1</text>\n</g>\n<!-- 193 -->\n<g id=\"node194\" class=\"node\">\n<title>193</title>\n<text text-anchor=\"middle\" x=\"2676.5\" y=\"-1983.8\" font-family=\"Times,serif\" font-size=\"14.00\">(41) str.substr(cgi_decode_s_str_1, 14, 1) == &quot;e&quot;</text>\n</g>\n<!-- 192&#45;&gt;193 -->\n<g id=\"edge193\" class=\"edge\">\n<title>192&#45;&gt;193</title>\n<path fill=\"none\" stroke=\"red\" d=\"M2784.11,-2045.89C2763.81,-2035.07 2723.22,-2013.42 2698.1,-2000.02\"/>\n<polygon fill=\"red\" stroke=\"red\" points=\"2699.47,-1996.79 2689,-1995.17 2696.18,-2002.96 2699.47,-1996.79\"/>\n<text text-anchor=\"middle\" x=\"2751\" y=\"-2016.8\" font-family=\"Times,serif\" font-size=\"14.00\">0</text>\n</g>\n<!-- 254 -->\n<g id=\"node255\" class=\"node\">\n<title>254</title>\n<text text-anchor=\"middle\" x=\"2832.5\" y=\"-1983.8\" font-family=\"Times,serif\" font-size=\"14.00\">?</text>\n</g>\n<!-- 192&#45;&gt;254 -->\n<g id=\"edge254\" class=\"edge\">\n<title>192&#45;&gt;254</title>\n<path fill=\"none\" stroke=\"blue\" d=\"M2800.35,-2045.65C2805.96,-2035.68 2816.52,-2016.91 2824,-2003.6\"/>\n<polygon fill=\"blue\" stroke=\"blue\" points=\"2827.14,-2005.16 2828.99,-1994.73 2821.04,-2001.73 2827.14,-2005.16\"/>\n<text text-anchor=\"middle\" x=\"2822\" y=\"-2016.8\" font-family=\"Times,serif\" font-size=\"14.00\">1</text>\n</g>\n<!-- 194 -->\n<g id=\"node195\" class=\"node\">\n<title>194</title>\n<text text-anchor=\"middle\" x=\"2554.5\" y=\"-1917.8\" font-family=\"Times,serif\" font-size=\"14.00\">(42) str.substr(cgi_decode_s_str_1, 14, 1) == &quot;f&quot;</text>\n</g>\n<!-- 193&#45;&gt;194 -->\n<g id=\"edge194\" class=\"edge\">\n<title>193&#45;&gt;194</title>\n<path fill=\"none\" stroke=\"red\" d=\"M2663.9,-1979.89C2643.17,-1969.02 2601.63,-1947.22 2576.12,-1933.84\"/>\n<polygon fill=\"red\" stroke=\"red\" points=\"2577.69,-1930.71 2567.21,-1929.17 2574.44,-1936.91 2577.69,-1930.71\"/>\n<text text-anchor=\"middle\" x=\"2630\" y=\"-1950.8\" font-family=\"Times,serif\" font-size=\"14.00\">0</text>\n</g>\n<!-- 253 -->\n<g id=\"node254\" class=\"node\">\n<title>253</title>\n<text text-anchor=\"middle\" x=\"2710.5\" y=\"-1917.8\" font-family=\"Times,serif\" font-size=\"14.00\">?</text>\n</g>\n<!-- 193&#45;&gt;253 -->\n<g id=\"edge253\" class=\"edge\">\n<title>193&#45;&gt;253</title>\n<path fill=\"none\" stroke=\"blue\" d=\"M2680.14,-1979.65C2685.38,-1969.78 2695.2,-1951.3 2702.26,-1938.02\"/>\n<polygon fill=\"blue\" stroke=\"blue\" points=\"2705.39,-1939.58 2706.99,-1929.11 2699.21,-1936.3 2705.39,-1939.58\"/>\n<text text-anchor=\"middle\" x=\"2701\" y=\"-1950.8\" font-family=\"Times,serif\" font-size=\"14.00\">1</text>\n</g>\n<!-- 195 -->\n<g id=\"node196\" class=\"node\">\n<title>195</title>\n<text text-anchor=\"middle\" x=\"2491.5\" y=\"-1851.8\" font-family=\"Times,serif\" font-size=\"14.00\">(43) str.substr(cgi_decode_s_str_1, 14, 1) == &quot;A&quot;</text>\n</g>\n<!-- 194&#45;&gt;195 -->\n<g id=\"edge195\" class=\"edge\">\n<title>194&#45;&gt;195</title>\n<path fill=\"none\" stroke=\"red\" d=\"M2547.76,-1913.65C2537.66,-1903.4 2518.41,-1883.83 2505.26,-1870.48\"/>\n<polygon fill=\"red\" stroke=\"red\" points=\"2507.51,-1867.78 2498,-1863.11 2502.53,-1872.69 2507.51,-1867.78\"/>\n<text text-anchor=\"middle\" x=\"2533\" y=\"-1884.8\" font-family=\"Times,serif\" font-size=\"14.00\">0</text>\n</g>\n<!-- 252 -->\n<g id=\"node253\" class=\"node\">\n<title>252</title>\n<text text-anchor=\"middle\" x=\"2649.5\" y=\"-1851.8\" font-family=\"Times,serif\" font-size=\"14.00\">?</text>\n</g>\n<!-- 194&#45;&gt;252 -->\n<g id=\"edge252\" class=\"edge\">\n<title>194&#45;&gt;252</title>\n<path fill=\"none\" stroke=\"blue\" d=\"M2564.31,-1913.89C2581.83,-1902.09 2618.44,-1877.42 2637.46,-1864.61\"/>\n<polygon fill=\"blue\" stroke=\"blue\" points=\"2639.45,-1867.49 2645.79,-1859 2635.54,-1861.68 2639.45,-1867.49\"/>\n<text text-anchor=\"middle\" x=\"2615\" y=\"-1884.8\" font-family=\"Times,serif\" font-size=\"14.00\">1</text>\n</g>\n<!-- 196 -->\n<g id=\"node197\" class=\"node\">\n<title>196</title>\n<text text-anchor=\"middle\" x=\"2349.5\" y=\"-1785.8\" font-family=\"Times,serif\" font-size=\"14.00\">(44) str.substr(cgi_decode_s_str_1, 14, 1) == &quot;B&quot;</text>\n</g>\n<!-- 195&#45;&gt;196 -->\n<g id=\"edge196\" class=\"edge\">\n<title>195&#45;&gt;196</title>\n<path fill=\"none\" stroke=\"red\" d=\"M2476.84,-1847.89C2452.39,-1836.87 2403.07,-1814.65 2373.5,-1801.32\"/>\n<polygon fill=\"red\" stroke=\"red\" points=\"2374.85,-1798.09 2364.29,-1797.17 2371.97,-1804.47 2374.85,-1798.09\"/>\n<text text-anchor=\"middle\" x=\"2437\" y=\"-1818.8\" font-family=\"Times,serif\" font-size=\"14.00\">0</text>\n</g>\n<!-- 251 -->\n<g id=\"node252\" class=\"node\">\n<title>251</title>\n<text text-anchor=\"middle\" x=\"2507.5\" y=\"-1785.8\" font-family=\"Times,serif\" font-size=\"14.00\">?</text>\n</g>\n<!-- 195&#45;&gt;251 -->\n<g id=\"edge251\" class=\"edge\">\n<title>195&#45;&gt;251</title>\n<path fill=\"none\" stroke=\"blue\" d=\"M2493.21,-1847.65C2495.61,-1838.07 2500.03,-1820.38 2503.32,-1807.2\"/>\n<polygon fill=\"blue\" stroke=\"blue\" points=\"2506.82,-1807.66 2505.85,-1797.11 2500.03,-1805.96 2506.82,-1807.66\"/>\n<text text-anchor=\"middle\" x=\"2505\" y=\"-1818.8\" font-family=\"Times,serif\" font-size=\"14.00\">1</text>\n</g>\n<!-- 197 -->\n<g id=\"node198\" class=\"node\">\n<title>197</title>\n<text text-anchor=\"middle\" x=\"2317.5\" y=\"-1719.8\" font-family=\"Times,serif\" font-size=\"14.00\">(45) str.substr(cgi_decode_s_str_1, 14, 1) == &quot;C&quot;</text>\n</g>\n<!-- 196&#45;&gt;197 -->\n<g id=\"edge197\" class=\"edge\">\n<title>196&#45;&gt;197</title>\n<path fill=\"none\" stroke=\"red\" d=\"M2346.08,-1781.65C2341.19,-1771.88 2332.08,-1753.66 2325.46,-1740.41\"/>\n<polygon fill=\"red\" stroke=\"red\" points=\"2328.41,-1738.49 2320.8,-1731.11 2322.15,-1741.62 2328.41,-1738.49\"/>\n<text text-anchor=\"middle\" x=\"2340\" y=\"-1752.8\" font-family=\"Times,serif\" font-size=\"14.00\">0</text>\n</g>\n<!-- 250 -->\n<g id=\"node251\" class=\"node\">\n<title>250</title>\n<text text-anchor=\"middle\" x=\"2475.5\" y=\"-1719.8\" font-family=\"Times,serif\" font-size=\"14.00\">?</text>\n</g>\n<!-- 196&#45;&gt;250 -->\n<g id=\"edge250\" class=\"edge\">\n<title>196&#45;&gt;250</title>\n<path fill=\"none\" stroke=\"blue\" d=\"M2362.51,-1781.89C2386.83,-1769.54 2438.88,-1743.1 2462.89,-1730.91\"/>\n<polygon fill=\"blue\" stroke=\"blue\" points=\"2464.63,-1733.94 2471.97,-1726.3 2461.46,-1727.7 2464.63,-1733.94\"/>\n<text text-anchor=\"middle\" x=\"2428\" y=\"-1752.8\" font-family=\"Times,serif\" font-size=\"14.00\">1</text>\n</g>\n<!-- 198 -->\n<g id=\"node199\" class=\"node\">\n<title>198</title>\n<text text-anchor=\"middle\" x=\"2183.5\" y=\"-1653.8\" font-family=\"Times,serif\" font-size=\"14.00\">(46) str.substr(cgi_decode_s_str_1, 14, 1) == &quot;D&quot;</text>\n</g>\n<!-- 197&#45;&gt;198 -->\n<g id=\"edge198\" class=\"edge\">\n<title>197&#45;&gt;198</title>\n<path fill=\"none\" stroke=\"red\" d=\"M2303.66,-1715.89C2280.69,-1704.92 2234.46,-1682.84 2206.51,-1669.49\"/>\n<polygon fill=\"red\" stroke=\"red\" points=\"2207.99,-1666.32 2197.46,-1665.17 2204.98,-1672.64 2207.99,-1666.32\"/>\n<text text-anchor=\"middle\" x=\"2267\" y=\"-1686.8\" font-family=\"Times,serif\" font-size=\"14.00\">0</text>\n</g>\n<!-- 249 -->\n<g id=\"node250\" class=\"node\">\n<title>249</title>\n<text text-anchor=\"middle\" x=\"2341.5\" y=\"-1653.8\" font-family=\"Times,serif\" font-size=\"14.00\">?</text>\n</g>\n<!-- 197&#45;&gt;249 -->\n<g id=\"edge249\" class=\"edge\">\n<title>197&#45;&gt;249</title>\n<path fill=\"none\" stroke=\"blue\" d=\"M2320.07,-1715.65C2323.7,-1705.98 2330.43,-1688.02 2335.39,-1674.81\"/>\n<polygon fill=\"blue\" stroke=\"blue\" points=\"2338.79,-1675.7 2339.02,-1665.11 2332.23,-1673.24 2338.79,-1675.7\"/>\n<text text-anchor=\"middle\" x=\"2336\" y=\"-1686.8\" font-family=\"Times,serif\" font-size=\"14.00\">1</text>\n</g>\n<!-- 199 -->\n<g id=\"node200\" class=\"node\">\n<title>199</title>\n<text text-anchor=\"middle\" x=\"2073.5\" y=\"-1587.8\" font-family=\"Times,serif\" font-size=\"14.00\">(47) str.substr(cgi_decode_s_str_1, 14, 1) == &quot;E&quot;</text>\n</g>\n<!-- 198&#45;&gt;199 -->\n<g id=\"edge199\" class=\"edge\">\n<title>198&#45;&gt;199</title>\n<path fill=\"none\" stroke=\"red\" d=\"M2172.14,-1649.89C2153.62,-1639.11 2116.65,-1617.61 2093.61,-1604.2\"/>\n<polygon fill=\"red\" stroke=\"red\" points=\"2095.36,-1601.17 2084.96,-1599.17 2091.84,-1607.22 2095.36,-1601.17\"/>\n<text text-anchor=\"middle\" x=\"2142\" y=\"-1620.8\" font-family=\"Times,serif\" font-size=\"14.00\">0</text>\n</g>\n<!-- 248 -->\n<g id=\"node249\" class=\"node\">\n<title>248</title>\n<text text-anchor=\"middle\" x=\"2230.5\" y=\"-1587.8\" font-family=\"Times,serif\" font-size=\"14.00\">?</text>\n</g>\n<!-- 198&#45;&gt;248 -->\n<g id=\"edge248\" class=\"edge\">\n<title>198&#45;&gt;248</title>\n<path fill=\"none\" stroke=\"blue\" d=\"M2188.53,-1649.65C2196.23,-1639.17 2211.07,-1618.96 2220.88,-1605.6\"/>\n<polygon fill=\"blue\" stroke=\"blue\" points=\"2223.86,-1607.45 2226.96,-1597.32 2218.22,-1603.31 2223.86,-1607.45\"/>\n<text text-anchor=\"middle\" x=\"2215\" y=\"-1620.8\" font-family=\"Times,serif\" font-size=\"14.00\">1</text>\n</g>\n<!-- 200 -->\n<g id=\"node201\" class=\"node\">\n<title>200</title>\n<text text-anchor=\"middle\" x=\"1963.5\" y=\"-1521.8\" font-family=\"Times,serif\" font-size=\"14.00\">(48) str.substr(cgi_decode_s_str_1, 14, 1) == &quot;F&quot;</text>\n</g>\n<!-- 199&#45;&gt;200 -->\n<g id=\"edge200\" class=\"edge\">\n<title>199&#45;&gt;200</title>\n<path fill=\"none\" stroke=\"red\" d=\"M2062.14,-1583.89C2043.62,-1573.11 2006.65,-1551.61 1983.61,-1538.2\"/>\n<polygon fill=\"red\" stroke=\"red\" points=\"1985.36,-1535.17 1974.96,-1533.17 1981.84,-1541.22 1985.36,-1535.17\"/>\n<text text-anchor=\"middle\" x=\"2032\" y=\"-1554.8\" font-family=\"Times,serif\" font-size=\"14.00\">0</text>\n</g>\n<!-- 247 -->\n<g id=\"node248\" class=\"node\">\n<title>247</title>\n<text text-anchor=\"middle\" x=\"2120.5\" y=\"-1521.8\" font-family=\"Times,serif\" font-size=\"14.00\">?</text>\n</g>\n<!-- 199&#45;&gt;247 -->\n<g id=\"edge247\" class=\"edge\">\n<title>199&#45;&gt;247</title>\n<path fill=\"none\" stroke=\"blue\" d=\"M2078.53,-1583.65C2086.23,-1573.17 2101.07,-1552.96 2110.88,-1539.6\"/>\n<polygon fill=\"blue\" stroke=\"blue\" points=\"2113.86,-1541.45 2116.96,-1531.32 2108.22,-1537.31 2113.86,-1541.45\"/>\n<text text-anchor=\"middle\" x=\"2105\" y=\"-1554.8\" font-family=\"Times,serif\" font-size=\"14.00\">1</text>\n</g>\n<!-- 201 -->\n<g id=\"node202\" class=\"node\">\n<title>201</title>\n<text text-anchor=\"middle\" x=\"1884.5\" y=\"-1455.8\" font-family=\"Times,serif\" font-size=\"14.00\">(49) str.substr(cgi_decode_s_str_1, 15, 1) == &quot;0&quot;</text>\n</g>\n<!-- 200&#45;&gt;201 -->\n<g id=\"edge201\" class=\"edge\">\n<title>200&#45;&gt;201</title>\n<path fill=\"none\" stroke=\"red\" d=\"M1955.34,-1517.89C1942.45,-1507.45 1917.13,-1486.93 1900.51,-1473.47\"/>\n<polygon fill=\"red\" stroke=\"red\" points=\"1902.7,-1470.74 1892.73,-1467.17 1898.3,-1476.18 1902.7,-1470.74\"/>\n<text text-anchor=\"middle\" x=\"1935\" y=\"-1488.8\" font-family=\"Times,serif\" font-size=\"14.00\">0</text>\n</g>\n<!-- 246 -->\n<g id=\"node247\" class=\"node\">\n<title>246</title>\n<text text-anchor=\"middle\" x=\"2041.5\" y=\"-1455.8\" font-family=\"Times,serif\" font-size=\"14.00\">?</text>\n</g>\n<!-- 200&#45;&gt;246 -->\n<g id=\"edge246\" class=\"edge\">\n<title>200&#45;&gt;246</title>\n<path fill=\"none\" stroke=\"blue\" d=\"M1971.55,-1517.89C1985.48,-1506.47 2014.1,-1482.98 2030.08,-1469.87\"/>\n<polygon fill=\"blue\" stroke=\"blue\" points=\"2032.3,-1472.57 2037.81,-1463.52 2027.86,-1467.16 2032.3,-1472.57\"/>\n<text text-anchor=\"middle\" x=\"2013\" y=\"-1488.8\" font-family=\"Times,serif\" font-size=\"14.00\">1</text>\n</g>\n<!-- 202 -->\n<g id=\"node203\" class=\"node\">\n<title>202</title>\n<text text-anchor=\"middle\" x=\"1805.5\" y=\"-1389.8\" font-family=\"Times,serif\" font-size=\"14.00\">(50) str.substr(cgi_decode_s_str_1, 15, 1) == &quot;1&quot;</text>\n</g>\n<!-- 201&#45;&gt;202 -->\n<g id=\"edge202\" class=\"edge\">\n<title>201&#45;&gt;202</title>\n<path fill=\"none\" stroke=\"red\" d=\"M1876.34,-1451.89C1863.45,-1441.45 1838.13,-1420.93 1821.51,-1407.47\"/>\n<polygon fill=\"red\" stroke=\"red\" points=\"1823.7,-1404.74 1813.73,-1401.17 1819.3,-1410.18 1823.7,-1404.74\"/>\n<text text-anchor=\"middle\" x=\"1856\" y=\"-1422.8\" font-family=\"Times,serif\" font-size=\"14.00\">0</text>\n</g>\n<!-- 245 -->\n<g id=\"node246\" class=\"node\">\n<title>245</title>\n<text text-anchor=\"middle\" x=\"1962.5\" y=\"-1389.8\" font-family=\"Times,serif\" font-size=\"14.00\">?</text>\n</g>\n<!-- 201&#45;&gt;245 -->\n<g id=\"edge245\" class=\"edge\">\n<title>201&#45;&gt;245</title>\n<path fill=\"none\" stroke=\"blue\" d=\"M1892.55,-1451.89C1906.48,-1440.47 1935.1,-1416.98 1951.08,-1403.87\"/>\n<polygon fill=\"blue\" stroke=\"blue\" points=\"1953.3,-1406.57 1958.81,-1397.52 1948.86,-1401.16 1953.3,-1406.57\"/>\n<text text-anchor=\"middle\" x=\"1934\" y=\"-1422.8\" font-family=\"Times,serif\" font-size=\"14.00\">1</text>\n</g>\n<!-- 203 -->\n<g id=\"node204\" class=\"node\">\n<title>203</title>\n<text text-anchor=\"middle\" x=\"1695.5\" y=\"-1323.8\" font-family=\"Times,serif\" font-size=\"14.00\">(51) str.substr(cgi_decode_s_str_1, 15, 1) == &quot;2&quot;</text>\n</g>\n<!-- 202&#45;&gt;203 -->\n<g id=\"edge203\" class=\"edge\">\n<title>202&#45;&gt;203</title>\n<path fill=\"none\" stroke=\"red\" d=\"M1794.14,-1385.89C1775.62,-1375.11 1738.65,-1353.61 1715.61,-1340.2\"/>\n<polygon fill=\"red\" stroke=\"red\" points=\"1717.36,-1337.17 1706.96,-1335.17 1713.84,-1343.22 1717.36,-1337.17\"/>\n<text text-anchor=\"middle\" x=\"1764\" y=\"-1356.8\" font-family=\"Times,serif\" font-size=\"14.00\">0</text>\n</g>\n<!-- 244 -->\n<g id=\"node245\" class=\"node\">\n<title>244</title>\n<text text-anchor=\"middle\" x=\"1852.5\" y=\"-1323.8\" font-family=\"Times,serif\" font-size=\"14.00\">?</text>\n</g>\n<!-- 202&#45;&gt;244 -->\n<g id=\"edge244\" class=\"edge\">\n<title>202&#45;&gt;244</title>\n<path fill=\"none\" stroke=\"blue\" d=\"M1810.53,-1385.65C1818.23,-1375.17 1833.07,-1354.96 1842.88,-1341.6\"/>\n<polygon fill=\"blue\" stroke=\"blue\" points=\"1845.86,-1343.45 1848.96,-1333.32 1840.22,-1339.31 1845.86,-1343.45\"/>\n<text text-anchor=\"middle\" x=\"1837\" y=\"-1356.8\" font-family=\"Times,serif\" font-size=\"14.00\">1</text>\n</g>\n<!-- 204 -->\n<g id=\"node205\" class=\"node\">\n<title>204</title>\n<text text-anchor=\"middle\" x=\"1585.5\" y=\"-1257.8\" font-family=\"Times,serif\" font-size=\"14.00\">(52) str.substr(cgi_decode_s_str_1, 15, 1) == &quot;3&quot;</text>\n</g>\n<!-- 203&#45;&gt;204 -->\n<g id=\"edge204\" class=\"edge\">\n<title>203&#45;&gt;204</title>\n<path fill=\"none\" stroke=\"red\" d=\"M1684.14,-1319.89C1665.62,-1309.11 1628.65,-1287.61 1605.61,-1274.2\"/>\n<polygon fill=\"red\" stroke=\"red\" points=\"1607.36,-1271.17 1596.96,-1269.17 1603.84,-1277.22 1607.36,-1271.17\"/>\n<text text-anchor=\"middle\" x=\"1654\" y=\"-1290.8\" font-family=\"Times,serif\" font-size=\"14.00\">0</text>\n</g>\n<!-- 243 -->\n<g id=\"node244\" class=\"node\">\n<title>243</title>\n<text text-anchor=\"middle\" x=\"1742.5\" y=\"-1257.8\" font-family=\"Times,serif\" font-size=\"14.00\">?</text>\n</g>\n<!-- 203&#45;&gt;243 -->\n<g id=\"edge243\" class=\"edge\">\n<title>203&#45;&gt;243</title>\n<path fill=\"none\" stroke=\"blue\" d=\"M1700.53,-1319.65C1708.23,-1309.17 1723.07,-1288.96 1732.88,-1275.6\"/>\n<polygon fill=\"blue\" stroke=\"blue\" points=\"1735.86,-1277.45 1738.96,-1267.32 1730.22,-1273.31 1735.86,-1277.45\"/>\n<text text-anchor=\"middle\" x=\"1727\" y=\"-1290.8\" font-family=\"Times,serif\" font-size=\"14.00\">1</text>\n</g>\n<!-- 205 -->\n<g id=\"node206\" class=\"node\">\n<title>205</title>\n<text text-anchor=\"middle\" x=\"1506.5\" y=\"-1191.8\" font-family=\"Times,serif\" font-size=\"14.00\">(53) str.substr(cgi_decode_s_str_1, 15, 1) == &quot;4&quot;</text>\n</g>\n<!-- 204&#45;&gt;205 -->\n<g id=\"edge205\" class=\"edge\">\n<title>204&#45;&gt;205</title>\n<path fill=\"none\" stroke=\"red\" d=\"M1577.34,-1253.89C1564.45,-1243.45 1539.13,-1222.93 1522.51,-1209.47\"/>\n<polygon fill=\"red\" stroke=\"red\" points=\"1524.7,-1206.74 1514.73,-1203.17 1520.3,-1212.18 1524.7,-1206.74\"/>\n<text text-anchor=\"middle\" x=\"1557\" y=\"-1224.8\" font-family=\"Times,serif\" font-size=\"14.00\">0</text>\n</g>\n<!-- 242 -->\n<g id=\"node243\" class=\"node\">\n<title>242</title>\n<text text-anchor=\"middle\" x=\"1663.5\" y=\"-1191.8\" font-family=\"Times,serif\" font-size=\"14.00\">?</text>\n</g>\n<!-- 204&#45;&gt;242 -->\n<g id=\"edge242\" class=\"edge\">\n<title>204&#45;&gt;242</title>\n<path fill=\"none\" stroke=\"blue\" d=\"M1593.55,-1253.89C1607.48,-1242.47 1636.1,-1218.98 1652.08,-1205.87\"/>\n<polygon fill=\"blue\" stroke=\"blue\" points=\"1654.3,-1208.57 1659.81,-1199.52 1649.86,-1203.16 1654.3,-1208.57\"/>\n<text text-anchor=\"middle\" x=\"1635\" y=\"-1224.8\" font-family=\"Times,serif\" font-size=\"14.00\">1</text>\n</g>\n<!-- 206 -->\n<g id=\"node207\" class=\"node\">\n<title>206</title>\n<text text-anchor=\"middle\" x=\"1427.5\" y=\"-1125.8\" font-family=\"Times,serif\" font-size=\"14.00\">(54) str.substr(cgi_decode_s_str_1, 15, 1) == &quot;5&quot;</text>\n</g>\n<!-- 205&#45;&gt;206 -->\n<g id=\"edge206\" class=\"edge\">\n<title>205&#45;&gt;206</title>\n<path fill=\"none\" stroke=\"red\" d=\"M1498.34,-1187.89C1485.45,-1177.45 1460.13,-1156.93 1443.51,-1143.47\"/>\n<polygon fill=\"red\" stroke=\"red\" points=\"1445.7,-1140.74 1435.73,-1137.17 1441.3,-1146.18 1445.7,-1140.74\"/>\n<text text-anchor=\"middle\" x=\"1478\" y=\"-1158.8\" font-family=\"Times,serif\" font-size=\"14.00\">0</text>\n</g>\n<!-- 241 -->\n<g id=\"node242\" class=\"node\">\n<title>241</title>\n<text text-anchor=\"middle\" x=\"1584.5\" y=\"-1125.8\" font-family=\"Times,serif\" font-size=\"14.00\">?</text>\n</g>\n<!-- 205&#45;&gt;241 -->\n<g id=\"edge241\" class=\"edge\">\n<title>205&#45;&gt;241</title>\n<path fill=\"none\" stroke=\"blue\" d=\"M1514.55,-1187.89C1528.48,-1176.47 1557.1,-1152.98 1573.08,-1139.87\"/>\n<polygon fill=\"blue\" stroke=\"blue\" points=\"1575.3,-1142.57 1580.81,-1133.52 1570.86,-1137.16 1575.3,-1142.57\"/>\n<text text-anchor=\"middle\" x=\"1556\" y=\"-1158.8\" font-family=\"Times,serif\" font-size=\"14.00\">1</text>\n</g>\n<!-- 207 -->\n<g id=\"node208\" class=\"node\">\n<title>207</title>\n<text text-anchor=\"middle\" x=\"1348.5\" y=\"-1059.8\" font-family=\"Times,serif\" font-size=\"14.00\">(55) str.substr(cgi_decode_s_str_1, 15, 1) == &quot;6&quot;</text>\n</g>\n<!-- 206&#45;&gt;207 -->\n<g id=\"edge207\" class=\"edge\">\n<title>206&#45;&gt;207</title>\n<path fill=\"none\" stroke=\"red\" d=\"M1419.34,-1121.89C1406.45,-1111.45 1381.13,-1090.93 1364.51,-1077.47\"/>\n<polygon fill=\"red\" stroke=\"red\" points=\"1366.7,-1074.74 1356.73,-1071.17 1362.3,-1080.18 1366.7,-1074.74\"/>\n<text text-anchor=\"middle\" x=\"1399\" y=\"-1092.8\" font-family=\"Times,serif\" font-size=\"14.00\">0</text>\n</g>\n<!-- 240 -->\n<g id=\"node241\" class=\"node\">\n<title>240</title>\n<text text-anchor=\"middle\" x=\"1505.5\" y=\"-1059.8\" font-family=\"Times,serif\" font-size=\"14.00\">?</text>\n</g>\n<!-- 206&#45;&gt;240 -->\n<g id=\"edge240\" class=\"edge\">\n<title>206&#45;&gt;240</title>\n<path fill=\"none\" stroke=\"blue\" d=\"M1435.55,-1121.89C1449.48,-1110.47 1478.1,-1086.98 1494.08,-1073.87\"/>\n<polygon fill=\"blue\" stroke=\"blue\" points=\"1496.3,-1076.57 1501.81,-1067.52 1491.86,-1071.16 1496.3,-1076.57\"/>\n<text text-anchor=\"middle\" x=\"1477\" y=\"-1092.8\" font-family=\"Times,serif\" font-size=\"14.00\">1</text>\n</g>\n<!-- 208 -->\n<g id=\"node209\" class=\"node\">\n<title>208</title>\n<text text-anchor=\"middle\" x=\"1269.5\" y=\"-993.8\" font-family=\"Times,serif\" font-size=\"14.00\">(56) str.substr(cgi_decode_s_str_1, 15, 1) == &quot;7&quot;</text>\n</g>\n<!-- 207&#45;&gt;208 -->\n<g id=\"edge208\" class=\"edge\">\n<title>207&#45;&gt;208</title>\n<path fill=\"none\" stroke=\"red\" d=\"M1340.34,-1055.89C1327.45,-1045.45 1302.13,-1024.93 1285.51,-1011.47\"/>\n<polygon fill=\"red\" stroke=\"red\" points=\"1287.7,-1008.74 1277.73,-1005.17 1283.3,-1014.18 1287.7,-1008.74\"/>\n<text text-anchor=\"middle\" x=\"1320\" y=\"-1026.8\" font-family=\"Times,serif\" font-size=\"14.00\">0</text>\n</g>\n<!-- 239 -->\n<g id=\"node240\" class=\"node\">\n<title>239</title>\n<text text-anchor=\"middle\" x=\"1426.5\" y=\"-993.8\" font-family=\"Times,serif\" font-size=\"14.00\">?</text>\n</g>\n<!-- 207&#45;&gt;239 -->\n<g id=\"edge239\" class=\"edge\">\n<title>207&#45;&gt;239</title>\n<path fill=\"none\" stroke=\"blue\" d=\"M1356.55,-1055.89C1370.48,-1044.47 1399.1,-1020.98 1415.08,-1007.87\"/>\n<polygon fill=\"blue\" stroke=\"blue\" points=\"1417.3,-1010.57 1422.81,-1001.52 1412.86,-1005.16 1417.3,-1010.57\"/>\n<text text-anchor=\"middle\" x=\"1398\" y=\"-1026.8\" font-family=\"Times,serif\" font-size=\"14.00\">1</text>\n</g>\n<!-- 209 -->\n<g id=\"node210\" class=\"node\">\n<title>209</title>\n<text text-anchor=\"middle\" x=\"1190.5\" y=\"-927.8\" font-family=\"Times,serif\" font-size=\"14.00\">(57) str.substr(cgi_decode_s_str_1, 15, 1) == &quot;8&quot;</text>\n</g>\n<!-- 208&#45;&gt;209 -->\n<g id=\"edge209\" class=\"edge\">\n<title>208&#45;&gt;209</title>\n<path fill=\"none\" stroke=\"red\" d=\"M1261.34,-989.89C1248.45,-979.45 1223.13,-958.93 1206.51,-945.47\"/>\n<polygon fill=\"red\" stroke=\"red\" points=\"1208.7,-942.74 1198.73,-939.17 1204.3,-948.18 1208.7,-942.74\"/>\n<text text-anchor=\"middle\" x=\"1241\" y=\"-960.8\" font-family=\"Times,serif\" font-size=\"14.00\">0</text>\n</g>\n<!-- 238 -->\n<g id=\"node239\" class=\"node\">\n<title>238</title>\n<text text-anchor=\"middle\" x=\"1347.5\" y=\"-927.8\" font-family=\"Times,serif\" font-size=\"14.00\">?</text>\n</g>\n<!-- 208&#45;&gt;238 -->\n<g id=\"edge238\" class=\"edge\">\n<title>208&#45;&gt;238</title>\n<path fill=\"none\" stroke=\"blue\" d=\"M1277.55,-989.89C1291.48,-978.47 1320.1,-954.98 1336.08,-941.87\"/>\n<polygon fill=\"blue\" stroke=\"blue\" points=\"1338.3,-944.57 1343.81,-935.52 1333.86,-939.16 1338.3,-944.57\"/>\n<text text-anchor=\"middle\" x=\"1319\" y=\"-960.8\" font-family=\"Times,serif\" font-size=\"14.00\">1</text>\n</g>\n<!-- 210 -->\n<g id=\"node211\" class=\"node\">\n<title>210</title>\n<text text-anchor=\"middle\" x=\"1111.5\" y=\"-861.8\" font-family=\"Times,serif\" font-size=\"14.00\">(58) str.substr(cgi_decode_s_str_1, 15, 1) == &quot;9&quot;</text>\n</g>\n<!-- 209&#45;&gt;210 -->\n<g id=\"edge210\" class=\"edge\">\n<title>209&#45;&gt;210</title>\n<path fill=\"none\" stroke=\"red\" d=\"M1182.34,-923.89C1169.45,-913.45 1144.13,-892.93 1127.51,-879.47\"/>\n<polygon fill=\"red\" stroke=\"red\" points=\"1129.7,-876.74 1119.73,-873.17 1125.3,-882.18 1129.7,-876.74\"/>\n<text text-anchor=\"middle\" x=\"1162\" y=\"-894.8\" font-family=\"Times,serif\" font-size=\"14.00\">0</text>\n</g>\n<!-- 237 -->\n<g id=\"node238\" class=\"node\">\n<title>237</title>\n<text text-anchor=\"middle\" x=\"1268.5\" y=\"-861.8\" font-family=\"Times,serif\" font-size=\"14.00\">?</text>\n</g>\n<!-- 209&#45;&gt;237 -->\n<g id=\"edge237\" class=\"edge\">\n<title>209&#45;&gt;237</title>\n<path fill=\"none\" stroke=\"blue\" d=\"M1198.55,-923.89C1212.48,-912.47 1241.1,-888.98 1257.08,-875.87\"/>\n<polygon fill=\"blue\" stroke=\"blue\" points=\"1259.3,-878.57 1264.81,-869.52 1254.86,-873.16 1259.3,-878.57\"/>\n<text text-anchor=\"middle\" x=\"1240\" y=\"-894.8\" font-family=\"Times,serif\" font-size=\"14.00\">1</text>\n</g>\n<!-- 211 -->\n<g id=\"node212\" class=\"node\">\n<title>211</title>\n<text text-anchor=\"middle\" x=\"1033.5\" y=\"-795.8\" font-family=\"Times,serif\" font-size=\"14.00\">(59) str.substr(cgi_decode_s_str_1, 15, 1) == &quot;a&quot;</text>\n</g>\n<!-- 210&#45;&gt;211 -->\n<g id=\"edge211\" class=\"edge\">\n<title>210&#45;&gt;211</title>\n<path fill=\"none\" stroke=\"red\" d=\"M1103.45,-857.89C1090.84,-847.54 1066.17,-827.31 1049.77,-813.85\"/>\n<polygon fill=\"red\" stroke=\"red\" points=\"1051.58,-810.81 1041.63,-807.17 1047.14,-816.22 1051.58,-810.81\"/>\n<text text-anchor=\"middle\" x=\"1083\" y=\"-828.8\" font-family=\"Times,serif\" font-size=\"14.00\">0</text>\n</g>\n<!-- 236 -->\n<g id=\"node237\" class=\"node\">\n<title>236</title>\n<text text-anchor=\"middle\" x=\"1189.5\" y=\"-795.8\" font-family=\"Times,serif\" font-size=\"14.00\">?</text>\n</g>\n<!-- 210&#45;&gt;236 -->\n<g id=\"edge236\" class=\"edge\">\n<title>210&#45;&gt;236</title>\n<path fill=\"none\" stroke=\"blue\" d=\"M1119.55,-857.89C1133.48,-846.47 1162.1,-822.98 1178.08,-809.87\"/>\n<polygon fill=\"blue\" stroke=\"blue\" points=\"1180.3,-812.57 1185.81,-803.52 1175.86,-807.16 1180.3,-812.57\"/>\n<text text-anchor=\"middle\" x=\"1161\" y=\"-828.8\" font-family=\"Times,serif\" font-size=\"14.00\">1</text>\n</g>\n<!-- 212 -->\n<g id=\"node213\" class=\"node\">\n<title>212</title>\n<text text-anchor=\"middle\" x=\"954.5\" y=\"-729.8\" font-family=\"Times,serif\" font-size=\"14.00\">(60) str.substr(cgi_decode_s_str_1, 15, 1) == &quot;b&quot;</text>\n</g>\n<!-- 211&#45;&gt;212 -->\n<g id=\"edge212\" class=\"edge\">\n<title>211&#45;&gt;212</title>\n<path fill=\"none\" stroke=\"red\" d=\"M1025.34,-791.89C1012.45,-781.45 987.13,-760.93 970.51,-747.47\"/>\n<polygon fill=\"red\" stroke=\"red\" points=\"972.7,-744.74 962.73,-741.17 968.3,-750.18 972.7,-744.74\"/>\n<text text-anchor=\"middle\" x=\"1005\" y=\"-762.8\" font-family=\"Times,serif\" font-size=\"14.00\">0</text>\n</g>\n<!-- 235 -->\n<g id=\"node236\" class=\"node\">\n<title>235</title>\n<text text-anchor=\"middle\" x=\"1111.5\" y=\"-729.8\" font-family=\"Times,serif\" font-size=\"14.00\">?</text>\n</g>\n<!-- 211&#45;&gt;235 -->\n<g id=\"edge235\" class=\"edge\">\n<title>211&#45;&gt;235</title>\n<path fill=\"none\" stroke=\"blue\" d=\"M1041.55,-791.89C1055.48,-780.47 1084.1,-756.98 1100.08,-743.87\"/>\n<polygon fill=\"blue\" stroke=\"blue\" points=\"1102.3,-746.57 1107.81,-737.52 1097.86,-741.16 1102.3,-746.57\"/>\n<text text-anchor=\"middle\" x=\"1083\" y=\"-762.8\" font-family=\"Times,serif\" font-size=\"14.00\">1</text>\n</g>\n<!-- 213 -->\n<g id=\"node214\" class=\"node\">\n<title>213</title>\n<text text-anchor=\"middle\" x=\"876.5\" y=\"-663.8\" font-family=\"Times,serif\" font-size=\"14.00\">(61) str.substr(cgi_decode_s_str_1, 15, 1) == &quot;c&quot;</text>\n</g>\n<!-- 212&#45;&gt;213 -->\n<g id=\"edge213\" class=\"edge\">\n<title>212&#45;&gt;213</title>\n<path fill=\"none\" stroke=\"red\" d=\"M946.45,-725.89C933.84,-715.54 909.17,-695.31 892.77,-681.85\"/>\n<polygon fill=\"red\" stroke=\"red\" points=\"894.58,-678.81 884.63,-675.17 890.14,-684.22 894.58,-678.81\"/>\n<text text-anchor=\"middle\" x=\"926\" y=\"-696.8\" font-family=\"Times,serif\" font-size=\"14.00\">0</text>\n</g>\n<!-- 234 -->\n<g id=\"node235\" class=\"node\">\n<title>234</title>\n<text text-anchor=\"middle\" x=\"1032.5\" y=\"-663.8\" font-family=\"Times,serif\" font-size=\"14.00\">?</text>\n</g>\n<!-- 212&#45;&gt;234 -->\n<g id=\"edge234\" class=\"edge\">\n<title>212&#45;&gt;234</title>\n<path fill=\"none\" stroke=\"blue\" d=\"M962.55,-725.89C976.48,-714.47 1005.1,-690.98 1021.08,-677.87\"/>\n<polygon fill=\"blue\" stroke=\"blue\" points=\"1023.3,-680.57 1028.81,-671.52 1018.86,-675.16 1023.3,-680.57\"/>\n<text text-anchor=\"middle\" x=\"1004\" y=\"-696.8\" font-family=\"Times,serif\" font-size=\"14.00\">1</text>\n</g>\n<!-- 214 -->\n<g id=\"node215\" class=\"node\">\n<title>214</title>\n<text text-anchor=\"middle\" x=\"797.5\" y=\"-597.8\" font-family=\"Times,serif\" font-size=\"14.00\">(62) str.substr(cgi_decode_s_str_1, 15, 1) == &quot;d&quot;</text>\n</g>\n<!-- 213&#45;&gt;214 -->\n<g id=\"edge214\" class=\"edge\">\n<title>213&#45;&gt;214</title>\n<path fill=\"none\" stroke=\"red\" d=\"M868.34,-659.89C855.45,-649.45 830.13,-628.93 813.51,-615.47\"/>\n<polygon fill=\"red\" stroke=\"red\" points=\"815.7,-612.74 805.73,-609.17 811.3,-618.18 815.7,-612.74\"/>\n<text text-anchor=\"middle\" x=\"848\" y=\"-630.8\" font-family=\"Times,serif\" font-size=\"14.00\">0</text>\n</g>\n<!-- 233 -->\n<g id=\"node234\" class=\"node\">\n<title>233</title>\n<text text-anchor=\"middle\" x=\"954.5\" y=\"-597.8\" font-family=\"Times,serif\" font-size=\"14.00\">?</text>\n</g>\n<!-- 213&#45;&gt;233 -->\n<g id=\"edge233\" class=\"edge\">\n<title>213&#45;&gt;233</title>\n<path fill=\"none\" stroke=\"blue\" d=\"M884.55,-659.89C898.48,-648.47 927.1,-624.98 943.08,-611.87\"/>\n<polygon fill=\"blue\" stroke=\"blue\" points=\"945.3,-614.57 950.81,-605.52 940.86,-609.16 945.3,-614.57\"/>\n<text text-anchor=\"middle\" x=\"926\" y=\"-630.8\" font-family=\"Times,serif\" font-size=\"14.00\">1</text>\n</g>\n<!-- 215 -->\n<g id=\"node216\" class=\"node\">\n<title>215</title>\n<text text-anchor=\"middle\" x=\"719.5\" y=\"-531.8\" font-family=\"Times,serif\" font-size=\"14.00\">(63) str.substr(cgi_decode_s_str_1, 15, 1) == &quot;e&quot;</text>\n</g>\n<!-- 214&#45;&gt;215 -->\n<g id=\"edge215\" class=\"edge\">\n<title>214&#45;&gt;215</title>\n<path fill=\"none\" stroke=\"red\" d=\"M789.45,-593.89C776.84,-583.54 752.17,-563.31 735.77,-549.85\"/>\n<polygon fill=\"red\" stroke=\"red\" points=\"737.58,-546.81 727.63,-543.17 733.14,-552.22 737.58,-546.81\"/>\n<text text-anchor=\"middle\" x=\"769\" y=\"-564.8\" font-family=\"Times,serif\" font-size=\"14.00\">0</text>\n</g>\n<!-- 232 -->\n<g id=\"node233\" class=\"node\">\n<title>232</title>\n<text text-anchor=\"middle\" x=\"875.5\" y=\"-531.8\" font-family=\"Times,serif\" font-size=\"14.00\">?</text>\n</g>\n<!-- 214&#45;&gt;232 -->\n<g id=\"edge232\" class=\"edge\">\n<title>214&#45;&gt;232</title>\n<path fill=\"none\" stroke=\"blue\" d=\"M805.55,-593.89C819.48,-582.47 848.1,-558.98 864.08,-545.87\"/>\n<polygon fill=\"blue\" stroke=\"blue\" points=\"866.3,-548.57 871.81,-539.52 861.86,-543.16 866.3,-548.57\"/>\n<text text-anchor=\"middle\" x=\"847\" y=\"-564.8\" font-family=\"Times,serif\" font-size=\"14.00\">1</text>\n</g>\n<!-- 216 -->\n<g id=\"node217\" class=\"node\">\n<title>216</title>\n<text text-anchor=\"middle\" x=\"641.5\" y=\"-465.8\" font-family=\"Times,serif\" font-size=\"14.00\">(64) str.substr(cgi_decode_s_str_1, 15, 1) == &quot;f&quot;</text>\n</g>\n<!-- 215&#45;&gt;216 -->\n<g id=\"edge216\" class=\"edge\">\n<title>215&#45;&gt;216</title>\n<path fill=\"none\" stroke=\"red\" d=\"M711.45,-527.89C698.84,-517.54 674.17,-497.31 657.77,-483.85\"/>\n<polygon fill=\"red\" stroke=\"red\" points=\"659.58,-480.81 649.63,-477.17 655.14,-486.22 659.58,-480.81\"/>\n<text text-anchor=\"middle\" x=\"691\" y=\"-498.8\" font-family=\"Times,serif\" font-size=\"14.00\">0</text>\n</g>\n<!-- 231 -->\n<g id=\"node232\" class=\"node\">\n<title>231</title>\n<text text-anchor=\"middle\" x=\"797.5\" y=\"-465.8\" font-family=\"Times,serif\" font-size=\"14.00\">?</text>\n</g>\n<!-- 215&#45;&gt;231 -->\n<g id=\"edge231\" class=\"edge\">\n<title>215&#45;&gt;231</title>\n<path fill=\"none\" stroke=\"blue\" d=\"M727.55,-527.89C741.48,-516.47 770.1,-492.98 786.08,-479.87\"/>\n<polygon fill=\"blue\" stroke=\"blue\" points=\"788.3,-482.57 793.81,-473.52 783.86,-477.16 788.3,-482.57\"/>\n<text text-anchor=\"middle\" x=\"769\" y=\"-498.8\" font-family=\"Times,serif\" font-size=\"14.00\">1</text>\n</g>\n<!-- 217 -->\n<g id=\"node218\" class=\"node\">\n<title>217</title>\n<text text-anchor=\"middle\" x=\"530.5\" y=\"-399.8\" font-family=\"Times,serif\" font-size=\"14.00\">(65) str.substr(cgi_decode_s_str_1, 15, 1) == &quot;A&quot;</text>\n</g>\n<!-- 216&#45;&gt;217 -->\n<g id=\"edge217\" class=\"edge\">\n<title>216&#45;&gt;217</title>\n<path fill=\"none\" stroke=\"red\" d=\"M630.04,-461.89C611.34,-451.11 574.04,-429.61 550.79,-416.2\"/>\n<polygon fill=\"red\" stroke=\"red\" points=\"552.48,-413.13 542.06,-411.17 548.98,-419.2 552.48,-413.13\"/>\n<text text-anchor=\"middle\" x=\"600\" y=\"-432.8\" font-family=\"Times,serif\" font-size=\"14.00\">0</text>\n</g>\n<!-- 230 -->\n<g id=\"node231\" class=\"node\">\n<title>230</title>\n<text text-anchor=\"middle\" x=\"688.5\" y=\"-399.8\" font-family=\"Times,serif\" font-size=\"14.00\">?</text>\n</g>\n<!-- 216&#45;&gt;230 -->\n<g id=\"edge230\" class=\"edge\">\n<title>216&#45;&gt;230</title>\n<path fill=\"none\" stroke=\"blue\" d=\"M646.53,-461.65C654.23,-451.17 669.07,-430.96 678.88,-417.6\"/>\n<polygon fill=\"blue\" stroke=\"blue\" points=\"681.86,-419.45 684.96,-409.32 676.22,-415.31 681.86,-419.45\"/>\n<text text-anchor=\"middle\" x=\"673\" y=\"-432.8\" font-family=\"Times,serif\" font-size=\"14.00\">1</text>\n</g>\n<!-- 218 -->\n<g id=\"node219\" class=\"node\">\n<title>218</title>\n<text text-anchor=\"middle\" x=\"451.5\" y=\"-333.8\" font-family=\"Times,serif\" font-size=\"14.00\">(66) str.substr(cgi_decode_s_str_1, 15, 1) == &quot;B&quot;</text>\n</g>\n<!-- 217&#45;&gt;218 -->\n<g id=\"edge218\" class=\"edge\">\n<title>217&#45;&gt;218</title>\n<path fill=\"none\" stroke=\"red\" d=\"M522.34,-395.89C509.45,-385.45 484.13,-364.93 467.51,-351.47\"/>\n<polygon fill=\"red\" stroke=\"red\" points=\"469.7,-348.74 459.73,-345.17 465.3,-354.18 469.7,-348.74\"/>\n<text text-anchor=\"middle\" x=\"502\" y=\"-366.8\" font-family=\"Times,serif\" font-size=\"14.00\">0</text>\n</g>\n<!-- 229 -->\n<g id=\"node230\" class=\"node\">\n<title>229</title>\n<text text-anchor=\"middle\" x=\"609.5\" y=\"-333.8\" font-family=\"Times,serif\" font-size=\"14.00\">?</text>\n</g>\n<!-- 217&#45;&gt;229 -->\n<g id=\"edge229\" class=\"edge\">\n<title>217&#45;&gt;229</title>\n<path fill=\"none\" stroke=\"blue\" d=\"M538.66,-395.89C552.76,-384.47 581.75,-360.98 597.93,-347.87\"/>\n<polygon fill=\"blue\" stroke=\"blue\" points=\"600.2,-350.54 605.77,-341.52 595.79,-345.1 600.2,-350.54\"/>\n<text text-anchor=\"middle\" x=\"581\" y=\"-366.8\" font-family=\"Times,serif\" font-size=\"14.00\">1</text>\n</g>\n<!-- 219 -->\n<g id=\"node220\" class=\"node\">\n<title>219</title>\n<text text-anchor=\"middle\" x=\"372.5\" y=\"-267.8\" font-family=\"Times,serif\" font-size=\"14.00\">(67) str.substr(cgi_decode_s_str_1, 15, 1) == &quot;C&quot;</text>\n</g>\n<!-- 218&#45;&gt;219 -->\n<g id=\"edge219\" class=\"edge\">\n<title>218&#45;&gt;219</title>\n<path fill=\"none\" stroke=\"red\" d=\"M443.34,-329.89C430.45,-319.45 405.13,-298.93 388.51,-285.47\"/>\n<polygon fill=\"red\" stroke=\"red\" points=\"390.7,-282.74 380.73,-279.17 386.3,-288.18 390.7,-282.74\"/>\n<text text-anchor=\"middle\" x=\"423\" y=\"-300.8\" font-family=\"Times,serif\" font-size=\"14.00\">0</text>\n</g>\n<!-- 228 -->\n<g id=\"node229\" class=\"node\">\n<title>228</title>\n<text text-anchor=\"middle\" x=\"530.5\" y=\"-267.8\" font-family=\"Times,serif\" font-size=\"14.00\">?</text>\n</g>\n<!-- 218&#45;&gt;228 -->\n<g id=\"edge228\" class=\"edge\">\n<title>218&#45;&gt;228</title>\n<path fill=\"none\" stroke=\"blue\" d=\"M459.66,-329.89C473.76,-318.47 502.75,-294.98 518.93,-281.87\"/>\n<polygon fill=\"blue\" stroke=\"blue\" points=\"521.2,-284.54 526.77,-275.52 516.79,-279.1 521.2,-284.54\"/>\n<text text-anchor=\"middle\" x=\"502\" y=\"-300.8\" font-family=\"Times,serif\" font-size=\"14.00\">1</text>\n</g>\n<!-- 220 -->\n<g id=\"node221\" class=\"node\">\n<title>220</title>\n<text text-anchor=\"middle\" x=\"293.5\" y=\"-201.8\" font-family=\"Times,serif\" font-size=\"14.00\">(68) str.substr(cgi_decode_s_str_1, 15, 1) == &quot;D&quot;</text>\n</g>\n<!-- 219&#45;&gt;220 -->\n<g id=\"edge220\" class=\"edge\">\n<title>219&#45;&gt;220</title>\n<path fill=\"none\" stroke=\"red\" d=\"M364.34,-263.89C351.45,-253.45 326.13,-232.93 309.51,-219.47\"/>\n<polygon fill=\"red\" stroke=\"red\" points=\"311.7,-216.74 301.73,-213.17 307.3,-222.18 311.7,-216.74\"/>\n<text text-anchor=\"middle\" x=\"344\" y=\"-234.8\" font-family=\"Times,serif\" font-size=\"14.00\">0</text>\n</g>\n<!-- 227 -->\n<g id=\"node228\" class=\"node\">\n<title>227</title>\n<text text-anchor=\"middle\" x=\"451.5\" y=\"-201.8\" font-family=\"Times,serif\" font-size=\"14.00\">?</text>\n</g>\n<!-- 219&#45;&gt;227 -->\n<g id=\"edge227\" class=\"edge\">\n<title>219&#45;&gt;227</title>\n<path fill=\"none\" stroke=\"blue\" d=\"M380.66,-263.89C394.76,-252.47 423.75,-228.98 439.93,-215.87\"/>\n<polygon fill=\"blue\" stroke=\"blue\" points=\"442.2,-218.54 447.77,-209.52 437.79,-213.1 442.2,-218.54\"/>\n<text text-anchor=\"middle\" x=\"423\" y=\"-234.8\" font-family=\"Times,serif\" font-size=\"14.00\">1</text>\n</g>\n<!-- 221 -->\n<g id=\"node222\" class=\"node\">\n<title>221</title>\n<text text-anchor=\"middle\" x=\"214.5\" y=\"-135.8\" font-family=\"Times,serif\" font-size=\"14.00\">(69) str.substr(cgi_decode_s_str_1, 15, 1) == &quot;E&quot;</text>\n</g>\n<!-- 220&#45;&gt;221 -->\n<g id=\"edge221\" class=\"edge\">\n<title>220&#45;&gt;221</title>\n<path fill=\"none\" stroke=\"red\" d=\"M285.34,-197.89C272.45,-187.45 247.13,-166.93 230.51,-153.47\"/>\n<polygon fill=\"red\" stroke=\"red\" points=\"232.7,-150.74 222.73,-147.17 228.3,-156.18 232.7,-150.74\"/>\n<text text-anchor=\"middle\" x=\"265\" y=\"-168.8\" font-family=\"Times,serif\" font-size=\"14.00\">0</text>\n</g>\n<!-- 226 -->\n<g id=\"node227\" class=\"node\">\n<title>226</title>\n<text text-anchor=\"middle\" x=\"371.5\" y=\"-135.8\" font-family=\"Times,serif\" font-size=\"14.00\">?</text>\n</g>\n<!-- 220&#45;&gt;226 -->\n<g id=\"edge226\" class=\"edge\">\n<title>220&#45;&gt;226</title>\n<path fill=\"none\" stroke=\"blue\" d=\"M301.55,-197.89C315.48,-186.47 344.1,-162.98 360.08,-149.87\"/>\n<polygon fill=\"blue\" stroke=\"blue\" points=\"362.3,-152.57 367.81,-143.52 357.86,-147.16 362.3,-152.57\"/>\n<text text-anchor=\"middle\" x=\"343\" y=\"-168.8\" font-family=\"Times,serif\" font-size=\"14.00\">1</text>\n</g>\n<!-- 222 -->\n<g id=\"node223\" class=\"node\">\n<title>222</title>\n<text text-anchor=\"middle\" x=\"135.5\" y=\"-69.8\" font-family=\"Times,serif\" font-size=\"14.00\">(70) str.substr(cgi_decode_s_str_1, 15, 1) == &quot;F&quot;</text>\n</g>\n<!-- 221&#45;&gt;222 -->\n<g id=\"edge222\" class=\"edge\">\n<title>221&#45;&gt;222</title>\n<path fill=\"none\" stroke=\"red\" d=\"M206.34,-131.89C193.45,-121.45 168.13,-100.93 151.51,-87.47\"/>\n<polygon fill=\"red\" stroke=\"red\" points=\"153.7,-84.74 143.73,-81.17 149.3,-90.18 153.7,-84.74\"/>\n<text text-anchor=\"middle\" x=\"186\" y=\"-102.8\" font-family=\"Times,serif\" font-size=\"14.00\">0</text>\n</g>\n<!-- 225 -->\n<g id=\"node226\" class=\"node\">\n<title>225</title>\n<text text-anchor=\"middle\" x=\"292.5\" y=\"-69.8\" font-family=\"Times,serif\" font-size=\"14.00\">?</text>\n</g>\n<!-- 221&#45;&gt;225 -->\n<g id=\"edge225\" class=\"edge\">\n<title>221&#45;&gt;225</title>\n<path fill=\"none\" stroke=\"blue\" d=\"M222.55,-131.89C236.48,-120.47 265.1,-96.98 281.08,-83.87\"/>\n<polygon fill=\"blue\" stroke=\"blue\" points=\"283.3,-86.57 288.81,-77.52 278.86,-81.16 283.3,-86.57\"/>\n<text text-anchor=\"middle\" x=\"264\" y=\"-102.8\" font-family=\"Times,serif\" font-size=\"14.00\">1</text>\n</g>\n<!-- 223 -->\n<g id=\"node224\" class=\"node\">\n<title>223</title>\n<text text-anchor=\"middle\" x=\"93.5\" y=\"-3.8\" font-family=\"Times,serif\" font-size=\"14.00\">* +\\x00\\x00\\x00%\\x00</text>\n</g>\n<!-- 222&#45;&gt;223 -->\n<g id=\"edge223\" class=\"edge\">\n<title>222&#45;&gt;223</title>\n<path fill=\"none\" stroke=\"red\" d=\"M131.01,-65.65C124.47,-55.69 112.16,-36.93 103.43,-23.63\"/>\n<polygon fill=\"red\" stroke=\"red\" points=\"106.25,-21.55 97.84,-15.11 100.4,-25.39 106.25,-21.55\"/>\n<text text-anchor=\"middle\" x=\"122\" y=\"-36.8\" font-family=\"Times,serif\" font-size=\"14.00\">0</text>\n</g>\n<!-- 224 -->\n<g id=\"node225\" class=\"node\">\n<title>224</title>\n<text text-anchor=\"middle\" x=\"178.5\" y=\"-3.8\" font-family=\"Times,serif\" font-size=\"14.00\">?</text>\n</g>\n<!-- 222&#45;&gt;224 -->\n<g id=\"edge224\" class=\"edge\">\n<title>222&#45;&gt;224</title>\n<path fill=\"none\" stroke=\"blue\" d=\"M140.1,-65.65C147.01,-55.38 160.19,-35.75 169.16,-22.4\"/>\n<polygon fill=\"blue\" stroke=\"blue\" points=\"172.13,-24.26 174.8,-14.01 166.32,-20.35 172.13,-24.26\"/>\n<text text-anchor=\"middle\" x=\"165\" y=\"-36.8\" font-family=\"Times,serif\" font-size=\"14.00\">1</text>\n</g>\n</g>\n</svg>\n",
      "text/plain": [
       "<graphviz.graphs.Digraph at 0x167c6ca60>"
      ]
     },
     "execution_count": 281,
     "metadata": {},
     "output_type": "execute_result"
    }
   ],
   "source": [
    "display_trace_tree(scf.ct.root)"
   ]
  },
  {
   "cell_type": "markdown",
   "metadata": {
    "slideshow": {
     "slide_type": "subslide"
    }
   },
   "source": [
    "**Note.** Our concolic tracer is limited in that it does not track changes in the string length. This leads it to treat every string with same prefix as the same string."
   ]
  },
  {
   "cell_type": "markdown",
   "metadata": {
    "slideshow": {
     "slide_type": "fragment"
    }
   },
   "source": [
    "The `SimpleConcolicFuzzer` is reasonably efficient at exploring paths near the path followed by a given sample input. However, it is not very intelligent when it comes to choosing which paths to follow. We look at another fuzzer that lifts the predicates obtained to the grammar and achieves better fuzzing."
   ]
  },
  {
   "cell_type": "markdown",
   "metadata": {
    "slideshow": {
     "slide_type": "slide"
    }
   },
   "source": [
    "## Concolic Grammar Fuzzing\n",
    "\n",
    "The concolic framework can be used directly in grammar-based fuzzing. We implement a class `ConcolicGrammarFuzzer` wihich does this."
   ]
  },
  {
   "cell_type": "markdown",
   "metadata": {
    "slideshow": {
     "slide_type": "subslide"
    },
    "tags": []
   },
   "source": [
    "### Excursion: Implementing ConcolicGrammarFuzzer"
   ]
  },
  {
   "cell_type": "markdown",
   "metadata": {
    "slideshow": {
     "slide_type": "fragment"
    }
   },
   "source": [
    "First, we extend our `GrammarFuzzer` with a helper method `tree_to_string()` such that we can retrieve the derivation tree of the fuzz output. We also define `prune_tree()` and `coalesce()` methods to reduce the depth of sub trees. These methods accept a list of tokens types such that a node belonging to the token type gets converted from a tree to a leaf node by calling `tree_to_string()`."
   ]
  },
  {
   "cell_type": "code",
   "execution_count": 282,
   "metadata": {
    "execution": {
     "iopub.execute_input": "2022-01-05T17:28:13.963538Z",
     "iopub.status.busy": "2022-01-05T17:28:13.962880Z",
     "iopub.status.idle": "2022-01-05T17:28:13.964723Z",
     "shell.execute_reply": "2022-01-05T17:28:13.965134Z"
    },
    "slideshow": {
     "slide_type": "skip"
    }
   },
   "outputs": [],
   "source": [
    "from InformationFlow import INVENTORY_GRAMMAR, SQLException"
   ]
  },
  {
   "cell_type": "code",
   "execution_count": 283,
   "metadata": {
    "execution": {
     "iopub.execute_input": "2022-01-05T17:28:13.968611Z",
     "iopub.status.busy": "2022-01-05T17:28:13.968021Z",
     "iopub.status.idle": "2022-01-05T17:28:13.969937Z",
     "shell.execute_reply": "2022-01-05T17:28:13.970335Z"
    },
    "slideshow": {
     "slide_type": "skip"
    }
   },
   "outputs": [],
   "source": [
    "from GrammarFuzzer import GrammarFuzzer"
   ]
  },
  {
   "cell_type": "code",
   "execution_count": 284,
   "metadata": {
    "execution": {
     "iopub.execute_input": "2022-01-05T17:28:13.977622Z",
     "iopub.status.busy": "2022-01-05T17:28:13.977061Z",
     "iopub.status.idle": "2022-01-05T17:28:13.978951Z",
     "shell.execute_reply": "2022-01-05T17:28:13.979343Z"
    },
    "slideshow": {
     "slide_type": "subslide"
    }
   },
   "outputs": [],
   "source": [
    "class ConcolicGrammarFuzzer(GrammarFuzzer):\n",
    "    def tree_to_string(self, tree):\n",
    "        symbol, children, *_ = tree\n",
    "        e = ''\n",
    "        if children:\n",
    "            return e.join([self.tree_to_string(c) for c in children])\n",
    "        else:\n",
    "            return e if symbol in self.grammar else symbol\n",
    "\n",
    "    def prune_tree(self, tree, tokens):\n",
    "        name, children = tree\n",
    "        children = self.coalesce(children)\n",
    "        if name in tokens:\n",
    "            return (name, [(self.tree_to_string(tree), [])])\n",
    "        else:\n",
    "            return (name, [self.prune_tree(c, tokens) for c in children])\n",
    "\n",
    "    def coalesce(self, children):\n",
    "        last = ''\n",
    "        new_lst = []\n",
    "        for cn, cc in children:\n",
    "            if cn not in self.grammar:\n",
    "                last += cn\n",
    "            else:\n",
    "                if last:\n",
    "                    new_lst.append((last, []))\n",
    "                    last = ''\n",
    "                new_lst.append((cn, cc))\n",
    "        if last:\n",
    "            new_lst.append((last, []))\n",
    "        return new_lst"
   ]
  },
  {
   "cell_type": "markdown",
   "metadata": {
    "slideshow": {
     "slide_type": "subslide"
    }
   },
   "source": [
    "We can now use the fuzzer to produce inputs for our DB."
   ]
  },
  {
   "cell_type": "code",
   "execution_count": 285,
   "metadata": {
    "execution": {
     "iopub.execute_input": "2022-01-05T17:28:14.002961Z",
     "iopub.status.busy": "2022-01-05T17:28:14.002016Z",
     "iopub.status.idle": "2022-01-05T17:28:14.004426Z",
     "shell.execute_reply": "2022-01-05T17:28:14.004939Z"
    },
    "slideshow": {
     "slide_type": "fragment"
    }
   },
   "outputs": [],
   "source": [
    "tgf = ConcolicGrammarFuzzer(INVENTORY_GRAMMAR)\n",
    "while True:\n",
    "    qtree = tgf.fuzz_tree()\n",
    "    query = str(tgf.tree_to_string(qtree))\n",
    "    if query.startswith('select'):\n",
    "        break"
   ]
  },
  {
   "cell_type": "code",
   "execution_count": 286,
   "metadata": {
    "execution": {
     "iopub.execute_input": "2022-01-05T17:28:14.010908Z",
     "iopub.status.busy": "2022-01-05T17:28:14.010345Z",
     "iopub.status.idle": "2022-01-05T17:28:14.012256Z",
     "shell.execute_reply": "2022-01-05T17:28:14.012648Z"
    },
    "slideshow": {
     "slide_type": "skip"
    }
   },
   "outputs": [],
   "source": [
    "from ExpectError import ExpectError"
   ]
  },
  {
   "cell_type": "code",
   "execution_count": 287,
   "metadata": {
    "execution": {
     "iopub.execute_input": "2022-01-05T17:28:14.017684Z",
     "iopub.status.busy": "2022-01-05T17:28:14.016937Z",
     "iopub.status.idle": "2022-01-05T17:28:14.023951Z",
     "shell.execute_reply": "2022-01-05T17:28:14.024374Z"
    },
    "slideshow": {
     "slide_type": "subslide"
    }
   },
   "outputs": [
    {
     "name": "stdout",
     "output_type": "stream",
     "text": [
      "'select I/k-z-A(z)/W(q,S) from G.2fN0'\n"
     ]
    },
    {
     "name": "stderr",
     "output_type": "stream",
     "text": [
      "Traceback (most recent call last):\n",
      "  File \"<ipython-input-287-6cbadb7bcf98>\", line 4, in <module>\n",
      "    res = _[db_select](str(query))\n",
      "  File \"<ipython-input-35-635d2b1b13c2>\", line 3, in __call__\n",
      "    self.result = self.fn(*self.concolic(args))\n",
      "  File \"<ipython-input-234-26b52b86ed9e>\", line 4, in db_select\n",
      "    r = my_db.sql(s)\n",
      "  File \"/Users/yuvalsteinhart/Desktop/cs/cs293c/fuzzingbook-notebooks/InformationFlow.ipynb\", line 65, in sql\n",
      "    return method(query[len(key):])\n",
      "  File \"/Users/yuvalsteinhart/Desktop/cs/cs293c/fuzzingbook-notebooks/InformationFlow.ipynb\", line 84, in do_select\n",
      "    _, table = self.table(t_name)\n",
      "  File \"<ipython-input-233-d1ea3580462a>\", line 6, in table\n",
      "    raise SQLException('Table (%s) was not found' % repr(t_name))\n",
      "InformationFlow.SQLException: Table ('G.2fN0') was not found (expected)\n"
     ]
    }
   ],
   "source": [
    "with ExpectError():\n",
    "    print(repr(query))\n",
    "    with ConcolicTracer() as _:\n",
    "        res = _[db_select](str(query))\n",
    "    print(repr(res))"
   ]
  },
  {
   "cell_type": "markdown",
   "metadata": {
    "slideshow": {
     "slide_type": "subslide"
    }
   },
   "source": [
    "Our fuzzer returns with an exception. It is unable to find the specified table. Let us examine the predicates it encountered."
   ]
  },
  {
   "cell_type": "code",
   "execution_count": 288,
   "metadata": {
    "execution": {
     "iopub.execute_input": "2022-01-05T17:28:14.028177Z",
     "iopub.status.busy": "2022-01-05T17:28:14.027585Z",
     "iopub.status.idle": "2022-01-05T17:28:14.047615Z",
     "shell.execute_reply": "2022-01-05T17:28:14.048077Z"
    },
    "slideshow": {
     "slide_type": "subslide"
    }
   },
   "outputs": [
    {
     "name": "stdout",
     "output_type": "stream",
     "text": [
      "0 0 == IndexOf(db_select_s_str_1, \"select \", 0)\n",
      "1 0 == IndexOf(db_select_s_str_1, \"select \", 0)\n",
      "2 Not(0 >\n",
      "    IndexOf(str.substr(db_select_s_str_1, 7, 29),\n",
      "            \" from \",\n",
      "            0))\n",
      "3 Not(29 <\n",
      "    IndexOf(str.substr(db_select_s_str_1, 7, 29),\n",
      "            \" from \",\n",
      "            0))\n",
      "4 Or(0 <\n",
      "   IndexOf(str.substr(db_select_s_str_1, 7, 29),\n",
      "           \" from \",\n",
      "           0),\n",
      "   0 ==\n",
      "   IndexOf(str.substr(db_select_s_str_1, 7, 29),\n",
      "           \" from \",\n",
      "           0))\n",
      "5 Not(Or(0 <\n",
      "       IndexOf(str.substr(db_select_s_str_1, 7, 29),\n",
      "               \" where \",\n",
      "               0),\n",
      "       0 ==\n",
      "       IndexOf(str.substr(db_select_s_str_1, 7, 29),\n",
      "               \" where \",\n",
      "               0)))\n",
      "6 Not(29 <\n",
      "    IndexOf(str.substr(db_select_s_str_1, 7, 29),\n",
      "            \" from \",\n",
      "            0) +\n",
      "    6)\n",
      "7 Or(29 >\n",
      "   IndexOf(str.substr(db_select_s_str_1, 7, 29),\n",
      "           \" from \",\n",
      "           0) +\n",
      "   6,\n",
      "   29 ==\n",
      "   IndexOf(str.substr(db_select_s_str_1, 7, 29),\n",
      "           \" from \",\n",
      "           0) +\n",
      "   6)\n",
      "8 Not(str.substr(str.substr(db_select_s_str_1, 7, 29), 23, 6) ==\n",
      "    \"inventory\")\n"
     ]
    }
   ],
   "source": [
    "for i, p in enumerate(_.path):\n",
    "    print(i, p)"
   ]
  },
  {
   "cell_type": "markdown",
   "metadata": {
    "slideshow": {
     "slide_type": "subslide"
    }
   },
   "source": [
    "Note that we can obtain constraints that are not present in the grammar from using the `ConcolicTracer`. In particular, see how we are able to obtain the condition that the table needs to be `inventory` (Predicate 11) for the fuzzing to succeed."
   ]
  },
  {
   "cell_type": "markdown",
   "metadata": {
    "slideshow": {
     "slide_type": "fragment"
    }
   },
   "source": [
    "How do we lift these to the grammar? and in particular how do we do it automatically? One option we have is to simply switch the last predicate obtained. In our case, the last predicate is (11). Can we simply invert the predicate and solve it again?"
   ]
  },
  {
   "cell_type": "code",
   "execution_count": 289,
   "metadata": {
    "execution": {
     "iopub.execute_input": "2022-01-05T17:28:14.052145Z",
     "iopub.status.busy": "2022-01-05T17:28:14.051554Z",
     "iopub.status.idle": "2022-01-05T17:28:14.053835Z",
     "shell.execute_reply": "2022-01-05T17:28:14.054351Z"
    },
    "slideshow": {
     "slide_type": "fragment"
    }
   },
   "outputs": [],
   "source": [
    "new_path = _.path[0:-1] + [z3.Not(_.path[-1])]"
   ]
  },
  {
   "cell_type": "code",
   "execution_count": 290,
   "metadata": {
    "execution": {
     "iopub.execute_input": "2022-01-05T17:28:14.058671Z",
     "iopub.status.busy": "2022-01-05T17:28:14.058115Z",
     "iopub.status.idle": "2022-01-05T17:28:14.059715Z",
     "shell.execute_reply": "2022-01-05T17:28:14.060111Z"
    },
    "slideshow": {
     "slide_type": "fragment"
    }
   },
   "outputs": [],
   "source": [
    "new_ = ConcolicTracer((_.decls, new_path))\n",
    "new_.fn = _.fn\n",
    "new_.fn_args = _.fn_args"
   ]
  },
  {
   "cell_type": "code",
   "execution_count": 291,
   "metadata": {
    "execution": {
     "iopub.execute_input": "2022-01-05T17:28:14.063404Z",
     "iopub.status.busy": "2022-01-05T17:28:14.062821Z",
     "iopub.status.idle": "2022-01-05T17:28:14.106969Z",
     "shell.execute_reply": "2022-01-05T17:28:14.106361Z"
    },
    "slideshow": {
     "slide_type": "fragment"
    }
   },
   "outputs": [
    {
     "data": {
      "text/plain": [
       "('No Solutions', None)"
      ]
     },
     "execution_count": 291,
     "metadata": {},
     "output_type": "execute_result"
    }
   ],
   "source": [
    "new_.zeval()"
   ]
  },
  {
   "cell_type": "markdown",
   "metadata": {
    "slideshow": {
     "slide_type": "subslide"
    }
   },
   "source": [
    "Indeed, this will not work as the string lengths being compared to are different."
   ]
  },
  {
   "cell_type": "code",
   "execution_count": 292,
   "metadata": {
    "execution": {
     "iopub.execute_input": "2022-01-05T17:28:14.113166Z",
     "iopub.status.busy": "2022-01-05T17:28:14.112600Z",
     "iopub.status.idle": "2022-01-05T17:28:14.156044Z",
     "shell.execute_reply": "2022-01-05T17:28:14.156612Z"
    },
    "slideshow": {
     "slide_type": "fragment"
    }
   },
   "outputs": [
    {
     "name": "stdout",
     "output_type": "stream",
     "text": [
      "Not(str.substr(str.substr(db_select_s_str_1, 7, 29), 23, 6) ==\n",
      "    \"inventory\")\n",
      "no solution\n"
     ]
    }
   ],
   "source": [
    "print(_.path[-1])\n",
    "z3.solve(z3.Not(_.path[-1]))"
   ]
  },
  {
   "cell_type": "markdown",
   "metadata": {
    "slideshow": {
     "slide_type": "fragment"
    }
   },
   "source": [
    "A better idea is to investigate what _string_ comparisons are being made, and associate that with the corresponding nodes in the grammar. Let us examine our derivation tree (pruned to avoid recursive structures, and to focus on important parts)."
   ]
  },
  {
   "cell_type": "code",
   "execution_count": 293,
   "metadata": {
    "execution": {
     "iopub.execute_input": "2022-01-05T17:28:14.160394Z",
     "iopub.status.busy": "2022-01-05T17:28:14.159828Z",
     "iopub.status.idle": "2022-01-05T17:28:14.161690Z",
     "shell.execute_reply": "2022-01-05T17:28:14.162148Z"
    },
    "slideshow": {
     "slide_type": "skip"
    }
   },
   "outputs": [],
   "source": [
    "from GrammarFuzzer import display_tree"
   ]
  },
  {
   "cell_type": "code",
   "execution_count": 294,
   "metadata": {
    "execution": {
     "iopub.execute_input": "2022-01-05T17:28:14.167387Z",
     "iopub.status.busy": "2022-01-05T17:28:14.166818Z",
     "iopub.status.idle": "2022-01-05T17:28:14.617241Z",
     "shell.execute_reply": "2022-01-05T17:28:14.616625Z"
    },
    "slideshow": {
     "slide_type": "subslide"
    }
   },
   "outputs": [
    {
     "data": {
      "image/svg+xml": "<?xml version=\"1.0\" encoding=\"UTF-8\" standalone=\"no\"?>\n<!DOCTYPE svg PUBLIC \"-//W3C//DTD SVG 1.1//EN\"\n \"http://www.w3.org/Graphics/SVG/1.1/DTD/svg11.dtd\">\n<!-- Generated by graphviz version 2.50.0 (20211204.2007)\n -->\n<!-- Pages: 1 -->\n<svg width=\"222pt\" height=\"176pt\"\n viewBox=\"0.00 0.00 222.00 176.00\" xmlns=\"http://www.w3.org/2000/svg\" xmlns:xlink=\"http://www.w3.org/1999/xlink\">\n<g id=\"graph0\" class=\"graph\" transform=\"scale(1 1) rotate(0) translate(4 172)\">\n<polygon fill=\"white\" stroke=\"transparent\" points=\"-4,4 -4,-172 218,-172 218,4 -4,4\"/>\n<!-- 0 -->\n<g id=\"node1\" class=\"node\">\n<title>0</title>\n<text text-anchor=\"middle\" x=\"105.5\" y=\"-156.8\" font-family=\"Times,serif\" font-size=\"14.00\">&lt;start&gt;</text>\n</g>\n<!-- 1 -->\n<g id=\"node2\" class=\"node\">\n<title>1</title>\n<text text-anchor=\"middle\" x=\"105.5\" y=\"-105.8\" font-family=\"Times,serif\" font-size=\"14.00\">&lt;query&gt;</text>\n</g>\n<!-- 0&#45;&gt;1 -->\n<g id=\"edge1\" class=\"edge\">\n<title>0&#45;&gt;1</title>\n<path fill=\"none\" stroke=\"black\" d=\"M105.5,-152.69C105.5,-146.18 105.5,-136.1 105.5,-127.43\"/>\n<polygon fill=\"black\" stroke=\"black\" points=\"109,-127.26 105.5,-117.26 102,-127.26 109,-127.26\"/>\n</g>\n<!-- 2 -->\n<g id=\"node3\" class=\"node\">\n<title>2</title>\n<text text-anchor=\"middle\" x=\"17.5\" y=\"-54.8\" font-family=\"Times,serif\" font-size=\"14.00\">select </text>\n</g>\n<!-- 1&#45;&gt;2 -->\n<g id=\"edge2\" class=\"edge\">\n<title>1&#45;&gt;2</title>\n<path fill=\"none\" stroke=\"black\" d=\"M93.63,-101.89C79.38,-93.96 55.24,-80.52 37.97,-70.9\"/>\n<polygon fill=\"black\" stroke=\"black\" points=\"39.62,-67.81 29.18,-66 36.21,-73.93 39.62,-67.81\"/>\n</g>\n<!-- 3 -->\n<g id=\"node4\" class=\"node\">\n<title>3</title>\n<text text-anchor=\"middle\" x=\"76.5\" y=\"-54.8\" font-family=\"Times,serif\" font-size=\"14.00\">&lt;exprs&gt;</text>\n</g>\n<!-- 1&#45;&gt;3 -->\n<g id=\"edge3\" class=\"edge\">\n<title>1&#45;&gt;3</title>\n<path fill=\"none\" stroke=\"black\" d=\"M101.47,-101.69C97.4,-94.81 90.98,-83.96 85.66,-74.98\"/>\n<polygon fill=\"black\" stroke=\"black\" points=\"88.6,-73.08 80.5,-66.26 82.58,-76.64 88.6,-73.08\"/>\n</g>\n<!-- 5 -->\n<g id=\"node6\" class=\"node\">\n<title>5</title>\n<text text-anchor=\"middle\" x=\"135.5\" y=\"-54.8\" font-family=\"Times,serif\" font-size=\"14.00\"> from </text>\n</g>\n<!-- 1&#45;&gt;5 -->\n<g id=\"edge5\" class=\"edge\">\n<title>1&#45;&gt;5</title>\n<path fill=\"none\" stroke=\"black\" d=\"M109.67,-101.69C113.88,-94.81 120.53,-83.96 126.02,-74.98\"/>\n<polygon fill=\"black\" stroke=\"black\" points=\"129.13,-76.61 131.36,-66.26 123.16,-72.96 129.13,-76.61\"/>\n</g>\n<!-- 6 -->\n<g id=\"node7\" class=\"node\">\n<title>6</title>\n<text text-anchor=\"middle\" x=\"192.5\" y=\"-54.8\" font-family=\"Times,serif\" font-size=\"14.00\">&lt;table&gt;</text>\n</g>\n<!-- 1&#45;&gt;6 -->\n<g id=\"edge6\" class=\"edge\">\n<title>1&#45;&gt;6</title>\n<path fill=\"none\" stroke=\"black\" d=\"M117.23,-101.89C131.19,-94.03 154.74,-80.77 171.79,-71.16\"/>\n<polygon fill=\"black\" stroke=\"black\" points=\"173.96,-73.96 180.95,-66 170.52,-67.86 173.96,-73.96\"/>\n</g>\n<!-- 4 -->\n<g id=\"node5\" class=\"node\">\n<title>4</title>\n<text text-anchor=\"middle\" x=\"76.5\" y=\"-3.8\" font-family=\"Times,serif\" font-size=\"14.00\">I/k&#45;z&#45;A(z)/W(q,S)</text>\n</g>\n<!-- 3&#45;&gt;4 -->\n<g id=\"edge4\" class=\"edge\">\n<title>3&#45;&gt;4</title>\n<path fill=\"none\" stroke=\"black\" d=\"M76.5,-50.69C76.5,-44.18 76.5,-34.1 76.5,-25.43\"/>\n<polygon fill=\"black\" stroke=\"black\" points=\"80,-25.26 76.5,-15.26 73,-25.26 80,-25.26\"/>\n</g>\n<!-- 7 -->\n<g id=\"node8\" class=\"node\">\n<title>7</title>\n<text text-anchor=\"middle\" x=\"192.5\" y=\"-3.8\" font-family=\"Times,serif\" font-size=\"14.00\">G.2fN0</text>\n</g>\n<!-- 6&#45;&gt;7 -->\n<g id=\"edge7\" class=\"edge\">\n<title>6&#45;&gt;7</title>\n<path fill=\"none\" stroke=\"black\" d=\"M192.5,-50.69C192.5,-44.18 192.5,-34.1 192.5,-25.43\"/>\n<polygon fill=\"black\" stroke=\"black\" points=\"196,-25.26 192.5,-15.26 189,-25.26 196,-25.26\"/>\n</g>\n</g>\n</svg>\n",
      "text/plain": [
       "<graphviz.graphs.Digraph at 0x181ad9b50>"
      ]
     },
     "execution_count": 294,
     "metadata": {},
     "output_type": "execute_result"
    }
   ],
   "source": [
    "prune_tokens = [\n",
    "    '<value>', '<table>', '<column>', '<literals>', '<exprs>', '<bexpr>'\n",
    "]\n",
    "dt = tgf.prune_tree(qtree, prune_tokens)\n",
    "display_tree(dt)"
   ]
  },
  {
   "cell_type": "markdown",
   "metadata": {
    "slideshow": {
     "slide_type": "fragment"
    }
   },
   "source": [
    "Can we identify which part of the input was supplied by which part of the grammar? We define `span()` that can recover this information from the derivation tree. For a given node, let us assume that the start point is known. Then, for processing the children, we proceed as follows: We choose one child at a time from left to right, and compute the length of the child. The length of the children before the current child in addition to our starting point gives the starting point of the current child. The end point for each node is simply the end point of its last children (or the length of its node if it is a leaf)."
   ]
  },
  {
   "cell_type": "code",
   "execution_count": 295,
   "metadata": {
    "execution": {
     "iopub.execute_input": "2022-01-05T17:28:14.621722Z",
     "iopub.status.busy": "2022-01-05T17:28:14.621171Z",
     "iopub.status.idle": "2022-01-05T17:28:14.622821Z",
     "shell.execute_reply": "2022-01-05T17:28:14.623212Z"
    },
    "slideshow": {
     "slide_type": "skip"
    }
   },
   "outputs": [],
   "source": [
    "from GrammarFuzzer import START_SYMBOL"
   ]
  },
  {
   "cell_type": "code",
   "execution_count": 296,
   "metadata": {
    "execution": {
     "iopub.execute_input": "2022-01-05T17:28:14.628676Z",
     "iopub.status.busy": "2022-01-05T17:28:14.628138Z",
     "iopub.status.idle": "2022-01-05T17:28:14.629732Z",
     "shell.execute_reply": "2022-01-05T17:28:14.630180Z"
    },
    "slideshow": {
     "slide_type": "subslide"
    }
   },
   "outputs": [],
   "source": [
    "def span(node, g, node_start=0):\n",
    "    hm = {}\n",
    "    k, cs = node\n",
    "    end_i = node_start\n",
    "    new_cs = []\n",
    "    for c in cs:\n",
    "        chm, (ck, child_start, child_end, gcs) = span(c, g, end_i)\n",
    "        new_cs.append((ck, child_start, child_end, gcs))\n",
    "        end_i = child_end\n",
    "        hm.update(chm)\n",
    "    node_end = end_i if cs else node_start + len(k)\n",
    "    if k in g and k != START_SYMBOL:\n",
    "        hm[k] = (node_start, node_end - node_start)\n",
    "    return hm, (k, node_start, node_end, new_cs)"
   ]
  },
  {
   "cell_type": "markdown",
   "metadata": {
    "slideshow": {
     "slide_type": "fragment"
    }
   },
   "source": [
    "We use it as follows:"
   ]
  },
  {
   "cell_type": "code",
   "execution_count": 297,
   "metadata": {
    "execution": {
     "iopub.execute_input": "2022-01-05T17:28:14.633499Z",
     "iopub.status.busy": "2022-01-05T17:28:14.632926Z",
     "iopub.status.idle": "2022-01-05T17:28:14.634762Z",
     "shell.execute_reply": "2022-01-05T17:28:14.635143Z"
    },
    "slideshow": {
     "slide_type": "subslide"
    }
   },
   "outputs": [],
   "source": [
    "span_hm, _n = span(dt, INVENTORY_GRAMMAR)"
   ]
  },
  {
   "cell_type": "code",
   "execution_count": 298,
   "metadata": {
    "execution": {
     "iopub.execute_input": "2022-01-05T17:28:14.638800Z",
     "iopub.status.busy": "2022-01-05T17:28:14.638236Z",
     "iopub.status.idle": "2022-01-05T17:28:14.640535Z",
     "shell.execute_reply": "2022-01-05T17:28:14.640994Z"
    },
    "slideshow": {
     "slide_type": "fragment"
    }
   },
   "outputs": [
    {
     "data": {
      "text/plain": [
       "{'<exprs>': (7, 17), '<table>': (30, 6), '<query>': (0, 36)}"
      ]
     },
     "execution_count": 298,
     "metadata": {},
     "output_type": "execute_result"
    }
   ],
   "source": [
    "span_hm"
   ]
  },
  {
   "cell_type": "markdown",
   "metadata": {
    "slideshow": {
     "slide_type": "fragment"
    }
   },
   "source": [
    "We can check if we got the right values as follows."
   ]
  },
  {
   "cell_type": "code",
   "execution_count": 299,
   "metadata": {
    "execution": {
     "iopub.execute_input": "2022-01-05T17:28:14.644688Z",
     "iopub.status.busy": "2022-01-05T17:28:14.644152Z",
     "iopub.status.idle": "2022-01-05T17:28:14.646317Z",
     "shell.execute_reply": "2022-01-05T17:28:14.646700Z"
    },
    "slideshow": {
     "slide_type": "fragment"
    }
   },
   "outputs": [
    {
     "name": "stdout",
     "output_type": "stream",
     "text": [
      "query: select I/k-z-A(z)/W(q,S) from G.2fN0\n",
      "<exprs> I/k-z-A(z)/W(q,S)\n",
      "<table> G.2fN0\n",
      "<query> select I/k-z-A(z)/W(q,S) from G.2fN0\n"
     ]
    }
   ],
   "source": [
    "print(\"query:\", query)\n",
    "for k in span_hm:\n",
    "    start, l = span_hm[k]\n",
    "    print(k, query[start:start + l])"
   ]
  },
  {
   "cell_type": "markdown",
   "metadata": {
    "slideshow": {
     "slide_type": "subslide"
    }
   },
   "source": [
    "Next, we need to obtain all the comparisons made in each predicate. For that, we define two helper functions. The first is `unwrap_substrings()` that translates multiple calls to `z3.SubString` and returns the start, and length of the given z3 string expression."
   ]
  },
  {
   "cell_type": "code",
   "execution_count": 300,
   "metadata": {
    "execution": {
     "iopub.execute_input": "2022-01-05T17:28:14.651502Z",
     "iopub.status.busy": "2022-01-05T17:28:14.650913Z",
     "iopub.status.idle": "2022-01-05T17:28:14.652461Z",
     "shell.execute_reply": "2022-01-05T17:28:14.652906Z"
    },
    "slideshow": {
     "slide_type": "fragment"
    }
   },
   "outputs": [],
   "source": [
    "def unwrap_substrings(s):\n",
    "    assert s.decl().name() == 'str.substr'\n",
    "    cs, frm, l = s.children()\n",
    "    fl = frm.as_long()\n",
    "    ll = l.as_long()\n",
    "    if cs.decl().name() == 'str.substr':\n",
    "        newfrm, _l = unwrap_substrings(cs)\n",
    "        return (fl + newfrm, ll)\n",
    "    else:\n",
    "        return (fl, ll)"
   ]
  },
  {
   "cell_type": "markdown",
   "metadata": {
    "slideshow": {
     "slide_type": "subslide"
    }
   },
   "source": [
    "We define `traverse_z3()` that traverses a given z3 string expression, and collects all direct string comparisons to a substring of the original argument."
   ]
  },
  {
   "cell_type": "code",
   "execution_count": 301,
   "metadata": {
    "execution": {
     "iopub.execute_input": "2022-01-05T17:28:14.661416Z",
     "iopub.status.busy": "2022-01-05T17:28:14.660869Z",
     "iopub.status.idle": "2022-01-05T17:28:14.662578Z",
     "shell.execute_reply": "2022-01-05T17:28:14.663026Z"
    },
    "slideshow": {
     "slide_type": "subslide"
    }
   },
   "outputs": [],
   "source": [
    "def traverse_z3(p, hm):\n",
    "    def z3_as_string(v):\n",
    "        return v.as_string()\n",
    "\n",
    "    n = p.decl().name()\n",
    "    if n == 'not':\n",
    "        return traverse_z3(p.children()[0], hm)\n",
    "    elif n == '=':\n",
    "        i, j = p.children()\n",
    "        if isinstance(i, (int, z3.IntNumRef)):\n",
    "            return traverse_z3(j, hm)\n",
    "        elif isinstance(j, (int, z3.IntNumRef)):\n",
    "            return traverse_z3(i, hm)\n",
    "        else:\n",
    "            if i.is_string() and j.is_string():\n",
    "                if i.is_string_value():\n",
    "                    cs, frm, l = j.children()\n",
    "                    if (isinstance(frm, z3.IntNumRef)\n",
    "                            and isinstance(l, z3.IntNumRef)):\n",
    "                        hm[z3_as_string(i)] = unwrap_substrings(j)\n",
    "                elif j.is_string_value():\n",
    "                    cs, frm, l = i.children()\n",
    "                    if (isinstance(frm, z3.IntNumRef)\n",
    "                            and isinstance(l, z3.IntNumRef)):\n",
    "                        hm[z3_as_string(j)] = unwrap_substrings(i)\n",
    "            else:\n",
    "                assert False  # for now\n",
    "    elif n == '<' or n == '>':\n",
    "        i, j = p.children()\n",
    "        if isinstance(i, (int, z3.IntNumRef)):\n",
    "            return traverse_z3(j, hm)\n",
    "        elif isinstance(j, (int, z3.IntNumRef)):\n",
    "            return traverse_z3(i, hm)\n",
    "        else:\n",
    "            assert False\n",
    "    return p"
   ]
  },
  {
   "cell_type": "code",
   "execution_count": 302,
   "metadata": {
    "execution": {
     "iopub.execute_input": "2022-01-05T17:28:14.666746Z",
     "iopub.status.busy": "2022-01-05T17:28:14.666221Z",
     "iopub.status.idle": "2022-01-05T17:28:14.670546Z",
     "shell.execute_reply": "2022-01-05T17:28:14.670999Z"
    },
    "slideshow": {
     "slide_type": "subslide"
    }
   },
   "outputs": [
    {
     "data": {
      "text/plain": [
       "{'inventory': (30, 6)}"
      ]
     },
     "execution_count": 302,
     "metadata": {},
     "output_type": "execute_result"
    }
   ],
   "source": [
    "comparisons: Dict[str, Tuple] = {}\n",
    "for p in _.path:\n",
    "    traverse_z3(p, comparisons)\n",
    "comparisons"
   ]
  },
  {
   "cell_type": "markdown",
   "metadata": {
    "slideshow": {
     "slide_type": "fragment"
    }
   },
   "source": [
    "All that we need now is to declare string variables that match the substrings in `comparisons`, and solve for them for each item in the path. For that, we define `find_alternatives()`."
   ]
  },
  {
   "cell_type": "code",
   "execution_count": 303,
   "metadata": {
    "execution": {
     "iopub.execute_input": "2022-01-05T17:28:14.675741Z",
     "iopub.status.busy": "2022-01-05T17:28:14.675204Z",
     "iopub.status.idle": "2022-01-05T17:28:14.676977Z",
     "shell.execute_reply": "2022-01-05T17:28:14.677359Z"
    },
    "slideshow": {
     "slide_type": "subslide"
    }
   },
   "outputs": [],
   "source": [
    "def find_alternatives(spans, cmp):\n",
    "    alts = {}\n",
    "    for key in spans:\n",
    "        start, l = spans[key]\n",
    "        rset = set(range(start, start + l))\n",
    "        for ckey in cmp:\n",
    "            cstart, cl = cmp[ckey]\n",
    "            cset = set(range(cstart, cstart + cl))\n",
    "            # if rset.issubset(cset): <- ignoring subsets for now.\n",
    "            if rset == cset:\n",
    "                if key not in alts:\n",
    "                    alts[key] = set()\n",
    "                alts[key].add(ckey)\n",
    "    return alts"
   ]
  },
  {
   "cell_type": "markdown",
   "metadata": {
    "slideshow": {
     "slide_type": "fragment"
    }
   },
   "source": [
    "We use it as follows."
   ]
  },
  {
   "cell_type": "code",
   "execution_count": 304,
   "metadata": {
    "execution": {
     "iopub.execute_input": "2022-01-05T17:28:14.681074Z",
     "iopub.status.busy": "2022-01-05T17:28:14.680462Z",
     "iopub.status.idle": "2022-01-05T17:28:14.685339Z",
     "shell.execute_reply": "2022-01-05T17:28:14.685829Z"
    },
    "slideshow": {
     "slide_type": "subslide"
    }
   },
   "outputs": [
    {
     "data": {
      "text/plain": [
       "{'<table>': {'inventory'}}"
      ]
     },
     "execution_count": 304,
     "metadata": {},
     "output_type": "execute_result"
    }
   ],
   "source": [
    "alternatives = find_alternatives(span_hm, comparisons)\n",
    "alternatives"
   ]
  },
  {
   "cell_type": "markdown",
   "metadata": {
    "slideshow": {
     "slide_type": "fragment"
    }
   },
   "source": [
    "So, we have our alternatives for each key in the grammar. We can now update our grammar as follows."
   ]
  },
  {
   "cell_type": "code",
   "execution_count": 305,
   "metadata": {
    "execution": {
     "iopub.execute_input": "2022-01-05T17:28:14.689417Z",
     "iopub.status.busy": "2022-01-05T17:28:14.688872Z",
     "iopub.status.idle": "2022-01-05T17:28:14.691062Z",
     "shell.execute_reply": "2022-01-05T17:28:14.691501Z"
    },
    "slideshow": {
     "slide_type": "fragment"
    }
   },
   "outputs": [],
   "source": [
    "INVENTORY_GRAMMAR_NEW = dict(INVENTORY_GRAMMAR)"
   ]
  },
  {
   "cell_type": "code",
   "execution_count": 306,
   "metadata": {
    "execution": {
     "iopub.execute_input": "2022-01-05T17:28:14.696291Z",
     "iopub.status.busy": "2022-01-05T17:28:14.695607Z",
     "iopub.status.idle": "2022-01-05T17:28:14.697358Z",
     "shell.execute_reply": "2022-01-05T17:28:14.697906Z"
    },
    "slideshow": {
     "slide_type": "fragment"
    }
   },
   "outputs": [],
   "source": [
    "for k in alternatives:\n",
    "    INVENTORY_GRAMMAR_NEW[k] = INVENTORY_GRAMMAR_NEW[k] + list(alternatives[k])"
   ]
  },
  {
   "cell_type": "markdown",
   "metadata": {
    "slideshow": {
     "slide_type": "fragment"
    }
   },
   "source": [
    "We made a choice here. We could have completely overwritten the definition of `<table>` . Instead, we added our new alternatives to the existing definition. This way, our fuzzer will also attempt other values for `<table>` once in a while."
   ]
  },
  {
   "cell_type": "code",
   "execution_count": 307,
   "metadata": {
    "execution": {
     "iopub.execute_input": "2022-01-05T17:28:14.701646Z",
     "iopub.status.busy": "2022-01-05T17:28:14.701042Z",
     "iopub.status.idle": "2022-01-05T17:28:14.703508Z",
     "shell.execute_reply": "2022-01-05T17:28:14.704155Z"
    },
    "slideshow": {
     "slide_type": "fragment"
    }
   },
   "outputs": [
    {
     "data": {
      "text/plain": [
       "['<word>', 'inventory']"
      ]
     },
     "execution_count": 307,
     "metadata": {},
     "output_type": "execute_result"
    }
   ],
   "source": [
    "INVENTORY_GRAMMAR_NEW['<table>']"
   ]
  },
  {
   "cell_type": "markdown",
   "metadata": {
    "slideshow": {
     "slide_type": "fragment"
    }
   },
   "source": [
    "Let us try fuzzing with our new grammar."
   ]
  },
  {
   "cell_type": "code",
   "execution_count": 308,
   "metadata": {
    "execution": {
     "iopub.execute_input": "2022-01-05T17:28:14.708811Z",
     "iopub.status.busy": "2022-01-05T17:28:14.708259Z",
     "iopub.status.idle": "2022-01-05T17:28:14.710262Z",
     "shell.execute_reply": "2022-01-05T17:28:14.710665Z"
    },
    "slideshow": {
     "slide_type": "subslide"
    }
   },
   "outputs": [],
   "source": [
    "cgf = ConcolicGrammarFuzzer(INVENTORY_GRAMMAR_NEW)"
   ]
  },
  {
   "cell_type": "code",
   "execution_count": 309,
   "metadata": {
    "execution": {
     "iopub.execute_input": "2022-01-05T17:28:14.739653Z",
     "iopub.status.busy": "2022-01-05T17:28:14.739024Z",
     "iopub.status.idle": "2022-01-05T17:28:14.919887Z",
     "shell.execute_reply": "2022-01-05T17:28:14.920276Z"
    },
    "slideshow": {
     "slide_type": "subslide"
    }
   },
   "outputs": [
    {
     "name": "stdout",
     "output_type": "stream",
     "text": [
      "select -089.782+H==(i)/y2(F,t,p)-94424/6180 from C\n",
      "Table ('C') was not found\n",
      "\n",
      "insert into A6_0 (X) values (1.5,1,2,'v')\n",
      "Table ('A6_0') was not found\n",
      "\n",
      "update inventory set f=B,_=h where x-l>c/n\n",
      "Column ('f') was not found\n",
      "\n",
      "delete from B9Se where o*O/a(j)<J+c+C(R,H)*(q)\n",
      "Table ('B9Se') was not found\n",
      "\n",
      "select j1:,k(E) from inventory where a(H)>q/Z/(j!=A)\n",
      "Invalid WHERE ('(a(H)>q/Z/(j!=A))')\n",
      "\n",
      "insert into s (L) values (21,']','+')\n",
      "Table ('s') was not found\n",
      "\n",
      "update mS8 set B=v,y=S,l=E,Q=d where ((M))!=H!=Z\n",
      "Table ('mS8') was not found\n",
      "\n",
      "update inventory set KU=a,t=X where P*t(P)>H+g\n",
      "Column ('KU') was not found\n",
      "\n",
      "insert into PP (Xh) values (4.1)\n",
      "Table ('PP') was not found\n",
      "\n",
      "select (je:(W,T,U)) from J where :!=Y!=z(M)>v+G\n",
      "Table ('J') was not found\n",
      "\n"
     ]
    }
   ],
   "source": [
    "for i in range(10):\n",
    "    qtree = cgf.fuzz_tree()\n",
    "    query = cgf.tree_to_string(qtree)\n",
    "    print(query)\n",
    "    with ExpectError(print_traceback=False):\n",
    "        try:\n",
    "            with ConcolicTracer() as _:\n",
    "                res = _[db_select](query)\n",
    "            print(repr(res))\n",
    "        except SQLException as e:\n",
    "            print(e)\n",
    "        print()"
   ]
  },
  {
   "cell_type": "markdown",
   "metadata": {
    "slideshow": {
     "slide_type": "subslide"
    }
   },
   "source": [
    "That is, we were able to reach the dangerous method `my_eval()`.\n",
    "In effect, what we have done is to lift parts of predicates to the grammar. The new grammar can generate inputs that reach deeper into the program than before. Note that we have only handled the equality predicate. One can also lift the '<' and '>' comparison operators to the grammar if required.\n",
    "\n",
    "Compare the output of our fuzzer to the original `GrammarFuzzer` below."
   ]
  },
  {
   "cell_type": "code",
   "execution_count": 310,
   "metadata": {
    "execution": {
     "iopub.execute_input": "2022-01-05T17:28:14.956762Z",
     "iopub.status.busy": "2022-01-05T17:28:14.946252Z",
     "iopub.status.idle": "2022-01-05T17:28:15.111214Z",
     "shell.execute_reply": "2022-01-05T17:28:15.111678Z"
    },
    "slideshow": {
     "slide_type": "subslide"
    }
   },
   "outputs": [
    {
     "name": "stdout",
     "output_type": "stream",
     "text": [
      "delete from t where Y-Z-V2(d)<G-l-A+v-L\n",
      "Table ('t') was not found\n",
      "\n",
      "select (_),D from lHi where t>x(H)==(r)\n",
      "Table ('lHi') was not found\n",
      "\n",
      "select V2p!=Wy1(t!=I,h)+P8(d,j)>(d+.+z/y) from Cx\n",
      "Table ('Cx') was not found\n",
      "\n",
      "select H+K/z-G+s-s,U*A-(b)-p from W\n",
      "Table ('W') was not found\n",
      "\n",
      "delete from N81 where O6(B!=78,f)>i-K+I*f+f<o\n",
      "Table ('N81') was not found\n",
      "\n",
      "insert into L (LoEW6W) values (6411)\n",
      "Table ('L') was not found\n",
      "\n",
      "select a==g>i!=L from VQ9 where F/a*z-y>z*V\n",
      "Table ('VQ9') was not found\n",
      "\n",
      "insert into MK (IFb) values (')','N')\n",
      "Table ('MK') was not found\n",
      "\n",
      "insert into Yy32AU (ERJhUw,Od) values ('d2=h',7)\n",
      "Table ('Yy32AU') was not found\n",
      "\n",
      "select b==c*k,e,c,V from jm48 where 7!=(C-g(S))\n",
      "Table ('jm48') was not found\n",
      "\n"
     ]
    }
   ],
   "source": [
    "gf = GrammarFuzzer(INVENTORY_GRAMMAR)\n",
    "for i in range(10):\n",
    "    query = gf.fuzz()\n",
    "    print(query)\n",
    "    with ExpectError(print_traceback=False):\n",
    "        try:\n",
    "            res = db_select(query)\n",
    "            print(repr(res))\n",
    "        except SQLException as e:\n",
    "            print(e)\n",
    "        print()"
   ]
  },
  {
   "cell_type": "markdown",
   "metadata": {
    "slideshow": {
     "slide_type": "subslide"
    }
   },
   "source": [
    "As can be seen, the original grammar fuzzer is unable to proceed beyond the table verification."
   ]
  },
  {
   "cell_type": "markdown",
   "metadata": {
    "slideshow": {
     "slide_type": "subslide"
    }
   },
   "source": [
    "#### Pruning and Updating\n",
    "\n",
    "We implement these methods in `ConcolicGrammarFuzzer`. The method `update_grammar()` allows `ConcolicGrammarFuzzer` to collect feedback from concolic fuzzing, and update the grammar used for fuzzing accordingly."
   ]
  },
  {
   "cell_type": "code",
   "execution_count": 311,
   "metadata": {
    "execution": {
     "iopub.execute_input": "2022-01-05T17:28:15.117641Z",
     "iopub.status.busy": "2022-01-05T17:28:15.116992Z",
     "iopub.status.idle": "2022-01-05T17:28:15.118849Z",
     "shell.execute_reply": "2022-01-05T17:28:15.119229Z"
    },
    "slideshow": {
     "slide_type": "subslide"
    }
   },
   "outputs": [],
   "source": [
    "class ConcolicGrammarFuzzer(ConcolicGrammarFuzzer):\n",
    "    def prune_tokens(self, tokens):\n",
    "        self.prune_tokens = tokens\n",
    "\n",
    "    def update_grammar(self, trace):\n",
    "        self.comparisons = {}\n",
    "        for p in trace.path:\n",
    "            traverse_z3(p, self.comparisons)\n",
    "        alternatives = find_alternatives(self.span_range, self.comparisons)\n",
    "        if self.log:\n",
    "            print('Alternatives:', alternatives, 'Span:', self.span_range)\n",
    "        new_grammar = dict(self.grammar)\n",
    "        for k in alternatives:\n",
    "            new_grammar[k] = list(set(new_grammar[k] + list(alternatives[k])))\n",
    "        self.grammar = new_grammar"
   ]
  },
  {
   "cell_type": "markdown",
   "metadata": {
    "slideshow": {
     "slide_type": "subslide"
    }
   },
   "source": [
    "The `fuzz()` method simply generates the derivation tree, computes the span range, and returns the string generated from the derivation tree."
   ]
  },
  {
   "cell_type": "code",
   "execution_count": 312,
   "metadata": {
    "execution": {
     "iopub.execute_input": "2022-01-05T17:28:15.124499Z",
     "iopub.status.busy": "2022-01-05T17:28:15.123900Z",
     "iopub.status.idle": "2022-01-05T17:28:15.125528Z",
     "shell.execute_reply": "2022-01-05T17:28:15.125970Z"
    },
    "slideshow": {
     "slide_type": "fragment"
    }
   },
   "outputs": [],
   "source": [
    "class ConcolicGrammarFuzzer(ConcolicGrammarFuzzer):\n",
    "    def fuzz(self):\n",
    "        qtree = self.fuzz_tree()\n",
    "        self.pruned_tree = self.prune_tree(qtree, self.prune_tokens)\n",
    "        query = self.tree_to_string(qtree)\n",
    "        self.span_range, _n = span(self.pruned_tree, self.grammar)\n",
    "        return query"
   ]
  },
  {
   "cell_type": "markdown",
   "metadata": {
    "slideshow": {
     "slide_type": "fragment"
    }
   },
   "source": [
    "To ensure that our approach works, let us update our tables slightly."
   ]
  },
  {
   "cell_type": "code",
   "execution_count": 313,
   "metadata": {
    "execution": {
     "iopub.execute_input": "2022-01-05T17:28:15.129366Z",
     "iopub.status.busy": "2022-01-05T17:28:15.128714Z",
     "iopub.status.idle": "2022-01-05T17:28:15.130855Z",
     "shell.execute_reply": "2022-01-05T17:28:15.131486Z"
    },
    "slideshow": {
     "slide_type": "fragment"
    }
   },
   "outputs": [],
   "source": [
    "inventory = db.db.pop('inventory', None)"
   ]
  },
  {
   "cell_type": "code",
   "execution_count": 314,
   "metadata": {
    "execution": {
     "iopub.execute_input": "2022-01-05T17:28:15.138391Z",
     "iopub.status.busy": "2022-01-05T17:28:15.137788Z",
     "iopub.status.idle": "2022-01-05T17:28:15.140212Z",
     "shell.execute_reply": "2022-01-05T17:28:15.140651Z"
    },
    "slideshow": {
     "slide_type": "subslide"
    }
   },
   "outputs": [
    {
     "data": {
      "text/plain": [
       "{'vehicles': ({'year': int, 'kind': str, 'company': str, 'model': str},\n",
       "  [{'year': 1997, 'kind': 'van', 'company': 'Ford', 'model': 'E350'},\n",
       "   {'year': 2000, 'kind': 'car', 'company': 'Mercury', 'model': 'Cougar'},\n",
       "   {'year': 1999, 'kind': 'car', 'company': 'Chevy', 'model': 'Venture'}]),\n",
       " 'months': ({'month': int, 'name': str},\n",
       "  [{'month': 1, 'name': 'jan'},\n",
       "   {'month': 2, 'name': 'feb'},\n",
       "   {'month': 3, 'name': 'mar'},\n",
       "   {'month': 4, 'name': 'apr'},\n",
       "   {'month': 5, 'name': 'may'},\n",
       "   {'month': 6, 'name': 'jun'},\n",
       "   {'month': 7, 'name': 'jul'},\n",
       "   {'month': 8, 'name': 'aug'},\n",
       "   {'month': 9, 'name': 'sep'},\n",
       "   {'month': 10, 'name': 'oct'},\n",
       "   {'month': 11, 'name': 'nov'},\n",
       "   {'month': 12, 'name': 'dec'}])}"
      ]
     },
     "execution_count": 314,
     "metadata": {},
     "output_type": "execute_result"
    }
   ],
   "source": [
    "db.db['vehicles'] = inventory\n",
    "db.db['months'] = ({\n",
    "    'month': int,\n",
    "    'name': str\n",
    "}, [{\n",
    "    'month': i + 1,\n",
    "    'name': m\n",
    "} for i, m in enumerate([\n",
    "    'jan', 'feb', 'mar', 'apr', 'may', 'jun', 'jul', 'aug', 'sep', 'oct',\n",
    "    'nov', 'dec'\n",
    "])])\n",
    "db.db"
   ]
  },
  {
   "cell_type": "markdown",
   "metadata": {
    "slideshow": {
     "slide_type": "subslide"
    }
   },
   "source": [
    "### End of Excursion"
   ]
  },
  {
   "cell_type": "markdown",
   "metadata": {
    "slideshow": {
     "slide_type": "fragment"
    }
   },
   "source": [
    "The `ConcolicGrammarFuzzer` is used as follows."
   ]
  },
  {
   "cell_type": "code",
   "execution_count": 315,
   "metadata": {
    "execution": {
     "iopub.execute_input": "2022-01-05T17:28:15.162295Z",
     "iopub.status.busy": "2022-01-05T17:28:15.161663Z",
     "iopub.status.idle": "2022-01-05T17:28:15.376890Z",
     "shell.execute_reply": "2022-01-05T17:28:15.377287Z"
    },
    "slideshow": {
     "slide_type": "subslide"
    }
   },
   "outputs": [
    {
     "name": "stdout",
     "output_type": "stream",
     "text": [
      "update XT set G=D,v=X,B=X where V!=U<Q+e\n",
      "Table ('XT') was not found\n",
      "\n",
      "delete from vehicles where (359)==7.28\n",
      "'0 records were deleted'\n",
      "\n",
      "select (-0.8) from bC\n",
      "Table ('bC') was not found\n",
      "\n",
      "delete from months where OM(O,u)>I/p-U+B/f3(c)\n",
      "Invalid WHERE ('OM(O,u)>I/p-U+B/f3(c)')\n",
      "\n",
      "select ((d)*o/e+w<ZQ(l,G)) from :4\n",
      "Table (':4') was not found\n",
      "\n",
      "delete from vehicles where (vV(Z(H)-Z/S/(x)-D-s-n+C==a))==-05\n",
      "Invalid WHERE ('(vV(Z(H)-Z/S/(x)-D-s-n+C==a))==-05')\n",
      "\n",
      "select 3600.3,8.8 from months\n",
      "[(3600.3, 8.8), (3600.3, 8.8), (3600.3, 8.8), (3600.3, 8.8), (3600.3, 8.8), (3600.3, 8.8), (3600.3, 8.8), (3600.3, 8.8), (3600.3, 8.8), (3600.3, 8.8), (3600.3, 8.8), (3600.3, 8.8)]\n",
      "\n",
      "insert into months (u9) values ('Qk')\n",
      "Column ('u9') was not found\n",
      "\n",
      "select d*e/D/S/P-M*./h/_/E from months\n",
      "Invalid WHERE ('(d*e/D/S/P-M*./h/_/E)')\n",
      "\n",
      "delete from F39F where G==(9.519193)\n",
      "Table ('F39F') was not found\n",
      "\n"
     ]
    }
   ],
   "source": [
    "cgf = ConcolicGrammarFuzzer(INVENTORY_GRAMMAR)\n",
    "cgf.prune_tokens(prune_tokens)\n",
    "for i in range(10):\n",
    "    query = cgf.fuzz()\n",
    "    print(query)\n",
    "    with ConcolicTracer() as _:\n",
    "        with ExpectError(print_traceback=False):\n",
    "            try:\n",
    "                res = _[db_select](query)\n",
    "                print(repr(res))\n",
    "            except SQLException as e:\n",
    "                print(e)\n",
    "        cgf.update_grammar(_)\n",
    "        print()"
   ]
  },
  {
   "cell_type": "markdown",
   "metadata": {
    "slideshow": {
     "slide_type": "subslide"
    }
   },
   "source": [
    "As can be seen, the fuzzer starts with no knowledge of the tables `vehicles`, `months` and `years`, but identifies it from the concolic execution, and lifts it to the grammar. This allows us to improve the effectiveness of fuzzing."
   ]
  },
  {
   "cell_type": "markdown",
   "metadata": {
    "slideshow": {
     "slide_type": "slide"
    }
   },
   "source": [
    "## Limitations\n",
    "\n",
    "As with dynamic taint analysis, implicit control flow can obscure the predicates encountered during concolic execution. However, this limitation could be overcome to some extent by wrapping any constants in the source with their respective proxy objects. Similarly, calls to internal C functions can cause the symbolic information to be discarded, and only partial information may be obtained."
   ]
  },
  {
   "cell_type": "markdown",
   "metadata": {
    "slideshow": {
     "slide_type": "slide"
    }
   },
   "source": [
    "## Synopsis"
   ]
  },
  {
   "cell_type": "markdown",
   "metadata": {
    "slideshow": {
     "slide_type": "fragment"
    }
   },
   "source": [
    "This chapter defines two main classes: `SimpleConcolicFuzzer` and `ConcolicGrammarFuzzer`. The `SimpleConcolicFuzzer` first uses a sample input to collect predicates encountered. The fuzzer then negates random predicates to generate new input constraints. These, when solved, produce inputs that explore paths that are close to the original path."
   ]
  },
  {
   "cell_type": "markdown",
   "metadata": {
    "slideshow": {
     "slide_type": "subslide"
    }
   },
   "source": [
    "### ConcolicTracer"
   ]
  },
  {
   "cell_type": "markdown",
   "metadata": {
    "slideshow": {
     "slide_type": "fragment"
    }
   },
   "source": [
    "At the heart of both fuzzers lies the concept of a _concolic tracer_, capturing symbolic variables and path conditions as a program gets executed.\n",
    "\n",
    "`ConcolicTracer` is used in a `with` block; the syntax `tracer[function]` executes `function` within the `tracer` while capturing conditions. Here is an example for the `cgi_decode()` function:"
   ]
  },
  {
   "cell_type": "code",
   "execution_count": 316,
   "metadata": {
    "execution": {
     "iopub.execute_input": "2022-01-05T17:28:15.381535Z",
     "iopub.status.busy": "2022-01-05T17:28:15.381016Z",
     "iopub.status.idle": "2022-01-05T17:28:15.384647Z",
     "shell.execute_reply": "2022-01-05T17:28:15.385074Z"
    },
    "slideshow": {
     "slide_type": "fragment"
    }
   },
   "outputs": [],
   "source": [
    "with ConcolicTracer() as _:\n",
    "    _[cgi_decode]('a%20d')"
   ]
  },
  {
   "cell_type": "markdown",
   "metadata": {
    "slideshow": {
     "slide_type": "fragment"
    }
   },
   "source": [
    "Once executed, we can retrieve the symbolic variables in the `decls` attribute. This is a mapping of symbolic variables to types."
   ]
  },
  {
   "cell_type": "code",
   "execution_count": 317,
   "metadata": {
    "execution": {
     "iopub.execute_input": "2022-01-05T17:28:15.388630Z",
     "iopub.status.busy": "2022-01-05T17:28:15.388049Z",
     "iopub.status.idle": "2022-01-05T17:28:15.390416Z",
     "shell.execute_reply": "2022-01-05T17:28:15.390786Z"
    },
    "slideshow": {
     "slide_type": "fragment"
    }
   },
   "outputs": [
    {
     "data": {
      "text/plain": [
       "{'cgi_decode_s_str_1': 'String'}"
      ]
     },
     "execution_count": 317,
     "metadata": {},
     "output_type": "execute_result"
    }
   ],
   "source": [
    "_.decls"
   ]
  },
  {
   "cell_type": "markdown",
   "metadata": {
    "slideshow": {
     "slide_type": "fragment"
    }
   },
   "source": [
    "The extracted path conditions can be found in the `path` attribute:"
   ]
  },
  {
   "cell_type": "code",
   "execution_count": 318,
   "metadata": {
    "execution": {
     "iopub.execute_input": "2022-01-05T17:28:15.393998Z",
     "iopub.status.busy": "2022-01-05T17:28:15.393467Z",
     "iopub.status.idle": "2022-01-05T17:28:15.402547Z",
     "shell.execute_reply": "2022-01-05T17:28:15.402928Z"
    },
    "slideshow": {
     "slide_type": "subslide"
    }
   },
   "outputs": [
    {
     "data": {
      "text/plain": [
       "[Not(str.substr(cgi_decode_s_str_1, 0, 1) == \"+\"),\n",
       " Not(str.substr(cgi_decode_s_str_1, 0, 1) == \"%\"),\n",
       " Not(str.substr(cgi_decode_s_str_1, 1, 1) == \"+\"),\n",
       " str.substr(cgi_decode_s_str_1, 1, 1) == \"%\",\n",
       " Not(str.substr(cgi_decode_s_str_1, 2, 1) == \"0\"),\n",
       " Not(str.substr(cgi_decode_s_str_1, 2, 1) == \"1\"),\n",
       " str.substr(cgi_decode_s_str_1, 2, 1) == \"2\",\n",
       " str.substr(cgi_decode_s_str_1, 3, 1) == \"0\",\n",
       " Not(str.substr(cgi_decode_s_str_1, 4, 1) == \"+\"),\n",
       " Not(str.substr(cgi_decode_s_str_1, 4, 1) == \"%\")]"
      ]
     },
     "execution_count": 318,
     "metadata": {},
     "output_type": "execute_result"
    }
   ],
   "source": [
    "_.path"
   ]
  },
  {
   "cell_type": "markdown",
   "metadata": {
    "slideshow": {
     "slide_type": "fragment"
    }
   },
   "source": [
    "The `context` attribute holds a pair of `decls` and `path` attributes; this is useful for passing it into the `ConcolicTracer` constructor."
   ]
  },
  {
   "cell_type": "code",
   "execution_count": 319,
   "metadata": {
    "execution": {
     "iopub.execute_input": "2022-01-05T17:28:15.406570Z",
     "iopub.status.busy": "2022-01-05T17:28:15.405941Z",
     "iopub.status.idle": "2022-01-05T17:28:15.407707Z",
     "shell.execute_reply": "2022-01-05T17:28:15.408313Z"
    },
    "slideshow": {
     "slide_type": "fragment"
    }
   },
   "outputs": [],
   "source": [
    "assert _.context == (_.decls, _.path)"
   ]
  },
  {
   "cell_type": "markdown",
   "metadata": {
    "slideshow": {
     "slide_type": "subslide"
    }
   },
   "source": [
    "We can solve these constraints to obtain a value for the function parameters that follow the same path as the original (traced) invocation:"
   ]
  },
  {
   "cell_type": "code",
   "execution_count": 320,
   "metadata": {
    "execution": {
     "iopub.execute_input": "2022-01-05T17:28:15.411865Z",
     "iopub.status.busy": "2022-01-05T17:28:15.411279Z",
     "iopub.status.idle": "2022-01-05T17:28:15.465785Z",
     "shell.execute_reply": "2022-01-05T17:28:15.466234Z"
    },
    "slideshow": {
     "slide_type": "fragment"
    }
   },
   "outputs": [
    {
     "data": {
      "text/plain": [
       "('sat', {'s': ('\\\\x00%20\\\\x00\\\\x00', 'String')})"
      ]
     },
     "execution_count": 320,
     "metadata": {},
     "output_type": "execute_result"
    }
   ],
   "source": [
    "_.zeval()"
   ]
  },
  {
   "cell_type": "markdown",
   "metadata": {
    "slideshow": {
     "slide_type": "fragment"
    }
   },
   "source": [
    "The `zeval()` function also allows to pass _alternate_ or _negated_ constraints. See the chapter for examples."
   ]
  },
  {
   "cell_type": "code",
   "execution_count": 321,
   "metadata": {
    "execution": {
     "iopub.execute_input": "2022-01-05T17:28:15.473255Z",
     "iopub.status.busy": "2022-01-05T17:28:15.472734Z",
     "iopub.status.idle": "2022-01-05T17:28:16.043869Z",
     "shell.execute_reply": "2022-01-05T17:28:16.044554Z"
    },
    "slideshow": {
     "slide_type": "fragment"
    }
   },
   "outputs": [
    {
     "data": {
      "image/svg+xml": "<?xml version=\"1.0\" encoding=\"UTF-8\" standalone=\"no\"?>\n<!DOCTYPE svg PUBLIC \"-//W3C//DTD SVG 1.1//EN\"\n \"http://www.w3.org/Graphics/SVG/1.1/DTD/svg11.dtd\">\n<!-- Generated by graphviz version 2.50.0 (20211204.2007)\n -->\n<!-- Pages: 1 -->\n<svg width=\"262pt\" height=\"128pt\"\n viewBox=\"0.00 0.00 261.50 128.00\" xmlns=\"http://www.w3.org/2000/svg\" xmlns:xlink=\"http://www.w3.org/1999/xlink\">\n<g id=\"graph0\" class=\"graph\" transform=\"scale(1 1) rotate(0) translate(4 124)\">\n<g id=\"a_graph0\"><a xlink:title=\"ConcolicTracer class hierarchy\">\n<polygon fill=\"white\" stroke=\"transparent\" points=\"-4,4 -4,-124 257.5,-124 257.5,4 -4,4\"/>\n</a>\n</g>\n<!-- ConcolicTracer -->\n<g id=\"node1\" class=\"node\">\n<title>ConcolicTracer</title>\n<g id=\"a_node1\"><a xlink:href=\"#\" xlink:title=\"class ConcolicTracer:&#10;Trace function execution, tracking variables and path conditions\">\n<polygon fill=\"none\" stroke=\"black\" points=\"0,-0.5 0,-119.5 115,-119.5 115,-0.5 0,-0.5\"/>\n<text text-anchor=\"start\" x=\"8\" y=\"-105.3\" font-family=\"Patua One, Helvetica, sans-serif\" font-weight=\"bold\" font-size=\"14.00\" fill=\"#b03a2e\">ConcolicTracer</text>\n<polyline fill=\"none\" stroke=\"black\" points=\"0,-96.5 115,-96.5 \"/>\n<g id=\"a_node1_0\"><a xlink:href=\"#\" xlink:title=\"ConcolicTracer\">\n<g id=\"a_node1_1\"><a xlink:href=\"#\" xlink:title=\"__call__(self, *args):&#10;Call self as a function.\">\n<text text-anchor=\"start\" x=\"18.5\" y=\"-85.5\" font-family=\"'Fira Mono', 'Source Code Pro', 'Courier', monospace\" font-weight=\"bold\" font-size=\"10.00\">__call__()</text>\n</a>\n</g>\n<g id=\"a_node1_2\"><a xlink:href=\"#\" xlink:title=\"__init__(self, context=None):&#10;Constructor.\">\n<text text-anchor=\"start\" x=\"18.5\" y=\"-74.5\" font-family=\"'Fira Mono', 'Source Code Pro', 'Courier', monospace\" font-weight=\"bold\" font-size=\"10.00\">__init__()</text>\n</a>\n</g>\n<g id=\"a_node1_3\"><a xlink:href=\"#\" xlink:title=\"zeval(self, predicates=None, *, python=False, log=False):&#10;Evaluate `predicates` in current context.&#10;&#45; If `python` is set, use the z3 Python API; otherwise use z3 standalone.&#10;&#45; If `log` is set, show input to z3.&#10;Return a pair (`result`, `solution`) where&#10;&#45; `result` is either `&#39;sat&#39;` (satisfiable); then&#10;solution` is a mapping of variables to (value, type) pairs; or&#10;&#45; `result` is not `&#39;sat&#39;`, indicating an error; then `solution` is `None`\">\n<text text-anchor=\"start\" x=\"18.5\" y=\"-63.5\" font-family=\"'Fira Mono', 'Source Code Pro', 'Courier', monospace\" font-weight=\"bold\" font-size=\"10.00\">zeval()</text>\n</a>\n</g>\n<g id=\"a_node1_4\"><a xlink:href=\"#\" xlink:title=\"__enter__(self)\">\n<text text-anchor=\"start\" x=\"18.5\" y=\"-51.5\" font-family=\"'Fira Mono', 'Source Code Pro', 'Courier', monospace\" font-size=\"10.00\">__enter__()</text>\n</a>\n</g>\n<g id=\"a_node1_5\"><a xlink:href=\"#\" xlink:title=\"__exit__(self, exc_type, exc_value, tb)\">\n<text text-anchor=\"start\" x=\"18.5\" y=\"-40.5\" font-family=\"'Fira Mono', 'Source Code Pro', 'Courier', monospace\" font-size=\"10.00\">__exit__()</text>\n</a>\n</g>\n<g id=\"a_node1_6\"><a xlink:href=\"#\" xlink:title=\"__getitem__(self, fn)\">\n<text text-anchor=\"start\" x=\"18.5\" y=\"-29.5\" font-family=\"'Fira Mono', 'Source Code Pro', 'Courier', monospace\" font-size=\"10.00\">__getitem__()</text>\n</a>\n</g>\n<g id=\"a_node1_7\"><a xlink:href=\"#\" xlink:title=\"concolic(self, args)\">\n<text text-anchor=\"start\" x=\"18.5\" y=\"-18.5\" font-family=\"'Fira Mono', 'Source Code Pro', 'Courier', monospace\" font-size=\"10.00\">concolic()</text>\n</a>\n</g>\n<g id=\"a_node1_8\"><a xlink:href=\"#\" xlink:title=\"smt_expr(self, show_decl=False, simplify=False, path=[])\">\n<text text-anchor=\"start\" x=\"18.5\" y=\"-7.5\" font-family=\"'Fira Mono', 'Source Code Pro', 'Courier', monospace\" font-size=\"10.00\">smt_expr()</text>\n</a>\n</g>\n</a>\n</g>\n</a>\n</g>\n</g>\n<!-- Legend -->\n<g id=\"node2\" class=\"node\">\n<title>Legend</title>\n<text text-anchor=\"start\" x=\"133.5\" y=\"-77.5\" font-family=\"Patua One, Helvetica, sans-serif\" font-weight=\"bold\" font-size=\"10.00\" fill=\"#b03a2e\">Legend</text>\n<text text-anchor=\"start\" x=\"133.5\" y=\"-67.5\" font-family=\"Patua One, Helvetica, sans-serif\" font-size=\"10.00\">• </text>\n<text text-anchor=\"start\" x=\"140.5\" y=\"-67.5\" font-family=\"'Fira Mono', 'Source Code Pro', 'Courier', monospace\" font-weight=\"bold\" font-size=\"8.00\">public_method()</text>\n<text text-anchor=\"start\" x=\"133.5\" y=\"-57.5\" font-family=\"Patua One, Helvetica, sans-serif\" font-size=\"10.00\">• </text>\n<text text-anchor=\"start\" x=\"140.5\" y=\"-57.5\" font-family=\"'Fira Mono', 'Source Code Pro', 'Courier', monospace\" font-size=\"8.00\">private_method()</text>\n<text text-anchor=\"start\" x=\"133.5\" y=\"-47.5\" font-family=\"Patua One, Helvetica, sans-serif\" font-size=\"10.00\">• </text>\n<text text-anchor=\"start\" x=\"140.5\" y=\"-47.5\" font-family=\"'Fira Mono', 'Source Code Pro', 'Courier', monospace\" font-style=\"italic\" font-size=\"8.00\">overloaded_method()</text>\n<text text-anchor=\"start\" x=\"133.5\" y=\"-38.3\" font-family=\"Helvetica,sans-Serif\" font-size=\"9.00\">Hover over names to see doc</text>\n</g>\n</g>\n</svg>\n",
      "text/plain": [
       "<graphviz.graphs.Digraph at 0x181ad9b20>"
      ]
     },
     "execution_count": 321,
     "metadata": {},
     "output_type": "execute_result"
    }
   ],
   "source": [
    "# ignore\n",
    "from ClassDiagram import display_class_hierarchy\n",
    "display_class_hierarchy(ConcolicTracer)"
   ]
  },
  {
   "cell_type": "markdown",
   "metadata": {
    "slideshow": {
     "slide_type": "subslide"
    }
   },
   "source": [
    "### SimpleConcolicFuzzer"
   ]
  },
  {
   "cell_type": "markdown",
   "metadata": {
    "slideshow": {
     "slide_type": "fragment"
    }
   },
   "source": [
    "The constraints obtained from `ConcolicTracer` are added to the concolic fuzzer as follows:"
   ]
  },
  {
   "cell_type": "code",
   "execution_count": 322,
   "metadata": {
    "execution": {
     "iopub.execute_input": "2022-01-05T17:28:16.051244Z",
     "iopub.status.busy": "2022-01-05T17:28:16.050010Z",
     "iopub.status.idle": "2022-01-05T17:28:16.059283Z",
     "shell.execute_reply": "2022-01-05T17:28:16.059845Z"
    },
    "slideshow": {
     "slide_type": "fragment"
    }
   },
   "outputs": [],
   "source": [
    "scf = SimpleConcolicFuzzer()\n",
    "scf.add_trace(_, 'a%20d')"
   ]
  },
  {
   "cell_type": "markdown",
   "metadata": {
    "slideshow": {
     "slide_type": "fragment"
    }
   },
   "source": [
    "The concolic fuzzer then uses the constraints added to guide its fuzzing as follows:"
   ]
  },
  {
   "cell_type": "code",
   "execution_count": 323,
   "metadata": {
    "execution": {
     "iopub.execute_input": "2022-01-05T17:28:16.065587Z",
     "iopub.status.busy": "2022-01-05T17:28:16.064987Z",
     "iopub.status.idle": "2022-01-05T17:28:20.043916Z",
     "shell.execute_reply": "2022-01-05T17:28:20.044411Z"
    },
    "slideshow": {
     "slide_type": "subslide"
    }
   },
   "outputs": [
    {
     "name": "stdout",
     "output_type": "stream",
     "text": [
      "' '\n",
      "'+\\\\x00'\n",
      "'+\\\\x00%\\\\x00'\n"
     ]
    },
    {
     "name": "stderr",
     "output_type": "stream",
     "text": [
      "ValueError: Invalid encoding (expected)\n",
      "ValueError: Invalid encoding (expected)\n"
     ]
    },
    {
     "name": "stdout",
     "output_type": "stream",
     "text": [
      "'+\\\\x00\\\\x11\\\\x80\\\\x81%0\\\\x00'\n",
      "'+\\\\x00\\\\x00\\\\x00\\\\x00%\\\\x00c\\\\x00'\n"
     ]
    },
    {
     "name": "stderr",
     "output_type": "stream",
     "text": [
      "ValueError: Invalid encoding (expected)\n"
     ]
    },
    {
     "name": "stdout",
     "output_type": "stream",
     "text": [
      "'+\\\\x00\\\\x00\\\\x00\\\\x00%\\\\x002\\\\x00'\n",
      "'+\\\\x00\\\\x00\\\\x00\\\\x00%\\\\x00A\\\\x00'\n"
     ]
    },
    {
     "name": "stderr",
     "output_type": "stream",
     "text": [
      "ValueError: Invalid encoding (expected)\n",
      "ValueError: Invalid encoding (expected)\n"
     ]
    },
    {
     "name": "stdout",
     "output_type": "stream",
     "text": [
      "'+\\\\x00\\\\x11\\\\x80\\\\x81%3\\\\x00'\n",
      "'+\\\\x00\\\\x00\\\\x00\\\\x00%\\\\x006\\\\x00'\n"
     ]
    },
    {
     "name": "stderr",
     "output_type": "stream",
     "text": [
      "ValueError: Invalid encoding (expected)\n",
      "ValueError: Invalid encoding (expected)\n"
     ]
    },
    {
     "name": "stdout",
     "output_type": "stream",
     "text": [
      "'+\\\\x00\\\\x11\\\\x80\\\\x81%d\\\\x00'\n"
     ]
    },
    {
     "name": "stderr",
     "output_type": "stream",
     "text": [
      "ValueError: Invalid encoding (expected)\n"
     ]
    },
    {
     "name": "stdout",
     "output_type": "stream",
     "text": [
      "'+\\\\x00\\\\x11\\\\x80\\\\x81%1\\\\x00'\n"
     ]
    },
    {
     "name": "stderr",
     "output_type": "stream",
     "text": [
      "ValueError: Invalid encoding (expected)\n"
     ]
    },
    {
     "name": "stdout",
     "output_type": "stream",
     "text": [
      "'+\\\\x00\\\\x11\\\\x80\\\\x81%A\\\\x00'\n"
     ]
    },
    {
     "name": "stderr",
     "output_type": "stream",
     "text": [
      "ValueError: Invalid encoding (expected)\n"
     ]
    },
    {
     "name": "stdout",
     "output_type": "stream",
     "text": [
      "'+\\\\x00\\\\x00\\\\x00\\\\x00%\\\\x00F\\\\x00'\n"
     ]
    },
    {
     "name": "stderr",
     "output_type": "stream",
     "text": [
      "ValueError: Invalid encoding (expected)\n"
     ]
    },
    {
     "name": "stdout",
     "output_type": "stream",
     "text": [
      "'+\\\\x00\\\\x00\\\\x00\\\\x00\\\\x00\\\\x00\\\\x00\\\\x00\\\\x00%\\\\x00'\n"
     ]
    },
    {
     "name": "stderr",
     "output_type": "stream",
     "text": [
      "ValueError: Invalid encoding (expected)\n"
     ]
    },
    {
     "name": "stdout",
     "output_type": "stream",
     "text": [
      "'+\\\\x00\\\\x11\\\\x80\\\\x81%c\\\\x00'\n"
     ]
    },
    {
     "name": "stderr",
     "output_type": "stream",
     "text": [
      "ValueError: Invalid encoding (expected)\n"
     ]
    },
    {
     "name": "stdout",
     "output_type": "stream",
     "text": [
      "'+\\\\x00\\\\x11\\\\x80\\\\x81%1\\\\x00'\n"
     ]
    },
    {
     "name": "stderr",
     "output_type": "stream",
     "text": [
      "ValueError: Invalid encoding (expected)\n"
     ]
    },
    {
     "name": "stdout",
     "output_type": "stream",
     "text": [
      "'+\\\\x00\\\\x00+\\\\x00'\n",
      "'+\\\\x00\\\\x11\\\\x80\\\\x81%b\\\\x00'\n"
     ]
    },
    {
     "name": "stderr",
     "output_type": "stream",
     "text": [
      "ValueError: Invalid encoding (expected)\n"
     ]
    },
    {
     "name": "stdout",
     "output_type": "stream",
     "text": [
      "'+\\\\x00\\\\x00\\\\x00\\\\x00%\\\\x002\\\\x00'\n",
      "'+\\\\x00\\\\x00\\\\x00+\\\\x00'\n"
     ]
    },
    {
     "name": "stderr",
     "output_type": "stream",
     "text": [
      "ValueError: Invalid encoding (expected)\n"
     ]
    }
   ],
   "source": [
    "scf = SimpleConcolicFuzzer()\n",
    "for i in range(20):\n",
    "    v = scf.fuzz()\n",
    "    if v is None:\n",
    "        break\n",
    "    print(repr(v))\n",
    "    with ExpectError(print_traceback=False):\n",
    "        with ConcolicTracer() as _:\n",
    "            _[cgi_decode](v)\n",
    "    scf.add_trace(_, v)"
   ]
  },
  {
   "cell_type": "markdown",
   "metadata": {
    "slideshow": {
     "slide_type": "subslide"
    }
   },
   "source": [
    "We see how the additional inputs generated explore additional paths."
   ]
  },
  {
   "cell_type": "code",
   "execution_count": 324,
   "metadata": {
    "execution": {
     "iopub.execute_input": "2022-01-05T17:28:20.054968Z",
     "iopub.status.busy": "2022-01-05T17:28:20.054083Z",
     "iopub.status.idle": "2022-01-05T17:28:20.506356Z",
     "shell.execute_reply": "2022-01-05T17:28:20.506792Z"
    },
    "slideshow": {
     "slide_type": "fragment"
    }
   },
   "outputs": [
    {
     "data": {
      "image/svg+xml": "<?xml version=\"1.0\" encoding=\"UTF-8\" standalone=\"no\"?>\n<!DOCTYPE svg PUBLIC \"-//W3C//DTD SVG 1.1//EN\"\n \"http://www.w3.org/Graphics/SVG/1.1/DTD/svg11.dtd\">\n<!-- Generated by graphviz version 2.50.0 (20211204.2007)\n -->\n<!-- Pages: 1 -->\n<svg width=\"308pt\" height=\"207pt\"\n viewBox=\"0.00 0.00 307.50 207.00\" xmlns=\"http://www.w3.org/2000/svg\" xmlns:xlink=\"http://www.w3.org/1999/xlink\">\n<g id=\"graph0\" class=\"graph\" transform=\"scale(1 1) rotate(0) translate(4 203)\">\n<g id=\"a_graph0\"><a xlink:title=\"SimpleConcolicFuzzer class hierarchy\">\n<polygon fill=\"white\" stroke=\"transparent\" points=\"-4,4 -4,-203 303.5,-203 303.5,4 -4,4\"/>\n</a>\n</g>\n<!-- SimpleConcolicFuzzer -->\n<g id=\"node1\" class=\"node\">\n<title>SimpleConcolicFuzzer</title>\n<g id=\"a_node1\"><a xlink:href=\"#\" xlink:title=\"class SimpleConcolicFuzzer:&#10;Base class for fuzzers.\">\n<polygon fill=\"none\" stroke=\"black\" points=\"0,-0.5 0,-86.5 161,-86.5 161,-0.5 0,-0.5\"/>\n<text text-anchor=\"start\" x=\"8\" y=\"-72.3\" font-family=\"Patua One, Helvetica, sans-serif\" font-weight=\"bold\" font-size=\"14.00\" fill=\"#b03a2e\">SimpleConcolicFuzzer</text>\n<polyline fill=\"none\" stroke=\"black\" points=\"0,-63.5 161,-63.5 \"/>\n<g id=\"a_node1_0\"><a xlink:href=\"#\" xlink:title=\"SimpleConcolicFuzzer\">\n<g id=\"a_node1_1\"><a xlink:href=\"#\" xlink:title=\"__init__(self):&#10;Constructor\">\n<text text-anchor=\"start\" x=\"41.5\" y=\"-52\" font-family=\"'Fira Mono', 'Source Code Pro', 'Courier', monospace\" font-weight=\"bold\" font-style=\"italic\" font-size=\"10.00\">__init__()</text>\n</a>\n</g>\n<g id=\"a_node1_2\"><a xlink:href=\"#\" xlink:title=\"fuzz(self):&#10;Return fuzz input\">\n<text text-anchor=\"start\" x=\"41.5\" y=\"-41\" font-family=\"'Fira Mono', 'Source Code Pro', 'Courier', monospace\" font-weight=\"bold\" font-style=\"italic\" font-size=\"10.00\">fuzz()</text>\n</a>\n</g>\n<g id=\"a_node1_3\"><a xlink:href=\"#\" xlink:title=\"add_trace(self, trace, s)\">\n<text text-anchor=\"start\" x=\"41.5\" y=\"-29\" font-family=\"'Fira Mono', 'Source Code Pro', 'Courier', monospace\" font-size=\"10.00\">add_trace()</text>\n</a>\n</g>\n<g id=\"a_node1_4\"><a xlink:href=\"#\" xlink:title=\"get_newpath(self)\">\n<text text-anchor=\"start\" x=\"41.5\" y=\"-18\" font-family=\"'Fira Mono', 'Source Code Pro', 'Courier', monospace\" font-size=\"10.00\">get_newpath()</text>\n</a>\n</g>\n<g id=\"a_node1_5\"><a xlink:href=\"#\" xlink:title=\"next_choice(self)\">\n<text text-anchor=\"start\" x=\"41.5\" y=\"-7\" font-family=\"'Fira Mono', 'Source Code Pro', 'Courier', monospace\" font-size=\"10.00\">next_choice()</text>\n</a>\n</g>\n</a>\n</g>\n</a>\n</g>\n</g>\n<!-- Fuzzer -->\n<g id=\"node2\" class=\"node\">\n<title>Fuzzer</title>\n<g id=\"a_node2\"><a xlink:href=\"Fuzzer.ipynb\" xlink:title=\"class Fuzzer:&#10;Base class for fuzzers.\">\n<polygon fill=\"none\" stroke=\"black\" points=\"42,-123.5 42,-198.5 119,-198.5 119,-123.5 42,-123.5\"/>\n<text text-anchor=\"start\" x=\"59\" y=\"-184.3\" font-family=\"Patua One, Helvetica, sans-serif\" font-weight=\"bold\" font-size=\"14.00\" fill=\"#b03a2e\">Fuzzer</text>\n<polyline fill=\"none\" stroke=\"black\" points=\"42,-175.5 119,-175.5 \"/>\n<g id=\"a_node2_6\"><a xlink:href=\"#\" xlink:title=\"Fuzzer\">\n<g id=\"a_node2_7\"><a xlink:href=\"Fuzzer.ipynb\" xlink:title=\"__init__(self) &#45;&gt; None:&#10;Constructor\">\n<text text-anchor=\"start\" x=\"50.5\" y=\"-164.5\" font-family=\"'Fira Mono', 'Source Code Pro', 'Courier', monospace\" font-weight=\"bold\" font-style=\"italic\" font-size=\"10.00\">__init__()</text>\n</a>\n</g>\n<g id=\"a_node2_8\"><a xlink:href=\"Fuzzer.ipynb\" xlink:title=\"fuzz(self) &#45;&gt; str:&#10;Return fuzz input\">\n<text text-anchor=\"start\" x=\"50.5\" y=\"-153.5\" font-family=\"'Fira Mono', 'Source Code Pro', 'Courier', monospace\" font-weight=\"bold\" font-style=\"italic\" font-size=\"10.00\">fuzz()</text>\n</a>\n</g>\n<g id=\"a_node2_9\"><a xlink:href=\"Fuzzer.ipynb\" xlink:title=\"run(self, runner: Fuzzer.Runner = &lt;Fuzzer.Runner object at 0x10ee235b0&gt;) &#45;&gt; Tuple[subprocess.CompletedProcess, str]:&#10;Run `runner` with fuzz input\">\n<text text-anchor=\"start\" x=\"50.5\" y=\"-142.5\" font-family=\"'Fira Mono', 'Source Code Pro', 'Courier', monospace\" font-weight=\"bold\" font-size=\"10.00\">run()</text>\n</a>\n</g>\n<g id=\"a_node2_10\"><a xlink:href=\"Fuzzer.ipynb\" xlink:title=\"runs(self, runner: Fuzzer.Runner = &lt;Fuzzer.PrintRunner object at 0x10ee23ee0&gt;, trials: int = 10) &#45;&gt; List[Tuple[subprocess.CompletedProcess, str]]:&#10;Run `runner` with fuzz input, `trials` times\">\n<text text-anchor=\"start\" x=\"50.5\" y=\"-131.5\" font-family=\"'Fira Mono', 'Source Code Pro', 'Courier', monospace\" font-weight=\"bold\" font-size=\"10.00\">runs()</text>\n</a>\n</g>\n</a>\n</g>\n</a>\n</g>\n</g>\n<!-- SimpleConcolicFuzzer&#45;&gt;Fuzzer -->\n<g id=\"edge1\" class=\"edge\">\n<title>SimpleConcolicFuzzer&#45;&gt;Fuzzer</title>\n<path fill=\"none\" stroke=\"black\" d=\"M80.5,-86.52C80.5,-95.15 80.5,-104.28 80.5,-113.06\"/>\n<polygon fill=\"none\" stroke=\"black\" points=\"77,-113.16 80.5,-123.16 84,-113.16 77,-113.16\"/>\n</g>\n<!-- Legend -->\n<g id=\"node3\" class=\"node\">\n<title>Legend</title>\n<text text-anchor=\"start\" x=\"179.5\" y=\"-61\" font-family=\"Patua One, Helvetica, sans-serif\" font-weight=\"bold\" font-size=\"10.00\" fill=\"#b03a2e\">Legend</text>\n<text text-anchor=\"start\" x=\"179.5\" y=\"-51\" font-family=\"Patua One, Helvetica, sans-serif\" font-size=\"10.00\">• </text>\n<text text-anchor=\"start\" x=\"186.5\" y=\"-51\" font-family=\"'Fira Mono', 'Source Code Pro', 'Courier', monospace\" font-weight=\"bold\" font-size=\"8.00\">public_method()</text>\n<text text-anchor=\"start\" x=\"179.5\" y=\"-41\" font-family=\"Patua One, Helvetica, sans-serif\" font-size=\"10.00\">• </text>\n<text text-anchor=\"start\" x=\"186.5\" y=\"-41\" font-family=\"'Fira Mono', 'Source Code Pro', 'Courier', monospace\" font-size=\"8.00\">private_method()</text>\n<text text-anchor=\"start\" x=\"179.5\" y=\"-31\" font-family=\"Patua One, Helvetica, sans-serif\" font-size=\"10.00\">• </text>\n<text text-anchor=\"start\" x=\"186.5\" y=\"-31\" font-family=\"'Fira Mono', 'Source Code Pro', 'Courier', monospace\" font-style=\"italic\" font-size=\"8.00\">overloaded_method()</text>\n<text text-anchor=\"start\" x=\"179.5\" y=\"-21.8\" font-family=\"Helvetica,sans-Serif\" font-size=\"9.00\">Hover over names to see doc</text>\n</g>\n</g>\n</svg>\n",
      "text/plain": [
       "<graphviz.graphs.Digraph at 0x167c40700>"
      ]
     },
     "execution_count": 324,
     "metadata": {},
     "output_type": "execute_result"
    }
   ],
   "source": [
    "# ignore\n",
    "display_class_hierarchy(SimpleConcolicFuzzer)"
   ]
  },
  {
   "cell_type": "markdown",
   "metadata": {
    "slideshow": {
     "slide_type": "subslide"
    }
   },
   "source": [
    "### ConcolicGrammarFuzzer\n",
    "\n",
    "The `SimpleConcolicFuzzer` simply explores all paths near the original path traversed by the sample input. It uses a simple mechanism to explore the paths that are near the paths that it knows about, and other than code paths, knows nothing about the input.\n",
    "\n",
    "The `ConcolicGrammarFuzzer` on the other hand, knows about the input grammar, and can collect feedback from the subject under fuzzing. It can lift some of the constraints encountered to the grammar, enabling deeper fuzzing. It is used as follows:"
   ]
  },
  {
   "cell_type": "code",
   "execution_count": 325,
   "metadata": {
    "execution": {
     "iopub.execute_input": "2022-01-05T17:28:20.511705Z",
     "iopub.status.busy": "2022-01-05T17:28:20.511191Z",
     "iopub.status.idle": "2022-01-05T17:28:20.512876Z",
     "shell.execute_reply": "2022-01-05T17:28:20.513241Z"
    },
    "slideshow": {
     "slide_type": "skip"
    }
   },
   "outputs": [],
   "source": [
    "from InformationFlow import INVENTORY_GRAMMAR, SQLException"
   ]
  },
  {
   "cell_type": "code",
   "execution_count": 326,
   "metadata": {
    "execution": {
     "iopub.execute_input": "2022-01-05T17:28:20.527773Z",
     "iopub.status.busy": "2022-01-05T17:28:20.527271Z",
     "iopub.status.idle": "2022-01-05T17:28:20.807001Z",
     "shell.execute_reply": "2022-01-05T17:28:20.807447Z"
    },
    "slideshow": {
     "slide_type": "subslide"
    }
   },
   "outputs": [
    {
     "name": "stdout",
     "output_type": "stream",
     "text": [
      "insert into X4R2x_ (x09,j4,E,O,L) values ('_')\n",
      "Table ('X4R2x_') was not found\n",
      "\n",
      "delete from A2 where cc!=58\n",
      "Table ('A2') was not found\n",
      "\n",
      "update LH set u=b3 where T-m>U-O/h\n",
      "Table ('LH') was not found\n",
      "\n",
      "delete from ln where t+Y-s/k-Q(h)+M/G>---3.2\n",
      "Table ('ln') was not found\n",
      "\n",
      "select H,65 from OGt8X64w\n",
      "Table ('OGt8X64w') was not found\n",
      "\n",
      "select (k/Q+n/k/c-o*k/V*t-n) from p7\n",
      "Table ('p7') was not found\n",
      "\n",
      "insert into vehicles (.9) values ('T|gi','O',1.86,-501.9,0.1,48199462.8)\n",
      "Column ('.9') was not found\n",
      "\n",
      "select w<O/X-S from vehicles where Y/b>Z*K*Z*B\n",
      "Invalid WHERE ('(Y/b>Z*K*Z*B)')\n",
      "\n",
      "insert into months (model) values (5.0,25,4.0,'/')\n",
      "Column ('model') was not found\n",
      "\n",
      "update vehicles set name=kN,kind=a,name=O where (S<S(Q))==I+t<z\n",
      "Column ('name') was not found\n",
      "\n"
     ]
    }
   ],
   "source": [
    "cgf = ConcolicGrammarFuzzer(INVENTORY_GRAMMAR)\n",
    "cgf.prune_tokens(prune_tokens)\n",
    "for i in range(10):\n",
    "    query = cgf.fuzz()\n",
    "    print(query)\n",
    "    with ConcolicTracer() as _:\n",
    "        with ExpectError(print_traceback=False):\n",
    "            try:\n",
    "                res = _[db_select](query)\n",
    "                print(repr(res))\n",
    "            except SQLException as e:\n",
    "                print(e)\n",
    "        cgf.update_grammar(_)\n",
    "        print()"
   ]
  },
  {
   "cell_type": "code",
   "execution_count": 327,
   "metadata": {
    "execution": {
     "iopub.execute_input": "2022-01-05T17:28:20.821157Z",
     "iopub.status.busy": "2022-01-05T17:28:20.820428Z",
     "iopub.status.idle": "2022-01-05T17:28:21.301616Z",
     "shell.execute_reply": "2022-01-05T17:28:21.302048Z"
    },
    "slideshow": {
     "slide_type": "subslide"
    }
   },
   "outputs": [
    {
     "data": {
      "image/svg+xml": "<?xml version=\"1.0\" encoding=\"UTF-8\" standalone=\"no\"?>\n<!DOCTYPE svg PUBLIC \"-//W3C//DTD SVG 1.1//EN\"\n \"http://www.w3.org/Graphics/SVG/1.1/DTD/svg11.dtd\">\n<!-- Generated by graphviz version 2.50.0 (20211204.2007)\n -->\n<!-- Pages: 1 -->\n<svg width=\"326pt\" height=\"539pt\"\n viewBox=\"0.00 0.00 325.50 539.00\" xmlns=\"http://www.w3.org/2000/svg\" xmlns:xlink=\"http://www.w3.org/1999/xlink\">\n<g id=\"graph0\" class=\"graph\" transform=\"scale(1 1) rotate(0) translate(4 535)\">\n<g id=\"a_graph0\"><a xlink:title=\"ConcolicGrammarFuzzer class hierarchy\">\n<polygon fill=\"white\" stroke=\"transparent\" points=\"-4,4 -4,-535 321.5,-535 321.5,4 -4,4\"/>\n</a>\n</g>\n<!-- ConcolicGrammarFuzzer -->\n<g id=\"node1\" class=\"node\">\n<title>ConcolicGrammarFuzzer</title>\n<g id=\"a_node1\"><a xlink:href=\"#\" xlink:title=\"class ConcolicGrammarFuzzer:&#10;Produce strings from grammars efficiently, using derivation trees.\">\n<polygon fill=\"none\" stroke=\"black\" points=\"0,-0.5 0,-97.5 179,-97.5 179,-0.5 0,-0.5\"/>\n<text text-anchor=\"start\" x=\"8\" y=\"-83.3\" font-family=\"Patua One, Helvetica, sans-serif\" font-weight=\"bold\" font-size=\"14.00\" fill=\"#b03a2e\">ConcolicGrammarFuzzer</text>\n<polyline fill=\"none\" stroke=\"black\" points=\"0,-74.5 179,-74.5 \"/>\n<g id=\"a_node1_0\"><a xlink:href=\"#\" xlink:title=\"ConcolicGrammarFuzzer\">\n<g id=\"a_node1_1\"><a xlink:href=\"#\" xlink:title=\"fuzz(self):&#10;Produce a string from the grammar.\">\n<text text-anchor=\"start\" x=\"41.5\" y=\"-63.5\" font-family=\"'Fira Mono', 'Source Code Pro', 'Courier', monospace\" font-weight=\"bold\" font-style=\"italic\" font-size=\"10.00\">fuzz()</text>\n</a>\n</g>\n<g id=\"a_node1_2\"><a xlink:href=\"#\" xlink:title=\"coalesce(self, children)\">\n<text text-anchor=\"start\" x=\"41.5\" y=\"-51.5\" font-family=\"'Fira Mono', 'Source Code Pro', 'Courier', monospace\" font-size=\"10.00\">coalesce()</text>\n</a>\n</g>\n<g id=\"a_node1_3\"><a xlink:href=\"#\" xlink:title=\"prune_tokens(self, tokens)\">\n<text text-anchor=\"start\" x=\"41.5\" y=\"-40.5\" font-family=\"'Fira Mono', 'Source Code Pro', 'Courier', monospace\" font-size=\"10.00\">prune_tokens()</text>\n</a>\n</g>\n<g id=\"a_node1_4\"><a xlink:href=\"#\" xlink:title=\"prune_tree(self, tree, tokens)\">\n<text text-anchor=\"start\" x=\"41.5\" y=\"-29.5\" font-family=\"'Fira Mono', 'Source Code Pro', 'Courier', monospace\" font-size=\"10.00\">prune_tree()</text>\n</a>\n</g>\n<g id=\"a_node1_5\"><a xlink:href=\"#\" xlink:title=\"tree_to_string(self, tree)\">\n<text text-anchor=\"start\" x=\"41.5\" y=\"-18.5\" font-family=\"'Fira Mono', 'Source Code Pro', 'Courier', monospace\" font-size=\"10.00\">tree_to_string()</text>\n</a>\n</g>\n<g id=\"a_node1_6\"><a xlink:href=\"#\" xlink:title=\"update_grammar(self, trace)\">\n<text text-anchor=\"start\" x=\"41.5\" y=\"-7.5\" font-family=\"'Fira Mono', 'Source Code Pro', 'Courier', monospace\" font-size=\"10.00\">update_grammar()</text>\n</a>\n</g>\n</a>\n</g>\n</a>\n</g>\n</g>\n<!-- GrammarFuzzer -->\n<g id=\"node2\" class=\"node\">\n<title>GrammarFuzzer</title>\n<g id=\"a_node2\"><a xlink:href=\"GrammarFuzzer.ipynb\" xlink:title=\"class GrammarFuzzer:&#10;Produce strings from grammars efficiently, using derivation trees.\">\n<polygon fill=\"none\" stroke=\"black\" points=\"0,-134.5 0,-418.5 179,-418.5 179,-134.5 0,-134.5\"/>\n<text text-anchor=\"start\" x=\"36.5\" y=\"-404.3\" font-family=\"Patua One, Helvetica, sans-serif\" font-weight=\"bold\" font-size=\"14.00\" fill=\"#b03a2e\">GrammarFuzzer</text>\n<polyline fill=\"none\" stroke=\"black\" points=\"0,-395.5 179,-395.5 \"/>\n<g id=\"a_node2_7\"><a xlink:href=\"#\" xlink:title=\"GrammarFuzzer\">\n<g id=\"a_node2_8\"><a xlink:href=\"GrammarFuzzer.ipynb\" xlink:title=\"__init__(self, grammar: Dict[str, List[Union[str, Tuple[str, Dict[str, Any]]]]], start_symbol: str = &#39;&lt;start&gt;&#39;, min_nonterminals: int = 0, max_nonterminals: int = 10, disp: bool = False, log: Union[bool, int] = False) &#45;&gt; None:&#10;Produce strings from `grammar`, starting with `start_symbol`.&#10;If `min_nonterminals` or `max_nonterminals` is given, use them as limits&#10;for the number of nonterminals produced.&#10;If `disp` is set, display the intermediate derivation trees.&#10;If `log` is set, show intermediate steps as text on standard output.\">\n<text text-anchor=\"start\" x=\"8.5\" y=\"-384\" font-family=\"'Fira Mono', 'Source Code Pro', 'Courier', monospace\" font-weight=\"bold\" font-style=\"italic\" font-size=\"10.00\">__init__()</text>\n</a>\n</g>\n<g id=\"a_node2_9\"><a xlink:href=\"GrammarFuzzer.ipynb\" xlink:title=\"check_grammar(self) &#45;&gt; None:&#10;Check the grammar passed\">\n<text text-anchor=\"start\" x=\"8.5\" y=\"-373\" font-family=\"'Fira Mono', 'Source Code Pro', 'Courier', monospace\" font-weight=\"bold\" font-size=\"10.00\">check_grammar()</text>\n</a>\n</g>\n<g id=\"a_node2_10\"><a xlink:href=\"GrammarFuzzer.ipynb\" xlink:title=\"choose_node_expansion(self, node: Tuple[str, Optional[List[Any]]], children_alternatives: List[List[Tuple[str, Optional[List[Any]]]]]) &#45;&gt; int:&#10;Return index of expansion in `children_alternatives` to be selected.&#10;&#39;children_alternatives`: a list of possible children for `node`.&#10;Defaults to random. To be overloaded in subclasses.\">\n<text text-anchor=\"start\" x=\"8.5\" y=\"-362\" font-family=\"'Fira Mono', 'Source Code Pro', 'Courier', monospace\" font-weight=\"bold\" font-style=\"italic\" font-size=\"10.00\">choose_node_expansion()</text>\n</a>\n</g>\n<g id=\"a_node2_11\"><a xlink:href=\"GrammarFuzzer.ipynb\" xlink:title=\"choose_tree_expansion(self, tree: Tuple[str, Optional[List[Any]]], children: List[Tuple[str, Optional[List[Any]]]]) &#45;&gt; int:&#10;Return index of subtree in `children` to be selected for expansion.&#10;Defaults to random.\">\n<text text-anchor=\"start\" x=\"8.5\" y=\"-351\" font-family=\"'Fira Mono', 'Source Code Pro', 'Courier', monospace\" font-weight=\"bold\" font-size=\"10.00\">choose_tree_expansion()</text>\n</a>\n</g>\n<g id=\"a_node2_12\"><a xlink:href=\"GrammarFuzzer.ipynb\" xlink:title=\"expand_node_randomly(self, node: Tuple[str, Optional[List[Any]]]) &#45;&gt; Tuple[str, Optional[List[Any]]]:&#10;Choose a random expansion for `node` and return it\">\n<text text-anchor=\"start\" x=\"8.5\" y=\"-340\" font-family=\"'Fira Mono', 'Source Code Pro', 'Courier', monospace\" font-weight=\"bold\" font-size=\"10.00\">expand_node_randomly()</text>\n</a>\n</g>\n<g id=\"a_node2_13\"><a xlink:href=\"GrammarFuzzer.ipynb\" xlink:title=\"expand_tree(self, tree: Tuple[str, Optional[List[Any]]]) &#45;&gt; Tuple[str, Optional[List[Any]]]:&#10;Expand `tree` in a three&#45;phase strategy until all expansions are complete.\">\n<text text-anchor=\"start\" x=\"8.5\" y=\"-329\" font-family=\"'Fira Mono', 'Source Code Pro', 'Courier', monospace\" font-weight=\"bold\" font-size=\"10.00\">expand_tree()</text>\n</a>\n</g>\n<g id=\"a_node2_14\"><a xlink:href=\"GrammarFuzzer.ipynb\" xlink:title=\"expand_tree_once(self, tree: Tuple[str, Optional[List[Any]]]) &#45;&gt; Tuple[str, Optional[List[Any]]]:&#10;Choose an unexpanded symbol in tree; expand it.&#10;Can be overloaded in subclasses.\">\n<text text-anchor=\"start\" x=\"8.5\" y=\"-318\" font-family=\"'Fira Mono', 'Source Code Pro', 'Courier', monospace\" font-weight=\"bold\" font-style=\"italic\" font-size=\"10.00\">expand_tree_once()</text>\n</a>\n</g>\n<g id=\"a_node2_15\"><a xlink:href=\"GrammarFuzzer.ipynb\" xlink:title=\"expand_tree_with_strategy(self, tree: Tuple[str, Optional[List[Any]]], expand_node_method: Callable, limit: Optional[int] = None):&#10;Expand tree using `expand_node_method` as node expansion function&#10;until the number of possible expansions reaches `limit`.\">\n<text text-anchor=\"start\" x=\"8.5\" y=\"-307\" font-family=\"'Fira Mono', 'Source Code Pro', 'Courier', monospace\" font-weight=\"bold\" font-size=\"10.00\">expand_tree_with_strategy()</text>\n</a>\n</g>\n<g id=\"a_node2_16\"><a xlink:href=\"GrammarFuzzer.ipynb\" xlink:title=\"fuzz(self) &#45;&gt; str:&#10;Produce a string from the grammar.\">\n<text text-anchor=\"start\" x=\"8.5\" y=\"-296\" font-family=\"'Fira Mono', 'Source Code Pro', 'Courier', monospace\" font-weight=\"bold\" font-style=\"italic\" font-size=\"10.00\">fuzz()</text>\n</a>\n</g>\n<g id=\"a_node2_17\"><a xlink:href=\"GrammarFuzzer.ipynb\" xlink:title=\"fuzz_tree(self) &#45;&gt; Tuple[str, Optional[List[Any]]]:&#10;Produce a derivation tree from the grammar.\">\n<text text-anchor=\"start\" x=\"8.5\" y=\"-285\" font-family=\"'Fira Mono', 'Source Code Pro', 'Courier', monospace\" font-weight=\"bold\" font-size=\"10.00\">fuzz_tree()</text>\n</a>\n</g>\n<g id=\"a_node2_18\"><a xlink:href=\"GrammarFuzzer.ipynb\" xlink:title=\"log_tree(self, tree: Tuple[str, Optional[List[Any]]]) &#45;&gt; None:&#10;Output a tree if self.log is set; if self.display is also set, show the tree structure\">\n<text text-anchor=\"start\" x=\"8.5\" y=\"-274\" font-family=\"'Fira Mono', 'Source Code Pro', 'Courier', monospace\" font-weight=\"bold\" font-size=\"10.00\">log_tree()</text>\n</a>\n</g>\n<g id=\"a_node2_19\"><a xlink:href=\"GrammarFuzzer.ipynb\" xlink:title=\"process_chosen_children(self, chosen_children: List[Tuple[str, Optional[List[Any]]]], expansion: Union[str, Tuple[str, Dict[str, Any]]]) &#45;&gt; List[Tuple[str, Optional[List[Any]]]]:&#10;Process children after selection. &#160;By default, does nothing.\">\n<text text-anchor=\"start\" x=\"8.5\" y=\"-263\" font-family=\"'Fira Mono', 'Source Code Pro', 'Courier', monospace\" font-weight=\"bold\" font-size=\"10.00\">process_chosen_children()</text>\n</a>\n</g>\n<g id=\"a_node2_20\"><a xlink:href=\"GrammarFuzzer.ipynb\" xlink:title=\"supported_opts(self) &#45;&gt; Set[str]:&#10;Set of supported options. To be overloaded in subclasses.\">\n<text text-anchor=\"start\" x=\"8.5\" y=\"-252\" font-family=\"'Fira Mono', 'Source Code Pro', 'Courier', monospace\" font-weight=\"bold\" font-style=\"italic\" font-size=\"10.00\">supported_opts()</text>\n</a>\n</g>\n<g id=\"a_node2_21\"><a xlink:href=\"GrammarFuzzer.ipynb\" xlink:title=\"any_possible_expansions(self, node: Tuple[str, Optional[List[Any]]]) &#45;&gt; bool\">\n<text text-anchor=\"start\" x=\"8.5\" y=\"-240\" font-family=\"'Fira Mono', 'Source Code Pro', 'Courier', monospace\" font-size=\"10.00\">any_possible_expansions()</text>\n</a>\n</g>\n<g id=\"a_node2_22\"><a xlink:href=\"GrammarFuzzer.ipynb\" xlink:title=\"expand_node(self, node: Tuple[str, Optional[List[Any]]]) &#45;&gt; Tuple[str, Optional[List[Any]]]\">\n<text text-anchor=\"start\" x=\"8.5\" y=\"-229\" font-family=\"'Fira Mono', 'Source Code Pro', 'Courier', monospace\" font-size=\"10.00\">expand_node()</text>\n</a>\n</g>\n<g id=\"a_node2_23\"><a xlink:href=\"GrammarFuzzer.ipynb\" xlink:title=\"expand_node_by_cost(self, node: Tuple[str, Optional[List[Any]]], choose: Callable = &lt;built&#45;in function min&gt;) &#45;&gt; Tuple[str, Optional[List[Any]]]\">\n<text text-anchor=\"start\" x=\"8.5\" y=\"-218\" font-family=\"'Fira Mono', 'Source Code Pro', 'Courier', monospace\" font-size=\"10.00\">expand_node_by_cost()</text>\n</a>\n</g>\n<g id=\"a_node2_24\"><a xlink:href=\"GrammarFuzzer.ipynb\" xlink:title=\"expand_node_max_cost(self, node: Tuple[str, Optional[List[Any]]]) &#45;&gt; Tuple[str, Optional[List[Any]]]\">\n<text text-anchor=\"start\" x=\"8.5\" y=\"-207\" font-family=\"'Fira Mono', 'Source Code Pro', 'Courier', monospace\" font-size=\"10.00\">expand_node_max_cost()</text>\n</a>\n</g>\n<g id=\"a_node2_25\"><a xlink:href=\"GrammarFuzzer.ipynb\" xlink:title=\"expand_node_min_cost(self, node: Tuple[str, Optional[List[Any]]]) &#45;&gt; Tuple[str, Optional[List[Any]]]\">\n<text text-anchor=\"start\" x=\"8.5\" y=\"-196\" font-family=\"'Fira Mono', 'Source Code Pro', 'Courier', monospace\" font-size=\"10.00\">expand_node_min_cost()</text>\n</a>\n</g>\n<g id=\"a_node2_26\"><a xlink:href=\"GrammarFuzzer.ipynb\" xlink:title=\"expansion_cost(self, expansion: Union[str, Tuple[str, Dict[str, Any]]], seen: Set[str] = set()) &#45;&gt; Union[int, float]\">\n<text text-anchor=\"start\" x=\"8.5\" y=\"-185\" font-family=\"'Fira Mono', 'Source Code Pro', 'Courier', monospace\" font-size=\"10.00\">expansion_cost()</text>\n</a>\n</g>\n<g id=\"a_node2_27\"><a xlink:href=\"GrammarFuzzer.ipynb\" xlink:title=\"expansion_to_children(self, expansion: Union[str, Tuple[str, Dict[str, Any]]]) &#45;&gt; List[Tuple[str, Optional[List[Any]]]]\">\n<text text-anchor=\"start\" x=\"8.5\" y=\"-174\" font-family=\"'Fira Mono', 'Source Code Pro', 'Courier', monospace\" font-size=\"10.00\">expansion_to_children()</text>\n</a>\n</g>\n<g id=\"a_node2_28\"><a xlink:href=\"GrammarFuzzer.ipynb\" xlink:title=\"init_tree(self) &#45;&gt; Tuple[str, Optional[List[Any]]]\">\n<text text-anchor=\"start\" x=\"8.5\" y=\"-163\" font-family=\"'Fira Mono', 'Source Code Pro', 'Courier', monospace\" font-size=\"10.00\">init_tree()</text>\n</a>\n</g>\n<g id=\"a_node2_29\"><a xlink:href=\"GrammarFuzzer.ipynb\" xlink:title=\"possible_expansions(self, node: Tuple[str, Optional[List[Any]]]) &#45;&gt; int\">\n<text text-anchor=\"start\" x=\"8.5\" y=\"-152\" font-family=\"'Fira Mono', 'Source Code Pro', 'Courier', monospace\" font-size=\"10.00\">possible_expansions()</text>\n</a>\n</g>\n<g id=\"a_node2_30\"><a xlink:href=\"GrammarFuzzer.ipynb\" xlink:title=\"symbol_cost(self, symbol: str, seen: Set[str] = set()) &#45;&gt; Union[int, float]\">\n<text text-anchor=\"start\" x=\"8.5\" y=\"-141\" font-family=\"'Fira Mono', 'Source Code Pro', 'Courier', monospace\" font-size=\"10.00\">symbol_cost()</text>\n</a>\n</g>\n</a>\n</g>\n</a>\n</g>\n</g>\n<!-- ConcolicGrammarFuzzer&#45;&gt;GrammarFuzzer -->\n<g id=\"edge1\" class=\"edge\">\n<title>ConcolicGrammarFuzzer&#45;&gt;GrammarFuzzer</title>\n<path fill=\"none\" stroke=\"black\" d=\"M89.5,-97.55C89.5,-105.89 89.5,-114.96 89.5,-124.44\"/>\n<polygon fill=\"none\" stroke=\"black\" points=\"86,-124.45 89.5,-134.45 93,-124.45 86,-124.45\"/>\n</g>\n<!-- Fuzzer -->\n<g id=\"node3\" class=\"node\">\n<title>Fuzzer</title>\n<g id=\"a_node3\"><a xlink:href=\"Fuzzer.ipynb\" xlink:title=\"class Fuzzer:&#10;Base class for fuzzers.\">\n<polygon fill=\"none\" stroke=\"black\" points=\"51,-455.5 51,-530.5 128,-530.5 128,-455.5 51,-455.5\"/>\n<text text-anchor=\"start\" x=\"68\" y=\"-516.3\" font-family=\"Patua One, Helvetica, sans-serif\" font-weight=\"bold\" font-size=\"14.00\" fill=\"#b03a2e\">Fuzzer</text>\n<polyline fill=\"none\" stroke=\"black\" points=\"51,-507.5 128,-507.5 \"/>\n<g id=\"a_node3_31\"><a xlink:href=\"#\" xlink:title=\"Fuzzer\">\n<g id=\"a_node3_32\"><a xlink:href=\"Fuzzer.ipynb\" xlink:title=\"__init__(self) &#45;&gt; None:&#10;Constructor\">\n<text text-anchor=\"start\" x=\"59.5\" y=\"-496.5\" font-family=\"'Fira Mono', 'Source Code Pro', 'Courier', monospace\" font-weight=\"bold\" font-style=\"italic\" font-size=\"10.00\">__init__()</text>\n</a>\n</g>\n<g id=\"a_node3_33\"><a xlink:href=\"Fuzzer.ipynb\" xlink:title=\"fuzz(self) &#45;&gt; str:&#10;Return fuzz input\">\n<text text-anchor=\"start\" x=\"59.5\" y=\"-485.5\" font-family=\"'Fira Mono', 'Source Code Pro', 'Courier', monospace\" font-weight=\"bold\" font-style=\"italic\" font-size=\"10.00\">fuzz()</text>\n</a>\n</g>\n<g id=\"a_node3_34\"><a xlink:href=\"Fuzzer.ipynb\" xlink:title=\"run(self, runner: Fuzzer.Runner = &lt;Fuzzer.Runner object at 0x10ee235b0&gt;) &#45;&gt; Tuple[subprocess.CompletedProcess, str]:&#10;Run `runner` with fuzz input\">\n<text text-anchor=\"start\" x=\"59.5\" y=\"-474.5\" font-family=\"'Fira Mono', 'Source Code Pro', 'Courier', monospace\" font-weight=\"bold\" font-size=\"10.00\">run()</text>\n</a>\n</g>\n<g id=\"a_node3_35\"><a xlink:href=\"Fuzzer.ipynb\" xlink:title=\"runs(self, runner: Fuzzer.Runner = &lt;Fuzzer.PrintRunner object at 0x10ee23ee0&gt;, trials: int = 10) &#45;&gt; List[Tuple[subprocess.CompletedProcess, str]]:&#10;Run `runner` with fuzz input, `trials` times\">\n<text text-anchor=\"start\" x=\"59.5\" y=\"-463.5\" font-family=\"'Fira Mono', 'Source Code Pro', 'Courier', monospace\" font-weight=\"bold\" font-size=\"10.00\">runs()</text>\n</a>\n</g>\n</a>\n</g>\n</a>\n</g>\n</g>\n<!-- GrammarFuzzer&#45;&gt;Fuzzer -->\n<g id=\"edge2\" class=\"edge\">\n<title>GrammarFuzzer&#45;&gt;Fuzzer</title>\n<path fill=\"none\" stroke=\"black\" d=\"M89.5,-418.78C89.5,-428.16 89.5,-437.15 89.5,-445.42\"/>\n<polygon fill=\"none\" stroke=\"black\" points=\"86,-445.49 89.5,-455.49 93,-445.49 86,-445.49\"/>\n</g>\n<!-- Legend -->\n<g id=\"node4\" class=\"node\">\n<title>Legend</title>\n<text text-anchor=\"start\" x=\"197.5\" y=\"-66.5\" font-family=\"Patua One, Helvetica, sans-serif\" font-weight=\"bold\" font-size=\"10.00\" fill=\"#b03a2e\">Legend</text>\n<text text-anchor=\"start\" x=\"197.5\" y=\"-56.5\" font-family=\"Patua One, Helvetica, sans-serif\" font-size=\"10.00\">• </text>\n<text text-anchor=\"start\" x=\"204.5\" y=\"-56.5\" font-family=\"'Fira Mono', 'Source Code Pro', 'Courier', monospace\" font-weight=\"bold\" font-size=\"8.00\">public_method()</text>\n<text text-anchor=\"start\" x=\"197.5\" y=\"-46.5\" font-family=\"Patua One, Helvetica, sans-serif\" font-size=\"10.00\">• </text>\n<text text-anchor=\"start\" x=\"204.5\" y=\"-46.5\" font-family=\"'Fira Mono', 'Source Code Pro', 'Courier', monospace\" font-size=\"8.00\">private_method()</text>\n<text text-anchor=\"start\" x=\"197.5\" y=\"-36.5\" font-family=\"Patua One, Helvetica, sans-serif\" font-size=\"10.00\">• </text>\n<text text-anchor=\"start\" x=\"204.5\" y=\"-36.5\" font-family=\"'Fira Mono', 'Source Code Pro', 'Courier', monospace\" font-style=\"italic\" font-size=\"8.00\">overloaded_method()</text>\n<text text-anchor=\"start\" x=\"197.5\" y=\"-27.3\" font-family=\"Helvetica,sans-Serif\" font-size=\"9.00\">Hover over names to see doc</text>\n</g>\n</g>\n</svg>\n",
      "text/plain": [
       "<graphviz.graphs.Digraph at 0x167f162b0>"
      ]
     },
     "execution_count": 327,
     "metadata": {},
     "output_type": "execute_result"
    }
   ],
   "source": [
    "# ignore\n",
    "display_class_hierarchy(ConcolicGrammarFuzzer)"
   ]
  },
  {
   "cell_type": "markdown",
   "metadata": {
    "button": false,
    "new_sheet": true,
    "run_control": {
     "read_only": false
    },
    "slideshow": {
     "slide_type": "slide"
    }
   },
   "source": [
    "## Lessons Learned\n",
    "\n",
    "* Concolic execution can often provide more information than taint analysis with respect to the program behavior. However, this comes at a much larger runtime cost. Hence, unlike taint analysis, real-time analysis is often not possible.\n",
    "\n",
    "* Similar to taint analysis, concolic execution also suffers from limitations such as indirect control flow and internal function calls.\n",
    "\n",
    "* Predicates from concolic execution can be used in conjunction with fuzzing to provide an even more robust indication of incorrect behavior than taints, and can be used to create grammars that are better at producing valid inputs."
   ]
  },
  {
   "cell_type": "markdown",
   "metadata": {
    "button": false,
    "new_sheet": false,
    "run_control": {
     "read_only": false
    },
    "slideshow": {
     "slide_type": "slide"
    }
   },
   "source": [
    "## Next Steps\n",
    "\n",
    "A costlier but stronger alternative to concolic fuzzing is [symbolic fuzzing](SymbolicFuzzer.ipynb). Similarly, [search based fuzzing](SearchBasedFuzzer.ipynb) can often provide a cheaper exploration strategy than relying on SMT solvers to provide inputs slightly different from the current path."
   ]
  },
  {
   "cell_type": "markdown",
   "metadata": {
    "slideshow": {
     "slide_type": "slide"
    }
   },
   "source": [
    "## Background\n",
    "\n",
    "The technique of concolic execution was originally used to inform and expand the scope of _symbolic execution_ \\cite{king1976symbolic}, a static analysis technique for program analysis. Laron et al. cite{Larson2003} was the first to use the concolic execution technique.\n",
    "\n",
    "The idea of using proxy objects for collecting constraints was pioneered by Cadar et al. \\cite{cadar2005execution}. The concolic execution technique for Python programs used in this chapter was pioneered by PeerCheck \\cite{PeerCheck}, and Python Error Finder \\cite{Barsotti2018}."
   ]
  },
  {
   "cell_type": "markdown",
   "metadata": {
    "button": false,
    "new_sheet": true,
    "run_control": {
     "read_only": false
    },
    "slideshow": {
     "slide_type": "slide"
    }
   },
   "source": [
    "## Exercises"
   ]
  },
  {
   "cell_type": "markdown",
   "metadata": {
    "slideshow": {
     "slide_type": "subslide"
    }
   },
   "source": [
    "### Exercise 1: Implment a Concolic Float Proxy Class\n"
   ]
  },
  {
   "cell_type": "markdown",
   "metadata": {
    "slideshow": {
     "slide_type": "fragment"
    }
   },
   "source": [
    "While implementing the `zint` binary operators, we asserted that the results were `int`. However, that need not be the case. For example, division can result in `float`. Hence, we need proxy objects for `float`. Can you implement a similar proxy object for `float` and fix the `zint` binary operator definition?"
   ]
  },
  {
   "cell_type": "markdown",
   "metadata": {
    "slideshow": {
     "slide_type": "fragment"
    }
   },
   "source": [
    "__Solution.__ The solution is as follows."
   ]
  },
  {
   "cell_type": "markdown",
   "metadata": {
    "slideshow": {
     "slide_type": "fragment"
    }
   },
   "source": [
    "As in the case of `zint`, we first open up `zfloat` for extension."
   ]
  },
  {
   "cell_type": "code",
   "execution_count": 328,
   "metadata": {
    "execution": {
     "iopub.execute_input": "2022-01-05T17:28:21.307506Z",
     "iopub.status.busy": "2022-01-05T17:28:21.306937Z",
     "iopub.status.idle": "2022-01-05T17:28:21.308527Z",
     "shell.execute_reply": "2022-01-05T17:28:21.308893Z"
    },
    "slideshow": {
     "slide_type": "fragment"
    }
   },
   "outputs": [],
   "source": [
    "class zfloat(float):\n",
    "    def __new__(cls, context, zn, v, *args, **kw):\n",
    "        return float.__new__(cls, v, *args, **kw)"
   ]
  },
  {
   "cell_type": "markdown",
   "metadata": {
    "slideshow": {
     "slide_type": "fragment"
    }
   },
   "source": [
    "We then implement the initialization methods."
   ]
  },
  {
   "cell_type": "code",
   "execution_count": 329,
   "metadata": {
    "execution": {
     "iopub.execute_input": "2022-01-05T17:28:21.313092Z",
     "iopub.status.busy": "2022-01-05T17:28:21.312587Z",
     "iopub.status.idle": "2022-01-05T17:28:21.314317Z",
     "shell.execute_reply": "2022-01-05T17:28:21.314684Z"
    },
    "slideshow": {
     "slide_type": "subslide"
    }
   },
   "outputs": [],
   "source": [
    "class zfloat(zfloat):\n",
    "    @classmethod\n",
    "    def create(cls, context, zn, v=None):\n",
    "        return zproxy_create(cls, 'Real', z3.Real, context, zn, v)\n",
    "\n",
    "    def __init__(self, context, z, v=None):\n",
    "        self.z, self.v = z, v\n",
    "        self.context = context"
   ]
  },
  {
   "cell_type": "markdown",
   "metadata": {
    "slideshow": {
     "slide_type": "fragment"
    }
   },
   "source": [
    "The helper for when one of the arguments in a binary operation is not `float`."
   ]
  },
  {
   "cell_type": "code",
   "execution_count": 330,
   "metadata": {
    "execution": {
     "iopub.execute_input": "2022-01-05T17:28:21.318573Z",
     "iopub.status.busy": "2022-01-05T17:28:21.318057Z",
     "iopub.status.idle": "2022-01-05T17:28:21.319507Z",
     "shell.execute_reply": "2022-01-05T17:28:21.320130Z"
    },
    "slideshow": {
     "slide_type": "fragment"
    }
   },
   "outputs": [],
   "source": [
    "class zfloat(zfloat):\n",
    "    def _zv(self, o):\n",
    "        return (o.z, o.v) if isinstance(o, zfloat) else (z3.RealVal(o), o)"
   ]
  },
  {
   "cell_type": "markdown",
   "metadata": {
    "slideshow": {
     "slide_type": "fragment"
    }
   },
   "source": [
    "Coerce `float` into bool value for use in conditionals."
   ]
  },
  {
   "cell_type": "code",
   "execution_count": 331,
   "metadata": {
    "execution": {
     "iopub.execute_input": "2022-01-05T17:28:21.323770Z",
     "iopub.status.busy": "2022-01-05T17:28:21.323171Z",
     "iopub.status.idle": "2022-01-05T17:28:21.324594Z",
     "shell.execute_reply": "2022-01-05T17:28:21.325143Z"
    },
    "slideshow": {
     "slide_type": "subslide"
    }
   },
   "outputs": [],
   "source": [
    "class zfloat(zfloat):\n",
    "    def __bool__(self):\n",
    "        # force registering boolean condition\n",
    "        if self != 0.0:\n",
    "            return True\n",
    "        return False"
   ]
  },
  {
   "cell_type": "markdown",
   "metadata": {
    "slideshow": {
     "slide_type": "fragment"
    }
   },
   "source": [
    "Define the common proxy method for comparison methods"
   ]
  },
  {
   "cell_type": "code",
   "execution_count": 332,
   "metadata": {
    "execution": {
     "iopub.execute_input": "2022-01-05T17:28:21.329094Z",
     "iopub.status.busy": "2022-01-05T17:28:21.328584Z",
     "iopub.status.idle": "2022-01-05T17:28:21.330413Z",
     "shell.execute_reply": "2022-01-05T17:28:21.330797Z"
    },
    "slideshow": {
     "slide_type": "fragment"
    }
   },
   "outputs": [],
   "source": [
    "def make_float_bool_wrapper(fname, fun, zfun):\n",
    "    def proxy(self, other):\n",
    "        z, v = self._zv(other)\n",
    "        z_ = zfun(self.z, z)\n",
    "        v_ = fun(self.v, v)\n",
    "        return zbool(self.context, z_, v_)\n",
    "\n",
    "    return proxy"
   ]
  },
  {
   "cell_type": "markdown",
   "metadata": {
    "slideshow": {
     "slide_type": "subslide"
    }
   },
   "source": [
    "We apply the comparison methods on the defined `zfloat` class."
   ]
  },
  {
   "cell_type": "code",
   "execution_count": 333,
   "metadata": {
    "execution": {
     "iopub.execute_input": "2022-01-05T17:28:21.334074Z",
     "iopub.status.busy": "2022-01-05T17:28:21.333531Z",
     "iopub.status.idle": "2022-01-05T17:28:21.335125Z",
     "shell.execute_reply": "2022-01-05T17:28:21.335658Z"
    },
    "slideshow": {
     "slide_type": "fragment"
    }
   },
   "outputs": [],
   "source": [
    "FLOAT_BOOL_OPS = [\n",
    "    '__eq__',\n",
    "    # '__req__',\n",
    "    '__ne__',\n",
    "    # '__rne__',\n",
    "    '__gt__',\n",
    "    '__lt__',\n",
    "    '__le__',\n",
    "    '__ge__',\n",
    "]"
   ]
  },
  {
   "cell_type": "code",
   "execution_count": 334,
   "metadata": {
    "execution": {
     "iopub.execute_input": "2022-01-05T17:28:21.339215Z",
     "iopub.status.busy": "2022-01-05T17:28:21.338663Z",
     "iopub.status.idle": "2022-01-05T17:28:21.340310Z",
     "shell.execute_reply": "2022-01-05T17:28:21.340767Z"
    },
    "slideshow": {
     "slide_type": "fragment"
    }
   },
   "outputs": [],
   "source": [
    "for fname in FLOAT_BOOL_OPS:\n",
    "    fun = getattr(float, fname)\n",
    "    zfun = getattr(z3.ArithRef, fname)\n",
    "    setattr(zfloat, fname, make_float_bool_wrapper(fname, fun, zfun))"
   ]
  },
  {
   "cell_type": "markdown",
   "metadata": {
    "slideshow": {
     "slide_type": "subslide"
    }
   },
   "source": [
    "Similarly, we define the common proxy method for binary operators."
   ]
  },
  {
   "cell_type": "code",
   "execution_count": 335,
   "metadata": {
    "execution": {
     "iopub.execute_input": "2022-01-05T17:28:21.344976Z",
     "iopub.status.busy": "2022-01-05T17:28:21.344427Z",
     "iopub.status.idle": "2022-01-05T17:28:21.345910Z",
     "shell.execute_reply": "2022-01-05T17:28:21.346273Z"
    },
    "slideshow": {
     "slide_type": "fragment"
    }
   },
   "outputs": [],
   "source": [
    "def make_float_binary_wrapper(fname, fun, zfun):\n",
    "    def proxy(self, other):\n",
    "        z, v = self._zv(other)\n",
    "        z_ = zfun(self.z, z)\n",
    "        v_ = fun(self.v, v)\n",
    "        return zfloat(self.context, z_, v_)\n",
    "\n",
    "    return proxy"
   ]
  },
  {
   "cell_type": "markdown",
   "metadata": {
    "slideshow": {
     "slide_type": "fragment"
    }
   },
   "source": [
    "And apply them on `zfloat`"
   ]
  },
  {
   "cell_type": "code",
   "execution_count": 336,
   "metadata": {
    "execution": {
     "iopub.execute_input": "2022-01-05T17:28:21.350173Z",
     "iopub.status.busy": "2022-01-05T17:28:21.349576Z",
     "iopub.status.idle": "2022-01-05T17:28:21.351571Z",
     "shell.execute_reply": "2022-01-05T17:28:21.351981Z"
    },
    "slideshow": {
     "slide_type": "subslide"
    }
   },
   "outputs": [],
   "source": [
    "FLOAT_BINARY_OPS = [\n",
    "    '__add__',\n",
    "    '__sub__',\n",
    "    '__mul__',\n",
    "    '__truediv__',\n",
    "    # '__div__',\n",
    "    '__mod__',\n",
    "    # '__divmod__',\n",
    "    '__pow__',\n",
    "    # '__lshift__',\n",
    "    # '__rshift__',\n",
    "    # '__and__',\n",
    "    # '__xor__',\n",
    "    # '__or__',\n",
    "    '__radd__',\n",
    "    '__rsub__',\n",
    "    '__rmul__',\n",
    "    '__rtruediv__',\n",
    "    # '__rdiv__',\n",
    "    '__rmod__',\n",
    "    # '__rdivmod__',\n",
    "    '__rpow__',\n",
    "    # '__rlshift__',\n",
    "    # '__rrshift__',\n",
    "    # '__rand__',\n",
    "    # '__rxor__',\n",
    "    # '__ror__',\n",
    "]"
   ]
  },
  {
   "cell_type": "code",
   "execution_count": 337,
   "metadata": {
    "execution": {
     "iopub.execute_input": "2022-01-05T17:28:21.355761Z",
     "iopub.status.busy": "2022-01-05T17:28:21.355150Z",
     "iopub.status.idle": "2022-01-05T17:28:21.356946Z",
     "shell.execute_reply": "2022-01-05T17:28:21.357308Z"
    },
    "slideshow": {
     "slide_type": "subslide"
    }
   },
   "outputs": [],
   "source": [
    "for fname in FLOAT_BINARY_OPS:\n",
    "    fun = getattr(float, fname)\n",
    "    zfun = getattr(z3.ArithRef, fname)\n",
    "    setattr(zfloat, fname, make_float_binary_wrapper(fname, fun, zfun))"
   ]
  },
  {
   "cell_type": "markdown",
   "metadata": {
    "slideshow": {
     "slide_type": "fragment"
    }
   },
   "source": [
    "These are used as follows."
   ]
  },
  {
   "cell_type": "code",
   "execution_count": 338,
   "metadata": {
    "execution": {
     "iopub.execute_input": "2022-01-05T17:28:21.361256Z",
     "iopub.status.busy": "2022-01-05T17:28:21.360675Z",
     "iopub.status.idle": "2022-01-05T17:28:21.363222Z",
     "shell.execute_reply": "2022-01-05T17:28:21.363586Z"
    },
    "slideshow": {
     "slide_type": "fragment"
    }
   },
   "outputs": [],
   "source": [
    "with ConcolicTracer() as _:\n",
    "    za = zfloat.create(_.context, 'float_a', 1.0)\n",
    "    zb = zfloat.create(_.context, 'float_b', 0.0)\n",
    "    if za * zb:\n",
    "        print(1)"
   ]
  },
  {
   "cell_type": "code",
   "execution_count": 339,
   "metadata": {
    "execution": {
     "iopub.execute_input": "2022-01-05T17:28:21.367361Z",
     "iopub.status.busy": "2022-01-05T17:28:21.366809Z",
     "iopub.status.idle": "2022-01-05T17:28:21.370601Z",
     "shell.execute_reply": "2022-01-05T17:28:21.370980Z"
    },
    "slideshow": {
     "slide_type": "fragment"
    }
   },
   "outputs": [
    {
     "data": {
      "text/plain": [
       "({'float_a': 'Real', 'float_b': 'Real'}, [Not(float_a*float_b != 0)])"
      ]
     },
     "execution_count": 339,
     "metadata": {},
     "output_type": "execute_result"
    }
   ],
   "source": [
    "_.context"
   ]
  },
  {
   "cell_type": "markdown",
   "metadata": {
    "slideshow": {
     "slide_type": "fragment"
    }
   },
   "source": [
    "Finally, we fix the `zint` binary wrapper to correctly create `zfloat` when needed."
   ]
  },
  {
   "cell_type": "code",
   "execution_count": 340,
   "metadata": {
    "execution": {
     "iopub.execute_input": "2022-01-05T17:28:21.375722Z",
     "iopub.status.busy": "2022-01-05T17:28:21.375213Z",
     "iopub.status.idle": "2022-01-05T17:28:21.376731Z",
     "shell.execute_reply": "2022-01-05T17:28:21.377163Z"
    },
    "slideshow": {
     "slide_type": "subslide"
    }
   },
   "outputs": [],
   "source": [
    "def make_int_binary_wrapper(fname, fun, zfun):  # type: ignore\n",
    "    def proxy(self, other):\n",
    "        z, v = self._zv(other)\n",
    "        z_ = zfun(self.z, z)\n",
    "        v_ = fun(self.v, v)\n",
    "        if isinstance(v_, float):\n",
    "            return zfloat(self.context, z_, v_)\n",
    "        elif isinstance(v_, int):\n",
    "            return zint(self.context, z_, v_)\n",
    "        else:\n",
    "            assert False\n",
    "\n",
    "    return proxy"
   ]
  },
  {
   "cell_type": "code",
   "execution_count": 341,
   "metadata": {
    "execution": {
     "iopub.execute_input": "2022-01-05T17:28:21.380733Z",
     "iopub.status.busy": "2022-01-05T17:28:21.380222Z",
     "iopub.status.idle": "2022-01-05T17:28:21.381764Z",
     "shell.execute_reply": "2022-01-05T17:28:21.382193Z"
    },
    "slideshow": {
     "slide_type": "subslide"
    }
   },
   "outputs": [],
   "source": [
    "for fname in INT_BINARY_OPS:\n",
    "    fun = getattr(int, fname)\n",
    "    zfun = getattr(z3.ArithRef, fname)\n",
    "    setattr(zint, fname, make_int_binary_wrapper(fname, fun, zfun))"
   ]
  },
  {
   "cell_type": "markdown",
   "metadata": {
    "slideshow": {
     "slide_type": "fragment"
    }
   },
   "source": [
    "Checking whether it worked as expected."
   ]
  },
  {
   "cell_type": "code",
   "execution_count": 342,
   "metadata": {
    "execution": {
     "iopub.execute_input": "2022-01-05T17:28:21.385671Z",
     "iopub.status.busy": "2022-01-05T17:28:21.385129Z",
     "iopub.status.idle": "2022-01-05T17:28:21.390198Z",
     "shell.execute_reply": "2022-01-05T17:28:21.390566Z"
    },
    "slideshow": {
     "slide_type": "fragment"
    }
   },
   "outputs": [],
   "source": [
    "with ConcolicTracer() as _:\n",
    "    v = _[binomial](4, 2)"
   ]
  },
  {
   "cell_type": "code",
   "execution_count": 343,
   "metadata": {
    "execution": {
     "iopub.execute_input": "2022-01-05T17:28:21.393625Z",
     "iopub.status.busy": "2022-01-05T17:28:21.393078Z",
     "iopub.status.idle": "2022-01-05T17:28:21.428803Z",
     "shell.execute_reply": "2022-01-05T17:28:21.429288Z"
    },
    "slideshow": {
     "slide_type": "fragment"
    }
   },
   "outputs": [
    {
     "data": {
      "text/plain": [
       "('sat', {'n': ('4', 'Int'), 'k': ('2', 'Int')})"
      ]
     },
     "execution_count": 343,
     "metadata": {},
     "output_type": "execute_result"
    }
   ],
   "source": [
    "_.zeval()"
   ]
  },
  {
   "cell_type": "markdown",
   "metadata": {
    "slideshow": {
     "slide_type": "subslide"
    }
   },
   "source": [
    "### Exercise 2: Bit Manipulation"
   ]
  },
  {
   "cell_type": "markdown",
   "metadata": {
    "slideshow": {
     "slide_type": "fragment"
    }
   },
   "source": [
    "Similar to floats, implementing the bit manipulation functions such as `xor` involves converting `int` to its bit vector equivalents, performing operations on them, and converting it back to the original type. Can you implement the bit manipulation operations for `zint`?"
   ]
  },
  {
   "cell_type": "markdown",
   "metadata": {
    "slideshow": {
     "slide_type": "fragment"
    }
   },
   "source": [
    "__Solution.__ The solution is as follows."
   ]
  },
  {
   "cell_type": "markdown",
   "metadata": {
    "slideshow": {
     "slide_type": "fragment"
    }
   },
   "source": [
    "We first define the proxy method as before."
   ]
  },
  {
   "cell_type": "code",
   "execution_count": 344,
   "metadata": {
    "execution": {
     "iopub.execute_input": "2022-01-05T17:28:21.435033Z",
     "iopub.status.busy": "2022-01-05T17:28:21.434510Z",
     "iopub.status.idle": "2022-01-05T17:28:21.436098Z",
     "shell.execute_reply": "2022-01-05T17:28:21.436459Z"
    },
    "slideshow": {
     "slide_type": "subslide"
    }
   },
   "outputs": [],
   "source": [
    "def make_int_bit_wrapper(fname, fun, zfun):\n",
    "    def proxy(self, other):\n",
    "        z, v = self._zv(other)\n",
    "        z_ = z3.BV2Int(\n",
    "            zfun(\n",
    "                z3.Int2BV(\n",
    "                    self.z, num_bits=64), z3.Int2BV(\n",
    "                    z, num_bits=64)))\n",
    "        v_ = fun(self.v, v)\n",
    "        return zint(self.context, z_, v_)\n",
    "\n",
    "    return proxy"
   ]
  },
  {
   "cell_type": "markdown",
   "metadata": {
    "slideshow": {
     "slide_type": "fragment"
    }
   },
   "source": [
    "It is then applied to the `zint` class."
   ]
  },
  {
   "cell_type": "code",
   "execution_count": 345,
   "metadata": {
    "execution": {
     "iopub.execute_input": "2022-01-05T17:28:21.440092Z",
     "iopub.status.busy": "2022-01-05T17:28:21.439549Z",
     "iopub.status.idle": "2022-01-05T17:28:21.441175Z",
     "shell.execute_reply": "2022-01-05T17:28:21.441681Z"
    },
    "slideshow": {
     "slide_type": "subslide"
    }
   },
   "outputs": [],
   "source": [
    "BIT_OPS = [\n",
    "    '__lshift__',\n",
    "    '__rshift__',\n",
    "    '__and__',\n",
    "    '__xor__',\n",
    "    '__or__',\n",
    "    '__rlshift__',\n",
    "    '__rrshift__',\n",
    "    '__rand__',\n",
    "    '__rxor__',\n",
    "    '__ror__',\n",
    "]"
   ]
  },
  {
   "cell_type": "code",
   "execution_count": 346,
   "metadata": {
    "execution": {
     "iopub.execute_input": "2022-01-05T17:28:21.445605Z",
     "iopub.status.busy": "2022-01-05T17:28:21.445015Z",
     "iopub.status.idle": "2022-01-05T17:28:21.446626Z",
     "shell.execute_reply": "2022-01-05T17:28:21.447250Z"
    },
    "slideshow": {
     "slide_type": "subslide"
    }
   },
   "outputs": [],
   "source": [
    "def init_concolic_4():\n",
    "    for fname in BIT_OPS:\n",
    "        fun = getattr(int, fname)\n",
    "        zfun = getattr(z3.BitVecRef, fname)\n",
    "        setattr(zint, fname, make_int_bit_wrapper(fname, fun, zfun))"
   ]
  },
  {
   "cell_type": "code",
   "execution_count": 347,
   "metadata": {
    "execution": {
     "iopub.execute_input": "2022-01-05T17:28:21.450702Z",
     "iopub.status.busy": "2022-01-05T17:28:21.450020Z",
     "iopub.status.idle": "2022-01-05T17:28:21.451843Z",
     "shell.execute_reply": "2022-01-05T17:28:21.452299Z"
    },
    "slideshow": {
     "slide_type": "fragment"
    }
   },
   "outputs": [],
   "source": [
    "INITIALIZER_LIST.append(init_concolic_4)"
   ]
  },
  {
   "cell_type": "code",
   "execution_count": 348,
   "metadata": {
    "execution": {
     "iopub.execute_input": "2022-01-05T17:28:21.455573Z",
     "iopub.status.busy": "2022-01-05T17:28:21.454941Z",
     "iopub.status.idle": "2022-01-05T17:28:21.456802Z",
     "shell.execute_reply": "2022-01-05T17:28:21.457196Z"
    },
    "slideshow": {
     "slide_type": "fragment"
    }
   },
   "outputs": [],
   "source": [
    "init_concolic_4()"
   ]
  },
  {
   "cell_type": "markdown",
   "metadata": {
    "slideshow": {
     "slide_type": "fragment"
    }
   },
   "source": [
    "Invert is the only unary bit manipulation method."
   ]
  },
  {
   "cell_type": "code",
   "execution_count": 349,
   "metadata": {
    "execution": {
     "iopub.execute_input": "2022-01-05T17:28:21.461206Z",
     "iopub.status.busy": "2022-01-05T17:28:21.460616Z",
     "iopub.status.idle": "2022-01-05T17:28:21.462282Z",
     "shell.execute_reply": "2022-01-05T17:28:21.462650Z"
    },
    "slideshow": {
     "slide_type": "fragment"
    }
   },
   "outputs": [],
   "source": [
    "class zint(zint):\n",
    "    def __invert__(self):\n",
    "        return zint(self.context, z3.BV2Int(\n",
    "            ~z3.Int2BV(self.z, num_bits=64)), ~self.v)"
   ]
  },
  {
   "cell_type": "markdown",
   "metadata": {
    "slideshow": {
     "slide_type": "fragment"
    }
   },
   "source": [
    "The `my_fn()` computes `xor` and returns `True` if the `xor` results in a non zero value."
   ]
  },
  {
   "cell_type": "code",
   "execution_count": 350,
   "metadata": {
    "execution": {
     "iopub.execute_input": "2022-01-05T17:28:21.466207Z",
     "iopub.status.busy": "2022-01-05T17:28:21.465702Z",
     "iopub.status.idle": "2022-01-05T17:28:21.467358Z",
     "shell.execute_reply": "2022-01-05T17:28:21.467717Z"
    },
    "slideshow": {
     "slide_type": "subslide"
    }
   },
   "outputs": [],
   "source": [
    "def my_fn(a, b):\n",
    "    o_ = (a | b)\n",
    "    a_ = (a & b)\n",
    "    if o_ & ~a_:\n",
    "        return True\n",
    "    else:\n",
    "        return False"
   ]
  },
  {
   "cell_type": "markdown",
   "metadata": {
    "slideshow": {
     "slide_type": "fragment"
    }
   },
   "source": [
    "Using that under `ConcolicTracer`"
   ]
  },
  {
   "cell_type": "code",
   "execution_count": 351,
   "metadata": {
    "execution": {
     "iopub.execute_input": "2022-01-05T17:28:21.471129Z",
     "iopub.status.busy": "2022-01-05T17:28:21.470611Z",
     "iopub.status.idle": "2022-01-05T17:28:21.474277Z",
     "shell.execute_reply": "2022-01-05T17:28:21.474653Z"
    },
    "slideshow": {
     "slide_type": "fragment"
    }
   },
   "outputs": [
    {
     "name": "stdout",
     "output_type": "stream",
     "text": [
      "True\n"
     ]
    }
   ],
   "source": [
    "with ConcolicTracer() as _:\n",
    "    print(_[my_fn](2, 1))"
   ]
  },
  {
   "cell_type": "markdown",
   "metadata": {
    "slideshow": {
     "slide_type": "fragment"
    }
   },
   "source": [
    "We log the computed SMT expression to verify that everything went well."
   ]
  },
  {
   "cell_type": "code",
   "execution_count": 352,
   "metadata": {
    "execution": {
     "iopub.execute_input": "2022-01-05T17:28:21.478310Z",
     "iopub.status.busy": "2022-01-05T17:28:21.477699Z",
     "iopub.status.idle": "2022-01-05T17:28:21.601337Z",
     "shell.execute_reply": "2022-01-05T17:28:21.601995Z"
    },
    "slideshow": {
     "slide_type": "subslide"
    }
   },
   "outputs": [
    {
     "name": "stdout",
     "output_type": "stream",
     "text": [
      "Predicates in path:\n",
      "0 0 !=\n",
      "BV2Int(int2bv(BV2Int(int2bv(my_fn_a_int_1) |\n",
      "                     int2bv(my_fn_b_int_2))) &\n",
      "       int2bv(BV2Int(~int2bv(BV2Int(int2bv(my_fn_a_int_1) &\n",
      "                                    int2bv(my_fn_b_int_2))))))\n",
      "\n",
      "(declare-const my_fn_a_int_1 Int)\n",
      "(declare-const my_fn_b_int_2 Int)\n",
      "(assert (let ((a!1 (bvnot (bvor (bvnot ((_ int2bv 64) my_fn_a_int_1))\n",
      "                        (bvnot ((_ int2bv 64) my_fn_b_int_2))))))\n",
      "(let ((a!2 (bvor (bvnot (bvor ((_ int2bv 64) my_fn_a_int_1)\n",
      "                              ((_ int2bv 64) my_fn_b_int_2)))\n",
      "                 a!1)))\n",
      "  (not (= 0 (bv2int (bvnot a!2)))))))\n",
      "(check-sat)\n",
      "(get-model)\n",
      "unknown\n",
      "(error \"line 10 column 10: model is not available\")\n"
     ]
    },
    {
     "data": {
      "text/plain": [
       "('Gave up', None)"
      ]
     },
     "execution_count": 352,
     "metadata": {},
     "output_type": "execute_result"
    }
   ],
   "source": [
    "_.zeval(log=True)"
   ]
  },
  {
   "cell_type": "markdown",
   "metadata": {
    "slideshow": {
     "slide_type": "subslide"
    }
   },
   "source": [
    "We can confirm from the formulas generated that the bit manipulation functions worked correctly. "
   ]
  },
  {
   "cell_type": "markdown",
   "metadata": {
    "slideshow": {
     "slide_type": "subslide"
    }
   },
   "source": [
    "### Exercise 3: String Translation Functions"
   ]
  },
  {
   "cell_type": "markdown",
   "metadata": {
    "slideshow": {
     "slide_type": "fragment"
    }
   },
   "source": [
    "We have seen how to define `upper()` and `lower()`. Can you define the `capitalize()`, `title()`, and `swapcase()` methods?"
   ]
  },
  {
   "cell_type": "markdown",
   "metadata": {
    "slideshow": {
     "slide_type": "fragment"
    }
   },
   "source": [
    "__Solution.__ Solution not yet available."
   ]
  }
 ],
 "metadata": {
  "ipub": {
   "bibliography": "fuzzingbook.bib",
   "toc": true
  },
  "kernelspec": {
   "display_name": "Python 3 (ipykernel)",
   "language": "python",
   "name": "python3"
  },
  "language_info": {
   "codemirror_mode": {
    "name": "ipython",
    "version": 3
   },
   "file_extension": ".py",
   "mimetype": "text/x-python",
   "name": "python",
   "nbconvert_exporter": "python",
   "pygments_lexer": "ipython3",
   "version": "3.9.9"
  },
  "toc": {
   "base_numbering": 1,
   "nav_menu": {},
   "number_sections": true,
   "sideBar": true,
   "skip_h1_title": true,
   "title_cell": "",
   "title_sidebar": "Contents",
   "toc_cell": false,
   "toc_position": {},
   "toc_section_display": true,
   "toc_window_display": true
  },
  "toc-autonumbering": false,
  "varInspector": {
   "cols": {
    "lenName": 16,
    "lenType": 16,
    "lenVar": 40
   },
   "kernels_config": {
    "python": {
     "delete_cmd_postfix": "",
     "delete_cmd_prefix": "del ",
     "library": "var_list.py",
     "varRefreshCmd": "print(var_dic_list())"
    },
    "r": {
     "delete_cmd_postfix": ") ",
     "delete_cmd_prefix": "rm(",
     "library": "var_list.r",
     "varRefreshCmd": "cat(var_dic_list()) "
    }
   },
   "types_to_exclude": [
    "module",
    "function",
    "builtin_function_or_method",
    "instance",
    "_Feature"
   ],
   "window_display": false
  }
 },
 "nbformat": 4,
 "nbformat_minor": 4
}
